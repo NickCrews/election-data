{
 "cells": [
  {
   "cell_type": "markdown",
   "metadata": {},
   "source": [
    "## 2018-2022 Nationwide election results, by precinct\n",
    "\n",
    "This pulls nationwide precinct level results from 2018, 2020, and 2022 from the\n",
    "MIT Election Science Lab, from several different files:\n",
    "- 2018 State: https://doi.org/10.7910/DVN/ZFXEJU\n",
    "- 2018 US Senate: https://doi.org/10.7910/DVN/DGNAFS\n",
    "- 2018 US House: https://doi.org/10.7910/DVN/IVIXLK\n",
    "- 2020 State: https://doi.org/10.7910/DVN/OKL2K1\n",
    "- 2020 US House: https://doi.org/10.7910/DVN/VLGF2M\n",
    "- 2020 US Senate: https://doi.org/10.7910/DVN/ER9XTV\n",
    "- 2020 President: https://doi.org/10.7910/DVN/JXPREB\n",
    "- 2022 All Levels: https://github.com/MEDSL/2022-elections-official/tree/ad541ea94cb6697c0375a8cffe8e91b60372f50b/individual_states\n",
    "   not published on dataverse yet, download from github.\n",
    "\n",
    "I tried to use [State Precinct-Level Returns 2016](https://doi.org/10.7910/DVN/GSZG1O),\n",
    "but this is ain a different format from the later ones, and can't be parsed by duckdb:\n",
    "https://github.com/duckdb/duckdb/issues/10929\n",
    "\n",
    "I tried for a bit using the [programmatic API](https://guides.dataverse.org/en/5.5/api/dataaccess.html#download-by-dataset-api)\n",
    "to download, but it wasn't working so just gave up.\n",
    "\n",
    "It also does some additional cleanup of that raw data, eg\n",
    "- normalize date formats and fips codes.\n",
    "- normalize \"APPROVE\" and \"FOR\" to a simple \"YES\"\n",
    "- fill in NULLs when it seems correct to do so\n",
    "\n",
    "I don't drop any rows or otherwise lose information.\n",
    "    "
   ]
  },
  {
   "cell_type": "code",
   "execution_count": 1,
   "metadata": {},
   "outputs": [],
   "source": [
    "from pathlib import Path\n",
    "\n",
    "import ibis\n",
    "from ibis import _\n",
    "from election_data import tests\n",
    "\n",
    "ibis.options.interactive = True"
   ]
  },
  {
   "cell_type": "code",
   "execution_count": 2,
   "metadata": {},
   "outputs": [],
   "source": [
    "def parse_date(s):\n",
    "    # some dates are in the format \"mm/dd/yyyy\" instead of \"yyyy-mm-dd\"\n",
    "    # https://github.com/MEDSL/2022-elections-official/issues/20\n",
    "    s = s.re_replace(r\"(\\d\\d?)/(\\d\\d?)/(20)?(\\d\\d)\", r\"20\\4-\\1-\\2\")\n",
    "    return s.cast(\"date\")\n",
    "\n",
    "\n",
    "assert parse_date(ibis.literal(\"01/02/20\")).cast(str).execute() == \"2020-01-02\"\n",
    "assert parse_date(ibis.literal(\"11/8/22\")).cast(str).execute() == \"2022-11-08\"\n",
    "assert parse_date(ibis.literal(\"01/02/2020\")).cast(str).execute() == \"2020-01-02\"\n",
    "assert parse_date(ibis.literal(\"2020-01-02\")).cast(str).execute() == \"2020-01-02\"\n",
    "\n",
    "\n",
    "def parse_fips5(s):\n",
    "    # guard against https://github.com/MEDSL/2022-elections-official/issues/21\n",
    "    s = s.nullif(\"NAN\")\n",
    "    s = s.nullif(\"NA\")\n",
    "    s = s.cast(int).cast(str)\n",
    "    s = s[:5]\n",
    "    # pad with 0 if necessary\n",
    "    s = s.re_replace(r\"^(\\d{4})$\", r\"0\\1\")\n",
    "    return s\n",
    "\n",
    "\n",
    "assert parse_fips5(ibis.literal(\"1234\")).execute() == \"01234\"\n",
    "assert parse_fips5(ibis.literal(\"12345\")).execute() == \"12345\"\n",
    "assert parse_fips5(ibis.literal(\"12345678\")).execute() == \"12345\"\n",
    "assert parse_fips5(ibis.literal(\"NA\")).execute() is None\n",
    "assert parse_fips5(ibis.literal(\"NAN\")).execute() is None\n",
    "assert parse_fips5(ibis.literal(None, type=str)).execute() is None"
   ]
  },
  {
   "cell_type": "code",
   "execution_count": 3,
   "metadata": {},
   "outputs": [],
   "source": [
    "schema = {\n",
    "    \"year\": \"int16\",\n",
    "    \"date\": \"date\",\n",
    "    \"state_po\": \"string\",\n",
    "    # All of the following are duplicate info from state_po that just take up space.\n",
    "    # You can look these up pretty easily if you need them.\n",
    "    # \"state\": \"string\",\n",
    "    # \"state_fips\": \"string\",\n",
    "    # \"state_cen\": \"string\",\n",
    "    # \"state_ic\": \"string\",\n",
    "    \"county_name\": \"string\",\n",
    "    \"county_fips\": \"string\",\n",
    "    \"jurisdiction_name\": \"string\",\n",
    "    \"jurisdiction_fips\": \"string\",\n",
    "    \"district\": \"string\",\n",
    "    \"office\": \"string\",\n",
    "    \"magnitude\": \"int\",  # the number seats available for this office\n",
    "    \"special\": \"boolean\",\n",
    "    \"stage\": \"string\",\n",
    "    \"precinct\": \"string\",\n",
    "    \"writein\": \"boolean\",\n",
    "    \"candidate\": \"string\",\n",
    "    \"party_detailed\": \"string\",\n",
    "    \"party_simplified\": \"string\",\n",
    "    \"mode\": \"string\",  # how the votes were cast eg \"EARLY\", \"ABSENTEE\", etc\n",
    "    # can't cast to int because some rows contain \"*\":\n",
    "    # https://github.com/MEDSL/2022-elections-official/blob/ad541ea94cb6697c0375a8cffe8e91b60372f50b/README.md\n",
    "    # Per the Nevada Secretary of State, \"*\"\" in the Votes column indicates low\n",
    "    # turnout and is hidden to protect voter privacy.\"\n",
    "    \"votes\": \"string\",\n",
    "    # \"dataverse\": \"string\", # one of {\"STATE\", \"PRESIDENT\", \"SENATE\", \"HOUSE\", None}\n",
    "    \"readme_check\": \"boolean\",\n",
    "}\n",
    "\n",
    "\n",
    "def to_schema(t):\n",
    "    t = t[schema.keys()]\n",
    "    t = t.mutate(\n",
    "        date=parse_date(t.date),\n",
    "        county_fips=parse_fips5(t.county_fips),\n",
    "        jurisdiction_fips=parse_fips5(t.jurisdiction_fips),\n",
    "    )\n",
    "    t = t.cast(schema)\n",
    "    return t\n",
    "\n",
    "\n",
    "def read_raw(p):\n",
    "    # have to set quote explicitly to get around\n",
    "    # https://github.com/duckdb/duckdb/issues/11838\n",
    "    t = ibis.read_csv(p, all_varchar=True, quote='\"')\n",
    "    t = to_schema(t)\n",
    "    return t"
   ]
  },
  {
   "cell_type": "code",
   "execution_count": 4,
   "metadata": {},
   "outputs": [
    {
     "data": {
      "application/vnd.jupyter.widget-view+json": {
       "model_id": "837a6ad0dd354808ba60ab43a4272076",
       "version_major": 2,
       "version_minor": 0
      },
      "text/plain": [
       "FloatProgress(value=0.0, layout=Layout(width='auto'), style=ProgressStyle(bar_color='black'))"
      ]
     },
     "metadata": {},
     "output_type": "display_data"
    },
    {
     "data": {
      "text/html": [
       "<pre style=\"white-space:pre;overflow-x:auto;line-height:normal;font-family:Menlo,'DejaVu Sans Mono',consolas,'Courier New',monospace\"></pre>\n"
      ],
      "text/plain": []
     },
     "metadata": {},
     "output_type": "display_data"
    },
    {
     "name": "stdout",
     "output_type": "stream",
     "text": [
      "┌──────────┐\n",
      "│ \u001b[1;36m34263636\u001b[0m │\n",
      "└──────────┘\n"
     ]
    },
    {
     "data": {
      "text/html": [
       "<pre style=\"white-space:pre;overflow-x:auto;line-height:normal;font-family:Menlo,'DejaVu Sans Mono',consolas,'Courier New',monospace\">┏━━━━━━━┳━━━━━━━━━━━━┳━━━━━━━━━━┳━━━━━━━━━━━━━┳━━━━━━━━━━━━━┳━━━━━━━━━━━━━━━━━━━┳━━━━━━━━━━━━━━━━━━━┳━━━━━━━━━━┳━━━━━━━━━━┳━━━━━━━━━━━┳━━━━━━━━━┳━━━━━━━━┳━━━━━━━━━━━━━━━━━━━━━━━━━┳━━━━━━━━━┳━━━━━━━━━━━━━━━━━━┳━━━━━━━━━━━━━━━━┳━━━━━━━━━━━━━━━━━━┳━━━━━━━━━━━━━━┳━━━━━━━━┳━━━━━━━━━━━━━━┓\n",
       "┃<span style=\"font-weight: bold\"> year  </span>┃<span style=\"font-weight: bold\"> date       </span>┃<span style=\"font-weight: bold\"> state_po </span>┃<span style=\"font-weight: bold\"> county_name </span>┃<span style=\"font-weight: bold\"> county_fips </span>┃<span style=\"font-weight: bold\"> jurisdiction_name </span>┃<span style=\"font-weight: bold\"> jurisdiction_fips </span>┃<span style=\"font-weight: bold\"> district </span>┃<span style=\"font-weight: bold\"> office   </span>┃<span style=\"font-weight: bold\"> magnitude </span>┃<span style=\"font-weight: bold\"> special </span>┃<span style=\"font-weight: bold\"> stage  </span>┃<span style=\"font-weight: bold\"> precinct                </span>┃<span style=\"font-weight: bold\"> writein </span>┃<span style=\"font-weight: bold\"> candidate        </span>┃<span style=\"font-weight: bold\"> party_detailed </span>┃<span style=\"font-weight: bold\"> party_simplified </span>┃<span style=\"font-weight: bold\"> mode         </span>┃<span style=\"font-weight: bold\"> votes  </span>┃<span style=\"font-weight: bold\"> readme_check </span>┃\n",
       "┡━━━━━━━╇━━━━━━━━━━━━╇━━━━━━━━━━╇━━━━━━━━━━━━━╇━━━━━━━━━━━━━╇━━━━━━━━━━━━━━━━━━━╇━━━━━━━━━━━━━━━━━━━╇━━━━━━━━━━╇━━━━━━━━━━╇━━━━━━━━━━━╇━━━━━━━━━╇━━━━━━━━╇━━━━━━━━━━━━━━━━━━━━━━━━━╇━━━━━━━━━╇━━━━━━━━━━━━━━━━━━╇━━━━━━━━━━━━━━━━╇━━━━━━━━━━━━━━━━━━╇━━━━━━━━━━━━━━╇━━━━━━━━╇━━━━━━━━━━━━━━┩\n",
       "│ <span style=\"color: #7f7f7f; text-decoration-color: #7f7f7f\">int16</span> │ <span style=\"color: #7f7f7f; text-decoration-color: #7f7f7f\">date</span>       │ <span style=\"color: #7f7f7f; text-decoration-color: #7f7f7f\">string</span>   │ <span style=\"color: #7f7f7f; text-decoration-color: #7f7f7f\">string</span>      │ <span style=\"color: #7f7f7f; text-decoration-color: #7f7f7f\">string</span>      │ <span style=\"color: #7f7f7f; text-decoration-color: #7f7f7f\">string</span>            │ <span style=\"color: #7f7f7f; text-decoration-color: #7f7f7f\">string</span>            │ <span style=\"color: #7f7f7f; text-decoration-color: #7f7f7f\">string</span>   │ <span style=\"color: #7f7f7f; text-decoration-color: #7f7f7f\">string</span>   │ <span style=\"color: #7f7f7f; text-decoration-color: #7f7f7f\">int64</span>     │ <span style=\"color: #7f7f7f; text-decoration-color: #7f7f7f\">boolean</span> │ <span style=\"color: #7f7f7f; text-decoration-color: #7f7f7f\">string</span> │ <span style=\"color: #7f7f7f; text-decoration-color: #7f7f7f\">string</span>                  │ <span style=\"color: #7f7f7f; text-decoration-color: #7f7f7f\">boolean</span> │ <span style=\"color: #7f7f7f; text-decoration-color: #7f7f7f\">string</span>           │ <span style=\"color: #7f7f7f; text-decoration-color: #7f7f7f\">string</span>         │ <span style=\"color: #7f7f7f; text-decoration-color: #7f7f7f\">string</span>           │ <span style=\"color: #7f7f7f; text-decoration-color: #7f7f7f\">string</span>       │ <span style=\"color: #7f7f7f; text-decoration-color: #7f7f7f\">string</span> │ <span style=\"color: #7f7f7f; text-decoration-color: #7f7f7f\">boolean</span>      │\n",
       "├───────┼────────────┼──────────┼─────────────┼─────────────┼───────────────────┼───────────────────┼──────────┼──────────┼───────────┼─────────┼────────┼─────────────────────────┼─────────┼──────────────────┼────────────────┼──────────────────┼──────────────┼────────┼──────────────┤\n",
       "│  <span style=\"color: #008080; text-decoration-color: #008080; font-weight: bold\">2018</span> │ <span style=\"color: #800080; text-decoration-color: #800080\">2018-11-06</span> │ <span style=\"color: #008000; text-decoration-color: #008000\">NE      </span> │ <span style=\"color: #008000; text-decoration-color: #008000\">PLATTE     </span> │ <span style=\"color: #008000; text-decoration-color: #008000\">31141      </span> │ <span style=\"color: #008000; text-decoration-color: #008000\">PLATTE           </span> │ <span style=\"color: #008000; text-decoration-color: #008000\">31141            </span> │ <span style=\"color: #008000; text-decoration-color: #008000\">001     </span> │ <span style=\"color: #008000; text-decoration-color: #008000\">US HOUSE</span> │         <span style=\"color: #008080; text-decoration-color: #008080; font-weight: bold\">1</span> │ False   │ <span style=\"color: #008000; text-decoration-color: #008000\">GEN   </span> │ <span style=\"color: #008000; text-decoration-color: #008000\">1D                     </span> │ False   │ <span style=\"color: #008000; text-decoration-color: #008000\">JESSICA MCCLURE </span> │ <span style=\"color: #008000; text-decoration-color: #008000\">DEMOCRAT      </span> │ <span style=\"color: #008000; text-decoration-color: #008000\">DEMOCRAT        </span> │ <span style=\"color: #008000; text-decoration-color: #008000\">ELECTION DAY</span> │ <span style=\"color: #008000; text-decoration-color: #008000\">78    </span> │ False        │\n",
       "│  <span style=\"color: #008080; text-decoration-color: #008080; font-weight: bold\">2018</span> │ <span style=\"color: #800080; text-decoration-color: #800080\">2018-11-06</span> │ <span style=\"color: #008000; text-decoration-color: #008000\">NE      </span> │ <span style=\"color: #008000; text-decoration-color: #008000\">PLATTE     </span> │ <span style=\"color: #008000; text-decoration-color: #008000\">31141      </span> │ <span style=\"color: #008000; text-decoration-color: #008000\">PLATTE           </span> │ <span style=\"color: #008000; text-decoration-color: #008000\">31141            </span> │ <span style=\"color: #008000; text-decoration-color: #008000\">001     </span> │ <span style=\"color: #008000; text-decoration-color: #008000\">US HOUSE</span> │         <span style=\"color: #008080; text-decoration-color: #008080; font-weight: bold\">1</span> │ False   │ <span style=\"color: #008000; text-decoration-color: #008000\">GEN   </span> │ <span style=\"color: #008000; text-decoration-color: #008000\">3C                     </span> │ False   │ <span style=\"color: #008000; text-decoration-color: #008000\">JESSICA MCCLURE </span> │ <span style=\"color: #008000; text-decoration-color: #008000\">DEMOCRAT      </span> │ <span style=\"color: #008000; text-decoration-color: #008000\">DEMOCRAT        </span> │ <span style=\"color: #008000; text-decoration-color: #008000\">ELECTION DAY</span> │ <span style=\"color: #008000; text-decoration-color: #008000\">93    </span> │ False        │\n",
       "│  <span style=\"color: #008080; text-decoration-color: #008080; font-weight: bold\">2018</span> │ <span style=\"color: #800080; text-decoration-color: #800080\">2018-11-06</span> │ <span style=\"color: #008000; text-decoration-color: #008000\">NE      </span> │ <span style=\"color: #008000; text-decoration-color: #008000\">CASS       </span> │ <span style=\"color: #008000; text-decoration-color: #008000\">31025      </span> │ <span style=\"color: #008000; text-decoration-color: #008000\">CASS             </span> │ <span style=\"color: #008000; text-decoration-color: #008000\">31025            </span> │ <span style=\"color: #008000; text-decoration-color: #008000\">001     </span> │ <span style=\"color: #008000; text-decoration-color: #008000\">US HOUSE</span> │         <span style=\"color: #008080; text-decoration-color: #008080; font-weight: bold\">1</span> │ False   │ <span style=\"color: #008000; text-decoration-color: #008000\">GEN   </span> │ <span style=\"color: #008000; text-decoration-color: #008000\">3RD WARD - 2ND PRECINCT</span> │ False   │ <span style=\"color: #008000; text-decoration-color: #008000\">JESSICA MCCLURE </span> │ <span style=\"color: #008000; text-decoration-color: #008000\">DEMOCRAT      </span> │ <span style=\"color: #008000; text-decoration-color: #008000\">DEMOCRAT        </span> │ <span style=\"color: #008000; text-decoration-color: #008000\">ELECTION DAY</span> │ <span style=\"color: #008000; text-decoration-color: #008000\">79    </span> │ False        │\n",
       "│  <span style=\"color: #008080; text-decoration-color: #008080; font-weight: bold\">2018</span> │ <span style=\"color: #800080; text-decoration-color: #800080\">2018-11-06</span> │ <span style=\"color: #008000; text-decoration-color: #008000\">NE      </span> │ <span style=\"color: #008000; text-decoration-color: #008000\">LANCASTER  </span> │ <span style=\"color: #008000; text-decoration-color: #008000\">31109      </span> │ <span style=\"color: #008000; text-decoration-color: #008000\">LANCASTER        </span> │ <span style=\"color: #008000; text-decoration-color: #008000\">31109            </span> │ <span style=\"color: #008000; text-decoration-color: #008000\">001     </span> │ <span style=\"color: #008000; text-decoration-color: #008000\">US HOUSE</span> │         <span style=\"color: #008080; text-decoration-color: #008080; font-weight: bold\">1</span> │ False   │ <span style=\"color: #008000; text-decoration-color: #008000\">GEN   </span> │ <span style=\"color: #008000; text-decoration-color: #008000\">4 A                    </span> │ False   │ <span style=\"color: #008000; text-decoration-color: #008000\">JEFF FORTENBERRY</span> │ <span style=\"color: #008000; text-decoration-color: #008000\">REPUBLICAN    </span> │ <span style=\"color: #008000; text-decoration-color: #008000\">REPUBLICAN      </span> │ <span style=\"color: #008000; text-decoration-color: #008000\">ELECTION DAY</span> │ <span style=\"color: #008000; text-decoration-color: #008000\">139   </span> │ False        │\n",
       "│  <span style=\"color: #008080; text-decoration-color: #008080; font-weight: bold\">2018</span> │ <span style=\"color: #800080; text-decoration-color: #800080\">2018-11-06</span> │ <span style=\"color: #008000; text-decoration-color: #008000\">NE      </span> │ <span style=\"color: #008000; text-decoration-color: #008000\">PLATTE     </span> │ <span style=\"color: #008000; text-decoration-color: #008000\">31141      </span> │ <span style=\"color: #008000; text-decoration-color: #008000\">PLATTE           </span> │ <span style=\"color: #008000; text-decoration-color: #008000\">31141            </span> │ <span style=\"color: #008000; text-decoration-color: #008000\">001     </span> │ <span style=\"color: #008000; text-decoration-color: #008000\">US HOUSE</span> │         <span style=\"color: #008080; text-decoration-color: #008080; font-weight: bold\">1</span> │ False   │ <span style=\"color: #008000; text-decoration-color: #008000\">GEN   </span> │ <span style=\"color: #008000; text-decoration-color: #008000\">4A                     </span> │ False   │ <span style=\"color: #008000; text-decoration-color: #008000\">JEFF FORTENBERRY</span> │ <span style=\"color: #008000; text-decoration-color: #008000\">REPUBLICAN    </span> │ <span style=\"color: #008000; text-decoration-color: #008000\">REPUBLICAN      </span> │ <span style=\"color: #008000; text-decoration-color: #008000\">ELECTION DAY</span> │ <span style=\"color: #008000; text-decoration-color: #008000\">207   </span> │ False        │\n",
       "│  <span style=\"color: #008080; text-decoration-color: #008080; font-weight: bold\">2018</span> │ <span style=\"color: #800080; text-decoration-color: #800080\">2018-11-06</span> │ <span style=\"color: #008000; text-decoration-color: #008000\">NE      </span> │ <span style=\"color: #008000; text-decoration-color: #008000\">PLATTE     </span> │ <span style=\"color: #008000; text-decoration-color: #008000\">31141      </span> │ <span style=\"color: #008000; text-decoration-color: #008000\">PLATTE           </span> │ <span style=\"color: #008000; text-decoration-color: #008000\">31141            </span> │ <span style=\"color: #008000; text-decoration-color: #008000\">001     </span> │ <span style=\"color: #008000; text-decoration-color: #008000\">US HOUSE</span> │         <span style=\"color: #008080; text-decoration-color: #008080; font-weight: bold\">1</span> │ False   │ <span style=\"color: #008000; text-decoration-color: #008000\">GEN   </span> │ <span style=\"color: #008000; text-decoration-color: #008000\">4B                     </span> │ False   │ <span style=\"color: #008000; text-decoration-color: #008000\">JESSICA MCCLURE </span> │ <span style=\"color: #008000; text-decoration-color: #008000\">DEMOCRAT      </span> │ <span style=\"color: #008000; text-decoration-color: #008000\">DEMOCRAT        </span> │ <span style=\"color: #008000; text-decoration-color: #008000\">ELECTION DAY</span> │ <span style=\"color: #008000; text-decoration-color: #008000\">90    </span> │ False        │\n",
       "│  <span style=\"color: #008080; text-decoration-color: #008080; font-weight: bold\">2018</span> │ <span style=\"color: #800080; text-decoration-color: #800080\">2018-11-06</span> │ <span style=\"color: #008000; text-decoration-color: #008000\">NE      </span> │ <span style=\"color: #008000; text-decoration-color: #008000\">LANCASTER  </span> │ <span style=\"color: #008000; text-decoration-color: #008000\">31109      </span> │ <span style=\"color: #008000; text-decoration-color: #008000\">LANCASTER        </span> │ <span style=\"color: #008000; text-decoration-color: #008000\">31109            </span> │ <span style=\"color: #008000; text-decoration-color: #008000\">001     </span> │ <span style=\"color: #008000; text-decoration-color: #008000\">US HOUSE</span> │         <span style=\"color: #008080; text-decoration-color: #008080; font-weight: bold\">1</span> │ False   │ <span style=\"color: #008000; text-decoration-color: #008000\">GEN   </span> │ <span style=\"color: #008000; text-decoration-color: #008000\">5 E-5                  </span> │ False   │ <span style=\"color: #008000; text-decoration-color: #008000\">JESSICA MCCLURE </span> │ <span style=\"color: #008000; text-decoration-color: #008000\">DEMOCRAT      </span> │ <span style=\"color: #008000; text-decoration-color: #008000\">DEMOCRAT        </span> │ <span style=\"color: #008000; text-decoration-color: #008000\">ELECTION DAY</span> │ <span style=\"color: #008000; text-decoration-color: #008000\">266   </span> │ False        │\n",
       "│  <span style=\"color: #008080; text-decoration-color: #008080; font-weight: bold\">2018</span> │ <span style=\"color: #800080; text-decoration-color: #800080\">2018-11-06</span> │ <span style=\"color: #008000; text-decoration-color: #008000\">NE      </span> │ <span style=\"color: #008000; text-decoration-color: #008000\">LANCASTER  </span> │ <span style=\"color: #008000; text-decoration-color: #008000\">31109      </span> │ <span style=\"color: #008000; text-decoration-color: #008000\">LANCASTER        </span> │ <span style=\"color: #008000; text-decoration-color: #008000\">31109            </span> │ <span style=\"color: #008000; text-decoration-color: #008000\">001     </span> │ <span style=\"color: #008000; text-decoration-color: #008000\">US HOUSE</span> │         <span style=\"color: #008080; text-decoration-color: #008080; font-weight: bold\">1</span> │ False   │ <span style=\"color: #008000; text-decoration-color: #008000\">GEN   </span> │ <span style=\"color: #008000; text-decoration-color: #008000\">9 E-5                  </span> │ False   │ <span style=\"color: #008000; text-decoration-color: #008000\">JEFF FORTENBERRY</span> │ <span style=\"color: #008000; text-decoration-color: #008000\">REPUBLICAN    </span> │ <span style=\"color: #008000; text-decoration-color: #008000\">REPUBLICAN      </span> │ <span style=\"color: #008000; text-decoration-color: #008000\">ELECTION DAY</span> │ <span style=\"color: #008000; text-decoration-color: #008000\">207   </span> │ False        │\n",
       "│  <span style=\"color: #008080; text-decoration-color: #008080; font-weight: bold\">2018</span> │ <span style=\"color: #800080; text-decoration-color: #800080\">2018-11-06</span> │ <span style=\"color: #008000; text-decoration-color: #008000\">NE      </span> │ <span style=\"color: #008000; text-decoration-color: #008000\">LANCASTER  </span> │ <span style=\"color: #008000; text-decoration-color: #008000\">31109      </span> │ <span style=\"color: #008000; text-decoration-color: #008000\">LANCASTER        </span> │ <span style=\"color: #008000; text-decoration-color: #008000\">31109            </span> │ <span style=\"color: #008000; text-decoration-color: #008000\">001     </span> │ <span style=\"color: #008000; text-decoration-color: #008000\">US HOUSE</span> │         <span style=\"color: #008080; text-decoration-color: #008080; font-weight: bold\">1</span> │ False   │ <span style=\"color: #008000; text-decoration-color: #008000\">GEN   </span> │ <span style=\"color: #008000; text-decoration-color: #008000\">9 F-11                 </span> │ False   │ <span style=\"color: #008000; text-decoration-color: #008000\">JESSICA MCCLURE </span> │ <span style=\"color: #008000; text-decoration-color: #008000\">DEMOCRAT      </span> │ <span style=\"color: #008000; text-decoration-color: #008000\">DEMOCRAT        </span> │ <span style=\"color: #008000; text-decoration-color: #008000\">ELECTION DAY</span> │ <span style=\"color: #008000; text-decoration-color: #008000\">230   </span> │ False        │\n",
       "│  <span style=\"color: #008080; text-decoration-color: #008080; font-weight: bold\">2018</span> │ <span style=\"color: #800080; text-decoration-color: #800080\">2018-11-06</span> │ <span style=\"color: #008000; text-decoration-color: #008000\">NE      </span> │ <span style=\"color: #008000; text-decoration-color: #008000\">LANCASTER  </span> │ <span style=\"color: #008000; text-decoration-color: #008000\">31109      </span> │ <span style=\"color: #008000; text-decoration-color: #008000\">LANCASTER        </span> │ <span style=\"color: #008000; text-decoration-color: #008000\">31109            </span> │ <span style=\"color: #008000; text-decoration-color: #008000\">001     </span> │ <span style=\"color: #008000; text-decoration-color: #008000\">US HOUSE</span> │         <span style=\"color: #008080; text-decoration-color: #008080; font-weight: bold\">1</span> │ False   │ <span style=\"color: #008000; text-decoration-color: #008000\">GEN   </span> │ <span style=\"color: #008000; text-decoration-color: #008000\">9 F-2                  </span> │ False   │ <span style=\"color: #008000; text-decoration-color: #008000\">JEFF FORTENBERRY</span> │ <span style=\"color: #008000; text-decoration-color: #008000\">REPUBLICAN    </span> │ <span style=\"color: #008000; text-decoration-color: #008000\">REPUBLICAN      </span> │ <span style=\"color: #008000; text-decoration-color: #008000\">ELECTION DAY</span> │ <span style=\"color: #008000; text-decoration-color: #008000\">298   </span> │ False        │\n",
       "│     <span style=\"color: #7f7f7f; text-decoration-color: #7f7f7f\">…</span> │ <span style=\"color: #7f7f7f; text-decoration-color: #7f7f7f\">…</span>          │ <span style=\"color: #7f7f7f; text-decoration-color: #7f7f7f\">…</span>        │ <span style=\"color: #7f7f7f; text-decoration-color: #7f7f7f\">…</span>           │ <span style=\"color: #7f7f7f; text-decoration-color: #7f7f7f\">…</span>           │ <span style=\"color: #7f7f7f; text-decoration-color: #7f7f7f\">…</span>                 │ <span style=\"color: #7f7f7f; text-decoration-color: #7f7f7f\">…</span>                 │ <span style=\"color: #7f7f7f; text-decoration-color: #7f7f7f\">…</span>        │ <span style=\"color: #7f7f7f; text-decoration-color: #7f7f7f\">…</span>        │         <span style=\"color: #7f7f7f; text-decoration-color: #7f7f7f\">…</span> │ <span style=\"color: #7f7f7f; text-decoration-color: #7f7f7f\">…</span>       │ <span style=\"color: #7f7f7f; text-decoration-color: #7f7f7f\">…</span>      │ <span style=\"color: #7f7f7f; text-decoration-color: #7f7f7f\">…</span>                       │ <span style=\"color: #7f7f7f; text-decoration-color: #7f7f7f\">…</span>       │ <span style=\"color: #7f7f7f; text-decoration-color: #7f7f7f\">…</span>                │ <span style=\"color: #7f7f7f; text-decoration-color: #7f7f7f\">…</span>              │ <span style=\"color: #7f7f7f; text-decoration-color: #7f7f7f\">…</span>                │ <span style=\"color: #7f7f7f; text-decoration-color: #7f7f7f\">…</span>            │ <span style=\"color: #7f7f7f; text-decoration-color: #7f7f7f\">…</span>      │ <span style=\"color: #7f7f7f; text-decoration-color: #7f7f7f\">…</span>            │\n",
       "└───────┴────────────┴──────────┴─────────────┴─────────────┴───────────────────┴───────────────────┴──────────┴──────────┴───────────┴─────────┴────────┴─────────────────────────┴─────────┴──────────────────┴────────────────┴──────────────────┴──────────────┴────────┴──────────────┘\n",
       "</pre>\n"
      ],
      "text/plain": [
       "┏━━━━━━━┳━━━━━━━━━━━━┳━━━━━━━━━━┳━━━━━━━━━━━━━┳━━━━━━━━━━━━━┳━━━━━━━━━━━━━━━━━━━┳━━━━━━━━━━━━━━━━━━━┳━━━━━━━━━━┳━━━━━━━━━━┳━━━━━━━━━━━┳━━━━━━━━━┳━━━━━━━━┳━━━━━━━━━━━━━━━━━━━━━━━━━┳━━━━━━━━━┳━━━━━━━━━━━━━━━━━━┳━━━━━━━━━━━━━━━━┳━━━━━━━━━━━━━━━━━━┳━━━━━━━━━━━━━━┳━━━━━━━━┳━━━━━━━━━━━━━━┓\n",
       "┃\u001b[1m \u001b[0m\u001b[1myear\u001b[0m\u001b[1m \u001b[0m\u001b[1m \u001b[0m┃\u001b[1m \u001b[0m\u001b[1mdate\u001b[0m\u001b[1m      \u001b[0m\u001b[1m \u001b[0m┃\u001b[1m \u001b[0m\u001b[1mstate_po\u001b[0m\u001b[1m \u001b[0m┃\u001b[1m \u001b[0m\u001b[1mcounty_name\u001b[0m\u001b[1m \u001b[0m┃\u001b[1m \u001b[0m\u001b[1mcounty_fips\u001b[0m\u001b[1m \u001b[0m┃\u001b[1m \u001b[0m\u001b[1mjurisdiction_name\u001b[0m\u001b[1m \u001b[0m┃\u001b[1m \u001b[0m\u001b[1mjurisdiction_fips\u001b[0m\u001b[1m \u001b[0m┃\u001b[1m \u001b[0m\u001b[1mdistrict\u001b[0m\u001b[1m \u001b[0m┃\u001b[1m \u001b[0m\u001b[1moffice\u001b[0m\u001b[1m  \u001b[0m\u001b[1m \u001b[0m┃\u001b[1m \u001b[0m\u001b[1mmagnitude\u001b[0m\u001b[1m \u001b[0m┃\u001b[1m \u001b[0m\u001b[1mspecial\u001b[0m\u001b[1m \u001b[0m┃\u001b[1m \u001b[0m\u001b[1mstage\u001b[0m\u001b[1m \u001b[0m\u001b[1m \u001b[0m┃\u001b[1m \u001b[0m\u001b[1mprecinct\u001b[0m\u001b[1m               \u001b[0m\u001b[1m \u001b[0m┃\u001b[1m \u001b[0m\u001b[1mwritein\u001b[0m\u001b[1m \u001b[0m┃\u001b[1m \u001b[0m\u001b[1mcandidate\u001b[0m\u001b[1m       \u001b[0m\u001b[1m \u001b[0m┃\u001b[1m \u001b[0m\u001b[1mparty_detailed\u001b[0m\u001b[1m \u001b[0m┃\u001b[1m \u001b[0m\u001b[1mparty_simplified\u001b[0m\u001b[1m \u001b[0m┃\u001b[1m \u001b[0m\u001b[1mmode\u001b[0m\u001b[1m        \u001b[0m\u001b[1m \u001b[0m┃\u001b[1m \u001b[0m\u001b[1mvotes\u001b[0m\u001b[1m \u001b[0m\u001b[1m \u001b[0m┃\u001b[1m \u001b[0m\u001b[1mreadme_check\u001b[0m\u001b[1m \u001b[0m┃\n",
       "┡━━━━━━━╇━━━━━━━━━━━━╇━━━━━━━━━━╇━━━━━━━━━━━━━╇━━━━━━━━━━━━━╇━━━━━━━━━━━━━━━━━━━╇━━━━━━━━━━━━━━━━━━━╇━━━━━━━━━━╇━━━━━━━━━━╇━━━━━━━━━━━╇━━━━━━━━━╇━━━━━━━━╇━━━━━━━━━━━━━━━━━━━━━━━━━╇━━━━━━━━━╇━━━━━━━━━━━━━━━━━━╇━━━━━━━━━━━━━━━━╇━━━━━━━━━━━━━━━━━━╇━━━━━━━━━━━━━━╇━━━━━━━━╇━━━━━━━━━━━━━━┩\n",
       "│ \u001b[2mint16\u001b[0m │ \u001b[2mdate\u001b[0m       │ \u001b[2mstring\u001b[0m   │ \u001b[2mstring\u001b[0m      │ \u001b[2mstring\u001b[0m      │ \u001b[2mstring\u001b[0m            │ \u001b[2mstring\u001b[0m            │ \u001b[2mstring\u001b[0m   │ \u001b[2mstring\u001b[0m   │ \u001b[2mint64\u001b[0m     │ \u001b[2mboolean\u001b[0m │ \u001b[2mstring\u001b[0m │ \u001b[2mstring\u001b[0m                  │ \u001b[2mboolean\u001b[0m │ \u001b[2mstring\u001b[0m           │ \u001b[2mstring\u001b[0m         │ \u001b[2mstring\u001b[0m           │ \u001b[2mstring\u001b[0m       │ \u001b[2mstring\u001b[0m │ \u001b[2mboolean\u001b[0m      │\n",
       "├───────┼────────────┼──────────┼─────────────┼─────────────┼───────────────────┼───────────────────┼──────────┼──────────┼───────────┼─────────┼────────┼─────────────────────────┼─────────┼──────────────────┼────────────────┼──────────────────┼──────────────┼────────┼──────────────┤\n",
       "│  \u001b[1;36m2018\u001b[0m │ \u001b[35m2018-11-06\u001b[0m │ \u001b[32mNE      \u001b[0m │ \u001b[32mPLATTE     \u001b[0m │ \u001b[32m31141      \u001b[0m │ \u001b[32mPLATTE           \u001b[0m │ \u001b[32m31141            \u001b[0m │ \u001b[32m001     \u001b[0m │ \u001b[32mUS HOUSE\u001b[0m │         \u001b[1;36m1\u001b[0m │ False   │ \u001b[32mGEN   \u001b[0m │ \u001b[32m1D                     \u001b[0m │ False   │ \u001b[32mJESSICA MCCLURE \u001b[0m │ \u001b[32mDEMOCRAT      \u001b[0m │ \u001b[32mDEMOCRAT        \u001b[0m │ \u001b[32mELECTION DAY\u001b[0m │ \u001b[32m78    \u001b[0m │ False        │\n",
       "│  \u001b[1;36m2018\u001b[0m │ \u001b[35m2018-11-06\u001b[0m │ \u001b[32mNE      \u001b[0m │ \u001b[32mPLATTE     \u001b[0m │ \u001b[32m31141      \u001b[0m │ \u001b[32mPLATTE           \u001b[0m │ \u001b[32m31141            \u001b[0m │ \u001b[32m001     \u001b[0m │ \u001b[32mUS HOUSE\u001b[0m │         \u001b[1;36m1\u001b[0m │ False   │ \u001b[32mGEN   \u001b[0m │ \u001b[32m3C                     \u001b[0m │ False   │ \u001b[32mJESSICA MCCLURE \u001b[0m │ \u001b[32mDEMOCRAT      \u001b[0m │ \u001b[32mDEMOCRAT        \u001b[0m │ \u001b[32mELECTION DAY\u001b[0m │ \u001b[32m93    \u001b[0m │ False        │\n",
       "│  \u001b[1;36m2018\u001b[0m │ \u001b[35m2018-11-06\u001b[0m │ \u001b[32mNE      \u001b[0m │ \u001b[32mCASS       \u001b[0m │ \u001b[32m31025      \u001b[0m │ \u001b[32mCASS             \u001b[0m │ \u001b[32m31025            \u001b[0m │ \u001b[32m001     \u001b[0m │ \u001b[32mUS HOUSE\u001b[0m │         \u001b[1;36m1\u001b[0m │ False   │ \u001b[32mGEN   \u001b[0m │ \u001b[32m3RD WARD - 2ND PRECINCT\u001b[0m │ False   │ \u001b[32mJESSICA MCCLURE \u001b[0m │ \u001b[32mDEMOCRAT      \u001b[0m │ \u001b[32mDEMOCRAT        \u001b[0m │ \u001b[32mELECTION DAY\u001b[0m │ \u001b[32m79    \u001b[0m │ False        │\n",
       "│  \u001b[1;36m2018\u001b[0m │ \u001b[35m2018-11-06\u001b[0m │ \u001b[32mNE      \u001b[0m │ \u001b[32mLANCASTER  \u001b[0m │ \u001b[32m31109      \u001b[0m │ \u001b[32mLANCASTER        \u001b[0m │ \u001b[32m31109            \u001b[0m │ \u001b[32m001     \u001b[0m │ \u001b[32mUS HOUSE\u001b[0m │         \u001b[1;36m1\u001b[0m │ False   │ \u001b[32mGEN   \u001b[0m │ \u001b[32m4 A                    \u001b[0m │ False   │ \u001b[32mJEFF FORTENBERRY\u001b[0m │ \u001b[32mREPUBLICAN    \u001b[0m │ \u001b[32mREPUBLICAN      \u001b[0m │ \u001b[32mELECTION DAY\u001b[0m │ \u001b[32m139   \u001b[0m │ False        │\n",
       "│  \u001b[1;36m2018\u001b[0m │ \u001b[35m2018-11-06\u001b[0m │ \u001b[32mNE      \u001b[0m │ \u001b[32mPLATTE     \u001b[0m │ \u001b[32m31141      \u001b[0m │ \u001b[32mPLATTE           \u001b[0m │ \u001b[32m31141            \u001b[0m │ \u001b[32m001     \u001b[0m │ \u001b[32mUS HOUSE\u001b[0m │         \u001b[1;36m1\u001b[0m │ False   │ \u001b[32mGEN   \u001b[0m │ \u001b[32m4A                     \u001b[0m │ False   │ \u001b[32mJEFF FORTENBERRY\u001b[0m │ \u001b[32mREPUBLICAN    \u001b[0m │ \u001b[32mREPUBLICAN      \u001b[0m │ \u001b[32mELECTION DAY\u001b[0m │ \u001b[32m207   \u001b[0m │ False        │\n",
       "│  \u001b[1;36m2018\u001b[0m │ \u001b[35m2018-11-06\u001b[0m │ \u001b[32mNE      \u001b[0m │ \u001b[32mPLATTE     \u001b[0m │ \u001b[32m31141      \u001b[0m │ \u001b[32mPLATTE           \u001b[0m │ \u001b[32m31141            \u001b[0m │ \u001b[32m001     \u001b[0m │ \u001b[32mUS HOUSE\u001b[0m │         \u001b[1;36m1\u001b[0m │ False   │ \u001b[32mGEN   \u001b[0m │ \u001b[32m4B                     \u001b[0m │ False   │ \u001b[32mJESSICA MCCLURE \u001b[0m │ \u001b[32mDEMOCRAT      \u001b[0m │ \u001b[32mDEMOCRAT        \u001b[0m │ \u001b[32mELECTION DAY\u001b[0m │ \u001b[32m90    \u001b[0m │ False        │\n",
       "│  \u001b[1;36m2018\u001b[0m │ \u001b[35m2018-11-06\u001b[0m │ \u001b[32mNE      \u001b[0m │ \u001b[32mLANCASTER  \u001b[0m │ \u001b[32m31109      \u001b[0m │ \u001b[32mLANCASTER        \u001b[0m │ \u001b[32m31109            \u001b[0m │ \u001b[32m001     \u001b[0m │ \u001b[32mUS HOUSE\u001b[0m │         \u001b[1;36m1\u001b[0m │ False   │ \u001b[32mGEN   \u001b[0m │ \u001b[32m5 E-5                  \u001b[0m │ False   │ \u001b[32mJESSICA MCCLURE \u001b[0m │ \u001b[32mDEMOCRAT      \u001b[0m │ \u001b[32mDEMOCRAT        \u001b[0m │ \u001b[32mELECTION DAY\u001b[0m │ \u001b[32m266   \u001b[0m │ False        │\n",
       "│  \u001b[1;36m2018\u001b[0m │ \u001b[35m2018-11-06\u001b[0m │ \u001b[32mNE      \u001b[0m │ \u001b[32mLANCASTER  \u001b[0m │ \u001b[32m31109      \u001b[0m │ \u001b[32mLANCASTER        \u001b[0m │ \u001b[32m31109            \u001b[0m │ \u001b[32m001     \u001b[0m │ \u001b[32mUS HOUSE\u001b[0m │         \u001b[1;36m1\u001b[0m │ False   │ \u001b[32mGEN   \u001b[0m │ \u001b[32m9 E-5                  \u001b[0m │ False   │ \u001b[32mJEFF FORTENBERRY\u001b[0m │ \u001b[32mREPUBLICAN    \u001b[0m │ \u001b[32mREPUBLICAN      \u001b[0m │ \u001b[32mELECTION DAY\u001b[0m │ \u001b[32m207   \u001b[0m │ False        │\n",
       "│  \u001b[1;36m2018\u001b[0m │ \u001b[35m2018-11-06\u001b[0m │ \u001b[32mNE      \u001b[0m │ \u001b[32mLANCASTER  \u001b[0m │ \u001b[32m31109      \u001b[0m │ \u001b[32mLANCASTER        \u001b[0m │ \u001b[32m31109            \u001b[0m │ \u001b[32m001     \u001b[0m │ \u001b[32mUS HOUSE\u001b[0m │         \u001b[1;36m1\u001b[0m │ False   │ \u001b[32mGEN   \u001b[0m │ \u001b[32m9 F-11                 \u001b[0m │ False   │ \u001b[32mJESSICA MCCLURE \u001b[0m │ \u001b[32mDEMOCRAT      \u001b[0m │ \u001b[32mDEMOCRAT        \u001b[0m │ \u001b[32mELECTION DAY\u001b[0m │ \u001b[32m230   \u001b[0m │ False        │\n",
       "│  \u001b[1;36m2018\u001b[0m │ \u001b[35m2018-11-06\u001b[0m │ \u001b[32mNE      \u001b[0m │ \u001b[32mLANCASTER  \u001b[0m │ \u001b[32m31109      \u001b[0m │ \u001b[32mLANCASTER        \u001b[0m │ \u001b[32m31109            \u001b[0m │ \u001b[32m001     \u001b[0m │ \u001b[32mUS HOUSE\u001b[0m │         \u001b[1;36m1\u001b[0m │ False   │ \u001b[32mGEN   \u001b[0m │ \u001b[32m9 F-2                  \u001b[0m │ False   │ \u001b[32mJEFF FORTENBERRY\u001b[0m │ \u001b[32mREPUBLICAN    \u001b[0m │ \u001b[32mREPUBLICAN      \u001b[0m │ \u001b[32mELECTION DAY\u001b[0m │ \u001b[32m298   \u001b[0m │ False        │\n",
       "│     \u001b[2m…\u001b[0m │ \u001b[2m…\u001b[0m          │ \u001b[2m…\u001b[0m        │ \u001b[2m…\u001b[0m           │ \u001b[2m…\u001b[0m           │ \u001b[2m…\u001b[0m                 │ \u001b[2m…\u001b[0m                 │ \u001b[2m…\u001b[0m        │ \u001b[2m…\u001b[0m        │         \u001b[2m…\u001b[0m │ \u001b[2m…\u001b[0m       │ \u001b[2m…\u001b[0m      │ \u001b[2m…\u001b[0m                       │ \u001b[2m…\u001b[0m       │ \u001b[2m…\u001b[0m                │ \u001b[2m…\u001b[0m              │ \u001b[2m…\u001b[0m                │ \u001b[2m…\u001b[0m            │ \u001b[2m…\u001b[0m      │ \u001b[2m…\u001b[0m            │\n",
       "└───────┴────────────┴──────────┴─────────────┴─────────────┴───────────────────┴───────────────────┴──────────┴──────────┴───────────┴─────────┴────────┴─────────────────────────┴─────────┴──────────────────┴────────────────┴──────────────────┴──────────────┴────────┴──────────────┘"
      ]
     },
     "execution_count": 4,
     "metadata": {},
     "output_type": "execute_result"
    }
   ],
   "source": [
    "import zipfile\n",
    "\n",
    "DATA_DIR = Path(\"../data\")\n",
    "\n",
    "\n",
    "def unzip_csvs(zip_path: Path, dest: Path) -> Path:\n",
    "    with zipfile.ZipFile(zip_path, \"r\") as z:\n",
    "        # extract any csvs in the zip file\n",
    "        csvs = [f for f in z.namelist() if f.endswith(\".csv\")]\n",
    "        z.extractall(dest, csvs)\n",
    "\n",
    "\n",
    "def get_github_csvs() -> list[Path]:\n",
    "    csv_dir = DATA_DIR / \"github_2022/csvs\"\n",
    "    if not csv_dir.exists():\n",
    "        zip_dir = DATA_DIR / \"github_2022\"\n",
    "        for zip_path in zip_dir.glob(\"*.zip\"):\n",
    "            unzip_csvs(zip_path, csv_dir)\n",
    "    csvs = sorted(csv_dir.glob(\"*.csv\"))\n",
    "    assert len(csvs) == 51, csvs  # 50 states + DC\n",
    "    return csvs\n",
    "\n",
    "\n",
    "def read_csvs():\n",
    "    paths = [\n",
    "        *get_github_csvs(),\n",
    "        *(DATA_DIR / \"dataverse_2018_state\").glob(\"*.csv\"),\n",
    "        *(DATA_DIR / \"dataverse_2018_us_house\").glob(\"*.csv\"),\n",
    "        *(DATA_DIR / \"dataverse_2018_us_senate\").glob(\"*.csv\"),\n",
    "        *(DATA_DIR / \"dataverse_2020_state\").glob(\"*.csv\"),\n",
    "        *(DATA_DIR / \"dataverse_2020_us_house\").glob(\"*.csv\"),\n",
    "        *(DATA_DIR / \"dataverse_2020_us_senate\").glob(\"*.csv\"),\n",
    "        *(DATA_DIR / \"dataverse_2020_president\").glob(\"*.csv\"),\n",
    "    ]\n",
    "    tables = [read_raw(p) for p in paths]\n",
    "    return ibis.union(*tables)\n",
    "\n",
    "\n",
    "t = read_csvs()\n",
    "t = t.distinct()\n",
    "t = t.cache()\n",
    "print(t.count())\n",
    "t"
   ]
  },
  {
   "cell_type": "markdown",
   "metadata": {},
   "source": [
    "# Fixup Candidates"
   ]
  },
  {
   "cell_type": "code",
   "execution_count": 5,
   "metadata": {},
   "outputs": [
    {
     "data": {
      "text/html": [
       "<pre style=\"white-space:pre;overflow-x:auto;line-height:normal;font-family:Menlo,'DejaVu Sans Mono',consolas,'Courier New',monospace\">┏━━━━━━━━━━━━━━━━━━━━━━━━━━━━━┳━━━━━━━━━━━━━━━━━━━━━━━━━━━━━━━━━━━━━━━━━━━━━━━━━━━┓\n",
       "┃<span style=\"font-weight: bold\"> candidate                   </span>┃<span style=\"font-weight: bold\"> CountStar(ibis_cached_udwgv3gv3ndqfl2c6rw4f2v2zu) </span>┃\n",
       "┡━━━━━━━━━━━━━━━━━━━━━━━━━━━━━╇━━━━━━━━━━━━━━━━━━━━━━━━━━━━━━━━━━━━━━━━━━━━━━━━━━━┩\n",
       "│ <span style=\"color: #7f7f7f; text-decoration-color: #7f7f7f\">string</span>                      │ <span style=\"color: #7f7f7f; text-decoration-color: #7f7f7f\">int64</span>                                             │\n",
       "├─────────────────────────────┼───────────────────────────────────────────────────┤\n",
       "│ <span style=\"color: #008000; text-decoration-color: #008000\">NO                         </span> │                                           <span style=\"color: #008080; text-decoration-color: #008080; font-weight: bold\">2477828</span> │\n",
       "│ <span style=\"color: #008000; text-decoration-color: #008000\">YES                        </span> │                                           <span style=\"color: #008080; text-decoration-color: #008080; font-weight: bold\">2469262</span> │\n",
       "│ <span style=\"color: #008000; text-decoration-color: #008000\">UNDERVOTES                 </span> │                                           <span style=\"color: #008080; text-decoration-color: #008080; font-weight: bold\">1352968</span> │\n",
       "│ <span style=\"color: #008000; text-decoration-color: #008000\">OVERVOTES                  </span> │                                           <span style=\"color: #008080; text-decoration-color: #008080; font-weight: bold\">1162719</span> │\n",
       "│ <span style=\"color: #008000; text-decoration-color: #008000\">WRITEIN                    </span> │                                            <span style=\"color: #008080; text-decoration-color: #008080; font-weight: bold\">806142</span> │\n",
       "│ <span style=\"color: #008000; text-decoration-color: #008000\">WRITE-IN                   </span> │                                            <span style=\"color: #008080; text-decoration-color: #008080; font-weight: bold\">645339</span> │\n",
       "│ <span style=\"color: #008000; text-decoration-color: #008000\">DONALD J TRUMP             </span> │                                            <span style=\"color: #008080; text-decoration-color: #008080; font-weight: bold\">262342</span> │\n",
       "│ <span style=\"color: #008000; text-decoration-color: #008000\">JOSEPH R BIDEN             </span> │                                            <span style=\"color: #008080; text-decoration-color: #008080; font-weight: bold\">262140</span> │\n",
       "│ <span style=\"color: #008000; text-decoration-color: #008000\">JO JORGENSEN               </span> │                                            <span style=\"color: #008080; text-decoration-color: #008080; font-weight: bold\">232039</span> │\n",
       "│ <span style=\"color: #008000; text-decoration-color: #008000\">HOWIE HAWKINS              </span> │                                            <span style=\"color: #008080; text-decoration-color: #008080; font-weight: bold\">198748</span> │\n",
       "│ <span style=\"color: #008000; text-decoration-color: #008000\">OTHER WRITE-INS            </span> │                                            <span style=\"color: #008080; text-decoration-color: #008080; font-weight: bold\">169402</span> │\n",
       "│ <span style=\"color: #008000; text-decoration-color: #008000\">UNDER VOTES                </span> │                                            <span style=\"color: #008080; text-decoration-color: #008080; font-weight: bold\">155458</span> │\n",
       "│ <span style=\"color: #008000; text-decoration-color: #008000\">OVER VOTES                 </span> │                                            <span style=\"color: #008080; text-decoration-color: #008080; font-weight: bold\">152642</span> │\n",
       "│ <span style=\"color: #008000; text-decoration-color: #008000\">AGAINST                    </span> │                                            <span style=\"color: #008080; text-decoration-color: #008080; font-weight: bold\">109500</span> │\n",
       "│ <span style=\"color: #008000; text-decoration-color: #008000\">FOR                        </span> │                                            <span style=\"color: #008080; text-decoration-color: #008080; font-weight: bold\">109344</span> │\n",
       "│ <span style=\"color: #008000; text-decoration-color: #008000\">GAVIN NEWSOM               </span> │                                            <span style=\"color: #008080; text-decoration-color: #008080; font-weight: bold\">100567</span> │\n",
       "│ <span style=\"color: #008000; text-decoration-color: #008000\">RICARDO LARA               </span> │                                            <span style=\"color: #008080; text-decoration-color: #008080; font-weight: bold\">100567</span> │\n",
       "│ <span style=\"color: #008000; text-decoration-color: #008000\">ELENI KOUNALAKIS           </span> │                                            <span style=\"color: #008080; text-decoration-color: #008080; font-weight: bold\">100567</span> │\n",
       "│ <span style=\"color: #008000; text-decoration-color: #008000\">THOMAS P DINAPOLI          </span> │                                             <span style=\"color: #008080; text-decoration-color: #008080; font-weight: bold\">98634</span> │\n",
       "│ <span style=\"color: #008000; text-decoration-color: #008000\">GLORIA LA RIVA             </span> │                                             <span style=\"color: #008080; text-decoration-color: #008080; font-weight: bold\">95141</span> │\n",
       "│ <span style=\"color: #7f7f7f; text-decoration-color: #7f7f7f\">NULL</span>                        │                                             <span style=\"color: #008080; text-decoration-color: #008080; font-weight: bold\">90531</span> │\n",
       "│ <span style=\"color: #008000; text-decoration-color: #008000\">LETITIA A JAMES            </span> │                                             <span style=\"color: #008080; text-decoration-color: #008080; font-weight: bold\">75126</span> │\n",
       "│ <span style=\"color: #008000; text-decoration-color: #008000\">BROCK PIERCE               </span> │                                             <span style=\"color: #008080; text-decoration-color: #008080; font-weight: bold\">70834</span> │\n",
       "│ <span style=\"color: #008000; text-decoration-color: #008000\">BLANK BALLOTS              </span> │                                             <span style=\"color: #008080; text-decoration-color: #008080; font-weight: bold\">70075</span> │\n",
       "│ <span style=\"color: #008000; text-decoration-color: #008000\">DON BLANKENSHIP            </span> │                                             <span style=\"color: #008080; text-decoration-color: #008080; font-weight: bold\">62784</span> │\n",
       "│ <span style=\"color: #008000; text-decoration-color: #008000\">KIRSTEN E GILLIBRAND       </span> │                                             <span style=\"color: #008080; text-decoration-color: #008080; font-weight: bold\">59715</span> │\n",
       "│ <span style=\"color: #008000; text-decoration-color: #008000\">NONE OF THESE CANDIDATES   </span> │                                             <span style=\"color: #008080; text-decoration-color: #008080; font-weight: bold\">56812</span> │\n",
       "│ <span style=\"color: #008000; text-decoration-color: #008000\">ANDREW M CUOMO             </span> │                                             <span style=\"color: #008080; text-decoration-color: #008080; font-weight: bold\">56067</span> │\n",
       "│ <span style=\"color: #008000; text-decoration-color: #008000\">BRIAN DAHLE                </span> │                                             <span style=\"color: #008080; text-decoration-color: #008080; font-weight: bold\">55715</span> │\n",
       "│ <span style=\"color: #008000; text-decoration-color: #008000\">BLANK                      </span> │                                             <span style=\"color: #008080; text-decoration-color: #008080; font-weight: bold\">55204</span> │\n",
       "│ <span style=\"color: #008000; text-decoration-color: #008000\">ROB BONTA                  </span> │                                             <span style=\"color: #008080; text-decoration-color: #008080; font-weight: bold\">54191</span> │\n",
       "│ <span style=\"color: #008000; text-decoration-color: #008000\">ANGELA E UNDERWOOD JACOBS  </span> │                                             <span style=\"color: #008080; text-decoration-color: #008080; font-weight: bold\">53301</span> │\n",
       "│ <span style=\"color: #008000; text-decoration-color: #008000\">MALIA M COHEN              </span> │                                             <span style=\"color: #008080; text-decoration-color: #008080; font-weight: bold\">53301</span> │\n",
       "│ <span style=\"color: #008000; text-decoration-color: #008000\">ROBERT HOWELL              </span> │                                             <span style=\"color: #008080; text-decoration-color: #008080; font-weight: bold\">53301</span> │\n",
       "│ <span style=\"color: #008000; text-decoration-color: #008000\">NATHAN HOCHMAN             </span> │                                             <span style=\"color: #008080; text-decoration-color: #008080; font-weight: bold\">53301</span> │\n",
       "│ <span style=\"color: #008000; text-decoration-color: #008000\">LANHEE J CHEN              </span> │                                             <span style=\"color: #008080; text-decoration-color: #008080; font-weight: bold\">53301</span> │\n",
       "│ <span style=\"color: #008000; text-decoration-color: #008000\">KANYE WEST                 </span> │                                             <span style=\"color: #008080; text-decoration-color: #008080; font-weight: bold\">52457</span> │\n",
       "│ <span style=\"color: #008000; text-decoration-color: #008000\">ROCQUE \"ROCKY\" DE LA FUENTE</span> │                                             <span style=\"color: #008080; text-decoration-color: #008080; font-weight: bold\">48013</span> │\n",
       "│ <span style=\"color: #008000; text-decoration-color: #008000\">ED HERNANDEZ               </span> │                                             <span style=\"color: #008080; text-decoration-color: #008080; font-weight: bold\">47266</span> │\n",
       "│ <span style=\"color: #008000; text-decoration-color: #008000\">KONSTANTINOS RODITIS       </span> │                                             <span style=\"color: #008080; text-decoration-color: #008080; font-weight: bold\">47266</span> │\n",
       "│ <span style=\"color: #008000; text-decoration-color: #008000\">ALEX PADILLA               </span> │                                             <span style=\"color: #008080; text-decoration-color: #008080; font-weight: bold\">47266</span> │\n",
       "│ <span style=\"color: #008000; text-decoration-color: #008000\">STEVE POIZNER              </span> │                                             <span style=\"color: #008080; text-decoration-color: #008080; font-weight: bold\">47266</span> │\n",
       "│ <span style=\"color: #008000; text-decoration-color: #008000\">KEVIN DE LEON              </span> │                                             <span style=\"color: #008080; text-decoration-color: #008080; font-weight: bold\">47266</span> │\n",
       "│ <span style=\"color: #008000; text-decoration-color: #008000\">JOHN H COX                 </span> │                                             <span style=\"color: #008080; text-decoration-color: #008080; font-weight: bold\">47266</span> │\n",
       "│ <span style=\"color: #008000; text-decoration-color: #008000\">GREG CONLON                </span> │                                             <span style=\"color: #008080; text-decoration-color: #008080; font-weight: bold\">47266</span> │\n",
       "│ <span style=\"color: #008000; text-decoration-color: #008000\">XAVIER BECERRA             </span> │                                             <span style=\"color: #008080; text-decoration-color: #008080; font-weight: bold\">47266</span> │\n",
       "│ <span style=\"color: #008000; text-decoration-color: #008000\">DIANNE FEINSTEIN           </span> │                                             <span style=\"color: #008080; text-decoration-color: #008080; font-weight: bold\">47266</span> │\n",
       "│ <span style=\"color: #008000; text-decoration-color: #008000\">MARK P MEUSER              </span> │                                             <span style=\"color: #008080; text-decoration-color: #008080; font-weight: bold\">47266</span> │\n",
       "│ <span style=\"color: #008000; text-decoration-color: #008000\">TONY K THURMOND            </span> │                                             <span style=\"color: #008080; text-decoration-color: #008080; font-weight: bold\">47266</span> │\n",
       "│ <span style=\"color: #008000; text-decoration-color: #008000\">BETTY T YEE                </span> │                                             <span style=\"color: #008080; text-decoration-color: #008080; font-weight: bold\">47266</span> │\n",
       "│ <span style=\"color: #008000; text-decoration-color: #008000\">MARSHALL TUCK              </span> │                                             <span style=\"color: #008080; text-decoration-color: #008080; font-weight: bold\">47266</span> │\n",
       "│ <span style=\"color: #008000; text-decoration-color: #008000\">FIONA MA                   </span> │                                             <span style=\"color: #008080; text-decoration-color: #008080; font-weight: bold\">47266</span> │\n",
       "│ <span style=\"color: #008000; text-decoration-color: #008000\">STEVEN C BAILEY            </span> │                                             <span style=\"color: #008080; text-decoration-color: #008080; font-weight: bold\">47266</span> │\n",
       "│ <span style=\"color: #008000; text-decoration-color: #008000\">BRIAN CARROLL              </span> │                                             <span style=\"color: #008080; text-decoration-color: #008080; font-weight: bold\">45315</span> │\n",
       "│ <span style=\"color: #008000; text-decoration-color: #008000\">CHELE CHIAVACCI FARLEY     </span> │                                             <span style=\"color: #008080; text-decoration-color: #008080; font-weight: bold\">44806</span> │\n",
       "│ <span style=\"color: #008000; text-decoration-color: #008000\">PUBLIC COUNTER             </span> │                                             <span style=\"color: #008080; text-decoration-color: #008080; font-weight: bold\">43046</span> │\n",
       "│ <span style=\"color: #008000; text-decoration-color: #008000\">ABSENTEE / MILITARY        </span> │                                             <span style=\"color: #008080; text-decoration-color: #008080; font-weight: bold\">42698</span> │\n",
       "│ <span style=\"color: #008000; text-decoration-color: #008000\">MARC MOLINARO              </span> │                                             <span style=\"color: #008080; text-decoration-color: #008080; font-weight: bold\">42375</span> │\n",
       "│ <span style=\"color: #008000; text-decoration-color: #008000\">ROQUE DE LA FUENTE GUERRA  </span> │                                             <span style=\"color: #008080; text-decoration-color: #008080; font-weight: bold\">42260</span> │\n",
       "│ <span style=\"color: #008000; text-decoration-color: #008000\">AFFIDAVIT                  </span> │                                             <span style=\"color: #008080; text-decoration-color: #008080; font-weight: bold\">41600</span> │\n",
       "│ <span style=\"color: #008000; text-decoration-color: #008000\">JADE SIMMONS               </span> │                                             <span style=\"color: #008080; text-decoration-color: #008080; font-weight: bold\">41578</span> │\n",
       "│ <span style=\"color: #008000; text-decoration-color: #008000\">SCATTERING                 </span> │                                             <span style=\"color: #008080; text-decoration-color: #008080; font-weight: bold\">41206</span> │\n",
       "│ <span style=\"color: #008000; text-decoration-color: #008000\">BLANK/VOID                 </span> │                                             <span style=\"color: #008080; text-decoration-color: #008080; font-weight: bold\">39500</span> │\n",
       "│ <span style=\"color: #008000; text-decoration-color: #008000\">RAPHAEL WARNOCK            </span> │                                             <span style=\"color: #008080; text-decoration-color: #008080; font-weight: bold\">37789</span> │\n",
       "│ <span style=\"color: #008000; text-decoration-color: #008000\">REPEALED                   </span> │                                             <span style=\"color: #008080; text-decoration-color: #008080; font-weight: bold\">35222</span> │\n",
       "│ <span style=\"color: #008000; text-decoration-color: #008000\">MAINTAINED                 </span> │                                             <span style=\"color: #008080; text-decoration-color: #008080; font-weight: bold\">35222</span> │\n",
       "│ <span style=\"color: #008000; text-decoration-color: #008000\">ALL OTHERS                 </span> │                                             <span style=\"color: #008080; text-decoration-color: #008080; font-weight: bold\">34854</span> │\n",
       "│ <span style=\"color: #008000; text-decoration-color: #008000\">LISA ELLIS                 </span> │                                             <span style=\"color: #008080; text-decoration-color: #008080; font-weight: bold\">32012</span> │\n",
       "│ <span style=\"color: #008000; text-decoration-color: #008000\">KEITH WOFFORD              </span> │                                             <span style=\"color: #008080; text-decoration-color: #008080; font-weight: bold\">31049</span> │\n",
       "│ <span style=\"color: #008000; text-decoration-color: #008000\">SCATTERED VOTES            </span> │                                             <span style=\"color: #008080; text-decoration-color: #008080; font-weight: bold\">30445</span> │\n",
       "│ <span style=\"color: #008000; text-decoration-color: #008000\">KASEY WELLS                </span> │                                             <span style=\"color: #008080; text-decoration-color: #008080; font-weight: bold\">29300</span> │\n",
       "│ <span style=\"color: #008000; text-decoration-color: #008000\">KATHY C HOCHUL             </span> │                                             <span style=\"color: #008080; text-decoration-color: #008080; font-weight: bold\">28875</span> │\n",
       "│ <span style=\"color: #008000; text-decoration-color: #008000\">CHARLES E SCHUMER          </span> │                                             <span style=\"color: #008080; text-decoration-color: #008080; font-weight: bold\">28862</span> │\n",
       "│ <span style=\"color: #008000; text-decoration-color: #008000\">LEE ZELDIN                 </span> │                                             <span style=\"color: #008080; text-decoration-color: #008080; font-weight: bold\">28719</span> │\n",
       "│ <span style=\"color: #008000; text-decoration-color: #008000\">MICHAEL HENRY              </span> │                                             <span style=\"color: #008080; text-decoration-color: #008080; font-weight: bold\">28702</span> │\n",
       "│ <span style=\"color: #008000; text-decoration-color: #008000\">JOE PINION                 </span> │                                             <span style=\"color: #008080; text-decoration-color: #008080; font-weight: bold\">28401</span> │\n",
       "│ <span style=\"color: #008000; text-decoration-color: #008000\">PAUL RODRIGUEZ             </span> │                                             <span style=\"color: #008080; text-decoration-color: #008080; font-weight: bold\">28123</span> │\n",
       "│ <span style=\"color: #008000; text-decoration-color: #008000\">JONATHAN TRICHTER          </span> │                                             <span style=\"color: #008080; text-decoration-color: #008080; font-weight: bold\">28107</span> │\n",
       "│ <span style=\"color: #008000; text-decoration-color: #008000\">HEGAR                      </span> │                                             <span style=\"color: #008080; text-decoration-color: #008080; font-weight: bold\">27698</span> │\n",
       "│ <span style=\"color: #008000; text-decoration-color: #008000\">ASH                        </span> │                                             <span style=\"color: #008080; text-decoration-color: #008080; font-weight: bold\">27242</span> │\n",
       "│ <span style=\"color: #008000; text-decoration-color: #008000\">HERSCHEL JUNIOR WALKER     </span> │                                             <span style=\"color: #008080; text-decoration-color: #008080; font-weight: bold\">27165</span> │\n",
       "│ <span style=\"color: #008000; text-decoration-color: #008000\">TOM HOEFLING               </span> │                                             <span style=\"color: #008080; text-decoration-color: #008080; font-weight: bold\">27106</span> │\n",
       "│ <span style=\"color: #008000; text-decoration-color: #008000\">RYAN GRAHAM                </span> │                                             <span style=\"color: #008080; text-decoration-color: #008080; font-weight: bold\">25576</span> │\n",
       "│ <span style=\"color: #008000; text-decoration-color: #008000\">BRAD RAFFENSPERGER         </span> │                                             <span style=\"color: #008080; text-decoration-color: #008080; font-weight: bold\">25576</span> │\n",
       "│ <span style=\"color: #008000; text-decoration-color: #008000\">TED METZ                   </span> │                                             <span style=\"color: #008080; text-decoration-color: #008080; font-weight: bold\">25576</span> │\n",
       "│ <span style=\"color: #008000; text-decoration-color: #008000\">RICHARD WOODS              </span> │                                             <span style=\"color: #008080; text-decoration-color: #008080; font-weight: bold\">25576</span> │\n",
       "│ <span style=\"color: #008000; text-decoration-color: #008000\">CHRIS CARR                 </span> │                                             <span style=\"color: #008080; text-decoration-color: #008080; font-weight: bold\">25576</span> │\n",
       "│ <span style=\"color: #008000; text-decoration-color: #008000\">BRIAN KEMP                 </span> │                                             <span style=\"color: #008080; text-decoration-color: #008080; font-weight: bold\">25576</span> │\n",
       "│ <span style=\"color: #008000; text-decoration-color: #008000\">CHARLIE BAILEY             </span> │                                             <span style=\"color: #008080; text-decoration-color: #008080; font-weight: bold\">25576</span> │\n",
       "│ <span style=\"color: #008000; text-decoration-color: #008000\">STACEY ABRAMS              </span> │                                             <span style=\"color: #008080; text-decoration-color: #008080; font-weight: bold\">25576</span> │\n",
       "│ <span style=\"color: #008000; text-decoration-color: #008000\">JEFFERSON G GRIFFIN        </span> │                                             <span style=\"color: #008080; text-decoration-color: #008080; font-weight: bold\">24468</span> │\n",
       "│ <span style=\"color: #008000; text-decoration-color: #008000\">SHANE HAZEL                </span> │                                             <span style=\"color: #008080; text-decoration-color: #008080; font-weight: bold\">24234</span> │\n",
       "│ <span style=\"color: #008000; text-decoration-color: #008000\">CHERI BEASLEY              </span> │                                             <span style=\"color: #008080; text-decoration-color: #008080; font-weight: bold\">24168</span> │\n",
       "│ <span style=\"color: #008000; text-decoration-color: #008000\">SHANNON W BRAY             </span> │                                             <span style=\"color: #008080; text-decoration-color: #008080; font-weight: bold\">24168</span> │\n",
       "│ <span style=\"color: #008000; text-decoration-color: #008000\">LUCY INMAN                 </span> │                                             <span style=\"color: #008080; text-decoration-color: #008080; font-weight: bold\">24168</span> │\n",
       "│ <span style=\"color: #008000; text-decoration-color: #008000\">PRESIDENT BODDIE           </span> │                                             <span style=\"color: #008080; text-decoration-color: #008080; font-weight: bold\">22312</span> │\n",
       "│ <span style=\"color: #008000; text-decoration-color: #008000\">WRIGHT                     </span> │                                             <span style=\"color: #008080; text-decoration-color: #008080; font-weight: bold\">21611</span> │\n",
       "│ <span style=\"color: #008000; text-decoration-color: #008000\">MILLER                     </span> │                                             <span style=\"color: #008080; text-decoration-color: #008080; font-weight: bold\">20851</span> │\n",
       "│ <span style=\"color: #008000; text-decoration-color: #008000\">COLLIER                    </span> │                                             <span style=\"color: #008080; text-decoration-color: #008080; font-weight: bold\">20703</span> │\n",
       "│ <span style=\"color: #008000; text-decoration-color: #008000\">FRANK GILBERT              </span> │                                             <span style=\"color: #008080; text-decoration-color: #008080; font-weight: bold\">19796</span> │\n",
       "└─────────────────────────────┴───────────────────────────────────────────────────┘\n",
       "</pre>\n"
      ],
      "text/plain": [
       "┏━━━━━━━━━━━━━━━━━━━━━━━━━━━━━┳━━━━━━━━━━━━━━━━━━━━━━━━━━━━━━━━━━━━━━━━━━━━━━━━━━━┓\n",
       "┃\u001b[1m \u001b[0m\u001b[1mcandidate\u001b[0m\u001b[1m                  \u001b[0m\u001b[1m \u001b[0m┃\u001b[1m \u001b[0m\u001b[1mCountStar(ibis_cached_udwgv3gv3ndqfl2c6rw4f2v2zu)\u001b[0m\u001b[1m \u001b[0m┃\n",
       "┡━━━━━━━━━━━━━━━━━━━━━━━━━━━━━╇━━━━━━━━━━━━━━━━━━━━━━━━━━━━━━━━━━━━━━━━━━━━━━━━━━━┩\n",
       "│ \u001b[2mstring\u001b[0m                      │ \u001b[2mint64\u001b[0m                                             │\n",
       "├─────────────────────────────┼───────────────────────────────────────────────────┤\n",
       "│ \u001b[32mNO                         \u001b[0m │                                           \u001b[1;36m2477828\u001b[0m │\n",
       "│ \u001b[32mYES                        \u001b[0m │                                           \u001b[1;36m2469262\u001b[0m │\n",
       "│ \u001b[32mUNDERVOTES                 \u001b[0m │                                           \u001b[1;36m1352968\u001b[0m │\n",
       "│ \u001b[32mOVERVOTES                  \u001b[0m │                                           \u001b[1;36m1162719\u001b[0m │\n",
       "│ \u001b[32mWRITEIN                    \u001b[0m │                                            \u001b[1;36m806142\u001b[0m │\n",
       "│ \u001b[32mWRITE-IN                   \u001b[0m │                                            \u001b[1;36m645339\u001b[0m │\n",
       "│ \u001b[32mDONALD J TRUMP             \u001b[0m │                                            \u001b[1;36m262342\u001b[0m │\n",
       "│ \u001b[32mJOSEPH R BIDEN             \u001b[0m │                                            \u001b[1;36m262140\u001b[0m │\n",
       "│ \u001b[32mJO JORGENSEN               \u001b[0m │                                            \u001b[1;36m232039\u001b[0m │\n",
       "│ \u001b[32mHOWIE HAWKINS              \u001b[0m │                                            \u001b[1;36m198748\u001b[0m │\n",
       "│ \u001b[32mOTHER WRITE-INS            \u001b[0m │                                            \u001b[1;36m169402\u001b[0m │\n",
       "│ \u001b[32mUNDER VOTES                \u001b[0m │                                            \u001b[1;36m155458\u001b[0m │\n",
       "│ \u001b[32mOVER VOTES                 \u001b[0m │                                            \u001b[1;36m152642\u001b[0m │\n",
       "│ \u001b[32mAGAINST                    \u001b[0m │                                            \u001b[1;36m109500\u001b[0m │\n",
       "│ \u001b[32mFOR                        \u001b[0m │                                            \u001b[1;36m109344\u001b[0m │\n",
       "│ \u001b[32mGAVIN NEWSOM               \u001b[0m │                                            \u001b[1;36m100567\u001b[0m │\n",
       "│ \u001b[32mRICARDO LARA               \u001b[0m │                                            \u001b[1;36m100567\u001b[0m │\n",
       "│ \u001b[32mELENI KOUNALAKIS           \u001b[0m │                                            \u001b[1;36m100567\u001b[0m │\n",
       "│ \u001b[32mTHOMAS P DINAPOLI          \u001b[0m │                                             \u001b[1;36m98634\u001b[0m │\n",
       "│ \u001b[32mGLORIA LA RIVA             \u001b[0m │                                             \u001b[1;36m95141\u001b[0m │\n",
       "│ \u001b[2mNULL\u001b[0m                        │                                             \u001b[1;36m90531\u001b[0m │\n",
       "│ \u001b[32mLETITIA A JAMES            \u001b[0m │                                             \u001b[1;36m75126\u001b[0m │\n",
       "│ \u001b[32mBROCK PIERCE               \u001b[0m │                                             \u001b[1;36m70834\u001b[0m │\n",
       "│ \u001b[32mBLANK BALLOTS              \u001b[0m │                                             \u001b[1;36m70075\u001b[0m │\n",
       "│ \u001b[32mDON BLANKENSHIP            \u001b[0m │                                             \u001b[1;36m62784\u001b[0m │\n",
       "│ \u001b[32mKIRSTEN E GILLIBRAND       \u001b[0m │                                             \u001b[1;36m59715\u001b[0m │\n",
       "│ \u001b[32mNONE OF THESE CANDIDATES   \u001b[0m │                                             \u001b[1;36m56812\u001b[0m │\n",
       "│ \u001b[32mANDREW M CUOMO             \u001b[0m │                                             \u001b[1;36m56067\u001b[0m │\n",
       "│ \u001b[32mBRIAN DAHLE                \u001b[0m │                                             \u001b[1;36m55715\u001b[0m │\n",
       "│ \u001b[32mBLANK                      \u001b[0m │                                             \u001b[1;36m55204\u001b[0m │\n",
       "│ \u001b[32mROB BONTA                  \u001b[0m │                                             \u001b[1;36m54191\u001b[0m │\n",
       "│ \u001b[32mANGELA E UNDERWOOD JACOBS  \u001b[0m │                                             \u001b[1;36m53301\u001b[0m │\n",
       "│ \u001b[32mMALIA M COHEN              \u001b[0m │                                             \u001b[1;36m53301\u001b[0m │\n",
       "│ \u001b[32mROBERT HOWELL              \u001b[0m │                                             \u001b[1;36m53301\u001b[0m │\n",
       "│ \u001b[32mNATHAN HOCHMAN             \u001b[0m │                                             \u001b[1;36m53301\u001b[0m │\n",
       "│ \u001b[32mLANHEE J CHEN              \u001b[0m │                                             \u001b[1;36m53301\u001b[0m │\n",
       "│ \u001b[32mKANYE WEST                 \u001b[0m │                                             \u001b[1;36m52457\u001b[0m │\n",
       "│ \u001b[32mROCQUE \"ROCKY\" DE LA FUENTE\u001b[0m │                                             \u001b[1;36m48013\u001b[0m │\n",
       "│ \u001b[32mED HERNANDEZ               \u001b[0m │                                             \u001b[1;36m47266\u001b[0m │\n",
       "│ \u001b[32mKONSTANTINOS RODITIS       \u001b[0m │                                             \u001b[1;36m47266\u001b[0m │\n",
       "│ \u001b[32mALEX PADILLA               \u001b[0m │                                             \u001b[1;36m47266\u001b[0m │\n",
       "│ \u001b[32mSTEVE POIZNER              \u001b[0m │                                             \u001b[1;36m47266\u001b[0m │\n",
       "│ \u001b[32mKEVIN DE LEON              \u001b[0m │                                             \u001b[1;36m47266\u001b[0m │\n",
       "│ \u001b[32mJOHN H COX                 \u001b[0m │                                             \u001b[1;36m47266\u001b[0m │\n",
       "│ \u001b[32mGREG CONLON                \u001b[0m │                                             \u001b[1;36m47266\u001b[0m │\n",
       "│ \u001b[32mXAVIER BECERRA             \u001b[0m │                                             \u001b[1;36m47266\u001b[0m │\n",
       "│ \u001b[32mDIANNE FEINSTEIN           \u001b[0m │                                             \u001b[1;36m47266\u001b[0m │\n",
       "│ \u001b[32mMARK P MEUSER              \u001b[0m │                                             \u001b[1;36m47266\u001b[0m │\n",
       "│ \u001b[32mTONY K THURMOND            \u001b[0m │                                             \u001b[1;36m47266\u001b[0m │\n",
       "│ \u001b[32mBETTY T YEE                \u001b[0m │                                             \u001b[1;36m47266\u001b[0m │\n",
       "│ \u001b[32mMARSHALL TUCK              \u001b[0m │                                             \u001b[1;36m47266\u001b[0m │\n",
       "│ \u001b[32mFIONA MA                   \u001b[0m │                                             \u001b[1;36m47266\u001b[0m │\n",
       "│ \u001b[32mSTEVEN C BAILEY            \u001b[0m │                                             \u001b[1;36m47266\u001b[0m │\n",
       "│ \u001b[32mBRIAN CARROLL              \u001b[0m │                                             \u001b[1;36m45315\u001b[0m │\n",
       "│ \u001b[32mCHELE CHIAVACCI FARLEY     \u001b[0m │                                             \u001b[1;36m44806\u001b[0m │\n",
       "│ \u001b[32mPUBLIC COUNTER             \u001b[0m │                                             \u001b[1;36m43046\u001b[0m │\n",
       "│ \u001b[32mABSENTEE / MILITARY        \u001b[0m │                                             \u001b[1;36m42698\u001b[0m │\n",
       "│ \u001b[32mMARC MOLINARO              \u001b[0m │                                             \u001b[1;36m42375\u001b[0m │\n",
       "│ \u001b[32mROQUE DE LA FUENTE GUERRA  \u001b[0m │                                             \u001b[1;36m42260\u001b[0m │\n",
       "│ \u001b[32mAFFIDAVIT                  \u001b[0m │                                             \u001b[1;36m41600\u001b[0m │\n",
       "│ \u001b[32mJADE SIMMONS               \u001b[0m │                                             \u001b[1;36m41578\u001b[0m │\n",
       "│ \u001b[32mSCATTERING                 \u001b[0m │                                             \u001b[1;36m41206\u001b[0m │\n",
       "│ \u001b[32mBLANK/VOID                 \u001b[0m │                                             \u001b[1;36m39500\u001b[0m │\n",
       "│ \u001b[32mRAPHAEL WARNOCK            \u001b[0m │                                             \u001b[1;36m37789\u001b[0m │\n",
       "│ \u001b[32mREPEALED                   \u001b[0m │                                             \u001b[1;36m35222\u001b[0m │\n",
       "│ \u001b[32mMAINTAINED                 \u001b[0m │                                             \u001b[1;36m35222\u001b[0m │\n",
       "│ \u001b[32mALL OTHERS                 \u001b[0m │                                             \u001b[1;36m34854\u001b[0m │\n",
       "│ \u001b[32mLISA ELLIS                 \u001b[0m │                                             \u001b[1;36m32012\u001b[0m │\n",
       "│ \u001b[32mKEITH WOFFORD              \u001b[0m │                                             \u001b[1;36m31049\u001b[0m │\n",
       "│ \u001b[32mSCATTERED VOTES            \u001b[0m │                                             \u001b[1;36m30445\u001b[0m │\n",
       "│ \u001b[32mKASEY WELLS                \u001b[0m │                                             \u001b[1;36m29300\u001b[0m │\n",
       "│ \u001b[32mKATHY C HOCHUL             \u001b[0m │                                             \u001b[1;36m28875\u001b[0m │\n",
       "│ \u001b[32mCHARLES E SCHUMER          \u001b[0m │                                             \u001b[1;36m28862\u001b[0m │\n",
       "│ \u001b[32mLEE ZELDIN                 \u001b[0m │                                             \u001b[1;36m28719\u001b[0m │\n",
       "│ \u001b[32mMICHAEL HENRY              \u001b[0m │                                             \u001b[1;36m28702\u001b[0m │\n",
       "│ \u001b[32mJOE PINION                 \u001b[0m │                                             \u001b[1;36m28401\u001b[0m │\n",
       "│ \u001b[32mPAUL RODRIGUEZ             \u001b[0m │                                             \u001b[1;36m28123\u001b[0m │\n",
       "│ \u001b[32mJONATHAN TRICHTER          \u001b[0m │                                             \u001b[1;36m28107\u001b[0m │\n",
       "│ \u001b[32mHEGAR                      \u001b[0m │                                             \u001b[1;36m27698\u001b[0m │\n",
       "│ \u001b[32mASH                        \u001b[0m │                                             \u001b[1;36m27242\u001b[0m │\n",
       "│ \u001b[32mHERSCHEL JUNIOR WALKER     \u001b[0m │                                             \u001b[1;36m27165\u001b[0m │\n",
       "│ \u001b[32mTOM HOEFLING               \u001b[0m │                                             \u001b[1;36m27106\u001b[0m │\n",
       "│ \u001b[32mRYAN GRAHAM                \u001b[0m │                                             \u001b[1;36m25576\u001b[0m │\n",
       "│ \u001b[32mBRAD RAFFENSPERGER         \u001b[0m │                                             \u001b[1;36m25576\u001b[0m │\n",
       "│ \u001b[32mTED METZ                   \u001b[0m │                                             \u001b[1;36m25576\u001b[0m │\n",
       "│ \u001b[32mRICHARD WOODS              \u001b[0m │                                             \u001b[1;36m25576\u001b[0m │\n",
       "│ \u001b[32mCHRIS CARR                 \u001b[0m │                                             \u001b[1;36m25576\u001b[0m │\n",
       "│ \u001b[32mBRIAN KEMP                 \u001b[0m │                                             \u001b[1;36m25576\u001b[0m │\n",
       "│ \u001b[32mCHARLIE BAILEY             \u001b[0m │                                             \u001b[1;36m25576\u001b[0m │\n",
       "│ \u001b[32mSTACEY ABRAMS              \u001b[0m │                                             \u001b[1;36m25576\u001b[0m │\n",
       "│ \u001b[32mJEFFERSON G GRIFFIN        \u001b[0m │                                             \u001b[1;36m24468\u001b[0m │\n",
       "│ \u001b[32mSHANE HAZEL                \u001b[0m │                                             \u001b[1;36m24234\u001b[0m │\n",
       "│ \u001b[32mCHERI BEASLEY              \u001b[0m │                                             \u001b[1;36m24168\u001b[0m │\n",
       "│ \u001b[32mSHANNON W BRAY             \u001b[0m │                                             \u001b[1;36m24168\u001b[0m │\n",
       "│ \u001b[32mLUCY INMAN                 \u001b[0m │                                             \u001b[1;36m24168\u001b[0m │\n",
       "│ \u001b[32mPRESIDENT BODDIE           \u001b[0m │                                             \u001b[1;36m22312\u001b[0m │\n",
       "│ \u001b[32mWRIGHT                     \u001b[0m │                                             \u001b[1;36m21611\u001b[0m │\n",
       "│ \u001b[32mMILLER                     \u001b[0m │                                             \u001b[1;36m20851\u001b[0m │\n",
       "│ \u001b[32mCOLLIER                    \u001b[0m │                                             \u001b[1;36m20703\u001b[0m │\n",
       "│ \u001b[32mFRANK GILBERT              \u001b[0m │                                             \u001b[1;36m19796\u001b[0m │\n",
       "└─────────────────────────────┴───────────────────────────────────────────────────┘\n"
      ]
     },
     "execution_count": 5,
     "metadata": {},
     "output_type": "execute_result"
    }
   ],
   "source": [
    "t.candidate.topk(100).preview(max_rows=100)"
   ]
  },
  {
   "cell_type": "code",
   "execution_count": 6,
   "metadata": {},
   "outputs": [],
   "source": [
    "cand_mapping = {\n",
    "    \"FOR\": \"YES\",\n",
    "    \"AGAINST\": \"NO\",\n",
    "    \"UNDER VOTES\": \"UNDERVOTES\",\n",
    "    \"OVER VOTES\": \"OVERVOTES\",\n",
    "    \"WRITE-IN\": \"WRITEIN\",\n",
    "    \"WRITE-IN VOTES\": \"WRITEIN\",\n",
    "    \"WRITE IN\": \"WRITEIN\",\n",
    "    \"WRITEIN VOTES\": \"WRITEIN\",\n",
    "    \"NONE OF THESE CANDIDATES\": \"OTHER\",\n",
    "    \"OTHER WRITE-INS\": \"OTHER\",\n",
    "    \"BLANK BALLOTS\": \"BLANK\",\n",
    "    \"TIMES BLANK VOTED\": \"BLANK\",\n",
    "    \"BLANK VOTES\": \"BLANK\",\n",
    "    \"BLANKS\": \"BLANK\",\n",
    "    \"BLANK/VOID\": \"BLANK\",\n",
    "    \"SCATTERING\": \"SCATTERING\",\n",
    "    \"SCATTERED VOTES\": \"SCATTERING\",\n",
    "    \"FEDERAL BALLOTS\": \"FEDERAL\",\n",
    "    \"NOT QUALIFIED\": \"REJECTED\",\n",
    "}\n",
    "t = t.mutate(candidate=t.candidate.substitute(cand_mapping))"
   ]
  },
  {
   "cell_type": "markdown",
   "metadata": {},
   "source": [
    "## Fixup Office"
   ]
  },
  {
   "cell_type": "code",
   "execution_count": 7,
   "metadata": {},
   "outputs": [],
   "source": [
    "office_mapping = {\n",
    "    \"US PRESIDENT\": [\n",
    "        \"US PRESIDENT\",\n",
    "    ],\n",
    "    \"US SENATE\": [\n",
    "        \"US SENATE\",\n",
    "    ],\n",
    "    \"US HOUSE\": [\n",
    "        \"US HOUSE\",\n",
    "        \"REPRESENTATIVE IN CONGRESS\",\n",
    "        \"DELEGATE TO THE U.S. HOUSE OF REPRESENTATIVE\",\n",
    "        \"DELEGATE TO THE US HOUSE\",\n",
    "        \"DELEGATE TO THE HOUSE OF REPRESENTATIVES\",\n",
    "        \"REPRESENTATIVE IN CONGRESS\",\n",
    "    ],\n",
    "    \"GOVERNOR\": [\n",
    "        \"GOVERNOR\",\n",
    "        \"GOVERNOR/LIEUTENANT GOVERNOR\",\n",
    "        \"GOVERNOR AND LIEUTENANT GOVERNOR\",\n",
    "    ],\n",
    "    \"LIEUTENANT GOVERNOR\": [\n",
    "        \"LIEUTENANT GOVERNOR\",\n",
    "    ],\n",
    "    \"ATTORNEY GENERAL\": [\n",
    "        \"ATTORNEY GENERAL\",\n",
    "        \"STATE ATTORNEY\",\n",
    "        \"STATE ATTORNEY GENERAL\",  # 39 States elected an Attorney General in this period\n",
    "    ],\n",
    "    \"SECRETARY OF STATE\": [\n",
    "        \"SECRETARY OF STATE\",  # 32 States elected a Secretary of State in this period\n",
    "    ],\n",
    "    \"STATE TREASURER\": [\"STATE TREASURER\", \"TREASURER\"],\n",
    "    \"AUDITOR OF STATE\": [\"STATE AUDITOR\", \"AUDITOR OF STATE\"],\n",
    "    \"STATE SENATE\": [\n",
    "        \"STATE SENATE\",\n",
    "        \"STATE SENATOR\",\n",
    "    ],\n",
    "    \"STATE HOUSE\": [\n",
    "        \"STATE HOUSE\",\n",
    "        \"STATE REPRESENTATIVE\",\n",
    "        \"HOUSE OF DELEGATES\",\n",
    "    ],\n",
    "}\n",
    "office_mapping_flat = {}\n",
    "for canon, appearances in office_mapping.items():\n",
    "    for a in appearances:\n",
    "        office_mapping_flat[a] = canon\n",
    "t = t.mutate(office=t.office.substitute(office_mapping_flat))"
   ]
  },
  {
   "cell_type": "markdown",
   "metadata": {},
   "source": [
    "## Fixup District"
   ]
  },
  {
   "cell_type": "code",
   "execution_count": 8,
   "metadata": {},
   "outputs": [
    {
     "data": {
      "text/html": [
       "<pre style=\"white-space:pre;overflow-x:auto;line-height:normal;font-family:Menlo,'DejaVu Sans Mono',consolas,'Courier New',monospace\">┏━━━━━━━━━━━━━━┳━━━━━━━━━━━┳━━━━━━━━━┓\n",
       "┃<span style=\"font-weight: bold\"> office       </span>┃<span style=\"font-weight: bold\"> district  </span>┃<span style=\"font-weight: bold\"> n       </span>┃\n",
       "┡━━━━━━━━━━━━━━╇━━━━━━━━━━━╇━━━━━━━━━┩\n",
       "│ <span style=\"color: #7f7f7f; text-decoration-color: #7f7f7f\">string</span>       │ <span style=\"color: #7f7f7f; text-decoration-color: #7f7f7f\">string</span>    │ <span style=\"color: #7f7f7f; text-decoration-color: #7f7f7f\">int64</span>   │\n",
       "├──────────────┼───────────┼─────────┤\n",
       "│ <span style=\"color: #008000; text-decoration-color: #008000\">GOVERNOR    </span> │ <span style=\"color: #008000; text-decoration-color: #008000\">026      </span> │       <span style=\"color: #008080; text-decoration-color: #008080; font-weight: bold\">3</span> │\n",
       "│ <span style=\"color: #008000; text-decoration-color: #008000\">GOVERNOR    </span> │ <span style=\"color: #008000; text-decoration-color: #008000\">000      </span> │   <span style=\"color: #008080; text-decoration-color: #008080; font-weight: bold\">82270</span> │\n",
       "│ <span style=\"color: #008000; text-decoration-color: #008000\">GOVERNOR    </span> │ <span style=\"color: #008000; text-decoration-color: #008000\">STATEWIDE</span> │  <span style=\"color: #008080; text-decoration-color: #008080; font-weight: bold\">987971</span> │\n",
       "│ <span style=\"color: #008000; text-decoration-color: #008000\">GOVERNOR    </span> │ <span style=\"color: #7f7f7f; text-decoration-color: #7f7f7f\">NULL</span>      │  <span style=\"color: #008080; text-decoration-color: #008080; font-weight: bold\">990862</span> │\n",
       "│ <span style=\"color: #008000; text-decoration-color: #008000\">US PRESIDENT</span> │ <span style=\"color: #008000; text-decoration-color: #008000\">011      </span> │     <span style=\"color: #008080; text-decoration-color: #008080; font-weight: bold\">668</span> │\n",
       "│ <span style=\"color: #008000; text-decoration-color: #008000\">US PRESIDENT</span> │ <span style=\"color: #008000; text-decoration-color: #008000\">008      </span> │     <span style=\"color: #008080; text-decoration-color: #008080; font-weight: bold\">700</span> │\n",
       "│ <span style=\"color: #008000; text-decoration-color: #008000\">US PRESIDENT</span> │ <span style=\"color: #008000; text-decoration-color: #008000\">010      </span> │     <span style=\"color: #008080; text-decoration-color: #008080; font-weight: bold\">884</span> │\n",
       "│ <span style=\"color: #008000; text-decoration-color: #008000\">US PRESIDENT</span> │ <span style=\"color: #008000; text-decoration-color: #008000\">007      </span> │     <span style=\"color: #008080; text-decoration-color: #008080; font-weight: bold\">968</span> │\n",
       "│ <span style=\"color: #008000; text-decoration-color: #008000\">US PRESIDENT</span> │ <span style=\"color: #008000; text-decoration-color: #008000\">006      </span> │    <span style=\"color: #008080; text-decoration-color: #008080; font-weight: bold\">1068</span> │\n",
       "│ <span style=\"color: #008000; text-decoration-color: #008000\">US PRESIDENT</span> │ <span style=\"color: #008000; text-decoration-color: #008000\">004      </span> │    <span style=\"color: #008080; text-decoration-color: #008080; font-weight: bold\">1144</span> │\n",
       "│ <span style=\"color: #008000; text-decoration-color: #008000\">US PRESIDENT</span> │ <span style=\"color: #008000; text-decoration-color: #008000\">005      </span> │    <span style=\"color: #008080; text-decoration-color: #008080; font-weight: bold\">1412</span> │\n",
       "│ <span style=\"color: #008000; text-decoration-color: #008000\">US PRESIDENT</span> │ <span style=\"color: #008000; text-decoration-color: #008000\">009      </span> │    <span style=\"color: #008080; text-decoration-color: #008080; font-weight: bold\">1568</span> │\n",
       "│ <span style=\"color: #008000; text-decoration-color: #008000\">US PRESIDENT</span> │ <span style=\"color: #008000; text-decoration-color: #008000\">003      </span> │    <span style=\"color: #008080; text-decoration-color: #008080; font-weight: bold\">3047</span> │\n",
       "│ <span style=\"color: #008000; text-decoration-color: #008000\">US PRESIDENT</span> │ <span style=\"color: #008000; text-decoration-color: #008000\">001      </span> │    <span style=\"color: #008080; text-decoration-color: #008080; font-weight: bold\">3325</span> │\n",
       "│ <span style=\"color: #008000; text-decoration-color: #008000\">US PRESIDENT</span> │ <span style=\"color: #008000; text-decoration-color: #008000\">002      </span> │    <span style=\"color: #008080; text-decoration-color: #008080; font-weight: bold\">4382</span> │\n",
       "│ <span style=\"color: #008000; text-decoration-color: #008000\">US PRESIDENT</span> │ <span style=\"color: #7f7f7f; text-decoration-color: #7f7f7f\">NULL</span>      │   <span style=\"color: #008080; text-decoration-color: #008080; font-weight: bold\">54299</span> │\n",
       "│ <span style=\"color: #008000; text-decoration-color: #008000\">US PRESIDENT</span> │ <span style=\"color: #008000; text-decoration-color: #008000\">STATEWIDE</span> │ <span style=\"color: #008080; text-decoration-color: #008080; font-weight: bold\">1909115</span> │\n",
       "│ <span style=\"color: #008000; text-decoration-color: #008000\">US SENATE   </span> │ <span style=\"color: #008000; text-decoration-color: #008000\">011      </span> │     <span style=\"color: #008080; text-decoration-color: #008080; font-weight: bold\">501</span> │\n",
       "│ <span style=\"color: #008000; text-decoration-color: #008000\">US SENATE   </span> │ <span style=\"color: #008000; text-decoration-color: #008000\">008      </span> │     <span style=\"color: #008080; text-decoration-color: #008080; font-weight: bold\">525</span> │\n",
       "│ <span style=\"color: #008000; text-decoration-color: #008000\">US SENATE   </span> │ <span style=\"color: #008000; text-decoration-color: #008000\">002      </span> │     <span style=\"color: #008080; text-decoration-color: #008080; font-weight: bold\">579</span> │\n",
       "│ <span style=\"color: #008000; text-decoration-color: #008000\">US SENATE   </span> │ <span style=\"color: #008000; text-decoration-color: #008000\">003      </span> │     <span style=\"color: #008080; text-decoration-color: #008080; font-weight: bold\">645</span> │\n",
       "│ <span style=\"color: #008000; text-decoration-color: #008000\">US SENATE   </span> │ <span style=\"color: #008000; text-decoration-color: #008000\">010      </span> │     <span style=\"color: #008080; text-decoration-color: #008080; font-weight: bold\">663</span> │\n",
       "│ <span style=\"color: #008000; text-decoration-color: #008000\">US SENATE   </span> │ <span style=\"color: #008000; text-decoration-color: #008000\">007      </span> │     <span style=\"color: #008080; text-decoration-color: #008080; font-weight: bold\">726</span> │\n",
       "│ <span style=\"color: #008000; text-decoration-color: #008000\">US SENATE   </span> │ <span style=\"color: #008000; text-decoration-color: #008000\">001      </span> │     <span style=\"color: #008080; text-decoration-color: #008080; font-weight: bold\">792</span> │\n",
       "│ <span style=\"color: #008000; text-decoration-color: #008000\">US SENATE   </span> │ <span style=\"color: #008000; text-decoration-color: #008000\">006      </span> │     <span style=\"color: #008080; text-decoration-color: #008080; font-weight: bold\">801</span> │\n",
       "│ <span style=\"color: #008000; text-decoration-color: #008000\">US SENATE   </span> │ <span style=\"color: #008000; text-decoration-color: #008000\">004      </span> │     <span style=\"color: #008080; text-decoration-color: #008080; font-weight: bold\">858</span> │\n",
       "│ <span style=\"color: #008000; text-decoration-color: #008000\">US SENATE   </span> │ <span style=\"color: #008000; text-decoration-color: #008000\">005      </span> │    <span style=\"color: #008080; text-decoration-color: #008080; font-weight: bold\">1059</span> │\n",
       "│ <span style=\"color: #008000; text-decoration-color: #008000\">US SENATE   </span> │ <span style=\"color: #008000; text-decoration-color: #008000\">009      </span> │    <span style=\"color: #008080; text-decoration-color: #008080; font-weight: bold\">1176</span> │\n",
       "│ <span style=\"color: #008000; text-decoration-color: #008000\">US SENATE   </span> │ <span style=\"color: #008000; text-decoration-color: #008000\">000      </span> │   <span style=\"color: #008080; text-decoration-color: #008080; font-weight: bold\">90599</span> │\n",
       "│ <span style=\"color: #008000; text-decoration-color: #008000\">US SENATE   </span> │ <span style=\"color: #7f7f7f; text-decoration-color: #7f7f7f\">NULL</span>      │  <span style=\"color: #008080; text-decoration-color: #008080; font-weight: bold\">889239</span> │\n",
       "│ <span style=\"color: #008000; text-decoration-color: #008000\">US SENATE   </span> │ <span style=\"color: #008000; text-decoration-color: #008000\">STATEWIDE</span> │ <span style=\"color: #008080; text-decoration-color: #008080; font-weight: bold\">1392022</span> │\n",
       "└──────────────┴───────────┴─────────┘\n",
       "</pre>\n"
      ],
      "text/plain": [
       "┏━━━━━━━━━━━━━━┳━━━━━━━━━━━┳━━━━━━━━━┓\n",
       "┃\u001b[1m \u001b[0m\u001b[1moffice\u001b[0m\u001b[1m      \u001b[0m\u001b[1m \u001b[0m┃\u001b[1m \u001b[0m\u001b[1mdistrict\u001b[0m\u001b[1m \u001b[0m\u001b[1m \u001b[0m┃\u001b[1m \u001b[0m\u001b[1mn\u001b[0m\u001b[1m      \u001b[0m\u001b[1m \u001b[0m┃\n",
       "┡━━━━━━━━━━━━━━╇━━━━━━━━━━━╇━━━━━━━━━┩\n",
       "│ \u001b[2mstring\u001b[0m       │ \u001b[2mstring\u001b[0m    │ \u001b[2mint64\u001b[0m   │\n",
       "├──────────────┼───────────┼─────────┤\n",
       "│ \u001b[32mGOVERNOR    \u001b[0m │ \u001b[32m026      \u001b[0m │       \u001b[1;36m3\u001b[0m │\n",
       "│ \u001b[32mGOVERNOR    \u001b[0m │ \u001b[32m000      \u001b[0m │   \u001b[1;36m82270\u001b[0m │\n",
       "│ \u001b[32mGOVERNOR    \u001b[0m │ \u001b[32mSTATEWIDE\u001b[0m │  \u001b[1;36m987971\u001b[0m │\n",
       "│ \u001b[32mGOVERNOR    \u001b[0m │ \u001b[2mNULL\u001b[0m      │  \u001b[1;36m990862\u001b[0m │\n",
       "│ \u001b[32mUS PRESIDENT\u001b[0m │ \u001b[32m011      \u001b[0m │     \u001b[1;36m668\u001b[0m │\n",
       "│ \u001b[32mUS PRESIDENT\u001b[0m │ \u001b[32m008      \u001b[0m │     \u001b[1;36m700\u001b[0m │\n",
       "│ \u001b[32mUS PRESIDENT\u001b[0m │ \u001b[32m010      \u001b[0m │     \u001b[1;36m884\u001b[0m │\n",
       "│ \u001b[32mUS PRESIDENT\u001b[0m │ \u001b[32m007      \u001b[0m │     \u001b[1;36m968\u001b[0m │\n",
       "│ \u001b[32mUS PRESIDENT\u001b[0m │ \u001b[32m006      \u001b[0m │    \u001b[1;36m1068\u001b[0m │\n",
       "│ \u001b[32mUS PRESIDENT\u001b[0m │ \u001b[32m004      \u001b[0m │    \u001b[1;36m1144\u001b[0m │\n",
       "│ \u001b[32mUS PRESIDENT\u001b[0m │ \u001b[32m005      \u001b[0m │    \u001b[1;36m1412\u001b[0m │\n",
       "│ \u001b[32mUS PRESIDENT\u001b[0m │ \u001b[32m009      \u001b[0m │    \u001b[1;36m1568\u001b[0m │\n",
       "│ \u001b[32mUS PRESIDENT\u001b[0m │ \u001b[32m003      \u001b[0m │    \u001b[1;36m3047\u001b[0m │\n",
       "│ \u001b[32mUS PRESIDENT\u001b[0m │ \u001b[32m001      \u001b[0m │    \u001b[1;36m3325\u001b[0m │\n",
       "│ \u001b[32mUS PRESIDENT\u001b[0m │ \u001b[32m002      \u001b[0m │    \u001b[1;36m4382\u001b[0m │\n",
       "│ \u001b[32mUS PRESIDENT\u001b[0m │ \u001b[2mNULL\u001b[0m      │   \u001b[1;36m54299\u001b[0m │\n",
       "│ \u001b[32mUS PRESIDENT\u001b[0m │ \u001b[32mSTATEWIDE\u001b[0m │ \u001b[1;36m1909115\u001b[0m │\n",
       "│ \u001b[32mUS SENATE   \u001b[0m │ \u001b[32m011      \u001b[0m │     \u001b[1;36m501\u001b[0m │\n",
       "│ \u001b[32mUS SENATE   \u001b[0m │ \u001b[32m008      \u001b[0m │     \u001b[1;36m525\u001b[0m │\n",
       "│ \u001b[32mUS SENATE   \u001b[0m │ \u001b[32m002      \u001b[0m │     \u001b[1;36m579\u001b[0m │\n",
       "│ \u001b[32mUS SENATE   \u001b[0m │ \u001b[32m003      \u001b[0m │     \u001b[1;36m645\u001b[0m │\n",
       "│ \u001b[32mUS SENATE   \u001b[0m │ \u001b[32m010      \u001b[0m │     \u001b[1;36m663\u001b[0m │\n",
       "│ \u001b[32mUS SENATE   \u001b[0m │ \u001b[32m007      \u001b[0m │     \u001b[1;36m726\u001b[0m │\n",
       "│ \u001b[32mUS SENATE   \u001b[0m │ \u001b[32m001      \u001b[0m │     \u001b[1;36m792\u001b[0m │\n",
       "│ \u001b[32mUS SENATE   \u001b[0m │ \u001b[32m006      \u001b[0m │     \u001b[1;36m801\u001b[0m │\n",
       "│ \u001b[32mUS SENATE   \u001b[0m │ \u001b[32m004      \u001b[0m │     \u001b[1;36m858\u001b[0m │\n",
       "│ \u001b[32mUS SENATE   \u001b[0m │ \u001b[32m005      \u001b[0m │    \u001b[1;36m1059\u001b[0m │\n",
       "│ \u001b[32mUS SENATE   \u001b[0m │ \u001b[32m009      \u001b[0m │    \u001b[1;36m1176\u001b[0m │\n",
       "│ \u001b[32mUS SENATE   \u001b[0m │ \u001b[32m000      \u001b[0m │   \u001b[1;36m90599\u001b[0m │\n",
       "│ \u001b[32mUS SENATE   \u001b[0m │ \u001b[2mNULL\u001b[0m      │  \u001b[1;36m889239\u001b[0m │\n",
       "│ \u001b[32mUS SENATE   \u001b[0m │ \u001b[32mSTATEWIDE\u001b[0m │ \u001b[1;36m1392022\u001b[0m │\n",
       "└──────────────┴───────────┴─────────┘\n"
      ]
     },
     "execution_count": 8,
     "metadata": {},
     "output_type": "execute_result"
    }
   ],
   "source": [
    "is_statewide = _.office.isin([\"GOVERNOR\", \"US SENATE\", \"US PRESIDENT\"])\n",
    "t = t.mutate(district=_.district.upper().strip().nullif(\"NULL\").name(\"district\"))\n",
    "\n",
    "t.filter(\n",
    "    is_statewide,\n",
    ").group_by(\"office\", \"district\").agg(\n",
    "    n=_.count(),\n",
    ").order_by(\n",
    "    _.office,\n",
    "    _.n.asc(),\n",
    ").preview(max_rows=40)"
   ]
  },
  {
   "cell_type": "code",
   "execution_count": 9,
   "metadata": {},
   "outputs": [
    {
     "data": {
      "application/vnd.jupyter.widget-view+json": {
       "model_id": "93fe6e0768394518831fec188c4aa27f",
       "version_major": 2,
       "version_minor": 0
      },
      "text/plain": [
       "FloatProgress(value=0.0, layout=Layout(width='auto'), style=ProgressStyle(bar_color='black'))"
      ]
     },
     "metadata": {},
     "output_type": "display_data"
    },
    {
     "data": {
      "text/html": [
       "<pre style=\"white-space:pre;overflow-x:auto;line-height:normal;font-family:Menlo,'DejaVu Sans Mono',consolas,'Courier New',monospace\">┏━━━━━━━━━━━┳━━━━━━━━━━━━━┓\n",
       "┃<span style=\"font-weight: bold\"> district  </span>┃<span style=\"font-weight: bold\"> CountStar() </span>┃\n",
       "┡━━━━━━━━━━━╇━━━━━━━━━━━━━┩\n",
       "│ <span style=\"color: #7f7f7f; text-decoration-color: #7f7f7f\">string</span>    │ <span style=\"color: #7f7f7f; text-decoration-color: #7f7f7f\">int64</span>       │\n",
       "├───────────┼─────────────┤\n",
       "│ <span style=\"color: #008000; text-decoration-color: #008000\">STATEWIDE</span> │    <span style=\"color: #008080; text-decoration-color: #008080; font-weight: bold\">14536726</span> │\n",
       "│ <span style=\"color: #7f7f7f; text-decoration-color: #7f7f7f\">NULL</span>      │     <span style=\"color: #008080; text-decoration-color: #008080; font-weight: bold\">8278056</span> │\n",
       "│ <span style=\"color: #008000; text-decoration-color: #008000\">000      </span> │     <span style=\"color: #008080; text-decoration-color: #008080; font-weight: bold\">1216860</span> │\n",
       "│ <span style=\"color: #008000; text-decoration-color: #008000\">001      </span> │      <span style=\"color: #008080; text-decoration-color: #008080; font-weight: bold\">755403</span> │\n",
       "│ <span style=\"color: #008000; text-decoration-color: #008000\">002      </span> │      <span style=\"color: #008080; text-decoration-color: #008080; font-weight: bold\">647345</span> │\n",
       "│ <span style=\"color: #008000; text-decoration-color: #008000\">003      </span> │      <span style=\"color: #008080; text-decoration-color: #008080; font-weight: bold\">634513</span> │\n",
       "│ <span style=\"color: #008000; text-decoration-color: #008000\">004      </span> │      <span style=\"color: #008080; text-decoration-color: #008080; font-weight: bold\">559351</span> │\n",
       "│ <span style=\"color: #008000; text-decoration-color: #008000\">005      </span> │      <span style=\"color: #008080; text-decoration-color: #008080; font-weight: bold\">386455</span> │\n",
       "│ <span style=\"color: #008000; text-decoration-color: #008000\">006      </span> │      <span style=\"color: #008080; text-decoration-color: #008080; font-weight: bold\">322842</span> │\n",
       "│ <span style=\"color: #008000; text-decoration-color: #008000\">007      </span> │      <span style=\"color: #008080; text-decoration-color: #008080; font-weight: bold\">305851</span> │\n",
       "│ <span style=\"color: #7f7f7f; text-decoration-color: #7f7f7f\">…</span>         │           <span style=\"color: #7f7f7f; text-decoration-color: #7f7f7f\">…</span> │\n",
       "└───────────┴─────────────┘\n",
       "</pre>\n"
      ],
      "text/plain": [
       "┏━━━━━━━━━━━┳━━━━━━━━━━━━━┓\n",
       "┃\u001b[1m \u001b[0m\u001b[1mdistrict\u001b[0m\u001b[1m \u001b[0m\u001b[1m \u001b[0m┃\u001b[1m \u001b[0m\u001b[1mCountStar()\u001b[0m\u001b[1m \u001b[0m┃\n",
       "┡━━━━━━━━━━━╇━━━━━━━━━━━━━┩\n",
       "│ \u001b[2mstring\u001b[0m    │ \u001b[2mint64\u001b[0m       │\n",
       "├───────────┼─────────────┤\n",
       "│ \u001b[32mSTATEWIDE\u001b[0m │    \u001b[1;36m14536726\u001b[0m │\n",
       "│ \u001b[2mNULL\u001b[0m      │     \u001b[1;36m8278056\u001b[0m │\n",
       "│ \u001b[32m000      \u001b[0m │     \u001b[1;36m1216860\u001b[0m │\n",
       "│ \u001b[32m001      \u001b[0m │      \u001b[1;36m755403\u001b[0m │\n",
       "│ \u001b[32m002      \u001b[0m │      \u001b[1;36m647345\u001b[0m │\n",
       "│ \u001b[32m003      \u001b[0m │      \u001b[1;36m634513\u001b[0m │\n",
       "│ \u001b[32m004      \u001b[0m │      \u001b[1;36m559351\u001b[0m │\n",
       "│ \u001b[32m005      \u001b[0m │      \u001b[1;36m386455\u001b[0m │\n",
       "│ \u001b[32m006      \u001b[0m │      \u001b[1;36m322842\u001b[0m │\n",
       "│ \u001b[32m007      \u001b[0m │      \u001b[1;36m305851\u001b[0m │\n",
       "│ \u001b[2m…\u001b[0m         │           \u001b[2m…\u001b[0m │\n",
       "└───────────┴─────────────┘"
      ]
     },
     "execution_count": 9,
     "metadata": {},
     "output_type": "execute_result"
    }
   ],
   "source": [
    "t = t.mutate(district=is_statewide.ifelse(\"STATEWIDE\", _.district))\n",
    "# also replace \"AT-LARGE\" with \"STATEWIDE\"\n",
    "t = t.mutate(district=_.district.replace(\"AT-LARGE\", \"STATEWIDE\"))\n",
    "t.district.topk(20)"
   ]
  },
  {
   "cell_type": "code",
   "execution_count": 10,
   "metadata": {},
   "outputs": [],
   "source": [
    "# fixup districts that should be statewide but are NULL\n",
    "is_dc_congress = (_.state_po == \"DC\") & (_.office == \"US HOUSE\")\n",
    "is_ak_congress = (_.state_po == \"AK\") & (_.office == \"US HOUSE\")\n",
    "is_statewide = is_dc_congress | is_ak_congress\n",
    "t = t.mutate(district=is_statewide.ifelse(\"STATEWIDE\", _.district))"
   ]
  },
  {
   "cell_type": "markdown",
   "metadata": {},
   "source": [
    "## Fix Party Detailed"
   ]
  },
  {
   "cell_type": "code",
   "execution_count": 11,
   "metadata": {},
   "outputs": [
    {
     "data": {
      "application/vnd.jupyter.widget-view+json": {
       "model_id": "759e45d6a0db42c88b4bd19ec830c859",
       "version_major": 2,
       "version_minor": 0
      },
      "text/plain": [
       "FloatProgress(value=0.0, layout=Layout(width='auto'), style=ProgressStyle(bar_color='black'))"
      ]
     },
     "metadata": {},
     "output_type": "display_data"
    },
    {
     "data": {
      "text/html": [
       "<pre style=\"white-space:pre;overflow-x:auto;line-height:normal;font-family:Menlo,'DejaVu Sans Mono',consolas,'Courier New',monospace\">┏━━━━━━━┳━━━━━━━━━━━━┳━━━━━━━━━━┳━━━━━━━━━━━━━┳━━━━━━━━━━━━━┳━━━━━━━━━━━━━━━━━━━┳━━━━━━━━━━━━━━━━━━━┳━━━━━━━━━━┳━━━━━━━━━━┳━━━━━━━━━━━┳━━━━━━━━━┳━━━━━━━━┳━━━━━━━━━━━━━━━━━━━━━━━━━┳━━━━━━━━━┳━━━━━━━━━━━━━━━━━━┳━━━━━━━━━━━━━━━━┳━━━━━━━━━━━━━━━━━━┳━━━━━━━━━━━━━━┳━━━━━━━━┳━━━━━━━━━━━━━━┓\n",
       "┃<span style=\"font-weight: bold\"> year  </span>┃<span style=\"font-weight: bold\"> date       </span>┃<span style=\"font-weight: bold\"> state_po </span>┃<span style=\"font-weight: bold\"> county_name </span>┃<span style=\"font-weight: bold\"> county_fips </span>┃<span style=\"font-weight: bold\"> jurisdiction_name </span>┃<span style=\"font-weight: bold\"> jurisdiction_fips </span>┃<span style=\"font-weight: bold\"> district </span>┃<span style=\"font-weight: bold\"> office   </span>┃<span style=\"font-weight: bold\"> magnitude </span>┃<span style=\"font-weight: bold\"> special </span>┃<span style=\"font-weight: bold\"> stage  </span>┃<span style=\"font-weight: bold\"> precinct                </span>┃<span style=\"font-weight: bold\"> writein </span>┃<span style=\"font-weight: bold\"> candidate        </span>┃<span style=\"font-weight: bold\"> party_detailed </span>┃<span style=\"font-weight: bold\"> party_simplified </span>┃<span style=\"font-weight: bold\"> mode         </span>┃<span style=\"font-weight: bold\"> votes  </span>┃<span style=\"font-weight: bold\"> readme_check </span>┃\n",
       "┡━━━━━━━╇━━━━━━━━━━━━╇━━━━━━━━━━╇━━━━━━━━━━━━━╇━━━━━━━━━━━━━╇━━━━━━━━━━━━━━━━━━━╇━━━━━━━━━━━━━━━━━━━╇━━━━━━━━━━╇━━━━━━━━━━╇━━━━━━━━━━━╇━━━━━━━━━╇━━━━━━━━╇━━━━━━━━━━━━━━━━━━━━━━━━━╇━━━━━━━━━╇━━━━━━━━━━━━━━━━━━╇━━━━━━━━━━━━━━━━╇━━━━━━━━━━━━━━━━━━╇━━━━━━━━━━━━━━╇━━━━━━━━╇━━━━━━━━━━━━━━┩\n",
       "│ <span style=\"color: #7f7f7f; text-decoration-color: #7f7f7f\">int16</span> │ <span style=\"color: #7f7f7f; text-decoration-color: #7f7f7f\">date</span>       │ <span style=\"color: #7f7f7f; text-decoration-color: #7f7f7f\">string</span>   │ <span style=\"color: #7f7f7f; text-decoration-color: #7f7f7f\">string</span>      │ <span style=\"color: #7f7f7f; text-decoration-color: #7f7f7f\">string</span>      │ <span style=\"color: #7f7f7f; text-decoration-color: #7f7f7f\">string</span>            │ <span style=\"color: #7f7f7f; text-decoration-color: #7f7f7f\">string</span>            │ <span style=\"color: #7f7f7f; text-decoration-color: #7f7f7f\">string</span>   │ <span style=\"color: #7f7f7f; text-decoration-color: #7f7f7f\">string</span>   │ <span style=\"color: #7f7f7f; text-decoration-color: #7f7f7f\">int64</span>     │ <span style=\"color: #7f7f7f; text-decoration-color: #7f7f7f\">boolean</span> │ <span style=\"color: #7f7f7f; text-decoration-color: #7f7f7f\">string</span> │ <span style=\"color: #7f7f7f; text-decoration-color: #7f7f7f\">string</span>                  │ <span style=\"color: #7f7f7f; text-decoration-color: #7f7f7f\">boolean</span> │ <span style=\"color: #7f7f7f; text-decoration-color: #7f7f7f\">string</span>           │ <span style=\"color: #7f7f7f; text-decoration-color: #7f7f7f\">string</span>         │ <span style=\"color: #7f7f7f; text-decoration-color: #7f7f7f\">string</span>           │ <span style=\"color: #7f7f7f; text-decoration-color: #7f7f7f\">string</span>       │ <span style=\"color: #7f7f7f; text-decoration-color: #7f7f7f\">string</span> │ <span style=\"color: #7f7f7f; text-decoration-color: #7f7f7f\">boolean</span>      │\n",
       "├───────┼────────────┼──────────┼─────────────┼─────────────┼───────────────────┼───────────────────┼──────────┼──────────┼───────────┼─────────┼────────┼─────────────────────────┼─────────┼──────────────────┼────────────────┼──────────────────┼──────────────┼────────┼──────────────┤\n",
       "│  <span style=\"color: #008080; text-decoration-color: #008080; font-weight: bold\">2018</span> │ <span style=\"color: #800080; text-decoration-color: #800080\">2018-11-06</span> │ <span style=\"color: #008000; text-decoration-color: #008000\">NE      </span> │ <span style=\"color: #008000; text-decoration-color: #008000\">PLATTE     </span> │ <span style=\"color: #008000; text-decoration-color: #008000\">31141      </span> │ <span style=\"color: #008000; text-decoration-color: #008000\">PLATTE           </span> │ <span style=\"color: #008000; text-decoration-color: #008000\">31141            </span> │ <span style=\"color: #008000; text-decoration-color: #008000\">001     </span> │ <span style=\"color: #008000; text-decoration-color: #008000\">US HOUSE</span> │         <span style=\"color: #008080; text-decoration-color: #008080; font-weight: bold\">1</span> │ False   │ <span style=\"color: #008000; text-decoration-color: #008000\">GEN   </span> │ <span style=\"color: #008000; text-decoration-color: #008000\">1D                     </span> │ False   │ <span style=\"color: #008000; text-decoration-color: #008000\">JESSICA MCCLURE </span> │ <span style=\"color: #008000; text-decoration-color: #008000\">DEMOCRAT      </span> │ <span style=\"color: #008000; text-decoration-color: #008000\">DEMOCRAT        </span> │ <span style=\"color: #008000; text-decoration-color: #008000\">ELECTION DAY</span> │ <span style=\"color: #008000; text-decoration-color: #008000\">78    </span> │ False        │\n",
       "│  <span style=\"color: #008080; text-decoration-color: #008080; font-weight: bold\">2018</span> │ <span style=\"color: #800080; text-decoration-color: #800080\">2018-11-06</span> │ <span style=\"color: #008000; text-decoration-color: #008000\">NE      </span> │ <span style=\"color: #008000; text-decoration-color: #008000\">PLATTE     </span> │ <span style=\"color: #008000; text-decoration-color: #008000\">31141      </span> │ <span style=\"color: #008000; text-decoration-color: #008000\">PLATTE           </span> │ <span style=\"color: #008000; text-decoration-color: #008000\">31141            </span> │ <span style=\"color: #008000; text-decoration-color: #008000\">001     </span> │ <span style=\"color: #008000; text-decoration-color: #008000\">US HOUSE</span> │         <span style=\"color: #008080; text-decoration-color: #008080; font-weight: bold\">1</span> │ False   │ <span style=\"color: #008000; text-decoration-color: #008000\">GEN   </span> │ <span style=\"color: #008000; text-decoration-color: #008000\">3C                     </span> │ False   │ <span style=\"color: #008000; text-decoration-color: #008000\">JESSICA MCCLURE </span> │ <span style=\"color: #008000; text-decoration-color: #008000\">DEMOCRAT      </span> │ <span style=\"color: #008000; text-decoration-color: #008000\">DEMOCRAT        </span> │ <span style=\"color: #008000; text-decoration-color: #008000\">ELECTION DAY</span> │ <span style=\"color: #008000; text-decoration-color: #008000\">93    </span> │ False        │\n",
       "│  <span style=\"color: #008080; text-decoration-color: #008080; font-weight: bold\">2018</span> │ <span style=\"color: #800080; text-decoration-color: #800080\">2018-11-06</span> │ <span style=\"color: #008000; text-decoration-color: #008000\">NE      </span> │ <span style=\"color: #008000; text-decoration-color: #008000\">CASS       </span> │ <span style=\"color: #008000; text-decoration-color: #008000\">31025      </span> │ <span style=\"color: #008000; text-decoration-color: #008000\">CASS             </span> │ <span style=\"color: #008000; text-decoration-color: #008000\">31025            </span> │ <span style=\"color: #008000; text-decoration-color: #008000\">001     </span> │ <span style=\"color: #008000; text-decoration-color: #008000\">US HOUSE</span> │         <span style=\"color: #008080; text-decoration-color: #008080; font-weight: bold\">1</span> │ False   │ <span style=\"color: #008000; text-decoration-color: #008000\">GEN   </span> │ <span style=\"color: #008000; text-decoration-color: #008000\">3RD WARD - 2ND PRECINCT</span> │ False   │ <span style=\"color: #008000; text-decoration-color: #008000\">JESSICA MCCLURE </span> │ <span style=\"color: #008000; text-decoration-color: #008000\">DEMOCRAT      </span> │ <span style=\"color: #008000; text-decoration-color: #008000\">DEMOCRAT        </span> │ <span style=\"color: #008000; text-decoration-color: #008000\">ELECTION DAY</span> │ <span style=\"color: #008000; text-decoration-color: #008000\">79    </span> │ False        │\n",
       "│  <span style=\"color: #008080; text-decoration-color: #008080; font-weight: bold\">2018</span> │ <span style=\"color: #800080; text-decoration-color: #800080\">2018-11-06</span> │ <span style=\"color: #008000; text-decoration-color: #008000\">NE      </span> │ <span style=\"color: #008000; text-decoration-color: #008000\">LANCASTER  </span> │ <span style=\"color: #008000; text-decoration-color: #008000\">31109      </span> │ <span style=\"color: #008000; text-decoration-color: #008000\">LANCASTER        </span> │ <span style=\"color: #008000; text-decoration-color: #008000\">31109            </span> │ <span style=\"color: #008000; text-decoration-color: #008000\">001     </span> │ <span style=\"color: #008000; text-decoration-color: #008000\">US HOUSE</span> │         <span style=\"color: #008080; text-decoration-color: #008080; font-weight: bold\">1</span> │ False   │ <span style=\"color: #008000; text-decoration-color: #008000\">GEN   </span> │ <span style=\"color: #008000; text-decoration-color: #008000\">4 A                    </span> │ False   │ <span style=\"color: #008000; text-decoration-color: #008000\">JEFF FORTENBERRY</span> │ <span style=\"color: #008000; text-decoration-color: #008000\">REPUBLICAN    </span> │ <span style=\"color: #008000; text-decoration-color: #008000\">REPUBLICAN      </span> │ <span style=\"color: #008000; text-decoration-color: #008000\">ELECTION DAY</span> │ <span style=\"color: #008000; text-decoration-color: #008000\">139   </span> │ False        │\n",
       "│  <span style=\"color: #008080; text-decoration-color: #008080; font-weight: bold\">2018</span> │ <span style=\"color: #800080; text-decoration-color: #800080\">2018-11-06</span> │ <span style=\"color: #008000; text-decoration-color: #008000\">NE      </span> │ <span style=\"color: #008000; text-decoration-color: #008000\">PLATTE     </span> │ <span style=\"color: #008000; text-decoration-color: #008000\">31141      </span> │ <span style=\"color: #008000; text-decoration-color: #008000\">PLATTE           </span> │ <span style=\"color: #008000; text-decoration-color: #008000\">31141            </span> │ <span style=\"color: #008000; text-decoration-color: #008000\">001     </span> │ <span style=\"color: #008000; text-decoration-color: #008000\">US HOUSE</span> │         <span style=\"color: #008080; text-decoration-color: #008080; font-weight: bold\">1</span> │ False   │ <span style=\"color: #008000; text-decoration-color: #008000\">GEN   </span> │ <span style=\"color: #008000; text-decoration-color: #008000\">4A                     </span> │ False   │ <span style=\"color: #008000; text-decoration-color: #008000\">JEFF FORTENBERRY</span> │ <span style=\"color: #008000; text-decoration-color: #008000\">REPUBLICAN    </span> │ <span style=\"color: #008000; text-decoration-color: #008000\">REPUBLICAN      </span> │ <span style=\"color: #008000; text-decoration-color: #008000\">ELECTION DAY</span> │ <span style=\"color: #008000; text-decoration-color: #008000\">207   </span> │ False        │\n",
       "│  <span style=\"color: #008080; text-decoration-color: #008080; font-weight: bold\">2018</span> │ <span style=\"color: #800080; text-decoration-color: #800080\">2018-11-06</span> │ <span style=\"color: #008000; text-decoration-color: #008000\">NE      </span> │ <span style=\"color: #008000; text-decoration-color: #008000\">PLATTE     </span> │ <span style=\"color: #008000; text-decoration-color: #008000\">31141      </span> │ <span style=\"color: #008000; text-decoration-color: #008000\">PLATTE           </span> │ <span style=\"color: #008000; text-decoration-color: #008000\">31141            </span> │ <span style=\"color: #008000; text-decoration-color: #008000\">001     </span> │ <span style=\"color: #008000; text-decoration-color: #008000\">US HOUSE</span> │         <span style=\"color: #008080; text-decoration-color: #008080; font-weight: bold\">1</span> │ False   │ <span style=\"color: #008000; text-decoration-color: #008000\">GEN   </span> │ <span style=\"color: #008000; text-decoration-color: #008000\">4B                     </span> │ False   │ <span style=\"color: #008000; text-decoration-color: #008000\">JESSICA MCCLURE </span> │ <span style=\"color: #008000; text-decoration-color: #008000\">DEMOCRAT      </span> │ <span style=\"color: #008000; text-decoration-color: #008000\">DEMOCRAT        </span> │ <span style=\"color: #008000; text-decoration-color: #008000\">ELECTION DAY</span> │ <span style=\"color: #008000; text-decoration-color: #008000\">90    </span> │ False        │\n",
       "│  <span style=\"color: #008080; text-decoration-color: #008080; font-weight: bold\">2018</span> │ <span style=\"color: #800080; text-decoration-color: #800080\">2018-11-06</span> │ <span style=\"color: #008000; text-decoration-color: #008000\">NE      </span> │ <span style=\"color: #008000; text-decoration-color: #008000\">LANCASTER  </span> │ <span style=\"color: #008000; text-decoration-color: #008000\">31109      </span> │ <span style=\"color: #008000; text-decoration-color: #008000\">LANCASTER        </span> │ <span style=\"color: #008000; text-decoration-color: #008000\">31109            </span> │ <span style=\"color: #008000; text-decoration-color: #008000\">001     </span> │ <span style=\"color: #008000; text-decoration-color: #008000\">US HOUSE</span> │         <span style=\"color: #008080; text-decoration-color: #008080; font-weight: bold\">1</span> │ False   │ <span style=\"color: #008000; text-decoration-color: #008000\">GEN   </span> │ <span style=\"color: #008000; text-decoration-color: #008000\">5 E-5                  </span> │ False   │ <span style=\"color: #008000; text-decoration-color: #008000\">JESSICA MCCLURE </span> │ <span style=\"color: #008000; text-decoration-color: #008000\">DEMOCRAT      </span> │ <span style=\"color: #008000; text-decoration-color: #008000\">DEMOCRAT        </span> │ <span style=\"color: #008000; text-decoration-color: #008000\">ELECTION DAY</span> │ <span style=\"color: #008000; text-decoration-color: #008000\">266   </span> │ False        │\n",
       "│  <span style=\"color: #008080; text-decoration-color: #008080; font-weight: bold\">2018</span> │ <span style=\"color: #800080; text-decoration-color: #800080\">2018-11-06</span> │ <span style=\"color: #008000; text-decoration-color: #008000\">NE      </span> │ <span style=\"color: #008000; text-decoration-color: #008000\">LANCASTER  </span> │ <span style=\"color: #008000; text-decoration-color: #008000\">31109      </span> │ <span style=\"color: #008000; text-decoration-color: #008000\">LANCASTER        </span> │ <span style=\"color: #008000; text-decoration-color: #008000\">31109            </span> │ <span style=\"color: #008000; text-decoration-color: #008000\">001     </span> │ <span style=\"color: #008000; text-decoration-color: #008000\">US HOUSE</span> │         <span style=\"color: #008080; text-decoration-color: #008080; font-weight: bold\">1</span> │ False   │ <span style=\"color: #008000; text-decoration-color: #008000\">GEN   </span> │ <span style=\"color: #008000; text-decoration-color: #008000\">9 E-5                  </span> │ False   │ <span style=\"color: #008000; text-decoration-color: #008000\">JEFF FORTENBERRY</span> │ <span style=\"color: #008000; text-decoration-color: #008000\">REPUBLICAN    </span> │ <span style=\"color: #008000; text-decoration-color: #008000\">REPUBLICAN      </span> │ <span style=\"color: #008000; text-decoration-color: #008000\">ELECTION DAY</span> │ <span style=\"color: #008000; text-decoration-color: #008000\">207   </span> │ False        │\n",
       "│  <span style=\"color: #008080; text-decoration-color: #008080; font-weight: bold\">2018</span> │ <span style=\"color: #800080; text-decoration-color: #800080\">2018-11-06</span> │ <span style=\"color: #008000; text-decoration-color: #008000\">NE      </span> │ <span style=\"color: #008000; text-decoration-color: #008000\">LANCASTER  </span> │ <span style=\"color: #008000; text-decoration-color: #008000\">31109      </span> │ <span style=\"color: #008000; text-decoration-color: #008000\">LANCASTER        </span> │ <span style=\"color: #008000; text-decoration-color: #008000\">31109            </span> │ <span style=\"color: #008000; text-decoration-color: #008000\">001     </span> │ <span style=\"color: #008000; text-decoration-color: #008000\">US HOUSE</span> │         <span style=\"color: #008080; text-decoration-color: #008080; font-weight: bold\">1</span> │ False   │ <span style=\"color: #008000; text-decoration-color: #008000\">GEN   </span> │ <span style=\"color: #008000; text-decoration-color: #008000\">9 F-11                 </span> │ False   │ <span style=\"color: #008000; text-decoration-color: #008000\">JESSICA MCCLURE </span> │ <span style=\"color: #008000; text-decoration-color: #008000\">DEMOCRAT      </span> │ <span style=\"color: #008000; text-decoration-color: #008000\">DEMOCRAT        </span> │ <span style=\"color: #008000; text-decoration-color: #008000\">ELECTION DAY</span> │ <span style=\"color: #008000; text-decoration-color: #008000\">230   </span> │ False        │\n",
       "│  <span style=\"color: #008080; text-decoration-color: #008080; font-weight: bold\">2018</span> │ <span style=\"color: #800080; text-decoration-color: #800080\">2018-11-06</span> │ <span style=\"color: #008000; text-decoration-color: #008000\">NE      </span> │ <span style=\"color: #008000; text-decoration-color: #008000\">LANCASTER  </span> │ <span style=\"color: #008000; text-decoration-color: #008000\">31109      </span> │ <span style=\"color: #008000; text-decoration-color: #008000\">LANCASTER        </span> │ <span style=\"color: #008000; text-decoration-color: #008000\">31109            </span> │ <span style=\"color: #008000; text-decoration-color: #008000\">001     </span> │ <span style=\"color: #008000; text-decoration-color: #008000\">US HOUSE</span> │         <span style=\"color: #008080; text-decoration-color: #008080; font-weight: bold\">1</span> │ False   │ <span style=\"color: #008000; text-decoration-color: #008000\">GEN   </span> │ <span style=\"color: #008000; text-decoration-color: #008000\">9 F-2                  </span> │ False   │ <span style=\"color: #008000; text-decoration-color: #008000\">JEFF FORTENBERRY</span> │ <span style=\"color: #008000; text-decoration-color: #008000\">REPUBLICAN    </span> │ <span style=\"color: #008000; text-decoration-color: #008000\">REPUBLICAN      </span> │ <span style=\"color: #008000; text-decoration-color: #008000\">ELECTION DAY</span> │ <span style=\"color: #008000; text-decoration-color: #008000\">298   </span> │ False        │\n",
       "│     <span style=\"color: #7f7f7f; text-decoration-color: #7f7f7f\">…</span> │ <span style=\"color: #7f7f7f; text-decoration-color: #7f7f7f\">…</span>          │ <span style=\"color: #7f7f7f; text-decoration-color: #7f7f7f\">…</span>        │ <span style=\"color: #7f7f7f; text-decoration-color: #7f7f7f\">…</span>           │ <span style=\"color: #7f7f7f; text-decoration-color: #7f7f7f\">…</span>           │ <span style=\"color: #7f7f7f; text-decoration-color: #7f7f7f\">…</span>                 │ <span style=\"color: #7f7f7f; text-decoration-color: #7f7f7f\">…</span>                 │ <span style=\"color: #7f7f7f; text-decoration-color: #7f7f7f\">…</span>        │ <span style=\"color: #7f7f7f; text-decoration-color: #7f7f7f\">…</span>        │         <span style=\"color: #7f7f7f; text-decoration-color: #7f7f7f\">…</span> │ <span style=\"color: #7f7f7f; text-decoration-color: #7f7f7f\">…</span>       │ <span style=\"color: #7f7f7f; text-decoration-color: #7f7f7f\">…</span>      │ <span style=\"color: #7f7f7f; text-decoration-color: #7f7f7f\">…</span>                       │ <span style=\"color: #7f7f7f; text-decoration-color: #7f7f7f\">…</span>       │ <span style=\"color: #7f7f7f; text-decoration-color: #7f7f7f\">…</span>                │ <span style=\"color: #7f7f7f; text-decoration-color: #7f7f7f\">…</span>              │ <span style=\"color: #7f7f7f; text-decoration-color: #7f7f7f\">…</span>                │ <span style=\"color: #7f7f7f; text-decoration-color: #7f7f7f\">…</span>            │ <span style=\"color: #7f7f7f; text-decoration-color: #7f7f7f\">…</span>      │ <span style=\"color: #7f7f7f; text-decoration-color: #7f7f7f\">…</span>            │\n",
       "└───────┴────────────┴──────────┴─────────────┴─────────────┴───────────────────┴───────────────────┴──────────┴──────────┴───────────┴─────────┴────────┴─────────────────────────┴─────────┴──────────────────┴────────────────┴──────────────────┴──────────────┴────────┴──────────────┘\n",
       "</pre>\n"
      ],
      "text/plain": [
       "┏━━━━━━━┳━━━━━━━━━━━━┳━━━━━━━━━━┳━━━━━━━━━━━━━┳━━━━━━━━━━━━━┳━━━━━━━━━━━━━━━━━━━┳━━━━━━━━━━━━━━━━━━━┳━━━━━━━━━━┳━━━━━━━━━━┳━━━━━━━━━━━┳━━━━━━━━━┳━━━━━━━━┳━━━━━━━━━━━━━━━━━━━━━━━━━┳━━━━━━━━━┳━━━━━━━━━━━━━━━━━━┳━━━━━━━━━━━━━━━━┳━━━━━━━━━━━━━━━━━━┳━━━━━━━━━━━━━━┳━━━━━━━━┳━━━━━━━━━━━━━━┓\n",
       "┃\u001b[1m \u001b[0m\u001b[1myear\u001b[0m\u001b[1m \u001b[0m\u001b[1m \u001b[0m┃\u001b[1m \u001b[0m\u001b[1mdate\u001b[0m\u001b[1m      \u001b[0m\u001b[1m \u001b[0m┃\u001b[1m \u001b[0m\u001b[1mstate_po\u001b[0m\u001b[1m \u001b[0m┃\u001b[1m \u001b[0m\u001b[1mcounty_name\u001b[0m\u001b[1m \u001b[0m┃\u001b[1m \u001b[0m\u001b[1mcounty_fips\u001b[0m\u001b[1m \u001b[0m┃\u001b[1m \u001b[0m\u001b[1mjurisdiction_name\u001b[0m\u001b[1m \u001b[0m┃\u001b[1m \u001b[0m\u001b[1mjurisdiction_fips\u001b[0m\u001b[1m \u001b[0m┃\u001b[1m \u001b[0m\u001b[1mdistrict\u001b[0m\u001b[1m \u001b[0m┃\u001b[1m \u001b[0m\u001b[1moffice\u001b[0m\u001b[1m  \u001b[0m\u001b[1m \u001b[0m┃\u001b[1m \u001b[0m\u001b[1mmagnitude\u001b[0m\u001b[1m \u001b[0m┃\u001b[1m \u001b[0m\u001b[1mspecial\u001b[0m\u001b[1m \u001b[0m┃\u001b[1m \u001b[0m\u001b[1mstage\u001b[0m\u001b[1m \u001b[0m\u001b[1m \u001b[0m┃\u001b[1m \u001b[0m\u001b[1mprecinct\u001b[0m\u001b[1m               \u001b[0m\u001b[1m \u001b[0m┃\u001b[1m \u001b[0m\u001b[1mwritein\u001b[0m\u001b[1m \u001b[0m┃\u001b[1m \u001b[0m\u001b[1mcandidate\u001b[0m\u001b[1m       \u001b[0m\u001b[1m \u001b[0m┃\u001b[1m \u001b[0m\u001b[1mparty_detailed\u001b[0m\u001b[1m \u001b[0m┃\u001b[1m \u001b[0m\u001b[1mparty_simplified\u001b[0m\u001b[1m \u001b[0m┃\u001b[1m \u001b[0m\u001b[1mmode\u001b[0m\u001b[1m        \u001b[0m\u001b[1m \u001b[0m┃\u001b[1m \u001b[0m\u001b[1mvotes\u001b[0m\u001b[1m \u001b[0m\u001b[1m \u001b[0m┃\u001b[1m \u001b[0m\u001b[1mreadme_check\u001b[0m\u001b[1m \u001b[0m┃\n",
       "┡━━━━━━━╇━━━━━━━━━━━━╇━━━━━━━━━━╇━━━━━━━━━━━━━╇━━━━━━━━━━━━━╇━━━━━━━━━━━━━━━━━━━╇━━━━━━━━━━━━━━━━━━━╇━━━━━━━━━━╇━━━━━━━━━━╇━━━━━━━━━━━╇━━━━━━━━━╇━━━━━━━━╇━━━━━━━━━━━━━━━━━━━━━━━━━╇━━━━━━━━━╇━━━━━━━━━━━━━━━━━━╇━━━━━━━━━━━━━━━━╇━━━━━━━━━━━━━━━━━━╇━━━━━━━━━━━━━━╇━━━━━━━━╇━━━━━━━━━━━━━━┩\n",
       "│ \u001b[2mint16\u001b[0m │ \u001b[2mdate\u001b[0m       │ \u001b[2mstring\u001b[0m   │ \u001b[2mstring\u001b[0m      │ \u001b[2mstring\u001b[0m      │ \u001b[2mstring\u001b[0m            │ \u001b[2mstring\u001b[0m            │ \u001b[2mstring\u001b[0m   │ \u001b[2mstring\u001b[0m   │ \u001b[2mint64\u001b[0m     │ \u001b[2mboolean\u001b[0m │ \u001b[2mstring\u001b[0m │ \u001b[2mstring\u001b[0m                  │ \u001b[2mboolean\u001b[0m │ \u001b[2mstring\u001b[0m           │ \u001b[2mstring\u001b[0m         │ \u001b[2mstring\u001b[0m           │ \u001b[2mstring\u001b[0m       │ \u001b[2mstring\u001b[0m │ \u001b[2mboolean\u001b[0m      │\n",
       "├───────┼────────────┼──────────┼─────────────┼─────────────┼───────────────────┼───────────────────┼──────────┼──────────┼───────────┼─────────┼────────┼─────────────────────────┼─────────┼──────────────────┼────────────────┼──────────────────┼──────────────┼────────┼──────────────┤\n",
       "│  \u001b[1;36m2018\u001b[0m │ \u001b[35m2018-11-06\u001b[0m │ \u001b[32mNE      \u001b[0m │ \u001b[32mPLATTE     \u001b[0m │ \u001b[32m31141      \u001b[0m │ \u001b[32mPLATTE           \u001b[0m │ \u001b[32m31141            \u001b[0m │ \u001b[32m001     \u001b[0m │ \u001b[32mUS HOUSE\u001b[0m │         \u001b[1;36m1\u001b[0m │ False   │ \u001b[32mGEN   \u001b[0m │ \u001b[32m1D                     \u001b[0m │ False   │ \u001b[32mJESSICA MCCLURE \u001b[0m │ \u001b[32mDEMOCRAT      \u001b[0m │ \u001b[32mDEMOCRAT        \u001b[0m │ \u001b[32mELECTION DAY\u001b[0m │ \u001b[32m78    \u001b[0m │ False        │\n",
       "│  \u001b[1;36m2018\u001b[0m │ \u001b[35m2018-11-06\u001b[0m │ \u001b[32mNE      \u001b[0m │ \u001b[32mPLATTE     \u001b[0m │ \u001b[32m31141      \u001b[0m │ \u001b[32mPLATTE           \u001b[0m │ \u001b[32m31141            \u001b[0m │ \u001b[32m001     \u001b[0m │ \u001b[32mUS HOUSE\u001b[0m │         \u001b[1;36m1\u001b[0m │ False   │ \u001b[32mGEN   \u001b[0m │ \u001b[32m3C                     \u001b[0m │ False   │ \u001b[32mJESSICA MCCLURE \u001b[0m │ \u001b[32mDEMOCRAT      \u001b[0m │ \u001b[32mDEMOCRAT        \u001b[0m │ \u001b[32mELECTION DAY\u001b[0m │ \u001b[32m93    \u001b[0m │ False        │\n",
       "│  \u001b[1;36m2018\u001b[0m │ \u001b[35m2018-11-06\u001b[0m │ \u001b[32mNE      \u001b[0m │ \u001b[32mCASS       \u001b[0m │ \u001b[32m31025      \u001b[0m │ \u001b[32mCASS             \u001b[0m │ \u001b[32m31025            \u001b[0m │ \u001b[32m001     \u001b[0m │ \u001b[32mUS HOUSE\u001b[0m │         \u001b[1;36m1\u001b[0m │ False   │ \u001b[32mGEN   \u001b[0m │ \u001b[32m3RD WARD - 2ND PRECINCT\u001b[0m │ False   │ \u001b[32mJESSICA MCCLURE \u001b[0m │ \u001b[32mDEMOCRAT      \u001b[0m │ \u001b[32mDEMOCRAT        \u001b[0m │ \u001b[32mELECTION DAY\u001b[0m │ \u001b[32m79    \u001b[0m │ False        │\n",
       "│  \u001b[1;36m2018\u001b[0m │ \u001b[35m2018-11-06\u001b[0m │ \u001b[32mNE      \u001b[0m │ \u001b[32mLANCASTER  \u001b[0m │ \u001b[32m31109      \u001b[0m │ \u001b[32mLANCASTER        \u001b[0m │ \u001b[32m31109            \u001b[0m │ \u001b[32m001     \u001b[0m │ \u001b[32mUS HOUSE\u001b[0m │         \u001b[1;36m1\u001b[0m │ False   │ \u001b[32mGEN   \u001b[0m │ \u001b[32m4 A                    \u001b[0m │ False   │ \u001b[32mJEFF FORTENBERRY\u001b[0m │ \u001b[32mREPUBLICAN    \u001b[0m │ \u001b[32mREPUBLICAN      \u001b[0m │ \u001b[32mELECTION DAY\u001b[0m │ \u001b[32m139   \u001b[0m │ False        │\n",
       "│  \u001b[1;36m2018\u001b[0m │ \u001b[35m2018-11-06\u001b[0m │ \u001b[32mNE      \u001b[0m │ \u001b[32mPLATTE     \u001b[0m │ \u001b[32m31141      \u001b[0m │ \u001b[32mPLATTE           \u001b[0m │ \u001b[32m31141            \u001b[0m │ \u001b[32m001     \u001b[0m │ \u001b[32mUS HOUSE\u001b[0m │         \u001b[1;36m1\u001b[0m │ False   │ \u001b[32mGEN   \u001b[0m │ \u001b[32m4A                     \u001b[0m │ False   │ \u001b[32mJEFF FORTENBERRY\u001b[0m │ \u001b[32mREPUBLICAN    \u001b[0m │ \u001b[32mREPUBLICAN      \u001b[0m │ \u001b[32mELECTION DAY\u001b[0m │ \u001b[32m207   \u001b[0m │ False        │\n",
       "│  \u001b[1;36m2018\u001b[0m │ \u001b[35m2018-11-06\u001b[0m │ \u001b[32mNE      \u001b[0m │ \u001b[32mPLATTE     \u001b[0m │ \u001b[32m31141      \u001b[0m │ \u001b[32mPLATTE           \u001b[0m │ \u001b[32m31141            \u001b[0m │ \u001b[32m001     \u001b[0m │ \u001b[32mUS HOUSE\u001b[0m │         \u001b[1;36m1\u001b[0m │ False   │ \u001b[32mGEN   \u001b[0m │ \u001b[32m4B                     \u001b[0m │ False   │ \u001b[32mJESSICA MCCLURE \u001b[0m │ \u001b[32mDEMOCRAT      \u001b[0m │ \u001b[32mDEMOCRAT        \u001b[0m │ \u001b[32mELECTION DAY\u001b[0m │ \u001b[32m90    \u001b[0m │ False        │\n",
       "│  \u001b[1;36m2018\u001b[0m │ \u001b[35m2018-11-06\u001b[0m │ \u001b[32mNE      \u001b[0m │ \u001b[32mLANCASTER  \u001b[0m │ \u001b[32m31109      \u001b[0m │ \u001b[32mLANCASTER        \u001b[0m │ \u001b[32m31109            \u001b[0m │ \u001b[32m001     \u001b[0m │ \u001b[32mUS HOUSE\u001b[0m │         \u001b[1;36m1\u001b[0m │ False   │ \u001b[32mGEN   \u001b[0m │ \u001b[32m5 E-5                  \u001b[0m │ False   │ \u001b[32mJESSICA MCCLURE \u001b[0m │ \u001b[32mDEMOCRAT      \u001b[0m │ \u001b[32mDEMOCRAT        \u001b[0m │ \u001b[32mELECTION DAY\u001b[0m │ \u001b[32m266   \u001b[0m │ False        │\n",
       "│  \u001b[1;36m2018\u001b[0m │ \u001b[35m2018-11-06\u001b[0m │ \u001b[32mNE      \u001b[0m │ \u001b[32mLANCASTER  \u001b[0m │ \u001b[32m31109      \u001b[0m │ \u001b[32mLANCASTER        \u001b[0m │ \u001b[32m31109            \u001b[0m │ \u001b[32m001     \u001b[0m │ \u001b[32mUS HOUSE\u001b[0m │         \u001b[1;36m1\u001b[0m │ False   │ \u001b[32mGEN   \u001b[0m │ \u001b[32m9 E-5                  \u001b[0m │ False   │ \u001b[32mJEFF FORTENBERRY\u001b[0m │ \u001b[32mREPUBLICAN    \u001b[0m │ \u001b[32mREPUBLICAN      \u001b[0m │ \u001b[32mELECTION DAY\u001b[0m │ \u001b[32m207   \u001b[0m │ False        │\n",
       "│  \u001b[1;36m2018\u001b[0m │ \u001b[35m2018-11-06\u001b[0m │ \u001b[32mNE      \u001b[0m │ \u001b[32mLANCASTER  \u001b[0m │ \u001b[32m31109      \u001b[0m │ \u001b[32mLANCASTER        \u001b[0m │ \u001b[32m31109            \u001b[0m │ \u001b[32m001     \u001b[0m │ \u001b[32mUS HOUSE\u001b[0m │         \u001b[1;36m1\u001b[0m │ False   │ \u001b[32mGEN   \u001b[0m │ \u001b[32m9 F-11                 \u001b[0m │ False   │ \u001b[32mJESSICA MCCLURE \u001b[0m │ \u001b[32mDEMOCRAT      \u001b[0m │ \u001b[32mDEMOCRAT        \u001b[0m │ \u001b[32mELECTION DAY\u001b[0m │ \u001b[32m230   \u001b[0m │ False        │\n",
       "│  \u001b[1;36m2018\u001b[0m │ \u001b[35m2018-11-06\u001b[0m │ \u001b[32mNE      \u001b[0m │ \u001b[32mLANCASTER  \u001b[0m │ \u001b[32m31109      \u001b[0m │ \u001b[32mLANCASTER        \u001b[0m │ \u001b[32m31109            \u001b[0m │ \u001b[32m001     \u001b[0m │ \u001b[32mUS HOUSE\u001b[0m │         \u001b[1;36m1\u001b[0m │ False   │ \u001b[32mGEN   \u001b[0m │ \u001b[32m9 F-2                  \u001b[0m │ False   │ \u001b[32mJEFF FORTENBERRY\u001b[0m │ \u001b[32mREPUBLICAN    \u001b[0m │ \u001b[32mREPUBLICAN      \u001b[0m │ \u001b[32mELECTION DAY\u001b[0m │ \u001b[32m298   \u001b[0m │ False        │\n",
       "│     \u001b[2m…\u001b[0m │ \u001b[2m…\u001b[0m          │ \u001b[2m…\u001b[0m        │ \u001b[2m…\u001b[0m           │ \u001b[2m…\u001b[0m           │ \u001b[2m…\u001b[0m                 │ \u001b[2m…\u001b[0m                 │ \u001b[2m…\u001b[0m        │ \u001b[2m…\u001b[0m        │         \u001b[2m…\u001b[0m │ \u001b[2m…\u001b[0m       │ \u001b[2m…\u001b[0m      │ \u001b[2m…\u001b[0m                       │ \u001b[2m…\u001b[0m       │ \u001b[2m…\u001b[0m                │ \u001b[2m…\u001b[0m              │ \u001b[2m…\u001b[0m                │ \u001b[2m…\u001b[0m            │ \u001b[2m…\u001b[0m      │ \u001b[2m…\u001b[0m            │\n",
       "└───────┴────────────┴──────────┴─────────────┴─────────────┴───────────────────┴───────────────────┴──────────┴──────────┴───────────┴─────────┴────────┴─────────────────────────┴─────────┴──────────────────┴────────────────┴──────────────────┴──────────────┴────────┴──────────────┘"
      ]
     },
     "execution_count": 11,
     "metadata": {},
     "output_type": "execute_result"
    }
   ],
   "source": [
    "# \"INDEPENDENT\",\n",
    "# \"INDEPENDENCE\",\n",
    "# \"NONPARTISAN\",\n",
    "# \"NO PARTY AFFILIATION\",\n",
    "# \"NO AFFILIATION\",\n",
    "# \"INDEPENDENT AMERICAN PARTY\",\n",
    "# \"INDEPENDENT AMERICAN\",\n",
    "# \"NO PARTY\",\n",
    "# \"INDEPENDENCE-ALLIANCE\",\n",
    "# \"UNENROLLED\",\n",
    "# \"INDEPENDENT PARTY\",\n",
    "# \"INDEPENDENCE ALLIANCE\",\n",
    "# \"NON-PARTISAN DELAWARE\",\n",
    "# \"INDEPENDENT NOMINATION\",\n",
    "# \"UNAFFILIATED\",\n",
    "# \"INDEPENDENT PARTY OF OREGON\",\n",
    "# \"NO PARTY PREFERENCE\",\n",
    "# \"UNENROLLED INDEPENDENT\",\n",
    "# \"COMMON SENSE INDEPENDENT\",\n",
    "# \"INDEPENDENT FOR MAINE\",\n",
    "# \"A TRUE INDEPENDENT\",\n",
    "party_detailed_mapping = {\n",
    "    \"NO PARTY AFFILIATION\": \"UNAFFILIATED\",\n",
    "    \"NO AFFILIATION\": \"UNAFFILIATED\",\n",
    "    \"NO PARTY\": \"UNAFFILIATED\",\n",
    "}\n",
    "t = t.mutate(\n",
    "    party_simplified=t.party_simplified.upper().strip().nullif(\"\"),\n",
    "    party_detailed=t.party_detailed.upper().strip().nullif(\"\").substitute(cand_mapping),\n",
    ")\n",
    "t = t.cache()\n",
    "t"
   ]
  },
  {
   "cell_type": "code",
   "execution_count": 12,
   "metadata": {},
   "outputs": [
    {
     "data": {
      "text/html": [
       "<pre style=\"white-space:pre;overflow-x:auto;line-height:normal;font-family:Menlo,'DejaVu Sans Mono',consolas,'Courier New',monospace\">┏━━━━━━━━━━━━━━━━━━┳━━━━━━━━━━━━━━━━┳━━━━━━━━━━━━━━━━━━━━━━━━━━━━━━━━━━━━━━━┓\n",
       "┃<span style=\"font-weight: bold\"> party_simplified </span>┃<span style=\"font-weight: bold\"> party_detailed </span>┃<span style=\"font-weight: bold\"> party_simplified_party_detailed_count </span>┃\n",
       "┡━━━━━━━━━━━━━━━━━━╇━━━━━━━━━━━━━━━━╇━━━━━━━━━━━━━━━━━━━━━━━━━━━━━━━━━━━━━━━┩\n",
       "│ <span style=\"color: #7f7f7f; text-decoration-color: #7f7f7f\">string</span>           │ <span style=\"color: #7f7f7f; text-decoration-color: #7f7f7f\">string</span>         │ <span style=\"color: #7f7f7f; text-decoration-color: #7f7f7f\">int64</span>                                 │\n",
       "└──────────────────┴────────────────┴───────────────────────────────────────┘\n",
       "</pre>\n"
      ],
      "text/plain": [
       "┏━━━━━━━━━━━━━━━━━━┳━━━━━━━━━━━━━━━━┳━━━━━━━━━━━━━━━━━━━━━━━━━━━━━━━━━━━━━━━┓\n",
       "┃\u001b[1m \u001b[0m\u001b[1mparty_simplified\u001b[0m\u001b[1m \u001b[0m┃\u001b[1m \u001b[0m\u001b[1mparty_detailed\u001b[0m\u001b[1m \u001b[0m┃\u001b[1m \u001b[0m\u001b[1mparty_simplified_party_detailed_count\u001b[0m\u001b[1m \u001b[0m┃\n",
       "┡━━━━━━━━━━━━━━━━━━╇━━━━━━━━━━━━━━━━╇━━━━━━━━━━━━━━━━━━━━━━━━━━━━━━━━━━━━━━━┩\n",
       "│ \u001b[2mstring\u001b[0m           │ \u001b[2mstring\u001b[0m         │ \u001b[2mint64\u001b[0m                                 │\n",
       "└──────────────────┴────────────────┴───────────────────────────────────────┘"
      ]
     },
     "execution_count": 12,
     "metadata": {},
     "output_type": "execute_result"
    }
   ],
   "source": [
    "from election_data import PartySimplified\n",
    "\n",
    "\n",
    "def _regular(party):\n",
    "    return (\n",
    "        ibis.and_(_.party_simplified == party, _.party_detailed == party),\n",
    "        (ibis.literal(party), ibis.literal(party)),\n",
    "    )\n",
    "\n",
    "\n",
    "simples = PartySimplified.__members__.keys()\n",
    "\n",
    "party_map = [\n",
    "    *[_regular(p) for p in simples],\n",
    "    (\n",
    "        ibis.and_(\n",
    "            _.party_simplified.re_search(r\"^\\s*$\"), _.party_detailed.re_search(r\"^\\s*$\")\n",
    "        ),\n",
    "        (None, None),\n",
    "    ),\n",
    "    (\n",
    "        ibis.and_(\n",
    "            _.party_simplified == \"DEMOCRAT\", _.party_detailed == \"WORKING FAMILIES\"\n",
    "        ),\n",
    "        (ibis.literal(\"OTHER\"), ibis.literal(\"WORKING FAMILIES\")),\n",
    "    ),\n",
    "    (\n",
    "        ibis.and_(\n",
    "            _.party_simplified == \"WORKING CLASS\", _.party_detailed == \"WORKING CLASS\"\n",
    "        ),\n",
    "        (ibis.literal(\"OTHER\"), ibis.literal(\"WORKING CLASS\")),\n",
    "    ),\n",
    "    (\n",
    "        ibis.and_(\n",
    "            _.party_simplified == \"WORKING CLASS PARTY\",\n",
    "            _.party_detailed == \"WORKING CLASS PARTY\",\n",
    "        ),\n",
    "        (ibis.literal(\"OTHER\"), ibis.literal(\"WORKING CLASS PARTY\")),\n",
    "    ),\n",
    "    (\n",
    "        ibis.and_(\n",
    "            _.party_simplified == \"UNITED CITIZEN\", _.party_detailed == \"UNITED CITIZEN\"\n",
    "        ),\n",
    "        (ibis.literal(\"OTHER\"), ibis.literal(\"UNITED CITIZEN\")),\n",
    "    ),\n",
    "    (\n",
    "        ibis.and_(\n",
    "            _.party_simplified == \"CONSTITUTION\", _.party_detailed == \"CONSTITUTION\"\n",
    "        ),\n",
    "        (ibis.literal(\"OTHER\"), ibis.literal(\"CONSTITUTION\")),\n",
    "    ),\n",
    "    (\n",
    "        ibis.and_(_.party_simplified == \"OTHER\", _.party_detailed.notin(simples)),\n",
    "        (ibis.literal(\"OTHER\"), _.party_detailed),\n",
    "    ),\n",
    "    (\n",
    "        _.party_detailed.isin(simples),\n",
    "        (_.party_detailed, _.party_detailed),\n",
    "    ),\n",
    "]\n",
    "\n",
    "\n",
    "conditions = [condition for condition, _ in party_map]\n",
    "not_matched = t.filter(~ibis.or_(*conditions))\n",
    "not_matched_vc = (\n",
    "    not_matched.select(\n",
    "        \"party_simplified\",\n",
    "        \"party_detailed\",\n",
    "    )\n",
    "    .value_counts()\n",
    "    .cache()\n",
    ")\n",
    "assert (not_matched_vc.count() == 0).execute()\n",
    "not_matched_vc"
   ]
  },
  {
   "cell_type": "code",
   "execution_count": 13,
   "metadata": {},
   "outputs": [
    {
     "data": {
      "application/vnd.jupyter.widget-view+json": {
       "model_id": "137f608685b74bf5a0de1c49cf102ce3",
       "version_major": 2,
       "version_minor": 0
      },
      "text/plain": [
       "FloatProgress(value=0.0, layout=Layout(width='auto'), style=ProgressStyle(bar_color='black'))"
      ]
     },
     "metadata": {},
     "output_type": "display_data"
    },
    {
     "data": {
      "text/html": [
       "<pre style=\"white-space:pre;overflow-x:auto;line-height:normal;font-family:Menlo,'DejaVu Sans Mono',consolas,'Courier New',monospace\">┏━━━━━━━┳━━━━━━━━━━━━┳━━━━━━━━━━┳━━━━━━━━━━━━━┳━━━━━━━━━━━━━┳━━━━━━━━━━━━━━━━━━━┳━━━━━━━━━━━━━━━━━━━┳━━━━━━━━━━━━━━━━━━━━━━━━━━━━━━━━━━━━┳━━━━━━━━━━━━━━━━━━━━━━━━┳━━━━━━━━━━━┳━━━━━━━━━┳━━━━━━━━┳━━━━━━━━━━┳━━━━━━━━━┳━━━━━━━━━━━━━━━━━━━━┳━━━━━━━━━━━━━━━━┳━━━━━━━━━━━━━━━━━━┳━━━━━━━━┳━━━━━━━━┳━━━━━━━━━━━━━━┓\n",
       "┃<span style=\"font-weight: bold\"> year  </span>┃<span style=\"font-weight: bold\"> date       </span>┃<span style=\"font-weight: bold\"> state_po </span>┃<span style=\"font-weight: bold\"> county_name </span>┃<span style=\"font-weight: bold\"> county_fips </span>┃<span style=\"font-weight: bold\"> jurisdiction_name </span>┃<span style=\"font-weight: bold\"> jurisdiction_fips </span>┃<span style=\"font-weight: bold\"> district                           </span>┃<span style=\"font-weight: bold\"> office                 </span>┃<span style=\"font-weight: bold\"> magnitude </span>┃<span style=\"font-weight: bold\"> special </span>┃<span style=\"font-weight: bold\"> stage  </span>┃<span style=\"font-weight: bold\"> precinct </span>┃<span style=\"font-weight: bold\"> writein </span>┃<span style=\"font-weight: bold\"> candidate          </span>┃<span style=\"font-weight: bold\"> party_detailed </span>┃<span style=\"font-weight: bold\"> party_simplified </span>┃<span style=\"font-weight: bold\"> mode   </span>┃<span style=\"font-weight: bold\"> votes  </span>┃<span style=\"font-weight: bold\"> readme_check </span>┃\n",
       "┡━━━━━━━╇━━━━━━━━━━━━╇━━━━━━━━━━╇━━━━━━━━━━━━━╇━━━━━━━━━━━━━╇━━━━━━━━━━━━━━━━━━━╇━━━━━━━━━━━━━━━━━━━╇━━━━━━━━━━━━━━━━━━━━━━━━━━━━━━━━━━━━╇━━━━━━━━━━━━━━━━━━━━━━━━╇━━━━━━━━━━━╇━━━━━━━━━╇━━━━━━━━╇━━━━━━━━━━╇━━━━━━━━━╇━━━━━━━━━━━━━━━━━━━━╇━━━━━━━━━━━━━━━━╇━━━━━━━━━━━━━━━━━━╇━━━━━━━━╇━━━━━━━━╇━━━━━━━━━━━━━━┩\n",
       "│ <span style=\"color: #7f7f7f; text-decoration-color: #7f7f7f\">int16</span> │ <span style=\"color: #7f7f7f; text-decoration-color: #7f7f7f\">date</span>       │ <span style=\"color: #7f7f7f; text-decoration-color: #7f7f7f\">string</span>   │ <span style=\"color: #7f7f7f; text-decoration-color: #7f7f7f\">string</span>      │ <span style=\"color: #7f7f7f; text-decoration-color: #7f7f7f\">string</span>      │ <span style=\"color: #7f7f7f; text-decoration-color: #7f7f7f\">string</span>            │ <span style=\"color: #7f7f7f; text-decoration-color: #7f7f7f\">string</span>            │ <span style=\"color: #7f7f7f; text-decoration-color: #7f7f7f\">string</span>                             │ <span style=\"color: #7f7f7f; text-decoration-color: #7f7f7f\">string</span>                 │ <span style=\"color: #7f7f7f; text-decoration-color: #7f7f7f\">int64</span>     │ <span style=\"color: #7f7f7f; text-decoration-color: #7f7f7f\">boolean</span> │ <span style=\"color: #7f7f7f; text-decoration-color: #7f7f7f\">string</span> │ <span style=\"color: #7f7f7f; text-decoration-color: #7f7f7f\">string</span>   │ <span style=\"color: #7f7f7f; text-decoration-color: #7f7f7f\">boolean</span> │ <span style=\"color: #7f7f7f; text-decoration-color: #7f7f7f\">string</span>             │ <span style=\"color: #7f7f7f; text-decoration-color: #7f7f7f\">string</span>         │ <span style=\"color: #7f7f7f; text-decoration-color: #7f7f7f\">string</span>           │ <span style=\"color: #7f7f7f; text-decoration-color: #7f7f7f\">string</span> │ <span style=\"color: #7f7f7f; text-decoration-color: #7f7f7f\">string</span> │ <span style=\"color: #7f7f7f; text-decoration-color: #7f7f7f\">boolean</span>      │\n",
       "├───────┼────────────┼──────────┼─────────────┼─────────────┼───────────────────┼───────────────────┼────────────────────────────────────┼────────────────────────┼───────────┼─────────┼────────┼──────────┼─────────┼────────────────────┼────────────────┼──────────────────┼────────┼────────┼──────────────┤\n",
       "│  <span style=\"color: #008080; text-decoration-color: #008080; font-weight: bold\">2020</span> │ <span style=\"color: #800080; text-decoration-color: #800080\">2020-11-03</span> │ <span style=\"color: #008000; text-decoration-color: #008000\">WA      </span> │ <span style=\"color: #008000; text-decoration-color: #008000\">SPOKANE    </span> │ <span style=\"color: #008000; text-decoration-color: #008000\">53063      </span> │ <span style=\"color: #008000; text-decoration-color: #008000\">SPOKANE          </span> │ <span style=\"color: #008000; text-decoration-color: #008000\">53063            </span> │ <span style=\"color: #008000; text-decoration-color: #008000\">DIVISION 3, DISTRICT 1, POSITION 2</span> │ <span style=\"color: #008000; text-decoration-color: #008000\">COURT OF APPEALS JUDGE</span> │         <span style=\"color: #008080; text-decoration-color: #008080; font-weight: bold\">1</span> │ False   │ <span style=\"color: #008000; text-decoration-color: #008000\">GEN   </span> │ <span style=\"color: #008000; text-decoration-color: #008000\">PCT 3221</span> │ False   │ <span style=\"color: #008000; text-decoration-color: #008000\">TRACY ARLENE STAAB</span> │ <span style=\"color: #008000; text-decoration-color: #008000\">NONPARTISAN   </span> │ <span style=\"color: #008000; text-decoration-color: #008000\">NONPARTISAN     </span> │ <span style=\"color: #008000; text-decoration-color: #008000\">TOTAL </span> │ <span style=\"color: #008000; text-decoration-color: #008000\">692   </span> │ False        │\n",
       "│  <span style=\"color: #008080; text-decoration-color: #008080; font-weight: bold\">2020</span> │ <span style=\"color: #800080; text-decoration-color: #800080\">2020-11-03</span> │ <span style=\"color: #008000; text-decoration-color: #008000\">WA      </span> │ <span style=\"color: #008000; text-decoration-color: #008000\">SPOKANE    </span> │ <span style=\"color: #008000; text-decoration-color: #008000\">53063      </span> │ <span style=\"color: #008000; text-decoration-color: #008000\">SPOKANE          </span> │ <span style=\"color: #008000; text-decoration-color: #008000\">53063            </span> │ <span style=\"color: #008000; text-decoration-color: #008000\">DIVISION 3, DISTRICT 1, POSITION 2</span> │ <span style=\"color: #008000; text-decoration-color: #008000\">COURT OF APPEALS JUDGE</span> │         <span style=\"color: #008080; text-decoration-color: #008080; font-weight: bold\">1</span> │ False   │ <span style=\"color: #008000; text-decoration-color: #008000\">GEN   </span> │ <span style=\"color: #008000; text-decoration-color: #008000\">PCT 3223</span> │ False   │ <span style=\"color: #008000; text-decoration-color: #008000\">TRACY ARLENE STAAB</span> │ <span style=\"color: #008000; text-decoration-color: #008000\">NONPARTISAN   </span> │ <span style=\"color: #008000; text-decoration-color: #008000\">NONPARTISAN     </span> │ <span style=\"color: #008000; text-decoration-color: #008000\">TOTAL </span> │ <span style=\"color: #008000; text-decoration-color: #008000\">415   </span> │ False        │\n",
       "│  <span style=\"color: #008080; text-decoration-color: #008080; font-weight: bold\">2020</span> │ <span style=\"color: #800080; text-decoration-color: #800080\">2020-11-03</span> │ <span style=\"color: #008000; text-decoration-color: #008000\">WA      </span> │ <span style=\"color: #008000; text-decoration-color: #008000\">SPOKANE    </span> │ <span style=\"color: #008000; text-decoration-color: #008000\">53063      </span> │ <span style=\"color: #008000; text-decoration-color: #008000\">SPOKANE          </span> │ <span style=\"color: #008000; text-decoration-color: #008000\">53063            </span> │ <span style=\"color: #008000; text-decoration-color: #008000\">DIVISION 3, DISTRICT 1, POSITION 2</span> │ <span style=\"color: #008000; text-decoration-color: #008000\">COURT OF APPEALS JUDGE</span> │         <span style=\"color: #008080; text-decoration-color: #008080; font-weight: bold\">1</span> │ False   │ <span style=\"color: #008000; text-decoration-color: #008000\">GEN   </span> │ <span style=\"color: #008000; text-decoration-color: #008000\">PCT 3301</span> │ False   │ <span style=\"color: #008000; text-decoration-color: #008000\">MARSHALL CASEY    </span> │ <span style=\"color: #008000; text-decoration-color: #008000\">NONPARTISAN   </span> │ <span style=\"color: #008000; text-decoration-color: #008000\">NONPARTISAN     </span> │ <span style=\"color: #008000; text-decoration-color: #008000\">TOTAL </span> │ <span style=\"color: #008000; text-decoration-color: #008000\">340   </span> │ False        │\n",
       "│  <span style=\"color: #008080; text-decoration-color: #008080; font-weight: bold\">2020</span> │ <span style=\"color: #800080; text-decoration-color: #800080\">2020-11-03</span> │ <span style=\"color: #008000; text-decoration-color: #008000\">WA      </span> │ <span style=\"color: #008000; text-decoration-color: #008000\">SPOKANE    </span> │ <span style=\"color: #008000; text-decoration-color: #008000\">53063      </span> │ <span style=\"color: #008000; text-decoration-color: #008000\">SPOKANE          </span> │ <span style=\"color: #008000; text-decoration-color: #008000\">53063            </span> │ <span style=\"color: #008000; text-decoration-color: #008000\">DIVISION 3, DISTRICT 1, POSITION 2</span> │ <span style=\"color: #008000; text-decoration-color: #008000\">COURT OF APPEALS JUDGE</span> │         <span style=\"color: #008080; text-decoration-color: #008080; font-weight: bold\">1</span> │ False   │ <span style=\"color: #008000; text-decoration-color: #008000\">GEN   </span> │ <span style=\"color: #008000; text-decoration-color: #008000\">PCT 3303</span> │ True    │ <span style=\"color: #008000; text-decoration-color: #008000\">WRITEIN           </span> │ <span style=\"color: #008000; text-decoration-color: #008000\">NONPARTISAN   </span> │ <span style=\"color: #008000; text-decoration-color: #008000\">NONPARTISAN     </span> │ <span style=\"color: #008000; text-decoration-color: #008000\">TOTAL </span> │ <span style=\"color: #008000; text-decoration-color: #008000\">6     </span> │ False        │\n",
       "│  <span style=\"color: #008080; text-decoration-color: #008080; font-weight: bold\">2020</span> │ <span style=\"color: #800080; text-decoration-color: #800080\">2020-11-03</span> │ <span style=\"color: #008000; text-decoration-color: #008000\">WA      </span> │ <span style=\"color: #008000; text-decoration-color: #008000\">SPOKANE    </span> │ <span style=\"color: #008000; text-decoration-color: #008000\">53063      </span> │ <span style=\"color: #008000; text-decoration-color: #008000\">SPOKANE          </span> │ <span style=\"color: #008000; text-decoration-color: #008000\">53063            </span> │ <span style=\"color: #008000; text-decoration-color: #008000\">DIVISION 3, DISTRICT 1, POSITION 2</span> │ <span style=\"color: #008000; text-decoration-color: #008000\">COURT OF APPEALS JUDGE</span> │         <span style=\"color: #008080; text-decoration-color: #008080; font-weight: bold\">1</span> │ False   │ <span style=\"color: #008000; text-decoration-color: #008000\">GEN   </span> │ <span style=\"color: #008000; text-decoration-color: #008000\">PCT 3307</span> │ False   │ <span style=\"color: #008000; text-decoration-color: #008000\">MARSHALL CASEY    </span> │ <span style=\"color: #008000; text-decoration-color: #008000\">NONPARTISAN   </span> │ <span style=\"color: #008000; text-decoration-color: #008000\">NONPARTISAN     </span> │ <span style=\"color: #008000; text-decoration-color: #008000\">TOTAL </span> │ <span style=\"color: #008000; text-decoration-color: #008000\">178   </span> │ False        │\n",
       "│  <span style=\"color: #008080; text-decoration-color: #008080; font-weight: bold\">2020</span> │ <span style=\"color: #800080; text-decoration-color: #800080\">2020-11-03</span> │ <span style=\"color: #008000; text-decoration-color: #008000\">WA      </span> │ <span style=\"color: #008000; text-decoration-color: #008000\">SPOKANE    </span> │ <span style=\"color: #008000; text-decoration-color: #008000\">53063      </span> │ <span style=\"color: #008000; text-decoration-color: #008000\">SPOKANE          </span> │ <span style=\"color: #008000; text-decoration-color: #008000\">53063            </span> │ <span style=\"color: #008000; text-decoration-color: #008000\">DIVISION 3, DISTRICT 1, POSITION 2</span> │ <span style=\"color: #008000; text-decoration-color: #008000\">COURT OF APPEALS JUDGE</span> │         <span style=\"color: #008080; text-decoration-color: #008080; font-weight: bold\">1</span> │ False   │ <span style=\"color: #008000; text-decoration-color: #008000\">GEN   </span> │ <span style=\"color: #008000; text-decoration-color: #008000\">PCT 3315</span> │ False   │ <span style=\"color: #008000; text-decoration-color: #008000\">MARSHALL CASEY    </span> │ <span style=\"color: #008000; text-decoration-color: #008000\">NONPARTISAN   </span> │ <span style=\"color: #008000; text-decoration-color: #008000\">NONPARTISAN     </span> │ <span style=\"color: #008000; text-decoration-color: #008000\">TOTAL </span> │ <span style=\"color: #008000; text-decoration-color: #008000\">295   </span> │ False        │\n",
       "│  <span style=\"color: #008080; text-decoration-color: #008080; font-weight: bold\">2020</span> │ <span style=\"color: #800080; text-decoration-color: #800080\">2020-11-03</span> │ <span style=\"color: #008000; text-decoration-color: #008000\">WA      </span> │ <span style=\"color: #008000; text-decoration-color: #008000\">SPOKANE    </span> │ <span style=\"color: #008000; text-decoration-color: #008000\">53063      </span> │ <span style=\"color: #008000; text-decoration-color: #008000\">SPOKANE          </span> │ <span style=\"color: #008000; text-decoration-color: #008000\">53063            </span> │ <span style=\"color: #008000; text-decoration-color: #008000\">DIVISION 3, DISTRICT 1, POSITION 2</span> │ <span style=\"color: #008000; text-decoration-color: #008000\">COURT OF APPEALS JUDGE</span> │         <span style=\"color: #008080; text-decoration-color: #008080; font-weight: bold\">1</span> │ False   │ <span style=\"color: #008000; text-decoration-color: #008000\">GEN   </span> │ <span style=\"color: #008000; text-decoration-color: #008000\">PCT 3317</span> │ False   │ <span style=\"color: #008000; text-decoration-color: #008000\">TRACY ARLENE STAAB</span> │ <span style=\"color: #008000; text-decoration-color: #008000\">NONPARTISAN   </span> │ <span style=\"color: #008000; text-decoration-color: #008000\">NONPARTISAN     </span> │ <span style=\"color: #008000; text-decoration-color: #008000\">TOTAL </span> │ <span style=\"color: #008000; text-decoration-color: #008000\">630   </span> │ False        │\n",
       "│  <span style=\"color: #008080; text-decoration-color: #008080; font-weight: bold\">2020</span> │ <span style=\"color: #800080; text-decoration-color: #800080\">2020-11-03</span> │ <span style=\"color: #008000; text-decoration-color: #008000\">WA      </span> │ <span style=\"color: #008000; text-decoration-color: #008000\">SPOKANE    </span> │ <span style=\"color: #008000; text-decoration-color: #008000\">53063      </span> │ <span style=\"color: #008000; text-decoration-color: #008000\">SPOKANE          </span> │ <span style=\"color: #008000; text-decoration-color: #008000\">53063            </span> │ <span style=\"color: #008000; text-decoration-color: #008000\">DIVISION 3, DISTRICT 1, POSITION 2</span> │ <span style=\"color: #008000; text-decoration-color: #008000\">COURT OF APPEALS JUDGE</span> │         <span style=\"color: #008080; text-decoration-color: #008080; font-weight: bold\">1</span> │ False   │ <span style=\"color: #008000; text-decoration-color: #008000\">GEN   </span> │ <span style=\"color: #008000; text-decoration-color: #008000\">PCT 3320</span> │ False   │ <span style=\"color: #008000; text-decoration-color: #008000\">MARSHALL CASEY    </span> │ <span style=\"color: #008000; text-decoration-color: #008000\">NONPARTISAN   </span> │ <span style=\"color: #008000; text-decoration-color: #008000\">NONPARTISAN     </span> │ <span style=\"color: #008000; text-decoration-color: #008000\">TOTAL </span> │ <span style=\"color: #008000; text-decoration-color: #008000\">186   </span> │ False        │\n",
       "│  <span style=\"color: #008080; text-decoration-color: #008080; font-weight: bold\">2020</span> │ <span style=\"color: #800080; text-decoration-color: #800080\">2020-11-03</span> │ <span style=\"color: #008000; text-decoration-color: #008000\">WA      </span> │ <span style=\"color: #008000; text-decoration-color: #008000\">SPOKANE    </span> │ <span style=\"color: #008000; text-decoration-color: #008000\">53063      </span> │ <span style=\"color: #008000; text-decoration-color: #008000\">SPOKANE          </span> │ <span style=\"color: #008000; text-decoration-color: #008000\">53063            </span> │ <span style=\"color: #008000; text-decoration-color: #008000\">DIVISION 3, DISTRICT 1, POSITION 2</span> │ <span style=\"color: #008000; text-decoration-color: #008000\">COURT OF APPEALS JUDGE</span> │         <span style=\"color: #008080; text-decoration-color: #008080; font-weight: bold\">1</span> │ False   │ <span style=\"color: #008000; text-decoration-color: #008000\">GEN   </span> │ <span style=\"color: #008000; text-decoration-color: #008000\">PCT 3323</span> │ False   │ <span style=\"color: #008000; text-decoration-color: #008000\">TRACY ARLENE STAAB</span> │ <span style=\"color: #008000; text-decoration-color: #008000\">NONPARTISAN   </span> │ <span style=\"color: #008000; text-decoration-color: #008000\">NONPARTISAN     </span> │ <span style=\"color: #008000; text-decoration-color: #008000\">TOTAL </span> │ <span style=\"color: #008000; text-decoration-color: #008000\">564   </span> │ False        │\n",
       "│  <span style=\"color: #008080; text-decoration-color: #008080; font-weight: bold\">2020</span> │ <span style=\"color: #800080; text-decoration-color: #800080\">2020-11-03</span> │ <span style=\"color: #008000; text-decoration-color: #008000\">WA      </span> │ <span style=\"color: #008000; text-decoration-color: #008000\">SPOKANE    </span> │ <span style=\"color: #008000; text-decoration-color: #008000\">53063      </span> │ <span style=\"color: #008000; text-decoration-color: #008000\">SPOKANE          </span> │ <span style=\"color: #008000; text-decoration-color: #008000\">53063            </span> │ <span style=\"color: #008000; text-decoration-color: #008000\">DIVISION 3, DISTRICT 1, POSITION 2</span> │ <span style=\"color: #008000; text-decoration-color: #008000\">COURT OF APPEALS JUDGE</span> │         <span style=\"color: #008080; text-decoration-color: #008080; font-weight: bold\">1</span> │ False   │ <span style=\"color: #008000; text-decoration-color: #008000\">GEN   </span> │ <span style=\"color: #008000; text-decoration-color: #008000\">PCT 3326</span> │ True    │ <span style=\"color: #008000; text-decoration-color: #008000\">WRITEIN           </span> │ <span style=\"color: #008000; text-decoration-color: #008000\">NONPARTISAN   </span> │ <span style=\"color: #008000; text-decoration-color: #008000\">NONPARTISAN     </span> │ <span style=\"color: #008000; text-decoration-color: #008000\">TOTAL </span> │ <span style=\"color: #008000; text-decoration-color: #008000\">6     </span> │ False        │\n",
       "│     <span style=\"color: #7f7f7f; text-decoration-color: #7f7f7f\">…</span> │ <span style=\"color: #7f7f7f; text-decoration-color: #7f7f7f\">…</span>          │ <span style=\"color: #7f7f7f; text-decoration-color: #7f7f7f\">…</span>        │ <span style=\"color: #7f7f7f; text-decoration-color: #7f7f7f\">…</span>           │ <span style=\"color: #7f7f7f; text-decoration-color: #7f7f7f\">…</span>           │ <span style=\"color: #7f7f7f; text-decoration-color: #7f7f7f\">…</span>                 │ <span style=\"color: #7f7f7f; text-decoration-color: #7f7f7f\">…</span>                 │ <span style=\"color: #7f7f7f; text-decoration-color: #7f7f7f\">…</span>                                  │ <span style=\"color: #7f7f7f; text-decoration-color: #7f7f7f\">…</span>                      │         <span style=\"color: #7f7f7f; text-decoration-color: #7f7f7f\">…</span> │ <span style=\"color: #7f7f7f; text-decoration-color: #7f7f7f\">…</span>       │ <span style=\"color: #7f7f7f; text-decoration-color: #7f7f7f\">…</span>      │ <span style=\"color: #7f7f7f; text-decoration-color: #7f7f7f\">…</span>        │ <span style=\"color: #7f7f7f; text-decoration-color: #7f7f7f\">…</span>       │ <span style=\"color: #7f7f7f; text-decoration-color: #7f7f7f\">…</span>                  │ <span style=\"color: #7f7f7f; text-decoration-color: #7f7f7f\">…</span>              │ <span style=\"color: #7f7f7f; text-decoration-color: #7f7f7f\">…</span>                │ <span style=\"color: #7f7f7f; text-decoration-color: #7f7f7f\">…</span>      │ <span style=\"color: #7f7f7f; text-decoration-color: #7f7f7f\">…</span>      │ <span style=\"color: #7f7f7f; text-decoration-color: #7f7f7f\">…</span>            │\n",
       "└───────┴────────────┴──────────┴─────────────┴─────────────┴───────────────────┴───────────────────┴────────────────────────────────────┴────────────────────────┴───────────┴─────────┴────────┴──────────┴─────────┴────────────────────┴────────────────┴──────────────────┴────────┴────────┴──────────────┘\n",
       "</pre>\n"
      ],
      "text/plain": [
       "┏━━━━━━━┳━━━━━━━━━━━━┳━━━━━━━━━━┳━━━━━━━━━━━━━┳━━━━━━━━━━━━━┳━━━━━━━━━━━━━━━━━━━┳━━━━━━━━━━━━━━━━━━━┳━━━━━━━━━━━━━━━━━━━━━━━━━━━━━━━━━━━━┳━━━━━━━━━━━━━━━━━━━━━━━━┳━━━━━━━━━━━┳━━━━━━━━━┳━━━━━━━━┳━━━━━━━━━━┳━━━━━━━━━┳━━━━━━━━━━━━━━━━━━━━┳━━━━━━━━━━━━━━━━┳━━━━━━━━━━━━━━━━━━┳━━━━━━━━┳━━━━━━━━┳━━━━━━━━━━━━━━┓\n",
       "┃\u001b[1m \u001b[0m\u001b[1myear\u001b[0m\u001b[1m \u001b[0m\u001b[1m \u001b[0m┃\u001b[1m \u001b[0m\u001b[1mdate\u001b[0m\u001b[1m      \u001b[0m\u001b[1m \u001b[0m┃\u001b[1m \u001b[0m\u001b[1mstate_po\u001b[0m\u001b[1m \u001b[0m┃\u001b[1m \u001b[0m\u001b[1mcounty_name\u001b[0m\u001b[1m \u001b[0m┃\u001b[1m \u001b[0m\u001b[1mcounty_fips\u001b[0m\u001b[1m \u001b[0m┃\u001b[1m \u001b[0m\u001b[1mjurisdiction_name\u001b[0m\u001b[1m \u001b[0m┃\u001b[1m \u001b[0m\u001b[1mjurisdiction_fips\u001b[0m\u001b[1m \u001b[0m┃\u001b[1m \u001b[0m\u001b[1mdistrict\u001b[0m\u001b[1m                          \u001b[0m\u001b[1m \u001b[0m┃\u001b[1m \u001b[0m\u001b[1moffice\u001b[0m\u001b[1m                \u001b[0m\u001b[1m \u001b[0m┃\u001b[1m \u001b[0m\u001b[1mmagnitude\u001b[0m\u001b[1m \u001b[0m┃\u001b[1m \u001b[0m\u001b[1mspecial\u001b[0m\u001b[1m \u001b[0m┃\u001b[1m \u001b[0m\u001b[1mstage\u001b[0m\u001b[1m \u001b[0m\u001b[1m \u001b[0m┃\u001b[1m \u001b[0m\u001b[1mprecinct\u001b[0m\u001b[1m \u001b[0m┃\u001b[1m \u001b[0m\u001b[1mwritein\u001b[0m\u001b[1m \u001b[0m┃\u001b[1m \u001b[0m\u001b[1mcandidate\u001b[0m\u001b[1m         \u001b[0m\u001b[1m \u001b[0m┃\u001b[1m \u001b[0m\u001b[1mparty_detailed\u001b[0m\u001b[1m \u001b[0m┃\u001b[1m \u001b[0m\u001b[1mparty_simplified\u001b[0m\u001b[1m \u001b[0m┃\u001b[1m \u001b[0m\u001b[1mmode\u001b[0m\u001b[1m  \u001b[0m\u001b[1m \u001b[0m┃\u001b[1m \u001b[0m\u001b[1mvotes\u001b[0m\u001b[1m \u001b[0m\u001b[1m \u001b[0m┃\u001b[1m \u001b[0m\u001b[1mreadme_check\u001b[0m\u001b[1m \u001b[0m┃\n",
       "┡━━━━━━━╇━━━━━━━━━━━━╇━━━━━━━━━━╇━━━━━━━━━━━━━╇━━━━━━━━━━━━━╇━━━━━━━━━━━━━━━━━━━╇━━━━━━━━━━━━━━━━━━━╇━━━━━━━━━━━━━━━━━━━━━━━━━━━━━━━━━━━━╇━━━━━━━━━━━━━━━━━━━━━━━━╇━━━━━━━━━━━╇━━━━━━━━━╇━━━━━━━━╇━━━━━━━━━━╇━━━━━━━━━╇━━━━━━━━━━━━━━━━━━━━╇━━━━━━━━━━━━━━━━╇━━━━━━━━━━━━━━━━━━╇━━━━━━━━╇━━━━━━━━╇━━━━━━━━━━━━━━┩\n",
       "│ \u001b[2mint16\u001b[0m │ \u001b[2mdate\u001b[0m       │ \u001b[2mstring\u001b[0m   │ \u001b[2mstring\u001b[0m      │ \u001b[2mstring\u001b[0m      │ \u001b[2mstring\u001b[0m            │ \u001b[2mstring\u001b[0m            │ \u001b[2mstring\u001b[0m                             │ \u001b[2mstring\u001b[0m                 │ \u001b[2mint64\u001b[0m     │ \u001b[2mboolean\u001b[0m │ \u001b[2mstring\u001b[0m │ \u001b[2mstring\u001b[0m   │ \u001b[2mboolean\u001b[0m │ \u001b[2mstring\u001b[0m             │ \u001b[2mstring\u001b[0m         │ \u001b[2mstring\u001b[0m           │ \u001b[2mstring\u001b[0m │ \u001b[2mstring\u001b[0m │ \u001b[2mboolean\u001b[0m      │\n",
       "├───────┼────────────┼──────────┼─────────────┼─────────────┼───────────────────┼───────────────────┼────────────────────────────────────┼────────────────────────┼───────────┼─────────┼────────┼──────────┼─────────┼────────────────────┼────────────────┼──────────────────┼────────┼────────┼──────────────┤\n",
       "│  \u001b[1;36m2020\u001b[0m │ \u001b[35m2020-11-03\u001b[0m │ \u001b[32mWA      \u001b[0m │ \u001b[32mSPOKANE    \u001b[0m │ \u001b[32m53063      \u001b[0m │ \u001b[32mSPOKANE          \u001b[0m │ \u001b[32m53063            \u001b[0m │ \u001b[32mDIVISION 3, DISTRICT 1, POSITION 2\u001b[0m │ \u001b[32mCOURT OF APPEALS JUDGE\u001b[0m │         \u001b[1;36m1\u001b[0m │ False   │ \u001b[32mGEN   \u001b[0m │ \u001b[32mPCT 3221\u001b[0m │ False   │ \u001b[32mTRACY ARLENE STAAB\u001b[0m │ \u001b[32mNONPARTISAN   \u001b[0m │ \u001b[32mNONPARTISAN     \u001b[0m │ \u001b[32mTOTAL \u001b[0m │ \u001b[32m692   \u001b[0m │ False        │\n",
       "│  \u001b[1;36m2020\u001b[0m │ \u001b[35m2020-11-03\u001b[0m │ \u001b[32mWA      \u001b[0m │ \u001b[32mSPOKANE    \u001b[0m │ \u001b[32m53063      \u001b[0m │ \u001b[32mSPOKANE          \u001b[0m │ \u001b[32m53063            \u001b[0m │ \u001b[32mDIVISION 3, DISTRICT 1, POSITION 2\u001b[0m │ \u001b[32mCOURT OF APPEALS JUDGE\u001b[0m │         \u001b[1;36m1\u001b[0m │ False   │ \u001b[32mGEN   \u001b[0m │ \u001b[32mPCT 3223\u001b[0m │ False   │ \u001b[32mTRACY ARLENE STAAB\u001b[0m │ \u001b[32mNONPARTISAN   \u001b[0m │ \u001b[32mNONPARTISAN     \u001b[0m │ \u001b[32mTOTAL \u001b[0m │ \u001b[32m415   \u001b[0m │ False        │\n",
       "│  \u001b[1;36m2020\u001b[0m │ \u001b[35m2020-11-03\u001b[0m │ \u001b[32mWA      \u001b[0m │ \u001b[32mSPOKANE    \u001b[0m │ \u001b[32m53063      \u001b[0m │ \u001b[32mSPOKANE          \u001b[0m │ \u001b[32m53063            \u001b[0m │ \u001b[32mDIVISION 3, DISTRICT 1, POSITION 2\u001b[0m │ \u001b[32mCOURT OF APPEALS JUDGE\u001b[0m │         \u001b[1;36m1\u001b[0m │ False   │ \u001b[32mGEN   \u001b[0m │ \u001b[32mPCT 3301\u001b[0m │ False   │ \u001b[32mMARSHALL CASEY    \u001b[0m │ \u001b[32mNONPARTISAN   \u001b[0m │ \u001b[32mNONPARTISAN     \u001b[0m │ \u001b[32mTOTAL \u001b[0m │ \u001b[32m340   \u001b[0m │ False        │\n",
       "│  \u001b[1;36m2020\u001b[0m │ \u001b[35m2020-11-03\u001b[0m │ \u001b[32mWA      \u001b[0m │ \u001b[32mSPOKANE    \u001b[0m │ \u001b[32m53063      \u001b[0m │ \u001b[32mSPOKANE          \u001b[0m │ \u001b[32m53063            \u001b[0m │ \u001b[32mDIVISION 3, DISTRICT 1, POSITION 2\u001b[0m │ \u001b[32mCOURT OF APPEALS JUDGE\u001b[0m │         \u001b[1;36m1\u001b[0m │ False   │ \u001b[32mGEN   \u001b[0m │ \u001b[32mPCT 3303\u001b[0m │ True    │ \u001b[32mWRITEIN           \u001b[0m │ \u001b[32mNONPARTISAN   \u001b[0m │ \u001b[32mNONPARTISAN     \u001b[0m │ \u001b[32mTOTAL \u001b[0m │ \u001b[32m6     \u001b[0m │ False        │\n",
       "│  \u001b[1;36m2020\u001b[0m │ \u001b[35m2020-11-03\u001b[0m │ \u001b[32mWA      \u001b[0m │ \u001b[32mSPOKANE    \u001b[0m │ \u001b[32m53063      \u001b[0m │ \u001b[32mSPOKANE          \u001b[0m │ \u001b[32m53063            \u001b[0m │ \u001b[32mDIVISION 3, DISTRICT 1, POSITION 2\u001b[0m │ \u001b[32mCOURT OF APPEALS JUDGE\u001b[0m │         \u001b[1;36m1\u001b[0m │ False   │ \u001b[32mGEN   \u001b[0m │ \u001b[32mPCT 3307\u001b[0m │ False   │ \u001b[32mMARSHALL CASEY    \u001b[0m │ \u001b[32mNONPARTISAN   \u001b[0m │ \u001b[32mNONPARTISAN     \u001b[0m │ \u001b[32mTOTAL \u001b[0m │ \u001b[32m178   \u001b[0m │ False        │\n",
       "│  \u001b[1;36m2020\u001b[0m │ \u001b[35m2020-11-03\u001b[0m │ \u001b[32mWA      \u001b[0m │ \u001b[32mSPOKANE    \u001b[0m │ \u001b[32m53063      \u001b[0m │ \u001b[32mSPOKANE          \u001b[0m │ \u001b[32m53063            \u001b[0m │ \u001b[32mDIVISION 3, DISTRICT 1, POSITION 2\u001b[0m │ \u001b[32mCOURT OF APPEALS JUDGE\u001b[0m │         \u001b[1;36m1\u001b[0m │ False   │ \u001b[32mGEN   \u001b[0m │ \u001b[32mPCT 3315\u001b[0m │ False   │ \u001b[32mMARSHALL CASEY    \u001b[0m │ \u001b[32mNONPARTISAN   \u001b[0m │ \u001b[32mNONPARTISAN     \u001b[0m │ \u001b[32mTOTAL \u001b[0m │ \u001b[32m295   \u001b[0m │ False        │\n",
       "│  \u001b[1;36m2020\u001b[0m │ \u001b[35m2020-11-03\u001b[0m │ \u001b[32mWA      \u001b[0m │ \u001b[32mSPOKANE    \u001b[0m │ \u001b[32m53063      \u001b[0m │ \u001b[32mSPOKANE          \u001b[0m │ \u001b[32m53063            \u001b[0m │ \u001b[32mDIVISION 3, DISTRICT 1, POSITION 2\u001b[0m │ \u001b[32mCOURT OF APPEALS JUDGE\u001b[0m │         \u001b[1;36m1\u001b[0m │ False   │ \u001b[32mGEN   \u001b[0m │ \u001b[32mPCT 3317\u001b[0m │ False   │ \u001b[32mTRACY ARLENE STAAB\u001b[0m │ \u001b[32mNONPARTISAN   \u001b[0m │ \u001b[32mNONPARTISAN     \u001b[0m │ \u001b[32mTOTAL \u001b[0m │ \u001b[32m630   \u001b[0m │ False        │\n",
       "│  \u001b[1;36m2020\u001b[0m │ \u001b[35m2020-11-03\u001b[0m │ \u001b[32mWA      \u001b[0m │ \u001b[32mSPOKANE    \u001b[0m │ \u001b[32m53063      \u001b[0m │ \u001b[32mSPOKANE          \u001b[0m │ \u001b[32m53063            \u001b[0m │ \u001b[32mDIVISION 3, DISTRICT 1, POSITION 2\u001b[0m │ \u001b[32mCOURT OF APPEALS JUDGE\u001b[0m │         \u001b[1;36m1\u001b[0m │ False   │ \u001b[32mGEN   \u001b[0m │ \u001b[32mPCT 3320\u001b[0m │ False   │ \u001b[32mMARSHALL CASEY    \u001b[0m │ \u001b[32mNONPARTISAN   \u001b[0m │ \u001b[32mNONPARTISAN     \u001b[0m │ \u001b[32mTOTAL \u001b[0m │ \u001b[32m186   \u001b[0m │ False        │\n",
       "│  \u001b[1;36m2020\u001b[0m │ \u001b[35m2020-11-03\u001b[0m │ \u001b[32mWA      \u001b[0m │ \u001b[32mSPOKANE    \u001b[0m │ \u001b[32m53063      \u001b[0m │ \u001b[32mSPOKANE          \u001b[0m │ \u001b[32m53063            \u001b[0m │ \u001b[32mDIVISION 3, DISTRICT 1, POSITION 2\u001b[0m │ \u001b[32mCOURT OF APPEALS JUDGE\u001b[0m │         \u001b[1;36m1\u001b[0m │ False   │ \u001b[32mGEN   \u001b[0m │ \u001b[32mPCT 3323\u001b[0m │ False   │ \u001b[32mTRACY ARLENE STAAB\u001b[0m │ \u001b[32mNONPARTISAN   \u001b[0m │ \u001b[32mNONPARTISAN     \u001b[0m │ \u001b[32mTOTAL \u001b[0m │ \u001b[32m564   \u001b[0m │ False        │\n",
       "│  \u001b[1;36m2020\u001b[0m │ \u001b[35m2020-11-03\u001b[0m │ \u001b[32mWA      \u001b[0m │ \u001b[32mSPOKANE    \u001b[0m │ \u001b[32m53063      \u001b[0m │ \u001b[32mSPOKANE          \u001b[0m │ \u001b[32m53063            \u001b[0m │ \u001b[32mDIVISION 3, DISTRICT 1, POSITION 2\u001b[0m │ \u001b[32mCOURT OF APPEALS JUDGE\u001b[0m │         \u001b[1;36m1\u001b[0m │ False   │ \u001b[32mGEN   \u001b[0m │ \u001b[32mPCT 3326\u001b[0m │ True    │ \u001b[32mWRITEIN           \u001b[0m │ \u001b[32mNONPARTISAN   \u001b[0m │ \u001b[32mNONPARTISAN     \u001b[0m │ \u001b[32mTOTAL \u001b[0m │ \u001b[32m6     \u001b[0m │ False        │\n",
       "│     \u001b[2m…\u001b[0m │ \u001b[2m…\u001b[0m          │ \u001b[2m…\u001b[0m        │ \u001b[2m…\u001b[0m           │ \u001b[2m…\u001b[0m           │ \u001b[2m…\u001b[0m                 │ \u001b[2m…\u001b[0m                 │ \u001b[2m…\u001b[0m                                  │ \u001b[2m…\u001b[0m                      │         \u001b[2m…\u001b[0m │ \u001b[2m…\u001b[0m       │ \u001b[2m…\u001b[0m      │ \u001b[2m…\u001b[0m        │ \u001b[2m…\u001b[0m       │ \u001b[2m…\u001b[0m                  │ \u001b[2m…\u001b[0m              │ \u001b[2m…\u001b[0m                │ \u001b[2m…\u001b[0m      │ \u001b[2m…\u001b[0m      │ \u001b[2m…\u001b[0m            │\n",
       "└───────┴────────────┴──────────┴─────────────┴─────────────┴───────────────────┴───────────────────┴────────────────────────────────────┴────────────────────────┴───────────┴─────────┴────────┴──────────┴─────────┴────────────────────┴────────────────┴──────────────────┴────────┴────────┴──────────────┘"
      ]
     },
     "execution_count": 13,
     "metadata": {},
     "output_type": "execute_result"
    }
   ],
   "source": [
    "from election_data.tests import test_party\n",
    "from election_data.util import cases\n",
    "\n",
    "\n",
    "simplified = cases(\n",
    "    *[(condition, simplified) for condition, (simplified, _) in party_map]\n",
    ")\n",
    "detailed = cases(*[(condition, detailed) for condition, (_, detailed) in party_map])\n",
    "t = t.mutate(\n",
    "    party_simplified=simplified,\n",
    "    party_detailed=detailed,\n",
    ")\n",
    "t = t.cache()\n",
    "test_party(t)\n",
    "t"
   ]
  },
  {
   "cell_type": "markdown",
   "metadata": {},
   "source": [
    "## Fix Mode"
   ]
  },
  {
   "cell_type": "code",
   "execution_count": 16,
   "metadata": {},
   "outputs": [
    {
     "data": {
      "text/html": [
       "<pre style=\"white-space:pre;overflow-x:auto;line-height:normal;font-family:Menlo,'DejaVu Sans Mono',consolas,'Courier New',monospace\">┏━━━━━━━━━━━━━━━━━━━━━━┳━━━━━━━━━━━━━━━━━━━━━━━━━━━━━━━━━━━━━━━━━━━━━━━━━━━┓\n",
       "┃<span style=\"font-weight: bold\"> mode                 </span>┃<span style=\"font-weight: bold\"> CountStar(ibis_cached_b77z7z3jzvb5lbngs6t44ylotq) </span>┃\n",
       "┡━━━━━━━━━━━━━━━━━━━━━━╇━━━━━━━━━━━━━━━━━━━━━━━━━━━━━━━━━━━━━━━━━━━━━━━━━━━┩\n",
       "│ <span style=\"color: #7f7f7f; text-decoration-color: #7f7f7f\">string</span>               │ <span style=\"color: #7f7f7f; text-decoration-color: #7f7f7f\">int64</span>                                             │\n",
       "├──────────────────────┼───────────────────────────────────────────────────┤\n",
       "│ <span style=\"color: #008000; text-decoration-color: #008000\">TOTAL               </span> │                                          <span style=\"color: #008080; text-decoration-color: #008080; font-weight: bold\">20220271</span> │\n",
       "│ <span style=\"color: #008000; text-decoration-color: #008000\">ELECTION DAY        </span> │                                           <span style=\"color: #008080; text-decoration-color: #008080; font-weight: bold\">3301064</span> │\n",
       "│ <span style=\"color: #008000; text-decoration-color: #008000\">ABSENTEE            </span> │                                           <span style=\"color: #008080; text-decoration-color: #008080; font-weight: bold\">2707749</span> │\n",
       "│ <span style=\"color: #008000; text-decoration-color: #008000\">PROVISIONAL         </span> │                                           <span style=\"color: #008080; text-decoration-color: #008080; font-weight: bold\">1562572</span> │\n",
       "│ <span style=\"color: #008000; text-decoration-color: #008000\">NOT ABSENTEE        </span> │                                           <span style=\"color: #008080; text-decoration-color: #008080; font-weight: bold\">1252855</span> │\n",
       "│ <span style=\"color: #008000; text-decoration-color: #008000\">EARLY               </span> │                                            <span style=\"color: #008080; text-decoration-color: #008080; font-weight: bold\">736020</span> │\n",
       "│ <span style=\"color: #008000; text-decoration-color: #008000\">ABSENTEE BY MAIL    </span> │                                            <span style=\"color: #008080; text-decoration-color: #008080; font-weight: bold\">630956</span> │\n",
       "│ <span style=\"color: #008000; text-decoration-color: #008000\">UNSPECIFIED         </span> │                                            <span style=\"color: #008080; text-decoration-color: #008080; font-weight: bold\">451357</span> │\n",
       "│ <span style=\"color: #008000; text-decoration-color: #008000\">ONE STOP            </span> │                                            <span style=\"color: #008080; text-decoration-color: #008080; font-weight: bold\">443871</span> │\n",
       "│ <span style=\"color: #008000; text-decoration-color: #008000\">EARLY VOTING        </span> │                                            <span style=\"color: #008080; text-decoration-color: #008080; font-weight: bold\">330005</span> │\n",
       "│ <span style=\"color: #008000; text-decoration-color: #008000\">IN-PERSON           </span> │                                            <span style=\"color: #008080; text-decoration-color: #008080; font-weight: bold\">261275</span> │\n",
       "│ <span style=\"color: #008000; text-decoration-color: #008000\">EARLY VOTE          </span> │                                            <span style=\"color: #008080; text-decoration-color: #008080; font-weight: bold\">208653</span> │\n",
       "│ <span style=\"color: #008000; text-decoration-color: #008000\">MAIL                </span> │                                            <span style=\"color: #008080; text-decoration-color: #008080; font-weight: bold\">188146</span> │\n",
       "│ <span style=\"color: #008000; text-decoration-color: #008000\">WRITE-IN            </span> │                                            <span style=\"color: #008080; text-decoration-color: #008080; font-weight: bold\">154663</span> │\n",
       "│ <span style=\"color: #008000; text-decoration-color: #008000\">MAIL-IN CANVASS 1   </span> │                                            <span style=\"color: #008080; text-decoration-color: #008080; font-weight: bold\">128010</span> │\n",
       "│ <span style=\"color: #008000; text-decoration-color: #008000\">MAIL-IN CANVASS 2   </span> │                                            <span style=\"color: #008080; text-decoration-color: #008080; font-weight: bold\">128010</span> │\n",
       "│ <span style=\"color: #008000; text-decoration-color: #008000\">ADVANCED            </span> │                                            <span style=\"color: #008080; text-decoration-color: #008080; font-weight: bold\">124192</span> │\n",
       "│ <span style=\"color: #7f7f7f; text-decoration-color: #7f7f7f\">NULL</span>                 │                                            <span style=\"color: #008080; text-decoration-color: #008080; font-weight: bold\">123846</span> │\n",
       "│ <span style=\"color: #008000; text-decoration-color: #008000\">ADVANCED VOTING     </span> │                                            <span style=\"color: #008080; text-decoration-color: #008080; font-weight: bold\">117774</span> │\n",
       "│ <span style=\"color: #008000; text-decoration-color: #008000\">ELECTION DAY - IVO  </span> │                                             <span style=\"color: #008080; text-decoration-color: #008080; font-weight: bold\">96585</span> │\n",
       "│ <span style=\"color: #008000; text-decoration-color: #008000\">EARLY VOTING - OSS  </span> │                                             <span style=\"color: #008080; text-decoration-color: #008080; font-weight: bold\">96585</span> │\n",
       "│ <span style=\"color: #008000; text-decoration-color: #008000\">ELECTION DAY - OSS  </span> │                                             <span style=\"color: #008080; text-decoration-color: #008080; font-weight: bold\">96585</span> │\n",
       "│ <span style=\"color: #008000; text-decoration-color: #008000\">EARLY VOTING - IVO  </span> │                                             <span style=\"color: #008080; text-decoration-color: #008080; font-weight: bold\">96585</span> │\n",
       "│ <span style=\"color: #008000; text-decoration-color: #008000\">2ND ABSENTEE        </span> │                                             <span style=\"color: #008080; text-decoration-color: #008080; font-weight: bold\">89340</span> │\n",
       "│ <span style=\"color: #008000; text-decoration-color: #008000\">ADVANCE IN PERSON   </span> │                                             <span style=\"color: #008080; text-decoration-color: #008080; font-weight: bold\">84295</span> │\n",
       "│ <span style=\"color: #008000; text-decoration-color: #008000\">FAILSAFE            </span> │                                             <span style=\"color: #008080; text-decoration-color: #008080; font-weight: bold\">78608</span> │\n",
       "│ <span style=\"color: #008000; text-decoration-color: #008000\">FAILSAFE PROVISIONAL</span> │                                             <span style=\"color: #008080; text-decoration-color: #008080; font-weight: bold\">75894</span> │\n",
       "│ <span style=\"color: #008000; text-decoration-color: #008000\">IN PERSON ABSENTEE  </span> │                                             <span style=\"color: #008080; text-decoration-color: #008080; font-weight: bold\">41447</span> │\n",
       "│ <span style=\"color: #008000; text-decoration-color: #008000\">MACHINE             </span> │                                             <span style=\"color: #008080; text-decoration-color: #008080; font-weight: bold\">39147</span> │\n",
       "│ <span style=\"color: #008000; text-decoration-color: #008000\">ADVANCE IN PERSON 2 </span> │                                             <span style=\"color: #008080; text-decoration-color: #008080; font-weight: bold\">38006</span> │\n",
       "└──────────────────────┴───────────────────────────────────────────────────┘\n",
       "</pre>\n"
      ],
      "text/plain": [
       "┏━━━━━━━━━━━━━━━━━━━━━━┳━━━━━━━━━━━━━━━━━━━━━━━━━━━━━━━━━━━━━━━━━━━━━━━━━━━┓\n",
       "┃\u001b[1m \u001b[0m\u001b[1mmode\u001b[0m\u001b[1m                \u001b[0m\u001b[1m \u001b[0m┃\u001b[1m \u001b[0m\u001b[1mCountStar(ibis_cached_b77z7z3jzvb5lbngs6t44ylotq)\u001b[0m\u001b[1m \u001b[0m┃\n",
       "┡━━━━━━━━━━━━━━━━━━━━━━╇━━━━━━━━━━━━━━━━━━━━━━━━━━━━━━━━━━━━━━━━━━━━━━━━━━━┩\n",
       "│ \u001b[2mstring\u001b[0m               │ \u001b[2mint64\u001b[0m                                             │\n",
       "├──────────────────────┼───────────────────────────────────────────────────┤\n",
       "│ \u001b[32mTOTAL               \u001b[0m │                                          \u001b[1;36m20220271\u001b[0m │\n",
       "│ \u001b[32mELECTION DAY        \u001b[0m │                                           \u001b[1;36m3301064\u001b[0m │\n",
       "│ \u001b[32mABSENTEE            \u001b[0m │                                           \u001b[1;36m2707749\u001b[0m │\n",
       "│ \u001b[32mPROVISIONAL         \u001b[0m │                                           \u001b[1;36m1562572\u001b[0m │\n",
       "│ \u001b[32mNOT ABSENTEE        \u001b[0m │                                           \u001b[1;36m1252855\u001b[0m │\n",
       "│ \u001b[32mEARLY               \u001b[0m │                                            \u001b[1;36m736020\u001b[0m │\n",
       "│ \u001b[32mABSENTEE BY MAIL    \u001b[0m │                                            \u001b[1;36m630956\u001b[0m │\n",
       "│ \u001b[32mUNSPECIFIED         \u001b[0m │                                            \u001b[1;36m451357\u001b[0m │\n",
       "│ \u001b[32mONE STOP            \u001b[0m │                                            \u001b[1;36m443871\u001b[0m │\n",
       "│ \u001b[32mEARLY VOTING        \u001b[0m │                                            \u001b[1;36m330005\u001b[0m │\n",
       "│ \u001b[32mIN-PERSON           \u001b[0m │                                            \u001b[1;36m261275\u001b[0m │\n",
       "│ \u001b[32mEARLY VOTE          \u001b[0m │                                            \u001b[1;36m208653\u001b[0m │\n",
       "│ \u001b[32mMAIL                \u001b[0m │                                            \u001b[1;36m188146\u001b[0m │\n",
       "│ \u001b[32mWRITE-IN            \u001b[0m │                                            \u001b[1;36m154663\u001b[0m │\n",
       "│ \u001b[32mMAIL-IN CANVASS 1   \u001b[0m │                                            \u001b[1;36m128010\u001b[0m │\n",
       "│ \u001b[32mMAIL-IN CANVASS 2   \u001b[0m │                                            \u001b[1;36m128010\u001b[0m │\n",
       "│ \u001b[32mADVANCED            \u001b[0m │                                            \u001b[1;36m124192\u001b[0m │\n",
       "│ \u001b[2mNULL\u001b[0m                 │                                            \u001b[1;36m123846\u001b[0m │\n",
       "│ \u001b[32mADVANCED VOTING     \u001b[0m │                                            \u001b[1;36m117774\u001b[0m │\n",
       "│ \u001b[32mELECTION DAY - IVO  \u001b[0m │                                             \u001b[1;36m96585\u001b[0m │\n",
       "│ \u001b[32mEARLY VOTING - OSS  \u001b[0m │                                             \u001b[1;36m96585\u001b[0m │\n",
       "│ \u001b[32mELECTION DAY - OSS  \u001b[0m │                                             \u001b[1;36m96585\u001b[0m │\n",
       "│ \u001b[32mEARLY VOTING - IVO  \u001b[0m │                                             \u001b[1;36m96585\u001b[0m │\n",
       "│ \u001b[32m2ND ABSENTEE        \u001b[0m │                                             \u001b[1;36m89340\u001b[0m │\n",
       "│ \u001b[32mADVANCE IN PERSON   \u001b[0m │                                             \u001b[1;36m84295\u001b[0m │\n",
       "│ \u001b[32mFAILSAFE            \u001b[0m │                                             \u001b[1;36m78608\u001b[0m │\n",
       "│ \u001b[32mFAILSAFE PROVISIONAL\u001b[0m │                                             \u001b[1;36m75894\u001b[0m │\n",
       "│ \u001b[32mIN PERSON ABSENTEE  \u001b[0m │                                             \u001b[1;36m41447\u001b[0m │\n",
       "│ \u001b[32mMACHINE             \u001b[0m │                                             \u001b[1;36m39147\u001b[0m │\n",
       "│ \u001b[32mADVANCE IN PERSON 2 \u001b[0m │                                             \u001b[1;36m38006\u001b[0m │\n",
       "└──────────────────────┴───────────────────────────────────────────────────┘\n"
      ]
     },
     "execution_count": 16,
     "metadata": {},
     "output_type": "execute_result"
    }
   ],
   "source": [
    "t.mode.topk(30).preview(max_rows=30)"
   ]
  },
  {
   "cell_type": "code",
   "execution_count": 17,
   "metadata": {},
   "outputs": [],
   "source": [
    "mode_mapping = {\n",
    "    \"EARLY VOTE\": \"EARLY\",\n",
    "    \"EARLY VOTING\": \"EARLY\",\n",
    "    \"ADVANCED VOTING\": \"EARLY\",\n",
    "    \"ADVANCED\": \"EARLY\",\n",
    "}\n",
    "t = t.mutate(mode=_.mode.substitute(mode_mapping))"
   ]
  },
  {
   "cell_type": "code",
   "execution_count": 18,
   "metadata": {},
   "outputs": [
    {
     "data": {
      "text/html": [
       "<pre style=\"white-space:pre;overflow-x:auto;line-height:normal;font-family:Menlo,'DejaVu Sans Mono',consolas,'Courier New',monospace\">┏━━━━━━━━━━┳━━━━━━━━━━━━━┓\n",
       "┃<span style=\"font-weight: bold\"> state_po </span>┃<span style=\"font-weight: bold\"> CountStar() </span>┃\n",
       "┡━━━━━━━━━━╇━━━━━━━━━━━━━┩\n",
       "│ <span style=\"color: #7f7f7f; text-decoration-color: #7f7f7f\">string</span>   │ <span style=\"color: #7f7f7f; text-decoration-color: #7f7f7f\">int64</span>       │\n",
       "├──────────┼─────────────┤\n",
       "│ <span style=\"color: #008000; text-decoration-color: #008000\">IN      </span> │       <span style=\"color: #008080; text-decoration-color: #008080; font-weight: bold\">87363</span> │\n",
       "│ <span style=\"color: #008000; text-decoration-color: #008000\">MT      </span> │       <span style=\"color: #008080; text-decoration-color: #008080; font-weight: bold\">18617</span> │\n",
       "│ <span style=\"color: #008000; text-decoration-color: #008000\">OH      </span> │       <span style=\"color: #008080; text-decoration-color: #008080; font-weight: bold\">17866</span> │\n",
       "└──────────┴─────────────┘\n",
       "</pre>\n"
      ],
      "text/plain": [
       "┏━━━━━━━━━━┳━━━━━━━━━━━━━┓\n",
       "┃\u001b[1m \u001b[0m\u001b[1mstate_po\u001b[0m\u001b[1m \u001b[0m┃\u001b[1m \u001b[0m\u001b[1mCountStar()\u001b[0m\u001b[1m \u001b[0m┃\n",
       "┡━━━━━━━━━━╇━━━━━━━━━━━━━┩\n",
       "│ \u001b[2mstring\u001b[0m   │ \u001b[2mint64\u001b[0m       │\n",
       "├──────────┼─────────────┤\n",
       "│ \u001b[32mIN      \u001b[0m │       \u001b[1;36m87363\u001b[0m │\n",
       "│ \u001b[32mMT      \u001b[0m │       \u001b[1;36m18617\u001b[0m │\n",
       "│ \u001b[32mOH      \u001b[0m │       \u001b[1;36m17866\u001b[0m │\n",
       "└──────────┴─────────────┘"
      ]
     },
     "execution_count": 18,
     "metadata": {},
     "output_type": "execute_result"
    }
   ],
   "source": [
    "t.filter(\n",
    "    _.mode.isnull(),\n",
    ").state_po.topk(10)"
   ]
  },
  {
   "cell_type": "code",
   "execution_count": 19,
   "metadata": {},
   "outputs": [
    {
     "data": {
      "application/vnd.jupyter.widget-view+json": {
       "model_id": "7d774e105b3f4557a13bc595b928e48b",
       "version_major": 2,
       "version_minor": 0
      },
      "text/plain": [
       "FloatProgress(value=0.0, layout=Layout(width='auto'), style=ProgressStyle(bar_color='black'))"
      ]
     },
     "metadata": {},
     "output_type": "display_data"
    },
    {
     "data": {
      "text/html": [
       "<pre style=\"white-space:pre;overflow-x:auto;line-height:normal;font-family:Menlo,'DejaVu Sans Mono',consolas,'Courier New',monospace\">┏━━━━━━━┳━━━━━━━━━━━━┳━━━━━━━━━━┳━━━━━━━━━━━━━┳━━━━━━━━━━━━━┳━━━━━━━━━━━━━━━━━━━┳━━━━━━━━━━━━━━━━━━━┳━━━━━━━━━━┳━━━━━━━━━━━━━━━━┳━━━━━━━━━━━┳━━━━━━━━━┳━━━━━━━━┳━━━━━━━━━━━━━━━━┳━━━━━━━━━┳━━━━━━━━━━━━┳━━━━━━━━━━━━━━━━┳━━━━━━━━━━━━━━━━━━┳━━━━━━━━┳━━━━━━━━┳━━━━━━━━━━━━━━┳━━━━━━━━━━━━━━━━━┓\n",
       "┃<span style=\"font-weight: bold\"> year  </span>┃<span style=\"font-weight: bold\"> date       </span>┃<span style=\"font-weight: bold\"> state_po </span>┃<span style=\"font-weight: bold\"> county_name </span>┃<span style=\"font-weight: bold\"> county_fips </span>┃<span style=\"font-weight: bold\"> jurisdiction_name </span>┃<span style=\"font-weight: bold\"> jurisdiction_fips </span>┃<span style=\"font-weight: bold\"> district </span>┃<span style=\"font-weight: bold\"> office         </span>┃<span style=\"font-weight: bold\"> magnitude </span>┃<span style=\"font-weight: bold\"> special </span>┃<span style=\"font-weight: bold\"> stage  </span>┃<span style=\"font-weight: bold\"> precinct       </span>┃<span style=\"font-weight: bold\"> writein </span>┃<span style=\"font-weight: bold\"> candidate  </span>┃<span style=\"font-weight: bold\"> party_detailed </span>┃<span style=\"font-weight: bold\"> party_simplified </span>┃<span style=\"font-weight: bold\"> mode   </span>┃<span style=\"font-weight: bold\"> votes  </span>┃<span style=\"font-weight: bold\"> readme_check </span>┃<span style=\"font-weight: bold\"> n_per_candidate </span>┃\n",
       "┡━━━━━━━╇━━━━━━━━━━━━╇━━━━━━━━━━╇━━━━━━━━━━━━━╇━━━━━━━━━━━━━╇━━━━━━━━━━━━━━━━━━━╇━━━━━━━━━━━━━━━━━━━╇━━━━━━━━━━╇━━━━━━━━━━━━━━━━╇━━━━━━━━━━━╇━━━━━━━━━╇━━━━━━━━╇━━━━━━━━━━━━━━━━╇━━━━━━━━━╇━━━━━━━━━━━━╇━━━━━━━━━━━━━━━━╇━━━━━━━━━━━━━━━━━━╇━━━━━━━━╇━━━━━━━━╇━━━━━━━━━━━━━━╇━━━━━━━━━━━━━━━━━┩\n",
       "│ <span style=\"color: #7f7f7f; text-decoration-color: #7f7f7f\">int16</span> │ <span style=\"color: #7f7f7f; text-decoration-color: #7f7f7f\">date</span>       │ <span style=\"color: #7f7f7f; text-decoration-color: #7f7f7f\">string</span>   │ <span style=\"color: #7f7f7f; text-decoration-color: #7f7f7f\">string</span>      │ <span style=\"color: #7f7f7f; text-decoration-color: #7f7f7f\">string</span>      │ <span style=\"color: #7f7f7f; text-decoration-color: #7f7f7f\">string</span>            │ <span style=\"color: #7f7f7f; text-decoration-color: #7f7f7f\">string</span>            │ <span style=\"color: #7f7f7f; text-decoration-color: #7f7f7f\">string</span>   │ <span style=\"color: #7f7f7f; text-decoration-color: #7f7f7f\">string</span>         │ <span style=\"color: #7f7f7f; text-decoration-color: #7f7f7f\">int64</span>     │ <span style=\"color: #7f7f7f; text-decoration-color: #7f7f7f\">boolean</span> │ <span style=\"color: #7f7f7f; text-decoration-color: #7f7f7f\">string</span> │ <span style=\"color: #7f7f7f; text-decoration-color: #7f7f7f\">string</span>         │ <span style=\"color: #7f7f7f; text-decoration-color: #7f7f7f\">boolean</span> │ <span style=\"color: #7f7f7f; text-decoration-color: #7f7f7f\">string</span>     │ <span style=\"color: #7f7f7f; text-decoration-color: #7f7f7f\">string</span>         │ <span style=\"color: #7f7f7f; text-decoration-color: #7f7f7f\">string</span>           │ <span style=\"color: #7f7f7f; text-decoration-color: #7f7f7f\">string</span> │ <span style=\"color: #7f7f7f; text-decoration-color: #7f7f7f\">string</span> │ <span style=\"color: #7f7f7f; text-decoration-color: #7f7f7f\">boolean</span>      │ <span style=\"color: #7f7f7f; text-decoration-color: #7f7f7f\">int64</span>           │\n",
       "├───────┼────────────┼──────────┼─────────────┼─────────────┼───────────────────┼───────────────────┼──────────┼────────────────┼───────────┼─────────┼────────┼────────────────┼─────────┼────────────┼────────────────┼──────────────────┼────────┼────────┼──────────────┼─────────────────┤\n",
       "│  <span style=\"color: #008080; text-decoration-color: #008080; font-weight: bold\">2018</span> │ <span style=\"color: #800080; text-decoration-color: #800080\">2018-11-06</span> │ <span style=\"color: #008000; text-decoration-color: #008000\">IN      </span> │ <span style=\"color: #008000; text-decoration-color: #008000\">JOHNSON    </span> │ <span style=\"color: #008000; text-decoration-color: #008000\">18081      </span> │ <span style=\"color: #008000; text-decoration-color: #008000\">JOHNSON          </span> │ <span style=\"color: #008000; text-decoration-color: #008000\">18081            </span> │ <span style=\"color: #008000; text-decoration-color: #008000\">001     </span> │ <span style=\"color: #008000; text-decoration-color: #008000\">COUNTY COUNCIL</span> │      <span style=\"color: #7f7f7f; text-decoration-color: #7f7f7f\">NULL</span> │ False   │ <span style=\"color: #008000; text-decoration-color: #008000\">GEN   </span> │ <span style=\"color: #008000; text-decoration-color: #008000\">0033 NEEDHAM 2</span> │ False   │ <span style=\"color: #008000; text-decoration-color: #008000\">UNDERVOTES</span> │ <span style=\"color: #7f7f7f; text-decoration-color: #7f7f7f\">NULL</span>           │ <span style=\"color: #7f7f7f; text-decoration-color: #7f7f7f\">NULL</span>             │ <span style=\"color: #7f7f7f; text-decoration-color: #7f7f7f\">NULL</span>   │ <span style=\"color: #008000; text-decoration-color: #008000\">159   </span> │ True         │               <span style=\"color: #008080; text-decoration-color: #008080; font-weight: bold\">3</span> │\n",
       "│  <span style=\"color: #008080; text-decoration-color: #008080; font-weight: bold\">2018</span> │ <span style=\"color: #800080; text-decoration-color: #800080\">2018-11-06</span> │ <span style=\"color: #008000; text-decoration-color: #008000\">IN      </span> │ <span style=\"color: #008000; text-decoration-color: #008000\">JOHNSON    </span> │ <span style=\"color: #008000; text-decoration-color: #008000\">18081      </span> │ <span style=\"color: #008000; text-decoration-color: #008000\">JOHNSON          </span> │ <span style=\"color: #008000; text-decoration-color: #008000\">18081            </span> │ <span style=\"color: #008000; text-decoration-color: #008000\">001     </span> │ <span style=\"color: #008000; text-decoration-color: #008000\">COUNTY COUNCIL</span> │      <span style=\"color: #7f7f7f; text-decoration-color: #7f7f7f\">NULL</span> │ False   │ <span style=\"color: #008000; text-decoration-color: #008000\">GEN   </span> │ <span style=\"color: #008000; text-decoration-color: #008000\">0033 NEEDHAM 2</span> │ False   │ <span style=\"color: #008000; text-decoration-color: #008000\">UNDERVOTES</span> │ <span style=\"color: #7f7f7f; text-decoration-color: #7f7f7f\">NULL</span>           │ <span style=\"color: #7f7f7f; text-decoration-color: #7f7f7f\">NULL</span>             │ <span style=\"color: #7f7f7f; text-decoration-color: #7f7f7f\">NULL</span>   │ <span style=\"color: #008000; text-decoration-color: #008000\">154   </span> │ True         │               <span style=\"color: #008080; text-decoration-color: #008080; font-weight: bold\">3</span> │\n",
       "│  <span style=\"color: #008080; text-decoration-color: #008080; font-weight: bold\">2018</span> │ <span style=\"color: #800080; text-decoration-color: #800080\">2018-11-06</span> │ <span style=\"color: #008000; text-decoration-color: #008000\">IN      </span> │ <span style=\"color: #008000; text-decoration-color: #008000\">JOHNSON    </span> │ <span style=\"color: #008000; text-decoration-color: #008000\">18081      </span> │ <span style=\"color: #008000; text-decoration-color: #008000\">JOHNSON          </span> │ <span style=\"color: #008000; text-decoration-color: #008000\">18081            </span> │ <span style=\"color: #008000; text-decoration-color: #008000\">001     </span> │ <span style=\"color: #008000; text-decoration-color: #008000\">COUNTY COUNCIL</span> │      <span style=\"color: #7f7f7f; text-decoration-color: #7f7f7f\">NULL</span> │ False   │ <span style=\"color: #008000; text-decoration-color: #008000\">GEN   </span> │ <span style=\"color: #008000; text-decoration-color: #008000\">0033 NEEDHAM 2</span> │ False   │ <span style=\"color: #008000; text-decoration-color: #008000\">UNDERVOTES</span> │ <span style=\"color: #7f7f7f; text-decoration-color: #7f7f7f\">NULL</span>           │ <span style=\"color: #7f7f7f; text-decoration-color: #7f7f7f\">NULL</span>             │ <span style=\"color: #7f7f7f; text-decoration-color: #7f7f7f\">NULL</span>   │ <span style=\"color: #008000; text-decoration-color: #008000\">1092  </span> │ True         │               <span style=\"color: #008080; text-decoration-color: #008080; font-weight: bold\">3</span> │\n",
       "│  <span style=\"color: #008080; text-decoration-color: #008080; font-weight: bold\">2018</span> │ <span style=\"color: #800080; text-decoration-color: #800080\">2018-11-06</span> │ <span style=\"color: #008000; text-decoration-color: #008000\">IN      </span> │ <span style=\"color: #008000; text-decoration-color: #008000\">JOHNSON    </span> │ <span style=\"color: #008000; text-decoration-color: #008000\">18081      </span> │ <span style=\"color: #008000; text-decoration-color: #008000\">JOHNSON          </span> │ <span style=\"color: #008000; text-decoration-color: #008000\">18081            </span> │ <span style=\"color: #008000; text-decoration-color: #008000\">001     </span> │ <span style=\"color: #008000; text-decoration-color: #008000\">COUNTY COUNCIL</span> │      <span style=\"color: #7f7f7f; text-decoration-color: #7f7f7f\">NULL</span> │ False   │ <span style=\"color: #008000; text-decoration-color: #008000\">GEN   </span> │ <span style=\"color: #008000; text-decoration-color: #008000\">0034 NEEDHAM 3</span> │ False   │ <span style=\"color: #008000; text-decoration-color: #008000\">UNDERVOTES</span> │ <span style=\"color: #7f7f7f; text-decoration-color: #7f7f7f\">NULL</span>           │ <span style=\"color: #7f7f7f; text-decoration-color: #7f7f7f\">NULL</span>             │ <span style=\"color: #7f7f7f; text-decoration-color: #7f7f7f\">NULL</span>   │ <span style=\"color: #008000; text-decoration-color: #008000\">71    </span> │ True         │               <span style=\"color: #008080; text-decoration-color: #008080; font-weight: bold\">3</span> │\n",
       "│  <span style=\"color: #008080; text-decoration-color: #008080; font-weight: bold\">2018</span> │ <span style=\"color: #800080; text-decoration-color: #800080\">2018-11-06</span> │ <span style=\"color: #008000; text-decoration-color: #008000\">IN      </span> │ <span style=\"color: #008000; text-decoration-color: #008000\">JOHNSON    </span> │ <span style=\"color: #008000; text-decoration-color: #008000\">18081      </span> │ <span style=\"color: #008000; text-decoration-color: #008000\">JOHNSON          </span> │ <span style=\"color: #008000; text-decoration-color: #008000\">18081            </span> │ <span style=\"color: #008000; text-decoration-color: #008000\">001     </span> │ <span style=\"color: #008000; text-decoration-color: #008000\">COUNTY COUNCIL</span> │      <span style=\"color: #7f7f7f; text-decoration-color: #7f7f7f\">NULL</span> │ False   │ <span style=\"color: #008000; text-decoration-color: #008000\">GEN   </span> │ <span style=\"color: #008000; text-decoration-color: #008000\">0034 NEEDHAM 3</span> │ False   │ <span style=\"color: #008000; text-decoration-color: #008000\">UNDERVOTES</span> │ <span style=\"color: #7f7f7f; text-decoration-color: #7f7f7f\">NULL</span>           │ <span style=\"color: #7f7f7f; text-decoration-color: #7f7f7f\">NULL</span>             │ <span style=\"color: #7f7f7f; text-decoration-color: #7f7f7f\">NULL</span>   │ <span style=\"color: #008000; text-decoration-color: #008000\">61    </span> │ True         │               <span style=\"color: #008080; text-decoration-color: #008080; font-weight: bold\">3</span> │\n",
       "│  <span style=\"color: #008080; text-decoration-color: #008080; font-weight: bold\">2018</span> │ <span style=\"color: #800080; text-decoration-color: #800080\">2018-11-06</span> │ <span style=\"color: #008000; text-decoration-color: #008000\">IN      </span> │ <span style=\"color: #008000; text-decoration-color: #008000\">JOHNSON    </span> │ <span style=\"color: #008000; text-decoration-color: #008000\">18081      </span> │ <span style=\"color: #008000; text-decoration-color: #008000\">JOHNSON          </span> │ <span style=\"color: #008000; text-decoration-color: #008000\">18081            </span> │ <span style=\"color: #008000; text-decoration-color: #008000\">001     </span> │ <span style=\"color: #008000; text-decoration-color: #008000\">COUNTY COUNCIL</span> │      <span style=\"color: #7f7f7f; text-decoration-color: #7f7f7f\">NULL</span> │ False   │ <span style=\"color: #008000; text-decoration-color: #008000\">GEN   </span> │ <span style=\"color: #008000; text-decoration-color: #008000\">0034 NEEDHAM 3</span> │ False   │ <span style=\"color: #008000; text-decoration-color: #008000\">UNDERVOTES</span> │ <span style=\"color: #7f7f7f; text-decoration-color: #7f7f7f\">NULL</span>           │ <span style=\"color: #7f7f7f; text-decoration-color: #7f7f7f\">NULL</span>             │ <span style=\"color: #7f7f7f; text-decoration-color: #7f7f7f\">NULL</span>   │ <span style=\"color: #008000; text-decoration-color: #008000\">425   </span> │ True         │               <span style=\"color: #008080; text-decoration-color: #008080; font-weight: bold\">3</span> │\n",
       "│  <span style=\"color: #008080; text-decoration-color: #008080; font-weight: bold\">2018</span> │ <span style=\"color: #800080; text-decoration-color: #800080\">2018-11-06</span> │ <span style=\"color: #008000; text-decoration-color: #008000\">IN      </span> │ <span style=\"color: #008000; text-decoration-color: #008000\">JOHNSON    </span> │ <span style=\"color: #008000; text-decoration-color: #008000\">18081      </span> │ <span style=\"color: #008000; text-decoration-color: #008000\">JOHNSON          </span> │ <span style=\"color: #008000; text-decoration-color: #008000\">18081            </span> │ <span style=\"color: #008000; text-decoration-color: #008000\">001     </span> │ <span style=\"color: #008000; text-decoration-color: #008000\">COUNTY COUNCIL</span> │      <span style=\"color: #7f7f7f; text-decoration-color: #7f7f7f\">NULL</span> │ False   │ <span style=\"color: #008000; text-decoration-color: #008000\">GEN   </span> │ <span style=\"color: #008000; text-decoration-color: #008000\">0035 NEEDHAM 4</span> │ False   │ <span style=\"color: #008000; text-decoration-color: #008000\">UNDERVOTES</span> │ <span style=\"color: #7f7f7f; text-decoration-color: #7f7f7f\">NULL</span>           │ <span style=\"color: #7f7f7f; text-decoration-color: #7f7f7f\">NULL</span>             │ <span style=\"color: #7f7f7f; text-decoration-color: #7f7f7f\">NULL</span>   │ <span style=\"color: #008000; text-decoration-color: #008000\">754   </span> │ True         │               <span style=\"color: #008080; text-decoration-color: #008080; font-weight: bold\">3</span> │\n",
       "│  <span style=\"color: #008080; text-decoration-color: #008080; font-weight: bold\">2018</span> │ <span style=\"color: #800080; text-decoration-color: #800080\">2018-11-06</span> │ <span style=\"color: #008000; text-decoration-color: #008000\">IN      </span> │ <span style=\"color: #008000; text-decoration-color: #008000\">JOHNSON    </span> │ <span style=\"color: #008000; text-decoration-color: #008000\">18081      </span> │ <span style=\"color: #008000; text-decoration-color: #008000\">JOHNSON          </span> │ <span style=\"color: #008000; text-decoration-color: #008000\">18081            </span> │ <span style=\"color: #008000; text-decoration-color: #008000\">001     </span> │ <span style=\"color: #008000; text-decoration-color: #008000\">COUNTY COUNCIL</span> │      <span style=\"color: #7f7f7f; text-decoration-color: #7f7f7f\">NULL</span> │ False   │ <span style=\"color: #008000; text-decoration-color: #008000\">GEN   </span> │ <span style=\"color: #008000; text-decoration-color: #008000\">0035 NEEDHAM 4</span> │ False   │ <span style=\"color: #008000; text-decoration-color: #008000\">UNDERVOTES</span> │ <span style=\"color: #7f7f7f; text-decoration-color: #7f7f7f\">NULL</span>           │ <span style=\"color: #7f7f7f; text-decoration-color: #7f7f7f\">NULL</span>             │ <span style=\"color: #7f7f7f; text-decoration-color: #7f7f7f\">NULL</span>   │ <span style=\"color: #008000; text-decoration-color: #008000\">112   </span> │ True         │               <span style=\"color: #008080; text-decoration-color: #008080; font-weight: bold\">3</span> │\n",
       "│  <span style=\"color: #008080; text-decoration-color: #008080; font-weight: bold\">2018</span> │ <span style=\"color: #800080; text-decoration-color: #800080\">2018-11-06</span> │ <span style=\"color: #008000; text-decoration-color: #008000\">IN      </span> │ <span style=\"color: #008000; text-decoration-color: #008000\">JOHNSON    </span> │ <span style=\"color: #008000; text-decoration-color: #008000\">18081      </span> │ <span style=\"color: #008000; text-decoration-color: #008000\">JOHNSON          </span> │ <span style=\"color: #008000; text-decoration-color: #008000\">18081            </span> │ <span style=\"color: #008000; text-decoration-color: #008000\">001     </span> │ <span style=\"color: #008000; text-decoration-color: #008000\">COUNTY COUNCIL</span> │      <span style=\"color: #7f7f7f; text-decoration-color: #7f7f7f\">NULL</span> │ False   │ <span style=\"color: #008000; text-decoration-color: #008000\">GEN   </span> │ <span style=\"color: #008000; text-decoration-color: #008000\">0035 NEEDHAM 4</span> │ False   │ <span style=\"color: #008000; text-decoration-color: #008000\">UNDERVOTES</span> │ <span style=\"color: #7f7f7f; text-decoration-color: #7f7f7f\">NULL</span>           │ <span style=\"color: #7f7f7f; text-decoration-color: #7f7f7f\">NULL</span>             │ <span style=\"color: #7f7f7f; text-decoration-color: #7f7f7f\">NULL</span>   │ <span style=\"color: #008000; text-decoration-color: #008000\">108   </span> │ True         │               <span style=\"color: #008080; text-decoration-color: #008080; font-weight: bold\">3</span> │\n",
       "│  <span style=\"color: #008080; text-decoration-color: #008080; font-weight: bold\">2018</span> │ <span style=\"color: #800080; text-decoration-color: #800080\">2018-11-06</span> │ <span style=\"color: #008000; text-decoration-color: #008000\">IN      </span> │ <span style=\"color: #008000; text-decoration-color: #008000\">JOHNSON    </span> │ <span style=\"color: #008000; text-decoration-color: #008000\">18081      </span> │ <span style=\"color: #008000; text-decoration-color: #008000\">JOHNSON          </span> │ <span style=\"color: #008000; text-decoration-color: #008000\">18081            </span> │ <span style=\"color: #008000; text-decoration-color: #008000\">001     </span> │ <span style=\"color: #008000; text-decoration-color: #008000\">COUNTY COUNCIL</span> │      <span style=\"color: #7f7f7f; text-decoration-color: #7f7f7f\">NULL</span> │ False   │ <span style=\"color: #008000; text-decoration-color: #008000\">GEN   </span> │ <span style=\"color: #008000; text-decoration-color: #008000\">0036 NEEDHAM 5</span> │ False   │ <span style=\"color: #008000; text-decoration-color: #008000\">UNDERVOTES</span> │ <span style=\"color: #7f7f7f; text-decoration-color: #7f7f7f\">NULL</span>           │ <span style=\"color: #7f7f7f; text-decoration-color: #7f7f7f\">NULL</span>             │ <span style=\"color: #7f7f7f; text-decoration-color: #7f7f7f\">NULL</span>   │ <span style=\"color: #008000; text-decoration-color: #008000\">131   </span> │ True         │               <span style=\"color: #008080; text-decoration-color: #008080; font-weight: bold\">3</span> │\n",
       "│     <span style=\"color: #7f7f7f; text-decoration-color: #7f7f7f\">…</span> │ <span style=\"color: #7f7f7f; text-decoration-color: #7f7f7f\">…</span>          │ <span style=\"color: #7f7f7f; text-decoration-color: #7f7f7f\">…</span>        │ <span style=\"color: #7f7f7f; text-decoration-color: #7f7f7f\">…</span>           │ <span style=\"color: #7f7f7f; text-decoration-color: #7f7f7f\">…</span>           │ <span style=\"color: #7f7f7f; text-decoration-color: #7f7f7f\">…</span>                 │ <span style=\"color: #7f7f7f; text-decoration-color: #7f7f7f\">…</span>                 │ <span style=\"color: #7f7f7f; text-decoration-color: #7f7f7f\">…</span>        │ <span style=\"color: #7f7f7f; text-decoration-color: #7f7f7f\">…</span>              │         <span style=\"color: #7f7f7f; text-decoration-color: #7f7f7f\">…</span> │ <span style=\"color: #7f7f7f; text-decoration-color: #7f7f7f\">…</span>       │ <span style=\"color: #7f7f7f; text-decoration-color: #7f7f7f\">…</span>      │ <span style=\"color: #7f7f7f; text-decoration-color: #7f7f7f\">…</span>              │ <span style=\"color: #7f7f7f; text-decoration-color: #7f7f7f\">…</span>       │ <span style=\"color: #7f7f7f; text-decoration-color: #7f7f7f\">…</span>          │ <span style=\"color: #7f7f7f; text-decoration-color: #7f7f7f\">…</span>              │ <span style=\"color: #7f7f7f; text-decoration-color: #7f7f7f\">…</span>                │ <span style=\"color: #7f7f7f; text-decoration-color: #7f7f7f\">…</span>      │ <span style=\"color: #7f7f7f; text-decoration-color: #7f7f7f\">…</span>      │ <span style=\"color: #7f7f7f; text-decoration-color: #7f7f7f\">…</span>            │               <span style=\"color: #7f7f7f; text-decoration-color: #7f7f7f\">…</span> │\n",
       "└───────┴────────────┴──────────┴─────────────┴─────────────┴───────────────────┴───────────────────┴──────────┴────────────────┴───────────┴─────────┴────────┴────────────────┴─────────┴────────────┴────────────────┴──────────────────┴────────┴────────┴──────────────┴─────────────────┘\n",
       "</pre>\n"
      ],
      "text/plain": [
       "┏━━━━━━━┳━━━━━━━━━━━━┳━━━━━━━━━━┳━━━━━━━━━━━━━┳━━━━━━━━━━━━━┳━━━━━━━━━━━━━━━━━━━┳━━━━━━━━━━━━━━━━━━━┳━━━━━━━━━━┳━━━━━━━━━━━━━━━━┳━━━━━━━━━━━┳━━━━━━━━━┳━━━━━━━━┳━━━━━━━━━━━━━━━━┳━━━━━━━━━┳━━━━━━━━━━━━┳━━━━━━━━━━━━━━━━┳━━━━━━━━━━━━━━━━━━┳━━━━━━━━┳━━━━━━━━┳━━━━━━━━━━━━━━┳━━━━━━━━━━━━━━━━━┓\n",
       "┃\u001b[1m \u001b[0m\u001b[1myear\u001b[0m\u001b[1m \u001b[0m\u001b[1m \u001b[0m┃\u001b[1m \u001b[0m\u001b[1mdate\u001b[0m\u001b[1m      \u001b[0m\u001b[1m \u001b[0m┃\u001b[1m \u001b[0m\u001b[1mstate_po\u001b[0m\u001b[1m \u001b[0m┃\u001b[1m \u001b[0m\u001b[1mcounty_name\u001b[0m\u001b[1m \u001b[0m┃\u001b[1m \u001b[0m\u001b[1mcounty_fips\u001b[0m\u001b[1m \u001b[0m┃\u001b[1m \u001b[0m\u001b[1mjurisdiction_name\u001b[0m\u001b[1m \u001b[0m┃\u001b[1m \u001b[0m\u001b[1mjurisdiction_fips\u001b[0m\u001b[1m \u001b[0m┃\u001b[1m \u001b[0m\u001b[1mdistrict\u001b[0m\u001b[1m \u001b[0m┃\u001b[1m \u001b[0m\u001b[1moffice\u001b[0m\u001b[1m        \u001b[0m\u001b[1m \u001b[0m┃\u001b[1m \u001b[0m\u001b[1mmagnitude\u001b[0m\u001b[1m \u001b[0m┃\u001b[1m \u001b[0m\u001b[1mspecial\u001b[0m\u001b[1m \u001b[0m┃\u001b[1m \u001b[0m\u001b[1mstage\u001b[0m\u001b[1m \u001b[0m\u001b[1m \u001b[0m┃\u001b[1m \u001b[0m\u001b[1mprecinct\u001b[0m\u001b[1m      \u001b[0m\u001b[1m \u001b[0m┃\u001b[1m \u001b[0m\u001b[1mwritein\u001b[0m\u001b[1m \u001b[0m┃\u001b[1m \u001b[0m\u001b[1mcandidate\u001b[0m\u001b[1m \u001b[0m\u001b[1m \u001b[0m┃\u001b[1m \u001b[0m\u001b[1mparty_detailed\u001b[0m\u001b[1m \u001b[0m┃\u001b[1m \u001b[0m\u001b[1mparty_simplified\u001b[0m\u001b[1m \u001b[0m┃\u001b[1m \u001b[0m\u001b[1mmode\u001b[0m\u001b[1m  \u001b[0m\u001b[1m \u001b[0m┃\u001b[1m \u001b[0m\u001b[1mvotes\u001b[0m\u001b[1m \u001b[0m\u001b[1m \u001b[0m┃\u001b[1m \u001b[0m\u001b[1mreadme_check\u001b[0m\u001b[1m \u001b[0m┃\u001b[1m \u001b[0m\u001b[1mn_per_candidate\u001b[0m\u001b[1m \u001b[0m┃\n",
       "┡━━━━━━━╇━━━━━━━━━━━━╇━━━━━━━━━━╇━━━━━━━━━━━━━╇━━━━━━━━━━━━━╇━━━━━━━━━━━━━━━━━━━╇━━━━━━━━━━━━━━━━━━━╇━━━━━━━━━━╇━━━━━━━━━━━━━━━━╇━━━━━━━━━━━╇━━━━━━━━━╇━━━━━━━━╇━━━━━━━━━━━━━━━━╇━━━━━━━━━╇━━━━━━━━━━━━╇━━━━━━━━━━━━━━━━╇━━━━━━━━━━━━━━━━━━╇━━━━━━━━╇━━━━━━━━╇━━━━━━━━━━━━━━╇━━━━━━━━━━━━━━━━━┩\n",
       "│ \u001b[2mint16\u001b[0m │ \u001b[2mdate\u001b[0m       │ \u001b[2mstring\u001b[0m   │ \u001b[2mstring\u001b[0m      │ \u001b[2mstring\u001b[0m      │ \u001b[2mstring\u001b[0m            │ \u001b[2mstring\u001b[0m            │ \u001b[2mstring\u001b[0m   │ \u001b[2mstring\u001b[0m         │ \u001b[2mint64\u001b[0m     │ \u001b[2mboolean\u001b[0m │ \u001b[2mstring\u001b[0m │ \u001b[2mstring\u001b[0m         │ \u001b[2mboolean\u001b[0m │ \u001b[2mstring\u001b[0m     │ \u001b[2mstring\u001b[0m         │ \u001b[2mstring\u001b[0m           │ \u001b[2mstring\u001b[0m │ \u001b[2mstring\u001b[0m │ \u001b[2mboolean\u001b[0m      │ \u001b[2mint64\u001b[0m           │\n",
       "├───────┼────────────┼──────────┼─────────────┼─────────────┼───────────────────┼───────────────────┼──────────┼────────────────┼───────────┼─────────┼────────┼────────────────┼─────────┼────────────┼────────────────┼──────────────────┼────────┼────────┼──────────────┼─────────────────┤\n",
       "│  \u001b[1;36m2018\u001b[0m │ \u001b[35m2018-11-06\u001b[0m │ \u001b[32mIN      \u001b[0m │ \u001b[32mJOHNSON    \u001b[0m │ \u001b[32m18081      \u001b[0m │ \u001b[32mJOHNSON          \u001b[0m │ \u001b[32m18081            \u001b[0m │ \u001b[32m001     \u001b[0m │ \u001b[32mCOUNTY COUNCIL\u001b[0m │      \u001b[2mNULL\u001b[0m │ False   │ \u001b[32mGEN   \u001b[0m │ \u001b[32m0033 NEEDHAM 2\u001b[0m │ False   │ \u001b[32mUNDERVOTES\u001b[0m │ \u001b[2mNULL\u001b[0m           │ \u001b[2mNULL\u001b[0m             │ \u001b[2mNULL\u001b[0m   │ \u001b[32m159   \u001b[0m │ True         │               \u001b[1;36m3\u001b[0m │\n",
       "│  \u001b[1;36m2018\u001b[0m │ \u001b[35m2018-11-06\u001b[0m │ \u001b[32mIN      \u001b[0m │ \u001b[32mJOHNSON    \u001b[0m │ \u001b[32m18081      \u001b[0m │ \u001b[32mJOHNSON          \u001b[0m │ \u001b[32m18081            \u001b[0m │ \u001b[32m001     \u001b[0m │ \u001b[32mCOUNTY COUNCIL\u001b[0m │      \u001b[2mNULL\u001b[0m │ False   │ \u001b[32mGEN   \u001b[0m │ \u001b[32m0033 NEEDHAM 2\u001b[0m │ False   │ \u001b[32mUNDERVOTES\u001b[0m │ \u001b[2mNULL\u001b[0m           │ \u001b[2mNULL\u001b[0m             │ \u001b[2mNULL\u001b[0m   │ \u001b[32m154   \u001b[0m │ True         │               \u001b[1;36m3\u001b[0m │\n",
       "│  \u001b[1;36m2018\u001b[0m │ \u001b[35m2018-11-06\u001b[0m │ \u001b[32mIN      \u001b[0m │ \u001b[32mJOHNSON    \u001b[0m │ \u001b[32m18081      \u001b[0m │ \u001b[32mJOHNSON          \u001b[0m │ \u001b[32m18081            \u001b[0m │ \u001b[32m001     \u001b[0m │ \u001b[32mCOUNTY COUNCIL\u001b[0m │      \u001b[2mNULL\u001b[0m │ False   │ \u001b[32mGEN   \u001b[0m │ \u001b[32m0033 NEEDHAM 2\u001b[0m │ False   │ \u001b[32mUNDERVOTES\u001b[0m │ \u001b[2mNULL\u001b[0m           │ \u001b[2mNULL\u001b[0m             │ \u001b[2mNULL\u001b[0m   │ \u001b[32m1092  \u001b[0m │ True         │               \u001b[1;36m3\u001b[0m │\n",
       "│  \u001b[1;36m2018\u001b[0m │ \u001b[35m2018-11-06\u001b[0m │ \u001b[32mIN      \u001b[0m │ \u001b[32mJOHNSON    \u001b[0m │ \u001b[32m18081      \u001b[0m │ \u001b[32mJOHNSON          \u001b[0m │ \u001b[32m18081            \u001b[0m │ \u001b[32m001     \u001b[0m │ \u001b[32mCOUNTY COUNCIL\u001b[0m │      \u001b[2mNULL\u001b[0m │ False   │ \u001b[32mGEN   \u001b[0m │ \u001b[32m0034 NEEDHAM 3\u001b[0m │ False   │ \u001b[32mUNDERVOTES\u001b[0m │ \u001b[2mNULL\u001b[0m           │ \u001b[2mNULL\u001b[0m             │ \u001b[2mNULL\u001b[0m   │ \u001b[32m71    \u001b[0m │ True         │               \u001b[1;36m3\u001b[0m │\n",
       "│  \u001b[1;36m2018\u001b[0m │ \u001b[35m2018-11-06\u001b[0m │ \u001b[32mIN      \u001b[0m │ \u001b[32mJOHNSON    \u001b[0m │ \u001b[32m18081      \u001b[0m │ \u001b[32mJOHNSON          \u001b[0m │ \u001b[32m18081            \u001b[0m │ \u001b[32m001     \u001b[0m │ \u001b[32mCOUNTY COUNCIL\u001b[0m │      \u001b[2mNULL\u001b[0m │ False   │ \u001b[32mGEN   \u001b[0m │ \u001b[32m0034 NEEDHAM 3\u001b[0m │ False   │ \u001b[32mUNDERVOTES\u001b[0m │ \u001b[2mNULL\u001b[0m           │ \u001b[2mNULL\u001b[0m             │ \u001b[2mNULL\u001b[0m   │ \u001b[32m61    \u001b[0m │ True         │               \u001b[1;36m3\u001b[0m │\n",
       "│  \u001b[1;36m2018\u001b[0m │ \u001b[35m2018-11-06\u001b[0m │ \u001b[32mIN      \u001b[0m │ \u001b[32mJOHNSON    \u001b[0m │ \u001b[32m18081      \u001b[0m │ \u001b[32mJOHNSON          \u001b[0m │ \u001b[32m18081            \u001b[0m │ \u001b[32m001     \u001b[0m │ \u001b[32mCOUNTY COUNCIL\u001b[0m │      \u001b[2mNULL\u001b[0m │ False   │ \u001b[32mGEN   \u001b[0m │ \u001b[32m0034 NEEDHAM 3\u001b[0m │ False   │ \u001b[32mUNDERVOTES\u001b[0m │ \u001b[2mNULL\u001b[0m           │ \u001b[2mNULL\u001b[0m             │ \u001b[2mNULL\u001b[0m   │ \u001b[32m425   \u001b[0m │ True         │               \u001b[1;36m3\u001b[0m │\n",
       "│  \u001b[1;36m2018\u001b[0m │ \u001b[35m2018-11-06\u001b[0m │ \u001b[32mIN      \u001b[0m │ \u001b[32mJOHNSON    \u001b[0m │ \u001b[32m18081      \u001b[0m │ \u001b[32mJOHNSON          \u001b[0m │ \u001b[32m18081            \u001b[0m │ \u001b[32m001     \u001b[0m │ \u001b[32mCOUNTY COUNCIL\u001b[0m │      \u001b[2mNULL\u001b[0m │ False   │ \u001b[32mGEN   \u001b[0m │ \u001b[32m0035 NEEDHAM 4\u001b[0m │ False   │ \u001b[32mUNDERVOTES\u001b[0m │ \u001b[2mNULL\u001b[0m           │ \u001b[2mNULL\u001b[0m             │ \u001b[2mNULL\u001b[0m   │ \u001b[32m754   \u001b[0m │ True         │               \u001b[1;36m3\u001b[0m │\n",
       "│  \u001b[1;36m2018\u001b[0m │ \u001b[35m2018-11-06\u001b[0m │ \u001b[32mIN      \u001b[0m │ \u001b[32mJOHNSON    \u001b[0m │ \u001b[32m18081      \u001b[0m │ \u001b[32mJOHNSON          \u001b[0m │ \u001b[32m18081            \u001b[0m │ \u001b[32m001     \u001b[0m │ \u001b[32mCOUNTY COUNCIL\u001b[0m │      \u001b[2mNULL\u001b[0m │ False   │ \u001b[32mGEN   \u001b[0m │ \u001b[32m0035 NEEDHAM 4\u001b[0m │ False   │ \u001b[32mUNDERVOTES\u001b[0m │ \u001b[2mNULL\u001b[0m           │ \u001b[2mNULL\u001b[0m             │ \u001b[2mNULL\u001b[0m   │ \u001b[32m112   \u001b[0m │ True         │               \u001b[1;36m3\u001b[0m │\n",
       "│  \u001b[1;36m2018\u001b[0m │ \u001b[35m2018-11-06\u001b[0m │ \u001b[32mIN      \u001b[0m │ \u001b[32mJOHNSON    \u001b[0m │ \u001b[32m18081      \u001b[0m │ \u001b[32mJOHNSON          \u001b[0m │ \u001b[32m18081            \u001b[0m │ \u001b[32m001     \u001b[0m │ \u001b[32mCOUNTY COUNCIL\u001b[0m │      \u001b[2mNULL\u001b[0m │ False   │ \u001b[32mGEN   \u001b[0m │ \u001b[32m0035 NEEDHAM 4\u001b[0m │ False   │ \u001b[32mUNDERVOTES\u001b[0m │ \u001b[2mNULL\u001b[0m           │ \u001b[2mNULL\u001b[0m             │ \u001b[2mNULL\u001b[0m   │ \u001b[32m108   \u001b[0m │ True         │               \u001b[1;36m3\u001b[0m │\n",
       "│  \u001b[1;36m2018\u001b[0m │ \u001b[35m2018-11-06\u001b[0m │ \u001b[32mIN      \u001b[0m │ \u001b[32mJOHNSON    \u001b[0m │ \u001b[32m18081      \u001b[0m │ \u001b[32mJOHNSON          \u001b[0m │ \u001b[32m18081            \u001b[0m │ \u001b[32m001     \u001b[0m │ \u001b[32mCOUNTY COUNCIL\u001b[0m │      \u001b[2mNULL\u001b[0m │ False   │ \u001b[32mGEN   \u001b[0m │ \u001b[32m0036 NEEDHAM 5\u001b[0m │ False   │ \u001b[32mUNDERVOTES\u001b[0m │ \u001b[2mNULL\u001b[0m           │ \u001b[2mNULL\u001b[0m             │ \u001b[2mNULL\u001b[0m   │ \u001b[32m131   \u001b[0m │ True         │               \u001b[1;36m3\u001b[0m │\n",
       "│     \u001b[2m…\u001b[0m │ \u001b[2m…\u001b[0m          │ \u001b[2m…\u001b[0m        │ \u001b[2m…\u001b[0m           │ \u001b[2m…\u001b[0m           │ \u001b[2m…\u001b[0m                 │ \u001b[2m…\u001b[0m                 │ \u001b[2m…\u001b[0m        │ \u001b[2m…\u001b[0m              │         \u001b[2m…\u001b[0m │ \u001b[2m…\u001b[0m       │ \u001b[2m…\u001b[0m      │ \u001b[2m…\u001b[0m              │ \u001b[2m…\u001b[0m       │ \u001b[2m…\u001b[0m          │ \u001b[2m…\u001b[0m              │ \u001b[2m…\u001b[0m                │ \u001b[2m…\u001b[0m      │ \u001b[2m…\u001b[0m      │ \u001b[2m…\u001b[0m            │               \u001b[2m…\u001b[0m │\n",
       "└───────┴────────────┴──────────┴─────────────┴─────────────┴───────────────────┴───────────────────┴──────────┴────────────────┴───────────┴─────────┴────────┴────────────────┴─────────┴────────────┴────────────────┴──────────────────┴────────┴────────┴──────────────┴─────────────────┘"
      ]
     },
     "execution_count": 19,
     "metadata": {},
     "output_type": "execute_result"
    }
   ],
   "source": [
    "def add_n_rows_per_cand(t):\n",
    "    return (\n",
    "        t.group_by(\n",
    "            _.year,\n",
    "            _.state_po,\n",
    "            _.office,\n",
    "            _.district,\n",
    "            _.county_name,\n",
    "            _.precinct,\n",
    "            _.candidate,\n",
    "        )\n",
    "        .mutate(\n",
    "            n_per_candidate=_.count(),\n",
    "        )\n",
    "        .order_by(\n",
    "            _.n_per_candidate.desc(),\n",
    "        )\n",
    "    )\n",
    "\n",
    "\n",
    "add_n_rows_per_cand(t).filter(_.mode.isnull())"
   ]
  },
  {
   "cell_type": "code",
   "execution_count": 20,
   "metadata": {},
   "outputs": [
    {
     "data": {
      "application/vnd.jupyter.widget-view+json": {
       "model_id": "c59cd7bcb9714cad97b0f863b9a5cfc3",
       "version_major": 2,
       "version_minor": 0
      },
      "text/plain": [
       "FloatProgress(value=0.0, layout=Layout(width='auto'), style=ProgressStyle(bar_color='black'))"
      ]
     },
     "metadata": {},
     "output_type": "display_data"
    },
    {
     "data": {
      "text/html": [
       "<pre style=\"white-space:pre;overflow-x:auto;line-height:normal;font-family:Menlo,'DejaVu Sans Mono',consolas,'Courier New',monospace\">┏━━━━━━━━━━┳━━━━━━━━━━━━━┓\n",
       "┃<span style=\"font-weight: bold\"> state_po </span>┃<span style=\"font-weight: bold\"> CountStar() </span>┃\n",
       "┡━━━━━━━━━━╇━━━━━━━━━━━━━┩\n",
       "│ <span style=\"color: #7f7f7f; text-decoration-color: #7f7f7f\">string</span>   │ <span style=\"color: #7f7f7f; text-decoration-color: #7f7f7f\">int64</span>       │\n",
       "├──────────┼─────────────┤\n",
       "│ <span style=\"color: #008000; text-decoration-color: #008000\">IN      </span> │          <span style=\"color: #008080; text-decoration-color: #008080; font-weight: bold\">17</span> │\n",
       "└──────────┴─────────────┘\n",
       "</pre>\n"
      ],
      "text/plain": [
       "┏━━━━━━━━━━┳━━━━━━━━━━━━━┓\n",
       "┃\u001b[1m \u001b[0m\u001b[1mstate_po\u001b[0m\u001b[1m \u001b[0m┃\u001b[1m \u001b[0m\u001b[1mCountStar()\u001b[0m\u001b[1m \u001b[0m┃\n",
       "┡━━━━━━━━━━╇━━━━━━━━━━━━━┩\n",
       "│ \u001b[2mstring\u001b[0m   │ \u001b[2mint64\u001b[0m       │\n",
       "├──────────┼─────────────┤\n",
       "│ \u001b[32mIN      \u001b[0m │          \u001b[1;36m17\u001b[0m │\n",
       "└──────────┴─────────────┘"
      ]
     },
     "execution_count": 20,
     "metadata": {},
     "output_type": "execute_result"
    }
   ],
   "source": [
    "# OK, that looks like all the mode=NULL rows should actually be \"TOTAL\",\n",
    "# there is only one row per candidate per precinct. If a candidate\n",
    "# had more than one row per precinct, then one of them might be TOTAL,\n",
    "# and the rest would be something else. But that's not the case here.\n",
    "fixable = ibis.and_(\n",
    "    _.mode.isnull(),\n",
    "    _.n_per_candidate == 1,\n",
    ")\n",
    "t = (\n",
    "    add_n_rows_per_cand(t)\n",
    "    .mutate(mode=fixable.ifelse(\"TOTAL\", _.mode))\n",
    "    .drop(\"n_per_candidate\")\n",
    ")\n",
    "t = t.cache()\n",
    "t.filter(\n",
    "    _.mode.isnull(),\n",
    ").state_po.topk(10)"
   ]
  },
  {
   "cell_type": "markdown",
   "metadata": {},
   "source": [
    "## Fixup Writein"
   ]
  },
  {
   "cell_type": "code",
   "execution_count": 21,
   "metadata": {},
   "outputs": [
    {
     "data": {
      "application/vnd.jupyter.widget-view+json": {
       "model_id": "80decba5e5b047c985f3daf12820e61a",
       "version_major": 2,
       "version_minor": 0
      },
      "text/plain": [
       "FloatProgress(value=0.0, layout=Layout(width='auto'), style=ProgressStyle(bar_color='black'))"
      ]
     },
     "metadata": {},
     "output_type": "display_data"
    }
   ],
   "source": [
    "t = t.mutate(\n",
    "    writein=(_.candidate == \"WRITEIN\").ifelse(True, _.writein),\n",
    ")\n",
    "tests.test_candidate(t)"
   ]
  },
  {
   "cell_type": "markdown",
   "metadata": {},
   "source": [
    "## Save to file"
   ]
  },
  {
   "cell_type": "code",
   "execution_count": 22,
   "metadata": {},
   "outputs": [
    {
     "data": {
      "application/vnd.jupyter.widget-view+json": {
       "model_id": "c1388ea8329f474ea039257a93d16868",
       "version_major": 2,
       "version_minor": 0
      },
      "text/plain": [
       "FloatProgress(value=0.0, layout=Layout(width='auto'), style=ProgressStyle(bar_color='black'))"
      ]
     },
     "metadata": {},
     "output_type": "display_data"
    },
    {
     "data": {
      "text/html": [
       "<pre style=\"white-space:pre;overflow-x:auto;line-height:normal;font-family:Menlo,'DejaVu Sans Mono',consolas,'Courier New',monospace\">┏━━━━━━━┳━━━━━━━━━━━━┳━━━━━━━━━━┳━━━━━━━━━━━━━┳━━━━━━━━━━━━━┳━━━━━━━━━━━━━━━━━━━┳━━━━━━━━━━━━━━━━━━━┳━━━━━━━━━━━┳━━━━━━━━━━━━━━━━━━━━━━━━━━━━━━━┳━━━━━━━━━━━┳━━━━━━━━━┳━━━━━━━━┳━━━━━━━━━━━━━━━━━━━━━━━━┳━━━━━━━━━┳━━━━━━━━━━━┳━━━━━━━━━━━━━━━━┳━━━━━━━━━━━━━━━━━━┳━━━━━━━━━━━━━━┳━━━━━━━━┳━━━━━━━━━━━━━━┓\n",
       "┃<span style=\"font-weight: bold\"> year  </span>┃<span style=\"font-weight: bold\"> date       </span>┃<span style=\"font-weight: bold\"> state_po </span>┃<span style=\"font-weight: bold\"> county_name </span>┃<span style=\"font-weight: bold\"> county_fips </span>┃<span style=\"font-weight: bold\"> jurisdiction_name </span>┃<span style=\"font-weight: bold\"> jurisdiction_fips </span>┃<span style=\"font-weight: bold\"> district  </span>┃<span style=\"font-weight: bold\"> office                        </span>┃<span style=\"font-weight: bold\"> magnitude </span>┃<span style=\"font-weight: bold\"> special </span>┃<span style=\"font-weight: bold\"> stage  </span>┃<span style=\"font-weight: bold\"> precinct               </span>┃<span style=\"font-weight: bold\"> writein </span>┃<span style=\"font-weight: bold\"> candidate </span>┃<span style=\"font-weight: bold\"> party_detailed </span>┃<span style=\"font-weight: bold\"> party_simplified </span>┃<span style=\"font-weight: bold\"> mode         </span>┃<span style=\"font-weight: bold\"> votes  </span>┃<span style=\"font-weight: bold\"> readme_check </span>┃\n",
       "┡━━━━━━━╇━━━━━━━━━━━━╇━━━━━━━━━━╇━━━━━━━━━━━━━╇━━━━━━━━━━━━━╇━━━━━━━━━━━━━━━━━━━╇━━━━━━━━━━━━━━━━━━━╇━━━━━━━━━━━╇━━━━━━━━━━━━━━━━━━━━━━━━━━━━━━━╇━━━━━━━━━━━╇━━━━━━━━━╇━━━━━━━━╇━━━━━━━━━━━━━━━━━━━━━━━━╇━━━━━━━━━╇━━━━━━━━━━━╇━━━━━━━━━━━━━━━━╇━━━━━━━━━━━━━━━━━━╇━━━━━━━━━━━━━━╇━━━━━━━━╇━━━━━━━━━━━━━━┩\n",
       "│ <span style=\"color: #7f7f7f; text-decoration-color: #7f7f7f\">int16</span> │ <span style=\"color: #7f7f7f; text-decoration-color: #7f7f7f\">date</span>       │ <span style=\"color: #7f7f7f; text-decoration-color: #7f7f7f\">string</span>   │ <span style=\"color: #7f7f7f; text-decoration-color: #7f7f7f\">string</span>      │ <span style=\"color: #7f7f7f; text-decoration-color: #7f7f7f\">string</span>      │ <span style=\"color: #7f7f7f; text-decoration-color: #7f7f7f\">string</span>            │ <span style=\"color: #7f7f7f; text-decoration-color: #7f7f7f\">string</span>            │ <span style=\"color: #7f7f7f; text-decoration-color: #7f7f7f\">string</span>    │ <span style=\"color: #7f7f7f; text-decoration-color: #7f7f7f\">string</span>                        │ <span style=\"color: #7f7f7f; text-decoration-color: #7f7f7f\">int64</span>     │ <span style=\"color: #7f7f7f; text-decoration-color: #7f7f7f\">boolean</span> │ <span style=\"color: #7f7f7f; text-decoration-color: #7f7f7f\">string</span> │ <span style=\"color: #7f7f7f; text-decoration-color: #7f7f7f\">string</span>                 │ <span style=\"color: #7f7f7f; text-decoration-color: #7f7f7f\">boolean</span> │ <span style=\"color: #7f7f7f; text-decoration-color: #7f7f7f\">string</span>    │ <span style=\"color: #7f7f7f; text-decoration-color: #7f7f7f\">string</span>         │ <span style=\"color: #7f7f7f; text-decoration-color: #7f7f7f\">string</span>           │ <span style=\"color: #7f7f7f; text-decoration-color: #7f7f7f\">string</span>       │ <span style=\"color: #7f7f7f; text-decoration-color: #7f7f7f\">string</span> │ <span style=\"color: #7f7f7f; text-decoration-color: #7f7f7f\">boolean</span>      │\n",
       "├───────┼────────────┼──────────┼─────────────┼─────────────┼───────────────────┼───────────────────┼───────────┼───────────────────────────────┼───────────┼─────────┼────────┼────────────────────────┼─────────┼───────────┼────────────────┼──────────────────┼──────────────┼────────┼──────────────┤\n",
       "│  <span style=\"color: #008080; text-decoration-color: #008080; font-weight: bold\">2018</span> │ <span style=\"color: #800080; text-decoration-color: #800080\">2018-11-06</span> │ <span style=\"color: #008000; text-decoration-color: #008000\">AK      </span> │ <span style=\"color: #7f7f7f; text-decoration-color: #7f7f7f\">NULL</span>        │ <span style=\"color: #7f7f7f; text-decoration-color: #7f7f7f\">NULL</span>        │ <span style=\"color: #008000; text-decoration-color: #008000\">DISTRICT 1       </span> │ <span style=\"color: #008000; text-decoration-color: #008000\">02001            </span> │ <span style=\"color: #008000; text-decoration-color: #008000\">STATEWIDE</span> │ <span style=\"color: #008000; text-decoration-color: #008000\">BALLOT MEASURE NO. 1 - 17FSH2</span> │         <span style=\"color: #008080; text-decoration-color: #008080; font-weight: bold\">1</span> │ False   │ <span style=\"color: #008000; text-decoration-color: #008000\">GEN   </span> │ <span style=\"color: #008000; text-decoration-color: #008000\">01-446 AURORA         </span> │ False   │ <span style=\"color: #008000; text-decoration-color: #008000\">NO       </span> │ <span style=\"color: #7f7f7f; text-decoration-color: #7f7f7f\">NULL</span>           │ <span style=\"color: #7f7f7f; text-decoration-color: #7f7f7f\">NULL</span>             │ <span style=\"color: #008000; text-decoration-color: #008000\">ELECTION DAY</span> │ <span style=\"color: #008000; text-decoration-color: #008000\">570   </span> │ False        │\n",
       "│  <span style=\"color: #008080; text-decoration-color: #008080; font-weight: bold\">2018</span> │ <span style=\"color: #800080; text-decoration-color: #800080\">2018-11-06</span> │ <span style=\"color: #008000; text-decoration-color: #008000\">AK      </span> │ <span style=\"color: #7f7f7f; text-decoration-color: #7f7f7f\">NULL</span>        │ <span style=\"color: #7f7f7f; text-decoration-color: #7f7f7f\">NULL</span>        │ <span style=\"color: #008000; text-decoration-color: #008000\">DISTRICT 1       </span> │ <span style=\"color: #008000; text-decoration-color: #008000\">02001            </span> │ <span style=\"color: #008000; text-decoration-color: #008000\">STATEWIDE</span> │ <span style=\"color: #008000; text-decoration-color: #008000\">BALLOT MEASURE NO. 1 - 17FSH2</span> │         <span style=\"color: #008080; text-decoration-color: #008080; font-weight: bold\">1</span> │ False   │ <span style=\"color: #008000; text-decoration-color: #008000\">GEN   </span> │ <span style=\"color: #008000; text-decoration-color: #008000\">01-446 AURORA         </span> │ False   │ <span style=\"color: #008000; text-decoration-color: #008000\">YES      </span> │ <span style=\"color: #7f7f7f; text-decoration-color: #7f7f7f\">NULL</span>           │ <span style=\"color: #7f7f7f; text-decoration-color: #7f7f7f\">NULL</span>             │ <span style=\"color: #008000; text-decoration-color: #008000\">ELECTION DAY</span> │ <span style=\"color: #008000; text-decoration-color: #008000\">274   </span> │ False        │\n",
       "│  <span style=\"color: #008080; text-decoration-color: #008080; font-weight: bold\">2018</span> │ <span style=\"color: #800080; text-decoration-color: #800080\">2018-11-06</span> │ <span style=\"color: #008000; text-decoration-color: #008000\">AK      </span> │ <span style=\"color: #7f7f7f; text-decoration-color: #7f7f7f\">NULL</span>        │ <span style=\"color: #7f7f7f; text-decoration-color: #7f7f7f\">NULL</span>        │ <span style=\"color: #008000; text-decoration-color: #008000\">DISTRICT 1       </span> │ <span style=\"color: #008000; text-decoration-color: #008000\">02001            </span> │ <span style=\"color: #008000; text-decoration-color: #008000\">STATEWIDE</span> │ <span style=\"color: #008000; text-decoration-color: #008000\">BALLOT MEASURE NO. 1 - 17FSH2</span> │         <span style=\"color: #008080; text-decoration-color: #008080; font-weight: bold\">1</span> │ False   │ <span style=\"color: #008000; text-decoration-color: #008000\">GEN   </span> │ <span style=\"color: #008000; text-decoration-color: #008000\">01-455 FAIRBANKS NO. 1</span> │ False   │ <span style=\"color: #008000; text-decoration-color: #008000\">NO       </span> │ <span style=\"color: #7f7f7f; text-decoration-color: #7f7f7f\">NULL</span>           │ <span style=\"color: #7f7f7f; text-decoration-color: #7f7f7f\">NULL</span>             │ <span style=\"color: #008000; text-decoration-color: #008000\">ELECTION DAY</span> │ <span style=\"color: #008000; text-decoration-color: #008000\">99    </span> │ False        │\n",
       "│  <span style=\"color: #008080; text-decoration-color: #008080; font-weight: bold\">2018</span> │ <span style=\"color: #800080; text-decoration-color: #800080\">2018-11-06</span> │ <span style=\"color: #008000; text-decoration-color: #008000\">AK      </span> │ <span style=\"color: #7f7f7f; text-decoration-color: #7f7f7f\">NULL</span>        │ <span style=\"color: #7f7f7f; text-decoration-color: #7f7f7f\">NULL</span>        │ <span style=\"color: #008000; text-decoration-color: #008000\">DISTRICT 1       </span> │ <span style=\"color: #008000; text-decoration-color: #008000\">02001            </span> │ <span style=\"color: #008000; text-decoration-color: #008000\">STATEWIDE</span> │ <span style=\"color: #008000; text-decoration-color: #008000\">BALLOT MEASURE NO. 1 - 17FSH2</span> │         <span style=\"color: #008080; text-decoration-color: #008080; font-weight: bold\">1</span> │ False   │ <span style=\"color: #008000; text-decoration-color: #008000\">GEN   </span> │ <span style=\"color: #008000; text-decoration-color: #008000\">01-455 FAIRBANKS NO. 1</span> │ False   │ <span style=\"color: #008000; text-decoration-color: #008000\">YES      </span> │ <span style=\"color: #7f7f7f; text-decoration-color: #7f7f7f\">NULL</span>           │ <span style=\"color: #7f7f7f; text-decoration-color: #7f7f7f\">NULL</span>             │ <span style=\"color: #008000; text-decoration-color: #008000\">ELECTION DAY</span> │ <span style=\"color: #008000; text-decoration-color: #008000\">53    </span> │ False        │\n",
       "│  <span style=\"color: #008080; text-decoration-color: #008080; font-weight: bold\">2018</span> │ <span style=\"color: #800080; text-decoration-color: #800080\">2018-11-06</span> │ <span style=\"color: #008000; text-decoration-color: #008000\">AK      </span> │ <span style=\"color: #7f7f7f; text-decoration-color: #7f7f7f\">NULL</span>        │ <span style=\"color: #7f7f7f; text-decoration-color: #7f7f7f\">NULL</span>        │ <span style=\"color: #008000; text-decoration-color: #008000\">DISTRICT 1       </span> │ <span style=\"color: #008000; text-decoration-color: #008000\">02001            </span> │ <span style=\"color: #008000; text-decoration-color: #008000\">STATEWIDE</span> │ <span style=\"color: #008000; text-decoration-color: #008000\">BALLOT MEASURE NO. 1 - 17FSH2</span> │         <span style=\"color: #008080; text-decoration-color: #008080; font-weight: bold\">1</span> │ False   │ <span style=\"color: #008000; text-decoration-color: #008000\">GEN   </span> │ <span style=\"color: #008000; text-decoration-color: #008000\">01-465 FAIRBANKS NO. 2</span> │ False   │ <span style=\"color: #008000; text-decoration-color: #008000\">NO       </span> │ <span style=\"color: #7f7f7f; text-decoration-color: #7f7f7f\">NULL</span>           │ <span style=\"color: #7f7f7f; text-decoration-color: #7f7f7f\">NULL</span>             │ <span style=\"color: #008000; text-decoration-color: #008000\">ELECTION DAY</span> │ <span style=\"color: #008000; text-decoration-color: #008000\">167   </span> │ False        │\n",
       "│  <span style=\"color: #008080; text-decoration-color: #008080; font-weight: bold\">2018</span> │ <span style=\"color: #800080; text-decoration-color: #800080\">2018-11-06</span> │ <span style=\"color: #008000; text-decoration-color: #008000\">AK      </span> │ <span style=\"color: #7f7f7f; text-decoration-color: #7f7f7f\">NULL</span>        │ <span style=\"color: #7f7f7f; text-decoration-color: #7f7f7f\">NULL</span>        │ <span style=\"color: #008000; text-decoration-color: #008000\">DISTRICT 1       </span> │ <span style=\"color: #008000; text-decoration-color: #008000\">02001            </span> │ <span style=\"color: #008000; text-decoration-color: #008000\">STATEWIDE</span> │ <span style=\"color: #008000; text-decoration-color: #008000\">BALLOT MEASURE NO. 1 - 17FSH2</span> │         <span style=\"color: #008080; text-decoration-color: #008080; font-weight: bold\">1</span> │ False   │ <span style=\"color: #008000; text-decoration-color: #008000\">GEN   </span> │ <span style=\"color: #008000; text-decoration-color: #008000\">01-465 FAIRBANKS NO. 2</span> │ False   │ <span style=\"color: #008000; text-decoration-color: #008000\">YES      </span> │ <span style=\"color: #7f7f7f; text-decoration-color: #7f7f7f\">NULL</span>           │ <span style=\"color: #7f7f7f; text-decoration-color: #7f7f7f\">NULL</span>             │ <span style=\"color: #008000; text-decoration-color: #008000\">ELECTION DAY</span> │ <span style=\"color: #008000; text-decoration-color: #008000\">100   </span> │ False        │\n",
       "│  <span style=\"color: #008080; text-decoration-color: #008080; font-weight: bold\">2018</span> │ <span style=\"color: #800080; text-decoration-color: #800080\">2018-11-06</span> │ <span style=\"color: #008000; text-decoration-color: #008000\">AK      </span> │ <span style=\"color: #7f7f7f; text-decoration-color: #7f7f7f\">NULL</span>        │ <span style=\"color: #7f7f7f; text-decoration-color: #7f7f7f\">NULL</span>        │ <span style=\"color: #008000; text-decoration-color: #008000\">DISTRICT 1       </span> │ <span style=\"color: #008000; text-decoration-color: #008000\">02001            </span> │ <span style=\"color: #008000; text-decoration-color: #008000\">STATEWIDE</span> │ <span style=\"color: #008000; text-decoration-color: #008000\">BALLOT MEASURE NO. 1 - 17FSH2</span> │         <span style=\"color: #008080; text-decoration-color: #008080; font-weight: bold\">1</span> │ False   │ <span style=\"color: #008000; text-decoration-color: #008000\">GEN   </span> │ <span style=\"color: #008000; text-decoration-color: #008000\">01-470 FAIRBANKS NO. 3</span> │ False   │ <span style=\"color: #008000; text-decoration-color: #008000\">NO       </span> │ <span style=\"color: #7f7f7f; text-decoration-color: #7f7f7f\">NULL</span>           │ <span style=\"color: #7f7f7f; text-decoration-color: #7f7f7f\">NULL</span>             │ <span style=\"color: #008000; text-decoration-color: #008000\">ELECTION DAY</span> │ <span style=\"color: #008000; text-decoration-color: #008000\">325   </span> │ False        │\n",
       "│  <span style=\"color: #008080; text-decoration-color: #008080; font-weight: bold\">2018</span> │ <span style=\"color: #800080; text-decoration-color: #800080\">2018-11-06</span> │ <span style=\"color: #008000; text-decoration-color: #008000\">AK      </span> │ <span style=\"color: #7f7f7f; text-decoration-color: #7f7f7f\">NULL</span>        │ <span style=\"color: #7f7f7f; text-decoration-color: #7f7f7f\">NULL</span>        │ <span style=\"color: #008000; text-decoration-color: #008000\">DISTRICT 1       </span> │ <span style=\"color: #008000; text-decoration-color: #008000\">02001            </span> │ <span style=\"color: #008000; text-decoration-color: #008000\">STATEWIDE</span> │ <span style=\"color: #008000; text-decoration-color: #008000\">BALLOT MEASURE NO. 1 - 17FSH2</span> │         <span style=\"color: #008080; text-decoration-color: #008080; font-weight: bold\">1</span> │ False   │ <span style=\"color: #008000; text-decoration-color: #008000\">GEN   </span> │ <span style=\"color: #008000; text-decoration-color: #008000\">01-470 FAIRBANKS NO. 3</span> │ False   │ <span style=\"color: #008000; text-decoration-color: #008000\">YES      </span> │ <span style=\"color: #7f7f7f; text-decoration-color: #7f7f7f\">NULL</span>           │ <span style=\"color: #7f7f7f; text-decoration-color: #7f7f7f\">NULL</span>             │ <span style=\"color: #008000; text-decoration-color: #008000\">ELECTION DAY</span> │ <span style=\"color: #008000; text-decoration-color: #008000\">152   </span> │ False        │\n",
       "│  <span style=\"color: #008080; text-decoration-color: #008080; font-weight: bold\">2018</span> │ <span style=\"color: #800080; text-decoration-color: #800080\">2018-11-06</span> │ <span style=\"color: #008000; text-decoration-color: #008000\">AK      </span> │ <span style=\"color: #7f7f7f; text-decoration-color: #7f7f7f\">NULL</span>        │ <span style=\"color: #7f7f7f; text-decoration-color: #7f7f7f\">NULL</span>        │ <span style=\"color: #008000; text-decoration-color: #008000\">DISTRICT 1       </span> │ <span style=\"color: #008000; text-decoration-color: #008000\">02001            </span> │ <span style=\"color: #008000; text-decoration-color: #008000\">STATEWIDE</span> │ <span style=\"color: #008000; text-decoration-color: #008000\">BALLOT MEASURE NO. 1 - 17FSH2</span> │         <span style=\"color: #008080; text-decoration-color: #008080; font-weight: bold\">1</span> │ False   │ <span style=\"color: #008000; text-decoration-color: #008000\">GEN   </span> │ <span style=\"color: #008000; text-decoration-color: #008000\">01-475 FAIRBANKS NO. 4</span> │ False   │ <span style=\"color: #008000; text-decoration-color: #008000\">NO       </span> │ <span style=\"color: #7f7f7f; text-decoration-color: #7f7f7f\">NULL</span>           │ <span style=\"color: #7f7f7f; text-decoration-color: #7f7f7f\">NULL</span>             │ <span style=\"color: #008000; text-decoration-color: #008000\">ELECTION DAY</span> │ <span style=\"color: #008000; text-decoration-color: #008000\">145   </span> │ False        │\n",
       "│  <span style=\"color: #008080; text-decoration-color: #008080; font-weight: bold\">2018</span> │ <span style=\"color: #800080; text-decoration-color: #800080\">2018-11-06</span> │ <span style=\"color: #008000; text-decoration-color: #008000\">AK      </span> │ <span style=\"color: #7f7f7f; text-decoration-color: #7f7f7f\">NULL</span>        │ <span style=\"color: #7f7f7f; text-decoration-color: #7f7f7f\">NULL</span>        │ <span style=\"color: #008000; text-decoration-color: #008000\">DISTRICT 1       </span> │ <span style=\"color: #008000; text-decoration-color: #008000\">02001            </span> │ <span style=\"color: #008000; text-decoration-color: #008000\">STATEWIDE</span> │ <span style=\"color: #008000; text-decoration-color: #008000\">BALLOT MEASURE NO. 1 - 17FSH2</span> │         <span style=\"color: #008080; text-decoration-color: #008080; font-weight: bold\">1</span> │ False   │ <span style=\"color: #008000; text-decoration-color: #008000\">GEN   </span> │ <span style=\"color: #008000; text-decoration-color: #008000\">01-475 FAIRBANKS NO. 4</span> │ False   │ <span style=\"color: #008000; text-decoration-color: #008000\">YES      </span> │ <span style=\"color: #7f7f7f; text-decoration-color: #7f7f7f\">NULL</span>           │ <span style=\"color: #7f7f7f; text-decoration-color: #7f7f7f\">NULL</span>             │ <span style=\"color: #008000; text-decoration-color: #008000\">ELECTION DAY</span> │ <span style=\"color: #008000; text-decoration-color: #008000\">92    </span> │ False        │\n",
       "│     <span style=\"color: #7f7f7f; text-decoration-color: #7f7f7f\">…</span> │ <span style=\"color: #7f7f7f; text-decoration-color: #7f7f7f\">…</span>          │ <span style=\"color: #7f7f7f; text-decoration-color: #7f7f7f\">…</span>        │ <span style=\"color: #7f7f7f; text-decoration-color: #7f7f7f\">…</span>           │ <span style=\"color: #7f7f7f; text-decoration-color: #7f7f7f\">…</span>           │ <span style=\"color: #7f7f7f; text-decoration-color: #7f7f7f\">…</span>                 │ <span style=\"color: #7f7f7f; text-decoration-color: #7f7f7f\">…</span>                 │ <span style=\"color: #7f7f7f; text-decoration-color: #7f7f7f\">…</span>         │ <span style=\"color: #7f7f7f; text-decoration-color: #7f7f7f\">…</span>                             │         <span style=\"color: #7f7f7f; text-decoration-color: #7f7f7f\">…</span> │ <span style=\"color: #7f7f7f; text-decoration-color: #7f7f7f\">…</span>       │ <span style=\"color: #7f7f7f; text-decoration-color: #7f7f7f\">…</span>      │ <span style=\"color: #7f7f7f; text-decoration-color: #7f7f7f\">…</span>                      │ <span style=\"color: #7f7f7f; text-decoration-color: #7f7f7f\">…</span>       │ <span style=\"color: #7f7f7f; text-decoration-color: #7f7f7f\">…</span>         │ <span style=\"color: #7f7f7f; text-decoration-color: #7f7f7f\">…</span>              │ <span style=\"color: #7f7f7f; text-decoration-color: #7f7f7f\">…</span>                │ <span style=\"color: #7f7f7f; text-decoration-color: #7f7f7f\">…</span>            │ <span style=\"color: #7f7f7f; text-decoration-color: #7f7f7f\">…</span>      │ <span style=\"color: #7f7f7f; text-decoration-color: #7f7f7f\">…</span>            │\n",
       "└───────┴────────────┴──────────┴─────────────┴─────────────┴───────────────────┴───────────────────┴───────────┴───────────────────────────────┴───────────┴─────────┴────────┴────────────────────────┴─────────┴───────────┴────────────────┴──────────────────┴──────────────┴────────┴──────────────┘\n",
       "</pre>\n"
      ],
      "text/plain": [
       "┏━━━━━━━┳━━━━━━━━━━━━┳━━━━━━━━━━┳━━━━━━━━━━━━━┳━━━━━━━━━━━━━┳━━━━━━━━━━━━━━━━━━━┳━━━━━━━━━━━━━━━━━━━┳━━━━━━━━━━━┳━━━━━━━━━━━━━━━━━━━━━━━━━━━━━━━┳━━━━━━━━━━━┳━━━━━━━━━┳━━━━━━━━┳━━━━━━━━━━━━━━━━━━━━━━━━┳━━━━━━━━━┳━━━━━━━━━━━┳━━━━━━━━━━━━━━━━┳━━━━━━━━━━━━━━━━━━┳━━━━━━━━━━━━━━┳━━━━━━━━┳━━━━━━━━━━━━━━┓\n",
       "┃\u001b[1m \u001b[0m\u001b[1myear\u001b[0m\u001b[1m \u001b[0m\u001b[1m \u001b[0m┃\u001b[1m \u001b[0m\u001b[1mdate\u001b[0m\u001b[1m      \u001b[0m\u001b[1m \u001b[0m┃\u001b[1m \u001b[0m\u001b[1mstate_po\u001b[0m\u001b[1m \u001b[0m┃\u001b[1m \u001b[0m\u001b[1mcounty_name\u001b[0m\u001b[1m \u001b[0m┃\u001b[1m \u001b[0m\u001b[1mcounty_fips\u001b[0m\u001b[1m \u001b[0m┃\u001b[1m \u001b[0m\u001b[1mjurisdiction_name\u001b[0m\u001b[1m \u001b[0m┃\u001b[1m \u001b[0m\u001b[1mjurisdiction_fips\u001b[0m\u001b[1m \u001b[0m┃\u001b[1m \u001b[0m\u001b[1mdistrict\u001b[0m\u001b[1m \u001b[0m\u001b[1m \u001b[0m┃\u001b[1m \u001b[0m\u001b[1moffice\u001b[0m\u001b[1m                       \u001b[0m\u001b[1m \u001b[0m┃\u001b[1m \u001b[0m\u001b[1mmagnitude\u001b[0m\u001b[1m \u001b[0m┃\u001b[1m \u001b[0m\u001b[1mspecial\u001b[0m\u001b[1m \u001b[0m┃\u001b[1m \u001b[0m\u001b[1mstage\u001b[0m\u001b[1m \u001b[0m\u001b[1m \u001b[0m┃\u001b[1m \u001b[0m\u001b[1mprecinct\u001b[0m\u001b[1m              \u001b[0m\u001b[1m \u001b[0m┃\u001b[1m \u001b[0m\u001b[1mwritein\u001b[0m\u001b[1m \u001b[0m┃\u001b[1m \u001b[0m\u001b[1mcandidate\u001b[0m\u001b[1m \u001b[0m┃\u001b[1m \u001b[0m\u001b[1mparty_detailed\u001b[0m\u001b[1m \u001b[0m┃\u001b[1m \u001b[0m\u001b[1mparty_simplified\u001b[0m\u001b[1m \u001b[0m┃\u001b[1m \u001b[0m\u001b[1mmode\u001b[0m\u001b[1m        \u001b[0m\u001b[1m \u001b[0m┃\u001b[1m \u001b[0m\u001b[1mvotes\u001b[0m\u001b[1m \u001b[0m\u001b[1m \u001b[0m┃\u001b[1m \u001b[0m\u001b[1mreadme_check\u001b[0m\u001b[1m \u001b[0m┃\n",
       "┡━━━━━━━╇━━━━━━━━━━━━╇━━━━━━━━━━╇━━━━━━━━━━━━━╇━━━━━━━━━━━━━╇━━━━━━━━━━━━━━━━━━━╇━━━━━━━━━━━━━━━━━━━╇━━━━━━━━━━━╇━━━━━━━━━━━━━━━━━━━━━━━━━━━━━━━╇━━━━━━━━━━━╇━━━━━━━━━╇━━━━━━━━╇━━━━━━━━━━━━━━━━━━━━━━━━╇━━━━━━━━━╇━━━━━━━━━━━╇━━━━━━━━━━━━━━━━╇━━━━━━━━━━━━━━━━━━╇━━━━━━━━━━━━━━╇━━━━━━━━╇━━━━━━━━━━━━━━┩\n",
       "│ \u001b[2mint16\u001b[0m │ \u001b[2mdate\u001b[0m       │ \u001b[2mstring\u001b[0m   │ \u001b[2mstring\u001b[0m      │ \u001b[2mstring\u001b[0m      │ \u001b[2mstring\u001b[0m            │ \u001b[2mstring\u001b[0m            │ \u001b[2mstring\u001b[0m    │ \u001b[2mstring\u001b[0m                        │ \u001b[2mint64\u001b[0m     │ \u001b[2mboolean\u001b[0m │ \u001b[2mstring\u001b[0m │ \u001b[2mstring\u001b[0m                 │ \u001b[2mboolean\u001b[0m │ \u001b[2mstring\u001b[0m    │ \u001b[2mstring\u001b[0m         │ \u001b[2mstring\u001b[0m           │ \u001b[2mstring\u001b[0m       │ \u001b[2mstring\u001b[0m │ \u001b[2mboolean\u001b[0m      │\n",
       "├───────┼────────────┼──────────┼─────────────┼─────────────┼───────────────────┼───────────────────┼───────────┼───────────────────────────────┼───────────┼─────────┼────────┼────────────────────────┼─────────┼───────────┼────────────────┼──────────────────┼──────────────┼────────┼──────────────┤\n",
       "│  \u001b[1;36m2018\u001b[0m │ \u001b[35m2018-11-06\u001b[0m │ \u001b[32mAK      \u001b[0m │ \u001b[2mNULL\u001b[0m        │ \u001b[2mNULL\u001b[0m        │ \u001b[32mDISTRICT 1       \u001b[0m │ \u001b[32m02001            \u001b[0m │ \u001b[32mSTATEWIDE\u001b[0m │ \u001b[32mBALLOT MEASURE NO. 1 - 17FSH2\u001b[0m │         \u001b[1;36m1\u001b[0m │ False   │ \u001b[32mGEN   \u001b[0m │ \u001b[32m01-446 AURORA         \u001b[0m │ False   │ \u001b[32mNO       \u001b[0m │ \u001b[2mNULL\u001b[0m           │ \u001b[2mNULL\u001b[0m             │ \u001b[32mELECTION DAY\u001b[0m │ \u001b[32m570   \u001b[0m │ False        │\n",
       "│  \u001b[1;36m2018\u001b[0m │ \u001b[35m2018-11-06\u001b[0m │ \u001b[32mAK      \u001b[0m │ \u001b[2mNULL\u001b[0m        │ \u001b[2mNULL\u001b[0m        │ \u001b[32mDISTRICT 1       \u001b[0m │ \u001b[32m02001            \u001b[0m │ \u001b[32mSTATEWIDE\u001b[0m │ \u001b[32mBALLOT MEASURE NO. 1 - 17FSH2\u001b[0m │         \u001b[1;36m1\u001b[0m │ False   │ \u001b[32mGEN   \u001b[0m │ \u001b[32m01-446 AURORA         \u001b[0m │ False   │ \u001b[32mYES      \u001b[0m │ \u001b[2mNULL\u001b[0m           │ \u001b[2mNULL\u001b[0m             │ \u001b[32mELECTION DAY\u001b[0m │ \u001b[32m274   \u001b[0m │ False        │\n",
       "│  \u001b[1;36m2018\u001b[0m │ \u001b[35m2018-11-06\u001b[0m │ \u001b[32mAK      \u001b[0m │ \u001b[2mNULL\u001b[0m        │ \u001b[2mNULL\u001b[0m        │ \u001b[32mDISTRICT 1       \u001b[0m │ \u001b[32m02001            \u001b[0m │ \u001b[32mSTATEWIDE\u001b[0m │ \u001b[32mBALLOT MEASURE NO. 1 - 17FSH2\u001b[0m │         \u001b[1;36m1\u001b[0m │ False   │ \u001b[32mGEN   \u001b[0m │ \u001b[32m01-455 FAIRBANKS NO. 1\u001b[0m │ False   │ \u001b[32mNO       \u001b[0m │ \u001b[2mNULL\u001b[0m           │ \u001b[2mNULL\u001b[0m             │ \u001b[32mELECTION DAY\u001b[0m │ \u001b[32m99    \u001b[0m │ False        │\n",
       "│  \u001b[1;36m2018\u001b[0m │ \u001b[35m2018-11-06\u001b[0m │ \u001b[32mAK      \u001b[0m │ \u001b[2mNULL\u001b[0m        │ \u001b[2mNULL\u001b[0m        │ \u001b[32mDISTRICT 1       \u001b[0m │ \u001b[32m02001            \u001b[0m │ \u001b[32mSTATEWIDE\u001b[0m │ \u001b[32mBALLOT MEASURE NO. 1 - 17FSH2\u001b[0m │         \u001b[1;36m1\u001b[0m │ False   │ \u001b[32mGEN   \u001b[0m │ \u001b[32m01-455 FAIRBANKS NO. 1\u001b[0m │ False   │ \u001b[32mYES      \u001b[0m │ \u001b[2mNULL\u001b[0m           │ \u001b[2mNULL\u001b[0m             │ \u001b[32mELECTION DAY\u001b[0m │ \u001b[32m53    \u001b[0m │ False        │\n",
       "│  \u001b[1;36m2018\u001b[0m │ \u001b[35m2018-11-06\u001b[0m │ \u001b[32mAK      \u001b[0m │ \u001b[2mNULL\u001b[0m        │ \u001b[2mNULL\u001b[0m        │ \u001b[32mDISTRICT 1       \u001b[0m │ \u001b[32m02001            \u001b[0m │ \u001b[32mSTATEWIDE\u001b[0m │ \u001b[32mBALLOT MEASURE NO. 1 - 17FSH2\u001b[0m │         \u001b[1;36m1\u001b[0m │ False   │ \u001b[32mGEN   \u001b[0m │ \u001b[32m01-465 FAIRBANKS NO. 2\u001b[0m │ False   │ \u001b[32mNO       \u001b[0m │ \u001b[2mNULL\u001b[0m           │ \u001b[2mNULL\u001b[0m             │ \u001b[32mELECTION DAY\u001b[0m │ \u001b[32m167   \u001b[0m │ False        │\n",
       "│  \u001b[1;36m2018\u001b[0m │ \u001b[35m2018-11-06\u001b[0m │ \u001b[32mAK      \u001b[0m │ \u001b[2mNULL\u001b[0m        │ \u001b[2mNULL\u001b[0m        │ \u001b[32mDISTRICT 1       \u001b[0m │ \u001b[32m02001            \u001b[0m │ \u001b[32mSTATEWIDE\u001b[0m │ \u001b[32mBALLOT MEASURE NO. 1 - 17FSH2\u001b[0m │         \u001b[1;36m1\u001b[0m │ False   │ \u001b[32mGEN   \u001b[0m │ \u001b[32m01-465 FAIRBANKS NO. 2\u001b[0m │ False   │ \u001b[32mYES      \u001b[0m │ \u001b[2mNULL\u001b[0m           │ \u001b[2mNULL\u001b[0m             │ \u001b[32mELECTION DAY\u001b[0m │ \u001b[32m100   \u001b[0m │ False        │\n",
       "│  \u001b[1;36m2018\u001b[0m │ \u001b[35m2018-11-06\u001b[0m │ \u001b[32mAK      \u001b[0m │ \u001b[2mNULL\u001b[0m        │ \u001b[2mNULL\u001b[0m        │ \u001b[32mDISTRICT 1       \u001b[0m │ \u001b[32m02001            \u001b[0m │ \u001b[32mSTATEWIDE\u001b[0m │ \u001b[32mBALLOT MEASURE NO. 1 - 17FSH2\u001b[0m │         \u001b[1;36m1\u001b[0m │ False   │ \u001b[32mGEN   \u001b[0m │ \u001b[32m01-470 FAIRBANKS NO. 3\u001b[0m │ False   │ \u001b[32mNO       \u001b[0m │ \u001b[2mNULL\u001b[0m           │ \u001b[2mNULL\u001b[0m             │ \u001b[32mELECTION DAY\u001b[0m │ \u001b[32m325   \u001b[0m │ False        │\n",
       "│  \u001b[1;36m2018\u001b[0m │ \u001b[35m2018-11-06\u001b[0m │ \u001b[32mAK      \u001b[0m │ \u001b[2mNULL\u001b[0m        │ \u001b[2mNULL\u001b[0m        │ \u001b[32mDISTRICT 1       \u001b[0m │ \u001b[32m02001            \u001b[0m │ \u001b[32mSTATEWIDE\u001b[0m │ \u001b[32mBALLOT MEASURE NO. 1 - 17FSH2\u001b[0m │         \u001b[1;36m1\u001b[0m │ False   │ \u001b[32mGEN   \u001b[0m │ \u001b[32m01-470 FAIRBANKS NO. 3\u001b[0m │ False   │ \u001b[32mYES      \u001b[0m │ \u001b[2mNULL\u001b[0m           │ \u001b[2mNULL\u001b[0m             │ \u001b[32mELECTION DAY\u001b[0m │ \u001b[32m152   \u001b[0m │ False        │\n",
       "│  \u001b[1;36m2018\u001b[0m │ \u001b[35m2018-11-06\u001b[0m │ \u001b[32mAK      \u001b[0m │ \u001b[2mNULL\u001b[0m        │ \u001b[2mNULL\u001b[0m        │ \u001b[32mDISTRICT 1       \u001b[0m │ \u001b[32m02001            \u001b[0m │ \u001b[32mSTATEWIDE\u001b[0m │ \u001b[32mBALLOT MEASURE NO. 1 - 17FSH2\u001b[0m │         \u001b[1;36m1\u001b[0m │ False   │ \u001b[32mGEN   \u001b[0m │ \u001b[32m01-475 FAIRBANKS NO. 4\u001b[0m │ False   │ \u001b[32mNO       \u001b[0m │ \u001b[2mNULL\u001b[0m           │ \u001b[2mNULL\u001b[0m             │ \u001b[32mELECTION DAY\u001b[0m │ \u001b[32m145   \u001b[0m │ False        │\n",
       "│  \u001b[1;36m2018\u001b[0m │ \u001b[35m2018-11-06\u001b[0m │ \u001b[32mAK      \u001b[0m │ \u001b[2mNULL\u001b[0m        │ \u001b[2mNULL\u001b[0m        │ \u001b[32mDISTRICT 1       \u001b[0m │ \u001b[32m02001            \u001b[0m │ \u001b[32mSTATEWIDE\u001b[0m │ \u001b[32mBALLOT MEASURE NO. 1 - 17FSH2\u001b[0m │         \u001b[1;36m1\u001b[0m │ False   │ \u001b[32mGEN   \u001b[0m │ \u001b[32m01-475 FAIRBANKS NO. 4\u001b[0m │ False   │ \u001b[32mYES      \u001b[0m │ \u001b[2mNULL\u001b[0m           │ \u001b[2mNULL\u001b[0m             │ \u001b[32mELECTION DAY\u001b[0m │ \u001b[32m92    \u001b[0m │ False        │\n",
       "│     \u001b[2m…\u001b[0m │ \u001b[2m…\u001b[0m          │ \u001b[2m…\u001b[0m        │ \u001b[2m…\u001b[0m           │ \u001b[2m…\u001b[0m           │ \u001b[2m…\u001b[0m                 │ \u001b[2m…\u001b[0m                 │ \u001b[2m…\u001b[0m         │ \u001b[2m…\u001b[0m                             │         \u001b[2m…\u001b[0m │ \u001b[2m…\u001b[0m       │ \u001b[2m…\u001b[0m      │ \u001b[2m…\u001b[0m                      │ \u001b[2m…\u001b[0m       │ \u001b[2m…\u001b[0m         │ \u001b[2m…\u001b[0m              │ \u001b[2m…\u001b[0m                │ \u001b[2m…\u001b[0m            │ \u001b[2m…\u001b[0m      │ \u001b[2m…\u001b[0m            │\n",
       "└───────┴────────────┴──────────┴─────────────┴─────────────┴───────────────────┴───────────────────┴───────────┴───────────────────────────────┴───────────┴─────────┴────────┴────────────────────────┴─────────┴───────────┴────────────────┴──────────────────┴──────────────┴────────┴──────────────┘"
      ]
     },
     "execution_count": 22,
     "metadata": {},
     "output_type": "execute_result"
    }
   ],
   "source": [
    "# order both so its more user friendly,\n",
    "# and it might be smaller due to better compression\n",
    "t = t.order_by(\n",
    "    _.year,\n",
    "    _.state_po,\n",
    "    _.office,\n",
    "    _.county_name,\n",
    "    _.district,\n",
    "    _.precinct,\n",
    "    _.candidate,\n",
    "    _.mode,\n",
    ")\n",
    "t = t.cache()\n",
    "t"
   ]
  },
  {
   "cell_type": "code",
   "execution_count": 24,
   "metadata": {},
   "outputs": [
    {
     "data": {
      "application/vnd.jupyter.widget-view+json": {
       "model_id": "5cdeb7de3d534629bddea0bc3e9f8576",
       "version_major": 2,
       "version_minor": 0
      },
      "text/plain": [
       "FloatProgress(value=0.0, layout=Layout(width='auto'), style=ProgressStyle(bar_color='black'))"
      ]
     },
     "metadata": {},
     "output_type": "display_data"
    }
   ],
   "source": [
    "tests.test_all(t)"
   ]
  },
  {
   "cell_type": "code",
   "execution_count": 25,
   "metadata": {},
   "outputs": [
    {
     "data": {
      "application/vnd.jupyter.widget-view+json": {
       "model_id": "a3dd48d06c6345e287757e183ae884db",
       "version_major": 2,
       "version_minor": 0
      },
      "text/plain": [
       "FloatProgress(value=0.0, layout=Layout(width='auto'), style=ProgressStyle(bar_color='black'))"
      ]
     },
     "metadata": {},
     "output_type": "display_data"
    }
   ],
   "source": [
    "t.to_parquet(DATA_DIR / \"cleaned.parquet\")"
   ]
  }
 ],
 "metadata": {
  "kernelspec": {
   "display_name": ".venv",
   "language": "python",
   "name": "python3"
  },
  "language_info": {
   "codemirror_mode": {
    "name": "ipython",
    "version": 3
   },
   "file_extension": ".py",
   "mimetype": "text/x-python",
   "name": "python",
   "nbconvert_exporter": "python",
   "pygments_lexer": "ipython3",
   "version": "3.11.6"
  }
 },
 "nbformat": 4,
 "nbformat_minor": 2
}
