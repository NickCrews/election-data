{
 "cells": [
  {
   "cell_type": "markdown",
   "metadata": {},
   "source": [
    "## 2018-2022 Nationwide election results, by precinct\n",
    "\n",
    "This pulls nationwide precinct level results from 2018, 2020, and 2022 from the\n",
    "MIT Election Science Lab, from several different files:\n",
    "- 2018 State: https://doi.org/10.7910/DVN/ZFXEJU\n",
    "- 2018 US Senate: https://doi.org/10.7910/DVN/DGNAFS\n",
    "- 2018 US House: https://doi.org/10.7910/DVN/IVIXLK\n",
    "- 2020 State: https://doi.org/10.7910/DVN/OKL2K1\n",
    "- 2020 US House: https://doi.org/10.7910/DVN/VLGF2M\n",
    "- 2020 US Senate: https://doi.org/10.7910/DVN/ER9XTV\n",
    "- 2020 President: https://doi.org/10.7910/DVN/JXPREB\n",
    "- 2022 All Levels: https://github.com/MEDSL/2022-elections-official/tree/ad541ea94cb6697c0375a8cffe8e91b60372f50b/individual_states\n",
    "   not published on dataverse yet, download from github.\n",
    "\n",
    "I tried to use [State Precinct-Level Returns 2016](https://doi.org/10.7910/DVN/GSZG1O),\n",
    "but this is ain a different format from the later ones, and can't be parsed by duckdb:\n",
    "https://github.com/duckdb/duckdb/issues/10929\n",
    "\n",
    "I tried for a bit using the [programmatic API](https://guides.dataverse.org/en/5.5/api/dataaccess.html#download-by-dataset-api)\n",
    "to download, but it wasn't working so just gave up.\n",
    "\n",
    "It also does some additional cleanup of that raw data, eg\n",
    "- normalize date formats and fips codes.\n",
    "- normalize \"APPROVE\" and \"FOR\" to a simple \"YES\"\n",
    "- fill in NULLs when it seems correct to do so\n",
    "\n",
    "I don't drop any rows or otherwise lose information.\n",
    "    "
   ]
  },
  {
   "cell_type": "code",
   "execution_count": null,
   "metadata": {},
   "outputs": [],
   "source": [
    "from pathlib import Path\n",
    "\n",
    "import ibis\n",
    "from ibis import _\n",
    "\n",
    "ibis.options.interactive = True"
   ]
  },
  {
   "cell_type": "code",
   "execution_count": null,
   "metadata": {},
   "outputs": [],
   "source": [
    "def parse_date(s):\n",
    "    # some dates are in the format \"mm/dd/yyyy\" instead of \"yyyy-mm-dd\"\n",
    "    # https://github.com/MEDSL/2022-elections-official/issues/20\n",
    "    s = s.re_replace(r\"(\\d\\d?)/(\\d\\d?)/(20)?(\\d\\d)\", r\"20\\4-\\1-\\2\")\n",
    "    return s.cast(\"date\")\n",
    "\n",
    "\n",
    "assert parse_date(ibis.literal(\"01/02/20\")).cast(str).execute() == \"2020-01-02\"\n",
    "assert parse_date(ibis.literal(\"11/8/22\")).cast(str).execute() == \"2022-11-08\"\n",
    "assert parse_date(ibis.literal(\"01/02/2020\")).cast(str).execute() == \"2020-01-02\"\n",
    "assert parse_date(ibis.literal(\"2020-01-02\")).cast(str).execute() == \"2020-01-02\"\n",
    "\n",
    "\n",
    "def parse_fips5(s):\n",
    "    # guard against https://github.com/MEDSL/2022-elections-official/issues/21\n",
    "    s = s.nullif(\"NAN\")\n",
    "    s = s.nullif(\"NA\")\n",
    "    s = s.cast(int).cast(str)\n",
    "    s = s[:5]\n",
    "    # pad with 0 if necessary\n",
    "    s = s.re_replace(r\"^(\\d{4})$\", r\"0\\1\")\n",
    "    return s\n",
    "\n",
    "\n",
    "assert parse_fips5(ibis.literal(\"1234\")).execute() == \"01234\"\n",
    "assert parse_fips5(ibis.literal(\"12345\")).execute() == \"12345\"\n",
    "assert parse_fips5(ibis.literal(\"12345678\")).execute() == \"12345\"\n",
    "assert parse_fips5(ibis.literal(\"NA\")).execute() is None\n",
    "assert parse_fips5(ibis.literal(\"NAN\")).execute() is None\n",
    "assert parse_fips5(ibis.literal(None, type=str)).execute() is None"
   ]
  },
  {
   "cell_type": "code",
   "execution_count": null,
   "metadata": {},
   "outputs": [],
   "source": [
    "schema = {\n",
    "    \"year\": \"int16\",\n",
    "    \"date\": \"date\",\n",
    "    \"state_po\": \"string\",\n",
    "    # All of the following are duplicate info from state_po that just take up space.\n",
    "    # You can look these up pretty easily if you need them.\n",
    "    # \"state\": \"string\",\n",
    "    # \"state_fips\": \"string\",\n",
    "    # \"state_cen\": \"string\",\n",
    "    # \"state_ic\": \"string\",\n",
    "    \"county_name\": \"string\",\n",
    "    \"county_fips\": \"string\",\n",
    "    \"jurisdiction_name\": \"string\",\n",
    "    \"jurisdiction_fips\": \"string\",\n",
    "    \"district\": \"string\",\n",
    "    \"office\": \"string\",\n",
    "    \"magnitude\": \"int\",  # the number seats available for this office\n",
    "    \"special\": \"boolean\",\n",
    "    \"stage\": \"string\",\n",
    "    \"precinct\": \"string\",\n",
    "    \"writein\": \"boolean\",\n",
    "    \"candidate\": \"string\",\n",
    "    \"party_detailed\": \"string\",\n",
    "    \"party_simplified\": \"string\",\n",
    "    \"mode\": \"string\",  # how the votes were cast eg \"EARLY\", \"ABSENTEE\", etc\n",
    "    # can't cast to int because some rows contain \"*\":\n",
    "    # https://github.com/MEDSL/2022-elections-official/blob/ad541ea94cb6697c0375a8cffe8e91b60372f50b/README.md\n",
    "    # Per the Nevada Secretary of State, \"*\"\" in the Votes column indicates low\n",
    "    # turnout and is hidden to protect voter privacy.\"\n",
    "    \"votes\": \"string\",\n",
    "    # \"dataverse\": \"string\", # one of {\"STATE\", \"PRESIDENT\", \"SENATE\", \"HOUSE\", None}\n",
    "    \"readme_check\": \"boolean\",\n",
    "}\n",
    "\n",
    "\n",
    "def to_schema(t):\n",
    "    t = t[schema.keys()]\n",
    "    t = t.mutate(\n",
    "        date=parse_date(t.date),\n",
    "        county_fips=parse_fips5(t.county_fips),\n",
    "        jurisdiction_fips=parse_fips5(t.jurisdiction_fips),\n",
    "    )\n",
    "    t = t.cast(schema)\n",
    "    return t\n",
    "\n",
    "\n",
    "def read_raw(p):\n",
    "    # have to set quote explicitly to get around\n",
    "    # https://github.com/duckdb/duckdb/issues/11838\n",
    "    t = ibis.read_csv(p, all_varchar=True, quote='\"')\n",
    "    t = to_schema(t)\n",
    "    return t"
   ]
  },
  {
   "cell_type": "code",
   "execution_count": null,
   "metadata": {},
   "outputs": [],
   "source": [
    "import zipfile\n",
    "\n",
    "DATA_DIR = Path(\"../data\")\n",
    "\n",
    "\n",
    "def unzip_csvs(zip_path: Path, dest: Path) -> Path:\n",
    "    with zipfile.ZipFile(zip_path, \"r\") as z:\n",
    "        # extract any csvs in the zip file\n",
    "        csvs = [f for f in z.namelist() if f.endswith(\".csv\")]\n",
    "        z.extractall(dest, csvs)\n",
    "\n",
    "\n",
    "def get_github_csvs() -> list[Path]:\n",
    "    csv_dir = DATA_DIR / \"github_2022/csvs\"\n",
    "    if not csv_dir.exists():\n",
    "        zip_dir = DATA_DIR / \"github_2022\"\n",
    "        for zip_path in zip_dir.glob(\"*.zip\"):\n",
    "            unzip_csvs(zip_path, csv_dir)\n",
    "    csvs = sorted(csv_dir.glob(\"*.csv\"))\n",
    "    assert len(csvs) == 51, csvs  # 50 states + DC\n",
    "    return csvs\n",
    "\n",
    "\n",
    "def read_csvs():\n",
    "    paths = [\n",
    "        *get_github_csvs(),\n",
    "        *(DATA_DIR / \"dataverse_2018_state\").glob(\"*.csv\"),\n",
    "        *(DATA_DIR / \"dataverse_2018_us_house\").glob(\"*.csv\"),\n",
    "        *(DATA_DIR / \"dataverse_2018_us_senate\").glob(\"*.csv\"),\n",
    "        *(DATA_DIR / \"dataverse_2020_state\").glob(\"*.csv\"),\n",
    "        *(DATA_DIR / \"dataverse_2020_us_house\").glob(\"*.csv\"),\n",
    "        *(DATA_DIR / \"dataverse_2020_us_senate\").glob(\"*.csv\"),\n",
    "        *(DATA_DIR / \"dataverse_2020_president\").glob(\"*.csv\"),\n",
    "    ]\n",
    "    tables = [read_raw(p) for p in paths]\n",
    "    return ibis.union(*tables)\n",
    "\n",
    "\n",
    "t = read_csvs()\n",
    "t = t.distinct()\n",
    "t = t.cache()\n",
    "print(t.count())\n",
    "t"
   ]
  },
  {
   "cell_type": "markdown",
   "metadata": {},
   "source": [
    "# Fixup Candidates"
   ]
  },
  {
   "cell_type": "code",
   "execution_count": null,
   "metadata": {},
   "outputs": [],
   "source": [
    "t.candidate.topk(100).preview(max_rows=100)"
   ]
  },
  {
   "cell_type": "code",
   "execution_count": null,
   "metadata": {},
   "outputs": [],
   "source": [
    "cand_mapping = {\n",
    "    \"FOR\": \"YES\",\n",
    "    \"AGAINST\": \"NO\",\n",
    "    \"UNDER VOTES\": \"UNDERVOTES\",\n",
    "    \"OVER VOTES\": \"OVERVOTES\",\n",
    "    \"WRITE-IN\": \"WRITEIN\",\n",
    "    \"WRITE-IN VOTES\": \"WRITEIN\",\n",
    "    \"WRITE IN\": \"WRITEIN\",\n",
    "    \"WRITEIN VOTES\": \"WRITEIN\",\n",
    "    \"NONE OF THESE CANDIDATES\": \"OTHER\",\n",
    "    \"OTHER WRITE-INS\": \"OTHER\",\n",
    "    \"BLANK BALLOTS\": \"BLANK\",\n",
    "    \"TIMES BLANK VOTED\": \"BLANK\",\n",
    "    \"BLANK VOTES\": \"BLANK\",\n",
    "    \"BLANKS\": \"BLANK\",\n",
    "    \"BLANK/VOID\": \"BLANK\",\n",
    "    \"SCATTERING\": \"SCATTERING\",\n",
    "    \"SCATTERED VOTES\": \"SCATTERING\",\n",
    "    \"FEDERAL BALLOTS\": \"FEDERAL\",\n",
    "    \"NOT QUALIFIED\": \"REJECTED\",\n",
    "}\n",
    "t = t.mutate(candidate=t.candidate.substitute(cand_mapping))"
   ]
  },
  {
   "cell_type": "markdown",
   "metadata": {},
   "source": [
    "## Fixup Office"
   ]
  },
  {
   "cell_type": "code",
   "execution_count": null,
   "metadata": {},
   "outputs": [],
   "source": [
    "office_mapping = {\n",
    "    \"US PRESIDENT\": [\n",
    "        \"US PRESIDENT\",\n",
    "    ],\n",
    "    \"US SENATE\": [\n",
    "        \"US SENATE\",\n",
    "    ],\n",
    "    \"US HOUSE\": [\n",
    "        \"US HOUSE\",\n",
    "        \"REPRESENTATIVE IN CONGRESS\",\n",
    "        \"DELEGATE TO THE U.S. HOUSE OF REPRESENTATIVE\",\n",
    "        \"DELEGATE TO THE US HOUSE\",\n",
    "        \"DELEGATE TO THE HOUSE OF REPRESENTATIVES\",\n",
    "        \"REPRESENTATIVE IN CONGRESS\",\n",
    "    ],\n",
    "    \"GOVERNOR\": [\n",
    "        \"GOVERNOR\",\n",
    "        \"GOVERNOR/LIEUTENANT GOVERNOR\",\n",
    "        \"GOVERNOR AND LIEUTENANT GOVERNOR\",\n",
    "    ],\n",
    "    \"LIEUTENANT GOVERNOR\": [\n",
    "        \"LIEUTENANT GOVERNOR\",\n",
    "    ],\n",
    "    \"ATTORNEY GENERAL\": [\n",
    "        \"ATTORNEY GENERAL\",\n",
    "        \"STATE ATTORNEY\",\n",
    "        \"STATE ATTORNEY GENERAL\",  # 39 States elected an Attorney General in this period\n",
    "    ],\n",
    "    \"SECRETARY OF STATE\": [\n",
    "        \"SECRETARY OF STATE\",  # 32 States elected a Secretary of State in this period\n",
    "    ],\n",
    "    \"STATE TREASURER\": [\"STATE TREASURER\", \"TREASURER\"],\n",
    "    \"AUDITOR OF STATE\": [\"STATE AUDITOR\", \"AUDITOR OF STATE\"],\n",
    "    \"STATE SENATE\": [\n",
    "        \"STATE SENATE\",\n",
    "        \"STATE SENATOR\",\n",
    "    ],\n",
    "    \"STATE HOUSE\": [\n",
    "        \"STATE HOUSE\",\n",
    "        \"STATE REPRESENTATIVE\",\n",
    "        \"HOUSE OF DELEGATES\",\n",
    "    ],\n",
    "}\n",
    "office_mapping_flat = {}\n",
    "for canon, appearances in office_mapping.items():\n",
    "    for a in appearances:\n",
    "        office_mapping_flat[a] = canon\n",
    "t = t.mutate(office=t.office.substitute(office_mapping_flat))"
   ]
  },
  {
   "cell_type": "markdown",
   "metadata": {},
   "source": [
    "## Fixup District"
   ]
  },
  {
   "cell_type": "code",
   "execution_count": null,
   "metadata": {},
   "outputs": [],
   "source": [
    "is_statewide = _.office.isin([\"GOVERNOR\", \"US SENATE\", \"US PRESIDENT\"])\n",
    "\n",
    "t.filter(\n",
    "    is_statewide,\n",
    ").group_by(\"office\", _.district.fillna(\"NULL\").name(\"district\")).agg(\n",
    "    n=_.count(),\n",
    ").order_by(\n",
    "    _.office,\n",
    "    _.n.asc(),\n",
    ").preview(max_rows=40)"
   ]
  },
  {
   "cell_type": "code",
   "execution_count": null,
   "metadata": {},
   "outputs": [],
   "source": [
    "t = t.mutate(district=is_statewide.ifelse(\"STATEWIDE\", _.district))\n",
    "# also replace \"AT-LARGE\" with \"STATEWIDE\"\n",
    "t = t.mutate(district=_.district.replace(\"AT-LARGE\", \"STATEWIDE\"))\n",
    "t.district.topk(20)"
   ]
  },
  {
   "cell_type": "code",
   "execution_count": null,
   "metadata": {},
   "outputs": [],
   "source": [
    "# fixup districts that should be statewide but are NULL\n",
    "is_dc_congress = (_.state_po == \"DC\") & (_.office == \"US HOUSE\")\n",
    "is_ak_congress = (_.state_po == \"AK\") & (_.office == \"US HOUSE\")\n",
    "is_statewide = is_dc_congress | is_ak_congress\n",
    "t = t.mutate(district=is_statewide.ifelse(\"STATEWIDE\", _.district))"
   ]
  },
  {
   "cell_type": "markdown",
   "metadata": {},
   "source": [
    "## Fix Party Detailed"
   ]
  },
  {
   "cell_type": "code",
   "execution_count": null,
   "metadata": {},
   "outputs": [],
   "source": [
    "# \"INDEPENDENT\",\n",
    "# \"INDEPENDENCE\",\n",
    "# \"NONPARTISAN\",\n",
    "# \"NO PARTY AFFILIATION\",\n",
    "# \"NO AFFILIATION\",\n",
    "# \"INDEPENDENT AMERICAN PARTY\",\n",
    "# \"INDEPENDENT AMERICAN\",\n",
    "# \"NO PARTY\",\n",
    "# \"INDEPENDENCE-ALLIANCE\",\n",
    "# \"UNENROLLED\",\n",
    "# \"INDEPENDENT PARTY\",\n",
    "# \"INDEPENDENCE ALLIANCE\",\n",
    "# \"NON-PARTISAN DELAWARE\",\n",
    "# \"INDEPENDENT NOMINATION\",\n",
    "# \"UNAFFILIATED\",\n",
    "# \"INDEPENDENT PARTY OF OREGON\",\n",
    "# \"NO PARTY PREFERENCE\",\n",
    "# \"UNENROLLED INDEPENDENT\",\n",
    "# \"COMMON SENSE INDEPENDENT\",\n",
    "# \"INDEPENDENT FOR MAINE\",\n",
    "# \"A TRUE INDEPENDENT\",\n",
    "party_detailed_mapping = {\n",
    "    \"NO PARTY AFFILIATION\": \"UNAFFILIATED\",\n",
    "    \"NO AFFILIATION\": \"UNAFFILIATED\",\n",
    "    \"NO PARTY\": \"UNAFFILIATED\",\n",
    "}\n",
    "t = t.mutate(party_detailed=t.party_detailed.substitute(cand_mapping))"
   ]
  },
  {
   "cell_type": "markdown",
   "metadata": {},
   "source": [
    "## Fix Mode"
   ]
  },
  {
   "cell_type": "code",
   "execution_count": null,
   "metadata": {},
   "outputs": [],
   "source": [
    "t.mode.topk(30).preview(max_rows=30)"
   ]
  },
  {
   "cell_type": "code",
   "execution_count": null,
   "metadata": {},
   "outputs": [],
   "source": [
    "mode_mapping = {\n",
    "    \"EARLY VOTE\": \"EARLY\",\n",
    "    \"EARLY VOTING\": \"EARLY\",\n",
    "    \"ADVANCED VOTING\": \"EARLY\",\n",
    "    \"ADVANCED\": \"EARLY\",\n",
    "}\n",
    "t = t.mutate(mode=_.mode.substitute(mode_mapping))"
   ]
  },
  {
   "cell_type": "code",
   "execution_count": null,
   "metadata": {},
   "outputs": [],
   "source": [
    "t.filter(\n",
    "    _.mode.isnull(),\n",
    ").state_po.topk(10)"
   ]
  },
  {
   "cell_type": "code",
   "execution_count": null,
   "metadata": {},
   "outputs": [],
   "source": [
    "def add_n_rows_per_cand(t):\n",
    "    return (\n",
    "        t.group_by(\n",
    "            _.year,\n",
    "            _.state_po,\n",
    "            _.office,\n",
    "            _.district,\n",
    "            _.county_name,\n",
    "            _.precinct,\n",
    "            _.candidate,\n",
    "        )\n",
    "        .mutate(\n",
    "            n_per_candidate=_.count(),\n",
    "        )\n",
    "        .order_by(\n",
    "            _.n_per_candidate.desc(),\n",
    "        )\n",
    "    )\n",
    "\n",
    "\n",
    "add_n_rows_per_cand(t).filter(_.mode.isnull())"
   ]
  },
  {
   "cell_type": "code",
   "execution_count": null,
   "metadata": {},
   "outputs": [],
   "source": [
    "# OK, that looks like all the mode=NULL rows should actually be \"TOTAL\",\n",
    "# there is only one row per candidate per precinct. If a candidate\n",
    "# had more than one row per precinct, then one of them might be TOTAL,\n",
    "# and the rest would be something else. But that's not the case here.\n",
    "fixable = ibis.and_(\n",
    "    _.mode.isnull(),\n",
    "    _.n_per_candidate == 1,\n",
    ")\n",
    "t = (\n",
    "    add_n_rows_per_cand(t)\n",
    "    .mutate(mode=fixable.ifelse(\"TOTAL\", _.mode))\n",
    "    .drop(\"n_per_candidate\")\n",
    ")\n",
    "t = t.cache()\n",
    "t.filter(\n",
    "    _.mode.isnull(),\n",
    ").state_po.topk(10)"
   ]
  },
  {
   "cell_type": "markdown",
   "metadata": {},
   "source": [
    "## Save to file"
   ]
  },
  {
   "cell_type": "code",
   "execution_count": null,
   "metadata": {},
   "outputs": [],
   "source": [
    "# order both so its more user friendly,\n",
    "# and it might be smaller due to better compression\n",
    "t = t.order_by(\n",
    "    _.year,\n",
    "    _.state_po,\n",
    "    _.office,\n",
    "    _.county_name,\n",
    "    _.district,\n",
    "    _.precinct,\n",
    "    _.candidate,\n",
    "    _.mode,\n",
    ")\n",
    "t = t.cache()\n",
    "t"
   ]
  },
  {
   "cell_type": "code",
   "execution_count": null,
   "metadata": {},
   "outputs": [],
   "source": [
    "def check_integrity(t):\n",
    "    assert t.year.isin([2018, 2020, 2022]).all().execute()\n",
    "    assert not (t.district == \"NULL\").any().execute()\n",
    "\n",
    "\n",
    "check_integrity(t)"
   ]
  },
  {
   "cell_type": "code",
   "execution_count": null,
   "metadata": {},
   "outputs": [],
   "source": [
    "t.to_parquet(DATA_DIR / \"cleaned.parquet\")"
   ]
  }
 ],
 "metadata": {
  "kernelspec": {
   "display_name": ".venv",
   "language": "python",
   "name": "python3"
  },
  "language_info": {
   "codemirror_mode": {
    "name": "ipython",
    "version": 3
   },
   "file_extension": ".py",
   "mimetype": "text/x-python",
   "name": "python",
   "nbconvert_exporter": "python",
   "pygments_lexer": "ipython3",
   "version": "3.11.6"
  }
 },
 "nbformat": 4,
 "nbformat_minor": 2
}
