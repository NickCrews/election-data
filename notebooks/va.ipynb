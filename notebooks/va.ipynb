{
 "cells": [
  {
   "cell_type": "markdown",
   "metadata": {},
   "source": [
    "# Clean VA for odd number years\n",
    "\n",
    "See [this MEDSL script](https://github.com/MEDSL/replication-scripts/blob/634832bc7c2df2c0a2238bc16781d07d581d3a3a/va2018.py) for previous work,\n",
    "but that script isn't reproducible as it is."
   ]
  },
  {
   "cell_type": "code",
   "execution_count": 1,
   "metadata": {},
   "outputs": [],
   "source": [
    "import ibis\n",
    "from pathlib import Path\n",
    "import ibis_widget\n",
    "import election_data as ed\n",
    "from ibis import _\n",
    "from ibis.expr import types as ir\n",
    "\n",
    "\n",
    "ibis_widget.install()\n",
    "ibis.options.interactive = True\n"
   ]
  },
  {
   "cell_type": "code",
   "execution_count": 2,
   "metadata": {},
   "outputs": [
    {
     "data": {
      "text/html": [
       "<pre style=\"white-space:pre;overflow-x:auto;line-height:normal;font-family:Menlo,'DejaVu Sans Mono',consolas,'Courier New',monospace\">┏━━━━━━━┳━━━━━━━━━━━━┳━━━━━━━━━━┳━━━━━━━━━━━━━┳━━━━━━━━━━━━━┳━━━━━━━━━━━━━━━━━━━┳━━━━━━━━━━━━━━━━━━━┳━━━━━━━━━━┳━━━━━━━━━━━━━━━━━━━━━━━━━━━━━━━━━━━━━━━━━━━━━━┳━━━━━━━━━━━┳━━━━━━━━━┳━━━━━━━━┳━━━━━━━━━━━━━━━━━━━━━━━━━━━━━━━━━━━━━━━┳━━━━━━━━━┳━━━━━━━━━━━┳━━━━━━━━━━━━━━━━┳━━━━━━━━━━━━━━━━━━┳━━━━━━━━┳━━━━━━━━┳━━━━━━━━━━━━━━┓\n",
       "┃<span style=\"font-weight: bold\"> year  </span>┃<span style=\"font-weight: bold\"> date       </span>┃<span style=\"font-weight: bold\"> state_po </span>┃<span style=\"font-weight: bold\"> county_name </span>┃<span style=\"font-weight: bold\"> county_fips </span>┃<span style=\"font-weight: bold\"> jurisdiction_name </span>┃<span style=\"font-weight: bold\"> jurisdiction_fips </span>┃<span style=\"font-weight: bold\"> district </span>┃<span style=\"font-weight: bold\"> office                                       </span>┃<span style=\"font-weight: bold\"> magnitude </span>┃<span style=\"font-weight: bold\"> special </span>┃<span style=\"font-weight: bold\"> stage  </span>┃<span style=\"font-weight: bold\"> precinct                              </span>┃<span style=\"font-weight: bold\"> writein </span>┃<span style=\"font-weight: bold\"> candidate </span>┃<span style=\"font-weight: bold\"> party_detailed </span>┃<span style=\"font-weight: bold\"> party_simplified </span>┃<span style=\"font-weight: bold\"> mode   </span>┃<span style=\"font-weight: bold\"> votes  </span>┃<span style=\"font-weight: bold\"> readme_check </span>┃\n",
       "┡━━━━━━━╇━━━━━━━━━━━━╇━━━━━━━━━━╇━━━━━━━━━━━━━╇━━━━━━━━━━━━━╇━━━━━━━━━━━━━━━━━━━╇━━━━━━━━━━━━━━━━━━━╇━━━━━━━━━━╇━━━━━━━━━━━━━━━━━━━━━━━━━━━━━━━━━━━━━━━━━━━━━━╇━━━━━━━━━━━╇━━━━━━━━━╇━━━━━━━━╇━━━━━━━━━━━━━━━━━━━━━━━━━━━━━━━━━━━━━━━╇━━━━━━━━━╇━━━━━━━━━━━╇━━━━━━━━━━━━━━━━╇━━━━━━━━━━━━━━━━━━╇━━━━━━━━╇━━━━━━━━╇━━━━━━━━━━━━━━┩\n",
       "│ <span style=\"color: #7f7f7f; text-decoration-color: #7f7f7f\">int16</span> │ <span style=\"color: #7f7f7f; text-decoration-color: #7f7f7f\">date</span>       │ <span style=\"color: #7f7f7f; text-decoration-color: #7f7f7f\">string</span>   │ <span style=\"color: #7f7f7f; text-decoration-color: #7f7f7f\">string</span>      │ <span style=\"color: #7f7f7f; text-decoration-color: #7f7f7f\">string</span>      │ <span style=\"color: #7f7f7f; text-decoration-color: #7f7f7f\">string</span>            │ <span style=\"color: #7f7f7f; text-decoration-color: #7f7f7f\">string</span>            │ <span style=\"color: #7f7f7f; text-decoration-color: #7f7f7f\">string</span>   │ <span style=\"color: #7f7f7f; text-decoration-color: #7f7f7f\">string</span>                                       │ <span style=\"color: #7f7f7f; text-decoration-color: #7f7f7f\">int8</span>      │ <span style=\"color: #7f7f7f; text-decoration-color: #7f7f7f\">boolean</span> │ <span style=\"color: #7f7f7f; text-decoration-color: #7f7f7f\">string</span> │ <span style=\"color: #7f7f7f; text-decoration-color: #7f7f7f\">string</span>                                │ <span style=\"color: #7f7f7f; text-decoration-color: #7f7f7f\">boolean</span> │ <span style=\"color: #7f7f7f; text-decoration-color: #7f7f7f\">string</span>    │ <span style=\"color: #7f7f7f; text-decoration-color: #7f7f7f\">string</span>         │ <span style=\"color: #7f7f7f; text-decoration-color: #7f7f7f\">string</span>           │ <span style=\"color: #7f7f7f; text-decoration-color: #7f7f7f\">string</span> │ <span style=\"color: #7f7f7f; text-decoration-color: #7f7f7f\">string</span> │ <span style=\"color: #7f7f7f; text-decoration-color: #7f7f7f\">boolean</span>      │\n",
       "├───────┼────────────┼──────────┼─────────────┼─────────────┼───────────────────┼───────────────────┼──────────┼──────────────────────────────────────────────┼───────────┼─────────┼────────┼───────────────────────────────────────┼─────────┼───────────┼────────────────┼──────────────────┼────────┼────────┼──────────────┤\n",
       "│  <span style=\"color: #008080; text-decoration-color: #008080; font-weight: bold\">2018</span> │ <span style=\"color: #800080; text-decoration-color: #800080\">2018-11-06</span> │ <span style=\"color: #008000; text-decoration-color: #008000\">VA      </span> │ <span style=\"color: #008000; text-decoration-color: #008000\">ACCOMACK   </span> │ <span style=\"color: #008000; text-decoration-color: #008000\">51001      </span> │ <span style=\"color: #008000; text-decoration-color: #008000\">ACCOMACK         </span> │ <span style=\"color: #008000; text-decoration-color: #008000\">51001            </span> │ <span style=\"color: #7f7f7f; text-decoration-color: #7f7f7f\">NULL</span>     │ <span style=\"color: #008000; text-decoration-color: #008000\">PROPOSED CONSTITUTIONAL AMENDMENT QUESTION 1</span> │         <span style=\"color: #008080; text-decoration-color: #008080; font-weight: bold\">1</span> │ False   │ <span style=\"color: #008000; text-decoration-color: #008000\">GEN   </span> │ <span style=\"color: #008000; text-decoration-color: #008000\"># AB - CENTRAL ABSENTEE PRECINCT (02)</span> │ False   │ <span style=\"color: #008000; text-decoration-color: #008000\">NO       </span> │ <span style=\"color: #7f7f7f; text-decoration-color: #7f7f7f\">NULL</span>           │ <span style=\"color: #7f7f7f; text-decoration-color: #7f7f7f\">NULL</span>             │ <span style=\"color: #008000; text-decoration-color: #008000\">TOTAL </span> │ <span style=\"color: #008000; text-decoration-color: #008000\">234   </span> │ False        │\n",
       "│  <span style=\"color: #008080; text-decoration-color: #008080; font-weight: bold\">2018</span> │ <span style=\"color: #800080; text-decoration-color: #800080\">2018-11-06</span> │ <span style=\"color: #008000; text-decoration-color: #008000\">VA      </span> │ <span style=\"color: #008000; text-decoration-color: #008000\">ACCOMACK   </span> │ <span style=\"color: #008000; text-decoration-color: #008000\">51001      </span> │ <span style=\"color: #008000; text-decoration-color: #008000\">ACCOMACK         </span> │ <span style=\"color: #008000; text-decoration-color: #008000\">51001            </span> │ <span style=\"color: #7f7f7f; text-decoration-color: #7f7f7f\">NULL</span>     │ <span style=\"color: #008000; text-decoration-color: #008000\">PROPOSED CONSTITUTIONAL AMENDMENT QUESTION 1</span> │         <span style=\"color: #008080; text-decoration-color: #008080; font-weight: bold\">1</span> │ False   │ <span style=\"color: #008000; text-decoration-color: #008000\">GEN   </span> │ <span style=\"color: #008000; text-decoration-color: #008000\"># AB - CENTRAL ABSENTEE PRECINCT (02)</span> │ False   │ <span style=\"color: #008000; text-decoration-color: #008000\">YES      </span> │ <span style=\"color: #7f7f7f; text-decoration-color: #7f7f7f\">NULL</span>           │ <span style=\"color: #7f7f7f; text-decoration-color: #7f7f7f\">NULL</span>             │ <span style=\"color: #008000; text-decoration-color: #008000\">TOTAL </span> │ <span style=\"color: #008000; text-decoration-color: #008000\">887   </span> │ False        │\n",
       "│  <span style=\"color: #008080; text-decoration-color: #008080; font-weight: bold\">2018</span> │ <span style=\"color: #800080; text-decoration-color: #800080\">2018-11-06</span> │ <span style=\"color: #008000; text-decoration-color: #008000\">VA      </span> │ <span style=\"color: #008000; text-decoration-color: #008000\">ACCOMACK   </span> │ <span style=\"color: #008000; text-decoration-color: #008000\">51001      </span> │ <span style=\"color: #008000; text-decoration-color: #008000\">ACCOMACK         </span> │ <span style=\"color: #008000; text-decoration-color: #008000\">51001            </span> │ <span style=\"color: #7f7f7f; text-decoration-color: #7f7f7f\">NULL</span>     │ <span style=\"color: #008000; text-decoration-color: #008000\">PROPOSED CONSTITUTIONAL AMENDMENT QUESTION 1</span> │         <span style=\"color: #008080; text-decoration-color: #008080; font-weight: bold\">1</span> │ False   │ <span style=\"color: #008000; text-decoration-color: #008000\">GEN   </span> │ <span style=\"color: #008000; text-decoration-color: #008000\">## PROVISIONAL (02)                  </span> │ False   │ <span style=\"color: #008000; text-decoration-color: #008000\">NO       </span> │ <span style=\"color: #7f7f7f; text-decoration-color: #7f7f7f\">NULL</span>           │ <span style=\"color: #7f7f7f; text-decoration-color: #7f7f7f\">NULL</span>             │ <span style=\"color: #008000; text-decoration-color: #008000\">TOTAL </span> │ <span style=\"color: #008000; text-decoration-color: #008000\">0     </span> │ False        │\n",
       "│  <span style=\"color: #008080; text-decoration-color: #008080; font-weight: bold\">2018</span> │ <span style=\"color: #800080; text-decoration-color: #800080\">2018-11-06</span> │ <span style=\"color: #008000; text-decoration-color: #008000\">VA      </span> │ <span style=\"color: #008000; text-decoration-color: #008000\">ACCOMACK   </span> │ <span style=\"color: #008000; text-decoration-color: #008000\">51001      </span> │ <span style=\"color: #008000; text-decoration-color: #008000\">ACCOMACK         </span> │ <span style=\"color: #008000; text-decoration-color: #008000\">51001            </span> │ <span style=\"color: #7f7f7f; text-decoration-color: #7f7f7f\">NULL</span>     │ <span style=\"color: #008000; text-decoration-color: #008000\">PROPOSED CONSTITUTIONAL AMENDMENT QUESTION 1</span> │         <span style=\"color: #008080; text-decoration-color: #008080; font-weight: bold\">1</span> │ False   │ <span style=\"color: #008000; text-decoration-color: #008000\">GEN   </span> │ <span style=\"color: #008000; text-decoration-color: #008000\">## PROVISIONAL (02)                  </span> │ False   │ <span style=\"color: #008000; text-decoration-color: #008000\">YES      </span> │ <span style=\"color: #7f7f7f; text-decoration-color: #7f7f7f\">NULL</span>           │ <span style=\"color: #7f7f7f; text-decoration-color: #7f7f7f\">NULL</span>             │ <span style=\"color: #008000; text-decoration-color: #008000\">TOTAL </span> │ <span style=\"color: #008000; text-decoration-color: #008000\">2     </span> │ False        │\n",
       "│  <span style=\"color: #008080; text-decoration-color: #008080; font-weight: bold\">2018</span> │ <span style=\"color: #800080; text-decoration-color: #800080\">2018-11-06</span> │ <span style=\"color: #008000; text-decoration-color: #008000\">VA      </span> │ <span style=\"color: #008000; text-decoration-color: #008000\">ACCOMACK   </span> │ <span style=\"color: #008000; text-decoration-color: #008000\">51001      </span> │ <span style=\"color: #008000; text-decoration-color: #008000\">ACCOMACK         </span> │ <span style=\"color: #008000; text-decoration-color: #008000\">51001            </span> │ <span style=\"color: #7f7f7f; text-decoration-color: #7f7f7f\">NULL</span>     │ <span style=\"color: #008000; text-decoration-color: #008000\">PROPOSED CONSTITUTIONAL AMENDMENT QUESTION 1</span> │         <span style=\"color: #008080; text-decoration-color: #008080; font-weight: bold\">1</span> │ False   │ <span style=\"color: #008000; text-decoration-color: #008000\">GEN   </span> │ <span style=\"color: #008000; text-decoration-color: #008000\">101 - CHINCOTEAGUE (02)              </span> │ False   │ <span style=\"color: #008000; text-decoration-color: #008000\">NO       </span> │ <span style=\"color: #7f7f7f; text-decoration-color: #7f7f7f\">NULL</span>           │ <span style=\"color: #7f7f7f; text-decoration-color: #7f7f7f\">NULL</span>             │ <span style=\"color: #008000; text-decoration-color: #008000\">TOTAL </span> │ <span style=\"color: #008000; text-decoration-color: #008000\">285   </span> │ False        │\n",
       "│  <span style=\"color: #008080; text-decoration-color: #008080; font-weight: bold\">2018</span> │ <span style=\"color: #800080; text-decoration-color: #800080\">2018-11-06</span> │ <span style=\"color: #008000; text-decoration-color: #008000\">VA      </span> │ <span style=\"color: #008000; text-decoration-color: #008000\">ACCOMACK   </span> │ <span style=\"color: #008000; text-decoration-color: #008000\">51001      </span> │ <span style=\"color: #008000; text-decoration-color: #008000\">ACCOMACK         </span> │ <span style=\"color: #008000; text-decoration-color: #008000\">51001            </span> │ <span style=\"color: #7f7f7f; text-decoration-color: #7f7f7f\">NULL</span>     │ <span style=\"color: #008000; text-decoration-color: #008000\">PROPOSED CONSTITUTIONAL AMENDMENT QUESTION 1</span> │         <span style=\"color: #008080; text-decoration-color: #008080; font-weight: bold\">1</span> │ False   │ <span style=\"color: #008000; text-decoration-color: #008000\">GEN   </span> │ <span style=\"color: #008000; text-decoration-color: #008000\">101 - CHINCOTEAGUE (02)              </span> │ False   │ <span style=\"color: #008000; text-decoration-color: #008000\">YES      </span> │ <span style=\"color: #7f7f7f; text-decoration-color: #7f7f7f\">NULL</span>           │ <span style=\"color: #7f7f7f; text-decoration-color: #7f7f7f\">NULL</span>             │ <span style=\"color: #008000; text-decoration-color: #008000\">TOTAL </span> │ <span style=\"color: #008000; text-decoration-color: #008000\">1098  </span> │ False        │\n",
       "│  <span style=\"color: #008080; text-decoration-color: #008080; font-weight: bold\">2018</span> │ <span style=\"color: #800080; text-decoration-color: #800080\">2018-11-06</span> │ <span style=\"color: #008000; text-decoration-color: #008000\">VA      </span> │ <span style=\"color: #008000; text-decoration-color: #008000\">ACCOMACK   </span> │ <span style=\"color: #008000; text-decoration-color: #008000\">51001      </span> │ <span style=\"color: #008000; text-decoration-color: #008000\">ACCOMACK         </span> │ <span style=\"color: #008000; text-decoration-color: #008000\">51001            </span> │ <span style=\"color: #7f7f7f; text-decoration-color: #7f7f7f\">NULL</span>     │ <span style=\"color: #008000; text-decoration-color: #008000\">PROPOSED CONSTITUTIONAL AMENDMENT QUESTION 1</span> │         <span style=\"color: #008080; text-decoration-color: #008080; font-weight: bold\">1</span> │ False   │ <span style=\"color: #008000; text-decoration-color: #008000\">GEN   </span> │ <span style=\"color: #008000; text-decoration-color: #008000\">201 - ATLANTIC (02)                  </span> │ False   │ <span style=\"color: #008000; text-decoration-color: #008000\">NO       </span> │ <span style=\"color: #7f7f7f; text-decoration-color: #7f7f7f\">NULL</span>           │ <span style=\"color: #7f7f7f; text-decoration-color: #7f7f7f\">NULL</span>             │ <span style=\"color: #008000; text-decoration-color: #008000\">TOTAL </span> │ <span style=\"color: #008000; text-decoration-color: #008000\">202   </span> │ False        │\n",
       "│  <span style=\"color: #008080; text-decoration-color: #008080; font-weight: bold\">2018</span> │ <span style=\"color: #800080; text-decoration-color: #800080\">2018-11-06</span> │ <span style=\"color: #008000; text-decoration-color: #008000\">VA      </span> │ <span style=\"color: #008000; text-decoration-color: #008000\">ACCOMACK   </span> │ <span style=\"color: #008000; text-decoration-color: #008000\">51001      </span> │ <span style=\"color: #008000; text-decoration-color: #008000\">ACCOMACK         </span> │ <span style=\"color: #008000; text-decoration-color: #008000\">51001            </span> │ <span style=\"color: #7f7f7f; text-decoration-color: #7f7f7f\">NULL</span>     │ <span style=\"color: #008000; text-decoration-color: #008000\">PROPOSED CONSTITUTIONAL AMENDMENT QUESTION 1</span> │         <span style=\"color: #008080; text-decoration-color: #008080; font-weight: bold\">1</span> │ False   │ <span style=\"color: #008000; text-decoration-color: #008000\">GEN   </span> │ <span style=\"color: #008000; text-decoration-color: #008000\">201 - ATLANTIC (02)                  </span> │ False   │ <span style=\"color: #008000; text-decoration-color: #008000\">YES      </span> │ <span style=\"color: #7f7f7f; text-decoration-color: #7f7f7f\">NULL</span>           │ <span style=\"color: #7f7f7f; text-decoration-color: #7f7f7f\">NULL</span>             │ <span style=\"color: #008000; text-decoration-color: #008000\">TOTAL </span> │ <span style=\"color: #008000; text-decoration-color: #008000\">388   </span> │ False        │\n",
       "│  <span style=\"color: #008080; text-decoration-color: #008080; font-weight: bold\">2018</span> │ <span style=\"color: #800080; text-decoration-color: #800080\">2018-11-06</span> │ <span style=\"color: #008000; text-decoration-color: #008000\">VA      </span> │ <span style=\"color: #008000; text-decoration-color: #008000\">ACCOMACK   </span> │ <span style=\"color: #008000; text-decoration-color: #008000\">51001      </span> │ <span style=\"color: #008000; text-decoration-color: #008000\">ACCOMACK         </span> │ <span style=\"color: #008000; text-decoration-color: #008000\">51001            </span> │ <span style=\"color: #7f7f7f; text-decoration-color: #7f7f7f\">NULL</span>     │ <span style=\"color: #008000; text-decoration-color: #008000\">PROPOSED CONSTITUTIONAL AMENDMENT QUESTION 1</span> │         <span style=\"color: #008080; text-decoration-color: #008080; font-weight: bold\">1</span> │ False   │ <span style=\"color: #008000; text-decoration-color: #008000\">GEN   </span> │ <span style=\"color: #008000; text-decoration-color: #008000\">202 - GREENBACKVILLE (02)            </span> │ False   │ <span style=\"color: #008000; text-decoration-color: #008000\">NO       </span> │ <span style=\"color: #7f7f7f; text-decoration-color: #7f7f7f\">NULL</span>           │ <span style=\"color: #7f7f7f; text-decoration-color: #7f7f7f\">NULL</span>             │ <span style=\"color: #008000; text-decoration-color: #008000\">TOTAL </span> │ <span style=\"color: #008000; text-decoration-color: #008000\">233   </span> │ False        │\n",
       "│  <span style=\"color: #008080; text-decoration-color: #008080; font-weight: bold\">2018</span> │ <span style=\"color: #800080; text-decoration-color: #800080\">2018-11-06</span> │ <span style=\"color: #008000; text-decoration-color: #008000\">VA      </span> │ <span style=\"color: #008000; text-decoration-color: #008000\">ACCOMACK   </span> │ <span style=\"color: #008000; text-decoration-color: #008000\">51001      </span> │ <span style=\"color: #008000; text-decoration-color: #008000\">ACCOMACK         </span> │ <span style=\"color: #008000; text-decoration-color: #008000\">51001            </span> │ <span style=\"color: #7f7f7f; text-decoration-color: #7f7f7f\">NULL</span>     │ <span style=\"color: #008000; text-decoration-color: #008000\">PROPOSED CONSTITUTIONAL AMENDMENT QUESTION 1</span> │         <span style=\"color: #008080; text-decoration-color: #008080; font-weight: bold\">1</span> │ False   │ <span style=\"color: #008000; text-decoration-color: #008000\">GEN   </span> │ <span style=\"color: #008000; text-decoration-color: #008000\">202 - GREENBACKVILLE (02)            </span> │ False   │ <span style=\"color: #008000; text-decoration-color: #008000\">YES      </span> │ <span style=\"color: #7f7f7f; text-decoration-color: #7f7f7f\">NULL</span>           │ <span style=\"color: #7f7f7f; text-decoration-color: #7f7f7f\">NULL</span>             │ <span style=\"color: #008000; text-decoration-color: #008000\">TOTAL </span> │ <span style=\"color: #008000; text-decoration-color: #008000\">580   </span> │ False        │\n",
       "│     <span style=\"color: #7f7f7f; text-decoration-color: #7f7f7f\">…</span> │ <span style=\"color: #7f7f7f; text-decoration-color: #7f7f7f\">…</span>          │ <span style=\"color: #7f7f7f; text-decoration-color: #7f7f7f\">…</span>        │ <span style=\"color: #7f7f7f; text-decoration-color: #7f7f7f\">…</span>           │ <span style=\"color: #7f7f7f; text-decoration-color: #7f7f7f\">…</span>           │ <span style=\"color: #7f7f7f; text-decoration-color: #7f7f7f\">…</span>                 │ <span style=\"color: #7f7f7f; text-decoration-color: #7f7f7f\">…</span>                 │ <span style=\"color: #7f7f7f; text-decoration-color: #7f7f7f\">…</span>        │ <span style=\"color: #7f7f7f; text-decoration-color: #7f7f7f\">…</span>                                            │         <span style=\"color: #7f7f7f; text-decoration-color: #7f7f7f\">…</span> │ <span style=\"color: #7f7f7f; text-decoration-color: #7f7f7f\">…</span>       │ <span style=\"color: #7f7f7f; text-decoration-color: #7f7f7f\">…</span>      │ <span style=\"color: #7f7f7f; text-decoration-color: #7f7f7f\">…</span>                                     │ <span style=\"color: #7f7f7f; text-decoration-color: #7f7f7f\">…</span>       │ <span style=\"color: #7f7f7f; text-decoration-color: #7f7f7f\">…</span>         │ <span style=\"color: #7f7f7f; text-decoration-color: #7f7f7f\">…</span>              │ <span style=\"color: #7f7f7f; text-decoration-color: #7f7f7f\">…</span>                │ <span style=\"color: #7f7f7f; text-decoration-color: #7f7f7f\">…</span>      │ <span style=\"color: #7f7f7f; text-decoration-color: #7f7f7f\">…</span>      │ <span style=\"color: #7f7f7f; text-decoration-color: #7f7f7f\">…</span>            │\n",
       "└───────┴────────────┴──────────┴─────────────┴─────────────┴───────────────────┴───────────────────┴──────────┴──────────────────────────────────────────────┴───────────┴─────────┴────────┴───────────────────────────────────────┴─────────┴───────────┴────────────────┴──────────────────┴────────┴────────┴──────────────┘\n",
       "</pre>\n"
      ],
      "text/plain": [
       "┏━━━━━━━┳━━━━━━━━━━━━┳━━━━━━━━━━┳━━━━━━━━━━━━━┳━━━━━━━━━━━━━┳━━━━━━━━━━━━━━━━━━━┳━━━━━━━━━━━━━━━━━━━┳━━━━━━━━━━┳━━━━━━━━━━━━━━━━━━━━━━━━━━━━━━━━━━━━━━━━━━━━━━┳━━━━━━━━━━━┳━━━━━━━━━┳━━━━━━━━┳━━━━━━━━━━━━━━━━━━━━━━━━━━━━━━━━━━━━━━━┳━━━━━━━━━┳━━━━━━━━━━━┳━━━━━━━━━━━━━━━━┳━━━━━━━━━━━━━━━━━━┳━━━━━━━━┳━━━━━━━━┳━━━━━━━━━━━━━━┓\n",
       "┃\u001b[1m \u001b[0m\u001b[1myear\u001b[0m\u001b[1m \u001b[0m\u001b[1m \u001b[0m┃\u001b[1m \u001b[0m\u001b[1mdate\u001b[0m\u001b[1m      \u001b[0m\u001b[1m \u001b[0m┃\u001b[1m \u001b[0m\u001b[1mstate_po\u001b[0m\u001b[1m \u001b[0m┃\u001b[1m \u001b[0m\u001b[1mcounty_name\u001b[0m\u001b[1m \u001b[0m┃\u001b[1m \u001b[0m\u001b[1mcounty_fips\u001b[0m\u001b[1m \u001b[0m┃\u001b[1m \u001b[0m\u001b[1mjurisdiction_name\u001b[0m\u001b[1m \u001b[0m┃\u001b[1m \u001b[0m\u001b[1mjurisdiction_fips\u001b[0m\u001b[1m \u001b[0m┃\u001b[1m \u001b[0m\u001b[1mdistrict\u001b[0m\u001b[1m \u001b[0m┃\u001b[1m \u001b[0m\u001b[1moffice\u001b[0m\u001b[1m                                      \u001b[0m\u001b[1m \u001b[0m┃\u001b[1m \u001b[0m\u001b[1mmagnitude\u001b[0m\u001b[1m \u001b[0m┃\u001b[1m \u001b[0m\u001b[1mspecial\u001b[0m\u001b[1m \u001b[0m┃\u001b[1m \u001b[0m\u001b[1mstage\u001b[0m\u001b[1m \u001b[0m\u001b[1m \u001b[0m┃\u001b[1m \u001b[0m\u001b[1mprecinct\u001b[0m\u001b[1m                             \u001b[0m\u001b[1m \u001b[0m┃\u001b[1m \u001b[0m\u001b[1mwritein\u001b[0m\u001b[1m \u001b[0m┃\u001b[1m \u001b[0m\u001b[1mcandidate\u001b[0m\u001b[1m \u001b[0m┃\u001b[1m \u001b[0m\u001b[1mparty_detailed\u001b[0m\u001b[1m \u001b[0m┃\u001b[1m \u001b[0m\u001b[1mparty_simplified\u001b[0m\u001b[1m \u001b[0m┃\u001b[1m \u001b[0m\u001b[1mmode\u001b[0m\u001b[1m  \u001b[0m\u001b[1m \u001b[0m┃\u001b[1m \u001b[0m\u001b[1mvotes\u001b[0m\u001b[1m \u001b[0m\u001b[1m \u001b[0m┃\u001b[1m \u001b[0m\u001b[1mreadme_check\u001b[0m\u001b[1m \u001b[0m┃\n",
       "┡━━━━━━━╇━━━━━━━━━━━━╇━━━━━━━━━━╇━━━━━━━━━━━━━╇━━━━━━━━━━━━━╇━━━━━━━━━━━━━━━━━━━╇━━━━━━━━━━━━━━━━━━━╇━━━━━━━━━━╇━━━━━━━━━━━━━━━━━━━━━━━━━━━━━━━━━━━━━━━━━━━━━━╇━━━━━━━━━━━╇━━━━━━━━━╇━━━━━━━━╇━━━━━━━━━━━━━━━━━━━━━━━━━━━━━━━━━━━━━━━╇━━━━━━━━━╇━━━━━━━━━━━╇━━━━━━━━━━━━━━━━╇━━━━━━━━━━━━━━━━━━╇━━━━━━━━╇━━━━━━━━╇━━━━━━━━━━━━━━┩\n",
       "│ \u001b[2mint16\u001b[0m │ \u001b[2mdate\u001b[0m       │ \u001b[2mstring\u001b[0m   │ \u001b[2mstring\u001b[0m      │ \u001b[2mstring\u001b[0m      │ \u001b[2mstring\u001b[0m            │ \u001b[2mstring\u001b[0m            │ \u001b[2mstring\u001b[0m   │ \u001b[2mstring\u001b[0m                                       │ \u001b[2mint8\u001b[0m      │ \u001b[2mboolean\u001b[0m │ \u001b[2mstring\u001b[0m │ \u001b[2mstring\u001b[0m                                │ \u001b[2mboolean\u001b[0m │ \u001b[2mstring\u001b[0m    │ \u001b[2mstring\u001b[0m         │ \u001b[2mstring\u001b[0m           │ \u001b[2mstring\u001b[0m │ \u001b[2mstring\u001b[0m │ \u001b[2mboolean\u001b[0m      │\n",
       "├───────┼────────────┼──────────┼─────────────┼─────────────┼───────────────────┼───────────────────┼──────────┼──────────────────────────────────────────────┼───────────┼─────────┼────────┼───────────────────────────────────────┼─────────┼───────────┼────────────────┼──────────────────┼────────┼────────┼──────────────┤\n",
       "│  \u001b[1;36m2018\u001b[0m │ \u001b[35m2018-11-06\u001b[0m │ \u001b[32mVA      \u001b[0m │ \u001b[32mACCOMACK   \u001b[0m │ \u001b[32m51001      \u001b[0m │ \u001b[32mACCOMACK         \u001b[0m │ \u001b[32m51001            \u001b[0m │ \u001b[2mNULL\u001b[0m     │ \u001b[32mPROPOSED CONSTITUTIONAL AMENDMENT QUESTION 1\u001b[0m │         \u001b[1;36m1\u001b[0m │ False   │ \u001b[32mGEN   \u001b[0m │ \u001b[32m# AB - CENTRAL ABSENTEE PRECINCT (02)\u001b[0m │ False   │ \u001b[32mNO       \u001b[0m │ \u001b[2mNULL\u001b[0m           │ \u001b[2mNULL\u001b[0m             │ \u001b[32mTOTAL \u001b[0m │ \u001b[32m234   \u001b[0m │ False        │\n",
       "│  \u001b[1;36m2018\u001b[0m │ \u001b[35m2018-11-06\u001b[0m │ \u001b[32mVA      \u001b[0m │ \u001b[32mACCOMACK   \u001b[0m │ \u001b[32m51001      \u001b[0m │ \u001b[32mACCOMACK         \u001b[0m │ \u001b[32m51001            \u001b[0m │ \u001b[2mNULL\u001b[0m     │ \u001b[32mPROPOSED CONSTITUTIONAL AMENDMENT QUESTION 1\u001b[0m │         \u001b[1;36m1\u001b[0m │ False   │ \u001b[32mGEN   \u001b[0m │ \u001b[32m# AB - CENTRAL ABSENTEE PRECINCT (02)\u001b[0m │ False   │ \u001b[32mYES      \u001b[0m │ \u001b[2mNULL\u001b[0m           │ \u001b[2mNULL\u001b[0m             │ \u001b[32mTOTAL \u001b[0m │ \u001b[32m887   \u001b[0m │ False        │\n",
       "│  \u001b[1;36m2018\u001b[0m │ \u001b[35m2018-11-06\u001b[0m │ \u001b[32mVA      \u001b[0m │ \u001b[32mACCOMACK   \u001b[0m │ \u001b[32m51001      \u001b[0m │ \u001b[32mACCOMACK         \u001b[0m │ \u001b[32m51001            \u001b[0m │ \u001b[2mNULL\u001b[0m     │ \u001b[32mPROPOSED CONSTITUTIONAL AMENDMENT QUESTION 1\u001b[0m │         \u001b[1;36m1\u001b[0m │ False   │ \u001b[32mGEN   \u001b[0m │ \u001b[32m## PROVISIONAL (02)                  \u001b[0m │ False   │ \u001b[32mNO       \u001b[0m │ \u001b[2mNULL\u001b[0m           │ \u001b[2mNULL\u001b[0m             │ \u001b[32mTOTAL \u001b[0m │ \u001b[32m0     \u001b[0m │ False        │\n",
       "│  \u001b[1;36m2018\u001b[0m │ \u001b[35m2018-11-06\u001b[0m │ \u001b[32mVA      \u001b[0m │ \u001b[32mACCOMACK   \u001b[0m │ \u001b[32m51001      \u001b[0m │ \u001b[32mACCOMACK         \u001b[0m │ \u001b[32m51001            \u001b[0m │ \u001b[2mNULL\u001b[0m     │ \u001b[32mPROPOSED CONSTITUTIONAL AMENDMENT QUESTION 1\u001b[0m │         \u001b[1;36m1\u001b[0m │ False   │ \u001b[32mGEN   \u001b[0m │ \u001b[32m## PROVISIONAL (02)                  \u001b[0m │ False   │ \u001b[32mYES      \u001b[0m │ \u001b[2mNULL\u001b[0m           │ \u001b[2mNULL\u001b[0m             │ \u001b[32mTOTAL \u001b[0m │ \u001b[32m2     \u001b[0m │ False        │\n",
       "│  \u001b[1;36m2018\u001b[0m │ \u001b[35m2018-11-06\u001b[0m │ \u001b[32mVA      \u001b[0m │ \u001b[32mACCOMACK   \u001b[0m │ \u001b[32m51001      \u001b[0m │ \u001b[32mACCOMACK         \u001b[0m │ \u001b[32m51001            \u001b[0m │ \u001b[2mNULL\u001b[0m     │ \u001b[32mPROPOSED CONSTITUTIONAL AMENDMENT QUESTION 1\u001b[0m │         \u001b[1;36m1\u001b[0m │ False   │ \u001b[32mGEN   \u001b[0m │ \u001b[32m101 - CHINCOTEAGUE (02)              \u001b[0m │ False   │ \u001b[32mNO       \u001b[0m │ \u001b[2mNULL\u001b[0m           │ \u001b[2mNULL\u001b[0m             │ \u001b[32mTOTAL \u001b[0m │ \u001b[32m285   \u001b[0m │ False        │\n",
       "│  \u001b[1;36m2018\u001b[0m │ \u001b[35m2018-11-06\u001b[0m │ \u001b[32mVA      \u001b[0m │ \u001b[32mACCOMACK   \u001b[0m │ \u001b[32m51001      \u001b[0m │ \u001b[32mACCOMACK         \u001b[0m │ \u001b[32m51001            \u001b[0m │ \u001b[2mNULL\u001b[0m     │ \u001b[32mPROPOSED CONSTITUTIONAL AMENDMENT QUESTION 1\u001b[0m │         \u001b[1;36m1\u001b[0m │ False   │ \u001b[32mGEN   \u001b[0m │ \u001b[32m101 - CHINCOTEAGUE (02)              \u001b[0m │ False   │ \u001b[32mYES      \u001b[0m │ \u001b[2mNULL\u001b[0m           │ \u001b[2mNULL\u001b[0m             │ \u001b[32mTOTAL \u001b[0m │ \u001b[32m1098  \u001b[0m │ False        │\n",
       "│  \u001b[1;36m2018\u001b[0m │ \u001b[35m2018-11-06\u001b[0m │ \u001b[32mVA      \u001b[0m │ \u001b[32mACCOMACK   \u001b[0m │ \u001b[32m51001      \u001b[0m │ \u001b[32mACCOMACK         \u001b[0m │ \u001b[32m51001            \u001b[0m │ \u001b[2mNULL\u001b[0m     │ \u001b[32mPROPOSED CONSTITUTIONAL AMENDMENT QUESTION 1\u001b[0m │         \u001b[1;36m1\u001b[0m │ False   │ \u001b[32mGEN   \u001b[0m │ \u001b[32m201 - ATLANTIC (02)                  \u001b[0m │ False   │ \u001b[32mNO       \u001b[0m │ \u001b[2mNULL\u001b[0m           │ \u001b[2mNULL\u001b[0m             │ \u001b[32mTOTAL \u001b[0m │ \u001b[32m202   \u001b[0m │ False        │\n",
       "│  \u001b[1;36m2018\u001b[0m │ \u001b[35m2018-11-06\u001b[0m │ \u001b[32mVA      \u001b[0m │ \u001b[32mACCOMACK   \u001b[0m │ \u001b[32m51001      \u001b[0m │ \u001b[32mACCOMACK         \u001b[0m │ \u001b[32m51001            \u001b[0m │ \u001b[2mNULL\u001b[0m     │ \u001b[32mPROPOSED CONSTITUTIONAL AMENDMENT QUESTION 1\u001b[0m │         \u001b[1;36m1\u001b[0m │ False   │ \u001b[32mGEN   \u001b[0m │ \u001b[32m201 - ATLANTIC (02)                  \u001b[0m │ False   │ \u001b[32mYES      \u001b[0m │ \u001b[2mNULL\u001b[0m           │ \u001b[2mNULL\u001b[0m             │ \u001b[32mTOTAL \u001b[0m │ \u001b[32m388   \u001b[0m │ False        │\n",
       "│  \u001b[1;36m2018\u001b[0m │ \u001b[35m2018-11-06\u001b[0m │ \u001b[32mVA      \u001b[0m │ \u001b[32mACCOMACK   \u001b[0m │ \u001b[32m51001      \u001b[0m │ \u001b[32mACCOMACK         \u001b[0m │ \u001b[32m51001            \u001b[0m │ \u001b[2mNULL\u001b[0m     │ \u001b[32mPROPOSED CONSTITUTIONAL AMENDMENT QUESTION 1\u001b[0m │         \u001b[1;36m1\u001b[0m │ False   │ \u001b[32mGEN   \u001b[0m │ \u001b[32m202 - GREENBACKVILLE (02)            \u001b[0m │ False   │ \u001b[32mNO       \u001b[0m │ \u001b[2mNULL\u001b[0m           │ \u001b[2mNULL\u001b[0m             │ \u001b[32mTOTAL \u001b[0m │ \u001b[32m233   \u001b[0m │ False        │\n",
       "│  \u001b[1;36m2018\u001b[0m │ \u001b[35m2018-11-06\u001b[0m │ \u001b[32mVA      \u001b[0m │ \u001b[32mACCOMACK   \u001b[0m │ \u001b[32m51001      \u001b[0m │ \u001b[32mACCOMACK         \u001b[0m │ \u001b[32m51001            \u001b[0m │ \u001b[2mNULL\u001b[0m     │ \u001b[32mPROPOSED CONSTITUTIONAL AMENDMENT QUESTION 1\u001b[0m │         \u001b[1;36m1\u001b[0m │ False   │ \u001b[32mGEN   \u001b[0m │ \u001b[32m202 - GREENBACKVILLE (02)            \u001b[0m │ False   │ \u001b[32mYES      \u001b[0m │ \u001b[2mNULL\u001b[0m           │ \u001b[2mNULL\u001b[0m             │ \u001b[32mTOTAL \u001b[0m │ \u001b[32m580   \u001b[0m │ False        │\n",
       "│     \u001b[2m…\u001b[0m │ \u001b[2m…\u001b[0m          │ \u001b[2m…\u001b[0m        │ \u001b[2m…\u001b[0m           │ \u001b[2m…\u001b[0m           │ \u001b[2m…\u001b[0m                 │ \u001b[2m…\u001b[0m                 │ \u001b[2m…\u001b[0m        │ \u001b[2m…\u001b[0m                                            │         \u001b[2m…\u001b[0m │ \u001b[2m…\u001b[0m       │ \u001b[2m…\u001b[0m      │ \u001b[2m…\u001b[0m                                     │ \u001b[2m…\u001b[0m       │ \u001b[2m…\u001b[0m         │ \u001b[2m…\u001b[0m              │ \u001b[2m…\u001b[0m                │ \u001b[2m…\u001b[0m      │ \u001b[2m…\u001b[0m      │ \u001b[2m…\u001b[0m            │\n",
       "└───────┴────────────┴──────────┴─────────────┴─────────────┴───────────────────┴───────────────────┴──────────┴──────────────────────────────────────────────┴───────────┴─────────┴────────┴───────────────────────────────────────┴─────────┴───────────┴────────────────┴──────────────────┴────────┴────────┴──────────────┘"
      ]
     },
     "execution_count": 2,
     "metadata": {},
     "output_type": "execute_result"
    }
   ],
   "source": [
    "# Use this as reference for what MEDSL did previously, since their replication\n",
    "# scripts are insufficient.\n",
    "medsl = ibis.read_parquet(\"../data/cleaned_medsl.parquet\")\n",
    "medsl_va = medsl.filter(_.state_po == \"VA\")\n",
    "medsl_va"
   ]
  },
  {
   "cell_type": "code",
   "execution_count": 3,
   "metadata": {},
   "outputs": [],
   "source": [
    "# see https://apps.elections.virginia.gov/SBE_CSV/ELECTIONS/ELECTIONRESULTS/\n",
    "# There are other races available, such as primaries.\n",
    "urls = {\n",
    "    2017: \"https://apps.elections.virginia.gov/SBE_CSV/ELECTIONS/ELECTIONRESULTS/2017/2017%20November%20General.csv\",\n",
    "    2019: \"https://apps.elections.virginia.gov/SBE_CSV/ELECTIONS/ELECTIONRESULTS/2019/2019%20November%20General.csv\",\n",
    "    2021: \"https://apps.elections.virginia.gov/SBE_CSV/ELECTIONS/ELECTIONRESULTS/2021/2021%20November%20General%20.csv\",\n",
    "    # 2023 isn't available yet :( https://apps.elections.virginia.gov/SBE_CSV/ELECTIONS/ELECTIONRESULTS/2023/\n",
    "}\n",
    "paths = {year: Path(f\"../data/va/{year}.csv\") for year in urls}\n",
    "for year, url in urls.items():\n",
    "    path = paths[year]\n",
    "    path.parent.mkdir(parents=True, exist_ok=True)\n",
    "    if not path.exists():\n",
    "        print(f\"Downloading {year} results to {path}\")\n",
    "        !curl -o {path} {url}"
   ]
  },
  {
   "cell_type": "code",
   "execution_count": 4,
   "metadata": {},
   "outputs": [
    {
     "data": {
      "application/vnd.jupyter.widget-view+json": {
       "model_id": "59df35e8e03847e585ef2ce73e3aa33f",
       "version_major": 2,
       "version_minor": 0
      },
      "text/plain": [
       "┏━━━━━━━━━━┳━━━━━━━━━━━━━━━━━━━━━━━━━━━━━━━━━━━━━━━━┳━━━━━━━━━━━┳━━━━━━━━━━━━┳━━━━━━━━━━━━━━━━┳━━━━━━━━┳━━━━━━━━━━━━━┳━━━━━━━━━━━━━┳━━━━━━━━━━━━━┳━━━━━━━━━━━━━━━━━━━━━━━━━━━━━━━━━━━━━━━━┳━━━━━━━━━━━━━━┳━━━━━━━━━━━━━━━━━┳━━━━━━━━━━━━━┳━━━━━━━━━━━━━━━━┳━━━━━━━━━━━━━━━━━━━━━━━━━━━━━━━━━━━━━━━━┳━━━━━━━━━━━━━━━━━━━━┳━━━━━━━━━━━━━━┳━━━━━━━━━━━━━━━━━━━━━━━━━━━━━━━━━━━━━━━━┳━━━━━━━━━━━━━━━━━━━━━━━━━━━━━━━━━┳━━━━━━━━━━━━━━━━━━━━━━━━━━━━━━━━━━━━━━━━┳━━━━━━━━━━━━━━┳━━━━━━━━━━━━━━━━━━━━━┳━━━━━━━━━━━━━━━━━━━━━━━━┳━━━━━━━┓\n",
       "┃\u001b[1m \u001b[0m\u001b[1m__row_id\u001b[0m\u001b[1m \u001b[0m┃\u001b[1m \u001b[0m\u001b[1mCandidateUid\u001b[0m\u001b[1m                          \u001b[0m\u001b[1m \u001b[0m┃\u001b[1m \u001b[0m\u001b[1mFirstName\u001b[0m\u001b[1m \u001b[0m┃\u001b[1m \u001b[0m\u001b[1mMiddleName\u001b[0m\u001b[1m \u001b[0m┃\u001b[1m \u001b[0m\u001b[1mLastName\u001b[0m\u001b[1m      \u001b[0m\u001b[1m \u001b[0m┃\u001b[1m \u001b[0m\u001b[1mSuffix\u001b[0m\u001b[1m \u001b[0m┃\u001b[1m \u001b[0m\u001b[1mTOTAL_VOTES\u001b[0m\u001b[1m \u001b[0m┃\u001b[1m \u001b[0m\u001b[1mParty\u001b[0m\u001b[1m      \u001b[0m\u001b[1m \u001b[0m┃\u001b[1m \u001b[0m\u001b[1mWriteInVote\u001b[0m\u001b[1m \u001b[0m┃\u001b[1m \u001b[0m\u001b[1mLocalityUid\u001b[0m\u001b[1m                           \u001b[0m\u001b[1m \u001b[0m┃\u001b[1m \u001b[0m\u001b[1mLocalityCode\u001b[0m\u001b[1m \u001b[0m┃\u001b[1m \u001b[0m\u001b[1mLocalityName\u001b[0m\u001b[1m   \u001b[0m\u001b[1m \u001b[0m┃\u001b[1m \u001b[0m\u001b[1mPrecinctUid\u001b[0m\u001b[1m \u001b[0m┃\u001b[1m \u001b[0m\u001b[1mPrecinctName\u001b[0m\u001b[1m  \u001b[0m\u001b[1m \u001b[0m┃\u001b[1m \u001b[0m\u001b[1mDistrictUid\u001b[0m\u001b[1m                           \u001b[0m\u001b[1m \u001b[0m┃\u001b[1m \u001b[0m\u001b[1mDistrictType\u001b[0m\u001b[1m      \u001b[0m\u001b[1m \u001b[0m┃\u001b[1m \u001b[0m\u001b[1mDistrictName\u001b[0m\u001b[1m \u001b[0m┃\u001b[1m \u001b[0m\u001b[1mOfficeUid\u001b[0m\u001b[1m                             \u001b[0m\u001b[1m \u001b[0m┃\u001b[1m \u001b[0m\u001b[1mOfficeTitle\u001b[0m\u001b[1m                    \u001b[0m\u001b[1m \u001b[0m┃\u001b[1m \u001b[0m\u001b[1mElectionUid\u001b[0m\u001b[1m                           \u001b[0m\u001b[1m \u001b[0m┃\u001b[1m \u001b[0m\u001b[1mElectionType\u001b[0m\u001b[1m \u001b[0m┃\u001b[1m \u001b[0m\u001b[1mElectionDate\u001b[0m\u001b[1m       \u001b[0m\u001b[1m \u001b[0m┃\u001b[1m \u001b[0m\u001b[1mElectionName\u001b[0m\u001b[1m          \u001b[0m\u001b[1m \u001b[0m┃\u001b[1m \u001b[0m\u001b[1myear\u001b[0m\u001b[1m \u001b[0m\u001b[1m \u001b[0m┃\n",
       "┡━━━━━━━━━━╇━━━━━━━━━━━━━━━━━━━━━━━━━━━━━━━━━━━━━━━━╇━━━━━━━━━━━╇━━━━━━━━━━━━╇━━━━━━━━━━━━━━━━╇━━━━━━━━╇━━━━━━━━━━━━━╇━━━━━━━━━━━━━╇━━━━━━━━━━━━━╇━━━━━━━━━━━━━━━━━━━━━━━━━━━━━━━━━━━━━━━━╇━━━━━━━━━━━━━━╇━━━━━━━━━━━━━━━━━╇━━━━━━━━━━━━━╇━━━━━━━━━━━━━━━━╇━━━━━━━━━━━━━━━━━━━━━━━━━━━━━━━━━━━━━━━━╇━━━━━━━━━━━━━━━━━━━━╇━━━━━━━━━━━━━━╇━━━━━━━━━━━━━━━━━━━━━━━━━━━━━━━━━━━━━━━━╇━━━━━━━━━━━━━━━━━━━━━━━━━━━━━━━━━╇━━━━━━━━━━━━━━━━━━━━━━━━━━━━━━━━━━━━━━━━╇━━━━━━━━━━━━━━╇━━━━━━━━━━━━━━━━━━━━━╇━━━━━━━━━━━━━━━━━━━━━━━━╇━━━━━━━┩\n",
       "│ \u001b[2mint64\u001b[0m    │ \u001b[2mstring\u001b[0m                                 │ \u001b[2mstring\u001b[0m    │ \u001b[2mstring\u001b[0m     │ \u001b[2mstring\u001b[0m         │ \u001b[2mstring\u001b[0m │ \u001b[2mint64\u001b[0m       │ \u001b[2mstring\u001b[0m      │ \u001b[2mint64\u001b[0m       │ \u001b[2mstring\u001b[0m                                 │ \u001b[2mstring\u001b[0m       │ \u001b[2mstring\u001b[0m          │ \u001b[2mstring\u001b[0m      │ \u001b[2mstring\u001b[0m         │ \u001b[2mstring\u001b[0m                                 │ \u001b[2mstring\u001b[0m             │ \u001b[2mstring\u001b[0m       │ \u001b[2mstring\u001b[0m                                 │ \u001b[2mstring\u001b[0m                          │ \u001b[2mstring\u001b[0m                                 │ \u001b[2mstring\u001b[0m       │ \u001b[2mtimestamp(6)\u001b[0m        │ \u001b[2mstring\u001b[0m                 │ \u001b[2mint16\u001b[0m │\n",
       "├──────────┼────────────────────────────────────────┼───────────┼────────────┼────────────────┼────────┼─────────────┼─────────────┼─────────────┼────────────────────────────────────────┼──────────────┼─────────────────┼─────────────┼────────────────┼────────────────────────────────────────┼────────────────────┼──────────────┼────────────────────────────────────────┼─────────────────────────────────┼────────────────────────────────────────┼──────────────┼─────────────────────┼────────────────────────┼───────┤\n",
       "│        \u001b[1;36m0\u001b[0m │ \u001b[2mNULL\u001b[0m                                   │ \u001b[2mNULL\u001b[0m      │ \u001b[2mNULL\u001b[0m       │ \u001b[32mWRITE IN VOTES\u001b[0m │ \u001b[2mNULL\u001b[0m   │        \u001b[2mNULL\u001b[0m │ \u001b[2mNULL\u001b[0m        │           \u001b[1;36m1\u001b[0m │ \u001b[32m{15B7E141-2D1D-44C2-A50A-AAE021BC9B7D}\u001b[0m │ \u001b[32m001         \u001b[0m │ \u001b[32mACCOMACK COUNTY\u001b[0m │ \u001b[2mNULL\u001b[0m        │ \u001b[32m## Provisional\u001b[0m │ \u001b[32m{8967B9DD-E94E-4964-A919-30E520165984}\u001b[0m │ \u001b[32mCongressional     \u001b[0m │ \u001b[32m02          \u001b[0m │ \u001b[32m{F50349D9-A292-4792-B60E-07EDF172B35C}\u001b[0m │ \u001b[32mGovernor                       \u001b[0m │ \u001b[32m{E9ACA620-4CC0-4681-AB15-D5DC73A9A5D8}\u001b[0m │ \u001b[32mGeneral     \u001b[0m │ \u001b[35m2021-11-02 00:00:00\u001b[0m │ \u001b[32m2021 November General \u001b[0m │  \u001b[1;36m2021\u001b[0m │\n",
       "│        \u001b[1;36m1\u001b[0m │ \u001b[2mNULL\u001b[0m                                   │ \u001b[2mNULL\u001b[0m      │ \u001b[2mNULL\u001b[0m       │ \u001b[32mWRITE IN VOTES\u001b[0m │ \u001b[2mNULL\u001b[0m   │        \u001b[2mNULL\u001b[0m │ \u001b[2mNULL\u001b[0m        │           \u001b[1;36m1\u001b[0m │ \u001b[32m{15B7E141-2D1D-44C2-A50A-AAE021BC9B7D}\u001b[0m │ \u001b[32m001         \u001b[0m │ \u001b[32mACCOMACK COUNTY\u001b[0m │ \u001b[2mNULL\u001b[0m        │ \u001b[32m## Provisional\u001b[0m │ \u001b[32m{8967B9DD-E94E-4964-A919-30E520165984}\u001b[0m │ \u001b[32mCongressional     \u001b[0m │ \u001b[32m02          \u001b[0m │ \u001b[32m{D81856DF-F88B-4450-AA16-26A382CE97AD}\u001b[0m │ \u001b[32mAttorney General               \u001b[0m │ \u001b[32m{E9ACA620-4CC0-4681-AB15-D5DC73A9A5D8}\u001b[0m │ \u001b[32mGeneral     \u001b[0m │ \u001b[35m2021-11-02 00:00:00\u001b[0m │ \u001b[32m2021 November General \u001b[0m │  \u001b[1;36m2021\u001b[0m │\n",
       "│        \u001b[1;36m2\u001b[0m │ \u001b[2mNULL\u001b[0m                                   │ \u001b[2mNULL\u001b[0m      │ \u001b[2mNULL\u001b[0m       │ \u001b[32mWRITE IN VOTES\u001b[0m │ \u001b[2mNULL\u001b[0m   │        \u001b[2mNULL\u001b[0m │ \u001b[2mNULL\u001b[0m        │           \u001b[1;36m1\u001b[0m │ \u001b[32m{15B7E141-2D1D-44C2-A50A-AAE021BC9B7D}\u001b[0m │ \u001b[32m001         \u001b[0m │ \u001b[32mACCOMACK COUNTY\u001b[0m │ \u001b[2mNULL\u001b[0m        │ \u001b[32m## Provisional\u001b[0m │ \u001b[32m{8967B9DD-E94E-4964-A919-30E520165984}\u001b[0m │ \u001b[32mCongressional     \u001b[0m │ \u001b[32m02          \u001b[0m │ \u001b[32m{C9719525-54D6-4AD4-9F6B-72068D53BABE}\u001b[0m │ \u001b[32mLieutenant Governor            \u001b[0m │ \u001b[32m{E9ACA620-4CC0-4681-AB15-D5DC73A9A5D8}\u001b[0m │ \u001b[32mGeneral     \u001b[0m │ \u001b[35m2021-11-02 00:00:00\u001b[0m │ \u001b[32m2021 November General \u001b[0m │  \u001b[1;36m2021\u001b[0m │\n",
       "│        \u001b[1;36m3\u001b[0m │ \u001b[2mNULL\u001b[0m                                   │ \u001b[2mNULL\u001b[0m      │ \u001b[2mNULL\u001b[0m       │ \u001b[32mWRITE IN VOTES\u001b[0m │ \u001b[2mNULL\u001b[0m   │        \u001b[2mNULL\u001b[0m │ \u001b[2mNULL\u001b[0m        │           \u001b[1;36m1\u001b[0m │ \u001b[32m{15B7E141-2D1D-44C2-A50A-AAE021BC9B7D}\u001b[0m │ \u001b[32m001         \u001b[0m │ \u001b[32mACCOMACK COUNTY\u001b[0m │ \u001b[2mNULL\u001b[0m        │ \u001b[32m## Provisional\u001b[0m │ \u001b[32m{8D4B8CF5-3FB6-4BE1-BEAE-3A82A80C9D17}\u001b[0m │ \u001b[32mTown              \u001b[0m │ \u001b[32mCHINCOTEAGUE\u001b[0m │ \u001b[32m{BAF479DA-31FA-4A2D-A2BA-8421E541C00F}\u001b[0m │ \u001b[32mMember Town Council - Special  \u001b[0m │ \u001b[32m{E9ACA620-4CC0-4681-AB15-D5DC73A9A5D8}\u001b[0m │ \u001b[32mGeneral     \u001b[0m │ \u001b[35m2021-11-02 00:00:00\u001b[0m │ \u001b[32m2021 November General \u001b[0m │  \u001b[1;36m2021\u001b[0m │\n",
       "│        \u001b[1;36m4\u001b[0m │ \u001b[2mNULL\u001b[0m                                   │ \u001b[2mNULL\u001b[0m      │ \u001b[2mNULL\u001b[0m       │ \u001b[32mWRITE IN VOTES\u001b[0m │ \u001b[2mNULL\u001b[0m   │        \u001b[2mNULL\u001b[0m │ \u001b[2mNULL\u001b[0m        │           \u001b[1;36m1\u001b[0m │ \u001b[32m{15B7E141-2D1D-44C2-A50A-AAE021BC9B7D}\u001b[0m │ \u001b[32m001         \u001b[0m │ \u001b[32mACCOMACK COUNTY\u001b[0m │ \u001b[2mNULL\u001b[0m        │ \u001b[32m## Provisional\u001b[0m │ \u001b[32m{E0057B45-D6FD-4F56-B458-41F4B7C807C2}\u001b[0m │ \u001b[32mHouse of Delegates\u001b[0m │ \u001b[32m100         \u001b[0m │ \u001b[32m{972FB6A1-0DAD-48F0-95A5-7A84F16E314D}\u001b[0m │ \u001b[32mMember House of Delegates      \u001b[0m │ \u001b[32m{E9ACA620-4CC0-4681-AB15-D5DC73A9A5D8}\u001b[0m │ \u001b[32mGeneral     \u001b[0m │ \u001b[35m2021-11-02 00:00:00\u001b[0m │ \u001b[32m2021 November General \u001b[0m │  \u001b[1;36m2021\u001b[0m │\n",
       "│        \u001b[1;36m5\u001b[0m │ \u001b[2mNULL\u001b[0m                                   │ \u001b[2mNULL\u001b[0m      │ \u001b[2mNULL\u001b[0m       │ \u001b[32mWRITE IN VOTES\u001b[0m │ \u001b[2mNULL\u001b[0m   │        \u001b[2mNULL\u001b[0m │ \u001b[2mNULL\u001b[0m        │           \u001b[1;36m1\u001b[0m │ \u001b[32m{15B7E141-2D1D-44C2-A50A-AAE021BC9B7D}\u001b[0m │ \u001b[32m001         \u001b[0m │ \u001b[32mACCOMACK COUNTY\u001b[0m │ \u001b[2mNULL\u001b[0m        │ \u001b[32m## Provisional\u001b[0m │ \u001b[32m{05BBA99B-D90A-4413-A142-8163C13316D2}\u001b[0m │ \u001b[32mTown              \u001b[0m │ \u001b[32mPARKSLEY    \u001b[0m │ \u001b[32m{A9D03EF5-D973-4939-B2DE-2BE6165865D1}\u001b[0m │ \u001b[32mMember Town Council -- Parksley\u001b[0m │ \u001b[32m{E9ACA620-4CC0-4681-AB15-D5DC73A9A5D8}\u001b[0m │ \u001b[32mGeneral     \u001b[0m │ \u001b[35m2021-11-02 00:00:00\u001b[0m │ \u001b[32m2021 November General \u001b[0m │  \u001b[1;36m2021\u001b[0m │\n",
       "│        \u001b[1;36m6\u001b[0m │ \u001b[2mNULL\u001b[0m                                   │ \u001b[2mNULL\u001b[0m      │ \u001b[2mNULL\u001b[0m       │ \u001b[32mWRITE IN VOTES\u001b[0m │ \u001b[2mNULL\u001b[0m   │        \u001b[2mNULL\u001b[0m │ \u001b[2mNULL\u001b[0m        │           \u001b[1;36m1\u001b[0m │ \u001b[32m{15B7E141-2D1D-44C2-A50A-AAE021BC9B7D}\u001b[0m │ \u001b[32m001         \u001b[0m │ \u001b[32mACCOMACK COUNTY\u001b[0m │ \u001b[2mNULL\u001b[0m        │ \u001b[32m## Provisional\u001b[0m │ \u001b[32m{05BBA99B-D90A-4413-A142-8163C13316D2}\u001b[0m │ \u001b[32mTown              \u001b[0m │ \u001b[32mPARKSLEY    \u001b[0m │ \u001b[32m{5A7D053B-A5B5-43B2-91A7-4D92D7690888}\u001b[0m │ \u001b[32mMember Town Council - Parksley \u001b[0m │ \u001b[32m{E9ACA620-4CC0-4681-AB15-D5DC73A9A5D8}\u001b[0m │ \u001b[32mGeneral     \u001b[0m │ \u001b[35m2021-11-02 00:00:00\u001b[0m │ \u001b[32m2021 November General \u001b[0m │  \u001b[1;36m2021\u001b[0m │\n",
       "│        \u001b[1;36m7\u001b[0m │ \u001b[32m{6DD39892-F7A7-4E7B-B223-0108F0F1FEA9}\u001b[0m │ \u001b[32mBradley  \u001b[0m │ \u001b[32mDavid     \u001b[0m │ \u001b[32mYork          \u001b[0m │ \u001b[2mNULL\u001b[0m   │        \u001b[2mNULL\u001b[0m │ \u001b[32mIndependent\u001b[0m │           \u001b[1;36m0\u001b[0m │ \u001b[32m{15B7E141-2D1D-44C2-A50A-AAE021BC9B7D}\u001b[0m │ \u001b[32m001         \u001b[0m │ \u001b[32mACCOMACK COUNTY\u001b[0m │ \u001b[2mNULL\u001b[0m        │ \u001b[32m## Provisional\u001b[0m │ \u001b[32m{05BBA99B-D90A-4413-A142-8163C13316D2}\u001b[0m │ \u001b[32mTown              \u001b[0m │ \u001b[32mPARKSLEY    \u001b[0m │ \u001b[32m{A9D03EF5-D973-4939-B2DE-2BE6165865D1}\u001b[0m │ \u001b[32mMember Town Council -- Parksley\u001b[0m │ \u001b[32m{E9ACA620-4CC0-4681-AB15-D5DC73A9A5D8}\u001b[0m │ \u001b[32mGeneral     \u001b[0m │ \u001b[35m2021-11-02 00:00:00\u001b[0m │ \u001b[32m2021 November General \u001b[0m │  \u001b[1;36m2021\u001b[0m │\n",
       "│        \u001b[1;36m8\u001b[0m │ \u001b[32m{EAA5B7ED-F6F1-4B78-9368-7935C11774CE}\u001b[0m │ \u001b[32mCAROL    \u001b[0m │ \u001b[32mELIZABETH \u001b[0m │ \u001b[32mMATTHEWS      \u001b[0m │ \u001b[2mNULL\u001b[0m   │        \u001b[2mNULL\u001b[0m │ \u001b[32mIndependent\u001b[0m │           \u001b[1;36m0\u001b[0m │ \u001b[32m{15B7E141-2D1D-44C2-A50A-AAE021BC9B7D}\u001b[0m │ \u001b[32m001         \u001b[0m │ \u001b[32mACCOMACK COUNTY\u001b[0m │ \u001b[2mNULL\u001b[0m        │ \u001b[32m## Provisional\u001b[0m │ \u001b[32m{05BBA99B-D90A-4413-A142-8163C13316D2}\u001b[0m │ \u001b[32mTown              \u001b[0m │ \u001b[32mPARKSLEY    \u001b[0m │ \u001b[32m{A9D03EF5-D973-4939-B2DE-2BE6165865D1}\u001b[0m │ \u001b[32mMember Town Council -- Parksley\u001b[0m │ \u001b[32m{E9ACA620-4CC0-4681-AB15-D5DC73A9A5D8}\u001b[0m │ \u001b[32mGeneral     \u001b[0m │ \u001b[35m2021-11-02 00:00:00\u001b[0m │ \u001b[32m2021 November General \u001b[0m │  \u001b[1;36m2021\u001b[0m │\n",
       "│        \u001b[1;36m9\u001b[0m │ \u001b[32m{D79DA333-F1CF-4031-BD1A-45C686BD6EBE}\u001b[0m │ \u001b[32mETHAN    \u001b[0m │ \u001b[32mFRANCIS   \u001b[0m │ \u001b[32mMATTHEWS      \u001b[0m │ \u001b[2mNULL\u001b[0m   │        \u001b[2mNULL\u001b[0m │ \u001b[32mIndependent\u001b[0m │           \u001b[1;36m0\u001b[0m │ \u001b[32m{15B7E141-2D1D-44C2-A50A-AAE021BC9B7D}\u001b[0m │ \u001b[32m001         \u001b[0m │ \u001b[32mACCOMACK COUNTY\u001b[0m │ \u001b[2mNULL\u001b[0m        │ \u001b[32m## Provisional\u001b[0m │ \u001b[32m{05BBA99B-D90A-4413-A142-8163C13316D2}\u001b[0m │ \u001b[32mTown              \u001b[0m │ \u001b[32mPARKSLEY    \u001b[0m │ \u001b[32m{5A7D053B-A5B5-43B2-91A7-4D92D7690888}\u001b[0m │ \u001b[32mMember Town Council - Parksley \u001b[0m │ \u001b[32m{E9ACA620-4CC0-4681-AB15-D5DC73A9A5D8}\u001b[0m │ \u001b[32mGeneral     \u001b[0m │ \u001b[35m2021-11-02 00:00:00\u001b[0m │ \u001b[32m2021 November General \u001b[0m │  \u001b[1;36m2021\u001b[0m │\n",
       "│        \u001b[2m…\u001b[0m │ \u001b[2m…\u001b[0m                                      │ \u001b[2m…\u001b[0m         │ \u001b[2m…\u001b[0m          │ \u001b[2m…\u001b[0m              │ \u001b[2m…\u001b[0m      │           \u001b[2m…\u001b[0m │ \u001b[2m…\u001b[0m           │           \u001b[2m…\u001b[0m │ \u001b[2m…\u001b[0m                                      │ \u001b[2m…\u001b[0m            │ \u001b[2m…\u001b[0m               │ \u001b[2m…\u001b[0m           │ \u001b[2m…\u001b[0m              │ \u001b[2m…\u001b[0m                                      │ \u001b[2m…\u001b[0m                  │ \u001b[2m…\u001b[0m            │ \u001b[2m…\u001b[0m                                      │ \u001b[2m…\u001b[0m                               │ \u001b[2m…\u001b[0m                                      │ \u001b[2m…\u001b[0m            │ \u001b[2m…\u001b[0m                   │ \u001b[2m…\u001b[0m                      │     \u001b[2m…\u001b[0m │\n",
       "└──────────┴────────────────────────────────────────┴───────────┴────────────┴────────────────┴────────┴─────────────┴─────────────┴─────────────┴────────────────────────────────────────┴──────────────┴─────────────────┴─────────────┴────────────────┴────────────────────────────────────────┴────────────────────┴──────────────┴────────────────────────────────────────┴─────────────────────────────────┴────────────────────────────────────────┴──────────────┴─────────────────────┴────────────────────────┴───────┘"
      ]
     },
     "execution_count": 4,
     "metadata": {},
     "output_type": "execute_result"
    }
   ],
   "source": [
    "raws = [ibis.read_csv(paths[year]).mutate(year=year) for year in urls]\n",
    "raw = ibis.union(*raws)\n",
    "raw.widget()"
   ]
  },
  {
   "cell_type": "markdown",
   "metadata": {},
   "source": [
    "## Easy cleaning"
   ]
  },
  {
   "cell_type": "code",
   "execution_count": 5,
   "metadata": {},
   "outputs": [
    {
     "data": {
      "application/vnd.jupyter.widget-view+json": {
       "model_id": "7f6fba7f88b842e7a6b1d0ab6a2f9b37",
       "version_major": 2,
       "version_minor": 0
      },
      "text/plain": [
       "┏━━━━━━━━━━┳━━━━━━━━━━━┳━━━━━━━━━━━━┳━━━━━━━━━━━━━━━━┳━━━━━━━━┳━━━━━━━━━━━━━┳━━━━━━━━━━━━━┳━━━━━━━━━━━━━━━━━┳━━━━━━━━━━━━━━━━┳━━━━━━━━━━━━━━━━━━━━┳━━━━━━━━━━━━━━┳━━━━━━━━━━━━━━━━━━━━━━━━━━━━━━━━━┳━━━━━━━┳━━━━━━━━┳━━━━━━━━┳━━━━━━━━━━━━┳━━━━━━━━━━━━━━┳━━━━━━━━━┳━━━━━━━━┓\n",
       "┃\u001b[1m \u001b[0m\u001b[1m__row_id\u001b[0m\u001b[1m \u001b[0m┃\u001b[1m \u001b[0m\u001b[1mFirstName\u001b[0m\u001b[1m \u001b[0m┃\u001b[1m \u001b[0m\u001b[1mMiddleName\u001b[0m\u001b[1m \u001b[0m┃\u001b[1m \u001b[0m\u001b[1mLastName\u001b[0m\u001b[1m      \u001b[0m\u001b[1m \u001b[0m┃\u001b[1m \u001b[0m\u001b[1mSuffix\u001b[0m\u001b[1m \u001b[0m┃\u001b[1m \u001b[0m\u001b[1mParty\u001b[0m\u001b[1m      \u001b[0m\u001b[1m \u001b[0m┃\u001b[1m \u001b[0m\u001b[1mWriteInVote\u001b[0m\u001b[1m \u001b[0m┃\u001b[1m \u001b[0m\u001b[1mLocalityName\u001b[0m\u001b[1m   \u001b[0m\u001b[1m \u001b[0m┃\u001b[1m \u001b[0m\u001b[1mPrecinctName\u001b[0m\u001b[1m  \u001b[0m\u001b[1m \u001b[0m┃\u001b[1m \u001b[0m\u001b[1mDistrictType\u001b[0m\u001b[1m      \u001b[0m\u001b[1m \u001b[0m┃\u001b[1m \u001b[0m\u001b[1mDistrictName\u001b[0m\u001b[1m \u001b[0m┃\u001b[1m \u001b[0m\u001b[1mOfficeTitle\u001b[0m\u001b[1m                    \u001b[0m\u001b[1m \u001b[0m┃\u001b[1m \u001b[0m\u001b[1myear\u001b[0m\u001b[1m \u001b[0m\u001b[1m \u001b[0m┃\u001b[1m \u001b[0m\u001b[1mvotes\u001b[0m\u001b[1m \u001b[0m\u001b[1m \u001b[0m┃\u001b[1m \u001b[0m\u001b[1mmode\u001b[0m\u001b[1m  \u001b[0m\u001b[1m \u001b[0m┃\u001b[1m \u001b[0m\u001b[1mdate\u001b[0m\u001b[1m      \u001b[0m\u001b[1m \u001b[0m┃\u001b[1m \u001b[0m\u001b[1mreadme_check\u001b[0m\u001b[1m \u001b[0m┃\u001b[1m \u001b[0m\u001b[1mspecial\u001b[0m\u001b[1m \u001b[0m┃\u001b[1m \u001b[0m\u001b[1mstage\u001b[0m\u001b[1m \u001b[0m\u001b[1m \u001b[0m┃\n",
       "┡━━━━━━━━━━╇━━━━━━━━━━━╇━━━━━━━━━━━━╇━━━━━━━━━━━━━━━━╇━━━━━━━━╇━━━━━━━━━━━━━╇━━━━━━━━━━━━━╇━━━━━━━━━━━━━━━━━╇━━━━━━━━━━━━━━━━╇━━━━━━━━━━━━━━━━━━━━╇━━━━━━━━━━━━━━╇━━━━━━━━━━━━━━━━━━━━━━━━━━━━━━━━━╇━━━━━━━╇━━━━━━━━╇━━━━━━━━╇━━━━━━━━━━━━╇━━━━━━━━━━━━━━╇━━━━━━━━━╇━━━━━━━━┩\n",
       "│ \u001b[2mint64\u001b[0m    │ \u001b[2mstring\u001b[0m    │ \u001b[2mstring\u001b[0m     │ \u001b[2mstring\u001b[0m         │ \u001b[2mstring\u001b[0m │ \u001b[2mstring\u001b[0m      │ \u001b[2mint64\u001b[0m       │ \u001b[2mstring\u001b[0m          │ \u001b[2mstring\u001b[0m         │ \u001b[2mstring\u001b[0m             │ \u001b[2mstring\u001b[0m       │ \u001b[2mstring\u001b[0m                          │ \u001b[2mint16\u001b[0m │ \u001b[2mstring\u001b[0m │ \u001b[2mstring\u001b[0m │ \u001b[2mdate\u001b[0m       │ \u001b[2mboolean\u001b[0m      │ \u001b[2mboolean\u001b[0m │ \u001b[2mstring\u001b[0m │\n",
       "├──────────┼───────────┼────────────┼────────────────┼────────┼─────────────┼─────────────┼─────────────────┼────────────────┼────────────────────┼──────────────┼─────────────────────────────────┼───────┼────────┼────────┼────────────┼──────────────┼─────────┼────────┤\n",
       "│        \u001b[1;36m0\u001b[0m │ \u001b[2mNULL\u001b[0m      │ \u001b[2mNULL\u001b[0m       │ \u001b[32mWRITE IN VOTES\u001b[0m │ \u001b[2mNULL\u001b[0m   │ \u001b[2mNULL\u001b[0m        │           \u001b[1;36m1\u001b[0m │ \u001b[32mACCOMACK COUNTY\u001b[0m │ \u001b[32m## Provisional\u001b[0m │ \u001b[32mCongressional     \u001b[0m │ \u001b[32m02          \u001b[0m │ \u001b[32mGovernor                       \u001b[0m │  \u001b[1;36m2021\u001b[0m │ \u001b[2mNULL\u001b[0m   │ \u001b[32mTOTAL \u001b[0m │ \u001b[35m2021-11-02\u001b[0m │ False        │ False   │ \u001b[32mGEN   \u001b[0m │\n",
       "│        \u001b[1;36m1\u001b[0m │ \u001b[2mNULL\u001b[0m      │ \u001b[2mNULL\u001b[0m       │ \u001b[32mWRITE IN VOTES\u001b[0m │ \u001b[2mNULL\u001b[0m   │ \u001b[2mNULL\u001b[0m        │           \u001b[1;36m1\u001b[0m │ \u001b[32mACCOMACK COUNTY\u001b[0m │ \u001b[32m## Provisional\u001b[0m │ \u001b[32mCongressional     \u001b[0m │ \u001b[32m02          \u001b[0m │ \u001b[32mAttorney General               \u001b[0m │  \u001b[1;36m2021\u001b[0m │ \u001b[2mNULL\u001b[0m   │ \u001b[32mTOTAL \u001b[0m │ \u001b[35m2021-11-02\u001b[0m │ False        │ False   │ \u001b[32mGEN   \u001b[0m │\n",
       "│        \u001b[1;36m2\u001b[0m │ \u001b[2mNULL\u001b[0m      │ \u001b[2mNULL\u001b[0m       │ \u001b[32mWRITE IN VOTES\u001b[0m │ \u001b[2mNULL\u001b[0m   │ \u001b[2mNULL\u001b[0m        │           \u001b[1;36m1\u001b[0m │ \u001b[32mACCOMACK COUNTY\u001b[0m │ \u001b[32m## Provisional\u001b[0m │ \u001b[32mCongressional     \u001b[0m │ \u001b[32m02          \u001b[0m │ \u001b[32mLieutenant Governor            \u001b[0m │  \u001b[1;36m2021\u001b[0m │ \u001b[2mNULL\u001b[0m   │ \u001b[32mTOTAL \u001b[0m │ \u001b[35m2021-11-02\u001b[0m │ False        │ False   │ \u001b[32mGEN   \u001b[0m │\n",
       "│        \u001b[1;36m3\u001b[0m │ \u001b[2mNULL\u001b[0m      │ \u001b[2mNULL\u001b[0m       │ \u001b[32mWRITE IN VOTES\u001b[0m │ \u001b[2mNULL\u001b[0m   │ \u001b[2mNULL\u001b[0m        │           \u001b[1;36m1\u001b[0m │ \u001b[32mACCOMACK COUNTY\u001b[0m │ \u001b[32m## Provisional\u001b[0m │ \u001b[32mTown              \u001b[0m │ \u001b[32mCHINCOTEAGUE\u001b[0m │ \u001b[32mMember Town Council - Special  \u001b[0m │  \u001b[1;36m2021\u001b[0m │ \u001b[2mNULL\u001b[0m   │ \u001b[32mTOTAL \u001b[0m │ \u001b[35m2021-11-02\u001b[0m │ False        │ False   │ \u001b[32mGEN   \u001b[0m │\n",
       "│        \u001b[1;36m4\u001b[0m │ \u001b[2mNULL\u001b[0m      │ \u001b[2mNULL\u001b[0m       │ \u001b[32mWRITE IN VOTES\u001b[0m │ \u001b[2mNULL\u001b[0m   │ \u001b[2mNULL\u001b[0m        │           \u001b[1;36m1\u001b[0m │ \u001b[32mACCOMACK COUNTY\u001b[0m │ \u001b[32m## Provisional\u001b[0m │ \u001b[32mHouse of Delegates\u001b[0m │ \u001b[32m100         \u001b[0m │ \u001b[32mMember House of Delegates      \u001b[0m │  \u001b[1;36m2021\u001b[0m │ \u001b[2mNULL\u001b[0m   │ \u001b[32mTOTAL \u001b[0m │ \u001b[35m2021-11-02\u001b[0m │ False        │ False   │ \u001b[32mGEN   \u001b[0m │\n",
       "│        \u001b[1;36m5\u001b[0m │ \u001b[2mNULL\u001b[0m      │ \u001b[2mNULL\u001b[0m       │ \u001b[32mWRITE IN VOTES\u001b[0m │ \u001b[2mNULL\u001b[0m   │ \u001b[2mNULL\u001b[0m        │           \u001b[1;36m1\u001b[0m │ \u001b[32mACCOMACK COUNTY\u001b[0m │ \u001b[32m## Provisional\u001b[0m │ \u001b[32mTown              \u001b[0m │ \u001b[32mPARKSLEY    \u001b[0m │ \u001b[32mMember Town Council -- Parksley\u001b[0m │  \u001b[1;36m2021\u001b[0m │ \u001b[2mNULL\u001b[0m   │ \u001b[32mTOTAL \u001b[0m │ \u001b[35m2021-11-02\u001b[0m │ False        │ False   │ \u001b[32mGEN   \u001b[0m │\n",
       "│        \u001b[1;36m6\u001b[0m │ \u001b[2mNULL\u001b[0m      │ \u001b[2mNULL\u001b[0m       │ \u001b[32mWRITE IN VOTES\u001b[0m │ \u001b[2mNULL\u001b[0m   │ \u001b[2mNULL\u001b[0m        │           \u001b[1;36m1\u001b[0m │ \u001b[32mACCOMACK COUNTY\u001b[0m │ \u001b[32m## Provisional\u001b[0m │ \u001b[32mTown              \u001b[0m │ \u001b[32mPARKSLEY    \u001b[0m │ \u001b[32mMember Town Council - Parksley \u001b[0m │  \u001b[1;36m2021\u001b[0m │ \u001b[2mNULL\u001b[0m   │ \u001b[32mTOTAL \u001b[0m │ \u001b[35m2021-11-02\u001b[0m │ False        │ False   │ \u001b[32mGEN   \u001b[0m │\n",
       "│        \u001b[1;36m7\u001b[0m │ \u001b[32mBradley  \u001b[0m │ \u001b[32mDavid     \u001b[0m │ \u001b[32mYork          \u001b[0m │ \u001b[2mNULL\u001b[0m   │ \u001b[32mIndependent\u001b[0m │           \u001b[1;36m0\u001b[0m │ \u001b[32mACCOMACK COUNTY\u001b[0m │ \u001b[32m## Provisional\u001b[0m │ \u001b[32mTown              \u001b[0m │ \u001b[32mPARKSLEY    \u001b[0m │ \u001b[32mMember Town Council -- Parksley\u001b[0m │  \u001b[1;36m2021\u001b[0m │ \u001b[2mNULL\u001b[0m   │ \u001b[32mTOTAL \u001b[0m │ \u001b[35m2021-11-02\u001b[0m │ False        │ False   │ \u001b[32mGEN   \u001b[0m │\n",
       "│        \u001b[1;36m8\u001b[0m │ \u001b[32mCAROL    \u001b[0m │ \u001b[32mELIZABETH \u001b[0m │ \u001b[32mMATTHEWS      \u001b[0m │ \u001b[2mNULL\u001b[0m   │ \u001b[32mIndependent\u001b[0m │           \u001b[1;36m0\u001b[0m │ \u001b[32mACCOMACK COUNTY\u001b[0m │ \u001b[32m## Provisional\u001b[0m │ \u001b[32mTown              \u001b[0m │ \u001b[32mPARKSLEY    \u001b[0m │ \u001b[32mMember Town Council -- Parksley\u001b[0m │  \u001b[1;36m2021\u001b[0m │ \u001b[2mNULL\u001b[0m   │ \u001b[32mTOTAL \u001b[0m │ \u001b[35m2021-11-02\u001b[0m │ False        │ False   │ \u001b[32mGEN   \u001b[0m │\n",
       "│        \u001b[1;36m9\u001b[0m │ \u001b[32mETHAN    \u001b[0m │ \u001b[32mFRANCIS   \u001b[0m │ \u001b[32mMATTHEWS      \u001b[0m │ \u001b[2mNULL\u001b[0m   │ \u001b[32mIndependent\u001b[0m │           \u001b[1;36m0\u001b[0m │ \u001b[32mACCOMACK COUNTY\u001b[0m │ \u001b[32m## Provisional\u001b[0m │ \u001b[32mTown              \u001b[0m │ \u001b[32mPARKSLEY    \u001b[0m │ \u001b[32mMember Town Council - Parksley \u001b[0m │  \u001b[1;36m2021\u001b[0m │ \u001b[2mNULL\u001b[0m   │ \u001b[32mTOTAL \u001b[0m │ \u001b[35m2021-11-02\u001b[0m │ False        │ False   │ \u001b[32mGEN   \u001b[0m │\n",
       "│        \u001b[2m…\u001b[0m │ \u001b[2m…\u001b[0m         │ \u001b[2m…\u001b[0m          │ \u001b[2m…\u001b[0m              │ \u001b[2m…\u001b[0m      │ \u001b[2m…\u001b[0m           │           \u001b[2m…\u001b[0m │ \u001b[2m…\u001b[0m               │ \u001b[2m…\u001b[0m              │ \u001b[2m…\u001b[0m                  │ \u001b[2m…\u001b[0m            │ \u001b[2m…\u001b[0m                               │     \u001b[2m…\u001b[0m │ \u001b[2m…\u001b[0m      │ \u001b[2m…\u001b[0m      │ \u001b[2m…\u001b[0m          │ \u001b[2m…\u001b[0m            │ \u001b[2m…\u001b[0m       │ \u001b[2m…\u001b[0m      │\n",
       "└──────────┴───────────┴────────────┴────────────────┴────────┴─────────────┴─────────────┴─────────────────┴────────────────┴────────────────────┴──────────────┴─────────────────────────────────┴───────┴────────┴────────┴────────────┴──────────────┴─────────┴────────┘"
      ]
     },
     "execution_count": 5,
     "metadata": {},
     "output_type": "execute_result"
    }
   ],
   "source": [
    "t = raw\n",
    "assert (t.ElectionType == \"General\").all().execute()\n",
    "t = t.drop(\"ElectionType\")\n",
    "t = t.drop(\"ElectionName\")\n",
    "\n",
    "t = t.drop(\n",
    "    \"CandidateUid\",\n",
    "    \"LocalityUid\",\n",
    "    \"LocalityCode\",\n",
    "    \"PrecinctUid\",\n",
    "    \"DistrictUid\",\n",
    "    \"OfficeUid\",\n",
    "    \"ElectionUid\",\n",
    ")\n",
    "# In the larger dataset, the vote counts can be the string \"*\",\n",
    "# so we need the votes column to be a string to match that.\n",
    "t = t.mutate(\n",
    "    votes=_.TOTAL_VOTES.cast(str),\n",
    "    mode=ibis.literal(\"TOTAL\"),\n",
    ").drop(\"TOTAL_VOTES\")\n",
    "t = t.mutate(date=_.ElectionDate.date()).drop(\"ElectionDate\")\n",
    "t = t.mutate(\n",
    "    readme_check=ibis.literal(False),\n",
    "    special=ibis.literal(False),  # Probably is wrong from some rows\n",
    "    stage=ibis.literal(ed.Stage.GEN),\n",
    ")\n",
    "\n",
    "assert (t.date.nunique()).execute() == len(urls)\n",
    "t = t.cache()\n",
    "t.widget()"
   ]
  },
  {
   "cell_type": "markdown",
   "metadata": {},
   "source": [
    "## fix county and county_fips"
   ]
  },
  {
   "cell_type": "code",
   "execution_count": 6,
   "metadata": {},
   "outputs": [
    {
     "data": {
      "text/html": [
       "<pre style=\"white-space:pre;overflow-x:auto;line-height:normal;font-family:Menlo,'DejaVu Sans Mono',consolas,'Courier New',monospace\">┏━━━━━━━━━━━━━━━━━━━━━━━┳━━━━━━━┳━━━━━━━━━━━━━━━━━━━━━┳━━━━━━━┓\n",
       "┃<span style=\"font-weight: bold\"> val_a                 </span>┃<span style=\"font-weight: bold\"> n_a   </span>┃<span style=\"font-weight: bold\"> val_b               </span>┃<span style=\"font-weight: bold\"> n_b   </span>┃\n",
       "┡━━━━━━━━━━━━━━━━━━━━━━━╇━━━━━━━╇━━━━━━━━━━━━━━━━━━━━━╇━━━━━━━┩\n",
       "│ <span style=\"color: #7f7f7f; text-decoration-color: #7f7f7f\">string</span>                │ <span style=\"color: #7f7f7f; text-decoration-color: #7f7f7f\">int64</span> │ <span style=\"color: #7f7f7f; text-decoration-color: #7f7f7f\">string</span>              │ <span style=\"color: #7f7f7f; text-decoration-color: #7f7f7f\">int64</span> │\n",
       "├───────────────────────┼───────┼─────────────────────┼───────┤\n",
       "│ <span style=\"color: #008000; text-decoration-color: #008000\">FAIRFAX COUNTY       </span> │ <span style=\"color: #008080; text-decoration-color: #008080; font-weight: bold\">15552</span> │ <span style=\"color: #7f7f7f; text-decoration-color: #7f7f7f\">NULL</span>                │  <span style=\"color: #7f7f7f; text-decoration-color: #7f7f7f\">NULL</span> │\n",
       "│ <span style=\"color: #008000; text-decoration-color: #008000\">VIRGINIA BEACH CITY  </span> │  <span style=\"color: #008080; text-decoration-color: #008080; font-weight: bold\">8349</span> │ <span style=\"color: #008000; text-decoration-color: #008000\">VIRGINIA BEACH CITY</span> │  <span style=\"color: #008080; text-decoration-color: #008080; font-weight: bold\">3282</span> │\n",
       "│ <span style=\"color: #008000; text-decoration-color: #008000\">LOUDOUN COUNTY       </span> │  <span style=\"color: #008080; text-decoration-color: #008080; font-weight: bold\">6883</span> │ <span style=\"color: #7f7f7f; text-decoration-color: #7f7f7f\">NULL</span>                │  <span style=\"color: #7f7f7f; text-decoration-color: #7f7f7f\">NULL</span> │\n",
       "│ <span style=\"color: #008000; text-decoration-color: #008000\">PRINCE WILLIAM COUNTY</span> │  <span style=\"color: #008080; text-decoration-color: #008080; font-weight: bold\">6233</span> │ <span style=\"color: #7f7f7f; text-decoration-color: #7f7f7f\">NULL</span>                │  <span style=\"color: #7f7f7f; text-decoration-color: #7f7f7f\">NULL</span> │\n",
       "│ <span style=\"color: #008000; text-decoration-color: #008000\">CHESTERFIELD COUNTY  </span> │  <span style=\"color: #008080; text-decoration-color: #008080; font-weight: bold\">5231</span> │ <span style=\"color: #7f7f7f; text-decoration-color: #7f7f7f\">NULL</span>                │  <span style=\"color: #7f7f7f; text-decoration-color: #7f7f7f\">NULL</span> │\n",
       "│ <span style=\"color: #008000; text-decoration-color: #008000\">HENRICO COUNTY       </span> │  <span style=\"color: #008080; text-decoration-color: #008080; font-weight: bold\">5074</span> │ <span style=\"color: #7f7f7f; text-decoration-color: #7f7f7f\">NULL</span>                │  <span style=\"color: #7f7f7f; text-decoration-color: #7f7f7f\">NULL</span> │\n",
       "│ <span style=\"color: #008000; text-decoration-color: #008000\">RICHMOND CITY        </span> │  <span style=\"color: #008080; text-decoration-color: #008080; font-weight: bold\">4230</span> │ <span style=\"color: #008000; text-decoration-color: #008000\">RICHMOND CITY      </span> │  <span style=\"color: #008080; text-decoration-color: #008080; font-weight: bold\">1765</span> │\n",
       "│ <span style=\"color: #008000; text-decoration-color: #008000\">CHESAPEAKE CITY      </span> │  <span style=\"color: #008080; text-decoration-color: #008080; font-weight: bold\">4021</span> │ <span style=\"color: #008000; text-decoration-color: #008000\">CHESAPEAKE CITY    </span> │  <span style=\"color: #008080; text-decoration-color: #008080; font-weight: bold\">3864</span> │\n",
       "│ <span style=\"color: #008000; text-decoration-color: #008000\">ARLINGTON COUNTY     </span> │  <span style=\"color: #008080; text-decoration-color: #008080; font-weight: bold\">3536</span> │ <span style=\"color: #7f7f7f; text-decoration-color: #7f7f7f\">NULL</span>                │  <span style=\"color: #7f7f7f; text-decoration-color: #7f7f7f\">NULL</span> │\n",
       "│ <span style=\"color: #008000; text-decoration-color: #008000\">NORFOLK CITY         </span> │  <span style=\"color: #008080; text-decoration-color: #008080; font-weight: bold\">3470</span> │ <span style=\"color: #008000; text-decoration-color: #008000\">NORFOLK CITY       </span> │  <span style=\"color: #008080; text-decoration-color: #008080; font-weight: bold\">1610</span> │\n",
       "│ <span style=\"color: #7f7f7f; text-decoration-color: #7f7f7f\">…</span>                     │     <span style=\"color: #7f7f7f; text-decoration-color: #7f7f7f\">…</span> │ <span style=\"color: #7f7f7f; text-decoration-color: #7f7f7f\">…</span>                   │     <span style=\"color: #7f7f7f; text-decoration-color: #7f7f7f\">…</span> │\n",
       "└───────────────────────┴───────┴─────────────────────┴───────┘\n",
       "</pre>\n"
      ],
      "text/plain": [
       "┏━━━━━━━━━━━━━━━━━━━━━━━┳━━━━━━━┳━━━━━━━━━━━━━━━━━━━━━┳━━━━━━━┓\n",
       "┃\u001b[1m \u001b[0m\u001b[1mval_a\u001b[0m\u001b[1m                \u001b[0m\u001b[1m \u001b[0m┃\u001b[1m \u001b[0m\u001b[1mn_a\u001b[0m\u001b[1m  \u001b[0m\u001b[1m \u001b[0m┃\u001b[1m \u001b[0m\u001b[1mval_b\u001b[0m\u001b[1m              \u001b[0m\u001b[1m \u001b[0m┃\u001b[1m \u001b[0m\u001b[1mn_b\u001b[0m\u001b[1m  \u001b[0m\u001b[1m \u001b[0m┃\n",
       "┡━━━━━━━━━━━━━━━━━━━━━━━╇━━━━━━━╇━━━━━━━━━━━━━━━━━━━━━╇━━━━━━━┩\n",
       "│ \u001b[2mstring\u001b[0m                │ \u001b[2mint64\u001b[0m │ \u001b[2mstring\u001b[0m              │ \u001b[2mint64\u001b[0m │\n",
       "├───────────────────────┼───────┼─────────────────────┼───────┤\n",
       "│ \u001b[32mFAIRFAX COUNTY       \u001b[0m │ \u001b[1;36m15552\u001b[0m │ \u001b[2mNULL\u001b[0m                │  \u001b[2mNULL\u001b[0m │\n",
       "│ \u001b[32mVIRGINIA BEACH CITY  \u001b[0m │  \u001b[1;36m8349\u001b[0m │ \u001b[32mVIRGINIA BEACH CITY\u001b[0m │  \u001b[1;36m3282\u001b[0m │\n",
       "│ \u001b[32mLOUDOUN COUNTY       \u001b[0m │  \u001b[1;36m6883\u001b[0m │ \u001b[2mNULL\u001b[0m                │  \u001b[2mNULL\u001b[0m │\n",
       "│ \u001b[32mPRINCE WILLIAM COUNTY\u001b[0m │  \u001b[1;36m6233\u001b[0m │ \u001b[2mNULL\u001b[0m                │  \u001b[2mNULL\u001b[0m │\n",
       "│ \u001b[32mCHESTERFIELD COUNTY  \u001b[0m │  \u001b[1;36m5231\u001b[0m │ \u001b[2mNULL\u001b[0m                │  \u001b[2mNULL\u001b[0m │\n",
       "│ \u001b[32mHENRICO COUNTY       \u001b[0m │  \u001b[1;36m5074\u001b[0m │ \u001b[2mNULL\u001b[0m                │  \u001b[2mNULL\u001b[0m │\n",
       "│ \u001b[32mRICHMOND CITY        \u001b[0m │  \u001b[1;36m4230\u001b[0m │ \u001b[32mRICHMOND CITY      \u001b[0m │  \u001b[1;36m1765\u001b[0m │\n",
       "│ \u001b[32mCHESAPEAKE CITY      \u001b[0m │  \u001b[1;36m4021\u001b[0m │ \u001b[32mCHESAPEAKE CITY    \u001b[0m │  \u001b[1;36m3864\u001b[0m │\n",
       "│ \u001b[32mARLINGTON COUNTY     \u001b[0m │  \u001b[1;36m3536\u001b[0m │ \u001b[2mNULL\u001b[0m                │  \u001b[2mNULL\u001b[0m │\n",
       "│ \u001b[32mNORFOLK CITY         \u001b[0m │  \u001b[1;36m3470\u001b[0m │ \u001b[32mNORFOLK CITY       \u001b[0m │  \u001b[1;36m1610\u001b[0m │\n",
       "│ \u001b[2m…\u001b[0m                     │     \u001b[2m…\u001b[0m │ \u001b[2m…\u001b[0m                   │     \u001b[2m…\u001b[0m │\n",
       "└───────────────────────┴───────┴─────────────────────┴───────┘"
      ]
     },
     "metadata": {},
     "output_type": "display_data"
    },
    {
     "data": {
      "text/html": [
       "<pre style=\"white-space:pre;overflow-x:auto;line-height:normal;font-family:Menlo,'DejaVu Sans Mono',consolas,'Courier New',monospace\">┏━━━━━━━━━━━━━━━━━━━━━┳━━━━━━━┳━━━━━━━━━━━━━━━━━━━━━┳━━━━━━━┓\n",
       "┃<span style=\"font-weight: bold\"> val_a               </span>┃<span style=\"font-weight: bold\"> n_a   </span>┃<span style=\"font-weight: bold\"> val_b               </span>┃<span style=\"font-weight: bold\"> n_b   </span>┃\n",
       "┡━━━━━━━━━━━━━━━━━━━━━╇━━━━━━━╇━━━━━━━━━━━━━━━━━━━━━╇━━━━━━━┩\n",
       "│ <span style=\"color: #7f7f7f; text-decoration-color: #7f7f7f\">string</span>              │ <span style=\"color: #7f7f7f; text-decoration-color: #7f7f7f\">int64</span> │ <span style=\"color: #7f7f7f; text-decoration-color: #7f7f7f\">string</span>              │ <span style=\"color: #7f7f7f; text-decoration-color: #7f7f7f\">int64</span> │\n",
       "├─────────────────────┼───────┼─────────────────────┼───────┤\n",
       "│ <span style=\"color: #7f7f7f; text-decoration-color: #7f7f7f\">NULL</span>                │  <span style=\"color: #7f7f7f; text-decoration-color: #7f7f7f\">NULL</span> │ <span style=\"color: #008000; text-decoration-color: #008000\">FAIRFAX            </span> │  <span style=\"color: #008080; text-decoration-color: #008080; font-weight: bold\">6353</span> │\n",
       "│ <span style=\"color: #008000; text-decoration-color: #008000\">CHESAPEAKE CITY    </span> │  <span style=\"color: #008080; text-decoration-color: #008080; font-weight: bold\">4021</span> │ <span style=\"color: #008000; text-decoration-color: #008000\">CHESAPEAKE CITY    </span> │  <span style=\"color: #008080; text-decoration-color: #008080; font-weight: bold\">3864</span> │\n",
       "│ <span style=\"color: #008000; text-decoration-color: #008000\">VIRGINIA BEACH CITY</span> │  <span style=\"color: #008080; text-decoration-color: #008080; font-weight: bold\">8349</span> │ <span style=\"color: #008000; text-decoration-color: #008000\">VIRGINIA BEACH CITY</span> │  <span style=\"color: #008080; text-decoration-color: #008080; font-weight: bold\">3282</span> │\n",
       "│ <span style=\"color: #7f7f7f; text-decoration-color: #7f7f7f\">NULL</span>                │  <span style=\"color: #7f7f7f; text-decoration-color: #7f7f7f\">NULL</span> │ <span style=\"color: #008000; text-decoration-color: #008000\">LOUDOUN            </span> │  <span style=\"color: #008080; text-decoration-color: #008080; font-weight: bold\">2841</span> │\n",
       "│ <span style=\"color: #7f7f7f; text-decoration-color: #7f7f7f\">NULL</span>                │  <span style=\"color: #7f7f7f; text-decoration-color: #7f7f7f\">NULL</span> │ <span style=\"color: #008000; text-decoration-color: #008000\">PRINCE WILLIAM     </span> │  <span style=\"color: #008080; text-decoration-color: #008080; font-weight: bold\">2702</span> │\n",
       "│ <span style=\"color: #7f7f7f; text-decoration-color: #7f7f7f\">NULL</span>                │  <span style=\"color: #7f7f7f; text-decoration-color: #7f7f7f\">NULL</span> │ <span style=\"color: #008000; text-decoration-color: #008000\">HENRICO            </span> │  <span style=\"color: #008080; text-decoration-color: #008080; font-weight: bold\">2426</span> │\n",
       "│ <span style=\"color: #7f7f7f; text-decoration-color: #7f7f7f\">NULL</span>                │  <span style=\"color: #7f7f7f; text-decoration-color: #7f7f7f\">NULL</span> │ <span style=\"color: #008000; text-decoration-color: #008000\">CHESTERFIELD       </span> │  <span style=\"color: #008080; text-decoration-color: #008080; font-weight: bold\">2169</span> │\n",
       "│ <span style=\"color: #7f7f7f; text-decoration-color: #7f7f7f\">NULL</span>                │  <span style=\"color: #7f7f7f; text-decoration-color: #7f7f7f\">NULL</span> │ <span style=\"color: #008000; text-decoration-color: #008000\">ARLINGTON          </span> │  <span style=\"color: #008080; text-decoration-color: #008080; font-weight: bold\">1811</span> │\n",
       "│ <span style=\"color: #008000; text-decoration-color: #008000\">NEWPORT NEWS CITY  </span> │  <span style=\"color: #008080; text-decoration-color: #008080; font-weight: bold\">2636</span> │ <span style=\"color: #008000; text-decoration-color: #008000\">NEWPORT NEWS CITY  </span> │  <span style=\"color: #008080; text-decoration-color: #008080; font-weight: bold\">1808</span> │\n",
       "│ <span style=\"color: #008000; text-decoration-color: #008000\">RICHMOND CITY      </span> │  <span style=\"color: #008080; text-decoration-color: #008080; font-weight: bold\">4230</span> │ <span style=\"color: #008000; text-decoration-color: #008000\">RICHMOND CITY      </span> │  <span style=\"color: #008080; text-decoration-color: #008080; font-weight: bold\">1765</span> │\n",
       "│ <span style=\"color: #7f7f7f; text-decoration-color: #7f7f7f\">…</span>                   │     <span style=\"color: #7f7f7f; text-decoration-color: #7f7f7f\">…</span> │ <span style=\"color: #7f7f7f; text-decoration-color: #7f7f7f\">…</span>                   │     <span style=\"color: #7f7f7f; text-decoration-color: #7f7f7f\">…</span> │\n",
       "└─────────────────────┴───────┴─────────────────────┴───────┘\n",
       "</pre>\n"
      ],
      "text/plain": [
       "┏━━━━━━━━━━━━━━━━━━━━━┳━━━━━━━┳━━━━━━━━━━━━━━━━━━━━━┳━━━━━━━┓\n",
       "┃\u001b[1m \u001b[0m\u001b[1mval_a\u001b[0m\u001b[1m              \u001b[0m\u001b[1m \u001b[0m┃\u001b[1m \u001b[0m\u001b[1mn_a\u001b[0m\u001b[1m  \u001b[0m\u001b[1m \u001b[0m┃\u001b[1m \u001b[0m\u001b[1mval_b\u001b[0m\u001b[1m              \u001b[0m\u001b[1m \u001b[0m┃\u001b[1m \u001b[0m\u001b[1mn_b\u001b[0m\u001b[1m  \u001b[0m\u001b[1m \u001b[0m┃\n",
       "┡━━━━━━━━━━━━━━━━━━━━━╇━━━━━━━╇━━━━━━━━━━━━━━━━━━━━━╇━━━━━━━┩\n",
       "│ \u001b[2mstring\u001b[0m              │ \u001b[2mint64\u001b[0m │ \u001b[2mstring\u001b[0m              │ \u001b[2mint64\u001b[0m │\n",
       "├─────────────────────┼───────┼─────────────────────┼───────┤\n",
       "│ \u001b[2mNULL\u001b[0m                │  \u001b[2mNULL\u001b[0m │ \u001b[32mFAIRFAX            \u001b[0m │  \u001b[1;36m6353\u001b[0m │\n",
       "│ \u001b[32mCHESAPEAKE CITY    \u001b[0m │  \u001b[1;36m4021\u001b[0m │ \u001b[32mCHESAPEAKE CITY    \u001b[0m │  \u001b[1;36m3864\u001b[0m │\n",
       "│ \u001b[32mVIRGINIA BEACH CITY\u001b[0m │  \u001b[1;36m8349\u001b[0m │ \u001b[32mVIRGINIA BEACH CITY\u001b[0m │  \u001b[1;36m3282\u001b[0m │\n",
       "│ \u001b[2mNULL\u001b[0m                │  \u001b[2mNULL\u001b[0m │ \u001b[32mLOUDOUN            \u001b[0m │  \u001b[1;36m2841\u001b[0m │\n",
       "│ \u001b[2mNULL\u001b[0m                │  \u001b[2mNULL\u001b[0m │ \u001b[32mPRINCE WILLIAM     \u001b[0m │  \u001b[1;36m2702\u001b[0m │\n",
       "│ \u001b[2mNULL\u001b[0m                │  \u001b[2mNULL\u001b[0m │ \u001b[32mHENRICO            \u001b[0m │  \u001b[1;36m2426\u001b[0m │\n",
       "│ \u001b[2mNULL\u001b[0m                │  \u001b[2mNULL\u001b[0m │ \u001b[32mCHESTERFIELD       \u001b[0m │  \u001b[1;36m2169\u001b[0m │\n",
       "│ \u001b[2mNULL\u001b[0m                │  \u001b[2mNULL\u001b[0m │ \u001b[32mARLINGTON          \u001b[0m │  \u001b[1;36m1811\u001b[0m │\n",
       "│ \u001b[32mNEWPORT NEWS CITY  \u001b[0m │  \u001b[1;36m2636\u001b[0m │ \u001b[32mNEWPORT NEWS CITY  \u001b[0m │  \u001b[1;36m1808\u001b[0m │\n",
       "│ \u001b[32mRICHMOND CITY      \u001b[0m │  \u001b[1;36m4230\u001b[0m │ \u001b[32mRICHMOND CITY      \u001b[0m │  \u001b[1;36m1765\u001b[0m │\n",
       "│ \u001b[2m…\u001b[0m                   │     \u001b[2m…\u001b[0m │ \u001b[2m…\u001b[0m                   │     \u001b[2m…\u001b[0m │\n",
       "└─────────────────────┴───────┴─────────────────────┴───────┘"
      ]
     },
     "metadata": {},
     "output_type": "display_data"
    }
   ],
   "source": [
    "ed.util.compare(t.LocalityName, medsl_va.county_name)"
   ]
  },
  {
   "cell_type": "code",
   "execution_count": 7,
   "metadata": {},
   "outputs": [],
   "source": [
    "def make_county_fips_lookup() -> ibis.Table:\n",
    "    return medsl.select(\n",
    "        \"state_po\",\n",
    "        \"county_name\",\n",
    "        \"county_fips\",\n",
    "    ).distinct()\n",
    "\n",
    "\n",
    "def add_county_fips(t: ibis.Table) -> ibis.Table:\n",
    "    lookup = make_county_fips_lookup()\n",
    "    return t.left_join(lookup, [\"state_po\", \"county_name\"]).drop(\n",
    "        \"state_po_right\", \"county_name_right\"\n",
    "    )\n",
    "\n",
    "\n",
    "t = t.mutate(\n",
    "    state_po=ibis.literal(\"VA\"),\n",
    "    county_name=_.LocalityName.upper().replace(\" & \", \" AND \").replace(\" COUNTY\", \"\"),\n",
    ").drop(\"LocalityName\")\n",
    "t = add_county_fips(t)\n",
    "# check we found a fips code for every county.\n",
    "assert (t.county_fips.notnull()).all().execute()"
   ]
  },
  {
   "cell_type": "markdown",
   "metadata": {},
   "source": [
    "## Fix jurisdiction and jurisdiction_fips\n",
    "\n",
    "Looks like in the upstream data, jurisdiction is always the same as\n",
    "the county. So just use that.\n",
    "\n",
    "Be warned, it appears that the upstream FIPS codes for jurisdictions are somewhat BS.\n",
    "For example, the \"DISTRICT 12\" jurisdiction in alaska has a FIPS code of \"02012\"\n",
    "which isn't a [real fips code](https://transition.fcc.gov/oet/info/maps/census/fips/fips.txt)\n",
    "FIPS codes really only go down to county level. Probably this DISTRICT 12\n",
    "is actually referring to state HD 12, even though it is filed under the\n",
    "US HOUSE office:"
   ]
  },
  {
   "cell_type": "code",
   "execution_count": 8,
   "metadata": {},
   "outputs": [],
   "source": [
    "assert (medsl_va.county_name == medsl_va.jurisdiction_name).all().execute()\n",
    "assert (medsl_va.county_fips == medsl_va.jurisdiction_fips).all().execute()\n",
    "t = t.mutate(\n",
    "    jurisdiction_name=_.county_name,\n",
    "    jurisdiction_fips=_.county_fips,\n",
    ")\n"
   ]
  },
  {
   "cell_type": "markdown",
   "metadata": {},
   "source": [
    "## Add candidate and writein"
   ]
  },
  {
   "cell_type": "code",
   "execution_count": 9,
   "metadata": {},
   "outputs": [
    {
     "data": {
      "application/vnd.jupyter.widget-view+json": {
       "model_id": "6ec7754edaef48a89af2d44b6a6c9ab9",
       "version_major": 2,
       "version_minor": 0
      },
      "text/plain": [
       "┏━━━━━━━━━━┳━━━━━━━━━━━━━┳━━━━━━━━━━━━━━━━━━━━━━━━━┳━━━━━━━━━━━━━━━━━━━━┳━━━━━━━━━━━━━━┳━━━━━━━━━━━━━━━━━━━━━━━━━━━━━━━━━━━━━━━━━━━━━━━━━━━━━━━━━━━━━━━━━┳━━━━━━━┳━━━━━━━━┳━━━━━━━━┳━━━━━━━━━━━━┳━━━━━━━━━━━━━━┳━━━━━━━━━┳━━━━━━━━┳━━━━━━━━━━┳━━━━━━━━━━━━━━━━━━━┳━━━━━━━━━━━━━┳━━━━━━━━━━━━━━━━━━━┳━━━━━━━━━━━━━━━━━━━┳━━━━━━━━━━━━━━━━━━━━━━━━━━━━━┳━━━━━━━━━┓\n",
       "┃\u001b[1m \u001b[0m\u001b[1m__row_id\u001b[0m\u001b[1m \u001b[0m┃\u001b[1m \u001b[0m\u001b[1mParty\u001b[0m\u001b[1m      \u001b[0m\u001b[1m \u001b[0m┃\u001b[1m \u001b[0m\u001b[1mPrecinctName\u001b[0m\u001b[1m           \u001b[0m\u001b[1m \u001b[0m┃\u001b[1m \u001b[0m\u001b[1mDistrictType\u001b[0m\u001b[1m      \u001b[0m\u001b[1m \u001b[0m┃\u001b[1m \u001b[0m\u001b[1mDistrictName\u001b[0m\u001b[1m \u001b[0m┃\u001b[1m \u001b[0m\u001b[1mOfficeTitle\u001b[0m\u001b[1m                                                    \u001b[0m\u001b[1m \u001b[0m┃\u001b[1m \u001b[0m\u001b[1myear\u001b[0m\u001b[1m \u001b[0m\u001b[1m \u001b[0m┃\u001b[1m \u001b[0m\u001b[1mvotes\u001b[0m\u001b[1m \u001b[0m\u001b[1m \u001b[0m┃\u001b[1m \u001b[0m\u001b[1mmode\u001b[0m\u001b[1m  \u001b[0m\u001b[1m \u001b[0m┃\u001b[1m \u001b[0m\u001b[1mdate\u001b[0m\u001b[1m      \u001b[0m\u001b[1m \u001b[0m┃\u001b[1m \u001b[0m\u001b[1mreadme_check\u001b[0m\u001b[1m \u001b[0m┃\u001b[1m \u001b[0m\u001b[1mspecial\u001b[0m\u001b[1m \u001b[0m┃\u001b[1m \u001b[0m\u001b[1mstage\u001b[0m\u001b[1m \u001b[0m\u001b[1m \u001b[0m┃\u001b[1m \u001b[0m\u001b[1mstate_po\u001b[0m\u001b[1m \u001b[0m┃\u001b[1m \u001b[0m\u001b[1mcounty_name\u001b[0m\u001b[1m      \u001b[0m\u001b[1m \u001b[0m┃\u001b[1m \u001b[0m\u001b[1mcounty_fips\u001b[0m\u001b[1m \u001b[0m┃\u001b[1m \u001b[0m\u001b[1mjurisdiction_name\u001b[0m\u001b[1m \u001b[0m┃\u001b[1m \u001b[0m\u001b[1mjurisdiction_fips\u001b[0m\u001b[1m \u001b[0m┃\u001b[1m \u001b[0m\u001b[1mcandidate\u001b[0m\u001b[1m                  \u001b[0m\u001b[1m \u001b[0m┃\u001b[1m \u001b[0m\u001b[1mwritein\u001b[0m\u001b[1m \u001b[0m┃\n",
       "┡━━━━━━━━━━╇━━━━━━━━━━━━━╇━━━━━━━━━━━━━━━━━━━━━━━━━╇━━━━━━━━━━━━━━━━━━━━╇━━━━━━━━━━━━━━╇━━━━━━━━━━━━━━━━━━━━━━━━━━━━━━━━━━━━━━━━━━━━━━━━━━━━━━━━━━━━━━━━━╇━━━━━━━╇━━━━━━━━╇━━━━━━━━╇━━━━━━━━━━━━╇━━━━━━━━━━━━━━╇━━━━━━━━━╇━━━━━━━━╇━━━━━━━━━━╇━━━━━━━━━━━━━━━━━━━╇━━━━━━━━━━━━━╇━━━━━━━━━━━━━━━━━━━╇━━━━━━━━━━━━━━━━━━━╇━━━━━━━━━━━━━━━━━━━━━━━━━━━━━╇━━━━━━━━━┩\n",
       "│ \u001b[2mint64\u001b[0m    │ \u001b[2mstring\u001b[0m      │ \u001b[2mstring\u001b[0m                  │ \u001b[2mstring\u001b[0m             │ \u001b[2mstring\u001b[0m       │ \u001b[2mstring\u001b[0m                                                          │ \u001b[2mint16\u001b[0m │ \u001b[2mstring\u001b[0m │ \u001b[2mstring\u001b[0m │ \u001b[2mdate\u001b[0m       │ \u001b[2mboolean\u001b[0m      │ \u001b[2mboolean\u001b[0m │ \u001b[2mstring\u001b[0m │ \u001b[2mstring\u001b[0m   │ \u001b[2mstring\u001b[0m            │ \u001b[2mstring\u001b[0m      │ \u001b[2mstring\u001b[0m            │ \u001b[2mstring\u001b[0m            │ \u001b[2mstring\u001b[0m                      │ \u001b[2mboolean\u001b[0m │\n",
       "├──────────┼─────────────┼─────────────────────────┼────────────────────┼──────────────┼─────────────────────────────────────────────────────────────────┼───────┼────────┼────────┼────────────┼──────────────┼─────────┼────────┼──────────┼───────────────────┼─────────────┼───────────────────┼───────────────────┼─────────────────────────────┼─────────┤\n",
       "│        \u001b[1;36m0\u001b[0m │ \u001b[32mIndependent\u001b[0m │ \u001b[32m704 - RICHARDSVILLE    \u001b[0m │ \u001b[2mNULL\u001b[0m               │ \u001b[2mNULL\u001b[0m         │ \u001b[32mSoil and Water Conservation Director Culpeper District         \u001b[0m │  \u001b[1;36m2019\u001b[0m │ \u001b[32m276   \u001b[0m │ \u001b[32mTOTAL \u001b[0m │ \u001b[35m2019-11-05\u001b[0m │ False        │ False   │ \u001b[32mGEN   \u001b[0m │ \u001b[32mVA      \u001b[0m │ \u001b[32mCULPEPER         \u001b[0m │ \u001b[32m51047      \u001b[0m │ \u001b[32mCULPEPER         \u001b[0m │ \u001b[32m51047            \u001b[0m │ \u001b[32mTHOMAS ALVIN O'HALLORAN JR.\u001b[0m │ False   │\n",
       "│        \u001b[1;36m1\u001b[0m │ \u001b[32mDemocratic \u001b[0m │ \u001b[32m501 - PRECINCT 5       \u001b[0m │ \u001b[32mHouse of Delegates\u001b[0m │ \u001b[32m061         \u001b[0m │ \u001b[32mMember House of Delegates                                      \u001b[0m │  \u001b[1;36m2019\u001b[0m │ \u001b[32m200   \u001b[0m │ \u001b[32mTOTAL \u001b[0m │ \u001b[35m2019-11-05\u001b[0m │ False        │ False   │ \u001b[32mGEN   \u001b[0m │ \u001b[32mVA      \u001b[0m │ \u001b[32mCUMBERLAND       \u001b[0m │ \u001b[32m51049      \u001b[0m │ \u001b[32mCUMBERLAND       \u001b[0m │ \u001b[32m51049            \u001b[0m │ \u001b[32mTRUDY BELL BERRY           \u001b[0m │ False   │\n",
       "│        \u001b[1;36m2\u001b[0m │ \u001b[32mRepublican \u001b[0m │ \u001b[32m504 - VINT HILL        \u001b[0m │ \u001b[2mNULL\u001b[0m               │ \u001b[2mNULL\u001b[0m         │ \u001b[32mTreasurer                                                      \u001b[0m │  \u001b[1;36m2019\u001b[0m │ \u001b[32m1776  \u001b[0m │ \u001b[32mTOTAL \u001b[0m │ \u001b[35m2019-11-05\u001b[0m │ False        │ False   │ \u001b[32mGEN   \u001b[0m │ \u001b[32mVA      \u001b[0m │ \u001b[32mFAUQUIER         \u001b[0m │ \u001b[32m51061      \u001b[0m │ \u001b[32mFAUQUIER         \u001b[0m │ \u001b[32m51061            \u001b[0m │ \u001b[32mTANYA REMSON WILCOX        \u001b[0m │ False   │\n",
       "│        \u001b[1;36m3\u001b[0m │ \u001b[32mRepublican \u001b[0m │ \u001b[32m501 - INDIAN VALLEY    \u001b[0m │ \u001b[2mNULL\u001b[0m               │ \u001b[2mNULL\u001b[0m         │ \u001b[32mCommonwealth's Attorney                                        \u001b[0m │  \u001b[1;36m2019\u001b[0m │ \u001b[32m677   \u001b[0m │ \u001b[32mTOTAL \u001b[0m │ \u001b[35m2019-11-05\u001b[0m │ False        │ False   │ \u001b[32mGEN   \u001b[0m │ \u001b[32mVA      \u001b[0m │ \u001b[32mFLOYD            \u001b[0m │ \u001b[32m51063      \u001b[0m │ \u001b[32mFLOYD            \u001b[0m │ \u001b[32m51063            \u001b[0m │ \u001b[32mWILLIAM ERIC BRANSCOM      \u001b[0m │ False   │\n",
       "│        \u001b[1;36m4\u001b[0m │ \u001b[32mIndependent\u001b[0m │ \u001b[32m703 - ROCKY MOUNT SOUTH\u001b[0m │ \u001b[2mNULL\u001b[0m               │ \u001b[2mNULL\u001b[0m         │ \u001b[32mSheriff                                                        \u001b[0m │  \u001b[1;36m2019\u001b[0m │ \u001b[32m364   \u001b[0m │ \u001b[32mTOTAL \u001b[0m │ \u001b[35m2019-11-05\u001b[0m │ False        │ False   │ \u001b[32mGEN   \u001b[0m │ \u001b[32mVA      \u001b[0m │ \u001b[32mFRANKLIN         \u001b[0m │ \u001b[32m51067      \u001b[0m │ \u001b[32mFRANKLIN         \u001b[0m │ \u001b[32m51067            \u001b[0m │ \u001b[32mWILLIAM QUINTON OVERTON JR.\u001b[0m │ False   │\n",
       "│        \u001b[1;36m5\u001b[0m │ \u001b[32mIndependent\u001b[0m │ \u001b[32m203 -  WEST            \u001b[0m │ \u001b[2mNULL\u001b[0m               │ \u001b[2mNULL\u001b[0m         │ \u001b[32mSoil and Water Conservation Director Shenandoah Valley District\u001b[0m │  \u001b[1;36m2019\u001b[0m │ \u001b[32m757   \u001b[0m │ \u001b[32mTOTAL \u001b[0m │ \u001b[35m2019-11-05\u001b[0m │ False        │ False   │ \u001b[32mGEN   \u001b[0m │ \u001b[32mVA      \u001b[0m │ \u001b[32mHARRISONBURG CITY\u001b[0m │ \u001b[32m51660      \u001b[0m │ \u001b[32mHARRISONBURG CITY\u001b[0m │ \u001b[32m51660            \u001b[0m │ \u001b[32mWILLIAM KNUT LATHAM        \u001b[0m │ False   │\n",
       "│        \u001b[1;36m6\u001b[0m │ \u001b[32mIndependent\u001b[0m │ \u001b[32m010 - HEADWATERS       \u001b[0m │ \u001b[2mNULL\u001b[0m               │ \u001b[2mNULL\u001b[0m         │ \u001b[32mCommissioner of Revenue                                        \u001b[0m │  \u001b[1;36m2019\u001b[0m │ \u001b[32m36    \u001b[0m │ \u001b[32mTOTAL \u001b[0m │ \u001b[35m2019-11-05\u001b[0m │ False        │ False   │ \u001b[32mGEN   \u001b[0m │ \u001b[32mVA      \u001b[0m │ \u001b[32mHIGHLAND         \u001b[0m │ \u001b[32m51091      \u001b[0m │ \u001b[32mHIGHLAND         \u001b[0m │ \u001b[32m51091            \u001b[0m │ \u001b[32mYVONNE ELIZABETH WIMER     \u001b[0m │ False   │\n",
       "│        \u001b[1;36m7\u001b[0m │ \u001b[32mRepublican \u001b[0m │ \u001b[32m504 - KEOKEE           \u001b[0m │ \u001b[32mState Senate      \u001b[0m │ \u001b[32m040         \u001b[0m │ \u001b[32mMember Senate of Virginia                                      \u001b[0m │  \u001b[1;36m2019\u001b[0m │ \u001b[32m89    \u001b[0m │ \u001b[32mTOTAL \u001b[0m │ \u001b[35m2019-11-05\u001b[0m │ False        │ False   │ \u001b[32mGEN   \u001b[0m │ \u001b[32mVA      \u001b[0m │ \u001b[32mLEE              \u001b[0m │ \u001b[32m51105      \u001b[0m │ \u001b[32mLEE              \u001b[0m │ \u001b[32m51105            \u001b[0m │ \u001b[32mTODD EDWARD PILLION        \u001b[0m │ False   │\n",
       "│        \u001b[1;36m8\u001b[0m │ \u001b[32mIndependent\u001b[0m │ \u001b[32m702 - SOUTH ANNA       \u001b[0m │ \u001b[2mNULL\u001b[0m               │ \u001b[2mNULL\u001b[0m         │ \u001b[32mSheriff                                                        \u001b[0m │  \u001b[1;36m2019\u001b[0m │ \u001b[32m130   \u001b[0m │ \u001b[32mTOTAL \u001b[0m │ \u001b[35m2019-11-05\u001b[0m │ False        │ False   │ \u001b[32mGEN   \u001b[0m │ \u001b[32mVA      \u001b[0m │ \u001b[32mLOUISA           \u001b[0m │ \u001b[32m51109      \u001b[0m │ \u001b[32mLOUISA           \u001b[0m │ \u001b[32m51109            \u001b[0m │ \u001b[32mTROY COOPER PAINTING       \u001b[0m │ False   │\n",
       "│        \u001b[1;36m9\u001b[0m │ \u001b[32mDemocratic \u001b[0m │ \u001b[32m903 - CLARKSVILLE      \u001b[0m │ \u001b[32mState Senate      \u001b[0m │ \u001b[32m015         \u001b[0m │ \u001b[32mMember Senate of Virginia                                      \u001b[0m │  \u001b[1;36m2019\u001b[0m │ \u001b[32m195   \u001b[0m │ \u001b[32mTOTAL \u001b[0m │ \u001b[35m2019-11-05\u001b[0m │ False        │ False   │ \u001b[32mGEN   \u001b[0m │ \u001b[32mVA      \u001b[0m │ \u001b[32mMECKLENBURG      \u001b[0m │ \u001b[32m51117      \u001b[0m │ \u001b[32mMECKLENBURG      \u001b[0m │ \u001b[32m51117            \u001b[0m │ \u001b[32mVIRGINIA MAE SMITH         \u001b[0m │ False   │\n",
       "│        \u001b[2m…\u001b[0m │ \u001b[2m…\u001b[0m           │ \u001b[2m…\u001b[0m                       │ \u001b[2m…\u001b[0m                  │ \u001b[2m…\u001b[0m            │ \u001b[2m…\u001b[0m                                                               │     \u001b[2m…\u001b[0m │ \u001b[2m…\u001b[0m      │ \u001b[2m…\u001b[0m      │ \u001b[2m…\u001b[0m          │ \u001b[2m…\u001b[0m            │ \u001b[2m…\u001b[0m       │ \u001b[2m…\u001b[0m      │ \u001b[2m…\u001b[0m        │ \u001b[2m…\u001b[0m                 │ \u001b[2m…\u001b[0m           │ \u001b[2m…\u001b[0m                 │ \u001b[2m…\u001b[0m                 │ \u001b[2m…\u001b[0m                           │ \u001b[2m…\u001b[0m       │\n",
       "└──────────┴─────────────┴─────────────────────────┴────────────────────┴──────────────┴─────────────────────────────────────────────────────────────────┴───────┴────────┴────────┴────────────┴──────────────┴─────────┴────────┴──────────┴───────────────────┴─────────────┴───────────────────┴───────────────────┴─────────────────────────────┴─────────┘"
      ]
     },
     "execution_count": 9,
     "metadata": {},
     "output_type": "execute_result"
    }
   ],
   "source": [
    "t = t.mutate(\n",
    "    candidate=(\n",
    "        _.FirstName.fill_null(\"\")\n",
    "        + \" \"\n",
    "        + _.MiddleName.fill_null(\"\")\n",
    "        + \" \"\n",
    "        + _.LastName.fill_null(\"\")\n",
    "        + \" \"\n",
    "        + _.Suffix.fill_null(\"\")\n",
    "    )\n",
    "    .re_replace(r\"\\s+\", \" \")\n",
    "    .strip()\n",
    "    .upper(),\n",
    ").drop(\"FirstName\", \"MiddleName\", \"LastName\", \"Suffix\")\n",
    "\n",
    "assert (t.filter(_.WriteInVote != 0).candidate == \"WRITE IN VOTES\").all().execute()\n",
    "assert (t.filter(_.WriteInVote == 0).candidate != \"WRITE IN VOTES\").all().execute()\n",
    "assert (t.filter(_.candidate == \"WRITE IN VOTES\").WriteInVote == 1).all().execute()\n",
    "assert (t.filter(_.candidate != \"WRITE IN VOTES\").WriteInVote == 0).all().execute()\n",
    "\n",
    "t = t.mutate(\n",
    "    writein=_.WriteInVote == 1,\n",
    "    candidate=ibis.case().when(_.WriteInVote == 1, \"WRITEIN\").else_(_.candidate).end(),\n",
    ").drop(\"WriteInVote\")\n",
    "t.widget()"
   ]
  },
  {
   "cell_type": "markdown",
   "metadata": {},
   "source": [
    "## Fix Party"
   ]
  },
  {
   "cell_type": "code",
   "execution_count": 10,
   "metadata": {},
   "outputs": [],
   "source": [
    "# when party is write-in, that isn't a writein *candidate*:\n",
    "# Their name actually appeared on the ballot, but they chose to\n",
    "# use the write-in party.\n",
    "assert (~t.filter(_.Party == \"Write-In\").writein).all().execute()"
   ]
  },
  {
   "cell_type": "code",
   "execution_count": 11,
   "metadata": {},
   "outputs": [],
   "source": [
    "party_mapping = {\n",
    "    \"Democratic\": (\"DEMOCRAT\", \"DEMOCRAT\"),\n",
    "    \"Republican\": (\"REPUBLICAN\", \"REPUBLICAN\"),\n",
    "    \"Libertarian\": (\"LIBERTARIAN\", \"LIBERTARIAN\"),\n",
    "    \"Liberation\": (\"OTHER\", \"LIBERATION\"),\n",
    "    \"Green\": (\"GREEN\", \"GREEN\"),\n",
    "    \"Independent\": (\"INDEPENDENT\", \"INDEPENDENT\"),\n",
    "    \"Write-In\": (\"OTHER\", None),\n",
    "}\n",
    "# Verify the values in the column are always one of the above\n",
    "assert t.Party.isin(list(party_mapping)).all().execute()\n",
    "simplified = ed.util.cases(*[(t.Party == k, v[0]) for k, v in party_mapping.items()])\n",
    "detailed = ed.util.cases(*[(t.Party == k, v[1]) for k, v in party_mapping.items()])\n",
    "t = t.mutate(party_simplified=simplified, party_detailed=detailed).drop(\"Party\")\n",
    "ed.tests.test_party(t)"
   ]
  },
  {
   "cell_type": "markdown",
   "metadata": {},
   "source": [
    "## Precinct check\n",
    "\n",
    "It looks like there isn't anything crazy going on here. Just normalize the strings and call it good."
   ]
  },
  {
   "cell_type": "code",
   "execution_count": 12,
   "metadata": {},
   "outputs": [
    {
     "data": {
      "text/html": [
       "<pre style=\"white-space:pre;overflow-x:auto;line-height:normal;font-family:Menlo,'DejaVu Sans Mono',consolas,'Courier New',monospace\">┏━━━━━━━━━━━━━━━━━━━━━━━━━━━━━━━━━━┳━━━━━━━┳━━━━━━━━━━━━━━━━━━━━━━━━━━━━━━━━━━┳━━━━━━━┓\n",
       "┃<span style=\"font-weight: bold\"> val_a                            </span>┃<span style=\"font-weight: bold\"> n_a   </span>┃<span style=\"font-weight: bold\"> val_b                            </span>┃<span style=\"font-weight: bold\"> n_b   </span>┃\n",
       "┡━━━━━━━━━━━━━━━━━━━━━━━━━━━━━━━━━━╇━━━━━━━╇━━━━━━━━━━━━━━━━━━━━━━━━━━━━━━━━━━╇━━━━━━━┩\n",
       "│ <span style=\"color: #7f7f7f; text-decoration-color: #7f7f7f\">string</span>                           │ <span style=\"color: #7f7f7f; text-decoration-color: #7f7f7f\">int64</span> │ <span style=\"color: #7f7f7f; text-decoration-color: #7f7f7f\">string</span>                           │ <span style=\"color: #7f7f7f; text-decoration-color: #7f7f7f\">int64</span> │\n",
       "├──────────────────────────────────┼───────┼──────────────────────────────────┼───────┤\n",
       "│ <span style=\"color: #008000; text-decoration-color: #008000\">## PROVISIONAL                  </span> │ <span style=\"color: #008080; text-decoration-color: #008080; font-weight: bold\">12245</span> │ <span style=\"color: #008000; text-decoration-color: #008000\">## PROVISIONAL                  </span> │  <span style=\"color: #008080; text-decoration-color: #008080; font-weight: bold\">4205</span> │\n",
       "│ <span style=\"color: #008000; text-decoration-color: #008000\"># AB - CENTRAL ABSENTEE PRECINCT</span> │  <span style=\"color: #008080; text-decoration-color: #008080; font-weight: bold\">8265</span> │ <span style=\"color: #008000; text-decoration-color: #008000\"># AB - CENTRAL ABSENTEE PRECINCT</span> │  <span style=\"color: #008080; text-decoration-color: #008080; font-weight: bold\">2446</span> │\n",
       "│ <span style=\"color: #008000; text-decoration-color: #008000\">##EV - CENTRAL ABSENTEE PRECINCT</span> │  <span style=\"color: #008080; text-decoration-color: #008080; font-weight: bold\">3742</span> │ <span style=\"color: #008000; text-decoration-color: #008000\">##EV - CENTRAL ABSENTEE PRECINCT</span> │  <span style=\"color: #008080; text-decoration-color: #008080; font-weight: bold\">2384</span> │\n",
       "│ <span style=\"color: #008000; text-decoration-color: #008000\">##AB - CENTRAL ABSENTEE PRECINCT</span> │  <span style=\"color: #008080; text-decoration-color: #008080; font-weight: bold\">3740</span> │ <span style=\"color: #008000; text-decoration-color: #008000\">##AB - CENTRAL ABSENTEE PRECINCT</span> │  <span style=\"color: #008080; text-decoration-color: #008080; font-weight: bold\">2376</span> │\n",
       "│ <span style=\"color: #008000; text-decoration-color: #008000\">##PE - CENTRAL ABSENTEE PRECINCT</span> │  <span style=\"color: #008080; text-decoration-color: #008080; font-weight: bold\">3738</span> │ <span style=\"color: #008000; text-decoration-color: #008000\">##PE - CENTRAL ABSENTEE PRECINCT</span> │  <span style=\"color: #008080; text-decoration-color: #008080; font-weight: bold\">2241</span> │\n",
       "│ <span style=\"color: #008000; text-decoration-color: #008000\">301 - PRECINCT 3-1              </span> │   <span style=\"color: #008080; text-decoration-color: #008080; font-weight: bold\">476</span> │ <span style=\"color: #008000; text-decoration-color: #008000\">301 - PRECINCT 3-1              </span> │   <span style=\"color: #008080; text-decoration-color: #008080; font-weight: bold\">217</span> │\n",
       "│ <span style=\"color: #008000; text-decoration-color: #008000\">101 - PRECINCT 1-1              </span> │   <span style=\"color: #008080; text-decoration-color: #008080; font-weight: bold\">475</span> │ <span style=\"color: #008000; text-decoration-color: #008000\">101 - PRECINCT 1-1              </span> │   <span style=\"color: #008080; text-decoration-color: #008080; font-weight: bold\">216</span> │\n",
       "│ <span style=\"color: #008000; text-decoration-color: #008000\">201 - PRECINCT 2-1              </span> │   <span style=\"color: #008080; text-decoration-color: #008080; font-weight: bold\">472</span> │ <span style=\"color: #008000; text-decoration-color: #008000\">201 - PRECINCT 2-1              </span> │   <span style=\"color: #008080; text-decoration-color: #008080; font-weight: bold\">216</span> │\n",
       "│ <span style=\"color: #008000; text-decoration-color: #008000\">501 - PRECINCT 5-1              </span> │   <span style=\"color: #008080; text-decoration-color: #008080; font-weight: bold\">420</span> │ <span style=\"color: #008000; text-decoration-color: #008000\">501 - PRECINCT 5-1              </span> │   <span style=\"color: #008080; text-decoration-color: #008080; font-weight: bold\">224</span> │\n",
       "│ <span style=\"color: #008000; text-decoration-color: #008000\">401 - PRECINCT 4-1              </span> │   <span style=\"color: #008080; text-decoration-color: #008080; font-weight: bold\">410</span> │ <span style=\"color: #008000; text-decoration-color: #008000\">401 - PRECINCT 4-1              </span> │   <span style=\"color: #008080; text-decoration-color: #008080; font-weight: bold\">202</span> │\n",
       "│ <span style=\"color: #7f7f7f; text-decoration-color: #7f7f7f\">…</span>                                │     <span style=\"color: #7f7f7f; text-decoration-color: #7f7f7f\">…</span> │ <span style=\"color: #7f7f7f; text-decoration-color: #7f7f7f\">…</span>                                │     <span style=\"color: #7f7f7f; text-decoration-color: #7f7f7f\">…</span> │\n",
       "└──────────────────────────────────┴───────┴──────────────────────────────────┴───────┘\n",
       "</pre>\n"
      ],
      "text/plain": [
       "┏━━━━━━━━━━━━━━━━━━━━━━━━━━━━━━━━━━┳━━━━━━━┳━━━━━━━━━━━━━━━━━━━━━━━━━━━━━━━━━━┳━━━━━━━┓\n",
       "┃\u001b[1m \u001b[0m\u001b[1mval_a\u001b[0m\u001b[1m                           \u001b[0m\u001b[1m \u001b[0m┃\u001b[1m \u001b[0m\u001b[1mn_a\u001b[0m\u001b[1m  \u001b[0m\u001b[1m \u001b[0m┃\u001b[1m \u001b[0m\u001b[1mval_b\u001b[0m\u001b[1m                           \u001b[0m\u001b[1m \u001b[0m┃\u001b[1m \u001b[0m\u001b[1mn_b\u001b[0m\u001b[1m  \u001b[0m\u001b[1m \u001b[0m┃\n",
       "┡━━━━━━━━━━━━━━━━━━━━━━━━━━━━━━━━━━╇━━━━━━━╇━━━━━━━━━━━━━━━━━━━━━━━━━━━━━━━━━━╇━━━━━━━┩\n",
       "│ \u001b[2mstring\u001b[0m                           │ \u001b[2mint64\u001b[0m │ \u001b[2mstring\u001b[0m                           │ \u001b[2mint64\u001b[0m │\n",
       "├──────────────────────────────────┼───────┼──────────────────────────────────┼───────┤\n",
       "│ \u001b[32m## PROVISIONAL                  \u001b[0m │ \u001b[1;36m12245\u001b[0m │ \u001b[32m## PROVISIONAL                  \u001b[0m │  \u001b[1;36m4205\u001b[0m │\n",
       "│ \u001b[32m# AB - CENTRAL ABSENTEE PRECINCT\u001b[0m │  \u001b[1;36m8265\u001b[0m │ \u001b[32m# AB - CENTRAL ABSENTEE PRECINCT\u001b[0m │  \u001b[1;36m2446\u001b[0m │\n",
       "│ \u001b[32m##EV - CENTRAL ABSENTEE PRECINCT\u001b[0m │  \u001b[1;36m3742\u001b[0m │ \u001b[32m##EV - CENTRAL ABSENTEE PRECINCT\u001b[0m │  \u001b[1;36m2384\u001b[0m │\n",
       "│ \u001b[32m##AB - CENTRAL ABSENTEE PRECINCT\u001b[0m │  \u001b[1;36m3740\u001b[0m │ \u001b[32m##AB - CENTRAL ABSENTEE PRECINCT\u001b[0m │  \u001b[1;36m2376\u001b[0m │\n",
       "│ \u001b[32m##PE - CENTRAL ABSENTEE PRECINCT\u001b[0m │  \u001b[1;36m3738\u001b[0m │ \u001b[32m##PE - CENTRAL ABSENTEE PRECINCT\u001b[0m │  \u001b[1;36m2241\u001b[0m │\n",
       "│ \u001b[32m301 - PRECINCT 3-1              \u001b[0m │   \u001b[1;36m476\u001b[0m │ \u001b[32m301 - PRECINCT 3-1              \u001b[0m │   \u001b[1;36m217\u001b[0m │\n",
       "│ \u001b[32m101 - PRECINCT 1-1              \u001b[0m │   \u001b[1;36m475\u001b[0m │ \u001b[32m101 - PRECINCT 1-1              \u001b[0m │   \u001b[1;36m216\u001b[0m │\n",
       "│ \u001b[32m201 - PRECINCT 2-1              \u001b[0m │   \u001b[1;36m472\u001b[0m │ \u001b[32m201 - PRECINCT 2-1              \u001b[0m │   \u001b[1;36m216\u001b[0m │\n",
       "│ \u001b[32m501 - PRECINCT 5-1              \u001b[0m │   \u001b[1;36m420\u001b[0m │ \u001b[32m501 - PRECINCT 5-1              \u001b[0m │   \u001b[1;36m224\u001b[0m │\n",
       "│ \u001b[32m401 - PRECINCT 4-1              \u001b[0m │   \u001b[1;36m410\u001b[0m │ \u001b[32m401 - PRECINCT 4-1              \u001b[0m │   \u001b[1;36m202\u001b[0m │\n",
       "│ \u001b[2m…\u001b[0m                                │     \u001b[2m…\u001b[0m │ \u001b[2m…\u001b[0m                                │     \u001b[2m…\u001b[0m │\n",
       "└──────────────────────────────────┴───────┴──────────────────────────────────┴───────┘"
      ]
     },
     "metadata": {},
     "output_type": "display_data"
    },
    {
     "data": {
      "text/html": [
       "<pre style=\"white-space:pre;overflow-x:auto;line-height:normal;font-family:Menlo,'DejaVu Sans Mono',consolas,'Courier New',monospace\">┏━━━━━━━━━━━━━━━━━━━━━━━━━━━━━━━━━━┳━━━━━━━┳━━━━━━━━━━━━━━━━━━━━━━━━━━━━━━━━━━┳━━━━━━━┓\n",
       "┃<span style=\"font-weight: bold\"> val_a                            </span>┃<span style=\"font-weight: bold\"> n_a   </span>┃<span style=\"font-weight: bold\"> val_b                            </span>┃<span style=\"font-weight: bold\"> n_b   </span>┃\n",
       "┡━━━━━━━━━━━━━━━━━━━━━━━━━━━━━━━━━━╇━━━━━━━╇━━━━━━━━━━━━━━━━━━━━━━━━━━━━━━━━━━╇━━━━━━━┩\n",
       "│ <span style=\"color: #7f7f7f; text-decoration-color: #7f7f7f\">string</span>                           │ <span style=\"color: #7f7f7f; text-decoration-color: #7f7f7f\">int64</span> │ <span style=\"color: #7f7f7f; text-decoration-color: #7f7f7f\">string</span>                           │ <span style=\"color: #7f7f7f; text-decoration-color: #7f7f7f\">int64</span> │\n",
       "├──────────────────────────────────┼───────┼──────────────────────────────────┼───────┤\n",
       "│ <span style=\"color: #008000; text-decoration-color: #008000\">## PROVISIONAL                  </span> │ <span style=\"color: #008080; text-decoration-color: #008080; font-weight: bold\">12245</span> │ <span style=\"color: #008000; text-decoration-color: #008000\">## PROVISIONAL                  </span> │  <span style=\"color: #008080; text-decoration-color: #008080; font-weight: bold\">4205</span> │\n",
       "│ <span style=\"color: #008000; text-decoration-color: #008000\"># AB - CENTRAL ABSENTEE PRECINCT</span> │  <span style=\"color: #008080; text-decoration-color: #008080; font-weight: bold\">8265</span> │ <span style=\"color: #008000; text-decoration-color: #008000\"># AB - CENTRAL ABSENTEE PRECINCT</span> │  <span style=\"color: #008080; text-decoration-color: #008080; font-weight: bold\">2446</span> │\n",
       "│ <span style=\"color: #008000; text-decoration-color: #008000\">##EV - CENTRAL ABSENTEE PRECINCT</span> │  <span style=\"color: #008080; text-decoration-color: #008080; font-weight: bold\">3742</span> │ <span style=\"color: #008000; text-decoration-color: #008000\">##EV - CENTRAL ABSENTEE PRECINCT</span> │  <span style=\"color: #008080; text-decoration-color: #008080; font-weight: bold\">2384</span> │\n",
       "│ <span style=\"color: #008000; text-decoration-color: #008000\">##AB - CENTRAL ABSENTEE PRECINCT</span> │  <span style=\"color: #008080; text-decoration-color: #008080; font-weight: bold\">3740</span> │ <span style=\"color: #008000; text-decoration-color: #008000\">##AB - CENTRAL ABSENTEE PRECINCT</span> │  <span style=\"color: #008080; text-decoration-color: #008080; font-weight: bold\">2376</span> │\n",
       "│ <span style=\"color: #008000; text-decoration-color: #008000\">##PE - CENTRAL ABSENTEE PRECINCT</span> │  <span style=\"color: #008080; text-decoration-color: #008080; font-weight: bold\">3738</span> │ <span style=\"color: #008000; text-decoration-color: #008000\">##PE - CENTRAL ABSENTEE PRECINCT</span> │  <span style=\"color: #008080; text-decoration-color: #008080; font-weight: bold\">2241</span> │\n",
       "│ <span style=\"color: #008000; text-decoration-color: #008000\">501 - PRECINCT 5-1              </span> │   <span style=\"color: #008080; text-decoration-color: #008080; font-weight: bold\">420</span> │ <span style=\"color: #008000; text-decoration-color: #008000\">501 - PRECINCT 5-1              </span> │   <span style=\"color: #008080; text-decoration-color: #008080; font-weight: bold\">224</span> │\n",
       "│ <span style=\"color: #008000; text-decoration-color: #008000\">301 - PRECINCT 3-1              </span> │   <span style=\"color: #008080; text-decoration-color: #008080; font-weight: bold\">476</span> │ <span style=\"color: #008000; text-decoration-color: #008000\">301 - PRECINCT 3-1              </span> │   <span style=\"color: #008080; text-decoration-color: #008080; font-weight: bold\">217</span> │\n",
       "│ <span style=\"color: #008000; text-decoration-color: #008000\">101 - PRECINCT 1-1              </span> │   <span style=\"color: #008080; text-decoration-color: #008080; font-weight: bold\">475</span> │ <span style=\"color: #008000; text-decoration-color: #008000\">101 - PRECINCT 1-1              </span> │   <span style=\"color: #008080; text-decoration-color: #008080; font-weight: bold\">216</span> │\n",
       "│ <span style=\"color: #008000; text-decoration-color: #008000\">201 - PRECINCT 2-1              </span> │   <span style=\"color: #008080; text-decoration-color: #008080; font-weight: bold\">472</span> │ <span style=\"color: #008000; text-decoration-color: #008000\">201 - PRECINCT 2-1              </span> │   <span style=\"color: #008080; text-decoration-color: #008080; font-weight: bold\">216</span> │\n",
       "│ <span style=\"color: #008000; text-decoration-color: #008000\">401 - PRECINCT 4-1              </span> │   <span style=\"color: #008080; text-decoration-color: #008080; font-weight: bold\">410</span> │ <span style=\"color: #008000; text-decoration-color: #008000\">401 - PRECINCT 4-1              </span> │   <span style=\"color: #008080; text-decoration-color: #008080; font-weight: bold\">202</span> │\n",
       "│ <span style=\"color: #7f7f7f; text-decoration-color: #7f7f7f\">…</span>                                │     <span style=\"color: #7f7f7f; text-decoration-color: #7f7f7f\">…</span> │ <span style=\"color: #7f7f7f; text-decoration-color: #7f7f7f\">…</span>                                │     <span style=\"color: #7f7f7f; text-decoration-color: #7f7f7f\">…</span> │\n",
       "└──────────────────────────────────┴───────┴──────────────────────────────────┴───────┘\n",
       "</pre>\n"
      ],
      "text/plain": [
       "┏━━━━━━━━━━━━━━━━━━━━━━━━━━━━━━━━━━┳━━━━━━━┳━━━━━━━━━━━━━━━━━━━━━━━━━━━━━━━━━━┳━━━━━━━┓\n",
       "┃\u001b[1m \u001b[0m\u001b[1mval_a\u001b[0m\u001b[1m                           \u001b[0m\u001b[1m \u001b[0m┃\u001b[1m \u001b[0m\u001b[1mn_a\u001b[0m\u001b[1m  \u001b[0m\u001b[1m \u001b[0m┃\u001b[1m \u001b[0m\u001b[1mval_b\u001b[0m\u001b[1m                           \u001b[0m\u001b[1m \u001b[0m┃\u001b[1m \u001b[0m\u001b[1mn_b\u001b[0m\u001b[1m  \u001b[0m\u001b[1m \u001b[0m┃\n",
       "┡━━━━━━━━━━━━━━━━━━━━━━━━━━━━━━━━━━╇━━━━━━━╇━━━━━━━━━━━━━━━━━━━━━━━━━━━━━━━━━━╇━━━━━━━┩\n",
       "│ \u001b[2mstring\u001b[0m                           │ \u001b[2mint64\u001b[0m │ \u001b[2mstring\u001b[0m                           │ \u001b[2mint64\u001b[0m │\n",
       "├──────────────────────────────────┼───────┼──────────────────────────────────┼───────┤\n",
       "│ \u001b[32m## PROVISIONAL                  \u001b[0m │ \u001b[1;36m12245\u001b[0m │ \u001b[32m## PROVISIONAL                  \u001b[0m │  \u001b[1;36m4205\u001b[0m │\n",
       "│ \u001b[32m# AB - CENTRAL ABSENTEE PRECINCT\u001b[0m │  \u001b[1;36m8265\u001b[0m │ \u001b[32m# AB - CENTRAL ABSENTEE PRECINCT\u001b[0m │  \u001b[1;36m2446\u001b[0m │\n",
       "│ \u001b[32m##EV - CENTRAL ABSENTEE PRECINCT\u001b[0m │  \u001b[1;36m3742\u001b[0m │ \u001b[32m##EV - CENTRAL ABSENTEE PRECINCT\u001b[0m │  \u001b[1;36m2384\u001b[0m │\n",
       "│ \u001b[32m##AB - CENTRAL ABSENTEE PRECINCT\u001b[0m │  \u001b[1;36m3740\u001b[0m │ \u001b[32m##AB - CENTRAL ABSENTEE PRECINCT\u001b[0m │  \u001b[1;36m2376\u001b[0m │\n",
       "│ \u001b[32m##PE - CENTRAL ABSENTEE PRECINCT\u001b[0m │  \u001b[1;36m3738\u001b[0m │ \u001b[32m##PE - CENTRAL ABSENTEE PRECINCT\u001b[0m │  \u001b[1;36m2241\u001b[0m │\n",
       "│ \u001b[32m501 - PRECINCT 5-1              \u001b[0m │   \u001b[1;36m420\u001b[0m │ \u001b[32m501 - PRECINCT 5-1              \u001b[0m │   \u001b[1;36m224\u001b[0m │\n",
       "│ \u001b[32m301 - PRECINCT 3-1              \u001b[0m │   \u001b[1;36m476\u001b[0m │ \u001b[32m301 - PRECINCT 3-1              \u001b[0m │   \u001b[1;36m217\u001b[0m │\n",
       "│ \u001b[32m101 - PRECINCT 1-1              \u001b[0m │   \u001b[1;36m475\u001b[0m │ \u001b[32m101 - PRECINCT 1-1              \u001b[0m │   \u001b[1;36m216\u001b[0m │\n",
       "│ \u001b[32m201 - PRECINCT 2-1              \u001b[0m │   \u001b[1;36m472\u001b[0m │ \u001b[32m201 - PRECINCT 2-1              \u001b[0m │   \u001b[1;36m216\u001b[0m │\n",
       "│ \u001b[32m401 - PRECINCT 4-1              \u001b[0m │   \u001b[1;36m410\u001b[0m │ \u001b[32m401 - PRECINCT 4-1              \u001b[0m │   \u001b[1;36m202\u001b[0m │\n",
       "│ \u001b[2m…\u001b[0m                                │     \u001b[2m…\u001b[0m │ \u001b[2m…\u001b[0m                                │     \u001b[2m…\u001b[0m │\n",
       "└──────────────────────────────────┴───────┴──────────────────────────────────┴───────┘"
      ]
     },
     "metadata": {},
     "output_type": "display_data"
    }
   ],
   "source": [
    "ed.util.compare(t.PrecinctName, medsl_va.precinct)"
   ]
  },
  {
   "cell_type": "code",
   "execution_count": 13,
   "metadata": {},
   "outputs": [],
   "source": [
    "t = t.mutate(precinct=_.PrecinctName.upper().strip().replace(\" & \", \" AND \")).drop(\n",
    "    \"PrecinctName\"\n",
    ")"
   ]
  },
  {
   "cell_type": "markdown",
   "metadata": {},
   "source": [
    "## Drop District Type"
   ]
  },
  {
   "cell_type": "code",
   "execution_count": 14,
   "metadata": {},
   "outputs": [],
   "source": [
    "assert set(t.select(\"DistrictType\").distinct().DistrictType.execute()) == {\n",
    "    \"Congressional\",\n",
    "    None,\n",
    "    \"House of Delegates\",\n",
    "    \"Election\",\n",
    "    \"State Senate\",\n",
    "    \"Town\",\n",
    "    \"Super\",\n",
    "}\n",
    "t = t.drop(\"DistrictType\")"
   ]
  },
  {
   "cell_type": "markdown",
   "metadata": {},
   "source": [
    "## Fix office"
   ]
  },
  {
   "cell_type": "code",
   "execution_count": 15,
   "metadata": {},
   "outputs": [],
   "source": [
    "def convert_office(office_title: ir.StringValue) -> ir.StringValue:\n",
    "    office_title = office_title.upper().strip()\n",
    "    cases = [\n",
    "        (office_title == \"MEMBER HOUSE OF DELEGATES\", ed.Office.STATE_HOUSE),\n",
    "        (office_title == \"MEMBER SENATE OF VIRGINIA\", ed.Office.STATE_SENATE),\n",
    "        (office_title == \"GOVERNOR\", ed.Office.GOVERNOR),\n",
    "        (office_title == \"LIEUTENANT GOVERNOR\", ed.Office.LIEUTENANT_GOVERNOR),\n",
    "        (office_title == \"ATTORNEY GENERAL\", ed.Office.ATTORNEY_GENERAL),\n",
    "        (office_title.contains(\"SCHOOL BOARD\"), ed.Office.SCHOOL_BOARD),\n",
    "        (office_title.contains(\"MAYOR\"), ed.Office.MAYOR),\n",
    "    ]\n",
    "    result = ed.util.cases(*cases, else_=office_title)\n",
    "    min_results = {str(out) for inp, out in cases}\n",
    "    seen_values = set(result.name(\"x\").value_counts().x.execute())\n",
    "    missing = min_results - seen_values\n",
    "    assert not missing, f\"Missing {missing}\"\n",
    "    return result\n",
    "\n",
    "\n",
    "t = t.mutate(office=convert_office(t.OfficeTitle)).drop(\"OfficeTitle\")"
   ]
  },
  {
   "cell_type": "markdown",
   "metadata": {},
   "source": [
    "## fix district"
   ]
  },
  {
   "cell_type": "code",
   "execution_count": 16,
   "metadata": {},
   "outputs": [],
   "source": [
    "def fix_district(district_name: ir.StringValue) -> ir.StringValue:\n",
    "    # pad to 3 digits, eg \"1\" -> \"001\", \"10\" -> \"010\", \"100\" -> \"100\"\n",
    "    padded = district_name.re_replace(r\"^0*(\\d{1,3})$\", r\"0000000\\1\").right(3)\n",
    "    return district_name.re_search(r\"^0*\\d{1,3}$\").ifelse(padded, district_name)\n",
    "\n",
    "\n",
    "assert fix_district(ibis.literal(\"\")).execute() == \"\"\n",
    "assert fix_district(ibis.literal(\"0\")).execute() == \"000\"\n",
    "assert fix_district(ibis.literal(\"1\")).execute() == \"001\"\n",
    "assert fix_district(ibis.literal(\"10\")).execute() == \"010\"\n",
    "assert fix_district(ibis.literal(\"100\")).execute() == \"100\"\n",
    "assert fix_district(ibis.literal(\"1000\")).execute() == \"1000\"\n",
    "assert fix_district(ibis.literal(\"10000\")).execute() == \"10000\"\n",
    "assert fix_district(ibis.literal(\"foo\")).execute() == \"foo\"\n",
    "assert fix_district(ibis.literal(\"foo 10\")).execute() == \"foo 10\""
   ]
  },
  {
   "cell_type": "code",
   "execution_count": 17,
   "metadata": {},
   "outputs": [
    {
     "data": {
      "text/html": [
       "<pre style=\"white-space:pre;overflow-x:auto;line-height:normal;font-family:Menlo,'DejaVu Sans Mono',consolas,'Courier New',monospace\">┏━━━━━━━━┳━━━━━━━┳━━━━━━━━┳━━━━━━━┓\n",
       "┃<span style=\"font-weight: bold\"> val_a  </span>┃<span style=\"font-weight: bold\"> n_a   </span>┃<span style=\"font-weight: bold\"> val_b  </span>┃<span style=\"font-weight: bold\"> n_b   </span>┃\n",
       "┡━━━━━━━━╇━━━━━━━╇━━━━━━━━╇━━━━━━━┩\n",
       "│ <span style=\"color: #7f7f7f; text-decoration-color: #7f7f7f\">string</span> │ <span style=\"color: #7f7f7f; text-decoration-color: #7f7f7f\">int64</span> │ <span style=\"color: #7f7f7f; text-decoration-color: #7f7f7f\">string</span> │ <span style=\"color: #7f7f7f; text-decoration-color: #7f7f7f\">int64</span> │\n",
       "├────────┼───────┼────────┼───────┤\n",
       "│ <span style=\"color: #7f7f7f; text-decoration-color: #7f7f7f\">NULL</span>   │ <span style=\"color: #008080; text-decoration-color: #008080; font-weight: bold\">56611</span> │ <span style=\"color: #7f7f7f; text-decoration-color: #7f7f7f\">NULL</span>   │  <span style=\"color: #7f7f7f; text-decoration-color: #7f7f7f\">NULL</span> │\n",
       "│ <span style=\"color: #008000; text-decoration-color: #008000\">009   </span> │  <span style=\"color: #008080; text-decoration-color: #008080; font-weight: bold\">9075</span> │ <span style=\"color: #008000; text-decoration-color: #008000\">009   </span> │  <span style=\"color: #008080; text-decoration-color: #008080; font-weight: bold\">3364</span> │\n",
       "│ <span style=\"color: #008000; text-decoration-color: #008000\">005   </span> │  <span style=\"color: #008080; text-decoration-color: #008080; font-weight: bold\">7968</span> │ <span style=\"color: #008000; text-decoration-color: #008000\">005   </span> │  <span style=\"color: #008080; text-decoration-color: #008080; font-weight: bold\">3299</span> │\n",
       "│ <span style=\"color: #008000; text-decoration-color: #008000\">004   </span> │  <span style=\"color: #008080; text-decoration-color: #008080; font-weight: bold\">6576</span> │ <span style=\"color: #008000; text-decoration-color: #008000\">004   </span> │  <span style=\"color: #008080; text-decoration-color: #008080; font-weight: bold\">2911</span> │\n",
       "│ <span style=\"color: #008000; text-decoration-color: #008000\">006   </span> │  <span style=\"color: #008080; text-decoration-color: #008080; font-weight: bold\">6219</span> │ <span style=\"color: #008000; text-decoration-color: #008000\">006   </span> │  <span style=\"color: #008080; text-decoration-color: #008080; font-weight: bold\">2604</span> │\n",
       "│ <span style=\"color: #008000; text-decoration-color: #008000\">001   </span> │  <span style=\"color: #008080; text-decoration-color: #008080; font-weight: bold\">6159</span> │ <span style=\"color: #008000; text-decoration-color: #008000\">001   </span> │  <span style=\"color: #008080; text-decoration-color: #008080; font-weight: bold\">2748</span> │\n",
       "│ <span style=\"color: #008000; text-decoration-color: #008000\">007   </span> │  <span style=\"color: #008080; text-decoration-color: #008080; font-weight: bold\">5505</span> │ <span style=\"color: #008000; text-decoration-color: #008000\">007   </span> │  <span style=\"color: #008080; text-decoration-color: #008080; font-weight: bold\">2376</span> │\n",
       "│ <span style=\"color: #008000; text-decoration-color: #008000\">003   </span> │  <span style=\"color: #008080; text-decoration-color: #008080; font-weight: bold\">5167</span> │ <span style=\"color: #008000; text-decoration-color: #008000\">003   </span> │  <span style=\"color: #008080; text-decoration-color: #008080; font-weight: bold\">1688</span> │\n",
       "│ <span style=\"color: #008000; text-decoration-color: #008000\">010   </span> │  <span style=\"color: #008080; text-decoration-color: #008080; font-weight: bold\">5096</span> │ <span style=\"color: #008000; text-decoration-color: #008000\">010   </span> │  <span style=\"color: #008080; text-decoration-color: #008080; font-weight: bold\">1967</span> │\n",
       "│ <span style=\"color: #008000; text-decoration-color: #008000\">002   </span> │  <span style=\"color: #008080; text-decoration-color: #008080; font-weight: bold\">4373</span> │ <span style=\"color: #008000; text-decoration-color: #008000\">002   </span> │  <span style=\"color: #008080; text-decoration-color: #008080; font-weight: bold\">2094</span> │\n",
       "│ <span style=\"color: #7f7f7f; text-decoration-color: #7f7f7f\">…</span>      │     <span style=\"color: #7f7f7f; text-decoration-color: #7f7f7f\">…</span> │ <span style=\"color: #7f7f7f; text-decoration-color: #7f7f7f\">…</span>      │     <span style=\"color: #7f7f7f; text-decoration-color: #7f7f7f\">…</span> │\n",
       "└────────┴───────┴────────┴───────┘\n",
       "</pre>\n"
      ],
      "text/plain": [
       "┏━━━━━━━━┳━━━━━━━┳━━━━━━━━┳━━━━━━━┓\n",
       "┃\u001b[1m \u001b[0m\u001b[1mval_a\u001b[0m\u001b[1m \u001b[0m\u001b[1m \u001b[0m┃\u001b[1m \u001b[0m\u001b[1mn_a\u001b[0m\u001b[1m  \u001b[0m\u001b[1m \u001b[0m┃\u001b[1m \u001b[0m\u001b[1mval_b\u001b[0m\u001b[1m \u001b[0m\u001b[1m \u001b[0m┃\u001b[1m \u001b[0m\u001b[1mn_b\u001b[0m\u001b[1m  \u001b[0m\u001b[1m \u001b[0m┃\n",
       "┡━━━━━━━━╇━━━━━━━╇━━━━━━━━╇━━━━━━━┩\n",
       "│ \u001b[2mstring\u001b[0m │ \u001b[2mint64\u001b[0m │ \u001b[2mstring\u001b[0m │ \u001b[2mint64\u001b[0m │\n",
       "├────────┼───────┼────────┼───────┤\n",
       "│ \u001b[2mNULL\u001b[0m   │ \u001b[1;36m56611\u001b[0m │ \u001b[2mNULL\u001b[0m   │  \u001b[2mNULL\u001b[0m │\n",
       "│ \u001b[32m009   \u001b[0m │  \u001b[1;36m9075\u001b[0m │ \u001b[32m009   \u001b[0m │  \u001b[1;36m3364\u001b[0m │\n",
       "│ \u001b[32m005   \u001b[0m │  \u001b[1;36m7968\u001b[0m │ \u001b[32m005   \u001b[0m │  \u001b[1;36m3299\u001b[0m │\n",
       "│ \u001b[32m004   \u001b[0m │  \u001b[1;36m6576\u001b[0m │ \u001b[32m004   \u001b[0m │  \u001b[1;36m2911\u001b[0m │\n",
       "│ \u001b[32m006   \u001b[0m │  \u001b[1;36m6219\u001b[0m │ \u001b[32m006   \u001b[0m │  \u001b[1;36m2604\u001b[0m │\n",
       "│ \u001b[32m001   \u001b[0m │  \u001b[1;36m6159\u001b[0m │ \u001b[32m001   \u001b[0m │  \u001b[1;36m2748\u001b[0m │\n",
       "│ \u001b[32m007   \u001b[0m │  \u001b[1;36m5505\u001b[0m │ \u001b[32m007   \u001b[0m │  \u001b[1;36m2376\u001b[0m │\n",
       "│ \u001b[32m003   \u001b[0m │  \u001b[1;36m5167\u001b[0m │ \u001b[32m003   \u001b[0m │  \u001b[1;36m1688\u001b[0m │\n",
       "│ \u001b[32m010   \u001b[0m │  \u001b[1;36m5096\u001b[0m │ \u001b[32m010   \u001b[0m │  \u001b[1;36m1967\u001b[0m │\n",
       "│ \u001b[32m002   \u001b[0m │  \u001b[1;36m4373\u001b[0m │ \u001b[32m002   \u001b[0m │  \u001b[1;36m2094\u001b[0m │\n",
       "│ \u001b[2m…\u001b[0m      │     \u001b[2m…\u001b[0m │ \u001b[2m…\u001b[0m      │     \u001b[2m…\u001b[0m │\n",
       "└────────┴───────┴────────┴───────┘"
      ]
     },
     "metadata": {},
     "output_type": "display_data"
    },
    {
     "data": {
      "text/html": [
       "<pre style=\"white-space:pre;overflow-x:auto;line-height:normal;font-family:Menlo,'DejaVu Sans Mono',consolas,'Courier New',monospace\">┏━━━━━━━━┳━━━━━━━┳━━━━━━━━━━━┳━━━━━━━┓\n",
       "┃<span style=\"font-weight: bold\"> val_a  </span>┃<span style=\"font-weight: bold\"> n_a   </span>┃<span style=\"font-weight: bold\"> val_b     </span>┃<span style=\"font-weight: bold\"> n_b   </span>┃\n",
       "┡━━━━━━━━╇━━━━━━━╇━━━━━━━━━━━╇━━━━━━━┩\n",
       "│ <span style=\"color: #7f7f7f; text-decoration-color: #7f7f7f\">string</span> │ <span style=\"color: #7f7f7f; text-decoration-color: #7f7f7f\">int64</span> │ <span style=\"color: #7f7f7f; text-decoration-color: #7f7f7f\">string</span>    │ <span style=\"color: #7f7f7f; text-decoration-color: #7f7f7f\">int64</span> │\n",
       "├────────┼───────┼───────────┼───────┤\n",
       "│ <span style=\"color: #7f7f7f; text-decoration-color: #7f7f7f\">NULL</span>   │  <span style=\"color: #7f7f7f; text-decoration-color: #7f7f7f\">NULL</span> │ <span style=\"color: #008000; text-decoration-color: #008000\">STATEWIDE</span> │ <span style=\"color: #008080; text-decoration-color: #008080; font-weight: bold\">30222</span> │\n",
       "│ <span style=\"color: #7f7f7f; text-decoration-color: #7f7f7f\">NULL</span>   │  <span style=\"color: #7f7f7f; text-decoration-color: #7f7f7f\">NULL</span> │ <span style=\"color: #7f7f7f; text-decoration-color: #7f7f7f\">NULL</span>      │ <span style=\"color: #008080; text-decoration-color: #008080; font-weight: bold\">17774</span> │\n",
       "│ <span style=\"color: #008000; text-decoration-color: #008000\">009   </span> │  <span style=\"color: #008080; text-decoration-color: #008080; font-weight: bold\">9075</span> │ <span style=\"color: #008000; text-decoration-color: #008000\">009      </span> │  <span style=\"color: #008080; text-decoration-color: #008080; font-weight: bold\">3364</span> │\n",
       "│ <span style=\"color: #008000; text-decoration-color: #008000\">005   </span> │  <span style=\"color: #008080; text-decoration-color: #008080; font-weight: bold\">7968</span> │ <span style=\"color: #008000; text-decoration-color: #008000\">005      </span> │  <span style=\"color: #008080; text-decoration-color: #008080; font-weight: bold\">3299</span> │\n",
       "│ <span style=\"color: #008000; text-decoration-color: #008000\">004   </span> │  <span style=\"color: #008080; text-decoration-color: #008080; font-weight: bold\">6576</span> │ <span style=\"color: #008000; text-decoration-color: #008000\">004      </span> │  <span style=\"color: #008080; text-decoration-color: #008080; font-weight: bold\">2911</span> │\n",
       "│ <span style=\"color: #008000; text-decoration-color: #008000\">001   </span> │  <span style=\"color: #008080; text-decoration-color: #008080; font-weight: bold\">6159</span> │ <span style=\"color: #008000; text-decoration-color: #008000\">001      </span> │  <span style=\"color: #008080; text-decoration-color: #008080; font-weight: bold\">2748</span> │\n",
       "│ <span style=\"color: #008000; text-decoration-color: #008000\">006   </span> │  <span style=\"color: #008080; text-decoration-color: #008080; font-weight: bold\">6219</span> │ <span style=\"color: #008000; text-decoration-color: #008000\">006      </span> │  <span style=\"color: #008080; text-decoration-color: #008080; font-weight: bold\">2604</span> │\n",
       "│ <span style=\"color: #008000; text-decoration-color: #008000\">007   </span> │  <span style=\"color: #008080; text-decoration-color: #008080; font-weight: bold\">5505</span> │ <span style=\"color: #008000; text-decoration-color: #008000\">007      </span> │  <span style=\"color: #008080; text-decoration-color: #008080; font-weight: bold\">2376</span> │\n",
       "│ <span style=\"color: #008000; text-decoration-color: #008000\">002   </span> │  <span style=\"color: #008080; text-decoration-color: #008080; font-weight: bold\">4373</span> │ <span style=\"color: #008000; text-decoration-color: #008000\">002      </span> │  <span style=\"color: #008080; text-decoration-color: #008080; font-weight: bold\">2094</span> │\n",
       "│ <span style=\"color: #008000; text-decoration-color: #008000\">010   </span> │  <span style=\"color: #008080; text-decoration-color: #008080; font-weight: bold\">5096</span> │ <span style=\"color: #008000; text-decoration-color: #008000\">010      </span> │  <span style=\"color: #008080; text-decoration-color: #008080; font-weight: bold\">1967</span> │\n",
       "│ <span style=\"color: #7f7f7f; text-decoration-color: #7f7f7f\">…</span>      │     <span style=\"color: #7f7f7f; text-decoration-color: #7f7f7f\">…</span> │ <span style=\"color: #7f7f7f; text-decoration-color: #7f7f7f\">…</span>         │     <span style=\"color: #7f7f7f; text-decoration-color: #7f7f7f\">…</span> │\n",
       "└────────┴───────┴───────────┴───────┘\n",
       "</pre>\n"
      ],
      "text/plain": [
       "┏━━━━━━━━┳━━━━━━━┳━━━━━━━━━━━┳━━━━━━━┓\n",
       "┃\u001b[1m \u001b[0m\u001b[1mval_a\u001b[0m\u001b[1m \u001b[0m\u001b[1m \u001b[0m┃\u001b[1m \u001b[0m\u001b[1mn_a\u001b[0m\u001b[1m  \u001b[0m\u001b[1m \u001b[0m┃\u001b[1m \u001b[0m\u001b[1mval_b\u001b[0m\u001b[1m    \u001b[0m\u001b[1m \u001b[0m┃\u001b[1m \u001b[0m\u001b[1mn_b\u001b[0m\u001b[1m  \u001b[0m\u001b[1m \u001b[0m┃\n",
       "┡━━━━━━━━╇━━━━━━━╇━━━━━━━━━━━╇━━━━━━━┩\n",
       "│ \u001b[2mstring\u001b[0m │ \u001b[2mint64\u001b[0m │ \u001b[2mstring\u001b[0m    │ \u001b[2mint64\u001b[0m │\n",
       "├────────┼───────┼───────────┼───────┤\n",
       "│ \u001b[2mNULL\u001b[0m   │  \u001b[2mNULL\u001b[0m │ \u001b[32mSTATEWIDE\u001b[0m │ \u001b[1;36m30222\u001b[0m │\n",
       "│ \u001b[2mNULL\u001b[0m   │  \u001b[2mNULL\u001b[0m │ \u001b[2mNULL\u001b[0m      │ \u001b[1;36m17774\u001b[0m │\n",
       "│ \u001b[32m009   \u001b[0m │  \u001b[1;36m9075\u001b[0m │ \u001b[32m009      \u001b[0m │  \u001b[1;36m3364\u001b[0m │\n",
       "│ \u001b[32m005   \u001b[0m │  \u001b[1;36m7968\u001b[0m │ \u001b[32m005      \u001b[0m │  \u001b[1;36m3299\u001b[0m │\n",
       "│ \u001b[32m004   \u001b[0m │  \u001b[1;36m6576\u001b[0m │ \u001b[32m004      \u001b[0m │  \u001b[1;36m2911\u001b[0m │\n",
       "│ \u001b[32m001   \u001b[0m │  \u001b[1;36m6159\u001b[0m │ \u001b[32m001      \u001b[0m │  \u001b[1;36m2748\u001b[0m │\n",
       "│ \u001b[32m006   \u001b[0m │  \u001b[1;36m6219\u001b[0m │ \u001b[32m006      \u001b[0m │  \u001b[1;36m2604\u001b[0m │\n",
       "│ \u001b[32m007   \u001b[0m │  \u001b[1;36m5505\u001b[0m │ \u001b[32m007      \u001b[0m │  \u001b[1;36m2376\u001b[0m │\n",
       "│ \u001b[32m002   \u001b[0m │  \u001b[1;36m4373\u001b[0m │ \u001b[32m002      \u001b[0m │  \u001b[1;36m2094\u001b[0m │\n",
       "│ \u001b[32m010   \u001b[0m │  \u001b[1;36m5096\u001b[0m │ \u001b[32m010      \u001b[0m │  \u001b[1;36m1967\u001b[0m │\n",
       "│ \u001b[2m…\u001b[0m      │     \u001b[2m…\u001b[0m │ \u001b[2m…\u001b[0m         │     \u001b[2m…\u001b[0m │\n",
       "└────────┴───────┴───────────┴───────┘"
      ]
     },
     "metadata": {},
     "output_type": "display_data"
    }
   ],
   "source": [
    "ed.util.compare(fix_district(t.DistrictName), medsl_va.district)"
   ]
  },
  {
   "cell_type": "code",
   "execution_count": 18,
   "metadata": {},
   "outputs": [],
   "source": [
    "t = t.mutate(district=fix_district(t.DistrictName)).drop(\"DistrictName\")"
   ]
  },
  {
   "cell_type": "markdown",
   "metadata": {},
   "source": [
    "## Fudge the Magnitude\n",
    "\n",
    "We don't know the magnitude for most of these, so set to null where we don't know"
   ]
  },
  {
   "cell_type": "code",
   "execution_count": 19,
   "metadata": {},
   "outputs": [
    {
     "data": {
      "text/html": [
       "<pre style=\"white-space:pre;overflow-x:auto;line-height:normal;font-family:Menlo,'DejaVu Sans Mono',consolas,'Courier New',monospace\">┏━━━━━━━┳━━━━━━━━┳━━━━━━━━┳━━━━━━━━━━━━┳━━━━━━━━━━━━━━┳━━━━━━━━━┳━━━━━━━━┳━━━━━━━━━━┳━━━━━━━━━━━━━━━━━━━━━━━┳━━━━━━━━━━━━━┳━━━━━━━━━━━━━━━━━━━━━━━┳━━━━━━━━━━━━━━━━━━━┳━━━━━━━━━━━━━━━━━━━━━━━━━━┳━━━━━━━━━┳━━━━━━━━━━━━━━━━━━┳━━━━━━━━━━━━━━━━┳━━━━━━━━━━━━━━━━━━━━━━━━━━━━━━━━━━━━━━━━━━━━━━━━━━┳━━━━━━━━━━━━━━━━━━━━━━━━━━━━━━━━━━━━━━━━━━━━━━━━━━━━━━━━━━━━━━━━┳━━━━━━━━━━┳━━━━━━━━━━━┓\n",
       "┃<span style=\"font-weight: bold\"> year  </span>┃<span style=\"font-weight: bold\"> votes  </span>┃<span style=\"font-weight: bold\"> mode   </span>┃<span style=\"font-weight: bold\"> date       </span>┃<span style=\"font-weight: bold\"> readme_check </span>┃<span style=\"font-weight: bold\"> special </span>┃<span style=\"font-weight: bold\"> stage  </span>┃<span style=\"font-weight: bold\"> state_po </span>┃<span style=\"font-weight: bold\"> county_name           </span>┃<span style=\"font-weight: bold\"> county_fips </span>┃<span style=\"font-weight: bold\"> jurisdiction_name     </span>┃<span style=\"font-weight: bold\"> jurisdiction_fips </span>┃<span style=\"font-weight: bold\"> candidate                </span>┃<span style=\"font-weight: bold\"> writein </span>┃<span style=\"font-weight: bold\"> party_simplified </span>┃<span style=\"font-weight: bold\"> party_detailed </span>┃<span style=\"font-weight: bold\"> precinct                                         </span>┃<span style=\"font-weight: bold\"> office                                                         </span>┃<span style=\"font-weight: bold\"> district </span>┃<span style=\"font-weight: bold\"> magnitude </span>┃\n",
       "┡━━━━━━━╇━━━━━━━━╇━━━━━━━━╇━━━━━━━━━━━━╇━━━━━━━━━━━━━━╇━━━━━━━━━╇━━━━━━━━╇━━━━━━━━━━╇━━━━━━━━━━━━━━━━━━━━━━━╇━━━━━━━━━━━━━╇━━━━━━━━━━━━━━━━━━━━━━━╇━━━━━━━━━━━━━━━━━━━╇━━━━━━━━━━━━━━━━━━━━━━━━━━╇━━━━━━━━━╇━━━━━━━━━━━━━━━━━━╇━━━━━━━━━━━━━━━━╇━━━━━━━━━━━━━━━━━━━━━━━━━━━━━━━━━━━━━━━━━━━━━━━━━━╇━━━━━━━━━━━━━━━━━━━━━━━━━━━━━━━━━━━━━━━━━━━━━━━━━━━━━━━━━━━━━━━━╇━━━━━━━━━━╇━━━━━━━━━━━┩\n",
       "│ <span style=\"color: #7f7f7f; text-decoration-color: #7f7f7f\">int16</span> │ <span style=\"color: #7f7f7f; text-decoration-color: #7f7f7f\">string</span> │ <span style=\"color: #7f7f7f; text-decoration-color: #7f7f7f\">string</span> │ <span style=\"color: #7f7f7f; text-decoration-color: #7f7f7f\">date</span>       │ <span style=\"color: #7f7f7f; text-decoration-color: #7f7f7f\">boolean</span>      │ <span style=\"color: #7f7f7f; text-decoration-color: #7f7f7f\">boolean</span> │ <span style=\"color: #7f7f7f; text-decoration-color: #7f7f7f\">string</span> │ <span style=\"color: #7f7f7f; text-decoration-color: #7f7f7f\">string</span>   │ <span style=\"color: #7f7f7f; text-decoration-color: #7f7f7f\">string</span>                │ <span style=\"color: #7f7f7f; text-decoration-color: #7f7f7f\">string</span>      │ <span style=\"color: #7f7f7f; text-decoration-color: #7f7f7f\">string</span>                │ <span style=\"color: #7f7f7f; text-decoration-color: #7f7f7f\">string</span>            │ <span style=\"color: #7f7f7f; text-decoration-color: #7f7f7f\">string</span>                   │ <span style=\"color: #7f7f7f; text-decoration-color: #7f7f7f\">boolean</span> │ <span style=\"color: #7f7f7f; text-decoration-color: #7f7f7f\">string</span>           │ <span style=\"color: #7f7f7f; text-decoration-color: #7f7f7f\">string</span>         │ <span style=\"color: #7f7f7f; text-decoration-color: #7f7f7f\">string</span>                                           │ <span style=\"color: #7f7f7f; text-decoration-color: #7f7f7f\">string</span>                                                         │ <span style=\"color: #7f7f7f; text-decoration-color: #7f7f7f\">string</span>   │ <span style=\"color: #7f7f7f; text-decoration-color: #7f7f7f\">int8</span>      │\n",
       "├───────┼────────┼────────┼────────────┼──────────────┼─────────┼────────┼──────────┼───────────────────────┼─────────────┼───────────────────────┼───────────────────┼──────────────────────────┼─────────┼──────────────────┼────────────────┼──────────────────────────────────────────────────┼────────────────────────────────────────────────────────────────┼──────────┼───────────┤\n",
       "│  <span style=\"color: #008080; text-decoration-color: #008080; font-weight: bold\">2019</span> │ <span style=\"color: #008000; text-decoration-color: #008000\">1204  </span> │ <span style=\"color: #008000; text-decoration-color: #008000\">TOTAL </span> │ <span style=\"color: #800080; text-decoration-color: #800080\">2019-11-05</span> │ False        │ False   │ <span style=\"color: #008000; text-decoration-color: #008000\">GEN   </span> │ <span style=\"color: #008000; text-decoration-color: #008000\">VA      </span> │ <span style=\"color: #008000; text-decoration-color: #008000\">AMHERST              </span> │ <span style=\"color: #008000; text-decoration-color: #008000\">51009      </span> │ <span style=\"color: #008000; text-decoration-color: #008000\">AMHERST              </span> │ <span style=\"color: #008000; text-decoration-color: #008000\">51009            </span> │ <span style=\"color: #008000; text-decoration-color: #008000\">WILLIAM LYLE CARVER     </span> │ False   │ <span style=\"color: #008000; text-decoration-color: #008000\">INDEPENDENT     </span> │ <span style=\"color: #008000; text-decoration-color: #008000\">INDEPENDENT   </span> │ <span style=\"color: #008000; text-decoration-color: #008000\">501 - MADISON                                   </span> │ <span style=\"color: #008000; text-decoration-color: #008000\">COMMONWEALTH'S ATTORNEY                                       </span> │ <span style=\"color: #7f7f7f; text-decoration-color: #7f7f7f\">NULL</span>     │      <span style=\"color: #7f7f7f; text-decoration-color: #7f7f7f\">NULL</span> │\n",
       "│  <span style=\"color: #008080; text-decoration-color: #008080; font-weight: bold\">2019</span> │ <span style=\"color: #008000; text-decoration-color: #008000\">432   </span> │ <span style=\"color: #008000; text-decoration-color: #008000\">TOTAL </span> │ <span style=\"color: #800080; text-decoration-color: #800080\">2019-11-05</span> │ False        │ False   │ <span style=\"color: #008000; text-decoration-color: #008000\">GEN   </span> │ <span style=\"color: #008000; text-decoration-color: #008000\">VA      </span> │ <span style=\"color: #008000; text-decoration-color: #008000\">CHARLOTTE            </span> │ <span style=\"color: #008000; text-decoration-color: #008000\">51037      </span> │ <span style=\"color: #008000; text-decoration-color: #008000\">CHARLOTTE            </span> │ <span style=\"color: #008000; text-decoration-color: #008000\">51037            </span> │ <span style=\"color: #008000; text-decoration-color: #008000\">WILLIAM EUGENE GREEN JR.</span> │ False   │ <span style=\"color: #008000; text-decoration-color: #008000\">INDEPENDENT     </span> │ <span style=\"color: #008000; text-decoration-color: #008000\">INDEPENDENT   </span> │ <span style=\"color: #008000; text-decoration-color: #008000\">702 - BACON/SAXE                                </span> │ <span style=\"color: #008000; text-decoration-color: #008000\">COMMONWEALTH'S ATTORNEY                                       </span> │ <span style=\"color: #7f7f7f; text-decoration-color: #7f7f7f\">NULL</span>     │      <span style=\"color: #7f7f7f; text-decoration-color: #7f7f7f\">NULL</span> │\n",
       "│  <span style=\"color: #008080; text-decoration-color: #008080; font-weight: bold\">2019</span> │ <span style=\"color: #008000; text-decoration-color: #008000\">883   </span> │ <span style=\"color: #008000; text-decoration-color: #008000\">TOTAL </span> │ <span style=\"color: #800080; text-decoration-color: #800080\">2019-11-05</span> │ False        │ False   │ <span style=\"color: #008000; text-decoration-color: #008000\">GEN   </span> │ <span style=\"color: #008000; text-decoration-color: #008000\">VA      </span> │ <span style=\"color: #008000; text-decoration-color: #008000\">CHESAPEAKE CITY      </span> │ <span style=\"color: #008000; text-decoration-color: #008000\">51550      </span> │ <span style=\"color: #008000; text-decoration-color: #008000\">CHESAPEAKE CITY      </span> │ <span style=\"color: #008000; text-decoration-color: #008000\">51550            </span> │ <span style=\"color: #008000; text-decoration-color: #008000\">VICKIE JOY GREENE       </span> │ False   │ <span style=\"color: #008000; text-decoration-color: #008000\">INDEPENDENT     </span> │ <span style=\"color: #008000; text-decoration-color: #008000\">INDEPENDENT   </span> │ <span style=\"color: #008000; text-decoration-color: #008000\">065 - WATERWAY II                               </span> │ <span style=\"color: #008000; text-decoration-color: #008000\">SOIL AND WATER CONSERVATION DIRECTOR VIRGINIA DARE DISTRICT   </span> │ <span style=\"color: #7f7f7f; text-decoration-color: #7f7f7f\">NULL</span>     │      <span style=\"color: #7f7f7f; text-decoration-color: #7f7f7f\">NULL</span> │\n",
       "│  <span style=\"color: #008080; text-decoration-color: #008080; font-weight: bold\">2019</span> │ <span style=\"color: #008000; text-decoration-color: #008000\">155   </span> │ <span style=\"color: #008000; text-decoration-color: #008000\">TOTAL </span> │ <span style=\"color: #800080; text-decoration-color: #800080\">2019-11-05</span> │ False        │ False   │ <span style=\"color: #008000; text-decoration-color: #008000\">GEN   </span> │ <span style=\"color: #008000; text-decoration-color: #008000\">VA      </span> │ <span style=\"color: #008000; text-decoration-color: #008000\">CLARKE               </span> │ <span style=\"color: #008000; text-decoration-color: #008000\">51043      </span> │ <span style=\"color: #008000; text-decoration-color: #008000\">CLARKE               </span> │ <span style=\"color: #008000; text-decoration-color: #008000\">51043            </span> │ <span style=\"color: #008000; text-decoration-color: #008000\">WAYNE ELDREDGE WEBB     </span> │ False   │ <span style=\"color: #008000; text-decoration-color: #008000\">INDEPENDENT     </span> │ <span style=\"color: #008000; text-decoration-color: #008000\">INDEPENDENT   </span> │ <span style=\"color: #008000; text-decoration-color: #008000\">502 - BLUE RIDGE                                </span> │ <span style=\"color: #008000; text-decoration-color: #008000\">SOIL AND WATER CONSERVATION DIRECTOR LORD FAIRFAX DISTRICT    </span> │ <span style=\"color: #7f7f7f; text-decoration-color: #7f7f7f\">NULL</span>     │      <span style=\"color: #7f7f7f; text-decoration-color: #7f7f7f\">NULL</span> │\n",
       "│  <span style=\"color: #008080; text-decoration-color: #008080; font-weight: bold\">2019</span> │ <span style=\"color: #008000; text-decoration-color: #008000\">1239  </span> │ <span style=\"color: #008000; text-decoration-color: #008000\">TOTAL </span> │ <span style=\"color: #800080; text-decoration-color: #800080\">2019-11-05</span> │ False        │ False   │ <span style=\"color: #008000; text-decoration-color: #008000\">GEN   </span> │ <span style=\"color: #008000; text-decoration-color: #008000\">VA      </span> │ <span style=\"color: #008000; text-decoration-color: #008000\">COLONIAL HEIGHTS CITY</span> │ <span style=\"color: #008000; text-decoration-color: #008000\">51570      </span> │ <span style=\"color: #008000; text-decoration-color: #008000\">COLONIAL HEIGHTS CITY</span> │ <span style=\"color: #008000; text-decoration-color: #008000\">51570            </span> │ <span style=\"color: #008000; text-decoration-color: #008000\">STACY LYNN STAFFORD     </span> │ False   │ <span style=\"color: #008000; text-decoration-color: #008000\">INDEPENDENT     </span> │ <span style=\"color: #008000; text-decoration-color: #008000\">INDEPENDENT   </span> │ <span style=\"color: #008000; text-decoration-color: #008000\">005 - FIFTH                                     </span> │ <span style=\"color: #008000; text-decoration-color: #008000\">CLERK OF COURT                                                </span> │ <span style=\"color: #7f7f7f; text-decoration-color: #7f7f7f\">NULL</span>     │      <span style=\"color: #7f7f7f; text-decoration-color: #7f7f7f\">NULL</span> │\n",
       "│  <span style=\"color: #008080; text-decoration-color: #008080; font-weight: bold\">2019</span> │ <span style=\"color: #008000; text-decoration-color: #008000\">224   </span> │ <span style=\"color: #008000; text-decoration-color: #008000\">TOTAL </span> │ <span style=\"color: #800080; text-decoration-color: #800080\">2019-11-05</span> │ False        │ False   │ <span style=\"color: #008000; text-decoration-color: #008000\">GEN   </span> │ <span style=\"color: #008000; text-decoration-color: #008000\">VA      </span> │ <span style=\"color: #008000; text-decoration-color: #008000\">DANVILLE CITY        </span> │ <span style=\"color: #008000; text-decoration-color: #008000\">51590      </span> │ <span style=\"color: #008000; text-decoration-color: #008000\">DANVILLE CITY        </span> │ <span style=\"color: #008000; text-decoration-color: #008000\">51590            </span> │ <span style=\"color: #008000; text-decoration-color: #008000\">VIRGINIA MAE SMITH      </span> │ False   │ <span style=\"color: #008000; text-decoration-color: #008000\">DEMOCRAT        </span> │ <span style=\"color: #008000; text-decoration-color: #008000\">DEMOCRAT      </span> │ <span style=\"color: #008000; text-decoration-color: #008000\">017 - WARD SEVENTEEN                            </span> │ <span style=\"color: #008000; text-decoration-color: #008000\">STATE SENATE                                                  </span> │ <span style=\"color: #008000; text-decoration-color: #008000\">015     </span> │         <span style=\"color: #008080; text-decoration-color: #008080; font-weight: bold\">1</span> │\n",
       "│  <span style=\"color: #008080; text-decoration-color: #008080; font-weight: bold\">2019</span> │ <span style=\"color: #008000; text-decoration-color: #008000\">991   </span> │ <span style=\"color: #008000; text-decoration-color: #008000\">TOTAL </span> │ <span style=\"color: #800080; text-decoration-color: #800080\">2019-11-05</span> │ False        │ False   │ <span style=\"color: #008000; text-decoration-color: #008000\">GEN   </span> │ <span style=\"color: #008000; text-decoration-color: #008000\">VA      </span> │ <span style=\"color: #008000; text-decoration-color: #008000\">FALLS CHURCH CITY    </span> │ <span style=\"color: #008000; text-decoration-color: #008000\">51610      </span> │ <span style=\"color: #008000; text-decoration-color: #008000\">FALLS CHURCH CITY    </span> │ <span style=\"color: #008000; text-decoration-color: #008000\">51610            </span> │ <span style=\"color: #008000; text-decoration-color: #008000\">SUSAN CORDIA DIMOCK     </span> │ False   │ <span style=\"color: #008000; text-decoration-color: #008000\">INDEPENDENT     </span> │ <span style=\"color: #008000; text-decoration-color: #008000\">INDEPENDENT   </span> │ <span style=\"color: #008000; text-decoration-color: #008000\">003 - THIRD WARD                                </span> │ <span style=\"color: #008000; text-decoration-color: #008000\">SCHOOL BOARD                                                  </span> │ <span style=\"color: #7f7f7f; text-decoration-color: #7f7f7f\">NULL</span>     │         <span style=\"color: #008080; text-decoration-color: #008080; font-weight: bold\">1</span> │\n",
       "│  <span style=\"color: #008080; text-decoration-color: #008080; font-weight: bold\">2019</span> │ <span style=\"color: #008000; text-decoration-color: #008000\">1496  </span> │ <span style=\"color: #008000; text-decoration-color: #008000\">TOTAL </span> │ <span style=\"color: #800080; text-decoration-color: #800080\">2019-11-05</span> │ False        │ False   │ <span style=\"color: #008000; text-decoration-color: #008000\">GEN   </span> │ <span style=\"color: #008000; text-decoration-color: #008000\">VA      </span> │ <span style=\"color: #008000; text-decoration-color: #008000\">FLUVANNA             </span> │ <span style=\"color: #008000; text-decoration-color: #008000\">51065      </span> │ <span style=\"color: #008000; text-decoration-color: #008000\">FLUVANNA             </span> │ <span style=\"color: #008000; text-decoration-color: #008000\">51065            </span> │ <span style=\"color: #008000; text-decoration-color: #008000\">THOMAS ALFRED PRATLEY   </span> │ False   │ <span style=\"color: #008000; text-decoration-color: #008000\">INDEPENDENT     </span> │ <span style=\"color: #008000; text-decoration-color: #008000\">INDEPENDENT   </span> │ <span style=\"color: #008000; text-decoration-color: #008000\">501 - RIVANNA                                   </span> │ <span style=\"color: #008000; text-decoration-color: #008000\">SOIL AND WATER CONSERVATION DIRECTOR THOMAS JEFFERSON DISTRICT</span> │ <span style=\"color: #7f7f7f; text-decoration-color: #7f7f7f\">NULL</span>     │      <span style=\"color: #7f7f7f; text-decoration-color: #7f7f7f\">NULL</span> │\n",
       "│  <span style=\"color: #008080; text-decoration-color: #008080; font-weight: bold\">2019</span> │ <span style=\"color: #008000; text-decoration-color: #008000\">423   </span> │ <span style=\"color: #008000; text-decoration-color: #008000\">TOTAL </span> │ <span style=\"color: #800080; text-decoration-color: #800080\">2019-11-05</span> │ False        │ False   │ <span style=\"color: #008000; text-decoration-color: #008000\">GEN   </span> │ <span style=\"color: #008000; text-decoration-color: #008000\">VA      </span> │ <span style=\"color: #008000; text-decoration-color: #008000\">NEW KENT             </span> │ <span style=\"color: #008000; text-decoration-color: #008000\">51127      </span> │ <span style=\"color: #008000; text-decoration-color: #008000\">NEW KENT             </span> │ <span style=\"color: #008000; text-decoration-color: #008000\">51127            </span> │ <span style=\"color: #008000; text-decoration-color: #008000\">TIMOTHY SCOTT RENICK    </span> │ False   │ <span style=\"color: #008000; text-decoration-color: #008000\">INDEPENDENT     </span> │ <span style=\"color: #008000; text-decoration-color: #008000\">INDEPENDENT   </span> │ <span style=\"color: #008000; text-decoration-color: #008000\">502 - CHICKAHOMINY RIVER                        </span> │ <span style=\"color: #008000; text-decoration-color: #008000\">COMMONWEALTH'S ATTORNEY                                       </span> │ <span style=\"color: #7f7f7f; text-decoration-color: #7f7f7f\">NULL</span>     │      <span style=\"color: #7f7f7f; text-decoration-color: #7f7f7f\">NULL</span> │\n",
       "│  <span style=\"color: #008080; text-decoration-color: #008080; font-weight: bold\">2019</span> │ <span style=\"color: #008000; text-decoration-color: #008000\">1074  </span> │ <span style=\"color: #008000; text-decoration-color: #008000\">TOTAL </span> │ <span style=\"color: #800080; text-decoration-color: #800080\">2019-11-05</span> │ False        │ False   │ <span style=\"color: #008000; text-decoration-color: #008000\">GEN   </span> │ <span style=\"color: #008000; text-decoration-color: #008000\">VA      </span> │ <span style=\"color: #008000; text-decoration-color: #008000\">PORTSMOUTH CITY      </span> │ <span style=\"color: #008000; text-decoration-color: #008000\">51740      </span> │ <span style=\"color: #008000; text-decoration-color: #008000\">PORTSMOUTH CITY      </span> │ <span style=\"color: #008000; text-decoration-color: #008000\">51740            </span> │ <span style=\"color: #008000; text-decoration-color: #008000\">STEPHEN EDWARD HERETICK </span> │ False   │ <span style=\"color: #008000; text-decoration-color: #008000\">DEMOCRAT        </span> │ <span style=\"color: #008000; text-decoration-color: #008000\">DEMOCRAT      </span> │ <span style=\"color: #008000; text-decoration-color: #008000\">039 - CHURCHLAND PRIMARY AND INTERMEDIATE SCHOOL</span> │ <span style=\"color: #008000; text-decoration-color: #008000\">STATE HOUSE                                                   </span> │ <span style=\"color: #008000; text-decoration-color: #008000\">079     </span> │         <span style=\"color: #008080; text-decoration-color: #008080; font-weight: bold\">1</span> │\n",
       "│     <span style=\"color: #7f7f7f; text-decoration-color: #7f7f7f\">…</span> │ <span style=\"color: #7f7f7f; text-decoration-color: #7f7f7f\">…</span>      │ <span style=\"color: #7f7f7f; text-decoration-color: #7f7f7f\">…</span>      │ <span style=\"color: #7f7f7f; text-decoration-color: #7f7f7f\">…</span>          │ <span style=\"color: #7f7f7f; text-decoration-color: #7f7f7f\">…</span>            │ <span style=\"color: #7f7f7f; text-decoration-color: #7f7f7f\">…</span>       │ <span style=\"color: #7f7f7f; text-decoration-color: #7f7f7f\">…</span>      │ <span style=\"color: #7f7f7f; text-decoration-color: #7f7f7f\">…</span>        │ <span style=\"color: #7f7f7f; text-decoration-color: #7f7f7f\">…</span>                     │ <span style=\"color: #7f7f7f; text-decoration-color: #7f7f7f\">…</span>           │ <span style=\"color: #7f7f7f; text-decoration-color: #7f7f7f\">…</span>                     │ <span style=\"color: #7f7f7f; text-decoration-color: #7f7f7f\">…</span>                 │ <span style=\"color: #7f7f7f; text-decoration-color: #7f7f7f\">…</span>                        │ <span style=\"color: #7f7f7f; text-decoration-color: #7f7f7f\">…</span>       │ <span style=\"color: #7f7f7f; text-decoration-color: #7f7f7f\">…</span>                │ <span style=\"color: #7f7f7f; text-decoration-color: #7f7f7f\">…</span>              │ <span style=\"color: #7f7f7f; text-decoration-color: #7f7f7f\">…</span>                                                │ <span style=\"color: #7f7f7f; text-decoration-color: #7f7f7f\">…</span>                                                              │ <span style=\"color: #7f7f7f; text-decoration-color: #7f7f7f\">…</span>        │         <span style=\"color: #7f7f7f; text-decoration-color: #7f7f7f\">…</span> │\n",
       "└───────┴────────┴────────┴────────────┴──────────────┴─────────┴────────┴──────────┴───────────────────────┴─────────────┴───────────────────────┴───────────────────┴──────────────────────────┴─────────┴──────────────────┴────────────────┴──────────────────────────────────────────────────┴────────────────────────────────────────────────────────────────┴──────────┴───────────┘\n",
       "</pre>\n"
      ],
      "text/plain": [
       "┏━━━━━━━┳━━━━━━━━┳━━━━━━━━┳━━━━━━━━━━━━┳━━━━━━━━━━━━━━┳━━━━━━━━━┳━━━━━━━━┳━━━━━━━━━━┳━━━━━━━━━━━━━━━━━━━━━━━┳━━━━━━━━━━━━━┳━━━━━━━━━━━━━━━━━━━━━━━┳━━━━━━━━━━━━━━━━━━━┳━━━━━━━━━━━━━━━━━━━━━━━━━━┳━━━━━━━━━┳━━━━━━━━━━━━━━━━━━┳━━━━━━━━━━━━━━━━┳━━━━━━━━━━━━━━━━━━━━━━━━━━━━━━━━━━━━━━━━━━━━━━━━━━┳━━━━━━━━━━━━━━━━━━━━━━━━━━━━━━━━━━━━━━━━━━━━━━━━━━━━━━━━━━━━━━━━┳━━━━━━━━━━┳━━━━━━━━━━━┓\n",
       "┃\u001b[1m \u001b[0m\u001b[1myear\u001b[0m\u001b[1m \u001b[0m\u001b[1m \u001b[0m┃\u001b[1m \u001b[0m\u001b[1mvotes\u001b[0m\u001b[1m \u001b[0m\u001b[1m \u001b[0m┃\u001b[1m \u001b[0m\u001b[1mmode\u001b[0m\u001b[1m  \u001b[0m\u001b[1m \u001b[0m┃\u001b[1m \u001b[0m\u001b[1mdate\u001b[0m\u001b[1m      \u001b[0m\u001b[1m \u001b[0m┃\u001b[1m \u001b[0m\u001b[1mreadme_check\u001b[0m\u001b[1m \u001b[0m┃\u001b[1m \u001b[0m\u001b[1mspecial\u001b[0m\u001b[1m \u001b[0m┃\u001b[1m \u001b[0m\u001b[1mstage\u001b[0m\u001b[1m \u001b[0m\u001b[1m \u001b[0m┃\u001b[1m \u001b[0m\u001b[1mstate_po\u001b[0m\u001b[1m \u001b[0m┃\u001b[1m \u001b[0m\u001b[1mcounty_name\u001b[0m\u001b[1m          \u001b[0m\u001b[1m \u001b[0m┃\u001b[1m \u001b[0m\u001b[1mcounty_fips\u001b[0m\u001b[1m \u001b[0m┃\u001b[1m \u001b[0m\u001b[1mjurisdiction_name\u001b[0m\u001b[1m    \u001b[0m\u001b[1m \u001b[0m┃\u001b[1m \u001b[0m\u001b[1mjurisdiction_fips\u001b[0m\u001b[1m \u001b[0m┃\u001b[1m \u001b[0m\u001b[1mcandidate\u001b[0m\u001b[1m               \u001b[0m\u001b[1m \u001b[0m┃\u001b[1m \u001b[0m\u001b[1mwritein\u001b[0m\u001b[1m \u001b[0m┃\u001b[1m \u001b[0m\u001b[1mparty_simplified\u001b[0m\u001b[1m \u001b[0m┃\u001b[1m \u001b[0m\u001b[1mparty_detailed\u001b[0m\u001b[1m \u001b[0m┃\u001b[1m \u001b[0m\u001b[1mprecinct\u001b[0m\u001b[1m                                        \u001b[0m\u001b[1m \u001b[0m┃\u001b[1m \u001b[0m\u001b[1moffice\u001b[0m\u001b[1m                                                        \u001b[0m\u001b[1m \u001b[0m┃\u001b[1m \u001b[0m\u001b[1mdistrict\u001b[0m\u001b[1m \u001b[0m┃\u001b[1m \u001b[0m\u001b[1mmagnitude\u001b[0m\u001b[1m \u001b[0m┃\n",
       "┡━━━━━━━╇━━━━━━━━╇━━━━━━━━╇━━━━━━━━━━━━╇━━━━━━━━━━━━━━╇━━━━━━━━━╇━━━━━━━━╇━━━━━━━━━━╇━━━━━━━━━━━━━━━━━━━━━━━╇━━━━━━━━━━━━━╇━━━━━━━━━━━━━━━━━━━━━━━╇━━━━━━━━━━━━━━━━━━━╇━━━━━━━━━━━━━━━━━━━━━━━━━━╇━━━━━━━━━╇━━━━━━━━━━━━━━━━━━╇━━━━━━━━━━━━━━━━╇━━━━━━━━━━━━━━━━━━━━━━━━━━━━━━━━━━━━━━━━━━━━━━━━━━╇━━━━━━━━━━━━━━━━━━━━━━━━━━━━━━━━━━━━━━━━━━━━━━━━━━━━━━━━━━━━━━━━╇━━━━━━━━━━╇━━━━━━━━━━━┩\n",
       "│ \u001b[2mint16\u001b[0m │ \u001b[2mstring\u001b[0m │ \u001b[2mstring\u001b[0m │ \u001b[2mdate\u001b[0m       │ \u001b[2mboolean\u001b[0m      │ \u001b[2mboolean\u001b[0m │ \u001b[2mstring\u001b[0m │ \u001b[2mstring\u001b[0m   │ \u001b[2mstring\u001b[0m                │ \u001b[2mstring\u001b[0m      │ \u001b[2mstring\u001b[0m                │ \u001b[2mstring\u001b[0m            │ \u001b[2mstring\u001b[0m                   │ \u001b[2mboolean\u001b[0m │ \u001b[2mstring\u001b[0m           │ \u001b[2mstring\u001b[0m         │ \u001b[2mstring\u001b[0m                                           │ \u001b[2mstring\u001b[0m                                                         │ \u001b[2mstring\u001b[0m   │ \u001b[2mint8\u001b[0m      │\n",
       "├───────┼────────┼────────┼────────────┼──────────────┼─────────┼────────┼──────────┼───────────────────────┼─────────────┼───────────────────────┼───────────────────┼──────────────────────────┼─────────┼──────────────────┼────────────────┼──────────────────────────────────────────────────┼────────────────────────────────────────────────────────────────┼──────────┼───────────┤\n",
       "│  \u001b[1;36m2019\u001b[0m │ \u001b[32m1204  \u001b[0m │ \u001b[32mTOTAL \u001b[0m │ \u001b[35m2019-11-05\u001b[0m │ False        │ False   │ \u001b[32mGEN   \u001b[0m │ \u001b[32mVA      \u001b[0m │ \u001b[32mAMHERST              \u001b[0m │ \u001b[32m51009      \u001b[0m │ \u001b[32mAMHERST              \u001b[0m │ \u001b[32m51009            \u001b[0m │ \u001b[32mWILLIAM LYLE CARVER     \u001b[0m │ False   │ \u001b[32mINDEPENDENT     \u001b[0m │ \u001b[32mINDEPENDENT   \u001b[0m │ \u001b[32m501 - MADISON                                   \u001b[0m │ \u001b[32mCOMMONWEALTH'S ATTORNEY                                       \u001b[0m │ \u001b[2mNULL\u001b[0m     │      \u001b[2mNULL\u001b[0m │\n",
       "│  \u001b[1;36m2019\u001b[0m │ \u001b[32m432   \u001b[0m │ \u001b[32mTOTAL \u001b[0m │ \u001b[35m2019-11-05\u001b[0m │ False        │ False   │ \u001b[32mGEN   \u001b[0m │ \u001b[32mVA      \u001b[0m │ \u001b[32mCHARLOTTE            \u001b[0m │ \u001b[32m51037      \u001b[0m │ \u001b[32mCHARLOTTE            \u001b[0m │ \u001b[32m51037            \u001b[0m │ \u001b[32mWILLIAM EUGENE GREEN JR.\u001b[0m │ False   │ \u001b[32mINDEPENDENT     \u001b[0m │ \u001b[32mINDEPENDENT   \u001b[0m │ \u001b[32m702 - BACON/SAXE                                \u001b[0m │ \u001b[32mCOMMONWEALTH'S ATTORNEY                                       \u001b[0m │ \u001b[2mNULL\u001b[0m     │      \u001b[2mNULL\u001b[0m │\n",
       "│  \u001b[1;36m2019\u001b[0m │ \u001b[32m883   \u001b[0m │ \u001b[32mTOTAL \u001b[0m │ \u001b[35m2019-11-05\u001b[0m │ False        │ False   │ \u001b[32mGEN   \u001b[0m │ \u001b[32mVA      \u001b[0m │ \u001b[32mCHESAPEAKE CITY      \u001b[0m │ \u001b[32m51550      \u001b[0m │ \u001b[32mCHESAPEAKE CITY      \u001b[0m │ \u001b[32m51550            \u001b[0m │ \u001b[32mVICKIE JOY GREENE       \u001b[0m │ False   │ \u001b[32mINDEPENDENT     \u001b[0m │ \u001b[32mINDEPENDENT   \u001b[0m │ \u001b[32m065 - WATERWAY II                               \u001b[0m │ \u001b[32mSOIL AND WATER CONSERVATION DIRECTOR VIRGINIA DARE DISTRICT   \u001b[0m │ \u001b[2mNULL\u001b[0m     │      \u001b[2mNULL\u001b[0m │\n",
       "│  \u001b[1;36m2019\u001b[0m │ \u001b[32m155   \u001b[0m │ \u001b[32mTOTAL \u001b[0m │ \u001b[35m2019-11-05\u001b[0m │ False        │ False   │ \u001b[32mGEN   \u001b[0m │ \u001b[32mVA      \u001b[0m │ \u001b[32mCLARKE               \u001b[0m │ \u001b[32m51043      \u001b[0m │ \u001b[32mCLARKE               \u001b[0m │ \u001b[32m51043            \u001b[0m │ \u001b[32mWAYNE ELDREDGE WEBB     \u001b[0m │ False   │ \u001b[32mINDEPENDENT     \u001b[0m │ \u001b[32mINDEPENDENT   \u001b[0m │ \u001b[32m502 - BLUE RIDGE                                \u001b[0m │ \u001b[32mSOIL AND WATER CONSERVATION DIRECTOR LORD FAIRFAX DISTRICT    \u001b[0m │ \u001b[2mNULL\u001b[0m     │      \u001b[2mNULL\u001b[0m │\n",
       "│  \u001b[1;36m2019\u001b[0m │ \u001b[32m1239  \u001b[0m │ \u001b[32mTOTAL \u001b[0m │ \u001b[35m2019-11-05\u001b[0m │ False        │ False   │ \u001b[32mGEN   \u001b[0m │ \u001b[32mVA      \u001b[0m │ \u001b[32mCOLONIAL HEIGHTS CITY\u001b[0m │ \u001b[32m51570      \u001b[0m │ \u001b[32mCOLONIAL HEIGHTS CITY\u001b[0m │ \u001b[32m51570            \u001b[0m │ \u001b[32mSTACY LYNN STAFFORD     \u001b[0m │ False   │ \u001b[32mINDEPENDENT     \u001b[0m │ \u001b[32mINDEPENDENT   \u001b[0m │ \u001b[32m005 - FIFTH                                     \u001b[0m │ \u001b[32mCLERK OF COURT                                                \u001b[0m │ \u001b[2mNULL\u001b[0m     │      \u001b[2mNULL\u001b[0m │\n",
       "│  \u001b[1;36m2019\u001b[0m │ \u001b[32m224   \u001b[0m │ \u001b[32mTOTAL \u001b[0m │ \u001b[35m2019-11-05\u001b[0m │ False        │ False   │ \u001b[32mGEN   \u001b[0m │ \u001b[32mVA      \u001b[0m │ \u001b[32mDANVILLE CITY        \u001b[0m │ \u001b[32m51590      \u001b[0m │ \u001b[32mDANVILLE CITY        \u001b[0m │ \u001b[32m51590            \u001b[0m │ \u001b[32mVIRGINIA MAE SMITH      \u001b[0m │ False   │ \u001b[32mDEMOCRAT        \u001b[0m │ \u001b[32mDEMOCRAT      \u001b[0m │ \u001b[32m017 - WARD SEVENTEEN                            \u001b[0m │ \u001b[32mSTATE SENATE                                                  \u001b[0m │ \u001b[32m015     \u001b[0m │         \u001b[1;36m1\u001b[0m │\n",
       "│  \u001b[1;36m2019\u001b[0m │ \u001b[32m991   \u001b[0m │ \u001b[32mTOTAL \u001b[0m │ \u001b[35m2019-11-05\u001b[0m │ False        │ False   │ \u001b[32mGEN   \u001b[0m │ \u001b[32mVA      \u001b[0m │ \u001b[32mFALLS CHURCH CITY    \u001b[0m │ \u001b[32m51610      \u001b[0m │ \u001b[32mFALLS CHURCH CITY    \u001b[0m │ \u001b[32m51610            \u001b[0m │ \u001b[32mSUSAN CORDIA DIMOCK     \u001b[0m │ False   │ \u001b[32mINDEPENDENT     \u001b[0m │ \u001b[32mINDEPENDENT   \u001b[0m │ \u001b[32m003 - THIRD WARD                                \u001b[0m │ \u001b[32mSCHOOL BOARD                                                  \u001b[0m │ \u001b[2mNULL\u001b[0m     │         \u001b[1;36m1\u001b[0m │\n",
       "│  \u001b[1;36m2019\u001b[0m │ \u001b[32m1496  \u001b[0m │ \u001b[32mTOTAL \u001b[0m │ \u001b[35m2019-11-05\u001b[0m │ False        │ False   │ \u001b[32mGEN   \u001b[0m │ \u001b[32mVA      \u001b[0m │ \u001b[32mFLUVANNA             \u001b[0m │ \u001b[32m51065      \u001b[0m │ \u001b[32mFLUVANNA             \u001b[0m │ \u001b[32m51065            \u001b[0m │ \u001b[32mTHOMAS ALFRED PRATLEY   \u001b[0m │ False   │ \u001b[32mINDEPENDENT     \u001b[0m │ \u001b[32mINDEPENDENT   \u001b[0m │ \u001b[32m501 - RIVANNA                                   \u001b[0m │ \u001b[32mSOIL AND WATER CONSERVATION DIRECTOR THOMAS JEFFERSON DISTRICT\u001b[0m │ \u001b[2mNULL\u001b[0m     │      \u001b[2mNULL\u001b[0m │\n",
       "│  \u001b[1;36m2019\u001b[0m │ \u001b[32m423   \u001b[0m │ \u001b[32mTOTAL \u001b[0m │ \u001b[35m2019-11-05\u001b[0m │ False        │ False   │ \u001b[32mGEN   \u001b[0m │ \u001b[32mVA      \u001b[0m │ \u001b[32mNEW KENT             \u001b[0m │ \u001b[32m51127      \u001b[0m │ \u001b[32mNEW KENT             \u001b[0m │ \u001b[32m51127            \u001b[0m │ \u001b[32mTIMOTHY SCOTT RENICK    \u001b[0m │ False   │ \u001b[32mINDEPENDENT     \u001b[0m │ \u001b[32mINDEPENDENT   \u001b[0m │ \u001b[32m502 - CHICKAHOMINY RIVER                        \u001b[0m │ \u001b[32mCOMMONWEALTH'S ATTORNEY                                       \u001b[0m │ \u001b[2mNULL\u001b[0m     │      \u001b[2mNULL\u001b[0m │\n",
       "│  \u001b[1;36m2019\u001b[0m │ \u001b[32m1074  \u001b[0m │ \u001b[32mTOTAL \u001b[0m │ \u001b[35m2019-11-05\u001b[0m │ False        │ False   │ \u001b[32mGEN   \u001b[0m │ \u001b[32mVA      \u001b[0m │ \u001b[32mPORTSMOUTH CITY      \u001b[0m │ \u001b[32m51740      \u001b[0m │ \u001b[32mPORTSMOUTH CITY      \u001b[0m │ \u001b[32m51740            \u001b[0m │ \u001b[32mSTEPHEN EDWARD HERETICK \u001b[0m │ False   │ \u001b[32mDEMOCRAT        \u001b[0m │ \u001b[32mDEMOCRAT      \u001b[0m │ \u001b[32m039 - CHURCHLAND PRIMARY AND INTERMEDIATE SCHOOL\u001b[0m │ \u001b[32mSTATE HOUSE                                                   \u001b[0m │ \u001b[32m079     \u001b[0m │         \u001b[1;36m1\u001b[0m │\n",
       "│     \u001b[2m…\u001b[0m │ \u001b[2m…\u001b[0m      │ \u001b[2m…\u001b[0m      │ \u001b[2m…\u001b[0m          │ \u001b[2m…\u001b[0m            │ \u001b[2m…\u001b[0m       │ \u001b[2m…\u001b[0m      │ \u001b[2m…\u001b[0m        │ \u001b[2m…\u001b[0m                     │ \u001b[2m…\u001b[0m           │ \u001b[2m…\u001b[0m                     │ \u001b[2m…\u001b[0m                 │ \u001b[2m…\u001b[0m                        │ \u001b[2m…\u001b[0m       │ \u001b[2m…\u001b[0m                │ \u001b[2m…\u001b[0m              │ \u001b[2m…\u001b[0m                                                │ \u001b[2m…\u001b[0m                                                              │ \u001b[2m…\u001b[0m        │         \u001b[2m…\u001b[0m │\n",
       "└───────┴────────┴────────┴────────────┴──────────────┴─────────┴────────┴──────────┴───────────────────────┴─────────────┴───────────────────────┴───────────────────┴──────────────────────────┴─────────┴──────────────────┴────────────────┴──────────────────────────────────────────────────┴────────────────────────────────────────────────────────────────┴──────────┴───────────┘"
      ]
     },
     "execution_count": 19,
     "metadata": {},
     "output_type": "execute_result"
    }
   ],
   "source": [
    "t = t.mutate(\n",
    "    magnitude=_.office.isin(ed.Office).ifelse(1, None),\n",
    ")\n",
    "t"
   ]
  },
  {
   "cell_type": "code",
   "execution_count": 20,
   "metadata": {},
   "outputs": [],
   "source": [
    "t = t.cast(ed.RESULTS_SCHEMA).select(ed.RESULTS_SCHEMA)\n",
    "ed.tests.test_schema(t)"
   ]
  },
  {
   "cell_type": "code",
   "execution_count": 25,
   "metadata": {},
   "outputs": [
    {
     "data": {
      "application/vnd.jupyter.widget-view+json": {
       "model_id": "7ca78e45b228417c9ce19aabd3f969e4",
       "version_major": 2,
       "version_minor": 0
      },
      "text/plain": [
       "FloatProgress(value=0.0, layout=Layout(width='auto'), style=ProgressStyle(bar_color='black'))"
      ]
     },
     "metadata": {},
     "output_type": "display_data"
    }
   ],
   "source": [
    "together = ibis.union(medsl, t)\n",
    "together = together.cast(ed.RESULTS_SCHEMA).select(ed.RESULTS_SCHEMA)\n",
    "together.to_parquet(\"../data/cleaned.parquet\")"
   ]
  },
  {
   "cell_type": "code",
   "execution_count": null,
   "metadata": {},
   "outputs": [],
   "source": []
  }
 ],
 "metadata": {
  "kernelspec": {
   "display_name": ".venv",
   "language": "python",
   "name": "python3"
  },
  "language_info": {
   "codemirror_mode": {
    "name": "ipython",
    "version": 3
   },
   "file_extension": ".py",
   "mimetype": "text/x-python",
   "name": "python",
   "nbconvert_exporter": "python",
   "pygments_lexer": "ipython3",
   "version": "3.11.6"
  }
 },
 "nbformat": 4,
 "nbformat_minor": 2
}
