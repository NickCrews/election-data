{
 "cells": [
  {
   "cell_type": "code",
   "execution_count": 1,
   "metadata": {},
   "outputs": [],
   "source": [
    "import ibis\n",
    "from pathlib import Path\n",
    "import ibis_widget\n",
    "import election_data as ed\n",
    "from ibis.expr import types as ir\n",
    "\n",
    "ibis_widget.install()\n",
    "ibis.options.interactive = True\n",
    "\n",
    "from ibis import _"
   ]
  },
  {
   "cell_type": "code",
   "execution_count": 2,
   "metadata": {},
   "outputs": [
    {
     "data": {
      "text/html": [
       "<pre style=\"white-space:pre;overflow-x:auto;line-height:normal;font-family:Menlo,'DejaVu Sans Mono',consolas,'Courier New',monospace\">┏━━━━━━━┳━━━━━━━━━━━━┳━━━━━━━━━━┳━━━━━━━━━━━━━┳━━━━━━━━━━━━━┳━━━━━━━━━━━━━━━━━━━┳━━━━━━━━━━━━━━━━━━━┳━━━━━━━━━━┳━━━━━━━━━━━━━━━━━━━━━━━━━━━━━━━━━━━━━━━━━━━━━━┳━━━━━━━━━━━┳━━━━━━━━━┳━━━━━━━━┳━━━━━━━━━━━━━━━━━━━━━━━━━━━━━━━━━━━━━━━┳━━━━━━━━━┳━━━━━━━━━━━┳━━━━━━━━━━━━━━━━┳━━━━━━━━━━━━━━━━━━┳━━━━━━━━┳━━━━━━━━┳━━━━━━━━━━━━━━┓\n",
       "┃<span style=\"font-weight: bold\"> year  </span>┃<span style=\"font-weight: bold\"> date       </span>┃<span style=\"font-weight: bold\"> state_po </span>┃<span style=\"font-weight: bold\"> county_name </span>┃<span style=\"font-weight: bold\"> county_fips </span>┃<span style=\"font-weight: bold\"> jurisdiction_name </span>┃<span style=\"font-weight: bold\"> jurisdiction_fips </span>┃<span style=\"font-weight: bold\"> district </span>┃<span style=\"font-weight: bold\"> office                                       </span>┃<span style=\"font-weight: bold\"> magnitude </span>┃<span style=\"font-weight: bold\"> special </span>┃<span style=\"font-weight: bold\"> stage  </span>┃<span style=\"font-weight: bold\"> precinct                              </span>┃<span style=\"font-weight: bold\"> writein </span>┃<span style=\"font-weight: bold\"> candidate </span>┃<span style=\"font-weight: bold\"> party_detailed </span>┃<span style=\"font-weight: bold\"> party_simplified </span>┃<span style=\"font-weight: bold\"> mode   </span>┃<span style=\"font-weight: bold\"> votes  </span>┃<span style=\"font-weight: bold\"> readme_check </span>┃\n",
       "┡━━━━━━━╇━━━━━━━━━━━━╇━━━━━━━━━━╇━━━━━━━━━━━━━╇━━━━━━━━━━━━━╇━━━━━━━━━━━━━━━━━━━╇━━━━━━━━━━━━━━━━━━━╇━━━━━━━━━━╇━━━━━━━━━━━━━━━━━━━━━━━━━━━━━━━━━━━━━━━━━━━━━━╇━━━━━━━━━━━╇━━━━━━━━━╇━━━━━━━━╇━━━━━━━━━━━━━━━━━━━━━━━━━━━━━━━━━━━━━━━╇━━━━━━━━━╇━━━━━━━━━━━╇━━━━━━━━━━━━━━━━╇━━━━━━━━━━━━━━━━━━╇━━━━━━━━╇━━━━━━━━╇━━━━━━━━━━━━━━┩\n",
       "│ <span style=\"color: #7f7f7f; text-decoration-color: #7f7f7f\">int16</span> │ <span style=\"color: #7f7f7f; text-decoration-color: #7f7f7f\">date</span>       │ <span style=\"color: #7f7f7f; text-decoration-color: #7f7f7f\">string</span>   │ <span style=\"color: #7f7f7f; text-decoration-color: #7f7f7f\">string</span>      │ <span style=\"color: #7f7f7f; text-decoration-color: #7f7f7f\">string</span>      │ <span style=\"color: #7f7f7f; text-decoration-color: #7f7f7f\">string</span>            │ <span style=\"color: #7f7f7f; text-decoration-color: #7f7f7f\">string</span>            │ <span style=\"color: #7f7f7f; text-decoration-color: #7f7f7f\">string</span>   │ <span style=\"color: #7f7f7f; text-decoration-color: #7f7f7f\">string</span>                                       │ <span style=\"color: #7f7f7f; text-decoration-color: #7f7f7f\">int64</span>     │ <span style=\"color: #7f7f7f; text-decoration-color: #7f7f7f\">boolean</span> │ <span style=\"color: #7f7f7f; text-decoration-color: #7f7f7f\">string</span> │ <span style=\"color: #7f7f7f; text-decoration-color: #7f7f7f\">string</span>                                │ <span style=\"color: #7f7f7f; text-decoration-color: #7f7f7f\">boolean</span> │ <span style=\"color: #7f7f7f; text-decoration-color: #7f7f7f\">string</span>    │ <span style=\"color: #7f7f7f; text-decoration-color: #7f7f7f\">string</span>         │ <span style=\"color: #7f7f7f; text-decoration-color: #7f7f7f\">string</span>           │ <span style=\"color: #7f7f7f; text-decoration-color: #7f7f7f\">string</span> │ <span style=\"color: #7f7f7f; text-decoration-color: #7f7f7f\">string</span> │ <span style=\"color: #7f7f7f; text-decoration-color: #7f7f7f\">boolean</span>      │\n",
       "├───────┼────────────┼──────────┼─────────────┼─────────────┼───────────────────┼───────────────────┼──────────┼──────────────────────────────────────────────┼───────────┼─────────┼────────┼───────────────────────────────────────┼─────────┼───────────┼────────────────┼──────────────────┼────────┼────────┼──────────────┤\n",
       "│  <span style=\"color: #008080; text-decoration-color: #008080; font-weight: bold\">2018</span> │ <span style=\"color: #800080; text-decoration-color: #800080\">2018-11-06</span> │ <span style=\"color: #008000; text-decoration-color: #008000\">VA      </span> │ <span style=\"color: #008000; text-decoration-color: #008000\">ACCOMACK   </span> │ <span style=\"color: #008000; text-decoration-color: #008000\">51001      </span> │ <span style=\"color: #008000; text-decoration-color: #008000\">ACCOMACK         </span> │ <span style=\"color: #008000; text-decoration-color: #008000\">51001            </span> │ <span style=\"color: #7f7f7f; text-decoration-color: #7f7f7f\">NULL</span>     │ <span style=\"color: #008000; text-decoration-color: #008000\">PROPOSED CONSTITUTIONAL AMENDMENT QUESTION 1</span> │         <span style=\"color: #008080; text-decoration-color: #008080; font-weight: bold\">1</span> │ False   │ <span style=\"color: #008000; text-decoration-color: #008000\">GEN   </span> │ <span style=\"color: #008000; text-decoration-color: #008000\"># AB - CENTRAL ABSENTEE PRECINCT (02)</span> │ False   │ <span style=\"color: #008000; text-decoration-color: #008000\">NO       </span> │ <span style=\"color: #7f7f7f; text-decoration-color: #7f7f7f\">NULL</span>           │ <span style=\"color: #7f7f7f; text-decoration-color: #7f7f7f\">NULL</span>             │ <span style=\"color: #008000; text-decoration-color: #008000\">TOTAL </span> │ <span style=\"color: #008000; text-decoration-color: #008000\">234   </span> │ False        │\n",
       "│  <span style=\"color: #008080; text-decoration-color: #008080; font-weight: bold\">2018</span> │ <span style=\"color: #800080; text-decoration-color: #800080\">2018-11-06</span> │ <span style=\"color: #008000; text-decoration-color: #008000\">VA      </span> │ <span style=\"color: #008000; text-decoration-color: #008000\">ACCOMACK   </span> │ <span style=\"color: #008000; text-decoration-color: #008000\">51001      </span> │ <span style=\"color: #008000; text-decoration-color: #008000\">ACCOMACK         </span> │ <span style=\"color: #008000; text-decoration-color: #008000\">51001            </span> │ <span style=\"color: #7f7f7f; text-decoration-color: #7f7f7f\">NULL</span>     │ <span style=\"color: #008000; text-decoration-color: #008000\">PROPOSED CONSTITUTIONAL AMENDMENT QUESTION 1</span> │         <span style=\"color: #008080; text-decoration-color: #008080; font-weight: bold\">1</span> │ False   │ <span style=\"color: #008000; text-decoration-color: #008000\">GEN   </span> │ <span style=\"color: #008000; text-decoration-color: #008000\"># AB - CENTRAL ABSENTEE PRECINCT (02)</span> │ False   │ <span style=\"color: #008000; text-decoration-color: #008000\">YES      </span> │ <span style=\"color: #7f7f7f; text-decoration-color: #7f7f7f\">NULL</span>           │ <span style=\"color: #7f7f7f; text-decoration-color: #7f7f7f\">NULL</span>             │ <span style=\"color: #008000; text-decoration-color: #008000\">TOTAL </span> │ <span style=\"color: #008000; text-decoration-color: #008000\">887   </span> │ False        │\n",
       "│  <span style=\"color: #008080; text-decoration-color: #008080; font-weight: bold\">2018</span> │ <span style=\"color: #800080; text-decoration-color: #800080\">2018-11-06</span> │ <span style=\"color: #008000; text-decoration-color: #008000\">VA      </span> │ <span style=\"color: #008000; text-decoration-color: #008000\">ACCOMACK   </span> │ <span style=\"color: #008000; text-decoration-color: #008000\">51001      </span> │ <span style=\"color: #008000; text-decoration-color: #008000\">ACCOMACK         </span> │ <span style=\"color: #008000; text-decoration-color: #008000\">51001            </span> │ <span style=\"color: #7f7f7f; text-decoration-color: #7f7f7f\">NULL</span>     │ <span style=\"color: #008000; text-decoration-color: #008000\">PROPOSED CONSTITUTIONAL AMENDMENT QUESTION 1</span> │         <span style=\"color: #008080; text-decoration-color: #008080; font-weight: bold\">1</span> │ False   │ <span style=\"color: #008000; text-decoration-color: #008000\">GEN   </span> │ <span style=\"color: #008000; text-decoration-color: #008000\">## PROVISIONAL (02)                  </span> │ False   │ <span style=\"color: #008000; text-decoration-color: #008000\">NO       </span> │ <span style=\"color: #7f7f7f; text-decoration-color: #7f7f7f\">NULL</span>           │ <span style=\"color: #7f7f7f; text-decoration-color: #7f7f7f\">NULL</span>             │ <span style=\"color: #008000; text-decoration-color: #008000\">TOTAL </span> │ <span style=\"color: #008000; text-decoration-color: #008000\">0     </span> │ False        │\n",
       "│  <span style=\"color: #008080; text-decoration-color: #008080; font-weight: bold\">2018</span> │ <span style=\"color: #800080; text-decoration-color: #800080\">2018-11-06</span> │ <span style=\"color: #008000; text-decoration-color: #008000\">VA      </span> │ <span style=\"color: #008000; text-decoration-color: #008000\">ACCOMACK   </span> │ <span style=\"color: #008000; text-decoration-color: #008000\">51001      </span> │ <span style=\"color: #008000; text-decoration-color: #008000\">ACCOMACK         </span> │ <span style=\"color: #008000; text-decoration-color: #008000\">51001            </span> │ <span style=\"color: #7f7f7f; text-decoration-color: #7f7f7f\">NULL</span>     │ <span style=\"color: #008000; text-decoration-color: #008000\">PROPOSED CONSTITUTIONAL AMENDMENT QUESTION 1</span> │         <span style=\"color: #008080; text-decoration-color: #008080; font-weight: bold\">1</span> │ False   │ <span style=\"color: #008000; text-decoration-color: #008000\">GEN   </span> │ <span style=\"color: #008000; text-decoration-color: #008000\">## PROVISIONAL (02)                  </span> │ False   │ <span style=\"color: #008000; text-decoration-color: #008000\">YES      </span> │ <span style=\"color: #7f7f7f; text-decoration-color: #7f7f7f\">NULL</span>           │ <span style=\"color: #7f7f7f; text-decoration-color: #7f7f7f\">NULL</span>             │ <span style=\"color: #008000; text-decoration-color: #008000\">TOTAL </span> │ <span style=\"color: #008000; text-decoration-color: #008000\">2     </span> │ False        │\n",
       "│  <span style=\"color: #008080; text-decoration-color: #008080; font-weight: bold\">2018</span> │ <span style=\"color: #800080; text-decoration-color: #800080\">2018-11-06</span> │ <span style=\"color: #008000; text-decoration-color: #008000\">VA      </span> │ <span style=\"color: #008000; text-decoration-color: #008000\">ACCOMACK   </span> │ <span style=\"color: #008000; text-decoration-color: #008000\">51001      </span> │ <span style=\"color: #008000; text-decoration-color: #008000\">ACCOMACK         </span> │ <span style=\"color: #008000; text-decoration-color: #008000\">51001            </span> │ <span style=\"color: #7f7f7f; text-decoration-color: #7f7f7f\">NULL</span>     │ <span style=\"color: #008000; text-decoration-color: #008000\">PROPOSED CONSTITUTIONAL AMENDMENT QUESTION 1</span> │         <span style=\"color: #008080; text-decoration-color: #008080; font-weight: bold\">1</span> │ False   │ <span style=\"color: #008000; text-decoration-color: #008000\">GEN   </span> │ <span style=\"color: #008000; text-decoration-color: #008000\">101 - CHINCOTEAGUE (02)              </span> │ False   │ <span style=\"color: #008000; text-decoration-color: #008000\">NO       </span> │ <span style=\"color: #7f7f7f; text-decoration-color: #7f7f7f\">NULL</span>           │ <span style=\"color: #7f7f7f; text-decoration-color: #7f7f7f\">NULL</span>             │ <span style=\"color: #008000; text-decoration-color: #008000\">TOTAL </span> │ <span style=\"color: #008000; text-decoration-color: #008000\">285   </span> │ False        │\n",
       "│  <span style=\"color: #008080; text-decoration-color: #008080; font-weight: bold\">2018</span> │ <span style=\"color: #800080; text-decoration-color: #800080\">2018-11-06</span> │ <span style=\"color: #008000; text-decoration-color: #008000\">VA      </span> │ <span style=\"color: #008000; text-decoration-color: #008000\">ACCOMACK   </span> │ <span style=\"color: #008000; text-decoration-color: #008000\">51001      </span> │ <span style=\"color: #008000; text-decoration-color: #008000\">ACCOMACK         </span> │ <span style=\"color: #008000; text-decoration-color: #008000\">51001            </span> │ <span style=\"color: #7f7f7f; text-decoration-color: #7f7f7f\">NULL</span>     │ <span style=\"color: #008000; text-decoration-color: #008000\">PROPOSED CONSTITUTIONAL AMENDMENT QUESTION 1</span> │         <span style=\"color: #008080; text-decoration-color: #008080; font-weight: bold\">1</span> │ False   │ <span style=\"color: #008000; text-decoration-color: #008000\">GEN   </span> │ <span style=\"color: #008000; text-decoration-color: #008000\">101 - CHINCOTEAGUE (02)              </span> │ False   │ <span style=\"color: #008000; text-decoration-color: #008000\">YES      </span> │ <span style=\"color: #7f7f7f; text-decoration-color: #7f7f7f\">NULL</span>           │ <span style=\"color: #7f7f7f; text-decoration-color: #7f7f7f\">NULL</span>             │ <span style=\"color: #008000; text-decoration-color: #008000\">TOTAL </span> │ <span style=\"color: #008000; text-decoration-color: #008000\">1098  </span> │ False        │\n",
       "│  <span style=\"color: #008080; text-decoration-color: #008080; font-weight: bold\">2018</span> │ <span style=\"color: #800080; text-decoration-color: #800080\">2018-11-06</span> │ <span style=\"color: #008000; text-decoration-color: #008000\">VA      </span> │ <span style=\"color: #008000; text-decoration-color: #008000\">ACCOMACK   </span> │ <span style=\"color: #008000; text-decoration-color: #008000\">51001      </span> │ <span style=\"color: #008000; text-decoration-color: #008000\">ACCOMACK         </span> │ <span style=\"color: #008000; text-decoration-color: #008000\">51001            </span> │ <span style=\"color: #7f7f7f; text-decoration-color: #7f7f7f\">NULL</span>     │ <span style=\"color: #008000; text-decoration-color: #008000\">PROPOSED CONSTITUTIONAL AMENDMENT QUESTION 1</span> │         <span style=\"color: #008080; text-decoration-color: #008080; font-weight: bold\">1</span> │ False   │ <span style=\"color: #008000; text-decoration-color: #008000\">GEN   </span> │ <span style=\"color: #008000; text-decoration-color: #008000\">201 - ATLANTIC (02)                  </span> │ False   │ <span style=\"color: #008000; text-decoration-color: #008000\">NO       </span> │ <span style=\"color: #7f7f7f; text-decoration-color: #7f7f7f\">NULL</span>           │ <span style=\"color: #7f7f7f; text-decoration-color: #7f7f7f\">NULL</span>             │ <span style=\"color: #008000; text-decoration-color: #008000\">TOTAL </span> │ <span style=\"color: #008000; text-decoration-color: #008000\">202   </span> │ False        │\n",
       "│  <span style=\"color: #008080; text-decoration-color: #008080; font-weight: bold\">2018</span> │ <span style=\"color: #800080; text-decoration-color: #800080\">2018-11-06</span> │ <span style=\"color: #008000; text-decoration-color: #008000\">VA      </span> │ <span style=\"color: #008000; text-decoration-color: #008000\">ACCOMACK   </span> │ <span style=\"color: #008000; text-decoration-color: #008000\">51001      </span> │ <span style=\"color: #008000; text-decoration-color: #008000\">ACCOMACK         </span> │ <span style=\"color: #008000; text-decoration-color: #008000\">51001            </span> │ <span style=\"color: #7f7f7f; text-decoration-color: #7f7f7f\">NULL</span>     │ <span style=\"color: #008000; text-decoration-color: #008000\">PROPOSED CONSTITUTIONAL AMENDMENT QUESTION 1</span> │         <span style=\"color: #008080; text-decoration-color: #008080; font-weight: bold\">1</span> │ False   │ <span style=\"color: #008000; text-decoration-color: #008000\">GEN   </span> │ <span style=\"color: #008000; text-decoration-color: #008000\">201 - ATLANTIC (02)                  </span> │ False   │ <span style=\"color: #008000; text-decoration-color: #008000\">YES      </span> │ <span style=\"color: #7f7f7f; text-decoration-color: #7f7f7f\">NULL</span>           │ <span style=\"color: #7f7f7f; text-decoration-color: #7f7f7f\">NULL</span>             │ <span style=\"color: #008000; text-decoration-color: #008000\">TOTAL </span> │ <span style=\"color: #008000; text-decoration-color: #008000\">388   </span> │ False        │\n",
       "│  <span style=\"color: #008080; text-decoration-color: #008080; font-weight: bold\">2018</span> │ <span style=\"color: #800080; text-decoration-color: #800080\">2018-11-06</span> │ <span style=\"color: #008000; text-decoration-color: #008000\">VA      </span> │ <span style=\"color: #008000; text-decoration-color: #008000\">ACCOMACK   </span> │ <span style=\"color: #008000; text-decoration-color: #008000\">51001      </span> │ <span style=\"color: #008000; text-decoration-color: #008000\">ACCOMACK         </span> │ <span style=\"color: #008000; text-decoration-color: #008000\">51001            </span> │ <span style=\"color: #7f7f7f; text-decoration-color: #7f7f7f\">NULL</span>     │ <span style=\"color: #008000; text-decoration-color: #008000\">PROPOSED CONSTITUTIONAL AMENDMENT QUESTION 1</span> │         <span style=\"color: #008080; text-decoration-color: #008080; font-weight: bold\">1</span> │ False   │ <span style=\"color: #008000; text-decoration-color: #008000\">GEN   </span> │ <span style=\"color: #008000; text-decoration-color: #008000\">202 - GREENBACKVILLE (02)            </span> │ False   │ <span style=\"color: #008000; text-decoration-color: #008000\">NO       </span> │ <span style=\"color: #7f7f7f; text-decoration-color: #7f7f7f\">NULL</span>           │ <span style=\"color: #7f7f7f; text-decoration-color: #7f7f7f\">NULL</span>             │ <span style=\"color: #008000; text-decoration-color: #008000\">TOTAL </span> │ <span style=\"color: #008000; text-decoration-color: #008000\">233   </span> │ False        │\n",
       "│  <span style=\"color: #008080; text-decoration-color: #008080; font-weight: bold\">2018</span> │ <span style=\"color: #800080; text-decoration-color: #800080\">2018-11-06</span> │ <span style=\"color: #008000; text-decoration-color: #008000\">VA      </span> │ <span style=\"color: #008000; text-decoration-color: #008000\">ACCOMACK   </span> │ <span style=\"color: #008000; text-decoration-color: #008000\">51001      </span> │ <span style=\"color: #008000; text-decoration-color: #008000\">ACCOMACK         </span> │ <span style=\"color: #008000; text-decoration-color: #008000\">51001            </span> │ <span style=\"color: #7f7f7f; text-decoration-color: #7f7f7f\">NULL</span>     │ <span style=\"color: #008000; text-decoration-color: #008000\">PROPOSED CONSTITUTIONAL AMENDMENT QUESTION 1</span> │         <span style=\"color: #008080; text-decoration-color: #008080; font-weight: bold\">1</span> │ False   │ <span style=\"color: #008000; text-decoration-color: #008000\">GEN   </span> │ <span style=\"color: #008000; text-decoration-color: #008000\">202 - GREENBACKVILLE (02)            </span> │ False   │ <span style=\"color: #008000; text-decoration-color: #008000\">YES      </span> │ <span style=\"color: #7f7f7f; text-decoration-color: #7f7f7f\">NULL</span>           │ <span style=\"color: #7f7f7f; text-decoration-color: #7f7f7f\">NULL</span>             │ <span style=\"color: #008000; text-decoration-color: #008000\">TOTAL </span> │ <span style=\"color: #008000; text-decoration-color: #008000\">580   </span> │ False        │\n",
       "│     <span style=\"color: #7f7f7f; text-decoration-color: #7f7f7f\">…</span> │ <span style=\"color: #7f7f7f; text-decoration-color: #7f7f7f\">…</span>          │ <span style=\"color: #7f7f7f; text-decoration-color: #7f7f7f\">…</span>        │ <span style=\"color: #7f7f7f; text-decoration-color: #7f7f7f\">…</span>           │ <span style=\"color: #7f7f7f; text-decoration-color: #7f7f7f\">…</span>           │ <span style=\"color: #7f7f7f; text-decoration-color: #7f7f7f\">…</span>                 │ <span style=\"color: #7f7f7f; text-decoration-color: #7f7f7f\">…</span>                 │ <span style=\"color: #7f7f7f; text-decoration-color: #7f7f7f\">…</span>        │ <span style=\"color: #7f7f7f; text-decoration-color: #7f7f7f\">…</span>                                            │         <span style=\"color: #7f7f7f; text-decoration-color: #7f7f7f\">…</span> │ <span style=\"color: #7f7f7f; text-decoration-color: #7f7f7f\">…</span>       │ <span style=\"color: #7f7f7f; text-decoration-color: #7f7f7f\">…</span>      │ <span style=\"color: #7f7f7f; text-decoration-color: #7f7f7f\">…</span>                                     │ <span style=\"color: #7f7f7f; text-decoration-color: #7f7f7f\">…</span>       │ <span style=\"color: #7f7f7f; text-decoration-color: #7f7f7f\">…</span>         │ <span style=\"color: #7f7f7f; text-decoration-color: #7f7f7f\">…</span>              │ <span style=\"color: #7f7f7f; text-decoration-color: #7f7f7f\">…</span>                │ <span style=\"color: #7f7f7f; text-decoration-color: #7f7f7f\">…</span>      │ <span style=\"color: #7f7f7f; text-decoration-color: #7f7f7f\">…</span>      │ <span style=\"color: #7f7f7f; text-decoration-color: #7f7f7f\">…</span>            │\n",
       "└───────┴────────────┴──────────┴─────────────┴─────────────┴───────────────────┴───────────────────┴──────────┴──────────────────────────────────────────────┴───────────┴─────────┴────────┴───────────────────────────────────────┴─────────┴───────────┴────────────────┴──────────────────┴────────┴────────┴──────────────┘\n",
       "</pre>\n"
      ],
      "text/plain": [
       "┏━━━━━━━┳━━━━━━━━━━━━┳━━━━━━━━━━┳━━━━━━━━━━━━━┳━━━━━━━━━━━━━┳━━━━━━━━━━━━━━━━━━━┳━━━━━━━━━━━━━━━━━━━┳━━━━━━━━━━┳━━━━━━━━━━━━━━━━━━━━━━━━━━━━━━━━━━━━━━━━━━━━━━┳━━━━━━━━━━━┳━━━━━━━━━┳━━━━━━━━┳━━━━━━━━━━━━━━━━━━━━━━━━━━━━━━━━━━━━━━━┳━━━━━━━━━┳━━━━━━━━━━━┳━━━━━━━━━━━━━━━━┳━━━━━━━━━━━━━━━━━━┳━━━━━━━━┳━━━━━━━━┳━━━━━━━━━━━━━━┓\n",
       "┃\u001b[1m \u001b[0m\u001b[1myear\u001b[0m\u001b[1m \u001b[0m\u001b[1m \u001b[0m┃\u001b[1m \u001b[0m\u001b[1mdate\u001b[0m\u001b[1m      \u001b[0m\u001b[1m \u001b[0m┃\u001b[1m \u001b[0m\u001b[1mstate_po\u001b[0m\u001b[1m \u001b[0m┃\u001b[1m \u001b[0m\u001b[1mcounty_name\u001b[0m\u001b[1m \u001b[0m┃\u001b[1m \u001b[0m\u001b[1mcounty_fips\u001b[0m\u001b[1m \u001b[0m┃\u001b[1m \u001b[0m\u001b[1mjurisdiction_name\u001b[0m\u001b[1m \u001b[0m┃\u001b[1m \u001b[0m\u001b[1mjurisdiction_fips\u001b[0m\u001b[1m \u001b[0m┃\u001b[1m \u001b[0m\u001b[1mdistrict\u001b[0m\u001b[1m \u001b[0m┃\u001b[1m \u001b[0m\u001b[1moffice\u001b[0m\u001b[1m                                      \u001b[0m\u001b[1m \u001b[0m┃\u001b[1m \u001b[0m\u001b[1mmagnitude\u001b[0m\u001b[1m \u001b[0m┃\u001b[1m \u001b[0m\u001b[1mspecial\u001b[0m\u001b[1m \u001b[0m┃\u001b[1m \u001b[0m\u001b[1mstage\u001b[0m\u001b[1m \u001b[0m\u001b[1m \u001b[0m┃\u001b[1m \u001b[0m\u001b[1mprecinct\u001b[0m\u001b[1m                             \u001b[0m\u001b[1m \u001b[0m┃\u001b[1m \u001b[0m\u001b[1mwritein\u001b[0m\u001b[1m \u001b[0m┃\u001b[1m \u001b[0m\u001b[1mcandidate\u001b[0m\u001b[1m \u001b[0m┃\u001b[1m \u001b[0m\u001b[1mparty_detailed\u001b[0m\u001b[1m \u001b[0m┃\u001b[1m \u001b[0m\u001b[1mparty_simplified\u001b[0m\u001b[1m \u001b[0m┃\u001b[1m \u001b[0m\u001b[1mmode\u001b[0m\u001b[1m  \u001b[0m\u001b[1m \u001b[0m┃\u001b[1m \u001b[0m\u001b[1mvotes\u001b[0m\u001b[1m \u001b[0m\u001b[1m \u001b[0m┃\u001b[1m \u001b[0m\u001b[1mreadme_check\u001b[0m\u001b[1m \u001b[0m┃\n",
       "┡━━━━━━━╇━━━━━━━━━━━━╇━━━━━━━━━━╇━━━━━━━━━━━━━╇━━━━━━━━━━━━━╇━━━━━━━━━━━━━━━━━━━╇━━━━━━━━━━━━━━━━━━━╇━━━━━━━━━━╇━━━━━━━━━━━━━━━━━━━━━━━━━━━━━━━━━━━━━━━━━━━━━━╇━━━━━━━━━━━╇━━━━━━━━━╇━━━━━━━━╇━━━━━━━━━━━━━━━━━━━━━━━━━━━━━━━━━━━━━━━╇━━━━━━━━━╇━━━━━━━━━━━╇━━━━━━━━━━━━━━━━╇━━━━━━━━━━━━━━━━━━╇━━━━━━━━╇━━━━━━━━╇━━━━━━━━━━━━━━┩\n",
       "│ \u001b[2mint16\u001b[0m │ \u001b[2mdate\u001b[0m       │ \u001b[2mstring\u001b[0m   │ \u001b[2mstring\u001b[0m      │ \u001b[2mstring\u001b[0m      │ \u001b[2mstring\u001b[0m            │ \u001b[2mstring\u001b[0m            │ \u001b[2mstring\u001b[0m   │ \u001b[2mstring\u001b[0m                                       │ \u001b[2mint64\u001b[0m     │ \u001b[2mboolean\u001b[0m │ \u001b[2mstring\u001b[0m │ \u001b[2mstring\u001b[0m                                │ \u001b[2mboolean\u001b[0m │ \u001b[2mstring\u001b[0m    │ \u001b[2mstring\u001b[0m         │ \u001b[2mstring\u001b[0m           │ \u001b[2mstring\u001b[0m │ \u001b[2mstring\u001b[0m │ \u001b[2mboolean\u001b[0m      │\n",
       "├───────┼────────────┼──────────┼─────────────┼─────────────┼───────────────────┼───────────────────┼──────────┼──────────────────────────────────────────────┼───────────┼─────────┼────────┼───────────────────────────────────────┼─────────┼───────────┼────────────────┼──────────────────┼────────┼────────┼──────────────┤\n",
       "│  \u001b[1;36m2018\u001b[0m │ \u001b[35m2018-11-06\u001b[0m │ \u001b[32mVA      \u001b[0m │ \u001b[32mACCOMACK   \u001b[0m │ \u001b[32m51001      \u001b[0m │ \u001b[32mACCOMACK         \u001b[0m │ \u001b[32m51001            \u001b[0m │ \u001b[2mNULL\u001b[0m     │ \u001b[32mPROPOSED CONSTITUTIONAL AMENDMENT QUESTION 1\u001b[0m │         \u001b[1;36m1\u001b[0m │ False   │ \u001b[32mGEN   \u001b[0m │ \u001b[32m# AB - CENTRAL ABSENTEE PRECINCT (02)\u001b[0m │ False   │ \u001b[32mNO       \u001b[0m │ \u001b[2mNULL\u001b[0m           │ \u001b[2mNULL\u001b[0m             │ \u001b[32mTOTAL \u001b[0m │ \u001b[32m234   \u001b[0m │ False        │\n",
       "│  \u001b[1;36m2018\u001b[0m │ \u001b[35m2018-11-06\u001b[0m │ \u001b[32mVA      \u001b[0m │ \u001b[32mACCOMACK   \u001b[0m │ \u001b[32m51001      \u001b[0m │ \u001b[32mACCOMACK         \u001b[0m │ \u001b[32m51001            \u001b[0m │ \u001b[2mNULL\u001b[0m     │ \u001b[32mPROPOSED CONSTITUTIONAL AMENDMENT QUESTION 1\u001b[0m │         \u001b[1;36m1\u001b[0m │ False   │ \u001b[32mGEN   \u001b[0m │ \u001b[32m# AB - CENTRAL ABSENTEE PRECINCT (02)\u001b[0m │ False   │ \u001b[32mYES      \u001b[0m │ \u001b[2mNULL\u001b[0m           │ \u001b[2mNULL\u001b[0m             │ \u001b[32mTOTAL \u001b[0m │ \u001b[32m887   \u001b[0m │ False        │\n",
       "│  \u001b[1;36m2018\u001b[0m │ \u001b[35m2018-11-06\u001b[0m │ \u001b[32mVA      \u001b[0m │ \u001b[32mACCOMACK   \u001b[0m │ \u001b[32m51001      \u001b[0m │ \u001b[32mACCOMACK         \u001b[0m │ \u001b[32m51001            \u001b[0m │ \u001b[2mNULL\u001b[0m     │ \u001b[32mPROPOSED CONSTITUTIONAL AMENDMENT QUESTION 1\u001b[0m │         \u001b[1;36m1\u001b[0m │ False   │ \u001b[32mGEN   \u001b[0m │ \u001b[32m## PROVISIONAL (02)                  \u001b[0m │ False   │ \u001b[32mNO       \u001b[0m │ \u001b[2mNULL\u001b[0m           │ \u001b[2mNULL\u001b[0m             │ \u001b[32mTOTAL \u001b[0m │ \u001b[32m0     \u001b[0m │ False        │\n",
       "│  \u001b[1;36m2018\u001b[0m │ \u001b[35m2018-11-06\u001b[0m │ \u001b[32mVA      \u001b[0m │ \u001b[32mACCOMACK   \u001b[0m │ \u001b[32m51001      \u001b[0m │ \u001b[32mACCOMACK         \u001b[0m │ \u001b[32m51001            \u001b[0m │ \u001b[2mNULL\u001b[0m     │ \u001b[32mPROPOSED CONSTITUTIONAL AMENDMENT QUESTION 1\u001b[0m │         \u001b[1;36m1\u001b[0m │ False   │ \u001b[32mGEN   \u001b[0m │ \u001b[32m## PROVISIONAL (02)                  \u001b[0m │ False   │ \u001b[32mYES      \u001b[0m │ \u001b[2mNULL\u001b[0m           │ \u001b[2mNULL\u001b[0m             │ \u001b[32mTOTAL \u001b[0m │ \u001b[32m2     \u001b[0m │ False        │\n",
       "│  \u001b[1;36m2018\u001b[0m │ \u001b[35m2018-11-06\u001b[0m │ \u001b[32mVA      \u001b[0m │ \u001b[32mACCOMACK   \u001b[0m │ \u001b[32m51001      \u001b[0m │ \u001b[32mACCOMACK         \u001b[0m │ \u001b[32m51001            \u001b[0m │ \u001b[2mNULL\u001b[0m     │ \u001b[32mPROPOSED CONSTITUTIONAL AMENDMENT QUESTION 1\u001b[0m │         \u001b[1;36m1\u001b[0m │ False   │ \u001b[32mGEN   \u001b[0m │ \u001b[32m101 - CHINCOTEAGUE (02)              \u001b[0m │ False   │ \u001b[32mNO       \u001b[0m │ \u001b[2mNULL\u001b[0m           │ \u001b[2mNULL\u001b[0m             │ \u001b[32mTOTAL \u001b[0m │ \u001b[32m285   \u001b[0m │ False        │\n",
       "│  \u001b[1;36m2018\u001b[0m │ \u001b[35m2018-11-06\u001b[0m │ \u001b[32mVA      \u001b[0m │ \u001b[32mACCOMACK   \u001b[0m │ \u001b[32m51001      \u001b[0m │ \u001b[32mACCOMACK         \u001b[0m │ \u001b[32m51001            \u001b[0m │ \u001b[2mNULL\u001b[0m     │ \u001b[32mPROPOSED CONSTITUTIONAL AMENDMENT QUESTION 1\u001b[0m │         \u001b[1;36m1\u001b[0m │ False   │ \u001b[32mGEN   \u001b[0m │ \u001b[32m101 - CHINCOTEAGUE (02)              \u001b[0m │ False   │ \u001b[32mYES      \u001b[0m │ \u001b[2mNULL\u001b[0m           │ \u001b[2mNULL\u001b[0m             │ \u001b[32mTOTAL \u001b[0m │ \u001b[32m1098  \u001b[0m │ False        │\n",
       "│  \u001b[1;36m2018\u001b[0m │ \u001b[35m2018-11-06\u001b[0m │ \u001b[32mVA      \u001b[0m │ \u001b[32mACCOMACK   \u001b[0m │ \u001b[32m51001      \u001b[0m │ \u001b[32mACCOMACK         \u001b[0m │ \u001b[32m51001            \u001b[0m │ \u001b[2mNULL\u001b[0m     │ \u001b[32mPROPOSED CONSTITUTIONAL AMENDMENT QUESTION 1\u001b[0m │         \u001b[1;36m1\u001b[0m │ False   │ \u001b[32mGEN   \u001b[0m │ \u001b[32m201 - ATLANTIC (02)                  \u001b[0m │ False   │ \u001b[32mNO       \u001b[0m │ \u001b[2mNULL\u001b[0m           │ \u001b[2mNULL\u001b[0m             │ \u001b[32mTOTAL \u001b[0m │ \u001b[32m202   \u001b[0m │ False        │\n",
       "│  \u001b[1;36m2018\u001b[0m │ \u001b[35m2018-11-06\u001b[0m │ \u001b[32mVA      \u001b[0m │ \u001b[32mACCOMACK   \u001b[0m │ \u001b[32m51001      \u001b[0m │ \u001b[32mACCOMACK         \u001b[0m │ \u001b[32m51001            \u001b[0m │ \u001b[2mNULL\u001b[0m     │ \u001b[32mPROPOSED CONSTITUTIONAL AMENDMENT QUESTION 1\u001b[0m │         \u001b[1;36m1\u001b[0m │ False   │ \u001b[32mGEN   \u001b[0m │ \u001b[32m201 - ATLANTIC (02)                  \u001b[0m │ False   │ \u001b[32mYES      \u001b[0m │ \u001b[2mNULL\u001b[0m           │ \u001b[2mNULL\u001b[0m             │ \u001b[32mTOTAL \u001b[0m │ \u001b[32m388   \u001b[0m │ False        │\n",
       "│  \u001b[1;36m2018\u001b[0m │ \u001b[35m2018-11-06\u001b[0m │ \u001b[32mVA      \u001b[0m │ \u001b[32mACCOMACK   \u001b[0m │ \u001b[32m51001      \u001b[0m │ \u001b[32mACCOMACK         \u001b[0m │ \u001b[32m51001            \u001b[0m │ \u001b[2mNULL\u001b[0m     │ \u001b[32mPROPOSED CONSTITUTIONAL AMENDMENT QUESTION 1\u001b[0m │         \u001b[1;36m1\u001b[0m │ False   │ \u001b[32mGEN   \u001b[0m │ \u001b[32m202 - GREENBACKVILLE (02)            \u001b[0m │ False   │ \u001b[32mNO       \u001b[0m │ \u001b[2mNULL\u001b[0m           │ \u001b[2mNULL\u001b[0m             │ \u001b[32mTOTAL \u001b[0m │ \u001b[32m233   \u001b[0m │ False        │\n",
       "│  \u001b[1;36m2018\u001b[0m │ \u001b[35m2018-11-06\u001b[0m │ \u001b[32mVA      \u001b[0m │ \u001b[32mACCOMACK   \u001b[0m │ \u001b[32m51001      \u001b[0m │ \u001b[32mACCOMACK         \u001b[0m │ \u001b[32m51001            \u001b[0m │ \u001b[2mNULL\u001b[0m     │ \u001b[32mPROPOSED CONSTITUTIONAL AMENDMENT QUESTION 1\u001b[0m │         \u001b[1;36m1\u001b[0m │ False   │ \u001b[32mGEN   \u001b[0m │ \u001b[32m202 - GREENBACKVILLE (02)            \u001b[0m │ False   │ \u001b[32mYES      \u001b[0m │ \u001b[2mNULL\u001b[0m           │ \u001b[2mNULL\u001b[0m             │ \u001b[32mTOTAL \u001b[0m │ \u001b[32m580   \u001b[0m │ False        │\n",
       "│     \u001b[2m…\u001b[0m │ \u001b[2m…\u001b[0m          │ \u001b[2m…\u001b[0m        │ \u001b[2m…\u001b[0m           │ \u001b[2m…\u001b[0m           │ \u001b[2m…\u001b[0m                 │ \u001b[2m…\u001b[0m                 │ \u001b[2m…\u001b[0m        │ \u001b[2m…\u001b[0m                                            │         \u001b[2m…\u001b[0m │ \u001b[2m…\u001b[0m       │ \u001b[2m…\u001b[0m      │ \u001b[2m…\u001b[0m                                     │ \u001b[2m…\u001b[0m       │ \u001b[2m…\u001b[0m         │ \u001b[2m…\u001b[0m              │ \u001b[2m…\u001b[0m                │ \u001b[2m…\u001b[0m      │ \u001b[2m…\u001b[0m      │ \u001b[2m…\u001b[0m            │\n",
       "└───────┴────────────┴──────────┴─────────────┴─────────────┴───────────────────┴───────────────────┴──────────┴──────────────────────────────────────────────┴───────────┴─────────┴────────┴───────────────────────────────────────┴─────────┴───────────┴────────────────┴──────────────────┴────────┴────────┴──────────────┘"
      ]
     },
     "execution_count": 2,
     "metadata": {},
     "output_type": "execute_result"
    }
   ],
   "source": [
    "# Use this as reference for what MEDSL did previously, since their replication\n",
    "# scripts are insufficient.\n",
    "gold = ibis.read_parquet(\"../data/cleaned.parquet\")\n",
    "gold_va = gold.filter(_.state_po == \"VA\")\n",
    "gold_va"
   ]
  },
  {
   "cell_type": "code",
   "execution_count": 3,
   "metadata": {},
   "outputs": [],
   "source": [
    "# see https://apps.elections.virginia.gov/SBE_CSV/ELECTIONS/ELECTIONRESULTS/\n",
    "# There are other races available, such as primaries.\n",
    "urls = {\n",
    "    2017: \"https://apps.elections.virginia.gov/SBE_CSV/ELECTIONS/ELECTIONRESULTS/2017/2017%20November%20General.csv\",\n",
    "    2019: \"https://apps.elections.virginia.gov/SBE_CSV/ELECTIONS/ELECTIONRESULTS/2019/2019%20November%20General.csv\",\n",
    "    2021: \"https://apps.elections.virginia.gov/SBE_CSV/ELECTIONS/ELECTIONRESULTS/2021/2021%20November%20General%20.csv\",\n",
    "    # 2023 isn't available yet :( https://apps.elections.virginia.gov/SBE_CSV/ELECTIONS/ELECTIONRESULTS/2023/\n",
    "}\n",
    "paths = {year: Path(f\"../data/va/{year}.csv\") for year in urls}\n",
    "for year, url in urls.items():\n",
    "    path = paths[year]\n",
    "    path.parent.mkdir(parents=True, exist_ok=True)\n",
    "    if not path.exists():\n",
    "        print(f\"Downloading {year} results to {path}\")\n",
    "        !curl -o {path} {url}"
   ]
  },
  {
   "cell_type": "code",
   "execution_count": 4,
   "metadata": {},
   "outputs": [
    {
     "data": {
      "application/vnd.jupyter.widget-view+json": {
       "model_id": "d24eebf6c13c4846b56d233b31c38d79",
       "version_major": 2,
       "version_minor": 0
      },
      "text/plain": [
       "┏━━━━━━━━━━┳━━━━━━━━━━━━━━━━━━━━━━━━━━━━━━━━━━━━━━━━┳━━━━━━━━━━━┳━━━━━━━━━━━━┳━━━━━━━━━━━━━━━━┳━━━━━━━━┳━━━━━━━━━━━━━┳━━━━━━━━━━━━━┳━━━━━━━━━━━━━┳━━━━━━━━━━━━━━━━━━━━━━━━━━━━━━━━━━━━━━━━┳━━━━━━━━━━━━━━┳━━━━━━━━━━━━━━━━━┳━━━━━━━━━━━━━┳━━━━━━━━━━━━━━━━┳━━━━━━━━━━━━━━━━━━━━━━━━━━━━━━━━━━━━━━━━┳━━━━━━━━━━━━━━━━━━━━┳━━━━━━━━━━━━━━┳━━━━━━━━━━━━━━━━━━━━━━━━━━━━━━━━━━━━━━━━┳━━━━━━━━━━━━━━━━━━━━━━━━━━━━━━━━━┳━━━━━━━━━━━━━━━━━━━━━━━━━━━━━━━━━━━━━━━━┳━━━━━━━━━━━━━━┳━━━━━━━━━━━━━━━━━━━━━┳━━━━━━━━━━━━━━━━━━━━━━━━┳━━━━━━━┓\n",
       "┃\u001b[1m \u001b[0m\u001b[1m__row_id\u001b[0m\u001b[1m \u001b[0m┃\u001b[1m \u001b[0m\u001b[1mCandidateUid\u001b[0m\u001b[1m                          \u001b[0m\u001b[1m \u001b[0m┃\u001b[1m \u001b[0m\u001b[1mFirstName\u001b[0m\u001b[1m \u001b[0m┃\u001b[1m \u001b[0m\u001b[1mMiddleName\u001b[0m\u001b[1m \u001b[0m┃\u001b[1m \u001b[0m\u001b[1mLastName\u001b[0m\u001b[1m      \u001b[0m\u001b[1m \u001b[0m┃\u001b[1m \u001b[0m\u001b[1mSuffix\u001b[0m\u001b[1m \u001b[0m┃\u001b[1m \u001b[0m\u001b[1mTOTAL_VOTES\u001b[0m\u001b[1m \u001b[0m┃\u001b[1m \u001b[0m\u001b[1mParty\u001b[0m\u001b[1m      \u001b[0m\u001b[1m \u001b[0m┃\u001b[1m \u001b[0m\u001b[1mWriteInVote\u001b[0m\u001b[1m \u001b[0m┃\u001b[1m \u001b[0m\u001b[1mLocalityUid\u001b[0m\u001b[1m                           \u001b[0m\u001b[1m \u001b[0m┃\u001b[1m \u001b[0m\u001b[1mLocalityCode\u001b[0m\u001b[1m \u001b[0m┃\u001b[1m \u001b[0m\u001b[1mLocalityName\u001b[0m\u001b[1m   \u001b[0m\u001b[1m \u001b[0m┃\u001b[1m \u001b[0m\u001b[1mPrecinctUid\u001b[0m\u001b[1m \u001b[0m┃\u001b[1m \u001b[0m\u001b[1mPrecinctName\u001b[0m\u001b[1m  \u001b[0m\u001b[1m \u001b[0m┃\u001b[1m \u001b[0m\u001b[1mDistrictUid\u001b[0m\u001b[1m                           \u001b[0m\u001b[1m \u001b[0m┃\u001b[1m \u001b[0m\u001b[1mDistrictType\u001b[0m\u001b[1m      \u001b[0m\u001b[1m \u001b[0m┃\u001b[1m \u001b[0m\u001b[1mDistrictName\u001b[0m\u001b[1m \u001b[0m┃\u001b[1m \u001b[0m\u001b[1mOfficeUid\u001b[0m\u001b[1m                             \u001b[0m\u001b[1m \u001b[0m┃\u001b[1m \u001b[0m\u001b[1mOfficeTitle\u001b[0m\u001b[1m                    \u001b[0m\u001b[1m \u001b[0m┃\u001b[1m \u001b[0m\u001b[1mElectionUid\u001b[0m\u001b[1m                           \u001b[0m\u001b[1m \u001b[0m┃\u001b[1m \u001b[0m\u001b[1mElectionType\u001b[0m\u001b[1m \u001b[0m┃\u001b[1m \u001b[0m\u001b[1mElectionDate\u001b[0m\u001b[1m       \u001b[0m\u001b[1m \u001b[0m┃\u001b[1m \u001b[0m\u001b[1mElectionName\u001b[0m\u001b[1m          \u001b[0m\u001b[1m \u001b[0m┃\u001b[1m \u001b[0m\u001b[1myear\u001b[0m\u001b[1m \u001b[0m\u001b[1m \u001b[0m┃\n",
       "┡━━━━━━━━━━╇━━━━━━━━━━━━━━━━━━━━━━━━━━━━━━━━━━━━━━━━╇━━━━━━━━━━━╇━━━━━━━━━━━━╇━━━━━━━━━━━━━━━━╇━━━━━━━━╇━━━━━━━━━━━━━╇━━━━━━━━━━━━━╇━━━━━━━━━━━━━╇━━━━━━━━━━━━━━━━━━━━━━━━━━━━━━━━━━━━━━━━╇━━━━━━━━━━━━━━╇━━━━━━━━━━━━━━━━━╇━━━━━━━━━━━━━╇━━━━━━━━━━━━━━━━╇━━━━━━━━━━━━━━━━━━━━━━━━━━━━━━━━━━━━━━━━╇━━━━━━━━━━━━━━━━━━━━╇━━━━━━━━━━━━━━╇━━━━━━━━━━━━━━━━━━━━━━━━━━━━━━━━━━━━━━━━╇━━━━━━━━━━━━━━━━━━━━━━━━━━━━━━━━━╇━━━━━━━━━━━━━━━━━━━━━━━━━━━━━━━━━━━━━━━━╇━━━━━━━━━━━━━━╇━━━━━━━━━━━━━━━━━━━━━╇━━━━━━━━━━━━━━━━━━━━━━━━╇━━━━━━━┩\n",
       "│ \u001b[2mint64\u001b[0m    │ \u001b[2mstring\u001b[0m                                 │ \u001b[2mstring\u001b[0m    │ \u001b[2mstring\u001b[0m     │ \u001b[2mstring\u001b[0m         │ \u001b[2mstring\u001b[0m │ \u001b[2mint64\u001b[0m       │ \u001b[2mstring\u001b[0m      │ \u001b[2mint64\u001b[0m       │ \u001b[2mstring\u001b[0m                                 │ \u001b[2mstring\u001b[0m       │ \u001b[2mstring\u001b[0m          │ \u001b[2mstring\u001b[0m      │ \u001b[2mstring\u001b[0m         │ \u001b[2mstring\u001b[0m                                 │ \u001b[2mstring\u001b[0m             │ \u001b[2mstring\u001b[0m       │ \u001b[2mstring\u001b[0m                                 │ \u001b[2mstring\u001b[0m                          │ \u001b[2mstring\u001b[0m                                 │ \u001b[2mstring\u001b[0m       │ \u001b[2mtimestamp(6)\u001b[0m        │ \u001b[2mstring\u001b[0m                 │ \u001b[2mint16\u001b[0m │\n",
       "├──────────┼────────────────────────────────────────┼───────────┼────────────┼────────────────┼────────┼─────────────┼─────────────┼─────────────┼────────────────────────────────────────┼──────────────┼─────────────────┼─────────────┼────────────────┼────────────────────────────────────────┼────────────────────┼──────────────┼────────────────────────────────────────┼─────────────────────────────────┼────────────────────────────────────────┼──────────────┼─────────────────────┼────────────────────────┼───────┤\n",
       "│        \u001b[1;36m0\u001b[0m │ \u001b[2mNULL\u001b[0m                                   │ \u001b[2mNULL\u001b[0m      │ \u001b[2mNULL\u001b[0m       │ \u001b[32mWRITE IN VOTES\u001b[0m │ \u001b[2mNULL\u001b[0m   │        \u001b[2mNULL\u001b[0m │ \u001b[2mNULL\u001b[0m        │           \u001b[1;36m1\u001b[0m │ \u001b[32m{15B7E141-2D1D-44C2-A50A-AAE021BC9B7D}\u001b[0m │ \u001b[32m001         \u001b[0m │ \u001b[32mACCOMACK COUNTY\u001b[0m │ \u001b[2mNULL\u001b[0m        │ \u001b[32m## Provisional\u001b[0m │ \u001b[32m{8967B9DD-E94E-4964-A919-30E520165984}\u001b[0m │ \u001b[32mCongressional     \u001b[0m │ \u001b[32m02          \u001b[0m │ \u001b[32m{F50349D9-A292-4792-B60E-07EDF172B35C}\u001b[0m │ \u001b[32mGovernor                       \u001b[0m │ \u001b[32m{E9ACA620-4CC0-4681-AB15-D5DC73A9A5D8}\u001b[0m │ \u001b[32mGeneral     \u001b[0m │ \u001b[35m2021-11-02 00:00:00\u001b[0m │ \u001b[32m2021 November General \u001b[0m │  \u001b[1;36m2021\u001b[0m │\n",
       "│        \u001b[1;36m1\u001b[0m │ \u001b[2mNULL\u001b[0m                                   │ \u001b[2mNULL\u001b[0m      │ \u001b[2mNULL\u001b[0m       │ \u001b[32mWRITE IN VOTES\u001b[0m │ \u001b[2mNULL\u001b[0m   │        \u001b[2mNULL\u001b[0m │ \u001b[2mNULL\u001b[0m        │           \u001b[1;36m1\u001b[0m │ \u001b[32m{15B7E141-2D1D-44C2-A50A-AAE021BC9B7D}\u001b[0m │ \u001b[32m001         \u001b[0m │ \u001b[32mACCOMACK COUNTY\u001b[0m │ \u001b[2mNULL\u001b[0m        │ \u001b[32m## Provisional\u001b[0m │ \u001b[32m{8967B9DD-E94E-4964-A919-30E520165984}\u001b[0m │ \u001b[32mCongressional     \u001b[0m │ \u001b[32m02          \u001b[0m │ \u001b[32m{D81856DF-F88B-4450-AA16-26A382CE97AD}\u001b[0m │ \u001b[32mAttorney General               \u001b[0m │ \u001b[32m{E9ACA620-4CC0-4681-AB15-D5DC73A9A5D8}\u001b[0m │ \u001b[32mGeneral     \u001b[0m │ \u001b[35m2021-11-02 00:00:00\u001b[0m │ \u001b[32m2021 November General \u001b[0m │  \u001b[1;36m2021\u001b[0m │\n",
       "│        \u001b[1;36m2\u001b[0m │ \u001b[2mNULL\u001b[0m                                   │ \u001b[2mNULL\u001b[0m      │ \u001b[2mNULL\u001b[0m       │ \u001b[32mWRITE IN VOTES\u001b[0m │ \u001b[2mNULL\u001b[0m   │        \u001b[2mNULL\u001b[0m │ \u001b[2mNULL\u001b[0m        │           \u001b[1;36m1\u001b[0m │ \u001b[32m{15B7E141-2D1D-44C2-A50A-AAE021BC9B7D}\u001b[0m │ \u001b[32m001         \u001b[0m │ \u001b[32mACCOMACK COUNTY\u001b[0m │ \u001b[2mNULL\u001b[0m        │ \u001b[32m## Provisional\u001b[0m │ \u001b[32m{8967B9DD-E94E-4964-A919-30E520165984}\u001b[0m │ \u001b[32mCongressional     \u001b[0m │ \u001b[32m02          \u001b[0m │ \u001b[32m{C9719525-54D6-4AD4-9F6B-72068D53BABE}\u001b[0m │ \u001b[32mLieutenant Governor            \u001b[0m │ \u001b[32m{E9ACA620-4CC0-4681-AB15-D5DC73A9A5D8}\u001b[0m │ \u001b[32mGeneral     \u001b[0m │ \u001b[35m2021-11-02 00:00:00\u001b[0m │ \u001b[32m2021 November General \u001b[0m │  \u001b[1;36m2021\u001b[0m │\n",
       "│        \u001b[1;36m3\u001b[0m │ \u001b[2mNULL\u001b[0m                                   │ \u001b[2mNULL\u001b[0m      │ \u001b[2mNULL\u001b[0m       │ \u001b[32mWRITE IN VOTES\u001b[0m │ \u001b[2mNULL\u001b[0m   │        \u001b[2mNULL\u001b[0m │ \u001b[2mNULL\u001b[0m        │           \u001b[1;36m1\u001b[0m │ \u001b[32m{15B7E141-2D1D-44C2-A50A-AAE021BC9B7D}\u001b[0m │ \u001b[32m001         \u001b[0m │ \u001b[32mACCOMACK COUNTY\u001b[0m │ \u001b[2mNULL\u001b[0m        │ \u001b[32m## Provisional\u001b[0m │ \u001b[32m{8D4B8CF5-3FB6-4BE1-BEAE-3A82A80C9D17}\u001b[0m │ \u001b[32mTown              \u001b[0m │ \u001b[32mCHINCOTEAGUE\u001b[0m │ \u001b[32m{BAF479DA-31FA-4A2D-A2BA-8421E541C00F}\u001b[0m │ \u001b[32mMember Town Council - Special  \u001b[0m │ \u001b[32m{E9ACA620-4CC0-4681-AB15-D5DC73A9A5D8}\u001b[0m │ \u001b[32mGeneral     \u001b[0m │ \u001b[35m2021-11-02 00:00:00\u001b[0m │ \u001b[32m2021 November General \u001b[0m │  \u001b[1;36m2021\u001b[0m │\n",
       "│        \u001b[1;36m4\u001b[0m │ \u001b[2mNULL\u001b[0m                                   │ \u001b[2mNULL\u001b[0m      │ \u001b[2mNULL\u001b[0m       │ \u001b[32mWRITE IN VOTES\u001b[0m │ \u001b[2mNULL\u001b[0m   │        \u001b[2mNULL\u001b[0m │ \u001b[2mNULL\u001b[0m        │           \u001b[1;36m1\u001b[0m │ \u001b[32m{15B7E141-2D1D-44C2-A50A-AAE021BC9B7D}\u001b[0m │ \u001b[32m001         \u001b[0m │ \u001b[32mACCOMACK COUNTY\u001b[0m │ \u001b[2mNULL\u001b[0m        │ \u001b[32m## Provisional\u001b[0m │ \u001b[32m{E0057B45-D6FD-4F56-B458-41F4B7C807C2}\u001b[0m │ \u001b[32mHouse of Delegates\u001b[0m │ \u001b[32m100         \u001b[0m │ \u001b[32m{972FB6A1-0DAD-48F0-95A5-7A84F16E314D}\u001b[0m │ \u001b[32mMember House of Delegates      \u001b[0m │ \u001b[32m{E9ACA620-4CC0-4681-AB15-D5DC73A9A5D8}\u001b[0m │ \u001b[32mGeneral     \u001b[0m │ \u001b[35m2021-11-02 00:00:00\u001b[0m │ \u001b[32m2021 November General \u001b[0m │  \u001b[1;36m2021\u001b[0m │\n",
       "│        \u001b[1;36m5\u001b[0m │ \u001b[2mNULL\u001b[0m                                   │ \u001b[2mNULL\u001b[0m      │ \u001b[2mNULL\u001b[0m       │ \u001b[32mWRITE IN VOTES\u001b[0m │ \u001b[2mNULL\u001b[0m   │        \u001b[2mNULL\u001b[0m │ \u001b[2mNULL\u001b[0m        │           \u001b[1;36m1\u001b[0m │ \u001b[32m{15B7E141-2D1D-44C2-A50A-AAE021BC9B7D}\u001b[0m │ \u001b[32m001         \u001b[0m │ \u001b[32mACCOMACK COUNTY\u001b[0m │ \u001b[2mNULL\u001b[0m        │ \u001b[32m## Provisional\u001b[0m │ \u001b[32m{05BBA99B-D90A-4413-A142-8163C13316D2}\u001b[0m │ \u001b[32mTown              \u001b[0m │ \u001b[32mPARKSLEY    \u001b[0m │ \u001b[32m{A9D03EF5-D973-4939-B2DE-2BE6165865D1}\u001b[0m │ \u001b[32mMember Town Council -- Parksley\u001b[0m │ \u001b[32m{E9ACA620-4CC0-4681-AB15-D5DC73A9A5D8}\u001b[0m │ \u001b[32mGeneral     \u001b[0m │ \u001b[35m2021-11-02 00:00:00\u001b[0m │ \u001b[32m2021 November General \u001b[0m │  \u001b[1;36m2021\u001b[0m │\n",
       "│        \u001b[1;36m6\u001b[0m │ \u001b[2mNULL\u001b[0m                                   │ \u001b[2mNULL\u001b[0m      │ \u001b[2mNULL\u001b[0m       │ \u001b[32mWRITE IN VOTES\u001b[0m │ \u001b[2mNULL\u001b[0m   │        \u001b[2mNULL\u001b[0m │ \u001b[2mNULL\u001b[0m        │           \u001b[1;36m1\u001b[0m │ \u001b[32m{15B7E141-2D1D-44C2-A50A-AAE021BC9B7D}\u001b[0m │ \u001b[32m001         \u001b[0m │ \u001b[32mACCOMACK COUNTY\u001b[0m │ \u001b[2mNULL\u001b[0m        │ \u001b[32m## Provisional\u001b[0m │ \u001b[32m{05BBA99B-D90A-4413-A142-8163C13316D2}\u001b[0m │ \u001b[32mTown              \u001b[0m │ \u001b[32mPARKSLEY    \u001b[0m │ \u001b[32m{5A7D053B-A5B5-43B2-91A7-4D92D7690888}\u001b[0m │ \u001b[32mMember Town Council - Parksley \u001b[0m │ \u001b[32m{E9ACA620-4CC0-4681-AB15-D5DC73A9A5D8}\u001b[0m │ \u001b[32mGeneral     \u001b[0m │ \u001b[35m2021-11-02 00:00:00\u001b[0m │ \u001b[32m2021 November General \u001b[0m │  \u001b[1;36m2021\u001b[0m │\n",
       "│        \u001b[1;36m7\u001b[0m │ \u001b[32m{6DD39892-F7A7-4E7B-B223-0108F0F1FEA9}\u001b[0m │ \u001b[32mBradley  \u001b[0m │ \u001b[32mDavid     \u001b[0m │ \u001b[32mYork          \u001b[0m │ \u001b[2mNULL\u001b[0m   │        \u001b[2mNULL\u001b[0m │ \u001b[32mIndependent\u001b[0m │           \u001b[1;36m0\u001b[0m │ \u001b[32m{15B7E141-2D1D-44C2-A50A-AAE021BC9B7D}\u001b[0m │ \u001b[32m001         \u001b[0m │ \u001b[32mACCOMACK COUNTY\u001b[0m │ \u001b[2mNULL\u001b[0m        │ \u001b[32m## Provisional\u001b[0m │ \u001b[32m{05BBA99B-D90A-4413-A142-8163C13316D2}\u001b[0m │ \u001b[32mTown              \u001b[0m │ \u001b[32mPARKSLEY    \u001b[0m │ \u001b[32m{A9D03EF5-D973-4939-B2DE-2BE6165865D1}\u001b[0m │ \u001b[32mMember Town Council -- Parksley\u001b[0m │ \u001b[32m{E9ACA620-4CC0-4681-AB15-D5DC73A9A5D8}\u001b[0m │ \u001b[32mGeneral     \u001b[0m │ \u001b[35m2021-11-02 00:00:00\u001b[0m │ \u001b[32m2021 November General \u001b[0m │  \u001b[1;36m2021\u001b[0m │\n",
       "│        \u001b[1;36m8\u001b[0m │ \u001b[32m{EAA5B7ED-F6F1-4B78-9368-7935C11774CE}\u001b[0m │ \u001b[32mCAROL    \u001b[0m │ \u001b[32mELIZABETH \u001b[0m │ \u001b[32mMATTHEWS      \u001b[0m │ \u001b[2mNULL\u001b[0m   │        \u001b[2mNULL\u001b[0m │ \u001b[32mIndependent\u001b[0m │           \u001b[1;36m0\u001b[0m │ \u001b[32m{15B7E141-2D1D-44C2-A50A-AAE021BC9B7D}\u001b[0m │ \u001b[32m001         \u001b[0m │ \u001b[32mACCOMACK COUNTY\u001b[0m │ \u001b[2mNULL\u001b[0m        │ \u001b[32m## Provisional\u001b[0m │ \u001b[32m{05BBA99B-D90A-4413-A142-8163C13316D2}\u001b[0m │ \u001b[32mTown              \u001b[0m │ \u001b[32mPARKSLEY    \u001b[0m │ \u001b[32m{A9D03EF5-D973-4939-B2DE-2BE6165865D1}\u001b[0m │ \u001b[32mMember Town Council -- Parksley\u001b[0m │ \u001b[32m{E9ACA620-4CC0-4681-AB15-D5DC73A9A5D8}\u001b[0m │ \u001b[32mGeneral     \u001b[0m │ \u001b[35m2021-11-02 00:00:00\u001b[0m │ \u001b[32m2021 November General \u001b[0m │  \u001b[1;36m2021\u001b[0m │\n",
       "│        \u001b[1;36m9\u001b[0m │ \u001b[32m{D79DA333-F1CF-4031-BD1A-45C686BD6EBE}\u001b[0m │ \u001b[32mETHAN    \u001b[0m │ \u001b[32mFRANCIS   \u001b[0m │ \u001b[32mMATTHEWS      \u001b[0m │ \u001b[2mNULL\u001b[0m   │        \u001b[2mNULL\u001b[0m │ \u001b[32mIndependent\u001b[0m │           \u001b[1;36m0\u001b[0m │ \u001b[32m{15B7E141-2D1D-44C2-A50A-AAE021BC9B7D}\u001b[0m │ \u001b[32m001         \u001b[0m │ \u001b[32mACCOMACK COUNTY\u001b[0m │ \u001b[2mNULL\u001b[0m        │ \u001b[32m## Provisional\u001b[0m │ \u001b[32m{05BBA99B-D90A-4413-A142-8163C13316D2}\u001b[0m │ \u001b[32mTown              \u001b[0m │ \u001b[32mPARKSLEY    \u001b[0m │ \u001b[32m{5A7D053B-A5B5-43B2-91A7-4D92D7690888}\u001b[0m │ \u001b[32mMember Town Council - Parksley \u001b[0m │ \u001b[32m{E9ACA620-4CC0-4681-AB15-D5DC73A9A5D8}\u001b[0m │ \u001b[32mGeneral     \u001b[0m │ \u001b[35m2021-11-02 00:00:00\u001b[0m │ \u001b[32m2021 November General \u001b[0m │  \u001b[1;36m2021\u001b[0m │\n",
       "│        \u001b[2m…\u001b[0m │ \u001b[2m…\u001b[0m                                      │ \u001b[2m…\u001b[0m         │ \u001b[2m…\u001b[0m          │ \u001b[2m…\u001b[0m              │ \u001b[2m…\u001b[0m      │           \u001b[2m…\u001b[0m │ \u001b[2m…\u001b[0m           │           \u001b[2m…\u001b[0m │ \u001b[2m…\u001b[0m                                      │ \u001b[2m…\u001b[0m            │ \u001b[2m…\u001b[0m               │ \u001b[2m…\u001b[0m           │ \u001b[2m…\u001b[0m              │ \u001b[2m…\u001b[0m                                      │ \u001b[2m…\u001b[0m                  │ \u001b[2m…\u001b[0m            │ \u001b[2m…\u001b[0m                                      │ \u001b[2m…\u001b[0m                               │ \u001b[2m…\u001b[0m                                      │ \u001b[2m…\u001b[0m            │ \u001b[2m…\u001b[0m                   │ \u001b[2m…\u001b[0m                      │     \u001b[2m…\u001b[0m │\n",
       "└──────────┴────────────────────────────────────────┴───────────┴────────────┴────────────────┴────────┴─────────────┴─────────────┴─────────────┴────────────────────────────────────────┴──────────────┴─────────────────┴─────────────┴────────────────┴────────────────────────────────────────┴────────────────────┴──────────────┴────────────────────────────────────────┴─────────────────────────────────┴────────────────────────────────────────┴──────────────┴─────────────────────┴────────────────────────┴───────┘"
      ]
     },
     "execution_count": 4,
     "metadata": {},
     "output_type": "execute_result"
    }
   ],
   "source": [
    "raws = [ibis.read_csv(paths[year]).mutate(year=year) for year in urls]\n",
    "raw = ibis.union(*raws)\n",
    "raw.widget()"
   ]
  },
  {
   "cell_type": "code",
   "execution_count": 5,
   "metadata": {},
   "outputs": [
    {
     "data": {
      "application/vnd.jupyter.widget-view+json": {
       "model_id": "bf1f5c66d06b41c1bb792a947b58727e",
       "version_major": 2,
       "version_minor": 0
      },
      "text/plain": [
       "┏━━━━━━━━━━┳━━━━━━━━━━━┳━━━━━━━━━━━━┳━━━━━━━━━━━━━━━━┳━━━━━━━━┳━━━━━━━━━━━━━┳━━━━━━━━━━━━━┳━━━━━━━━━━━━━━━━━┳━━━━━━━━━━━━━━━━┳━━━━━━━━━━━━━━━━━━━━┳━━━━━━━━━━━━━━┳━━━━━━━━━━━━━━━━━━━━━━━━━━━━━━━━━┳━━━━━━━┳━━━━━━━━┳━━━━━━━━━━━━┳━━━━━━━━━━━━━━┳━━━━━━━━━┳━━━━━━━━┓\n",
       "┃\u001b[1m \u001b[0m\u001b[1m__row_id\u001b[0m\u001b[1m \u001b[0m┃\u001b[1m \u001b[0m\u001b[1mFirstName\u001b[0m\u001b[1m \u001b[0m┃\u001b[1m \u001b[0m\u001b[1mMiddleName\u001b[0m\u001b[1m \u001b[0m┃\u001b[1m \u001b[0m\u001b[1mLastName\u001b[0m\u001b[1m      \u001b[0m\u001b[1m \u001b[0m┃\u001b[1m \u001b[0m\u001b[1mSuffix\u001b[0m\u001b[1m \u001b[0m┃\u001b[1m \u001b[0m\u001b[1mParty\u001b[0m\u001b[1m      \u001b[0m\u001b[1m \u001b[0m┃\u001b[1m \u001b[0m\u001b[1mWriteInVote\u001b[0m\u001b[1m \u001b[0m┃\u001b[1m \u001b[0m\u001b[1mLocalityName\u001b[0m\u001b[1m   \u001b[0m\u001b[1m \u001b[0m┃\u001b[1m \u001b[0m\u001b[1mPrecinctName\u001b[0m\u001b[1m  \u001b[0m\u001b[1m \u001b[0m┃\u001b[1m \u001b[0m\u001b[1mDistrictType\u001b[0m\u001b[1m      \u001b[0m\u001b[1m \u001b[0m┃\u001b[1m \u001b[0m\u001b[1mDistrictName\u001b[0m\u001b[1m \u001b[0m┃\u001b[1m \u001b[0m\u001b[1mOfficeTitle\u001b[0m\u001b[1m                    \u001b[0m\u001b[1m \u001b[0m┃\u001b[1m \u001b[0m\u001b[1myear\u001b[0m\u001b[1m \u001b[0m\u001b[1m \u001b[0m┃\u001b[1m \u001b[0m\u001b[1mvotes\u001b[0m\u001b[1m \u001b[0m\u001b[1m \u001b[0m┃\u001b[1m \u001b[0m\u001b[1mdate\u001b[0m\u001b[1m      \u001b[0m\u001b[1m \u001b[0m┃\u001b[1m \u001b[0m\u001b[1mreadme_check\u001b[0m\u001b[1m \u001b[0m┃\u001b[1m \u001b[0m\u001b[1mspecial\u001b[0m\u001b[1m \u001b[0m┃\u001b[1m \u001b[0m\u001b[1mstage\u001b[0m\u001b[1m \u001b[0m\u001b[1m \u001b[0m┃\n",
       "┡━━━━━━━━━━╇━━━━━━━━━━━╇━━━━━━━━━━━━╇━━━━━━━━━━━━━━━━╇━━━━━━━━╇━━━━━━━━━━━━━╇━━━━━━━━━━━━━╇━━━━━━━━━━━━━━━━━╇━━━━━━━━━━━━━━━━╇━━━━━━━━━━━━━━━━━━━━╇━━━━━━━━━━━━━━╇━━━━━━━━━━━━━━━━━━━━━━━━━━━━━━━━━╇━━━━━━━╇━━━━━━━━╇━━━━━━━━━━━━╇━━━━━━━━━━━━━━╇━━━━━━━━━╇━━━━━━━━┩\n",
       "│ \u001b[2mint64\u001b[0m    │ \u001b[2mstring\u001b[0m    │ \u001b[2mstring\u001b[0m     │ \u001b[2mstring\u001b[0m         │ \u001b[2mstring\u001b[0m │ \u001b[2mstring\u001b[0m      │ \u001b[2mint64\u001b[0m       │ \u001b[2mstring\u001b[0m          │ \u001b[2mstring\u001b[0m         │ \u001b[2mstring\u001b[0m             │ \u001b[2mstring\u001b[0m       │ \u001b[2mstring\u001b[0m                          │ \u001b[2mint16\u001b[0m │ \u001b[2mstring\u001b[0m │ \u001b[2mdate\u001b[0m       │ \u001b[2mboolean\u001b[0m      │ \u001b[2mboolean\u001b[0m │ \u001b[2mstring\u001b[0m │\n",
       "├──────────┼───────────┼────────────┼────────────────┼────────┼─────────────┼─────────────┼─────────────────┼────────────────┼────────────────────┼──────────────┼─────────────────────────────────┼───────┼────────┼────────────┼──────────────┼─────────┼────────┤\n",
       "│        \u001b[1;36m0\u001b[0m │ \u001b[2mNULL\u001b[0m      │ \u001b[2mNULL\u001b[0m       │ \u001b[32mWRITE IN VOTES\u001b[0m │ \u001b[2mNULL\u001b[0m   │ \u001b[2mNULL\u001b[0m        │           \u001b[1;36m1\u001b[0m │ \u001b[32mACCOMACK COUNTY\u001b[0m │ \u001b[32m## Provisional\u001b[0m │ \u001b[32mCongressional     \u001b[0m │ \u001b[32m02          \u001b[0m │ \u001b[32mGovernor                       \u001b[0m │  \u001b[1;36m2021\u001b[0m │ \u001b[2mNULL\u001b[0m   │ \u001b[35m2021-11-02\u001b[0m │ False        │ False   │ \u001b[32mGEN   \u001b[0m │\n",
       "│        \u001b[1;36m1\u001b[0m │ \u001b[2mNULL\u001b[0m      │ \u001b[2mNULL\u001b[0m       │ \u001b[32mWRITE IN VOTES\u001b[0m │ \u001b[2mNULL\u001b[0m   │ \u001b[2mNULL\u001b[0m        │           \u001b[1;36m1\u001b[0m │ \u001b[32mACCOMACK COUNTY\u001b[0m │ \u001b[32m## Provisional\u001b[0m │ \u001b[32mCongressional     \u001b[0m │ \u001b[32m02          \u001b[0m │ \u001b[32mAttorney General               \u001b[0m │  \u001b[1;36m2021\u001b[0m │ \u001b[2mNULL\u001b[0m   │ \u001b[35m2021-11-02\u001b[0m │ False        │ False   │ \u001b[32mGEN   \u001b[0m │\n",
       "│        \u001b[1;36m2\u001b[0m │ \u001b[2mNULL\u001b[0m      │ \u001b[2mNULL\u001b[0m       │ \u001b[32mWRITE IN VOTES\u001b[0m │ \u001b[2mNULL\u001b[0m   │ \u001b[2mNULL\u001b[0m        │           \u001b[1;36m1\u001b[0m │ \u001b[32mACCOMACK COUNTY\u001b[0m │ \u001b[32m## Provisional\u001b[0m │ \u001b[32mCongressional     \u001b[0m │ \u001b[32m02          \u001b[0m │ \u001b[32mLieutenant Governor            \u001b[0m │  \u001b[1;36m2021\u001b[0m │ \u001b[2mNULL\u001b[0m   │ \u001b[35m2021-11-02\u001b[0m │ False        │ False   │ \u001b[32mGEN   \u001b[0m │\n",
       "│        \u001b[1;36m3\u001b[0m │ \u001b[2mNULL\u001b[0m      │ \u001b[2mNULL\u001b[0m       │ \u001b[32mWRITE IN VOTES\u001b[0m │ \u001b[2mNULL\u001b[0m   │ \u001b[2mNULL\u001b[0m        │           \u001b[1;36m1\u001b[0m │ \u001b[32mACCOMACK COUNTY\u001b[0m │ \u001b[32m## Provisional\u001b[0m │ \u001b[32mTown              \u001b[0m │ \u001b[32mCHINCOTEAGUE\u001b[0m │ \u001b[32mMember Town Council - Special  \u001b[0m │  \u001b[1;36m2021\u001b[0m │ \u001b[2mNULL\u001b[0m   │ \u001b[35m2021-11-02\u001b[0m │ False        │ False   │ \u001b[32mGEN   \u001b[0m │\n",
       "│        \u001b[1;36m4\u001b[0m │ \u001b[2mNULL\u001b[0m      │ \u001b[2mNULL\u001b[0m       │ \u001b[32mWRITE IN VOTES\u001b[0m │ \u001b[2mNULL\u001b[0m   │ \u001b[2mNULL\u001b[0m        │           \u001b[1;36m1\u001b[0m │ \u001b[32mACCOMACK COUNTY\u001b[0m │ \u001b[32m## Provisional\u001b[0m │ \u001b[32mHouse of Delegates\u001b[0m │ \u001b[32m100         \u001b[0m │ \u001b[32mMember House of Delegates      \u001b[0m │  \u001b[1;36m2021\u001b[0m │ \u001b[2mNULL\u001b[0m   │ \u001b[35m2021-11-02\u001b[0m │ False        │ False   │ \u001b[32mGEN   \u001b[0m │\n",
       "│        \u001b[1;36m5\u001b[0m │ \u001b[2mNULL\u001b[0m      │ \u001b[2mNULL\u001b[0m       │ \u001b[32mWRITE IN VOTES\u001b[0m │ \u001b[2mNULL\u001b[0m   │ \u001b[2mNULL\u001b[0m        │           \u001b[1;36m1\u001b[0m │ \u001b[32mACCOMACK COUNTY\u001b[0m │ \u001b[32m## Provisional\u001b[0m │ \u001b[32mTown              \u001b[0m │ \u001b[32mPARKSLEY    \u001b[0m │ \u001b[32mMember Town Council -- Parksley\u001b[0m │  \u001b[1;36m2021\u001b[0m │ \u001b[2mNULL\u001b[0m   │ \u001b[35m2021-11-02\u001b[0m │ False        │ False   │ \u001b[32mGEN   \u001b[0m │\n",
       "│        \u001b[1;36m6\u001b[0m │ \u001b[2mNULL\u001b[0m      │ \u001b[2mNULL\u001b[0m       │ \u001b[32mWRITE IN VOTES\u001b[0m │ \u001b[2mNULL\u001b[0m   │ \u001b[2mNULL\u001b[0m        │           \u001b[1;36m1\u001b[0m │ \u001b[32mACCOMACK COUNTY\u001b[0m │ \u001b[32m## Provisional\u001b[0m │ \u001b[32mTown              \u001b[0m │ \u001b[32mPARKSLEY    \u001b[0m │ \u001b[32mMember Town Council - Parksley \u001b[0m │  \u001b[1;36m2021\u001b[0m │ \u001b[2mNULL\u001b[0m   │ \u001b[35m2021-11-02\u001b[0m │ False        │ False   │ \u001b[32mGEN   \u001b[0m │\n",
       "│        \u001b[1;36m7\u001b[0m │ \u001b[32mBradley  \u001b[0m │ \u001b[32mDavid     \u001b[0m │ \u001b[32mYork          \u001b[0m │ \u001b[2mNULL\u001b[0m   │ \u001b[32mIndependent\u001b[0m │           \u001b[1;36m0\u001b[0m │ \u001b[32mACCOMACK COUNTY\u001b[0m │ \u001b[32m## Provisional\u001b[0m │ \u001b[32mTown              \u001b[0m │ \u001b[32mPARKSLEY    \u001b[0m │ \u001b[32mMember Town Council -- Parksley\u001b[0m │  \u001b[1;36m2021\u001b[0m │ \u001b[2mNULL\u001b[0m   │ \u001b[35m2021-11-02\u001b[0m │ False        │ False   │ \u001b[32mGEN   \u001b[0m │\n",
       "│        \u001b[1;36m8\u001b[0m │ \u001b[32mCAROL    \u001b[0m │ \u001b[32mELIZABETH \u001b[0m │ \u001b[32mMATTHEWS      \u001b[0m │ \u001b[2mNULL\u001b[0m   │ \u001b[32mIndependent\u001b[0m │           \u001b[1;36m0\u001b[0m │ \u001b[32mACCOMACK COUNTY\u001b[0m │ \u001b[32m## Provisional\u001b[0m │ \u001b[32mTown              \u001b[0m │ \u001b[32mPARKSLEY    \u001b[0m │ \u001b[32mMember Town Council -- Parksley\u001b[0m │  \u001b[1;36m2021\u001b[0m │ \u001b[2mNULL\u001b[0m   │ \u001b[35m2021-11-02\u001b[0m │ False        │ False   │ \u001b[32mGEN   \u001b[0m │\n",
       "│        \u001b[1;36m9\u001b[0m │ \u001b[32mETHAN    \u001b[0m │ \u001b[32mFRANCIS   \u001b[0m │ \u001b[32mMATTHEWS      \u001b[0m │ \u001b[2mNULL\u001b[0m   │ \u001b[32mIndependent\u001b[0m │           \u001b[1;36m0\u001b[0m │ \u001b[32mACCOMACK COUNTY\u001b[0m │ \u001b[32m## Provisional\u001b[0m │ \u001b[32mTown              \u001b[0m │ \u001b[32mPARKSLEY    \u001b[0m │ \u001b[32mMember Town Council - Parksley \u001b[0m │  \u001b[1;36m2021\u001b[0m │ \u001b[2mNULL\u001b[0m   │ \u001b[35m2021-11-02\u001b[0m │ False        │ False   │ \u001b[32mGEN   \u001b[0m │\n",
       "│        \u001b[2m…\u001b[0m │ \u001b[2m…\u001b[0m         │ \u001b[2m…\u001b[0m          │ \u001b[2m…\u001b[0m              │ \u001b[2m…\u001b[0m      │ \u001b[2m…\u001b[0m           │           \u001b[2m…\u001b[0m │ \u001b[2m…\u001b[0m               │ \u001b[2m…\u001b[0m              │ \u001b[2m…\u001b[0m                  │ \u001b[2m…\u001b[0m            │ \u001b[2m…\u001b[0m                               │     \u001b[2m…\u001b[0m │ \u001b[2m…\u001b[0m      │ \u001b[2m…\u001b[0m          │ \u001b[2m…\u001b[0m            │ \u001b[2m…\u001b[0m       │ \u001b[2m…\u001b[0m      │\n",
       "└──────────┴───────────┴────────────┴────────────────┴────────┴─────────────┴─────────────┴─────────────────┴────────────────┴────────────────────┴──────────────┴─────────────────────────────────┴───────┴────────┴────────────┴──────────────┴─────────┴────────┘"
      ]
     },
     "execution_count": 5,
     "metadata": {},
     "output_type": "execute_result"
    }
   ],
   "source": [
    "t = raw\n",
    "assert (t.ElectionType == \"General\").all().execute()\n",
    "t = t.drop(\"ElectionType\")\n",
    "t = t.drop(\"ElectionName\")\n",
    "\n",
    "t = t.drop(\n",
    "    \"CandidateUid\",\n",
    "    \"LocalityUid\",\n",
    "    \"LocalityCode\",\n",
    "    \"PrecinctUid\",\n",
    "    \"DistrictUid\",\n",
    "    \"OfficeUid\",\n",
    "    \"ElectionUid\",\n",
    ")\n",
    "# In the larger dataset, the vote counts can be the string \"*\",\n",
    "# so we need the votes column to be a string to match that.\n",
    "t = t.mutate(votes=_.TOTAL_VOTES.cast(str)).drop(\"TOTAL_VOTES\")\n",
    "t = t.mutate(date=_.ElectionDate.date()).drop(\"ElectionDate\")\n",
    "t = t.mutate(\n",
    "    readme_check=ibis.literal(False),\n",
    "    special=ibis.literal(False),\n",
    "    stage=ibis.literal(ed.Stage.GEN),\n",
    ")\n",
    "\n",
    "assert (t.date.nunique()).execute() == len(urls)\n",
    "t = t.cache()\n",
    "t.widget()"
   ]
  },
  {
   "cell_type": "markdown",
   "metadata": {},
   "source": [
    "## fix county and county_fips"
   ]
  },
  {
   "cell_type": "code",
   "execution_count": 6,
   "metadata": {},
   "outputs": [
    {
     "data": {
      "text/html": [
       "<pre style=\"white-space:pre;overflow-x:auto;line-height:normal;font-family:Menlo,'DejaVu Sans Mono',consolas,'Courier New',monospace\">┏━━━━━━━━━━━━━━━━━━━━━━━┳━━━━━━━┳━━━━━━━━━━━━━━━━━━━━━┳━━━━━━━┓\n",
       "┃<span style=\"font-weight: bold\"> val_a                 </span>┃<span style=\"font-weight: bold\"> n_a   </span>┃<span style=\"font-weight: bold\"> val_b               </span>┃<span style=\"font-weight: bold\"> n_b   </span>┃\n",
       "┡━━━━━━━━━━━━━━━━━━━━━━━╇━━━━━━━╇━━━━━━━━━━━━━━━━━━━━━╇━━━━━━━┩\n",
       "│ <span style=\"color: #7f7f7f; text-decoration-color: #7f7f7f\">string</span>                │ <span style=\"color: #7f7f7f; text-decoration-color: #7f7f7f\">int64</span> │ <span style=\"color: #7f7f7f; text-decoration-color: #7f7f7f\">string</span>              │ <span style=\"color: #7f7f7f; text-decoration-color: #7f7f7f\">int64</span> │\n",
       "├───────────────────────┼───────┼─────────────────────┼───────┤\n",
       "│ <span style=\"color: #008000; text-decoration-color: #008000\">FAIRFAX COUNTY       </span> │ <span style=\"color: #008080; text-decoration-color: #008080; font-weight: bold\">15552</span> │ <span style=\"color: #7f7f7f; text-decoration-color: #7f7f7f\">NULL</span>                │  <span style=\"color: #7f7f7f; text-decoration-color: #7f7f7f\">NULL</span> │\n",
       "│ <span style=\"color: #008000; text-decoration-color: #008000\">VIRGINIA BEACH CITY  </span> │  <span style=\"color: #008080; text-decoration-color: #008080; font-weight: bold\">8349</span> │ <span style=\"color: #008000; text-decoration-color: #008000\">VIRGINIA BEACH CITY</span> │  <span style=\"color: #008080; text-decoration-color: #008080; font-weight: bold\">3282</span> │\n",
       "│ <span style=\"color: #008000; text-decoration-color: #008000\">LOUDOUN COUNTY       </span> │  <span style=\"color: #008080; text-decoration-color: #008080; font-weight: bold\">6883</span> │ <span style=\"color: #7f7f7f; text-decoration-color: #7f7f7f\">NULL</span>                │  <span style=\"color: #7f7f7f; text-decoration-color: #7f7f7f\">NULL</span> │\n",
       "│ <span style=\"color: #008000; text-decoration-color: #008000\">PRINCE WILLIAM COUNTY</span> │  <span style=\"color: #008080; text-decoration-color: #008080; font-weight: bold\">6233</span> │ <span style=\"color: #7f7f7f; text-decoration-color: #7f7f7f\">NULL</span>                │  <span style=\"color: #7f7f7f; text-decoration-color: #7f7f7f\">NULL</span> │\n",
       "│ <span style=\"color: #008000; text-decoration-color: #008000\">CHESTERFIELD COUNTY  </span> │  <span style=\"color: #008080; text-decoration-color: #008080; font-weight: bold\">5231</span> │ <span style=\"color: #7f7f7f; text-decoration-color: #7f7f7f\">NULL</span>                │  <span style=\"color: #7f7f7f; text-decoration-color: #7f7f7f\">NULL</span> │\n",
       "│ <span style=\"color: #008000; text-decoration-color: #008000\">HENRICO COUNTY       </span> │  <span style=\"color: #008080; text-decoration-color: #008080; font-weight: bold\">5074</span> │ <span style=\"color: #7f7f7f; text-decoration-color: #7f7f7f\">NULL</span>                │  <span style=\"color: #7f7f7f; text-decoration-color: #7f7f7f\">NULL</span> │\n",
       "│ <span style=\"color: #008000; text-decoration-color: #008000\">RICHMOND CITY        </span> │  <span style=\"color: #008080; text-decoration-color: #008080; font-weight: bold\">4230</span> │ <span style=\"color: #008000; text-decoration-color: #008000\">RICHMOND CITY      </span> │  <span style=\"color: #008080; text-decoration-color: #008080; font-weight: bold\">1765</span> │\n",
       "│ <span style=\"color: #008000; text-decoration-color: #008000\">CHESAPEAKE CITY      </span> │  <span style=\"color: #008080; text-decoration-color: #008080; font-weight: bold\">4021</span> │ <span style=\"color: #008000; text-decoration-color: #008000\">CHESAPEAKE CITY    </span> │  <span style=\"color: #008080; text-decoration-color: #008080; font-weight: bold\">3864</span> │\n",
       "│ <span style=\"color: #008000; text-decoration-color: #008000\">ARLINGTON COUNTY     </span> │  <span style=\"color: #008080; text-decoration-color: #008080; font-weight: bold\">3536</span> │ <span style=\"color: #7f7f7f; text-decoration-color: #7f7f7f\">NULL</span>                │  <span style=\"color: #7f7f7f; text-decoration-color: #7f7f7f\">NULL</span> │\n",
       "│ <span style=\"color: #008000; text-decoration-color: #008000\">NORFOLK CITY         </span> │  <span style=\"color: #008080; text-decoration-color: #008080; font-weight: bold\">3470</span> │ <span style=\"color: #008000; text-decoration-color: #008000\">NORFOLK CITY       </span> │  <span style=\"color: #008080; text-decoration-color: #008080; font-weight: bold\">1610</span> │\n",
       "│ <span style=\"color: #7f7f7f; text-decoration-color: #7f7f7f\">…</span>                     │     <span style=\"color: #7f7f7f; text-decoration-color: #7f7f7f\">…</span> │ <span style=\"color: #7f7f7f; text-decoration-color: #7f7f7f\">…</span>                   │     <span style=\"color: #7f7f7f; text-decoration-color: #7f7f7f\">…</span> │\n",
       "└───────────────────────┴───────┴─────────────────────┴───────┘\n",
       "</pre>\n"
      ],
      "text/plain": [
       "┏━━━━━━━━━━━━━━━━━━━━━━━┳━━━━━━━┳━━━━━━━━━━━━━━━━━━━━━┳━━━━━━━┓\n",
       "┃\u001b[1m \u001b[0m\u001b[1mval_a\u001b[0m\u001b[1m                \u001b[0m\u001b[1m \u001b[0m┃\u001b[1m \u001b[0m\u001b[1mn_a\u001b[0m\u001b[1m  \u001b[0m\u001b[1m \u001b[0m┃\u001b[1m \u001b[0m\u001b[1mval_b\u001b[0m\u001b[1m              \u001b[0m\u001b[1m \u001b[0m┃\u001b[1m \u001b[0m\u001b[1mn_b\u001b[0m\u001b[1m  \u001b[0m\u001b[1m \u001b[0m┃\n",
       "┡━━━━━━━━━━━━━━━━━━━━━━━╇━━━━━━━╇━━━━━━━━━━━━━━━━━━━━━╇━━━━━━━┩\n",
       "│ \u001b[2mstring\u001b[0m                │ \u001b[2mint64\u001b[0m │ \u001b[2mstring\u001b[0m              │ \u001b[2mint64\u001b[0m │\n",
       "├───────────────────────┼───────┼─────────────────────┼───────┤\n",
       "│ \u001b[32mFAIRFAX COUNTY       \u001b[0m │ \u001b[1;36m15552\u001b[0m │ \u001b[2mNULL\u001b[0m                │  \u001b[2mNULL\u001b[0m │\n",
       "│ \u001b[32mVIRGINIA BEACH CITY  \u001b[0m │  \u001b[1;36m8349\u001b[0m │ \u001b[32mVIRGINIA BEACH CITY\u001b[0m │  \u001b[1;36m3282\u001b[0m │\n",
       "│ \u001b[32mLOUDOUN COUNTY       \u001b[0m │  \u001b[1;36m6883\u001b[0m │ \u001b[2mNULL\u001b[0m                │  \u001b[2mNULL\u001b[0m │\n",
       "│ \u001b[32mPRINCE WILLIAM COUNTY\u001b[0m │  \u001b[1;36m6233\u001b[0m │ \u001b[2mNULL\u001b[0m                │  \u001b[2mNULL\u001b[0m │\n",
       "│ \u001b[32mCHESTERFIELD COUNTY  \u001b[0m │  \u001b[1;36m5231\u001b[0m │ \u001b[2mNULL\u001b[0m                │  \u001b[2mNULL\u001b[0m │\n",
       "│ \u001b[32mHENRICO COUNTY       \u001b[0m │  \u001b[1;36m5074\u001b[0m │ \u001b[2mNULL\u001b[0m                │  \u001b[2mNULL\u001b[0m │\n",
       "│ \u001b[32mRICHMOND CITY        \u001b[0m │  \u001b[1;36m4230\u001b[0m │ \u001b[32mRICHMOND CITY      \u001b[0m │  \u001b[1;36m1765\u001b[0m │\n",
       "│ \u001b[32mCHESAPEAKE CITY      \u001b[0m │  \u001b[1;36m4021\u001b[0m │ \u001b[32mCHESAPEAKE CITY    \u001b[0m │  \u001b[1;36m3864\u001b[0m │\n",
       "│ \u001b[32mARLINGTON COUNTY     \u001b[0m │  \u001b[1;36m3536\u001b[0m │ \u001b[2mNULL\u001b[0m                │  \u001b[2mNULL\u001b[0m │\n",
       "│ \u001b[32mNORFOLK CITY         \u001b[0m │  \u001b[1;36m3470\u001b[0m │ \u001b[32mNORFOLK CITY       \u001b[0m │  \u001b[1;36m1610\u001b[0m │\n",
       "│ \u001b[2m…\u001b[0m                     │     \u001b[2m…\u001b[0m │ \u001b[2m…\u001b[0m                   │     \u001b[2m…\u001b[0m │\n",
       "└───────────────────────┴───────┴─────────────────────┴───────┘"
      ]
     },
     "metadata": {},
     "output_type": "display_data"
    },
    {
     "data": {
      "text/html": [
       "<pre style=\"white-space:pre;overflow-x:auto;line-height:normal;font-family:Menlo,'DejaVu Sans Mono',consolas,'Courier New',monospace\">┏━━━━━━━━━━━━━━━━━━━━━┳━━━━━━━┳━━━━━━━━━━━━━━━━━━━━━┳━━━━━━━┓\n",
       "┃<span style=\"font-weight: bold\"> val_a               </span>┃<span style=\"font-weight: bold\"> n_a   </span>┃<span style=\"font-weight: bold\"> val_b               </span>┃<span style=\"font-weight: bold\"> n_b   </span>┃\n",
       "┡━━━━━━━━━━━━━━━━━━━━━╇━━━━━━━╇━━━━━━━━━━━━━━━━━━━━━╇━━━━━━━┩\n",
       "│ <span style=\"color: #7f7f7f; text-decoration-color: #7f7f7f\">string</span>              │ <span style=\"color: #7f7f7f; text-decoration-color: #7f7f7f\">int64</span> │ <span style=\"color: #7f7f7f; text-decoration-color: #7f7f7f\">string</span>              │ <span style=\"color: #7f7f7f; text-decoration-color: #7f7f7f\">int64</span> │\n",
       "├─────────────────────┼───────┼─────────────────────┼───────┤\n",
       "│ <span style=\"color: #7f7f7f; text-decoration-color: #7f7f7f\">NULL</span>                │  <span style=\"color: #7f7f7f; text-decoration-color: #7f7f7f\">NULL</span> │ <span style=\"color: #008000; text-decoration-color: #008000\">FAIRFAX            </span> │  <span style=\"color: #008080; text-decoration-color: #008080; font-weight: bold\">6353</span> │\n",
       "│ <span style=\"color: #008000; text-decoration-color: #008000\">CHESAPEAKE CITY    </span> │  <span style=\"color: #008080; text-decoration-color: #008080; font-weight: bold\">4021</span> │ <span style=\"color: #008000; text-decoration-color: #008000\">CHESAPEAKE CITY    </span> │  <span style=\"color: #008080; text-decoration-color: #008080; font-weight: bold\">3864</span> │\n",
       "│ <span style=\"color: #008000; text-decoration-color: #008000\">VIRGINIA BEACH CITY</span> │  <span style=\"color: #008080; text-decoration-color: #008080; font-weight: bold\">8349</span> │ <span style=\"color: #008000; text-decoration-color: #008000\">VIRGINIA BEACH CITY</span> │  <span style=\"color: #008080; text-decoration-color: #008080; font-weight: bold\">3282</span> │\n",
       "│ <span style=\"color: #7f7f7f; text-decoration-color: #7f7f7f\">NULL</span>                │  <span style=\"color: #7f7f7f; text-decoration-color: #7f7f7f\">NULL</span> │ <span style=\"color: #008000; text-decoration-color: #008000\">LOUDOUN            </span> │  <span style=\"color: #008080; text-decoration-color: #008080; font-weight: bold\">2841</span> │\n",
       "│ <span style=\"color: #7f7f7f; text-decoration-color: #7f7f7f\">NULL</span>                │  <span style=\"color: #7f7f7f; text-decoration-color: #7f7f7f\">NULL</span> │ <span style=\"color: #008000; text-decoration-color: #008000\">PRINCE WILLIAM     </span> │  <span style=\"color: #008080; text-decoration-color: #008080; font-weight: bold\">2702</span> │\n",
       "│ <span style=\"color: #7f7f7f; text-decoration-color: #7f7f7f\">NULL</span>                │  <span style=\"color: #7f7f7f; text-decoration-color: #7f7f7f\">NULL</span> │ <span style=\"color: #008000; text-decoration-color: #008000\">HENRICO            </span> │  <span style=\"color: #008080; text-decoration-color: #008080; font-weight: bold\">2426</span> │\n",
       "│ <span style=\"color: #7f7f7f; text-decoration-color: #7f7f7f\">NULL</span>                │  <span style=\"color: #7f7f7f; text-decoration-color: #7f7f7f\">NULL</span> │ <span style=\"color: #008000; text-decoration-color: #008000\">CHESTERFIELD       </span> │  <span style=\"color: #008080; text-decoration-color: #008080; font-weight: bold\">2169</span> │\n",
       "│ <span style=\"color: #7f7f7f; text-decoration-color: #7f7f7f\">NULL</span>                │  <span style=\"color: #7f7f7f; text-decoration-color: #7f7f7f\">NULL</span> │ <span style=\"color: #008000; text-decoration-color: #008000\">ARLINGTON          </span> │  <span style=\"color: #008080; text-decoration-color: #008080; font-weight: bold\">1811</span> │\n",
       "│ <span style=\"color: #008000; text-decoration-color: #008000\">NEWPORT NEWS CITY  </span> │  <span style=\"color: #008080; text-decoration-color: #008080; font-weight: bold\">2636</span> │ <span style=\"color: #008000; text-decoration-color: #008000\">NEWPORT NEWS CITY  </span> │  <span style=\"color: #008080; text-decoration-color: #008080; font-weight: bold\">1808</span> │\n",
       "│ <span style=\"color: #008000; text-decoration-color: #008000\">RICHMOND CITY      </span> │  <span style=\"color: #008080; text-decoration-color: #008080; font-weight: bold\">4230</span> │ <span style=\"color: #008000; text-decoration-color: #008000\">RICHMOND CITY      </span> │  <span style=\"color: #008080; text-decoration-color: #008080; font-weight: bold\">1765</span> │\n",
       "│ <span style=\"color: #7f7f7f; text-decoration-color: #7f7f7f\">…</span>                   │     <span style=\"color: #7f7f7f; text-decoration-color: #7f7f7f\">…</span> │ <span style=\"color: #7f7f7f; text-decoration-color: #7f7f7f\">…</span>                   │     <span style=\"color: #7f7f7f; text-decoration-color: #7f7f7f\">…</span> │\n",
       "└─────────────────────┴───────┴─────────────────────┴───────┘\n",
       "</pre>\n"
      ],
      "text/plain": [
       "┏━━━━━━━━━━━━━━━━━━━━━┳━━━━━━━┳━━━━━━━━━━━━━━━━━━━━━┳━━━━━━━┓\n",
       "┃\u001b[1m \u001b[0m\u001b[1mval_a\u001b[0m\u001b[1m              \u001b[0m\u001b[1m \u001b[0m┃\u001b[1m \u001b[0m\u001b[1mn_a\u001b[0m\u001b[1m  \u001b[0m\u001b[1m \u001b[0m┃\u001b[1m \u001b[0m\u001b[1mval_b\u001b[0m\u001b[1m              \u001b[0m\u001b[1m \u001b[0m┃\u001b[1m \u001b[0m\u001b[1mn_b\u001b[0m\u001b[1m  \u001b[0m\u001b[1m \u001b[0m┃\n",
       "┡━━━━━━━━━━━━━━━━━━━━━╇━━━━━━━╇━━━━━━━━━━━━━━━━━━━━━╇━━━━━━━┩\n",
       "│ \u001b[2mstring\u001b[0m              │ \u001b[2mint64\u001b[0m │ \u001b[2mstring\u001b[0m              │ \u001b[2mint64\u001b[0m │\n",
       "├─────────────────────┼───────┼─────────────────────┼───────┤\n",
       "│ \u001b[2mNULL\u001b[0m                │  \u001b[2mNULL\u001b[0m │ \u001b[32mFAIRFAX            \u001b[0m │  \u001b[1;36m6353\u001b[0m │\n",
       "│ \u001b[32mCHESAPEAKE CITY    \u001b[0m │  \u001b[1;36m4021\u001b[0m │ \u001b[32mCHESAPEAKE CITY    \u001b[0m │  \u001b[1;36m3864\u001b[0m │\n",
       "│ \u001b[32mVIRGINIA BEACH CITY\u001b[0m │  \u001b[1;36m8349\u001b[0m │ \u001b[32mVIRGINIA BEACH CITY\u001b[0m │  \u001b[1;36m3282\u001b[0m │\n",
       "│ \u001b[2mNULL\u001b[0m                │  \u001b[2mNULL\u001b[0m │ \u001b[32mLOUDOUN            \u001b[0m │  \u001b[1;36m2841\u001b[0m │\n",
       "│ \u001b[2mNULL\u001b[0m                │  \u001b[2mNULL\u001b[0m │ \u001b[32mPRINCE WILLIAM     \u001b[0m │  \u001b[1;36m2702\u001b[0m │\n",
       "│ \u001b[2mNULL\u001b[0m                │  \u001b[2mNULL\u001b[0m │ \u001b[32mHENRICO            \u001b[0m │  \u001b[1;36m2426\u001b[0m │\n",
       "│ \u001b[2mNULL\u001b[0m                │  \u001b[2mNULL\u001b[0m │ \u001b[32mCHESTERFIELD       \u001b[0m │  \u001b[1;36m2169\u001b[0m │\n",
       "│ \u001b[2mNULL\u001b[0m                │  \u001b[2mNULL\u001b[0m │ \u001b[32mARLINGTON          \u001b[0m │  \u001b[1;36m1811\u001b[0m │\n",
       "│ \u001b[32mNEWPORT NEWS CITY  \u001b[0m │  \u001b[1;36m2636\u001b[0m │ \u001b[32mNEWPORT NEWS CITY  \u001b[0m │  \u001b[1;36m1808\u001b[0m │\n",
       "│ \u001b[32mRICHMOND CITY      \u001b[0m │  \u001b[1;36m4230\u001b[0m │ \u001b[32mRICHMOND CITY      \u001b[0m │  \u001b[1;36m1765\u001b[0m │\n",
       "│ \u001b[2m…\u001b[0m                   │     \u001b[2m…\u001b[0m │ \u001b[2m…\u001b[0m                   │     \u001b[2m…\u001b[0m │\n",
       "└─────────────────────┴───────┴─────────────────────┴───────┘"
      ]
     },
     "metadata": {},
     "output_type": "display_data"
    }
   ],
   "source": [
    "def compare_values(\n",
    "    a: ir.StringValue, b: ir.StringValue, *, norm: bool = True\n",
    ") -> ir.BooleanValue:\n",
    "    from IPython.display import display\n",
    "\n",
    "    if norm:\n",
    "        a = a.upper().strip()\n",
    "        b = b.upper().strip()\n",
    "    a = a.name(\"val\")\n",
    "    b = b.name(\"val\")\n",
    "    vc_a = a.value_counts(name=\"n_a\")\n",
    "    vc_b = b.value_counts(name=\"n_b\")\n",
    "    vc = vc_a.outer_join(vc_b, \"val\", lname=\"{name}_a\", rname=\"{name}_b\")\n",
    "    w1 = vc.order_by(_.n_a.desc())\n",
    "    w2 = vc.order_by(_.n_b.desc())\n",
    "    display(w1)\n",
    "    display(w2)\n",
    "\n",
    "\n",
    "compare_values(t.LocalityName, gold_va.county_name)"
   ]
  },
  {
   "cell_type": "code",
   "execution_count": 7,
   "metadata": {},
   "outputs": [],
   "source": [
    "def make_county_fips_lookup() -> ibis.Table:\n",
    "    t = ibis.read_parquet(\"../data/cleaned.parquet\")\n",
    "    return t.select(\n",
    "        \"state_po\",\n",
    "        \"county_name\",\n",
    "        \"county_fips\",\n",
    "    ).distinct()\n",
    "\n",
    "\n",
    "def add_county_fips(t: ibis.Table) -> ibis.Table:\n",
    "    lookup = make_county_fips_lookup()\n",
    "    return t.left_join(lookup, [\"state_po\", \"county_name\"]).drop(\n",
    "        \"state_po_right\", \"county_name_right\"\n",
    "    )\n",
    "\n",
    "\n",
    "t = t.mutate(\n",
    "    state_po=ibis.literal(\"VA\"),\n",
    "    county_name=_.LocalityName.upper().replace(\" & \", \" AND \").replace(\" COUNTY\", \"\"),\n",
    ").drop(\"LocalityName\")\n",
    "t = add_county_fips(t)\n",
    "# check we found a fips code for every county.\n",
    "assert (t.county_fips.notnull()).all().execute()"
   ]
  },
  {
   "cell_type": "markdown",
   "metadata": {},
   "source": [
    "## Fix jurisdiction and jurisdiction_fips\n",
    "\n",
    "Looks like in the upstream data, jurisdiction is always the same as\n",
    "the county. So just use that.\n",
    "\n",
    "Be warned, it appears that the upstream FIPS codes for jurisdictions are somewhat BS.\n",
    "For example, the \"DISTRICT 12\" jurisdiction in alaska has a FIPS code of \"02012\"\n",
    "which isn't a [real fips code](https://transition.fcc.gov/oet/info/maps/census/fips/fips.txt)\n",
    "FIPS codes really only go down to county level. Probably this DISTRICT 12\n",
    "is actually referring to state HD 12, even though it is filed under the\n",
    "US HOUSE office:"
   ]
  },
  {
   "cell_type": "code",
   "execution_count": 8,
   "metadata": {},
   "outputs": [],
   "source": [
    "assert (gold_va.county_name == gold_va.jurisdiction_name).all().execute()\n",
    "assert (gold_va.county_fips == gold_va.jurisdiction_fips).all().execute()\n",
    "t = t.mutate(\n",
    "    jurisdiction_name=_.county_name,\n",
    "    jurisdiction_fips=_.county_fips,\n",
    ")\n"
   ]
  },
  {
   "cell_type": "markdown",
   "metadata": {},
   "source": [
    "## Add candidate and writein"
   ]
  },
  {
   "cell_type": "code",
   "execution_count": 9,
   "metadata": {},
   "outputs": [
    {
     "data": {
      "application/vnd.jupyter.widget-view+json": {
       "model_id": "71ced6b5db644c2eb8aa3e9f84a494fe",
       "version_major": 2,
       "version_minor": 0
      },
      "text/plain": [
       "┏━━━━━━━━━━┳━━━━━━━━━━━━━┳━━━━━━━━━━━━━━━━━━━━━━━━━┳━━━━━━━━━━━━━━━━━━━━┳━━━━━━━━━━━━━━┳━━━━━━━━━━━━━━━━━━━━━━━━━━━━━━━━━━━━━━━━━━━━━━━━━━━━━━━━━━━━━━━━━┳━━━━━━━┳━━━━━━━━┳━━━━━━━━━━━━┳━━━━━━━━━━━━━━┳━━━━━━━━━┳━━━━━━━━┳━━━━━━━━━━┳━━━━━━━━━━━━━━━━━━━┳━━━━━━━━━━━━━┳━━━━━━━━━━━━━━━━━━━┳━━━━━━━━━━━━━━━━━━━┳━━━━━━━━━━━━━━━━━━━━━━━━━━━━━┳━━━━━━━━━┓\n",
       "┃\u001b[1m \u001b[0m\u001b[1m__row_id\u001b[0m\u001b[1m \u001b[0m┃\u001b[1m \u001b[0m\u001b[1mParty\u001b[0m\u001b[1m      \u001b[0m\u001b[1m \u001b[0m┃\u001b[1m \u001b[0m\u001b[1mPrecinctName\u001b[0m\u001b[1m           \u001b[0m\u001b[1m \u001b[0m┃\u001b[1m \u001b[0m\u001b[1mDistrictType\u001b[0m\u001b[1m      \u001b[0m\u001b[1m \u001b[0m┃\u001b[1m \u001b[0m\u001b[1mDistrictName\u001b[0m\u001b[1m \u001b[0m┃\u001b[1m \u001b[0m\u001b[1mOfficeTitle\u001b[0m\u001b[1m                                                    \u001b[0m\u001b[1m \u001b[0m┃\u001b[1m \u001b[0m\u001b[1myear\u001b[0m\u001b[1m \u001b[0m\u001b[1m \u001b[0m┃\u001b[1m \u001b[0m\u001b[1mvotes\u001b[0m\u001b[1m \u001b[0m\u001b[1m \u001b[0m┃\u001b[1m \u001b[0m\u001b[1mdate\u001b[0m\u001b[1m      \u001b[0m\u001b[1m \u001b[0m┃\u001b[1m \u001b[0m\u001b[1mreadme_check\u001b[0m\u001b[1m \u001b[0m┃\u001b[1m \u001b[0m\u001b[1mspecial\u001b[0m\u001b[1m \u001b[0m┃\u001b[1m \u001b[0m\u001b[1mstage\u001b[0m\u001b[1m \u001b[0m\u001b[1m \u001b[0m┃\u001b[1m \u001b[0m\u001b[1mstate_po\u001b[0m\u001b[1m \u001b[0m┃\u001b[1m \u001b[0m\u001b[1mcounty_name\u001b[0m\u001b[1m      \u001b[0m\u001b[1m \u001b[0m┃\u001b[1m \u001b[0m\u001b[1mcounty_fips\u001b[0m\u001b[1m \u001b[0m┃\u001b[1m \u001b[0m\u001b[1mjurisdiction_name\u001b[0m\u001b[1m \u001b[0m┃\u001b[1m \u001b[0m\u001b[1mjurisdiction_fips\u001b[0m\u001b[1m \u001b[0m┃\u001b[1m \u001b[0m\u001b[1mcandidate\u001b[0m\u001b[1m                  \u001b[0m\u001b[1m \u001b[0m┃\u001b[1m \u001b[0m\u001b[1mwritein\u001b[0m\u001b[1m \u001b[0m┃\n",
       "┡━━━━━━━━━━╇━━━━━━━━━━━━━╇━━━━━━━━━━━━━━━━━━━━━━━━━╇━━━━━━━━━━━━━━━━━━━━╇━━━━━━━━━━━━━━╇━━━━━━━━━━━━━━━━━━━━━━━━━━━━━━━━━━━━━━━━━━━━━━━━━━━━━━━━━━━━━━━━━╇━━━━━━━╇━━━━━━━━╇━━━━━━━━━━━━╇━━━━━━━━━━━━━━╇━━━━━━━━━╇━━━━━━━━╇━━━━━━━━━━╇━━━━━━━━━━━━━━━━━━━╇━━━━━━━━━━━━━╇━━━━━━━━━━━━━━━━━━━╇━━━━━━━━━━━━━━━━━━━╇━━━━━━━━━━━━━━━━━━━━━━━━━━━━━╇━━━━━━━━━┩\n",
       "│ \u001b[2mint64\u001b[0m    │ \u001b[2mstring\u001b[0m      │ \u001b[2mstring\u001b[0m                  │ \u001b[2mstring\u001b[0m             │ \u001b[2mstring\u001b[0m       │ \u001b[2mstring\u001b[0m                                                          │ \u001b[2mint16\u001b[0m │ \u001b[2mstring\u001b[0m │ \u001b[2mdate\u001b[0m       │ \u001b[2mboolean\u001b[0m      │ \u001b[2mboolean\u001b[0m │ \u001b[2mstring\u001b[0m │ \u001b[2mstring\u001b[0m   │ \u001b[2mstring\u001b[0m            │ \u001b[2mstring\u001b[0m      │ \u001b[2mstring\u001b[0m            │ \u001b[2mstring\u001b[0m            │ \u001b[2mstring\u001b[0m                      │ \u001b[2mboolean\u001b[0m │\n",
       "├──────────┼─────────────┼─────────────────────────┼────────────────────┼──────────────┼─────────────────────────────────────────────────────────────────┼───────┼────────┼────────────┼──────────────┼─────────┼────────┼──────────┼───────────────────┼─────────────┼───────────────────┼───────────────────┼─────────────────────────────┼─────────┤\n",
       "│        \u001b[1;36m0\u001b[0m │ \u001b[32mDemocratic \u001b[0m │ \u001b[32m501 - PRECINCT 5       \u001b[0m │ \u001b[32mHouse of Delegates\u001b[0m │ \u001b[32m061         \u001b[0m │ \u001b[32mMember House of Delegates                                      \u001b[0m │  \u001b[1;36m2019\u001b[0m │ \u001b[32m200   \u001b[0m │ \u001b[35m2019-11-05\u001b[0m │ False        │ False   │ \u001b[32mGEN   \u001b[0m │ \u001b[32mVA      \u001b[0m │ \u001b[32mCUMBERLAND       \u001b[0m │ \u001b[32m51049      \u001b[0m │ \u001b[32mCUMBERLAND       \u001b[0m │ \u001b[32m51049            \u001b[0m │ \u001b[32mTRUDY BELL BERRY           \u001b[0m │ False   │\n",
       "│        \u001b[1;36m1\u001b[0m │ \u001b[32mIndependent\u001b[0m │ \u001b[32m703 - ROCKY MOUNT SOUTH\u001b[0m │ \u001b[2mNULL\u001b[0m               │ \u001b[2mNULL\u001b[0m         │ \u001b[32mSheriff                                                        \u001b[0m │  \u001b[1;36m2019\u001b[0m │ \u001b[32m364   \u001b[0m │ \u001b[35m2019-11-05\u001b[0m │ False        │ False   │ \u001b[32mGEN   \u001b[0m │ \u001b[32mVA      \u001b[0m │ \u001b[32mFRANKLIN         \u001b[0m │ \u001b[32m51067      \u001b[0m │ \u001b[32mFRANKLIN         \u001b[0m │ \u001b[32m51067            \u001b[0m │ \u001b[32mWILLIAM QUINTON OVERTON JR.\u001b[0m │ False   │\n",
       "│        \u001b[1;36m2\u001b[0m │ \u001b[32mRepublican \u001b[0m │ \u001b[32m003 - WESTERN          \u001b[0m │ \u001b[32mState Senate      \u001b[0m │ \u001b[32m003         \u001b[0m │ \u001b[32mMember Senate of Virginia                                      \u001b[0m │  \u001b[1;36m2019\u001b[0m │ \u001b[32m1177  \u001b[0m │ \u001b[35m2019-11-05\u001b[0m │ False        │ False   │ \u001b[32mGEN   \u001b[0m │ \u001b[32mVA      \u001b[0m │ \u001b[32mPOQUOSON CITY    \u001b[0m │ \u001b[32m51735      \u001b[0m │ \u001b[32mPOQUOSON CITY    \u001b[0m │ \u001b[32m51735            \u001b[0m │ \u001b[32mTHOMAS KENT NORMENT JR.    \u001b[0m │ False   │\n",
       "│        \u001b[1;36m3\u001b[0m │ \u001b[32mRepublican \u001b[0m │ \u001b[32m504 - VINT HILL        \u001b[0m │ \u001b[2mNULL\u001b[0m               │ \u001b[2mNULL\u001b[0m         │ \u001b[32mTreasurer                                                      \u001b[0m │  \u001b[1;36m2019\u001b[0m │ \u001b[32m1776  \u001b[0m │ \u001b[35m2019-11-05\u001b[0m │ False        │ False   │ \u001b[32mGEN   \u001b[0m │ \u001b[32mVA      \u001b[0m │ \u001b[32mFAUQUIER         \u001b[0m │ \u001b[32m51061      \u001b[0m │ \u001b[32mFAUQUIER         \u001b[0m │ \u001b[32m51061            \u001b[0m │ \u001b[32mTANYA REMSON WILCOX        \u001b[0m │ False   │\n",
       "│        \u001b[1;36m4\u001b[0m │ \u001b[32mIndependent\u001b[0m │ \u001b[32m010 - HEADWATERS       \u001b[0m │ \u001b[2mNULL\u001b[0m               │ \u001b[2mNULL\u001b[0m         │ \u001b[32mCommissioner of Revenue                                        \u001b[0m │  \u001b[1;36m2019\u001b[0m │ \u001b[32m36    \u001b[0m │ \u001b[35m2019-11-05\u001b[0m │ False        │ False   │ \u001b[32mGEN   \u001b[0m │ \u001b[32mVA      \u001b[0m │ \u001b[32mHIGHLAND         \u001b[0m │ \u001b[32m51091      \u001b[0m │ \u001b[32mHIGHLAND         \u001b[0m │ \u001b[32m51091            \u001b[0m │ \u001b[32mYVONNE ELIZABETH WIMER     \u001b[0m │ False   │\n",
       "│        \u001b[1;36m5\u001b[0m │ \u001b[32mIndependent\u001b[0m │ \u001b[32m702 - SOUTH ANNA       \u001b[0m │ \u001b[2mNULL\u001b[0m               │ \u001b[2mNULL\u001b[0m         │ \u001b[32mSheriff                                                        \u001b[0m │  \u001b[1;36m2019\u001b[0m │ \u001b[32m130   \u001b[0m │ \u001b[35m2019-11-05\u001b[0m │ False        │ False   │ \u001b[32mGEN   \u001b[0m │ \u001b[32mVA      \u001b[0m │ \u001b[32mLOUISA           \u001b[0m │ \u001b[32m51109      \u001b[0m │ \u001b[32mLOUISA           \u001b[0m │ \u001b[32m51109            \u001b[0m │ \u001b[32mTROY COOPER PAINTING       \u001b[0m │ False   │\n",
       "│        \u001b[1;36m6\u001b[0m │ \u001b[32mDemocratic \u001b[0m │ \u001b[32m903 - CLARKSVILLE      \u001b[0m │ \u001b[32mState Senate      \u001b[0m │ \u001b[32m015         \u001b[0m │ \u001b[32mMember Senate of Virginia                                      \u001b[0m │  \u001b[1;36m2019\u001b[0m │ \u001b[32m195   \u001b[0m │ \u001b[35m2019-11-05\u001b[0m │ False        │ False   │ \u001b[32mGEN   \u001b[0m │ \u001b[32mVA      \u001b[0m │ \u001b[32mMECKLENBURG      \u001b[0m │ \u001b[32m51117      \u001b[0m │ \u001b[32mMECKLENBURG      \u001b[0m │ \u001b[32m51117            \u001b[0m │ \u001b[32mVIRGINIA MAE SMITH         \u001b[0m │ False   │\n",
       "│        \u001b[1;36m7\u001b[0m │ \u001b[32mRepublican \u001b[0m │ \u001b[32m504 - KEOKEE           \u001b[0m │ \u001b[32mState Senate      \u001b[0m │ \u001b[32m040         \u001b[0m │ \u001b[32mMember Senate of Virginia                                      \u001b[0m │  \u001b[1;36m2019\u001b[0m │ \u001b[32m89    \u001b[0m │ \u001b[35m2019-11-05\u001b[0m │ False        │ False   │ \u001b[32mGEN   \u001b[0m │ \u001b[32mVA      \u001b[0m │ \u001b[32mLEE              \u001b[0m │ \u001b[32m51105      \u001b[0m │ \u001b[32mLEE              \u001b[0m │ \u001b[32m51105            \u001b[0m │ \u001b[32mTODD EDWARD PILLION        \u001b[0m │ False   │\n",
       "│        \u001b[1;36m8\u001b[0m │ \u001b[32mRepublican \u001b[0m │ \u001b[32m501 - INDIAN VALLEY    \u001b[0m │ \u001b[2mNULL\u001b[0m               │ \u001b[2mNULL\u001b[0m         │ \u001b[32mCommonwealth's Attorney                                        \u001b[0m │  \u001b[1;36m2019\u001b[0m │ \u001b[32m677   \u001b[0m │ \u001b[35m2019-11-05\u001b[0m │ False        │ False   │ \u001b[32mGEN   \u001b[0m │ \u001b[32mVA      \u001b[0m │ \u001b[32mFLOYD            \u001b[0m │ \u001b[32m51063      \u001b[0m │ \u001b[32mFLOYD            \u001b[0m │ \u001b[32m51063            \u001b[0m │ \u001b[32mWILLIAM ERIC BRANSCOM      \u001b[0m │ False   │\n",
       "│        \u001b[1;36m9\u001b[0m │ \u001b[32mIndependent\u001b[0m │ \u001b[32m203 -  WEST            \u001b[0m │ \u001b[2mNULL\u001b[0m               │ \u001b[2mNULL\u001b[0m         │ \u001b[32mSoil and Water Conservation Director Shenandoah Valley District\u001b[0m │  \u001b[1;36m2019\u001b[0m │ \u001b[32m757   \u001b[0m │ \u001b[35m2019-11-05\u001b[0m │ False        │ False   │ \u001b[32mGEN   \u001b[0m │ \u001b[32mVA      \u001b[0m │ \u001b[32mHARRISONBURG CITY\u001b[0m │ \u001b[32m51660      \u001b[0m │ \u001b[32mHARRISONBURG CITY\u001b[0m │ \u001b[32m51660            \u001b[0m │ \u001b[32mWILLIAM KNUT LATHAM        \u001b[0m │ False   │\n",
       "│        \u001b[2m…\u001b[0m │ \u001b[2m…\u001b[0m           │ \u001b[2m…\u001b[0m                       │ \u001b[2m…\u001b[0m                  │ \u001b[2m…\u001b[0m            │ \u001b[2m…\u001b[0m                                                               │     \u001b[2m…\u001b[0m │ \u001b[2m…\u001b[0m      │ \u001b[2m…\u001b[0m          │ \u001b[2m…\u001b[0m            │ \u001b[2m…\u001b[0m       │ \u001b[2m…\u001b[0m      │ \u001b[2m…\u001b[0m        │ \u001b[2m…\u001b[0m                 │ \u001b[2m…\u001b[0m           │ \u001b[2m…\u001b[0m                 │ \u001b[2m…\u001b[0m                 │ \u001b[2m…\u001b[0m                           │ \u001b[2m…\u001b[0m       │\n",
       "└──────────┴─────────────┴─────────────────────────┴────────────────────┴──────────────┴─────────────────────────────────────────────────────────────────┴───────┴────────┴────────────┴──────────────┴─────────┴────────┴──────────┴───────────────────┴─────────────┴───────────────────┴───────────────────┴─────────────────────────────┴─────────┘"
      ]
     },
     "execution_count": 9,
     "metadata": {},
     "output_type": "execute_result"
    }
   ],
   "source": [
    "t = t.mutate(\n",
    "    candidate=(\n",
    "        _.FirstName.fill_null(\"\")\n",
    "        + \" \"\n",
    "        + _.MiddleName.fill_null(\"\")\n",
    "        + \" \"\n",
    "        + _.LastName.fill_null(\"\")\n",
    "        + \" \"\n",
    "        + _.Suffix.fill_null(\"\")\n",
    "    )\n",
    "    .re_replace(r\"\\s+\", \" \")\n",
    "    .strip()\n",
    "    .upper(),\n",
    ").drop(\"FirstName\", \"MiddleName\", \"LastName\", \"Suffix\")\n",
    "\n",
    "assert (t.filter(_.WriteInVote != 0).candidate == \"WRITE IN VOTES\").all().execute()\n",
    "assert (t.filter(_.WriteInVote == 0).candidate != \"WRITE IN VOTES\").all().execute()\n",
    "assert (t.filter(_.candidate == \"WRITE IN VOTES\").WriteInVote == 1).all().execute()\n",
    "assert (t.filter(_.candidate != \"WRITE IN VOTES\").WriteInVote == 0).all().execute()\n",
    "\n",
    "t = t.mutate(\n",
    "    writein=_.WriteInVote == 1,\n",
    "    candidate=ibis.case().when(_.WriteInVote == 1, \"WRITEIN\").else_(_.candidate).end(),\n",
    ").drop(\"WriteInVote\")\n",
    "t.widget()"
   ]
  },
  {
   "cell_type": "markdown",
   "metadata": {},
   "source": [
    "## Fix Party"
   ]
  },
  {
   "cell_type": "code",
   "execution_count": 10,
   "metadata": {},
   "outputs": [],
   "source": [
    "# when party is write-in, that isn't a writein *candidate*:\n",
    "# Their name actually appeared on the ballot, but they chose to\n",
    "# use the write-in party.\n",
    "assert (~t.filter(_.Party == \"Write-In\").writein).all().execute()"
   ]
  },
  {
   "cell_type": "code",
   "execution_count": 11,
   "metadata": {},
   "outputs": [],
   "source": [
    "party_mapping = {\n",
    "    \"Democratic\": (\"DEMOCRAT\", \"DEMOCRAT\"),\n",
    "    \"Republican\": (\"REPUBLICAN\", \"REPUBLICAN\"),\n",
    "    \"Libertarian\": (\"LIBERTARIAN\", \"LIBERTARIAN\"),\n",
    "    \"Liberation\": (\"OTHER\", \"LIBERATION\"),\n",
    "    \"Green\": (\"GREEN\", \"GREEN\"),\n",
    "    \"Independent\": (\"INDEPENDENT\", \"INDEPENDENT\"),\n",
    "    \"Write-In\": (\"OTHER\", None),\n",
    "}\n",
    "# Verify the values in the column are always one of the above\n",
    "assert t.Party.isin(list(party_mapping)).all().execute()\n",
    "simplified = ed.util.cases(*[(t.Party == k, v[0]) for k, v in party_mapping.items()])\n",
    "detailed = ed.util.cases(*[(t.Party == k, v[1]) for k, v in party_mapping.items()])\n",
    "t = t.mutate(party_simplified=simplified, party_detailed=detailed).drop(\"Party\")\n",
    "ed.tests.test_party(t)"
   ]
  },
  {
   "cell_type": "markdown",
   "metadata": {},
   "source": [
    "## Precinct check\n",
    "\n",
    "It looks like there isn't anything crazy going on here. Just normalize the strings and call it good."
   ]
  },
  {
   "cell_type": "code",
   "execution_count": 12,
   "metadata": {},
   "outputs": [
    {
     "data": {
      "application/vnd.jupyter.widget-view+json": {
       "model_id": "4a5447a3a1674c728be8005455e92c49",
       "version_major": 2,
       "version_minor": 0
      },
      "text/plain": [
       "┏━━━━━━━━━━┳━━━━━━━━━━━━━━━━━━━━━━━━━━━━━━━━━━┳━━━━━━━━┳━━━━━━━━━━━━━━━━━━━━━━━━━━━━━━━━━━┳━━━━━━━┓\n",
       "┃\u001b[1m \u001b[0m\u001b[1m__row_id\u001b[0m\u001b[1m \u001b[0m┃\u001b[1m \u001b[0m\u001b[1mprecinct\u001b[0m\u001b[1m                        \u001b[0m\u001b[1m \u001b[0m┃\u001b[1m \u001b[0m\u001b[1mn_gold\u001b[0m\u001b[1m \u001b[0m┃\u001b[1m \u001b[0m\u001b[1mprecinct_right\u001b[0m\u001b[1m                  \u001b[0m\u001b[1m \u001b[0m┃\u001b[1m \u001b[0m\u001b[1mn_t\u001b[0m\u001b[1m  \u001b[0m\u001b[1m \u001b[0m┃\n",
       "┡━━━━━━━━━━╇━━━━━━━━━━━━━━━━━━━━━━━━━━━━━━━━━━╇━━━━━━━━╇━━━━━━━━━━━━━━━━━━━━━━━━━━━━━━━━━━╇━━━━━━━┩\n",
       "│ \u001b[2mint64\u001b[0m    │ \u001b[2mstring\u001b[0m                           │ \u001b[2mint64\u001b[0m  │ \u001b[2mstring\u001b[0m                           │ \u001b[2mint64\u001b[0m │\n",
       "├──────────┼──────────────────────────────────┼────────┼──────────────────────────────────┼───────┤\n",
       "│        \u001b[1;36m0\u001b[0m │ \u001b[32m## PROVISIONAL                  \u001b[0m │   \u001b[1;36m4205\u001b[0m │ \u001b[32m## PROVISIONAL                  \u001b[0m │ \u001b[1;36m12245\u001b[0m │\n",
       "│        \u001b[1;36m1\u001b[0m │ \u001b[32m# AB - CENTRAL ABSENTEE PRECINCT\u001b[0m │   \u001b[1;36m2446\u001b[0m │ \u001b[32m# AB - CENTRAL ABSENTEE PRECINCT\u001b[0m │  \u001b[1;36m8265\u001b[0m │\n",
       "│        \u001b[1;36m2\u001b[0m │ \u001b[32m##EV - CENTRAL ABSENTEE PRECINCT\u001b[0m │   \u001b[1;36m2384\u001b[0m │ \u001b[32m##EV - CENTRAL ABSENTEE PRECINCT\u001b[0m │  \u001b[1;36m3742\u001b[0m │\n",
       "│        \u001b[1;36m3\u001b[0m │ \u001b[32m##AB - CENTRAL ABSENTEE PRECINCT\u001b[0m │   \u001b[1;36m2376\u001b[0m │ \u001b[32m##AB - CENTRAL ABSENTEE PRECINCT\u001b[0m │  \u001b[1;36m3740\u001b[0m │\n",
       "│        \u001b[1;36m4\u001b[0m │ \u001b[32m##PE - CENTRAL ABSENTEE PRECINCT\u001b[0m │   \u001b[1;36m2241\u001b[0m │ \u001b[32m##PE - CENTRAL ABSENTEE PRECINCT\u001b[0m │  \u001b[1;36m3738\u001b[0m │\n",
       "│        \u001b[1;36m5\u001b[0m │ \u001b[32m501 - PRECINCT 5-1              \u001b[0m │    \u001b[1;36m224\u001b[0m │ \u001b[32m501 - PRECINCT 5-1              \u001b[0m │   \u001b[1;36m420\u001b[0m │\n",
       "│        \u001b[1;36m6\u001b[0m │ \u001b[32m301 - PRECINCT 3-1              \u001b[0m │    \u001b[1;36m217\u001b[0m │ \u001b[32m301 - PRECINCT 3-1              \u001b[0m │   \u001b[1;36m476\u001b[0m │\n",
       "│        \u001b[1;36m7\u001b[0m │ \u001b[32m201 - PRECINCT 2-1              \u001b[0m │    \u001b[1;36m216\u001b[0m │ \u001b[32m201 - PRECINCT 2-1              \u001b[0m │   \u001b[1;36m472\u001b[0m │\n",
       "│        \u001b[1;36m8\u001b[0m │ \u001b[32m101 - PRECINCT 1-1              \u001b[0m │    \u001b[1;36m216\u001b[0m │ \u001b[32m101 - PRECINCT 1-1              \u001b[0m │   \u001b[1;36m475\u001b[0m │\n",
       "│        \u001b[1;36m9\u001b[0m │ \u001b[32m401 - PRECINCT 4-1              \u001b[0m │    \u001b[1;36m202\u001b[0m │ \u001b[32m401 - PRECINCT 4-1              \u001b[0m │   \u001b[1;36m410\u001b[0m │\n",
       "│        \u001b[2m…\u001b[0m │ \u001b[2m…\u001b[0m                                │      \u001b[2m…\u001b[0m │ \u001b[2m…\u001b[0m                                │     \u001b[2m…\u001b[0m │\n",
       "└──────────┴──────────────────────────────────┴────────┴──────────────────────────────────┴───────┘"
      ]
     },
     "execution_count": 12,
     "metadata": {},
     "output_type": "execute_result"
    }
   ],
   "source": [
    "vc_gold = gold_va.precinct.upper().name(\"precinct\").value_counts(name=\"n_gold\")\n",
    "vc_t = t.PrecinctName.upper().name(\"precinct\").value_counts(name=\"n_t\")\n",
    "vc = vc_gold.outer_join(vc_t, \"precinct\")\n",
    "vc.order_by(_.n_gold.desc()).widget()"
   ]
  },
  {
   "cell_type": "code",
   "execution_count": 13,
   "metadata": {},
   "outputs": [
    {
     "data": {
      "application/vnd.jupyter.widget-view+json": {
       "model_id": "084a1b84f501454d9b1d4cb95495bf8d",
       "version_major": 2,
       "version_minor": 0
      },
      "text/plain": [
       "┏━━━━━━━━━━┳━━━━━━━━━━━━━━━━━━━━━━━━━━━━━━━━━━┳━━━━━━━━┳━━━━━━━━━━━━━━━━━━━━━━━━━━━━━━━━━━┳━━━━━━━┓\n",
       "┃\u001b[1m \u001b[0m\u001b[1m__row_id\u001b[0m\u001b[1m \u001b[0m┃\u001b[1m \u001b[0m\u001b[1mprecinct\u001b[0m\u001b[1m                        \u001b[0m\u001b[1m \u001b[0m┃\u001b[1m \u001b[0m\u001b[1mn_gold\u001b[0m\u001b[1m \u001b[0m┃\u001b[1m \u001b[0m\u001b[1mprecinct_right\u001b[0m\u001b[1m                  \u001b[0m\u001b[1m \u001b[0m┃\u001b[1m \u001b[0m\u001b[1mn_t\u001b[0m\u001b[1m  \u001b[0m\u001b[1m \u001b[0m┃\n",
       "┡━━━━━━━━━━╇━━━━━━━━━━━━━━━━━━━━━━━━━━━━━━━━━━╇━━━━━━━━╇━━━━━━━━━━━━━━━━━━━━━━━━━━━━━━━━━━╇━━━━━━━┩\n",
       "│ \u001b[2mint64\u001b[0m    │ \u001b[2mstring\u001b[0m                           │ \u001b[2mint64\u001b[0m  │ \u001b[2mstring\u001b[0m                           │ \u001b[2mint64\u001b[0m │\n",
       "├──────────┼──────────────────────────────────┼────────┼──────────────────────────────────┼───────┤\n",
       "│        \u001b[1;36m0\u001b[0m │ \u001b[32m## PROVISIONAL                  \u001b[0m │   \u001b[1;36m4205\u001b[0m │ \u001b[32m## PROVISIONAL                  \u001b[0m │ \u001b[1;36m12245\u001b[0m │\n",
       "│        \u001b[1;36m1\u001b[0m │ \u001b[32m# AB - CENTRAL ABSENTEE PRECINCT\u001b[0m │   \u001b[1;36m2446\u001b[0m │ \u001b[32m# AB - CENTRAL ABSENTEE PRECINCT\u001b[0m │  \u001b[1;36m8265\u001b[0m │\n",
       "│        \u001b[1;36m2\u001b[0m │ \u001b[32m##EV - CENTRAL ABSENTEE PRECINCT\u001b[0m │   \u001b[1;36m2384\u001b[0m │ \u001b[32m##EV - CENTRAL ABSENTEE PRECINCT\u001b[0m │  \u001b[1;36m3742\u001b[0m │\n",
       "│        \u001b[1;36m3\u001b[0m │ \u001b[32m##AB - CENTRAL ABSENTEE PRECINCT\u001b[0m │   \u001b[1;36m2376\u001b[0m │ \u001b[32m##AB - CENTRAL ABSENTEE PRECINCT\u001b[0m │  \u001b[1;36m3740\u001b[0m │\n",
       "│        \u001b[1;36m4\u001b[0m │ \u001b[32m##PE - CENTRAL ABSENTEE PRECINCT\u001b[0m │   \u001b[1;36m2241\u001b[0m │ \u001b[32m##PE - CENTRAL ABSENTEE PRECINCT\u001b[0m │  \u001b[1;36m3738\u001b[0m │\n",
       "│        \u001b[1;36m5\u001b[0m │ \u001b[32m301 - PRECINCT 3-1              \u001b[0m │    \u001b[1;36m217\u001b[0m │ \u001b[32m301 - PRECINCT 3-1              \u001b[0m │   \u001b[1;36m476\u001b[0m │\n",
       "│        \u001b[1;36m6\u001b[0m │ \u001b[32m101 - PRECINCT 1-1              \u001b[0m │    \u001b[1;36m216\u001b[0m │ \u001b[32m101 - PRECINCT 1-1              \u001b[0m │   \u001b[1;36m475\u001b[0m │\n",
       "│        \u001b[1;36m7\u001b[0m │ \u001b[32m201 - PRECINCT 2-1              \u001b[0m │    \u001b[1;36m216\u001b[0m │ \u001b[32m201 - PRECINCT 2-1              \u001b[0m │   \u001b[1;36m472\u001b[0m │\n",
       "│        \u001b[1;36m8\u001b[0m │ \u001b[32m501 - PRECINCT 5-1              \u001b[0m │    \u001b[1;36m224\u001b[0m │ \u001b[32m501 - PRECINCT 5-1              \u001b[0m │   \u001b[1;36m420\u001b[0m │\n",
       "│        \u001b[1;36m9\u001b[0m │ \u001b[32m401 - PRECINCT 4-1              \u001b[0m │    \u001b[1;36m202\u001b[0m │ \u001b[32m401 - PRECINCT 4-1              \u001b[0m │   \u001b[1;36m410\u001b[0m │\n",
       "│        \u001b[2m…\u001b[0m │ \u001b[2m…\u001b[0m                                │      \u001b[2m…\u001b[0m │ \u001b[2m…\u001b[0m                                │     \u001b[2m…\u001b[0m │\n",
       "└──────────┴──────────────────────────────────┴────────┴──────────────────────────────────┴───────┘"
      ]
     },
     "execution_count": 13,
     "metadata": {},
     "output_type": "execute_result"
    }
   ],
   "source": [
    "vc.order_by(_.n_t.desc()).widget()"
   ]
  },
  {
   "cell_type": "code",
   "execution_count": 14,
   "metadata": {},
   "outputs": [],
   "source": [
    "t = t.mutate(precinct=_.PrecinctName.upper().strip().replace(\" & \", \" AND \")).drop(\n",
    "    \"PrecinctName\"\n",
    ")"
   ]
  },
  {
   "cell_type": "code",
   "execution_count": 15,
   "metadata": {},
   "outputs": [
    {
     "ename": "SchemaMismatchError",
     "evalue": "Extra columns: {'OfficeTitle', 'DistrictType', 'DistrictName'}\nMissing columns: {'district', 'mode', 'office', 'magnitude'}\nConflicting columns: set()\nColumns out of order: set()",
     "output_type": "error",
     "traceback": [
      "\u001b[0;31m---------------------------------------------------------------------------\u001b[0m",
      "\u001b[0;31mSchemaMismatchError\u001b[0m                       Traceback (most recent call last)",
      "Cell \u001b[0;32mIn[15], line 1\u001b[0m\n\u001b[0;32m----> 1\u001b[0m \u001b[43med\u001b[49m\u001b[38;5;241;43m.\u001b[39;49m\u001b[43mtests\u001b[49m\u001b[38;5;241;43m.\u001b[39;49m\u001b[43mtest_schema\u001b[49m\u001b[43m(\u001b[49m\u001b[43mt\u001b[49m\u001b[43m)\u001b[49m\n",
      "File \u001b[0;32m~/code/scg/election-data/election_data/tests/test_schema.py:44\u001b[0m, in \u001b[0;36mtest_schema\u001b[0;34m(t)\u001b[0m\n\u001b[1;32m     41\u001b[0m     out_of_order \u001b[38;5;241m=\u001b[39m \u001b[38;5;28mset\u001b[39m()\n\u001b[1;32m     43\u001b[0m \u001b[38;5;28;01mif\u001b[39;00m extra \u001b[38;5;129;01mor\u001b[39;00m missing \u001b[38;5;129;01mor\u001b[39;00m conflicts \u001b[38;5;129;01mor\u001b[39;00m out_of_order:\n\u001b[0;32m---> 44\u001b[0m     \u001b[38;5;28;01mraise\u001b[39;00m SchemaMismatchError(extra, missing, conflicts, out_of_order)\n",
      "\u001b[0;31mSchemaMismatchError\u001b[0m: Extra columns: {'OfficeTitle', 'DistrictType', 'DistrictName'}\nMissing columns: {'district', 'mode', 'office', 'magnitude'}\nConflicting columns: set()\nColumns out of order: set()"
     ]
    }
   ],
   "source": [
    "ed.tests.test_schema(t)"
   ]
  },
  {
   "cell_type": "markdown",
   "metadata": {},
   "source": [
    "## Fix office"
   ]
  },
  {
   "cell_type": "code",
   "execution_count": 20,
   "metadata": {},
   "outputs": [
    {
     "data": {
      "text/html": [
       "<pre style=\"white-space:pre;overflow-x:auto;line-height:normal;font-family:Menlo,'DejaVu Sans Mono',consolas,'Courier New',monospace\">┏━━━━━━━━━━━━━━━━━━━━━━━━━━━━━━━━━━━━━━━━━━━━━━┳━━━━━━━┳━━━━━━━━━━━━━━━━━━━━━━━━━━━━━━━┳━━━━━━━┓\n",
       "┃<span style=\"font-weight: bold\"> val_a                                        </span>┃<span style=\"font-weight: bold\"> n_a   </span>┃<span style=\"font-weight: bold\"> val_b                         </span>┃<span style=\"font-weight: bold\"> n_b   </span>┃\n",
       "┡━━━━━━━━━━━━━━━━━━━━━━━━━━━━━━━━━━━━━━━━━━━━━━╇━━━━━━━╇━━━━━━━━━━━━━━━━━━━━━━━━━━━━━━━╇━━━━━━━┩\n",
       "│ <span style=\"color: #7f7f7f; text-decoration-color: #7f7f7f\">string</span>                                       │ <span style=\"color: #7f7f7f; text-decoration-color: #7f7f7f\">int64</span> │ <span style=\"color: #7f7f7f; text-decoration-color: #7f7f7f\">string</span>                        │ <span style=\"color: #7f7f7f; text-decoration-color: #7f7f7f\">int64</span> │\n",
       "├──────────────────────────────────────────────┼───────┼───────────────────────────────┼───────┤\n",
       "│ <span style=\"color: #008000; text-decoration-color: #008000\">US HOUSE                                    </span> │ <span style=\"color: #008080; text-decoration-color: #008080; font-weight: bold\">26558</span> │ <span style=\"color: #7f7f7f; text-decoration-color: #7f7f7f\">NULL</span>                          │  <span style=\"color: #7f7f7f; text-decoration-color: #7f7f7f\">NULL</span> │\n",
       "│ <span style=\"color: #008000; text-decoration-color: #008000\">US SENATE                                   </span> │ <span style=\"color: #008080; text-decoration-color: #008080; font-weight: bold\">19122</span> │ <span style=\"color: #7f7f7f; text-decoration-color: #7f7f7f\">NULL</span>                          │  <span style=\"color: #7f7f7f; text-decoration-color: #7f7f7f\">NULL</span> │\n",
       "│ <span style=\"color: #008000; text-decoration-color: #008000\">US PRESIDENT                                </span> │ <span style=\"color: #008080; text-decoration-color: #008080; font-weight: bold\">11100</span> │ <span style=\"color: #7f7f7f; text-decoration-color: #7f7f7f\">NULL</span>                          │  <span style=\"color: #7f7f7f; text-decoration-color: #7f7f7f\">NULL</span> │\n",
       "│ <span style=\"color: #008000; text-decoration-color: #008000\">PROPOSED CONSTITUTIONAL AMENDMENT QUESTION 2</span> │  <span style=\"color: #008080; text-decoration-color: #008080; font-weight: bold\">5510</span> │ <span style=\"color: #7f7f7f; text-decoration-color: #7f7f7f\">NULL</span>                          │  <span style=\"color: #7f7f7f; text-decoration-color: #7f7f7f\">NULL</span> │\n",
       "│ <span style=\"color: #008000; text-decoration-color: #008000\">PROPOSED CONSTITUTIONAL AMENDMENT QUESTION 1</span> │  <span style=\"color: #008080; text-decoration-color: #008080; font-weight: bold\">5510</span> │ <span style=\"color: #7f7f7f; text-decoration-color: #7f7f7f\">NULL</span>                          │  <span style=\"color: #7f7f7f; text-decoration-color: #7f7f7f\">NULL</span> │\n",
       "│ <span style=\"color: #008000; text-decoration-color: #008000\">MEMBER CITY COUNCIL                         </span> │  <span style=\"color: #008080; text-decoration-color: #008080; font-weight: bold\">3491</span> │ <span style=\"color: #008000; text-decoration-color: #008000\">MEMBER CITY COUNCIL          </span> │   <span style=\"color: #008080; text-decoration-color: #008080; font-weight: bold\">986</span> │\n",
       "│ <span style=\"color: #008000; text-decoration-color: #008000\">MEMBER SCHOOL BOARD                         </span> │  <span style=\"color: #008080; text-decoration-color: #008080; font-weight: bold\">3318</span> │ <span style=\"color: #008000; text-decoration-color: #008000\">MEMBER SCHOOL BOARD          </span> │ <span style=\"color: #008080; text-decoration-color: #008080; font-weight: bold\">10764</span> │\n",
       "│ <span style=\"color: #008000; text-decoration-color: #008000\">MEMBER TOWN COUNCIL                         </span> │  <span style=\"color: #008080; text-decoration-color: #008080; font-weight: bold\">1973</span> │ <span style=\"color: #008000; text-decoration-color: #008000\">MEMBER TOWN COUNCIL          </span> │   <span style=\"color: #008080; text-decoration-color: #008080; font-weight: bold\">966</span> │\n",
       "│ <span style=\"color: #008000; text-decoration-color: #008000\">MAYOR                                       </span> │   <span style=\"color: #008080; text-decoration-color: #008080; font-weight: bold\">928</span> │ <span style=\"color: #008000; text-decoration-color: #008000\">MAYOR                        </span> │   <span style=\"color: #008080; text-decoration-color: #008080; font-weight: bold\">466</span> │\n",
       "│ <span style=\"color: #008000; text-decoration-color: #008000\">MEMBER SCHOOL BOARD - SPECIAL               </span> │   <span style=\"color: #008080; text-decoration-color: #008080; font-weight: bold\">392</span> │ <span style=\"color: #008000; text-decoration-color: #008000\">MEMBER SCHOOL BOARD - SPECIAL</span> │   <span style=\"color: #008080; text-decoration-color: #008080; font-weight: bold\">149</span> │\n",
       "│ <span style=\"color: #7f7f7f; text-decoration-color: #7f7f7f\">…</span>                                            │     <span style=\"color: #7f7f7f; text-decoration-color: #7f7f7f\">…</span> │ <span style=\"color: #7f7f7f; text-decoration-color: #7f7f7f\">…</span>                             │     <span style=\"color: #7f7f7f; text-decoration-color: #7f7f7f\">…</span> │\n",
       "└──────────────────────────────────────────────┴───────┴───────────────────────────────┴───────┘\n",
       "</pre>\n"
      ],
      "text/plain": [
       "┏━━━━━━━━━━━━━━━━━━━━━━━━━━━━━━━━━━━━━━━━━━━━━━┳━━━━━━━┳━━━━━━━━━━━━━━━━━━━━━━━━━━━━━━━┳━━━━━━━┓\n",
       "┃\u001b[1m \u001b[0m\u001b[1mval_a\u001b[0m\u001b[1m                                       \u001b[0m\u001b[1m \u001b[0m┃\u001b[1m \u001b[0m\u001b[1mn_a\u001b[0m\u001b[1m  \u001b[0m\u001b[1m \u001b[0m┃\u001b[1m \u001b[0m\u001b[1mval_b\u001b[0m\u001b[1m                        \u001b[0m\u001b[1m \u001b[0m┃\u001b[1m \u001b[0m\u001b[1mn_b\u001b[0m\u001b[1m  \u001b[0m\u001b[1m \u001b[0m┃\n",
       "┡━━━━━━━━━━━━━━━━━━━━━━━━━━━━━━━━━━━━━━━━━━━━━━╇━━━━━━━╇━━━━━━━━━━━━━━━━━━━━━━━━━━━━━━━╇━━━━━━━┩\n",
       "│ \u001b[2mstring\u001b[0m                                       │ \u001b[2mint64\u001b[0m │ \u001b[2mstring\u001b[0m                        │ \u001b[2mint64\u001b[0m │\n",
       "├──────────────────────────────────────────────┼───────┼───────────────────────────────┼───────┤\n",
       "│ \u001b[32mUS HOUSE                                    \u001b[0m │ \u001b[1;36m26558\u001b[0m │ \u001b[2mNULL\u001b[0m                          │  \u001b[2mNULL\u001b[0m │\n",
       "│ \u001b[32mUS SENATE                                   \u001b[0m │ \u001b[1;36m19122\u001b[0m │ \u001b[2mNULL\u001b[0m                          │  \u001b[2mNULL\u001b[0m │\n",
       "│ \u001b[32mUS PRESIDENT                                \u001b[0m │ \u001b[1;36m11100\u001b[0m │ \u001b[2mNULL\u001b[0m                          │  \u001b[2mNULL\u001b[0m │\n",
       "│ \u001b[32mPROPOSED CONSTITUTIONAL AMENDMENT QUESTION 2\u001b[0m │  \u001b[1;36m5510\u001b[0m │ \u001b[2mNULL\u001b[0m                          │  \u001b[2mNULL\u001b[0m │\n",
       "│ \u001b[32mPROPOSED CONSTITUTIONAL AMENDMENT QUESTION 1\u001b[0m │  \u001b[1;36m5510\u001b[0m │ \u001b[2mNULL\u001b[0m                          │  \u001b[2mNULL\u001b[0m │\n",
       "│ \u001b[32mMEMBER CITY COUNCIL                         \u001b[0m │  \u001b[1;36m3491\u001b[0m │ \u001b[32mMEMBER CITY COUNCIL          \u001b[0m │   \u001b[1;36m986\u001b[0m │\n",
       "│ \u001b[32mMEMBER SCHOOL BOARD                         \u001b[0m │  \u001b[1;36m3318\u001b[0m │ \u001b[32mMEMBER SCHOOL BOARD          \u001b[0m │ \u001b[1;36m10764\u001b[0m │\n",
       "│ \u001b[32mMEMBER TOWN COUNCIL                         \u001b[0m │  \u001b[1;36m1973\u001b[0m │ \u001b[32mMEMBER TOWN COUNCIL          \u001b[0m │   \u001b[1;36m966\u001b[0m │\n",
       "│ \u001b[32mMAYOR                                       \u001b[0m │   \u001b[1;36m928\u001b[0m │ \u001b[32mMAYOR                        \u001b[0m │   \u001b[1;36m466\u001b[0m │\n",
       "│ \u001b[32mMEMBER SCHOOL BOARD - SPECIAL               \u001b[0m │   \u001b[1;36m392\u001b[0m │ \u001b[32mMEMBER SCHOOL BOARD - SPECIAL\u001b[0m │   \u001b[1;36m149\u001b[0m │\n",
       "│ \u001b[2m…\u001b[0m                                            │     \u001b[2m…\u001b[0m │ \u001b[2m…\u001b[0m                             │     \u001b[2m…\u001b[0m │\n",
       "└──────────────────────────────────────────────┴───────┴───────────────────────────────┴───────┘"
      ]
     },
     "metadata": {},
     "output_type": "display_data"
    },
    {
     "data": {
      "text/html": [
       "<pre style=\"white-space:pre;overflow-x:auto;line-height:normal;font-family:Menlo,'DejaVu Sans Mono',consolas,'Courier New',monospace\">┏━━━━━━━━━━━━━━━━━━━━━━━━━━━━━┳━━━━━━━┳━━━━━━━━━━━━━━━━━━━━━━━━━━━━━┳━━━━━━━┓\n",
       "┃<span style=\"font-weight: bold\"> val_a                       </span>┃<span style=\"font-weight: bold\"> n_a   </span>┃<span style=\"font-weight: bold\"> val_b                       </span>┃<span style=\"font-weight: bold\"> n_b   </span>┃\n",
       "┡━━━━━━━━━━━━━━━━━━━━━━━━━━━━━╇━━━━━━━╇━━━━━━━━━━━━━━━━━━━━━━━━━━━━━╇━━━━━━━┩\n",
       "│ <span style=\"color: #7f7f7f; text-decoration-color: #7f7f7f\">string</span>                      │ <span style=\"color: #7f7f7f; text-decoration-color: #7f7f7f\">int64</span> │ <span style=\"color: #7f7f7f; text-decoration-color: #7f7f7f\">string</span>                      │ <span style=\"color: #7f7f7f; text-decoration-color: #7f7f7f\">int64</span> │\n",
       "├─────────────────────────────┼───────┼─────────────────────────────┼───────┤\n",
       "│ <span style=\"color: #7f7f7f; text-decoration-color: #7f7f7f\">NULL</span>                        │  <span style=\"color: #7f7f7f; text-decoration-color: #7f7f7f\">NULL</span> │ <span style=\"color: #008000; text-decoration-color: #008000\">MEMBER HOUSE OF DELEGATES  </span> │ <span style=\"color: #008080; text-decoration-color: #008080; font-weight: bold\">28390</span> │\n",
       "│ <span style=\"color: #7f7f7f; text-decoration-color: #7f7f7f\">NULL</span>                        │  <span style=\"color: #7f7f7f; text-decoration-color: #7f7f7f\">NULL</span> │ <span style=\"color: #008000; text-decoration-color: #008000\">GOVERNOR                   </span> │ <span style=\"color: #008080; text-decoration-color: #008080; font-weight: bold\">23332</span> │\n",
       "│ <span style=\"color: #7f7f7f; text-decoration-color: #7f7f7f\">NULL</span>                        │  <span style=\"color: #7f7f7f; text-decoration-color: #7f7f7f\">NULL</span> │ <span style=\"color: #008000; text-decoration-color: #008000\">LIEUTENANT GOVERNOR        </span> │ <span style=\"color: #008080; text-decoration-color: #008080; font-weight: bold\">17499</span> │\n",
       "│ <span style=\"color: #7f7f7f; text-decoration-color: #7f7f7f\">NULL</span>                        │  <span style=\"color: #7f7f7f; text-decoration-color: #7f7f7f\">NULL</span> │ <span style=\"color: #008000; text-decoration-color: #008000\">ATTORNEY GENERAL           </span> │ <span style=\"color: #008080; text-decoration-color: #008080; font-weight: bold\">17499</span> │\n",
       "│ <span style=\"color: #008000; text-decoration-color: #008000\">MEMBER SCHOOL BOARD        </span> │  <span style=\"color: #008080; text-decoration-color: #008080; font-weight: bold\">3318</span> │ <span style=\"color: #008000; text-decoration-color: #008000\">MEMBER SCHOOL BOARD        </span> │ <span style=\"color: #008080; text-decoration-color: #008080; font-weight: bold\">10764</span> │\n",
       "│ <span style=\"color: #008000; text-decoration-color: #008000\">SHERIFF                    </span> │    <span style=\"color: #008080; text-decoration-color: #008080; font-weight: bold\">55</span> │ <span style=\"color: #008000; text-decoration-color: #008000\">SHERIFF                    </span> │ <span style=\"color: #008080; text-decoration-color: #008080; font-weight: bold\">10085</span> │\n",
       "│ <span style=\"color: #008000; text-decoration-color: #008000\">MEMBER BOARD OF SUPERVISORS</span> │   <span style=\"color: #008080; text-decoration-color: #008080; font-weight: bold\">279</span> │ <span style=\"color: #008000; text-decoration-color: #008000\">MEMBER BOARD OF SUPERVISORS</span> │  <span style=\"color: #008080; text-decoration-color: #008080; font-weight: bold\">9933</span> │\n",
       "│ <span style=\"color: #008000; text-decoration-color: #008000\">COMMONWEALTH'S ATTORNEY    </span> │   <span style=\"color: #008080; text-decoration-color: #008080; font-weight: bold\">246</span> │ <span style=\"color: #008000; text-decoration-color: #008000\">COMMONWEALTH'S ATTORNEY    </span> │  <span style=\"color: #008080; text-decoration-color: #008080; font-weight: bold\">8332</span> │\n",
       "│ <span style=\"color: #7f7f7f; text-decoration-color: #7f7f7f\">NULL</span>                        │  <span style=\"color: #7f7f7f; text-decoration-color: #7f7f7f\">NULL</span> │ <span style=\"color: #008000; text-decoration-color: #008000\">MEMBER SENATE OF VIRGINIA  </span> │  <span style=\"color: #008080; text-decoration-color: #008080; font-weight: bold\">8314</span> │\n",
       "│ <span style=\"color: #7f7f7f; text-decoration-color: #7f7f7f\">NULL</span>                        │  <span style=\"color: #7f7f7f; text-decoration-color: #7f7f7f\">NULL</span> │ <span style=\"color: #008000; text-decoration-color: #008000\">TREASURER                  </span> │  <span style=\"color: #008080; text-decoration-color: #008080; font-weight: bold\">7994</span> │\n",
       "│ <span style=\"color: #7f7f7f; text-decoration-color: #7f7f7f\">…</span>                           │     <span style=\"color: #7f7f7f; text-decoration-color: #7f7f7f\">…</span> │ <span style=\"color: #7f7f7f; text-decoration-color: #7f7f7f\">…</span>                           │     <span style=\"color: #7f7f7f; text-decoration-color: #7f7f7f\">…</span> │\n",
       "└─────────────────────────────┴───────┴─────────────────────────────┴───────┘\n",
       "</pre>\n"
      ],
      "text/plain": [
       "┏━━━━━━━━━━━━━━━━━━━━━━━━━━━━━┳━━━━━━━┳━━━━━━━━━━━━━━━━━━━━━━━━━━━━━┳━━━━━━━┓\n",
       "┃\u001b[1m \u001b[0m\u001b[1mval_a\u001b[0m\u001b[1m                      \u001b[0m\u001b[1m \u001b[0m┃\u001b[1m \u001b[0m\u001b[1mn_a\u001b[0m\u001b[1m  \u001b[0m\u001b[1m \u001b[0m┃\u001b[1m \u001b[0m\u001b[1mval_b\u001b[0m\u001b[1m                      \u001b[0m\u001b[1m \u001b[0m┃\u001b[1m \u001b[0m\u001b[1mn_b\u001b[0m\u001b[1m  \u001b[0m\u001b[1m \u001b[0m┃\n",
       "┡━━━━━━━━━━━━━━━━━━━━━━━━━━━━━╇━━━━━━━╇━━━━━━━━━━━━━━━━━━━━━━━━━━━━━╇━━━━━━━┩\n",
       "│ \u001b[2mstring\u001b[0m                      │ \u001b[2mint64\u001b[0m │ \u001b[2mstring\u001b[0m                      │ \u001b[2mint64\u001b[0m │\n",
       "├─────────────────────────────┼───────┼─────────────────────────────┼───────┤\n",
       "│ \u001b[2mNULL\u001b[0m                        │  \u001b[2mNULL\u001b[0m │ \u001b[32mMEMBER HOUSE OF DELEGATES  \u001b[0m │ \u001b[1;36m28390\u001b[0m │\n",
       "│ \u001b[2mNULL\u001b[0m                        │  \u001b[2mNULL\u001b[0m │ \u001b[32mGOVERNOR                   \u001b[0m │ \u001b[1;36m23332\u001b[0m │\n",
       "│ \u001b[2mNULL\u001b[0m                        │  \u001b[2mNULL\u001b[0m │ \u001b[32mLIEUTENANT GOVERNOR        \u001b[0m │ \u001b[1;36m17499\u001b[0m │\n",
       "│ \u001b[2mNULL\u001b[0m                        │  \u001b[2mNULL\u001b[0m │ \u001b[32mATTORNEY GENERAL           \u001b[0m │ \u001b[1;36m17499\u001b[0m │\n",
       "│ \u001b[32mMEMBER SCHOOL BOARD        \u001b[0m │  \u001b[1;36m3318\u001b[0m │ \u001b[32mMEMBER SCHOOL BOARD        \u001b[0m │ \u001b[1;36m10764\u001b[0m │\n",
       "│ \u001b[32mSHERIFF                    \u001b[0m │    \u001b[1;36m55\u001b[0m │ \u001b[32mSHERIFF                    \u001b[0m │ \u001b[1;36m10085\u001b[0m │\n",
       "│ \u001b[32mMEMBER BOARD OF SUPERVISORS\u001b[0m │   \u001b[1;36m279\u001b[0m │ \u001b[32mMEMBER BOARD OF SUPERVISORS\u001b[0m │  \u001b[1;36m9933\u001b[0m │\n",
       "│ \u001b[32mCOMMONWEALTH'S ATTORNEY    \u001b[0m │   \u001b[1;36m246\u001b[0m │ \u001b[32mCOMMONWEALTH'S ATTORNEY    \u001b[0m │  \u001b[1;36m8332\u001b[0m │\n",
       "│ \u001b[2mNULL\u001b[0m                        │  \u001b[2mNULL\u001b[0m │ \u001b[32mMEMBER SENATE OF VIRGINIA  \u001b[0m │  \u001b[1;36m8314\u001b[0m │\n",
       "│ \u001b[2mNULL\u001b[0m                        │  \u001b[2mNULL\u001b[0m │ \u001b[32mTREASURER                  \u001b[0m │  \u001b[1;36m7994\u001b[0m │\n",
       "│ \u001b[2m…\u001b[0m                           │     \u001b[2m…\u001b[0m │ \u001b[2m…\u001b[0m                           │     \u001b[2m…\u001b[0m │\n",
       "└─────────────────────────────┴───────┴─────────────────────────────┴───────┘"
      ]
     },
     "metadata": {},
     "output_type": "display_data"
    }
   ],
   "source": [
    "compare_values(gold_va.office, t.OfficeTitle)"
   ]
  },
  {
   "cell_type": "code",
   "execution_count": 21,
   "metadata": {},
   "outputs": [
    {
     "ename": "SchemaMismatchError",
     "evalue": "Extra columns: {'DistrictType', 'DistrictName'}\nMissing columns: {'district', 'mode', 'magnitude'}\nConflicting columns: set()\nColumns out of order: set()",
     "output_type": "error",
     "traceback": [
      "\u001b[0;31m---------------------------------------------------------------------------\u001b[0m",
      "\u001b[0;31mSchemaMismatchError\u001b[0m                       Traceback (most recent call last)",
      "Cell \u001b[0;32mIn[21], line 2\u001b[0m\n\u001b[1;32m      1\u001b[0m t \u001b[38;5;241m=\u001b[39m t\u001b[38;5;241m.\u001b[39mmutate(office\u001b[38;5;241m=\u001b[39m_\u001b[38;5;241m.\u001b[39mOfficeTitle\u001b[38;5;241m.\u001b[39mupper()\u001b[38;5;241m.\u001b[39mstrip())\u001b[38;5;241m.\u001b[39mdrop(\u001b[38;5;124m\"\u001b[39m\u001b[38;5;124mOfficeTitle\u001b[39m\u001b[38;5;124m\"\u001b[39m)\n\u001b[0;32m----> 2\u001b[0m \u001b[43med\u001b[49m\u001b[38;5;241;43m.\u001b[39;49m\u001b[43mtests\u001b[49m\u001b[38;5;241;43m.\u001b[39;49m\u001b[43mtest_schema\u001b[49m\u001b[43m(\u001b[49m\u001b[43mt\u001b[49m\u001b[43m)\u001b[49m\n",
      "File \u001b[0;32m~/code/scg/election-data/election_data/tests/test_schema.py:44\u001b[0m, in \u001b[0;36mtest_schema\u001b[0;34m(t)\u001b[0m\n\u001b[1;32m     41\u001b[0m     out_of_order \u001b[38;5;241m=\u001b[39m \u001b[38;5;28mset\u001b[39m()\n\u001b[1;32m     43\u001b[0m \u001b[38;5;28;01mif\u001b[39;00m extra \u001b[38;5;129;01mor\u001b[39;00m missing \u001b[38;5;129;01mor\u001b[39;00m conflicts \u001b[38;5;129;01mor\u001b[39;00m out_of_order:\n\u001b[0;32m---> 44\u001b[0m     \u001b[38;5;28;01mraise\u001b[39;00m SchemaMismatchError(extra, missing, conflicts, out_of_order)\n",
      "\u001b[0;31mSchemaMismatchError\u001b[0m: Extra columns: {'DistrictType', 'DistrictName'}\nMissing columns: {'district', 'mode', 'magnitude'}\nConflicting columns: set()\nColumns out of order: set()"
     ]
    }
   ],
   "source": [
    "t = t.mutate(office=_.OfficeTitle.upper().strip()).drop(\"OfficeTitle\")\n",
    "ed.tests.test_schema(t)"
   ]
  },
  {
   "cell_type": "code",
   "execution_count": 22,
   "metadata": {},
   "outputs": [
    {
     "data": {
      "text/html": [
       "<div>\n",
       "<style scoped>\n",
       "    .dataframe tbody tr th:only-of-type {\n",
       "        vertical-align: middle;\n",
       "    }\n",
       "\n",
       "    .dataframe tbody tr th {\n",
       "        vertical-align: top;\n",
       "    }\n",
       "\n",
       "    .dataframe thead th {\n",
       "        text-align: right;\n",
       "    }\n",
       "</style>\n",
       "<table border=\"1\" class=\"dataframe\">\n",
       "  <thead>\n",
       "    <tr style=\"text-align: right;\">\n",
       "      <th></th>\n",
       "      <th>mode</th>\n",
       "      <th>precinct</th>\n",
       "      <th>mode_precinct_count</th>\n",
       "    </tr>\n",
       "  </thead>\n",
       "  <tbody>\n",
       "    <tr>\n",
       "      <th>0</th>\n",
       "      <td>ABSENTEE</td>\n",
       "      <td># AB - CENTRAL ABSENTEE PRECINCT</td>\n",
       "      <td>2446</td>\n",
       "    </tr>\n",
       "    <tr>\n",
       "      <th>1</th>\n",
       "      <td>IN-PERSON</td>\n",
       "      <td>104 - WILSON</td>\n",
       "      <td>6</td>\n",
       "    </tr>\n",
       "    <tr>\n",
       "      <th>2</th>\n",
       "      <td>IN-PERSON</td>\n",
       "      <td>201 - CRIMORA</td>\n",
       "      <td>6</td>\n",
       "    </tr>\n",
       "    <tr>\n",
       "      <th>3</th>\n",
       "      <td>IN-PERSON</td>\n",
       "      <td>203 - WEYERS CAVE</td>\n",
       "      <td>6</td>\n",
       "    </tr>\n",
       "    <tr>\n",
       "      <th>4</th>\n",
       "      <td>IN-PERSON</td>\n",
       "      <td>302 - NORTH RIVER</td>\n",
       "      <td>6</td>\n",
       "    </tr>\n",
       "    <tr>\n",
       "      <th>...</th>\n",
       "      <td>...</td>\n",
       "      <td>...</td>\n",
       "      <td>...</td>\n",
       "    </tr>\n",
       "    <tr>\n",
       "      <th>2479</th>\n",
       "      <td>IN-PERSON</td>\n",
       "      <td>602 - MENDOTA</td>\n",
       "      <td>3</td>\n",
       "    </tr>\n",
       "    <tr>\n",
       "      <th>2480</th>\n",
       "      <td>IN-PERSON</td>\n",
       "      <td>001 - WARD A</td>\n",
       "      <td>3</td>\n",
       "    </tr>\n",
       "    <tr>\n",
       "      <th>2481</th>\n",
       "      <td>IN-PERSON</td>\n",
       "      <td>002 - WARD B</td>\n",
       "      <td>3</td>\n",
       "    </tr>\n",
       "    <tr>\n",
       "      <th>2482</th>\n",
       "      <td>IN-PERSON</td>\n",
       "      <td>502 - SHEFFEY</td>\n",
       "      <td>3</td>\n",
       "    </tr>\n",
       "    <tr>\n",
       "      <th>2483</th>\n",
       "      <td>IN-PERSON</td>\n",
       "      <td>602 - ZION</td>\n",
       "      <td>3</td>\n",
       "    </tr>\n",
       "  </tbody>\n",
       "</table>\n",
       "<p>2484 rows × 3 columns</p>\n",
       "</div>"
      ],
      "text/plain": [
       "           mode                          precinct  mode_precinct_count\n",
       "0      ABSENTEE  # AB - CENTRAL ABSENTEE PRECINCT                 2446\n",
       "1     IN-PERSON                      104 - WILSON                    6\n",
       "2     IN-PERSON                     201 - CRIMORA                    6\n",
       "3     IN-PERSON                 203 - WEYERS CAVE                    6\n",
       "4     IN-PERSON                 302 - NORTH RIVER                    6\n",
       "...         ...                               ...                  ...\n",
       "2479  IN-PERSON                     602 - MENDOTA                    3\n",
       "2480  IN-PERSON                      001 - WARD A                    3\n",
       "2481  IN-PERSON                      002 - WARD B                    3\n",
       "2482  IN-PERSON                     502 - SHEFFEY                    3\n",
       "2483  IN-PERSON                        602 - ZION                    3\n",
       "\n",
       "[2484 rows x 3 columns]"
      ]
     },
     "execution_count": 22,
     "metadata": {},
     "output_type": "execute_result"
    }
   ],
   "source": [
    "gold_va.filter(\n",
    "    _.mode != \"ELECTION DAY\",\n",
    "    # _.mode == \"ELECTION DAY\",\n",
    "    _.mode != \"TOTAL\",\n",
    ").select(\"mode\", \"precinct\").value_counts().execute()"
   ]
  },
  {
   "cell_type": "code",
   "execution_count": 29,
   "metadata": {},
   "outputs": [
    {
     "data": {
      "text/html": [
       "<pre style=\"white-space:pre;overflow-x:auto;line-height:normal;font-family:Menlo,'DejaVu Sans Mono',consolas,'Courier New',monospace\">┏━━━━━━━━━━━━━━┳━━━━━━━━━━━━┓\n",
       "┃<span style=\"font-weight: bold\"> mode         </span>┃<span style=\"font-weight: bold\"> mode_count </span>┃\n",
       "┡━━━━━━━━━━━━━━╇━━━━━━━━━━━━┩\n",
       "│ <span style=\"color: #7f7f7f; text-decoration-color: #7f7f7f\">string</span>       │ <span style=\"color: #7f7f7f; text-decoration-color: #7f7f7f\">int64</span>      │\n",
       "├──────────────┼────────────┤\n",
       "│ <span style=\"color: #008000; text-decoration-color: #008000\">PROVISIONAL </span> │       <span style=\"color: #008080; text-decoration-color: #008080; font-weight: bold\">4205</span> │\n",
       "│ <span style=\"color: #008000; text-decoration-color: #008000\">ABSENTEE    </span> │       <span style=\"color: #008080; text-decoration-color: #008080; font-weight: bold\">9447</span> │\n",
       "│ <span style=\"color: #008000; text-decoration-color: #008000\">TOTAL       </span> │      <span style=\"color: #008080; text-decoration-color: #008080; font-weight: bold\">11020</span> │\n",
       "│ <span style=\"color: #008000; text-decoration-color: #008000\">ELECTION DAY</span> │      <span style=\"color: #008080; text-decoration-color: #008080; font-weight: bold\">42344</span> │\n",
       "│ <span style=\"color: #008000; text-decoration-color: #008000\">IN-PERSON   </span> │      <span style=\"color: #008080; text-decoration-color: #008080; font-weight: bold\">17270</span> │\n",
       "└──────────────┴────────────┘\n",
       "</pre>\n"
      ],
      "text/plain": [
       "┏━━━━━━━━━━━━━━┳━━━━━━━━━━━━┓\n",
       "┃\u001b[1m \u001b[0m\u001b[1mmode\u001b[0m\u001b[1m        \u001b[0m\u001b[1m \u001b[0m┃\u001b[1m \u001b[0m\u001b[1mmode_count\u001b[0m\u001b[1m \u001b[0m┃\n",
       "┡━━━━━━━━━━━━━━╇━━━━━━━━━━━━┩\n",
       "│ \u001b[2mstring\u001b[0m       │ \u001b[2mint64\u001b[0m      │\n",
       "├──────────────┼────────────┤\n",
       "│ \u001b[32mPROVISIONAL \u001b[0m │       \u001b[1;36m4205\u001b[0m │\n",
       "│ \u001b[32mABSENTEE    \u001b[0m │       \u001b[1;36m9447\u001b[0m │\n",
       "│ \u001b[32mTOTAL       \u001b[0m │      \u001b[1;36m11020\u001b[0m │\n",
       "│ \u001b[32mELECTION DAY\u001b[0m │      \u001b[1;36m42344\u001b[0m │\n",
       "│ \u001b[32mIN-PERSON   \u001b[0m │      \u001b[1;36m17270\u001b[0m │\n",
       "└──────────────┴────────────┘"
      ]
     },
     "execution_count": 29,
     "metadata": {},
     "output_type": "execute_result"
    }
   ],
   "source": [
    "gold_va.mode.value_counts()"
   ]
  },
  {
   "cell_type": "code",
   "execution_count": 11,
   "metadata": {},
   "outputs": [
    {
     "ename": "AttributeError",
     "evalue": "'Table' object has no attribute 'office'",
     "output_type": "error",
     "traceback": [
      "\u001b[0;31m---------------------------------------------------------------------------\u001b[0m",
      "\u001b[0;31mAttributeError\u001b[0m                            Traceback (most recent call last)",
      "Cell \u001b[0;32mIn[11], line 2\u001b[0m\n\u001b[1;32m      1\u001b[0m t \u001b[38;5;241m=\u001b[39m t\u001b[38;5;241m.\u001b[39mmutate(\n\u001b[0;32m----> 2\u001b[0m     district\u001b[38;5;241m=\u001b[39m(\u001b[43mt\u001b[49m\u001b[38;5;241;43m.\u001b[39;49m\u001b[43moffice\u001b[49m \u001b[38;5;241m==\u001b[39m \u001b[38;5;124m\"\u001b[39m\u001b[38;5;124mMEMBER BOARD OF SUPERVISORS AT LARGE\u001b[39m\u001b[38;5;124m\"\u001b[39m)\u001b[38;5;241m.\u001b[39mifelse(\n\u001b[1;32m      3\u001b[0m         \u001b[38;5;124m\"\u001b[39m\u001b[38;5;124mAT-LARGE\u001b[39m\u001b[38;5;124m\"\u001b[39m, t\u001b[38;5;241m.\u001b[39mdistrict\n\u001b[1;32m      4\u001b[0m     ),\n\u001b[1;32m      5\u001b[0m     office\u001b[38;5;241m=\u001b[39m(t\u001b[38;5;241m.\u001b[39moffice \u001b[38;5;241m==\u001b[39m \u001b[38;5;124m\"\u001b[39m\u001b[38;5;124mMEMBER BOARD OF SUPERVISORS AT LARGE\u001b[39m\u001b[38;5;124m\"\u001b[39m)\u001b[38;5;241m.\u001b[39mifelse(\n\u001b[1;32m      6\u001b[0m         \u001b[38;5;124m\"\u001b[39m\u001b[38;5;124mMEMBER BOARD OF SUPERVISORS\u001b[39m\u001b[38;5;124m\"\u001b[39m, t\u001b[38;5;241m.\u001b[39moffice\n\u001b[1;32m      7\u001b[0m     ),\n\u001b[1;32m      8\u001b[0m )\n",
      "File \u001b[0;32m~/code/scg/election-data/.venv/lib/python3.11/site-packages/ibis/expr/types/relations.py:757\u001b[0m, in \u001b[0;36mTable.__getattr__\u001b[0;34m(self, key)\u001b[0m\n\u001b[1;32m    752\u001b[0m     hint \u001b[38;5;241m=\u001b[39m common_typos[key]\n\u001b[1;32m    753\u001b[0m     \u001b[38;5;28;01mraise\u001b[39;00m \u001b[38;5;167;01mAttributeError\u001b[39;00m(\n\u001b[1;32m    754\u001b[0m         \u001b[38;5;124mf\u001b[39m\u001b[38;5;124m\"\u001b[39m\u001b[38;5;132;01m{\u001b[39;00m\u001b[38;5;28mtype\u001b[39m(\u001b[38;5;28mself\u001b[39m)\u001b[38;5;241m.\u001b[39m\u001b[38;5;18m__name__\u001b[39m\u001b[38;5;132;01m}\u001b[39;00m\u001b[38;5;124m object has no attribute \u001b[39m\u001b[38;5;132;01m{\u001b[39;00mkey\u001b[38;5;132;01m!r}\u001b[39;00m\u001b[38;5;124m, did you mean \u001b[39m\u001b[38;5;132;01m{\u001b[39;00mhint\u001b[38;5;132;01m!r}\u001b[39;00m\u001b[38;5;124m\"\u001b[39m\n\u001b[1;32m    755\u001b[0m     )\n\u001b[0;32m--> 757\u001b[0m \u001b[38;5;28;01mraise\u001b[39;00m \u001b[38;5;167;01mAttributeError\u001b[39;00m(\u001b[38;5;124mf\u001b[39m\u001b[38;5;124m\"\u001b[39m\u001b[38;5;124m'\u001b[39m\u001b[38;5;124mTable\u001b[39m\u001b[38;5;124m'\u001b[39m\u001b[38;5;124m object has no attribute \u001b[39m\u001b[38;5;132;01m{\u001b[39;00mkey\u001b[38;5;132;01m!r}\u001b[39;00m\u001b[38;5;124m\"\u001b[39m)\n",
      "\u001b[0;31mAttributeError\u001b[0m: 'Table' object has no attribute 'office'"
     ]
    }
   ],
   "source": [
    "t = t.mutate(\n",
    "    district=(t.office == \"MEMBER BOARD OF SUPERVISORS AT LARGE\").ifelse(\n",
    "        \"AT-LARGE\", t.district\n",
    "    ),\n",
    "    office=(t.office == \"MEMBER BOARD OF SUPERVISORS AT LARGE\").ifelse(\n",
    "        \"MEMBER BOARD OF SUPERVISORS\", t.office\n",
    "    ),\n",
    ")"
   ]
  },
  {
   "cell_type": "code",
   "execution_count": 49,
   "metadata": {},
   "outputs": [
    {
     "ename": "SchemaMismatchError",
     "evalue": "Extra columns: {'DistrictName', 'DistrictType', 'OfficeTitle', 'PrecinctName'}\nMissing columns: {'district', 'jurisdiction_name', 'precinct', 'stage', 'mode', 'magnitude', 'office', 'jurisdiction_fips'}\nConflicting columns: {('votes', Int64(nullable=True), String(nullable=True))}\nColumns out of order: set()",
     "output_type": "error",
     "traceback": [
      "\u001b[0;31m---------------------------------------------------------------------------\u001b[0m",
      "\u001b[0;31mSchemaMismatchError\u001b[0m                       Traceback (most recent call last)",
      "Cell \u001b[0;32mIn[49], line 1\u001b[0m\n\u001b[0;32m----> 1\u001b[0m \u001b[43med\u001b[49m\u001b[38;5;241;43m.\u001b[39;49m\u001b[43mtests\u001b[49m\u001b[38;5;241;43m.\u001b[39;49m\u001b[43mtest_schema\u001b[49m\u001b[43m(\u001b[49m\u001b[43mt\u001b[49m\u001b[43m)\u001b[49m\n",
      "File \u001b[0;32m~/code/scg/election-data/election_data/tests/test_schema.py:44\u001b[0m, in \u001b[0;36mtest_schema\u001b[0;34m(t)\u001b[0m\n\u001b[1;32m     41\u001b[0m     out_of_order \u001b[38;5;241m=\u001b[39m \u001b[38;5;28mset\u001b[39m()\n\u001b[1;32m     43\u001b[0m \u001b[38;5;28;01mif\u001b[39;00m extra \u001b[38;5;129;01mor\u001b[39;00m missing \u001b[38;5;129;01mor\u001b[39;00m conflicts \u001b[38;5;129;01mor\u001b[39;00m out_of_order:\n\u001b[0;32m---> 44\u001b[0m     \u001b[38;5;28;01mraise\u001b[39;00m SchemaMismatchError(extra, missing, conflicts, out_of_order)\n",
      "\u001b[0;31mSchemaMismatchError\u001b[0m: Extra columns: {'DistrictName', 'DistrictType', 'OfficeTitle', 'PrecinctName'}\nMissing columns: {'district', 'jurisdiction_name', 'precinct', 'stage', 'mode', 'magnitude', 'office', 'jurisdiction_fips'}\nConflicting columns: {('votes', Int64(nullable=True), String(nullable=True))}\nColumns out of order: set()"
     ]
    }
   ],
   "source": [
    "ed.tests.test_schema(t)"
   ]
  },
  {
   "cell_type": "code",
   "execution_count": 41,
   "metadata": {},
   "outputs": [
    {
     "data": {
      "application/vnd.jupyter.widget-view+json": {
       "model_id": "1e09513fcd7146aaba85b1b2b7564d38",
       "version_major": 2,
       "version_minor": 0
      },
      "text/plain": [
       "┏━━━━━━━━━━┳━━━━━━━━━━━┳━━━━━━━━━━━━━━━━━━━━━━━━━━━━━━━━━━┳━━━━━━━━━━━━━━━━━━━━━━━━┓\n",
       "┃\u001b[1m \u001b[0m\u001b[1m__row_id\u001b[0m\u001b[1m \u001b[0m┃\u001b[1m \u001b[0m\u001b[1mmagnitude\u001b[0m\u001b[1m \u001b[0m┃\u001b[1m \u001b[0m\u001b[1moffice\u001b[0m\u001b[1m                          \u001b[0m\u001b[1m \u001b[0m┃\u001b[1m \u001b[0m\u001b[1mmagnitude_office_count\u001b[0m\u001b[1m \u001b[0m┃\n",
       "┡━━━━━━━━━━╇━━━━━━━━━━━╇━━━━━━━━━━━━━━━━━━━━━━━━━━━━━━━━━━╇━━━━━━━━━━━━━━━━━━━━━━━━┩\n",
       "│ \u001b[2mint64\u001b[0m    │ \u001b[2mint64\u001b[0m     │ \u001b[2mstring\u001b[0m                           │ \u001b[2mint64\u001b[0m                  │\n",
       "├──────────┼───────────┼──────────────────────────────────┼────────────────────────┤\n",
       "│        \u001b[1;36m0\u001b[0m │         \u001b[1;36m7\u001b[0m │ \u001b[32mMEMBER TOWN COUNCIL             \u001b[0m │                    \u001b[1;36m137\u001b[0m │\n",
       "│        \u001b[1;36m1\u001b[0m │         \u001b[1;36m7\u001b[0m │ \u001b[32mMEMBER TOWN COUNCIL - JONESVILLE\u001b[0m │                     \u001b[1;36m65\u001b[0m │\n",
       "│        \u001b[1;36m2\u001b[0m │         \u001b[1;36m6\u001b[0m │ \u001b[32mMEMBER TOWN COUNCIL             \u001b[0m │                    \u001b[1;36m527\u001b[0m │\n",
       "│        \u001b[1;36m3\u001b[0m │         \u001b[1;36m6\u001b[0m │ \u001b[32mMEMBER TOWN COUNCIL - SAXIS     \u001b[0m │                     \u001b[1;36m33\u001b[0m │\n",
       "│        \u001b[1;36m4\u001b[0m │         \u001b[1;36m6\u001b[0m │ \u001b[32mMEMBER CITY COUNCIL             \u001b[0m │                     \u001b[1;36m99\u001b[0m │\n",
       "│        \u001b[1;36m5\u001b[0m │         \u001b[1;36m6\u001b[0m │ \u001b[32mMEMBER TOWN COUNCIL - ACCOMAC   \u001b[0m │                     \u001b[1;36m32\u001b[0m │\n",
       "│        \u001b[1;36m6\u001b[0m │         \u001b[1;36m6\u001b[0m │ \u001b[32mMEMBER TOWN COUNCIL - EASTVILLE \u001b[0m │                     \u001b[1;36m34\u001b[0m │\n",
       "│        \u001b[1;36m7\u001b[0m │         \u001b[1;36m6\u001b[0m │ \u001b[32mMEMBER TOWN COUNCIL - NASSAWADOX\u001b[0m │                     \u001b[1;36m34\u001b[0m │\n",
       "│        \u001b[1;36m8\u001b[0m │         \u001b[1;36m6\u001b[0m │ \u001b[32mMEMBER TOWN COUNCIL - ONLEY     \u001b[0m │                     \u001b[1;36m24\u001b[0m │\n",
       "│        \u001b[1;36m9\u001b[0m │         \u001b[1;36m6\u001b[0m │ \u001b[32mMEMBER TOWN COUNCIL - PAMPLIN   \u001b[0m │                     \u001b[1;36m58\u001b[0m │\n",
       "│        \u001b[2m…\u001b[0m │         \u001b[2m…\u001b[0m │ \u001b[2m…\u001b[0m                                │                      \u001b[2m…\u001b[0m │\n",
       "└──────────┴───────────┴──────────────────────────────────┴────────────────────────┘"
      ]
     },
     "execution_count": 41,
     "metadata": {},
     "output_type": "execute_result"
    }
   ],
   "source": [
    "gold_va.select(\"magnitude\", \"office\").value_counts().order_by(\n",
    "    _.magnitude.desc()\n",
    ").widget()"
   ]
  },
  {
   "cell_type": "code",
   "execution_count": 13,
   "metadata": {},
   "outputs": [
    {
     "ename": "IbisTypeError",
     "evalue": "Cannot fill_null on column 'year' of type int16 with a value of type string - pass in an explicit mapping of fill values to `fill_null` instead.",
     "output_type": "error",
     "traceback": [
      "\u001b[0;31m---------------------------------------------------------------------------\u001b[0m",
      "\u001b[0;31mIbisTypeError\u001b[0m                             Traceback (most recent call last)",
      "Cell \u001b[0;32mIn[13], line 5\u001b[0m\n\u001b[1;32m      1\u001b[0m \u001b[38;5;66;03m# ported from https://github.com/MEDSL/replication-scripts/blob/634832bc7c2df2c0a2238bc16781d07d581d3a3a/va2018.py\u001b[39;00m\n\u001b[1;32m      2\u001b[0m \n\u001b[1;32m      3\u001b[0m \n\u001b[1;32m      4\u001b[0m \u001b[38;5;66;03m# Fill NA values with an empty string\u001b[39;00m\n\u001b[0;32m----> 5\u001b[0m t \u001b[38;5;241m=\u001b[39m \u001b[43mt\u001b[49m\u001b[38;5;241;43m.\u001b[39;49m\u001b[43mfill_null\u001b[49m\u001b[43m(\u001b[49m\u001b[38;5;124;43m\"\u001b[39;49m\u001b[38;5;124;43m\"\u001b[39;49m\u001b[43m)\u001b[49m\n\u001b[1;32m      7\u001b[0m \u001b[38;5;66;03m# Replace specific county name\u001b[39;00m\n\u001b[1;32m      8\u001b[0m t \u001b[38;5;241m=\u001b[39m t\u001b[38;5;241m.\u001b[39mmutate(\n\u001b[1;32m      9\u001b[0m     county_name\u001b[38;5;241m=\u001b[39mibis\u001b[38;5;241m.\u001b[39mcase()\n\u001b[1;32m     10\u001b[0m     \u001b[38;5;241m.\u001b[39mwhen(t\u001b[38;5;241m.\u001b[39mcounty_name \u001b[38;5;241m==\u001b[39m \u001b[38;5;124m\"\u001b[39m\u001b[38;5;124mKING & QUEEN\u001b[39m\u001b[38;5;124m\"\u001b[39m, \u001b[38;5;124m\"\u001b[39m\u001b[38;5;124mKING AND QUEEN\u001b[39m\u001b[38;5;124m\"\u001b[39m)\n\u001b[1;32m     11\u001b[0m     \u001b[38;5;241m.\u001b[39melse_(t\u001b[38;5;241m.\u001b[39mcounty_name)\n\u001b[1;32m     12\u001b[0m     \u001b[38;5;241m.\u001b[39mend()\n\u001b[1;32m     13\u001b[0m )\n",
      "File \u001b[0;32m~/code/scg/election-data/.venv/lib/python3.11/site-packages/ibis/expr/types/relations.py:2706\u001b[0m, in \u001b[0;36mTable.fill_null\u001b[0;34m(self, replacements)\u001b[0m\n\u001b[1;32m   2704\u001b[0m     \u001b[38;5;28;01mfor\u001b[39;00m col, col_type \u001b[38;5;129;01min\u001b[39;00m schema\u001b[38;5;241m.\u001b[39mitems():\n\u001b[1;32m   2705\u001b[0m         \u001b[38;5;28;01mif\u001b[39;00m col_type\u001b[38;5;241m.\u001b[39mnullable \u001b[38;5;129;01mand\u001b[39;00m \u001b[38;5;129;01mnot\u001b[39;00m val_type\u001b[38;5;241m.\u001b[39mcastable(col_type):\n\u001b[0;32m-> 2706\u001b[0m             \u001b[38;5;28;01mraise\u001b[39;00m com\u001b[38;5;241m.\u001b[39mIbisTypeError(\n\u001b[1;32m   2707\u001b[0m                 \u001b[38;5;124mf\u001b[39m\u001b[38;5;124m\"\u001b[39m\u001b[38;5;124mCannot fill_null on column \u001b[39m\u001b[38;5;132;01m{\u001b[39;00mcol\u001b[38;5;132;01m!r}\u001b[39;00m\u001b[38;5;124m of type \u001b[39m\u001b[38;5;132;01m{\u001b[39;00mcol_type\u001b[38;5;132;01m}\u001b[39;00m\u001b[38;5;124m with a \u001b[39m\u001b[38;5;124m\"\u001b[39m\n\u001b[1;32m   2708\u001b[0m                 \u001b[38;5;124mf\u001b[39m\u001b[38;5;124m\"\u001b[39m\u001b[38;5;124mvalue of type \u001b[39m\u001b[38;5;132;01m{\u001b[39;00mval_type\u001b[38;5;132;01m}\u001b[39;00m\u001b[38;5;124m - pass in an explicit mapping \u001b[39m\u001b[38;5;124m\"\u001b[39m\n\u001b[1;32m   2709\u001b[0m                 \u001b[38;5;124mf\u001b[39m\u001b[38;5;124m\"\u001b[39m\u001b[38;5;124mof fill values to `fill_null` instead.\u001b[39m\u001b[38;5;124m\"\u001b[39m\n\u001b[1;32m   2710\u001b[0m             )\n\u001b[1;32m   2711\u001b[0m \u001b[38;5;28;01mreturn\u001b[39;00m ops\u001b[38;5;241m.\u001b[39mFillNull(\u001b[38;5;28mself\u001b[39m, replacements)\u001b[38;5;241m.\u001b[39mto_expr()\n",
      "\u001b[0;31mIbisTypeError\u001b[0m: Cannot fill_null on column 'year' of type int16 with a value of type string - pass in an explicit mapping of fill values to `fill_null` instead."
     ]
    }
   ],
   "source": [
    "# ported from https://github.com/MEDSL/replication-scripts/blob/634832bc7c2df2c0a2238bc16781d07d581d3a3a/va2018.py\n",
    "\n",
    "\n",
    "# Fill NA values with an empty string\n",
    "t = t.fill_null(\"\")\n",
    "\n",
    "# Replace specific county name\n",
    "t = t.mutate(\n",
    "    county_name=ibis.case()\n",
    "    .when(t.county_name == \"KING & QUEEN\", \"KING AND QUEEN\")\n",
    "    .else_(t.county_name)\n",
    "    .end()\n",
    ")\n",
    "\n",
    "# Load and merge FIPS codes\n",
    "fips = con.table(\"../../../help-files/county-fips-codes.csv\")\n",
    "fips = fips.mutate(state=fips.state.upper())\n",
    "t = t.join(fips, [\"state\", \"county_name\"], how=\"left\")\n",
    "t = t.mutate(county_fips=t.county_fips.cast(\"string\").zfill(5))\n",
    "\n",
    "# Load jurisdiction FIPS and merge based on conditions\n",
    "juris_fips = con.table(\"../../../help-files/jurisdiction-fips-codes.csv\")\n",
    "juris_fips = juris_fips.mutate(state=juris_fips.state.upper())\n",
    "\n",
    "states_w_juris = (\n",
    "    juris_fips.filter(juris_fips.jurisdiction_fips.length() > 5)\n",
    "    .state.distinct()\n",
    "    .to_list()\n",
    ")\n",
    "if t.state.distinct().execute()[0] not in states_w_juris:\n",
    "    t = t.mutate(jurisdiction_fips=t.county_fips, jurisdiction_name=t.county_name)\n",
    "else:\n",
    "    juris_fips = juris_fips.mutate(\n",
    "        county_fips=juris_fips.jurisdiction_fips.str.zfill(10).substr(0, 5)\n",
    "    )\n",
    "    t = t.join(juris_fips, [\"state\", \"county_fips\", \"jurisdiction_name\"], how=\"left\")\n",
    "    t = t.mutate(\n",
    "        jurisdiction_fips=ibis.ifelse(\n",
    "            t.jurisdiction_fips.isnull(),\n",
    "            \"Missing Jurisdiction FIPS\",\n",
    "            t.jurisdiction_fips,\n",
    "        )\n",
    "    )\n",
    "\n",
    "# Pad and clean district codes\n",
    "t = t.mutate(\n",
    "    district=t.district.zfill(3).replace(\n",
    "        {\"00A\": \"A\", \"00B\": \"B\", \"00C\": \"C\", \"000\": \"\"}\n",
    "    )\n",
    ")\n",
    "\n",
    "# Set date and readme_check values\n",
    "t = t.mutate(date=\"2018-11-06\", readme_check=\"FALSE\")\n",
    "\n",
    "# Merge magnitudes data\n",
    "mags = con.table(\"magnitudes.csv\").fillna(\"\")\n",
    "t = t.join(mags, [\"office\", \"jurisdiction_name\", \"a\"], how=\"left\")\n",
    "t = t.mutate(magnitude=t.magnitude.fillna(1).cast(\"int64\"))\n",
    "\n",
    "# Write-in candidate replacements\n",
    "t = t.mutate(\n",
    "    candidate=t.candidate.replace(\"[WRITE-IN]\", \"WRITEIN\", regex=False).replace(\n",
    "        r\"\\.\", \"\", regex=True\n",
    "    )\n",
    ")\n",
    "\n",
    "# Apply specific conditions for certain office values\n",
    "t = t.mutate(\n",
    "    district=ibis.case()\n",
    "    .when(t.office == \"MEMBER BOARD OF SUPERVISORS AT LARGE\", \"AT-LARGE\")\n",
    "    .else_(t.district)\n",
    "    .end(),\n",
    "    office=ibis.case()\n",
    "    .when(\n",
    "        t.office == \"MEMBER BOARD OF SUPERVISORS AT LARGE\",\n",
    "        \"MEMBER BOARD OF SUPERVISORS\",\n",
    "    )\n",
    "    .else_(t.office)\n",
    "    .end(),\n",
    ")\n",
    "\n",
    "# Load amendments data and concatenate\n",
    "ammendments = con.table(\"va-18-ammendments.csv\", schema=official_dtypes)\n",
    "t = t.union(ammendments)\n",
    "\n",
    "# Replace boolean values with string equivalents and trim extra spaces\n",
    "t = t.replace({True: \"TRUE\", False: \"FALSE\"})\n",
    "t = t.applymap(lambda x: x.strip() if isinstance(x, str) else x)\n",
    "\n",
    "# Export to CSV\n",
    "t.to_csv(\n",
    "    \"2018-va-precinct-general-updated.csv\", quoting=csv.QUOTE_NONNUMERIC, index=False\n",
    ")\n"
   ]
  }
 ],
 "metadata": {
  "kernelspec": {
   "display_name": ".venv",
   "language": "python",
   "name": "python3"
  },
  "language_info": {
   "codemirror_mode": {
    "name": "ipython",
    "version": 3
   },
   "file_extension": ".py",
   "mimetype": "text/x-python",
   "name": "python",
   "nbconvert_exporter": "python",
   "pygments_lexer": "ipython3",
   "version": "3.11.6"
  }
 },
 "nbformat": 4,
 "nbformat_minor": 2
}
