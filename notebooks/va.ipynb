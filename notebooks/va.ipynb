{
 "cells": [
  {
   "cell_type": "code",
   "execution_count": 1,
   "metadata": {},
   "outputs": [],
   "source": [
    "import ibis\n",
    "from pathlib import Path\n",
    "import ibis_widget\n",
    "import election_data as ed\n",
    "from ibis.expr import types as ir\n",
    "\n",
    "ibis_widget.install()\n",
    "ibis.options.interactive = True\n",
    "\n",
    "from ibis import _"
   ]
  },
  {
   "cell_type": "code",
   "execution_count": 2,
   "metadata": {},
   "outputs": [],
   "source": [
    "# see https://apps.elections.virginia.gov/SBE_CSV/ELECTIONS/ELECTIONRESULTS/\n",
    "# There are other races available, such as primaries.\n",
    "urls = {\n",
    "    2017: \"https://apps.elections.virginia.gov/SBE_CSV/ELECTIONS/ELECTIONRESULTS/2017/2017%20November%20General.csv\",\n",
    "    2019: \"https://apps.elections.virginia.gov/SBE_CSV/ELECTIONS/ELECTIONRESULTS/2019/2019%20November%20General.csv\",\n",
    "    2021: \"https://apps.elections.virginia.gov/SBE_CSV/ELECTIONS/ELECTIONRESULTS/2021/2021%20November%20General%20.csv\",\n",
    "    # 2023 isn't available yet :( https://apps.elections.virginia.gov/SBE_CSV/ELECTIONS/ELECTIONRESULTS/2023/\n",
    "}\n",
    "paths = {year: Path(f\"../data/va/{year}.csv\") for year in urls}\n",
    "for year, url in urls.items():\n",
    "    path = paths[year]\n",
    "    path.parent.mkdir(parents=True, exist_ok=True)\n",
    "    if not path.exists():\n",
    "        print(f\"Downloading {year} results to {path}\")\n",
    "        !curl -o {path} {url}"
   ]
  },
  {
   "cell_type": "code",
   "execution_count": 3,
   "metadata": {},
   "outputs": [
    {
     "data": {
      "application/vnd.jupyter.widget-view+json": {
       "model_id": "b95509212b824cdf813c9462b01b221f",
       "version_major": 2,
       "version_minor": 0
      },
      "text/plain": [
       "┏━━━━━━━━━━┳━━━━━━━━━━━━━━━━━━━━━━━━━━━━━━━━━━━━━━━━┳━━━━━━━━━━━┳━━━━━━━━━━━━┳━━━━━━━━━━━━━━━━┳━━━━━━━━┳━━━━━━━━━━━━━┳━━━━━━━━━━━━━┳━━━━━━━━━━━━━┳━━━━━━━━━━━━━━━━━━━━━━━━━━━━━━━━━━━━━━━━┳━━━━━━━━━━━━━━┳━━━━━━━━━━━━━━━━━┳━━━━━━━━━━━━━┳━━━━━━━━━━━━━━━━┳━━━━━━━━━━━━━━━━━━━━━━━━━━━━━━━━━━━━━━━━┳━━━━━━━━━━━━━━━━━━━━┳━━━━━━━━━━━━━━┳━━━━━━━━━━━━━━━━━━━━━━━━━━━━━━━━━━━━━━━━┳━━━━━━━━━━━━━━━━━━━━━━━━━━━━━━━━━┳━━━━━━━━━━━━━━━━━━━━━━━━━━━━━━━━━━━━━━━━┳━━━━━━━━━━━━━━┳━━━━━━━━━━━━━━━━━━━━━┳━━━━━━━━━━━━━━━━━━━━━━━━┳━━━━━━━┓\n",
       "┃\u001b[1m \u001b[0m\u001b[1m__row_id\u001b[0m\u001b[1m \u001b[0m┃\u001b[1m \u001b[0m\u001b[1mCandidateUid\u001b[0m\u001b[1m                          \u001b[0m\u001b[1m \u001b[0m┃\u001b[1m \u001b[0m\u001b[1mFirstName\u001b[0m\u001b[1m \u001b[0m┃\u001b[1m \u001b[0m\u001b[1mMiddleName\u001b[0m\u001b[1m \u001b[0m┃\u001b[1m \u001b[0m\u001b[1mLastName\u001b[0m\u001b[1m      \u001b[0m\u001b[1m \u001b[0m┃\u001b[1m \u001b[0m\u001b[1mSuffix\u001b[0m\u001b[1m \u001b[0m┃\u001b[1m \u001b[0m\u001b[1mTOTAL_VOTES\u001b[0m\u001b[1m \u001b[0m┃\u001b[1m \u001b[0m\u001b[1mParty\u001b[0m\u001b[1m      \u001b[0m\u001b[1m \u001b[0m┃\u001b[1m \u001b[0m\u001b[1mWriteInVote\u001b[0m\u001b[1m \u001b[0m┃\u001b[1m \u001b[0m\u001b[1mLocalityUid\u001b[0m\u001b[1m                           \u001b[0m\u001b[1m \u001b[0m┃\u001b[1m \u001b[0m\u001b[1mLocalityCode\u001b[0m\u001b[1m \u001b[0m┃\u001b[1m \u001b[0m\u001b[1mLocalityName\u001b[0m\u001b[1m   \u001b[0m\u001b[1m \u001b[0m┃\u001b[1m \u001b[0m\u001b[1mPrecinctUid\u001b[0m\u001b[1m \u001b[0m┃\u001b[1m \u001b[0m\u001b[1mPrecinctName\u001b[0m\u001b[1m  \u001b[0m\u001b[1m \u001b[0m┃\u001b[1m \u001b[0m\u001b[1mDistrictUid\u001b[0m\u001b[1m                           \u001b[0m\u001b[1m \u001b[0m┃\u001b[1m \u001b[0m\u001b[1mDistrictType\u001b[0m\u001b[1m      \u001b[0m\u001b[1m \u001b[0m┃\u001b[1m \u001b[0m\u001b[1mDistrictName\u001b[0m\u001b[1m \u001b[0m┃\u001b[1m \u001b[0m\u001b[1mOfficeUid\u001b[0m\u001b[1m                             \u001b[0m\u001b[1m \u001b[0m┃\u001b[1m \u001b[0m\u001b[1mOfficeTitle\u001b[0m\u001b[1m                    \u001b[0m\u001b[1m \u001b[0m┃\u001b[1m \u001b[0m\u001b[1mElectionUid\u001b[0m\u001b[1m                           \u001b[0m\u001b[1m \u001b[0m┃\u001b[1m \u001b[0m\u001b[1mElectionType\u001b[0m\u001b[1m \u001b[0m┃\u001b[1m \u001b[0m\u001b[1mElectionDate\u001b[0m\u001b[1m       \u001b[0m\u001b[1m \u001b[0m┃\u001b[1m \u001b[0m\u001b[1mElectionName\u001b[0m\u001b[1m          \u001b[0m\u001b[1m \u001b[0m┃\u001b[1m \u001b[0m\u001b[1myear\u001b[0m\u001b[1m \u001b[0m\u001b[1m \u001b[0m┃\n",
       "┡━━━━━━━━━━╇━━━━━━━━━━━━━━━━━━━━━━━━━━━━━━━━━━━━━━━━╇━━━━━━━━━━━╇━━━━━━━━━━━━╇━━━━━━━━━━━━━━━━╇━━━━━━━━╇━━━━━━━━━━━━━╇━━━━━━━━━━━━━╇━━━━━━━━━━━━━╇━━━━━━━━━━━━━━━━━━━━━━━━━━━━━━━━━━━━━━━━╇━━━━━━━━━━━━━━╇━━━━━━━━━━━━━━━━━╇━━━━━━━━━━━━━╇━━━━━━━━━━━━━━━━╇━━━━━━━━━━━━━━━━━━━━━━━━━━━━━━━━━━━━━━━━╇━━━━━━━━━━━━━━━━━━━━╇━━━━━━━━━━━━━━╇━━━━━━━━━━━━━━━━━━━━━━━━━━━━━━━━━━━━━━━━╇━━━━━━━━━━━━━━━━━━━━━━━━━━━━━━━━━╇━━━━━━━━━━━━━━━━━━━━━━━━━━━━━━━━━━━━━━━━╇━━━━━━━━━━━━━━╇━━━━━━━━━━━━━━━━━━━━━╇━━━━━━━━━━━━━━━━━━━━━━━━╇━━━━━━━┩\n",
       "│ \u001b[2mint64\u001b[0m    │ \u001b[2mstring\u001b[0m                                 │ \u001b[2mstring\u001b[0m    │ \u001b[2mstring\u001b[0m     │ \u001b[2mstring\u001b[0m         │ \u001b[2mstring\u001b[0m │ \u001b[2mint64\u001b[0m       │ \u001b[2mstring\u001b[0m      │ \u001b[2mint64\u001b[0m       │ \u001b[2mstring\u001b[0m                                 │ \u001b[2mstring\u001b[0m       │ \u001b[2mstring\u001b[0m          │ \u001b[2mstring\u001b[0m      │ \u001b[2mstring\u001b[0m         │ \u001b[2mstring\u001b[0m                                 │ \u001b[2mstring\u001b[0m             │ \u001b[2mstring\u001b[0m       │ \u001b[2mstring\u001b[0m                                 │ \u001b[2mstring\u001b[0m                          │ \u001b[2mstring\u001b[0m                                 │ \u001b[2mstring\u001b[0m       │ \u001b[2mtimestamp(6)\u001b[0m        │ \u001b[2mstring\u001b[0m                 │ \u001b[2mint16\u001b[0m │\n",
       "├──────────┼────────────────────────────────────────┼───────────┼────────────┼────────────────┼────────┼─────────────┼─────────────┼─────────────┼────────────────────────────────────────┼──────────────┼─────────────────┼─────────────┼────────────────┼────────────────────────────────────────┼────────────────────┼──────────────┼────────────────────────────────────────┼─────────────────────────────────┼────────────────────────────────────────┼──────────────┼─────────────────────┼────────────────────────┼───────┤\n",
       "│        \u001b[1;36m0\u001b[0m │ \u001b[2mNULL\u001b[0m                                   │ \u001b[2mNULL\u001b[0m      │ \u001b[2mNULL\u001b[0m       │ \u001b[32mWRITE IN VOTES\u001b[0m │ \u001b[2mNULL\u001b[0m   │        \u001b[2mNULL\u001b[0m │ \u001b[2mNULL\u001b[0m        │           \u001b[1;36m1\u001b[0m │ \u001b[32m{15B7E141-2D1D-44C2-A50A-AAE021BC9B7D}\u001b[0m │ \u001b[32m001         \u001b[0m │ \u001b[32mACCOMACK COUNTY\u001b[0m │ \u001b[2mNULL\u001b[0m        │ \u001b[32m## Provisional\u001b[0m │ \u001b[32m{8967B9DD-E94E-4964-A919-30E520165984}\u001b[0m │ \u001b[32mCongressional     \u001b[0m │ \u001b[32m02          \u001b[0m │ \u001b[32m{F50349D9-A292-4792-B60E-07EDF172B35C}\u001b[0m │ \u001b[32mGovernor                       \u001b[0m │ \u001b[32m{E9ACA620-4CC0-4681-AB15-D5DC73A9A5D8}\u001b[0m │ \u001b[32mGeneral     \u001b[0m │ \u001b[35m2021-11-02 00:00:00\u001b[0m │ \u001b[32m2021 November General \u001b[0m │  \u001b[1;36m2021\u001b[0m │\n",
       "│        \u001b[1;36m1\u001b[0m │ \u001b[2mNULL\u001b[0m                                   │ \u001b[2mNULL\u001b[0m      │ \u001b[2mNULL\u001b[0m       │ \u001b[32mWRITE IN VOTES\u001b[0m │ \u001b[2mNULL\u001b[0m   │        \u001b[2mNULL\u001b[0m │ \u001b[2mNULL\u001b[0m        │           \u001b[1;36m1\u001b[0m │ \u001b[32m{15B7E141-2D1D-44C2-A50A-AAE021BC9B7D}\u001b[0m │ \u001b[32m001         \u001b[0m │ \u001b[32mACCOMACK COUNTY\u001b[0m │ \u001b[2mNULL\u001b[0m        │ \u001b[32m## Provisional\u001b[0m │ \u001b[32m{8967B9DD-E94E-4964-A919-30E520165984}\u001b[0m │ \u001b[32mCongressional     \u001b[0m │ \u001b[32m02          \u001b[0m │ \u001b[32m{D81856DF-F88B-4450-AA16-26A382CE97AD}\u001b[0m │ \u001b[32mAttorney General               \u001b[0m │ \u001b[32m{E9ACA620-4CC0-4681-AB15-D5DC73A9A5D8}\u001b[0m │ \u001b[32mGeneral     \u001b[0m │ \u001b[35m2021-11-02 00:00:00\u001b[0m │ \u001b[32m2021 November General \u001b[0m │  \u001b[1;36m2021\u001b[0m │\n",
       "│        \u001b[1;36m2\u001b[0m │ \u001b[2mNULL\u001b[0m                                   │ \u001b[2mNULL\u001b[0m      │ \u001b[2mNULL\u001b[0m       │ \u001b[32mWRITE IN VOTES\u001b[0m │ \u001b[2mNULL\u001b[0m   │        \u001b[2mNULL\u001b[0m │ \u001b[2mNULL\u001b[0m        │           \u001b[1;36m1\u001b[0m │ \u001b[32m{15B7E141-2D1D-44C2-A50A-AAE021BC9B7D}\u001b[0m │ \u001b[32m001         \u001b[0m │ \u001b[32mACCOMACK COUNTY\u001b[0m │ \u001b[2mNULL\u001b[0m        │ \u001b[32m## Provisional\u001b[0m │ \u001b[32m{8967B9DD-E94E-4964-A919-30E520165984}\u001b[0m │ \u001b[32mCongressional     \u001b[0m │ \u001b[32m02          \u001b[0m │ \u001b[32m{C9719525-54D6-4AD4-9F6B-72068D53BABE}\u001b[0m │ \u001b[32mLieutenant Governor            \u001b[0m │ \u001b[32m{E9ACA620-4CC0-4681-AB15-D5DC73A9A5D8}\u001b[0m │ \u001b[32mGeneral     \u001b[0m │ \u001b[35m2021-11-02 00:00:00\u001b[0m │ \u001b[32m2021 November General \u001b[0m │  \u001b[1;36m2021\u001b[0m │\n",
       "│        \u001b[1;36m3\u001b[0m │ \u001b[2mNULL\u001b[0m                                   │ \u001b[2mNULL\u001b[0m      │ \u001b[2mNULL\u001b[0m       │ \u001b[32mWRITE IN VOTES\u001b[0m │ \u001b[2mNULL\u001b[0m   │        \u001b[2mNULL\u001b[0m │ \u001b[2mNULL\u001b[0m        │           \u001b[1;36m1\u001b[0m │ \u001b[32m{15B7E141-2D1D-44C2-A50A-AAE021BC9B7D}\u001b[0m │ \u001b[32m001         \u001b[0m │ \u001b[32mACCOMACK COUNTY\u001b[0m │ \u001b[2mNULL\u001b[0m        │ \u001b[32m## Provisional\u001b[0m │ \u001b[32m{8D4B8CF5-3FB6-4BE1-BEAE-3A82A80C9D17}\u001b[0m │ \u001b[32mTown              \u001b[0m │ \u001b[32mCHINCOTEAGUE\u001b[0m │ \u001b[32m{BAF479DA-31FA-4A2D-A2BA-8421E541C00F}\u001b[0m │ \u001b[32mMember Town Council - Special  \u001b[0m │ \u001b[32m{E9ACA620-4CC0-4681-AB15-D5DC73A9A5D8}\u001b[0m │ \u001b[32mGeneral     \u001b[0m │ \u001b[35m2021-11-02 00:00:00\u001b[0m │ \u001b[32m2021 November General \u001b[0m │  \u001b[1;36m2021\u001b[0m │\n",
       "│        \u001b[1;36m4\u001b[0m │ \u001b[2mNULL\u001b[0m                                   │ \u001b[2mNULL\u001b[0m      │ \u001b[2mNULL\u001b[0m       │ \u001b[32mWRITE IN VOTES\u001b[0m │ \u001b[2mNULL\u001b[0m   │        \u001b[2mNULL\u001b[0m │ \u001b[2mNULL\u001b[0m        │           \u001b[1;36m1\u001b[0m │ \u001b[32m{15B7E141-2D1D-44C2-A50A-AAE021BC9B7D}\u001b[0m │ \u001b[32m001         \u001b[0m │ \u001b[32mACCOMACK COUNTY\u001b[0m │ \u001b[2mNULL\u001b[0m        │ \u001b[32m## Provisional\u001b[0m │ \u001b[32m{E0057B45-D6FD-4F56-B458-41F4B7C807C2}\u001b[0m │ \u001b[32mHouse of Delegates\u001b[0m │ \u001b[32m100         \u001b[0m │ \u001b[32m{972FB6A1-0DAD-48F0-95A5-7A84F16E314D}\u001b[0m │ \u001b[32mMember House of Delegates      \u001b[0m │ \u001b[32m{E9ACA620-4CC0-4681-AB15-D5DC73A9A5D8}\u001b[0m │ \u001b[32mGeneral     \u001b[0m │ \u001b[35m2021-11-02 00:00:00\u001b[0m │ \u001b[32m2021 November General \u001b[0m │  \u001b[1;36m2021\u001b[0m │\n",
       "│        \u001b[1;36m5\u001b[0m │ \u001b[2mNULL\u001b[0m                                   │ \u001b[2mNULL\u001b[0m      │ \u001b[2mNULL\u001b[0m       │ \u001b[32mWRITE IN VOTES\u001b[0m │ \u001b[2mNULL\u001b[0m   │        \u001b[2mNULL\u001b[0m │ \u001b[2mNULL\u001b[0m        │           \u001b[1;36m1\u001b[0m │ \u001b[32m{15B7E141-2D1D-44C2-A50A-AAE021BC9B7D}\u001b[0m │ \u001b[32m001         \u001b[0m │ \u001b[32mACCOMACK COUNTY\u001b[0m │ \u001b[2mNULL\u001b[0m        │ \u001b[32m## Provisional\u001b[0m │ \u001b[32m{05BBA99B-D90A-4413-A142-8163C13316D2}\u001b[0m │ \u001b[32mTown              \u001b[0m │ \u001b[32mPARKSLEY    \u001b[0m │ \u001b[32m{A9D03EF5-D973-4939-B2DE-2BE6165865D1}\u001b[0m │ \u001b[32mMember Town Council -- Parksley\u001b[0m │ \u001b[32m{E9ACA620-4CC0-4681-AB15-D5DC73A9A5D8}\u001b[0m │ \u001b[32mGeneral     \u001b[0m │ \u001b[35m2021-11-02 00:00:00\u001b[0m │ \u001b[32m2021 November General \u001b[0m │  \u001b[1;36m2021\u001b[0m │\n",
       "│        \u001b[1;36m6\u001b[0m │ \u001b[2mNULL\u001b[0m                                   │ \u001b[2mNULL\u001b[0m      │ \u001b[2mNULL\u001b[0m       │ \u001b[32mWRITE IN VOTES\u001b[0m │ \u001b[2mNULL\u001b[0m   │        \u001b[2mNULL\u001b[0m │ \u001b[2mNULL\u001b[0m        │           \u001b[1;36m1\u001b[0m │ \u001b[32m{15B7E141-2D1D-44C2-A50A-AAE021BC9B7D}\u001b[0m │ \u001b[32m001         \u001b[0m │ \u001b[32mACCOMACK COUNTY\u001b[0m │ \u001b[2mNULL\u001b[0m        │ \u001b[32m## Provisional\u001b[0m │ \u001b[32m{05BBA99B-D90A-4413-A142-8163C13316D2}\u001b[0m │ \u001b[32mTown              \u001b[0m │ \u001b[32mPARKSLEY    \u001b[0m │ \u001b[32m{5A7D053B-A5B5-43B2-91A7-4D92D7690888}\u001b[0m │ \u001b[32mMember Town Council - Parksley \u001b[0m │ \u001b[32m{E9ACA620-4CC0-4681-AB15-D5DC73A9A5D8}\u001b[0m │ \u001b[32mGeneral     \u001b[0m │ \u001b[35m2021-11-02 00:00:00\u001b[0m │ \u001b[32m2021 November General \u001b[0m │  \u001b[1;36m2021\u001b[0m │\n",
       "│        \u001b[1;36m7\u001b[0m │ \u001b[32m{6DD39892-F7A7-4E7B-B223-0108F0F1FEA9}\u001b[0m │ \u001b[32mBradley  \u001b[0m │ \u001b[32mDavid     \u001b[0m │ \u001b[32mYork          \u001b[0m │ \u001b[2mNULL\u001b[0m   │        \u001b[2mNULL\u001b[0m │ \u001b[32mIndependent\u001b[0m │           \u001b[1;36m0\u001b[0m │ \u001b[32m{15B7E141-2D1D-44C2-A50A-AAE021BC9B7D}\u001b[0m │ \u001b[32m001         \u001b[0m │ \u001b[32mACCOMACK COUNTY\u001b[0m │ \u001b[2mNULL\u001b[0m        │ \u001b[32m## Provisional\u001b[0m │ \u001b[32m{05BBA99B-D90A-4413-A142-8163C13316D2}\u001b[0m │ \u001b[32mTown              \u001b[0m │ \u001b[32mPARKSLEY    \u001b[0m │ \u001b[32m{A9D03EF5-D973-4939-B2DE-2BE6165865D1}\u001b[0m │ \u001b[32mMember Town Council -- Parksley\u001b[0m │ \u001b[32m{E9ACA620-4CC0-4681-AB15-D5DC73A9A5D8}\u001b[0m │ \u001b[32mGeneral     \u001b[0m │ \u001b[35m2021-11-02 00:00:00\u001b[0m │ \u001b[32m2021 November General \u001b[0m │  \u001b[1;36m2021\u001b[0m │\n",
       "│        \u001b[1;36m8\u001b[0m │ \u001b[32m{EAA5B7ED-F6F1-4B78-9368-7935C11774CE}\u001b[0m │ \u001b[32mCAROL    \u001b[0m │ \u001b[32mELIZABETH \u001b[0m │ \u001b[32mMATTHEWS      \u001b[0m │ \u001b[2mNULL\u001b[0m   │        \u001b[2mNULL\u001b[0m │ \u001b[32mIndependent\u001b[0m │           \u001b[1;36m0\u001b[0m │ \u001b[32m{15B7E141-2D1D-44C2-A50A-AAE021BC9B7D}\u001b[0m │ \u001b[32m001         \u001b[0m │ \u001b[32mACCOMACK COUNTY\u001b[0m │ \u001b[2mNULL\u001b[0m        │ \u001b[32m## Provisional\u001b[0m │ \u001b[32m{05BBA99B-D90A-4413-A142-8163C13316D2}\u001b[0m │ \u001b[32mTown              \u001b[0m │ \u001b[32mPARKSLEY    \u001b[0m │ \u001b[32m{A9D03EF5-D973-4939-B2DE-2BE6165865D1}\u001b[0m │ \u001b[32mMember Town Council -- Parksley\u001b[0m │ \u001b[32m{E9ACA620-4CC0-4681-AB15-D5DC73A9A5D8}\u001b[0m │ \u001b[32mGeneral     \u001b[0m │ \u001b[35m2021-11-02 00:00:00\u001b[0m │ \u001b[32m2021 November General \u001b[0m │  \u001b[1;36m2021\u001b[0m │\n",
       "│        \u001b[1;36m9\u001b[0m │ \u001b[32m{D79DA333-F1CF-4031-BD1A-45C686BD6EBE}\u001b[0m │ \u001b[32mETHAN    \u001b[0m │ \u001b[32mFRANCIS   \u001b[0m │ \u001b[32mMATTHEWS      \u001b[0m │ \u001b[2mNULL\u001b[0m   │        \u001b[2mNULL\u001b[0m │ \u001b[32mIndependent\u001b[0m │           \u001b[1;36m0\u001b[0m │ \u001b[32m{15B7E141-2D1D-44C2-A50A-AAE021BC9B7D}\u001b[0m │ \u001b[32m001         \u001b[0m │ \u001b[32mACCOMACK COUNTY\u001b[0m │ \u001b[2mNULL\u001b[0m        │ \u001b[32m## Provisional\u001b[0m │ \u001b[32m{05BBA99B-D90A-4413-A142-8163C13316D2}\u001b[0m │ \u001b[32mTown              \u001b[0m │ \u001b[32mPARKSLEY    \u001b[0m │ \u001b[32m{5A7D053B-A5B5-43B2-91A7-4D92D7690888}\u001b[0m │ \u001b[32mMember Town Council - Parksley \u001b[0m │ \u001b[32m{E9ACA620-4CC0-4681-AB15-D5DC73A9A5D8}\u001b[0m │ \u001b[32mGeneral     \u001b[0m │ \u001b[35m2021-11-02 00:00:00\u001b[0m │ \u001b[32m2021 November General \u001b[0m │  \u001b[1;36m2021\u001b[0m │\n",
       "│        \u001b[2m…\u001b[0m │ \u001b[2m…\u001b[0m                                      │ \u001b[2m…\u001b[0m         │ \u001b[2m…\u001b[0m          │ \u001b[2m…\u001b[0m              │ \u001b[2m…\u001b[0m      │           \u001b[2m…\u001b[0m │ \u001b[2m…\u001b[0m           │           \u001b[2m…\u001b[0m │ \u001b[2m…\u001b[0m                                      │ \u001b[2m…\u001b[0m            │ \u001b[2m…\u001b[0m               │ \u001b[2m…\u001b[0m           │ \u001b[2m…\u001b[0m              │ \u001b[2m…\u001b[0m                                      │ \u001b[2m…\u001b[0m                  │ \u001b[2m…\u001b[0m            │ \u001b[2m…\u001b[0m                                      │ \u001b[2m…\u001b[0m                               │ \u001b[2m…\u001b[0m                                      │ \u001b[2m…\u001b[0m            │ \u001b[2m…\u001b[0m                   │ \u001b[2m…\u001b[0m                      │     \u001b[2m…\u001b[0m │\n",
       "└──────────┴────────────────────────────────────────┴───────────┴────────────┴────────────────┴────────┴─────────────┴─────────────┴─────────────┴────────────────────────────────────────┴──────────────┴─────────────────┴─────────────┴────────────────┴────────────────────────────────────────┴────────────────────┴──────────────┴────────────────────────────────────────┴─────────────────────────────────┴────────────────────────────────────────┴──────────────┴─────────────────────┴────────────────────────┴───────┘"
      ]
     },
     "execution_count": 3,
     "metadata": {},
     "output_type": "execute_result"
    }
   ],
   "source": [
    "raws = [ibis.read_csv(paths[year]).mutate(year=year) for year in urls]\n",
    "raw = ibis.union(*raws)\n",
    "raw.widget()"
   ]
  },
  {
   "cell_type": "code",
   "execution_count": 4,
   "metadata": {},
   "outputs": [
    {
     "data": {
      "application/vnd.jupyter.widget-view+json": {
       "model_id": "08a503842aa54f088ccc04ea37d957b4",
       "version_major": 2,
       "version_minor": 0
      },
      "text/plain": [
       "┏━━━━━━━━━━┳━━━━━━━━━━━┳━━━━━━━━━━━━┳━━━━━━━━━━━━━━━━┳━━━━━━━━┳━━━━━━━━━━━━━┳━━━━━━━━━━━━━┳━━━━━━━━━━━━━━━━━┳━━━━━━━━━━━━━━━━┳━━━━━━━━━━━━━━━━━━━━┳━━━━━━━━━━━━━━┳━━━━━━━━━━━━━━━━━━━━━━━━━━━━━━━━━┳━━━━━━━┳━━━━━━━┳━━━━━━━━━━━━━━━┓\n",
       "┃\u001b[1m \u001b[0m\u001b[1m__row_id\u001b[0m\u001b[1m \u001b[0m┃\u001b[1m \u001b[0m\u001b[1mFirstName\u001b[0m\u001b[1m \u001b[0m┃\u001b[1m \u001b[0m\u001b[1mMiddleName\u001b[0m\u001b[1m \u001b[0m┃\u001b[1m \u001b[0m\u001b[1mLastName\u001b[0m\u001b[1m      \u001b[0m\u001b[1m \u001b[0m┃\u001b[1m \u001b[0m\u001b[1mSuffix\u001b[0m\u001b[1m \u001b[0m┃\u001b[1m \u001b[0m\u001b[1mParty\u001b[0m\u001b[1m      \u001b[0m\u001b[1m \u001b[0m┃\u001b[1m \u001b[0m\u001b[1mWriteInVote\u001b[0m\u001b[1m \u001b[0m┃\u001b[1m \u001b[0m\u001b[1mLocalityName\u001b[0m\u001b[1m   \u001b[0m\u001b[1m \u001b[0m┃\u001b[1m \u001b[0m\u001b[1mPrecinctName\u001b[0m\u001b[1m  \u001b[0m\u001b[1m \u001b[0m┃\u001b[1m \u001b[0m\u001b[1mDistrictType\u001b[0m\u001b[1m      \u001b[0m\u001b[1m \u001b[0m┃\u001b[1m \u001b[0m\u001b[1mDistrictName\u001b[0m\u001b[1m \u001b[0m┃\u001b[1m \u001b[0m\u001b[1mOfficeTitle\u001b[0m\u001b[1m                    \u001b[0m\u001b[1m \u001b[0m┃\u001b[1m \u001b[0m\u001b[1myear\u001b[0m\u001b[1m \u001b[0m\u001b[1m \u001b[0m┃\u001b[1m \u001b[0m\u001b[1mvotes\u001b[0m\u001b[1m \u001b[0m┃\u001b[1m \u001b[0m\u001b[1melection_date\u001b[0m\u001b[1m \u001b[0m┃\n",
       "┡━━━━━━━━━━╇━━━━━━━━━━━╇━━━━━━━━━━━━╇━━━━━━━━━━━━━━━━╇━━━━━━━━╇━━━━━━━━━━━━━╇━━━━━━━━━━━━━╇━━━━━━━━━━━━━━━━━╇━━━━━━━━━━━━━━━━╇━━━━━━━━━━━━━━━━━━━━╇━━━━━━━━━━━━━━╇━━━━━━━━━━━━━━━━━━━━━━━━━━━━━━━━━╇━━━━━━━╇━━━━━━━╇━━━━━━━━━━━━━━━┩\n",
       "│ \u001b[2mint64\u001b[0m    │ \u001b[2mstring\u001b[0m    │ \u001b[2mstring\u001b[0m     │ \u001b[2mstring\u001b[0m         │ \u001b[2mstring\u001b[0m │ \u001b[2mstring\u001b[0m      │ \u001b[2mint64\u001b[0m       │ \u001b[2mstring\u001b[0m          │ \u001b[2mstring\u001b[0m         │ \u001b[2mstring\u001b[0m             │ \u001b[2mstring\u001b[0m       │ \u001b[2mstring\u001b[0m                          │ \u001b[2mint16\u001b[0m │ \u001b[2mint64\u001b[0m │ \u001b[2mdate\u001b[0m          │\n",
       "├──────────┼───────────┼────────────┼────────────────┼────────┼─────────────┼─────────────┼─────────────────┼────────────────┼────────────────────┼──────────────┼─────────────────────────────────┼───────┼───────┼───────────────┤\n",
       "│        \u001b[1;36m0\u001b[0m │ \u001b[2mNULL\u001b[0m      │ \u001b[2mNULL\u001b[0m       │ \u001b[32mWRITE IN VOTES\u001b[0m │ \u001b[2mNULL\u001b[0m   │ \u001b[2mNULL\u001b[0m        │           \u001b[1;36m1\u001b[0m │ \u001b[32mACCOMACK COUNTY\u001b[0m │ \u001b[32m## Provisional\u001b[0m │ \u001b[32mCongressional     \u001b[0m │ \u001b[32m02          \u001b[0m │ \u001b[32mGovernor                       \u001b[0m │  \u001b[1;36m2021\u001b[0m │  \u001b[2mNULL\u001b[0m │ \u001b[35m2021-11-02\u001b[0m    │\n",
       "│        \u001b[1;36m1\u001b[0m │ \u001b[2mNULL\u001b[0m      │ \u001b[2mNULL\u001b[0m       │ \u001b[32mWRITE IN VOTES\u001b[0m │ \u001b[2mNULL\u001b[0m   │ \u001b[2mNULL\u001b[0m        │           \u001b[1;36m1\u001b[0m │ \u001b[32mACCOMACK COUNTY\u001b[0m │ \u001b[32m## Provisional\u001b[0m │ \u001b[32mCongressional     \u001b[0m │ \u001b[32m02          \u001b[0m │ \u001b[32mAttorney General               \u001b[0m │  \u001b[1;36m2021\u001b[0m │  \u001b[2mNULL\u001b[0m │ \u001b[35m2021-11-02\u001b[0m    │\n",
       "│        \u001b[1;36m2\u001b[0m │ \u001b[2mNULL\u001b[0m      │ \u001b[2mNULL\u001b[0m       │ \u001b[32mWRITE IN VOTES\u001b[0m │ \u001b[2mNULL\u001b[0m   │ \u001b[2mNULL\u001b[0m        │           \u001b[1;36m1\u001b[0m │ \u001b[32mACCOMACK COUNTY\u001b[0m │ \u001b[32m## Provisional\u001b[0m │ \u001b[32mCongressional     \u001b[0m │ \u001b[32m02          \u001b[0m │ \u001b[32mLieutenant Governor            \u001b[0m │  \u001b[1;36m2021\u001b[0m │  \u001b[2mNULL\u001b[0m │ \u001b[35m2021-11-02\u001b[0m    │\n",
       "│        \u001b[1;36m3\u001b[0m │ \u001b[2mNULL\u001b[0m      │ \u001b[2mNULL\u001b[0m       │ \u001b[32mWRITE IN VOTES\u001b[0m │ \u001b[2mNULL\u001b[0m   │ \u001b[2mNULL\u001b[0m        │           \u001b[1;36m1\u001b[0m │ \u001b[32mACCOMACK COUNTY\u001b[0m │ \u001b[32m## Provisional\u001b[0m │ \u001b[32mTown              \u001b[0m │ \u001b[32mCHINCOTEAGUE\u001b[0m │ \u001b[32mMember Town Council - Special  \u001b[0m │  \u001b[1;36m2021\u001b[0m │  \u001b[2mNULL\u001b[0m │ \u001b[35m2021-11-02\u001b[0m    │\n",
       "│        \u001b[1;36m4\u001b[0m │ \u001b[2mNULL\u001b[0m      │ \u001b[2mNULL\u001b[0m       │ \u001b[32mWRITE IN VOTES\u001b[0m │ \u001b[2mNULL\u001b[0m   │ \u001b[2mNULL\u001b[0m        │           \u001b[1;36m1\u001b[0m │ \u001b[32mACCOMACK COUNTY\u001b[0m │ \u001b[32m## Provisional\u001b[0m │ \u001b[32mHouse of Delegates\u001b[0m │ \u001b[32m100         \u001b[0m │ \u001b[32mMember House of Delegates      \u001b[0m │  \u001b[1;36m2021\u001b[0m │  \u001b[2mNULL\u001b[0m │ \u001b[35m2021-11-02\u001b[0m    │\n",
       "│        \u001b[1;36m5\u001b[0m │ \u001b[2mNULL\u001b[0m      │ \u001b[2mNULL\u001b[0m       │ \u001b[32mWRITE IN VOTES\u001b[0m │ \u001b[2mNULL\u001b[0m   │ \u001b[2mNULL\u001b[0m        │           \u001b[1;36m1\u001b[0m │ \u001b[32mACCOMACK COUNTY\u001b[0m │ \u001b[32m## Provisional\u001b[0m │ \u001b[32mTown              \u001b[0m │ \u001b[32mPARKSLEY    \u001b[0m │ \u001b[32mMember Town Council -- Parksley\u001b[0m │  \u001b[1;36m2021\u001b[0m │  \u001b[2mNULL\u001b[0m │ \u001b[35m2021-11-02\u001b[0m    │\n",
       "│        \u001b[1;36m6\u001b[0m │ \u001b[2mNULL\u001b[0m      │ \u001b[2mNULL\u001b[0m       │ \u001b[32mWRITE IN VOTES\u001b[0m │ \u001b[2mNULL\u001b[0m   │ \u001b[2mNULL\u001b[0m        │           \u001b[1;36m1\u001b[0m │ \u001b[32mACCOMACK COUNTY\u001b[0m │ \u001b[32m## Provisional\u001b[0m │ \u001b[32mTown              \u001b[0m │ \u001b[32mPARKSLEY    \u001b[0m │ \u001b[32mMember Town Council - Parksley \u001b[0m │  \u001b[1;36m2021\u001b[0m │  \u001b[2mNULL\u001b[0m │ \u001b[35m2021-11-02\u001b[0m    │\n",
       "│        \u001b[1;36m7\u001b[0m │ \u001b[32mBradley  \u001b[0m │ \u001b[32mDavid     \u001b[0m │ \u001b[32mYork          \u001b[0m │ \u001b[2mNULL\u001b[0m   │ \u001b[32mIndependent\u001b[0m │           \u001b[1;36m0\u001b[0m │ \u001b[32mACCOMACK COUNTY\u001b[0m │ \u001b[32m## Provisional\u001b[0m │ \u001b[32mTown              \u001b[0m │ \u001b[32mPARKSLEY    \u001b[0m │ \u001b[32mMember Town Council -- Parksley\u001b[0m │  \u001b[1;36m2021\u001b[0m │  \u001b[2mNULL\u001b[0m │ \u001b[35m2021-11-02\u001b[0m    │\n",
       "│        \u001b[1;36m8\u001b[0m │ \u001b[32mCAROL    \u001b[0m │ \u001b[32mELIZABETH \u001b[0m │ \u001b[32mMATTHEWS      \u001b[0m │ \u001b[2mNULL\u001b[0m   │ \u001b[32mIndependent\u001b[0m │           \u001b[1;36m0\u001b[0m │ \u001b[32mACCOMACK COUNTY\u001b[0m │ \u001b[32m## Provisional\u001b[0m │ \u001b[32mTown              \u001b[0m │ \u001b[32mPARKSLEY    \u001b[0m │ \u001b[32mMember Town Council -- Parksley\u001b[0m │  \u001b[1;36m2021\u001b[0m │  \u001b[2mNULL\u001b[0m │ \u001b[35m2021-11-02\u001b[0m    │\n",
       "│        \u001b[1;36m9\u001b[0m │ \u001b[32mETHAN    \u001b[0m │ \u001b[32mFRANCIS   \u001b[0m │ \u001b[32mMATTHEWS      \u001b[0m │ \u001b[2mNULL\u001b[0m   │ \u001b[32mIndependent\u001b[0m │           \u001b[1;36m0\u001b[0m │ \u001b[32mACCOMACK COUNTY\u001b[0m │ \u001b[32m## Provisional\u001b[0m │ \u001b[32mTown              \u001b[0m │ \u001b[32mPARKSLEY    \u001b[0m │ \u001b[32mMember Town Council - Parksley \u001b[0m │  \u001b[1;36m2021\u001b[0m │  \u001b[2mNULL\u001b[0m │ \u001b[35m2021-11-02\u001b[0m    │\n",
       "│        \u001b[2m…\u001b[0m │ \u001b[2m…\u001b[0m         │ \u001b[2m…\u001b[0m          │ \u001b[2m…\u001b[0m              │ \u001b[2m…\u001b[0m      │ \u001b[2m…\u001b[0m           │           \u001b[2m…\u001b[0m │ \u001b[2m…\u001b[0m               │ \u001b[2m…\u001b[0m              │ \u001b[2m…\u001b[0m                  │ \u001b[2m…\u001b[0m            │ \u001b[2m…\u001b[0m                               │     \u001b[2m…\u001b[0m │     \u001b[2m…\u001b[0m │ \u001b[2m…\u001b[0m             │\n",
       "└──────────┴───────────┴────────────┴────────────────┴────────┴─────────────┴─────────────┴─────────────────┴────────────────┴────────────────────┴──────────────┴─────────────────────────────────┴───────┴───────┴───────────────┘"
      ]
     },
     "execution_count": 4,
     "metadata": {},
     "output_type": "execute_result"
    }
   ],
   "source": [
    "t = raw\n",
    "assert (t.ElectionType == \"General\").all().execute()\n",
    "t = t.drop(\"ElectionType\")\n",
    "t = t.drop(\"ElectionName\")\n",
    "\n",
    "t = t.drop(\n",
    "    \"CandidateUid\",\n",
    "    \"LocalityUid\",\n",
    "    \"LocalityCode\",\n",
    "    \"PrecinctUid\",\n",
    "    \"DistrictUid\",\n",
    "    \"OfficeUid\",\n",
    "    \"ElectionUid\",\n",
    ")\n",
    "t = t.mutate(votes=_.TOTAL_VOTES).drop(\"TOTAL_VOTES\")\n",
    "t = t.mutate(election_date=_.ElectionDate.date()).drop(\"ElectionDate\")\n",
    "\n",
    "assert (t.election_date.nunique()).execute() == len(urls)\n",
    "t = t.cache()\n",
    "t.widget()"
   ]
  },
  {
   "cell_type": "code",
   "execution_count": 5,
   "metadata": {},
   "outputs": [],
   "source": [
    "def make_county_fips_lookup() -> ibis.Table:\n",
    "    t = ibis.read_parquet(\"../data/cleaned.parquet\")\n",
    "    return t.select(\n",
    "        \"state_po\",\n",
    "        \"county_name\",\n",
    "        \"county_fips\",\n",
    "    ).distinct()\n",
    "\n",
    "\n",
    "def add_county_fips(t: ibis.Table) -> ibis.Table:\n",
    "    lookup = make_county_fips_lookup()\n",
    "    return t.left_join(lookup, [\"state_po\", \"county_name\"]).drop(\n",
    "        \"state_po_right\", \"county_name_right\"\n",
    "    )\n",
    "\n",
    "\n",
    "t = t.mutate(\n",
    "    state_po=ibis.literal(\"VA\"),\n",
    "    county_name=_.LocalityName.upper().replace(\" & \", \" AND \").replace(\" COUNTY\", \"\"),\n",
    ").drop(\"LocalityName\")\n",
    "t = add_county_fips(t)"
   ]
  },
  {
   "cell_type": "code",
   "execution_count": 6,
   "metadata": {},
   "outputs": [
    {
     "data": {
      "application/vnd.jupyter.widget-view+json": {
       "model_id": "4d4e99652e634f7a805994f68493a829",
       "version_major": 2,
       "version_minor": 0
      },
      "text/plain": [
       "┏━━━━━━━━━━┳━━━━━━━━━━━━━┳━━━━━━━━━━━━━━━━━━━━━━━━━┳━━━━━━━━━━━━━━━━━━━━┳━━━━━━━━━━━━━━┳━━━━━━━━━━━━━━━━━━━━━━━━━━━━━━━━━━━━━━━━━━━━━━━━━━━━━━━━━━━━━━━━━┳━━━━━━━┳━━━━━━━┳━━━━━━━━━━━━━━━┳━━━━━━━━━━┳━━━━━━━━━━━━━━━━━━━┳━━━━━━━━━━━━━┳━━━━━━━━━━━━━━━━━━━━━━━━━━━━━┳━━━━━━━━━┓\n",
       "┃\u001b[1m \u001b[0m\u001b[1m__row_id\u001b[0m\u001b[1m \u001b[0m┃\u001b[1m \u001b[0m\u001b[1mParty\u001b[0m\u001b[1m      \u001b[0m\u001b[1m \u001b[0m┃\u001b[1m \u001b[0m\u001b[1mPrecinctName\u001b[0m\u001b[1m           \u001b[0m\u001b[1m \u001b[0m┃\u001b[1m \u001b[0m\u001b[1mDistrictType\u001b[0m\u001b[1m      \u001b[0m\u001b[1m \u001b[0m┃\u001b[1m \u001b[0m\u001b[1mDistrictName\u001b[0m\u001b[1m \u001b[0m┃\u001b[1m \u001b[0m\u001b[1mOfficeTitle\u001b[0m\u001b[1m                                                    \u001b[0m\u001b[1m \u001b[0m┃\u001b[1m \u001b[0m\u001b[1myear\u001b[0m\u001b[1m \u001b[0m\u001b[1m \u001b[0m┃\u001b[1m \u001b[0m\u001b[1mvotes\u001b[0m\u001b[1m \u001b[0m┃\u001b[1m \u001b[0m\u001b[1melection_date\u001b[0m\u001b[1m \u001b[0m┃\u001b[1m \u001b[0m\u001b[1mstate_po\u001b[0m\u001b[1m \u001b[0m┃\u001b[1m \u001b[0m\u001b[1mcounty_name\u001b[0m\u001b[1m      \u001b[0m\u001b[1m \u001b[0m┃\u001b[1m \u001b[0m\u001b[1mcounty_fips\u001b[0m\u001b[1m \u001b[0m┃\u001b[1m \u001b[0m\u001b[1mcandidate\u001b[0m\u001b[1m                  \u001b[0m\u001b[1m \u001b[0m┃\u001b[1m \u001b[0m\u001b[1mwritein\u001b[0m\u001b[1m \u001b[0m┃\n",
       "┡━━━━━━━━━━╇━━━━━━━━━━━━━╇━━━━━━━━━━━━━━━━━━━━━━━━━╇━━━━━━━━━━━━━━━━━━━━╇━━━━━━━━━━━━━━╇━━━━━━━━━━━━━━━━━━━━━━━━━━━━━━━━━━━━━━━━━━━━━━━━━━━━━━━━━━━━━━━━━╇━━━━━━━╇━━━━━━━╇━━━━━━━━━━━━━━━╇━━━━━━━━━━╇━━━━━━━━━━━━━━━━━━━╇━━━━━━━━━━━━━╇━━━━━━━━━━━━━━━━━━━━━━━━━━━━━╇━━━━━━━━━┩\n",
       "│ \u001b[2mint64\u001b[0m    │ \u001b[2mstring\u001b[0m      │ \u001b[2mstring\u001b[0m                  │ \u001b[2mstring\u001b[0m             │ \u001b[2mstring\u001b[0m       │ \u001b[2mstring\u001b[0m                                                          │ \u001b[2mint16\u001b[0m │ \u001b[2mint64\u001b[0m │ \u001b[2mdate\u001b[0m          │ \u001b[2mstring\u001b[0m   │ \u001b[2mstring\u001b[0m            │ \u001b[2mstring\u001b[0m      │ \u001b[2mstring\u001b[0m                      │ \u001b[2mboolean\u001b[0m │\n",
       "├──────────┼─────────────┼─────────────────────────┼────────────────────┼──────────────┼─────────────────────────────────────────────────────────────────┼───────┼───────┼───────────────┼──────────┼───────────────────┼─────────────┼─────────────────────────────┼─────────┤\n",
       "│        \u001b[1;36m0\u001b[0m │ \u001b[32mIndependent\u001b[0m │ \u001b[32m704 - RICHARDSVILLE    \u001b[0m │ \u001b[2mNULL\u001b[0m               │ \u001b[2mNULL\u001b[0m         │ \u001b[32mSoil and Water Conservation Director Culpeper District         \u001b[0m │  \u001b[1;36m2019\u001b[0m │   \u001b[1;36m276\u001b[0m │ \u001b[35m2019-11-05\u001b[0m    │ \u001b[32mVA      \u001b[0m │ \u001b[32mCULPEPER         \u001b[0m │ \u001b[32m51047      \u001b[0m │ \u001b[32mTHOMAS ALVIN O'HALLORAN JR.\u001b[0m │ False   │\n",
       "│        \u001b[1;36m1\u001b[0m │ \u001b[32mDemocratic \u001b[0m │ \u001b[32m501 - PRECINCT 5       \u001b[0m │ \u001b[32mHouse of Delegates\u001b[0m │ \u001b[32m061         \u001b[0m │ \u001b[32mMember House of Delegates                                      \u001b[0m │  \u001b[1;36m2019\u001b[0m │   \u001b[1;36m200\u001b[0m │ \u001b[35m2019-11-05\u001b[0m    │ \u001b[32mVA      \u001b[0m │ \u001b[32mCUMBERLAND       \u001b[0m │ \u001b[32m51049      \u001b[0m │ \u001b[32mTRUDY BELL BERRY           \u001b[0m │ False   │\n",
       "│        \u001b[1;36m2\u001b[0m │ \u001b[32mRepublican \u001b[0m │ \u001b[32m504 - VINT HILL        \u001b[0m │ \u001b[2mNULL\u001b[0m               │ \u001b[2mNULL\u001b[0m         │ \u001b[32mTreasurer                                                      \u001b[0m │  \u001b[1;36m2019\u001b[0m │  \u001b[1;36m1776\u001b[0m │ \u001b[35m2019-11-05\u001b[0m    │ \u001b[32mVA      \u001b[0m │ \u001b[32mFAUQUIER         \u001b[0m │ \u001b[32m51061      \u001b[0m │ \u001b[32mTANYA REMSON WILCOX        \u001b[0m │ False   │\n",
       "│        \u001b[1;36m3\u001b[0m │ \u001b[32mRepublican \u001b[0m │ \u001b[32m501 - INDIAN VALLEY    \u001b[0m │ \u001b[2mNULL\u001b[0m               │ \u001b[2mNULL\u001b[0m         │ \u001b[32mCommonwealth's Attorney                                        \u001b[0m │  \u001b[1;36m2019\u001b[0m │   \u001b[1;36m677\u001b[0m │ \u001b[35m2019-11-05\u001b[0m    │ \u001b[32mVA      \u001b[0m │ \u001b[32mFLOYD            \u001b[0m │ \u001b[32m51063      \u001b[0m │ \u001b[32mWILLIAM ERIC BRANSCOM      \u001b[0m │ False   │\n",
       "│        \u001b[1;36m4\u001b[0m │ \u001b[32mIndependent\u001b[0m │ \u001b[32m703 - ROCKY MOUNT SOUTH\u001b[0m │ \u001b[2mNULL\u001b[0m               │ \u001b[2mNULL\u001b[0m         │ \u001b[32mSheriff                                                        \u001b[0m │  \u001b[1;36m2019\u001b[0m │   \u001b[1;36m364\u001b[0m │ \u001b[35m2019-11-05\u001b[0m    │ \u001b[32mVA      \u001b[0m │ \u001b[32mFRANKLIN         \u001b[0m │ \u001b[32m51067      \u001b[0m │ \u001b[32mWILLIAM QUINTON OVERTON JR.\u001b[0m │ False   │\n",
       "│        \u001b[1;36m5\u001b[0m │ \u001b[32mIndependent\u001b[0m │ \u001b[32m203 -  WEST            \u001b[0m │ \u001b[2mNULL\u001b[0m               │ \u001b[2mNULL\u001b[0m         │ \u001b[32mSoil and Water Conservation Director Shenandoah Valley District\u001b[0m │  \u001b[1;36m2019\u001b[0m │   \u001b[1;36m757\u001b[0m │ \u001b[35m2019-11-05\u001b[0m    │ \u001b[32mVA      \u001b[0m │ \u001b[32mHARRISONBURG CITY\u001b[0m │ \u001b[32m51660      \u001b[0m │ \u001b[32mWILLIAM KNUT LATHAM        \u001b[0m │ False   │\n",
       "│        \u001b[1;36m6\u001b[0m │ \u001b[32mIndependent\u001b[0m │ \u001b[32m010 - HEADWATERS       \u001b[0m │ \u001b[2mNULL\u001b[0m               │ \u001b[2mNULL\u001b[0m         │ \u001b[32mCommissioner of Revenue                                        \u001b[0m │  \u001b[1;36m2019\u001b[0m │    \u001b[1;36m36\u001b[0m │ \u001b[35m2019-11-05\u001b[0m    │ \u001b[32mVA      \u001b[0m │ \u001b[32mHIGHLAND         \u001b[0m │ \u001b[32m51091      \u001b[0m │ \u001b[32mYVONNE ELIZABETH WIMER     \u001b[0m │ False   │\n",
       "│        \u001b[1;36m7\u001b[0m │ \u001b[32mRepublican \u001b[0m │ \u001b[32m504 - KEOKEE           \u001b[0m │ \u001b[32mState Senate      \u001b[0m │ \u001b[32m040         \u001b[0m │ \u001b[32mMember Senate of Virginia                                      \u001b[0m │  \u001b[1;36m2019\u001b[0m │    \u001b[1;36m89\u001b[0m │ \u001b[35m2019-11-05\u001b[0m    │ \u001b[32mVA      \u001b[0m │ \u001b[32mLEE              \u001b[0m │ \u001b[32m51105      \u001b[0m │ \u001b[32mTODD EDWARD PILLION        \u001b[0m │ False   │\n",
       "│        \u001b[1;36m8\u001b[0m │ \u001b[32mIndependent\u001b[0m │ \u001b[32m702 - SOUTH ANNA       \u001b[0m │ \u001b[2mNULL\u001b[0m               │ \u001b[2mNULL\u001b[0m         │ \u001b[32mSheriff                                                        \u001b[0m │  \u001b[1;36m2019\u001b[0m │   \u001b[1;36m130\u001b[0m │ \u001b[35m2019-11-05\u001b[0m    │ \u001b[32mVA      \u001b[0m │ \u001b[32mLOUISA           \u001b[0m │ \u001b[32m51109      \u001b[0m │ \u001b[32mTROY COOPER PAINTING       \u001b[0m │ False   │\n",
       "│        \u001b[1;36m9\u001b[0m │ \u001b[32mDemocratic \u001b[0m │ \u001b[32m903 - CLARKSVILLE      \u001b[0m │ \u001b[32mState Senate      \u001b[0m │ \u001b[32m015         \u001b[0m │ \u001b[32mMember Senate of Virginia                                      \u001b[0m │  \u001b[1;36m2019\u001b[0m │   \u001b[1;36m195\u001b[0m │ \u001b[35m2019-11-05\u001b[0m    │ \u001b[32mVA      \u001b[0m │ \u001b[32mMECKLENBURG      \u001b[0m │ \u001b[32m51117      \u001b[0m │ \u001b[32mVIRGINIA MAE SMITH         \u001b[0m │ False   │\n",
       "│        \u001b[2m…\u001b[0m │ \u001b[2m…\u001b[0m           │ \u001b[2m…\u001b[0m                       │ \u001b[2m…\u001b[0m                  │ \u001b[2m…\u001b[0m            │ \u001b[2m…\u001b[0m                                                               │     \u001b[2m…\u001b[0m │     \u001b[2m…\u001b[0m │ \u001b[2m…\u001b[0m             │ \u001b[2m…\u001b[0m        │ \u001b[2m…\u001b[0m                 │ \u001b[2m…\u001b[0m           │ \u001b[2m…\u001b[0m                           │ \u001b[2m…\u001b[0m       │\n",
       "└──────────┴─────────────┴─────────────────────────┴────────────────────┴──────────────┴─────────────────────────────────────────────────────────────────┴───────┴───────┴───────────────┴──────────┴───────────────────┴─────────────┴─────────────────────────────┴─────────┘"
      ]
     },
     "execution_count": 6,
     "metadata": {},
     "output_type": "execute_result"
    }
   ],
   "source": [
    "t = t.mutate(\n",
    "    candidate=(\n",
    "        _.FirstName.fill_null(\"\")\n",
    "        + \" \"\n",
    "        + _.MiddleName.fill_null(\"\")\n",
    "        + \" \"\n",
    "        + _.LastName.fill_null(\"\")\n",
    "        + \" \"\n",
    "        + _.Suffix.fill_null(\"\")\n",
    "    )\n",
    "    .re_replace(r\"\\s+\", \" \")\n",
    "    .strip()\n",
    "    .upper(),\n",
    ").drop(\"FirstName\", \"MiddleName\", \"LastName\", \"Suffix\")\n",
    "\n",
    "assert (t.filter(_.WriteInVote != 0).candidate == \"WRITE IN VOTES\").all().execute()\n",
    "assert (t.filter(_.WriteInVote == 0).candidate != \"WRITE IN VOTES\").all().execute()\n",
    "assert (t.filter(_.candidate == \"WRITE IN VOTES\").WriteInVote == 1).all().execute()\n",
    "assert (t.filter(_.candidate != \"WRITE IN VOTES\").WriteInVote == 0).all().execute()\n",
    "\n",
    "t = t.mutate(\n",
    "    writein=_.WriteInVote == 1,\n",
    "    candidate=ibis.case().when(_.WriteInVote == 1, \"WRITEIN\").else_(_.candidate).end(),\n",
    ").drop(\"WriteInVote\")\n",
    "t.widget()"
   ]
  },
  {
   "cell_type": "code",
   "execution_count": 7,
   "metadata": {},
   "outputs": [
    {
     "data": {
      "text/html": [
       "<div>\n",
       "<style scoped>\n",
       "    .dataframe tbody tr th:only-of-type {\n",
       "        vertical-align: middle;\n",
       "    }\n",
       "\n",
       "    .dataframe tbody tr th {\n",
       "        vertical-align: top;\n",
       "    }\n",
       "\n",
       "    .dataframe thead th {\n",
       "        text-align: right;\n",
       "    }\n",
       "</style>\n",
       "<table border=\"1\" class=\"dataframe\">\n",
       "  <thead>\n",
       "    <tr style=\"text-align: right;\">\n",
       "      <th></th>\n",
       "      <th>Party</th>\n",
       "      <th>CountStar()</th>\n",
       "    </tr>\n",
       "  </thead>\n",
       "  <tbody>\n",
       "    <tr>\n",
       "      <th>0</th>\n",
       "      <td>None</td>\n",
       "      <td>57780</td>\n",
       "    </tr>\n",
       "    <tr>\n",
       "      <th>1</th>\n",
       "      <td>Democratic</td>\n",
       "      <td>37692</td>\n",
       "    </tr>\n",
       "    <tr>\n",
       "      <th>2</th>\n",
       "      <td>Republican</td>\n",
       "      <td>36698</td>\n",
       "    </tr>\n",
       "    <tr>\n",
       "      <th>3</th>\n",
       "      <td>Independent</td>\n",
       "      <td>35117</td>\n",
       "    </tr>\n",
       "    <tr>\n",
       "      <th>4</th>\n",
       "      <td>Libertarian</td>\n",
       "      <td>3337</td>\n",
       "    </tr>\n",
       "    <tr>\n",
       "      <th>5</th>\n",
       "      <td>Liberation</td>\n",
       "      <td>3079</td>\n",
       "    </tr>\n",
       "    <tr>\n",
       "      <th>6</th>\n",
       "      <td>Write-In</td>\n",
       "      <td>476</td>\n",
       "    </tr>\n",
       "    <tr>\n",
       "      <th>7</th>\n",
       "      <td>Green</td>\n",
       "      <td>172</td>\n",
       "    </tr>\n",
       "  </tbody>\n",
       "</table>\n",
       "</div>"
      ],
      "text/plain": [
       "         Party  CountStar()\n",
       "0         None        57780\n",
       "1   Democratic        37692\n",
       "2   Republican        36698\n",
       "3  Independent        35117\n",
       "4  Libertarian         3337\n",
       "5   Liberation         3079\n",
       "6     Write-In          476\n",
       "7        Green          172"
      ]
     },
     "execution_count": 7,
     "metadata": {},
     "output_type": "execute_result"
    }
   ],
   "source": [
    "t.Party.topk(10).execute()"
   ]
  },
  {
   "cell_type": "code",
   "execution_count": 8,
   "metadata": {},
   "outputs": [],
   "source": [
    "# when party is write-in, that isn't a writein *candidate*:\n",
    "# Their name actually appeared on the ballot, but they chose to\n",
    "# use the write-in party.\n",
    "assert (~t.filter(_.Party == \"Write-In\").writein).all().execute()"
   ]
  },
  {
   "cell_type": "code",
   "execution_count": 9,
   "metadata": {},
   "outputs": [],
   "source": [
    "party_mapping = {\n",
    "    \"Democratic\": (\"DEMOCRAT\", \"DEMOCRAT\"),\n",
    "    \"Republican\": (\"REPUBLICAN\", \"REPUBLICAN\"),\n",
    "    \"Libertarian\": (\"LIBERTARIAN\", \"LIBERTARIAN\"),\n",
    "    \"Liberation\": (\"OTHER\", \"LIBERATION\"),\n",
    "    \"Green\": (\"GREEN\", \"GREEN\"),\n",
    "    \"Independent\": (\"INDEPENDENT\", \"INDEPENDENT\"),\n",
    "    \"Write-In\": (\"OTHER\", None),\n",
    "}\n",
    "assert t.Party.isin(list(party_mapping)).all().execute()\n",
    "simplified = ed.util.cases(*[(t.Party == k, v[0]) for k, v in party_mapping.items()])\n",
    "detailed = ed.util.cases(*[(t.Party == k, v[1]) for k, v in party_mapping.items()])\n",
    "t = t.mutate(party_simplified=simplified, party_detailed=detailed).drop(\"Party\")\n",
    "ed.tests.test_party(t)"
   ]
  },
  {
   "cell_type": "code",
   "execution_count": 14,
   "metadata": {},
   "outputs": [
    {
     "data": {
      "application/vnd.jupyter.widget-view+json": {
       "model_id": "eabf436a424a4878b79d19a9676c2499",
       "version_major": 2,
       "version_minor": 0
      },
      "text/plain": [
       "┏━━━━━━━━━━┳━━━━━━━━━━━━━━━━━━┳━━━━━━━━━━━━━━━━━━━━━━━━┳━━━━━━━━━━━━━━━━━━━━━━━━━━━━━━━━━━━━━━━┓\n",
       "┃\u001b[1m \u001b[0m\u001b[1m__row_id\u001b[0m\u001b[1m \u001b[0m┃\u001b[1m \u001b[0m\u001b[1mparty_simplified\u001b[0m\u001b[1m \u001b[0m┃\u001b[1m \u001b[0m\u001b[1mparty_detailed\u001b[0m\u001b[1m        \u001b[0m\u001b[1m \u001b[0m┃\u001b[1m \u001b[0m\u001b[1mparty_simplified_party_detailed_count\u001b[0m\u001b[1m \u001b[0m┃\n",
       "┡━━━━━━━━━━╇━━━━━━━━━━━━━━━━━━╇━━━━━━━━━━━━━━━━━━━━━━━━╇━━━━━━━━━━━━━━━━━━━━━━━━━━━━━━━━━━━━━━━┩\n",
       "│ \u001b[2mint64\u001b[0m    │ \u001b[2mstring\u001b[0m           │ \u001b[2mstring\u001b[0m                 │ \u001b[2mint64\u001b[0m                                 │\n",
       "├──────────┼──────────────────┼────────────────────────┼───────────────────────────────────────┤\n",
       "│        \u001b[1;36m0\u001b[0m │ \u001b[32mINDEPENDENT     \u001b[0m │ \u001b[32mINDEPENDENT           \u001b[0m │                                \u001b[1;36m738796\u001b[0m │\n",
       "│        \u001b[1;36m1\u001b[0m │ \u001b[32mOTHER           \u001b[0m │ \u001b[32mUNITY                 \u001b[0m │                                 \u001b[1;36m24156\u001b[0m │\n",
       "│        \u001b[1;36m2\u001b[0m │ \u001b[32mOTHER           \u001b[0m │ \u001b[32mFREEDOM AND PROSPERITY\u001b[0m │                                  \u001b[1;36m4062\u001b[0m │\n",
       "│        \u001b[1;36m3\u001b[0m │ \u001b[32mOTHER           \u001b[0m │ \u001b[32mBECOMING ONE NATION   \u001b[0m │                                  \u001b[1;36m4062\u001b[0m │\n",
       "│        \u001b[1;36m4\u001b[0m │ \u001b[32mOTHER           \u001b[0m │ \u001b[32mNO AFFILIATION        \u001b[0m │                                 \u001b[1;36m19992\u001b[0m │\n",
       "│        \u001b[1;36m5\u001b[0m │ \u001b[32mOTHER           \u001b[0m │ \u001b[32mINDEPENDENCE-ALLIANCE \u001b[0m │                                  \u001b[1;36m4169\u001b[0m │\n",
       "│        \u001b[1;36m6\u001b[0m │ \u001b[32mOTHER           \u001b[0m │ \u001b[32mNOT FOR SALE          \u001b[0m │                                   \u001b[1;36m104\u001b[0m │\n",
       "│        \u001b[1;36m7\u001b[0m │ \u001b[32mOTHER           \u001b[0m │ \u001b[32mLIBERAL               \u001b[0m │                                    \u001b[1;36m99\u001b[0m │\n",
       "│        \u001b[1;36m8\u001b[0m │ \u001b[32mOTHER           \u001b[0m │ \u001b[32mSOCIALIST             \u001b[0m │                                  \u001b[1;36m8672\u001b[0m │\n",
       "│        \u001b[1;36m9\u001b[0m │ \u001b[32mOTHER           \u001b[0m │ \u001b[32mGREEN INDEPENDENT     \u001b[0m │                                   \u001b[1;36m570\u001b[0m │\n",
       "│        \u001b[2m…\u001b[0m │ \u001b[2m…\u001b[0m                │ \u001b[2m…\u001b[0m                      │                                     \u001b[2m…\u001b[0m │\n",
       "└──────────┴──────────────────┴────────────────────────┴───────────────────────────────────────┘"
      ]
     },
     "execution_count": 14,
     "metadata": {},
     "output_type": "execute_result"
    }
   ],
   "source": [
    "gold = ibis.read_parquet(\"../data/cleaned.parquet\")\n",
    "(\n",
    "    gold.filter(\n",
    "        True,\n",
    "        # _.state_po == \"VA\",\n",
    "        # _.candidate.length() > 10,\n",
    "        # _.writein,\n",
    "        # _.party_simplified != \"OTHER\",\n",
    "        # _.party_simplified != _.party_detailed,\n",
    "        # _.party_detailed == \"LIBERATION\",\n",
    "        # _.party_simplified == \"INDEPENDENT\",\n",
    "        # _.party_simplified == \"INDEPENDENT\",\n",
    "    )\n",
    "    .select(\n",
    "        # \"state_po\",\n",
    "        \"party_simplified\",\n",
    "        \"party_detailed\",\n",
    "    )\n",
    "    .value_counts()\n",
    ").widget()"
   ]
  },
  {
   "cell_type": "code",
   "execution_count": 16,
   "metadata": {},
   "outputs": [
    {
     "data": {
      "text/plain": [
       "['TOTAL',\n",
       " 'ELECTION DAY',\n",
       " 'ABSENTEE',\n",
       " 'PROVISIONAL',\n",
       " 'EARLY',\n",
       " 'NOT ABSENTEE',\n",
       " 'ABSENTEE BY MAIL',\n",
       " 'UNSPECIFIED',\n",
       " 'ONE STOP',\n",
       " 'IN-PERSON',\n",
       " 'MAIL',\n",
       " 'WRITE-IN',\n",
       " 'MAIL-IN CANVASS 1',\n",
       " 'MAIL-IN CANVASS 2',\n",
       " 'EARLY VOTING - IVO',\n",
       " 'ELECTION DAY - IVO',\n",
       " 'ELECTION DAY - OSS',\n",
       " 'EARLY VOTING - OSS',\n",
       " '2ND ABSENTEE',\n",
       " 'ADVANCE IN PERSON',\n",
       " 'FAILSAFE',\n",
       " 'FAILSAFE PROVISIONAL',\n",
       " 'IN PERSON ABSENTEE',\n",
       " 'MACHINE',\n",
       " 'ADVANCE IN PERSON 2',\n",
       " 'MAIL BALLOTS',\n",
       " 'ADVANCE IN PERSON 1',\n",
       " 'ABSENTEE / MILITARY',\n",
       " 'AFFIDAVIT',\n",
       " 'ADVANCE IN PERSON 3']"
      ]
     },
     "execution_count": 16,
     "metadata": {},
     "output_type": "execute_result"
    }
   ],
   "source": [
    "gold.mode.topk(30).mode.execute().to_list()"
   ]
  },
  {
   "cell_type": "code",
   "execution_count": 13,
   "metadata": {},
   "outputs": [
    {
     "ename": "IbisTypeError",
     "evalue": "Cannot fill_null on column 'year' of type int16 with a value of type string - pass in an explicit mapping of fill values to `fill_null` instead.",
     "output_type": "error",
     "traceback": [
      "\u001b[0;31m---------------------------------------------------------------------------\u001b[0m",
      "\u001b[0;31mIbisTypeError\u001b[0m                             Traceback (most recent call last)",
      "Cell \u001b[0;32mIn[13], line 5\u001b[0m\n\u001b[1;32m      1\u001b[0m \u001b[38;5;66;03m# ported from https://github.com/MEDSL/replication-scripts/blob/634832bc7c2df2c0a2238bc16781d07d581d3a3a/va2018.py\u001b[39;00m\n\u001b[1;32m      2\u001b[0m \n\u001b[1;32m      3\u001b[0m \n\u001b[1;32m      4\u001b[0m \u001b[38;5;66;03m# Fill NA values with an empty string\u001b[39;00m\n\u001b[0;32m----> 5\u001b[0m t \u001b[38;5;241m=\u001b[39m \u001b[43mt\u001b[49m\u001b[38;5;241;43m.\u001b[39;49m\u001b[43mfill_null\u001b[49m\u001b[43m(\u001b[49m\u001b[38;5;124;43m\"\u001b[39;49m\u001b[38;5;124;43m\"\u001b[39;49m\u001b[43m)\u001b[49m\n\u001b[1;32m      7\u001b[0m \u001b[38;5;66;03m# Replace specific county name\u001b[39;00m\n\u001b[1;32m      8\u001b[0m t \u001b[38;5;241m=\u001b[39m t\u001b[38;5;241m.\u001b[39mmutate(\n\u001b[1;32m      9\u001b[0m     county_name\u001b[38;5;241m=\u001b[39mibis\u001b[38;5;241m.\u001b[39mcase()\n\u001b[1;32m     10\u001b[0m     \u001b[38;5;241m.\u001b[39mwhen(t\u001b[38;5;241m.\u001b[39mcounty_name \u001b[38;5;241m==\u001b[39m \u001b[38;5;124m\"\u001b[39m\u001b[38;5;124mKING & QUEEN\u001b[39m\u001b[38;5;124m\"\u001b[39m, \u001b[38;5;124m\"\u001b[39m\u001b[38;5;124mKING AND QUEEN\u001b[39m\u001b[38;5;124m\"\u001b[39m)\n\u001b[1;32m     11\u001b[0m     \u001b[38;5;241m.\u001b[39melse_(t\u001b[38;5;241m.\u001b[39mcounty_name)\n\u001b[1;32m     12\u001b[0m     \u001b[38;5;241m.\u001b[39mend()\n\u001b[1;32m     13\u001b[0m )\n",
      "File \u001b[0;32m~/code/scg/election-data/.venv/lib/python3.11/site-packages/ibis/expr/types/relations.py:2706\u001b[0m, in \u001b[0;36mTable.fill_null\u001b[0;34m(self, replacements)\u001b[0m\n\u001b[1;32m   2704\u001b[0m     \u001b[38;5;28;01mfor\u001b[39;00m col, col_type \u001b[38;5;129;01min\u001b[39;00m schema\u001b[38;5;241m.\u001b[39mitems():\n\u001b[1;32m   2705\u001b[0m         \u001b[38;5;28;01mif\u001b[39;00m col_type\u001b[38;5;241m.\u001b[39mnullable \u001b[38;5;129;01mand\u001b[39;00m \u001b[38;5;129;01mnot\u001b[39;00m val_type\u001b[38;5;241m.\u001b[39mcastable(col_type):\n\u001b[0;32m-> 2706\u001b[0m             \u001b[38;5;28;01mraise\u001b[39;00m com\u001b[38;5;241m.\u001b[39mIbisTypeError(\n\u001b[1;32m   2707\u001b[0m                 \u001b[38;5;124mf\u001b[39m\u001b[38;5;124m\"\u001b[39m\u001b[38;5;124mCannot fill_null on column \u001b[39m\u001b[38;5;132;01m{\u001b[39;00mcol\u001b[38;5;132;01m!r}\u001b[39;00m\u001b[38;5;124m of type \u001b[39m\u001b[38;5;132;01m{\u001b[39;00mcol_type\u001b[38;5;132;01m}\u001b[39;00m\u001b[38;5;124m with a \u001b[39m\u001b[38;5;124m\"\u001b[39m\n\u001b[1;32m   2708\u001b[0m                 \u001b[38;5;124mf\u001b[39m\u001b[38;5;124m\"\u001b[39m\u001b[38;5;124mvalue of type \u001b[39m\u001b[38;5;132;01m{\u001b[39;00mval_type\u001b[38;5;132;01m}\u001b[39;00m\u001b[38;5;124m - pass in an explicit mapping \u001b[39m\u001b[38;5;124m\"\u001b[39m\n\u001b[1;32m   2709\u001b[0m                 \u001b[38;5;124mf\u001b[39m\u001b[38;5;124m\"\u001b[39m\u001b[38;5;124mof fill values to `fill_null` instead.\u001b[39m\u001b[38;5;124m\"\u001b[39m\n\u001b[1;32m   2710\u001b[0m             )\n\u001b[1;32m   2711\u001b[0m \u001b[38;5;28;01mreturn\u001b[39;00m ops\u001b[38;5;241m.\u001b[39mFillNull(\u001b[38;5;28mself\u001b[39m, replacements)\u001b[38;5;241m.\u001b[39mto_expr()\n",
      "\u001b[0;31mIbisTypeError\u001b[0m: Cannot fill_null on column 'year' of type int16 with a value of type string - pass in an explicit mapping of fill values to `fill_null` instead."
     ]
    }
   ],
   "source": [
    "# ported from https://github.com/MEDSL/replication-scripts/blob/634832bc7c2df2c0a2238bc16781d07d581d3a3a/va2018.py\n",
    "\n",
    "\n",
    "# Fill NA values with an empty string\n",
    "t = t.fill_null(\"\")\n",
    "\n",
    "# Replace specific county name\n",
    "t = t.mutate(\n",
    "    county_name=ibis.case()\n",
    "    .when(t.county_name == \"KING & QUEEN\", \"KING AND QUEEN\")\n",
    "    .else_(t.county_name)\n",
    "    .end()\n",
    ")\n",
    "\n",
    "# Load and merge FIPS codes\n",
    "fips = con.table(\"../../../help-files/county-fips-codes.csv\")\n",
    "fips = fips.mutate(state=fips.state.upper())\n",
    "t = t.join(fips, [\"state\", \"county_name\"], how=\"left\")\n",
    "t = t.mutate(county_fips=t.county_fips.cast(\"string\").zfill(5))\n",
    "\n",
    "# Load jurisdiction FIPS and merge based on conditions\n",
    "juris_fips = con.table(\"../../../help-files/jurisdiction-fips-codes.csv\")\n",
    "juris_fips = juris_fips.mutate(state=juris_fips.state.upper())\n",
    "\n",
    "states_w_juris = (\n",
    "    juris_fips.filter(juris_fips.jurisdiction_fips.length() > 5)\n",
    "    .state.distinct()\n",
    "    .to_list()\n",
    ")\n",
    "if t.state.distinct().execute()[0] not in states_w_juris:\n",
    "    t = t.mutate(jurisdiction_fips=t.county_fips, jurisdiction_name=t.county_name)\n",
    "else:\n",
    "    juris_fips = juris_fips.mutate(\n",
    "        county_fips=juris_fips.jurisdiction_fips.str.zfill(10).substr(0, 5)\n",
    "    )\n",
    "    t = t.join(juris_fips, [\"state\", \"county_fips\", \"jurisdiction_name\"], how=\"left\")\n",
    "    t = t.mutate(\n",
    "        jurisdiction_fips=ibis.ifelse(\n",
    "            t.jurisdiction_fips.isnull(),\n",
    "            \"Missing Jurisdiction FIPS\",\n",
    "            t.jurisdiction_fips,\n",
    "        )\n",
    "    )\n",
    "\n",
    "# Pad and clean district codes\n",
    "t = t.mutate(\n",
    "    district=t.district.zfill(3).replace(\n",
    "        {\"00A\": \"A\", \"00B\": \"B\", \"00C\": \"C\", \"000\": \"\"}\n",
    "    )\n",
    ")\n",
    "\n",
    "# Set date and readme_check values\n",
    "t = t.mutate(date=\"2018-11-06\", readme_check=\"FALSE\")\n",
    "\n",
    "# Merge magnitudes data\n",
    "mags = con.table(\"magnitudes.csv\").fillna(\"\")\n",
    "t = t.join(mags, [\"office\", \"jurisdiction_name\", \"district\"], how=\"left\")\n",
    "t = t.mutate(magnitude=t.magnitude.fillna(1).cast(\"int64\"))\n",
    "\n",
    "# Write-in candidate replacements\n",
    "t = t.mutate(\n",
    "    candidate=t.candidate.replace(\"[WRITE-IN]\", \"WRITEIN\", regex=False).replace(\n",
    "        r\"\\.\", \"\", regex=True\n",
    "    )\n",
    ")\n",
    "\n",
    "# Apply specific conditions for certain office values\n",
    "t = t.mutate(\n",
    "    district=ibis.case()\n",
    "    .when(t.office == \"MEMBER BOARD OF SUPERVISORS AT LARGE\", \"AT-LARGE\")\n",
    "    .else_(t.district)\n",
    "    .end(),\n",
    "    office=ibis.case()\n",
    "    .when(\n",
    "        t.office == \"MEMBER BOARD OF SUPERVISORS AT LARGE\",\n",
    "        \"MEMBER BOARD OF SUPERVISORS\",\n",
    "    )\n",
    "    .else_(t.office)\n",
    "    .end(),\n",
    ")\n",
    "\n",
    "# Load amendments data and concatenate\n",
    "ammendments = con.table(\"va-18-ammendments.csv\", schema=official_dtypes)\n",
    "t = t.union(ammendments)\n",
    "\n",
    "# Replace boolean values with string equivalents and trim extra spaces\n",
    "t = t.replace({True: \"TRUE\", False: \"FALSE\"})\n",
    "t = t.applymap(lambda x: x.strip() if isinstance(x, str) else x)\n",
    "\n",
    "# Export to CSV\n",
    "t.to_csv(\n",
    "    \"2018-va-precinct-general-updated.csv\", quoting=csv.QUOTE_NONNUMERIC, index=False\n",
    ")\n"
   ]
  }
 ],
 "metadata": {
  "kernelspec": {
   "display_name": ".venv",
   "language": "python",
   "name": "python3"
  },
  "language_info": {
   "codemirror_mode": {
    "name": "ipython",
    "version": 3
   },
   "file_extension": ".py",
   "mimetype": "text/x-python",
   "name": "python",
   "nbconvert_exporter": "python",
   "pygments_lexer": "ipython3",
   "version": "3.11.6"
  }
 },
 "nbformat": 4,
 "nbformat_minor": 2
}
